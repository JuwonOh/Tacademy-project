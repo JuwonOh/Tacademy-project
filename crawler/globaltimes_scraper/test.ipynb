{
 "cells": [
  {
   "cell_type": "code",
   "execution_count": 8,
   "metadata": {},
   "outputs": [],
   "source": [
    "import json\n",
    "import time\n",
    "import requests\n",
    "from bs4 import BeautifulSoup\n",
    "import re\n",
    "import time\n",
    "from dateutil.parser import parse\n",
    "import Legisture_scraper\n",
    "from Legisture_scraper import parse_legislate\n",
    "from Legisture_scraper import yield_law"
   ]
  },
  {
   "cell_type": "code",
   "execution_count": 35,
   "metadata": {},
   "outputs": [],
   "source": [
    "def yield_law(bill_result, max_page =10,begin_date= '2018-01-01', title = '', lname = '', sangim ='', sleep=1.0):\n",
    "    \"\"\"\n",
    "    Artuments\n",
    "    ---------\n",
    "    law_status : str\n",
    "        eg. 2018-01-01\n",
    "    max_num : int\n",
    "        Maximum number of news to be scraped\n",
    "    sleep : float\n",
    "        Sleep time. Default 1.0 sec\n",
    "\n",
    "    It yields\n",
    "    ---------\n",
    "    news : json object\n",
    "    \"\"\"\n",
    "\n",
    "    # prepare parameters\n",
    "    \n",
    "    d_begin = parse(begin_date)\n",
    "    end_page = 30\n",
    "    n_news = 0\n",
    "    outdate = False\n",
    "\n",
    "    for page in range(0, max_page+1):\n",
    "\n",
    "        # check number of scraped news\n",
    "        if outdate:\n",
    "            break\n",
    "        \n",
    "        links_all =[]\n",
    "        url = search_url.format(page, title, lname, sangim, bill_result)\n",
    "        soup = get_soup(url)\n",
    "        sub_links = soup.find_all('tr')[1:]\n",
    "        links = [i.find('a')['href'] for i in sub_links]\n",
    "        links_all += links\n",
    "        links_all = ['http://watch.peoplepower21.org/?mid=LawInfo&'+url[29:] for url in links_all]\n",
    "        \n",
    "    return links_all"
   ]
  },
  {
   "cell_type": "code",
   "execution_count": 11,
   "metadata": {},
   "outputs": [],
   "source": [
    "\n",
    "search_url = 'http://watch.peoplepower21.org/index.php?mid=Euian&show=&page={}&title={}&rec_num=100&lname={}&sangim={}&bill_result={}'\n",
    "request_url = 'http://watch.peoplepower21.org/opages/Lawinfo/_vote_table.php'\n",
    "url_base = 'http://watch.peoplepower21.org/?mid=LawInfo&bill_no={}'\n"
   ]
  },
  {
   "cell_type": "code",
   "execution_count": 15,
   "metadata": {},
   "outputs": [],
   "source": [
    "\n",
    "def get_soup(url, headers=None):\n",
    "    \"\"\"\n",
    "    Arguments\n",
    "    ---------\n",
    "    url : str\n",
    "        Web page url\n",
    "    headers : dict\n",
    "        Headers for requests. If None, use Mozilla/5.0 as default user-agent\n",
    "    Returns\n",
    "    -------\n",
    "    soup : bs4.BeautifulSoup\n",
    "        Soup format web page\n",
    "    \"\"\"\n",
    "\n",
    "    if headers is None:\n",
    "        headers = {'User-Agent': 'Mozilla/5.0 (X11; Linux x86_64) AppleWebKit/537.36 (KHTML, like Gecko) Chrome/67.0.3396.99 Safari/537.36'}\n",
    "    r = requests.get(url, headers=headers)\n",
    "    html = r.text\n",
    "    page = BeautifulSoup(html, 'lxml')\n",
    "    return page\n",
    "\n",
    "patterns = [\n",
    "    re.compile('http://watch.peoplepower21.org[\\w]+')]\n",
    "\n",
    "def is_matched(url):\n",
    "    for pattern in patterns:\n",
    "        if pattern.match(url):\n",
    "            return True\n",
    "    return False\n"
   ]
  },
  {
   "cell_type": "code",
   "execution_count": 36,
   "metadata": {
    "scrolled": true
   },
   "outputs": [],
   "source": [
    "links_all = yield_law('원안가결', begin_date= '2018-01-01',max_page=2)"
   ]
  },
  {
   "cell_type": "code",
   "execution_count": 37,
   "metadata": {},
   "outputs": [
    {
     "data": {
      "text/plain": [
       "100"
      ]
     },
     "execution_count": 37,
     "metadata": {},
     "output_type": "execute_result"
    }
   ],
   "source": [
    "len(links_all)"
   ]
  },
  {
   "cell_type": "code",
   "execution_count": null,
   "metadata": {},
   "outputs": [],
   "source": []
  },
  {
   "cell_type": "code",
   "execution_count": 60,
   "metadata": {
    "scrolled": true
   },
   "outputs": [
    {
     "ename": "NameError",
     "evalue": "name 'url_blog' is not defined",
     "output_type": "error",
     "traceback": [
      "\u001b[1;31m---------------------------------------------------------------------------\u001b[0m",
      "\u001b[1;31mNameError\u001b[0m                                 Traceback (most recent call last)",
      "\u001b[1;32m<ipython-input-60-0817cb07c6bd>\u001b[0m in \u001b[0;36m<module>\u001b[1;34m\u001b[0m\n\u001b[0;32m      3\u001b[0m \u001b[0msleep\u001b[0m \u001b[1;33m=\u001b[0m \u001b[1;36m1.0\u001b[0m\u001b[1;33m\u001b[0m\u001b[1;33m\u001b[0m\u001b[0m\n\u001b[0;32m      4\u001b[0m \u001b[1;33m\u001b[0m\u001b[0m\n\u001b[1;32m----> 5\u001b[1;33m \u001b[1;32mfor\u001b[0m \u001b[0mi\u001b[0m\u001b[1;33m,\u001b[0m \u001b[0mjson_obj\u001b[0m \u001b[1;32min\u001b[0m \u001b[0menumerate\u001b[0m\u001b[1;33m(\u001b[0m\u001b[0myield_law\u001b[0m\u001b[1;33m(\u001b[0m\u001b[1;34m'원안가결'\u001b[0m\u001b[1;33m,\u001b[0m \u001b[0mbegin_date\u001b[0m\u001b[1;33m=\u001b[0m \u001b[1;34m'2018-01-01'\u001b[0m\u001b[1;33m,\u001b[0m\u001b[0mmax_page\u001b[0m\u001b[1;33m=\u001b[0m\u001b[1;36m1\u001b[0m\u001b[1;33m)\u001b[0m\u001b[1;33m)\u001b[0m\u001b[1;33m:\u001b[0m\u001b[1;33m\u001b[0m\u001b[1;33m\u001b[0m\u001b[0m\n\u001b[0m\u001b[0;32m      6\u001b[0m     \u001b[0mtitle\u001b[0m \u001b[1;33m=\u001b[0m \u001b[0mjson_obj\u001b[0m\u001b[1;33m[\u001b[0m\u001b[1;34m'title'\u001b[0m\u001b[1;33m]\u001b[0m\u001b[1;33m\u001b[0m\u001b[1;33m\u001b[0m\u001b[0m\n\u001b[0;32m      7\u001b[0m     \u001b[0mtime\u001b[0m \u001b[1;33m=\u001b[0m \u001b[0mjson_obj\u001b[0m\u001b[1;33m[\u001b[0m\u001b[1;34m'date'\u001b[0m\u001b[1;33m]\u001b[0m\u001b[1;33m\u001b[0m\u001b[1;33m\u001b[0m\u001b[0m\n",
      "\u001b[1;32m<ipython-input-59-d94f8b305d7e>\u001b[0m in \u001b[0;36myield_law\u001b[1;34m(bill_result, begin_date, max_page, sleep, title, lname, sangim)\u001b[0m\n\u001b[0;32m     29\u001b[0m \u001b[1;33m\u001b[0m\u001b[0m\n\u001b[0;32m     30\u001b[0m         \u001b[0mlinks_all\u001b[0m\u001b[1;33m=\u001b[0m \u001b[1;33m[\u001b[0m\u001b[1;33m]\u001b[0m\u001b[1;33m\u001b[0m\u001b[1;33m\u001b[0m\u001b[0m\n\u001b[1;32m---> 31\u001b[1;33m         \u001b[0murl\u001b[0m \u001b[1;33m=\u001b[0m \u001b[0murl_blog\u001b[0m\u001b[1;33m.\u001b[0m\u001b[0mformat\u001b[0m\u001b[1;33m(\u001b[0m\u001b[0mpage\u001b[0m\u001b[1;33m)\u001b[0m\u001b[1;33m\u001b[0m\u001b[1;33m\u001b[0m\u001b[0m\n\u001b[0m\u001b[0;32m     32\u001b[0m         \u001b[0msoup\u001b[0m \u001b[1;33m=\u001b[0m \u001b[0mget_soup\u001b[0m\u001b[1;33m(\u001b[0m\u001b[0murl\u001b[0m\u001b[1;33m)\u001b[0m\u001b[1;33m\u001b[0m\u001b[1;33m\u001b[0m\u001b[0m\n\u001b[0;32m     33\u001b[0m         \u001b[0msub_links\u001b[0m \u001b[1;33m=\u001b[0m \u001b[0msoup\u001b[0m\u001b[1;33m.\u001b[0m\u001b[0mfind_all\u001b[0m\u001b[1;33m(\u001b[0m\u001b[1;34m'tr'\u001b[0m\u001b[1;33m)\u001b[0m\u001b[1;33m[\u001b[0m\u001b[1;36m1\u001b[0m\u001b[1;33m:\u001b[0m\u001b[1;33m]\u001b[0m\u001b[1;33m\u001b[0m\u001b[1;33m\u001b[0m\u001b[0m\n",
      "\u001b[1;31mNameError\u001b[0m: name 'url_blog' is not defined"
     ]
    }
   ],
   "source": [
    "begin_date = '2018-07-01'\n",
    "max_num = 10\n",
    "sleep = 1.0\n",
    "\n",
    "for i, json_obj in enumerate(yield_law('원안가결', begin_date= '2018-01-01',max_page=1)):\n",
    "    title = json_obj['title']\n",
    "    time = json_obj['date']\n",
    "    print('[{} / {}] ({}) {}'.format(i+1, max_num, time, title))"
   ]
  },
  {
   "cell_type": "code",
   "execution_count": 259,
   "metadata": {
    "scrolled": true
   },
   "outputs": [
    {
     "data": {
      "text/plain": [
       "{'url': 'http://watch.peoplepower21.org/?mid=LawInfo&bill_no=2024354',\n",
       " 'title': '  의사일정 변경동의의 건(윤후덕의원 등 156인) ',\n",
       " 'initiator': ',윤후덕(더불어민주당/尹厚德),강병원(더불어민주당/姜炳遠),강창일(더불어민주당/姜昌一),강훈식(더불어민주당/姜勳植),고용진(더불어민주당/高榕禛),권미혁(더불어민주당/權美赫),권칠승(더불어민주당/權七勝),금태섭(더불어민주당/琴泰燮),기동민(더불어민주당/奇東旻),김경협(더불어민주당/金炅俠),김관영(바른미래당/金寬永),김광수(민주평화당/金光守),김두관(더불어민주당/金斗官),김민기(더불어민주당/金敏基),김병관(더불어민주당/金炳官),김병기(더불어민주당/金炳基),김병욱(더불어민주당/金炳旭),김부겸(더불어민주당/金富謙),김상희(더불어민주당/金相姬),김성수(더불어민주당/金聖洙),김성환(더불어민주당/金星煥),김영주(더불어민주당/金榮珠),김영진(더불어민주당/金榮鎭),김영춘(더불어민주당/金榮春),김영호(더불어민주당/金映豪),김정우(더불어민주당/金政祐),김정호(더불어민주당/金禎鎬),김종대(정의당/金鍾大),김종민(더불어민주당/金鍾民),김종회(무소속/金鍾懷),김진표(더불어민주당/金振杓),김철민(더불어민주당/金哲玟),김태년(더불어민주당/金太年),김한정(더불어민주당/金漢正),김해영(더불어민주당/金海永),김현권(더불어민주당/金玄權),김현미(더불어민주당/金賢美),남인순(더불어민주당/南仁順),노웅래(더불어민주당/盧雄來),도종환(더불어민주당/都鍾煥),맹성규(더불어민주당/孟聖奎),민병두(더불어민주당/閔丙두),민홍철(더불어민주당/閔洪喆),박경미(더불어민주당/朴炅美),박광온(더불어민주당/朴洸瑥),박범계(더불어민주당/朴範界),박병석(더불어민주당/朴炳錫),박선숙(바른미래당/朴仙淑),박영선(더불어민주당/朴映宣),박완주(더불어민주당/朴完柱),박용진(더불어민주당/朴用鎭),박재호(더불어민주당/朴在昊),박정(더불어민주당/朴釘),박주민(더불어민주당/朴柱民),박주선(바른미래당/朴柱宣),박주현(바른미래당/朴珠賢),박지원(무소속/朴智元),박찬대(더불어민주당/朴贊大),박홍근(더불어민주당/朴洪根),백재현(더불어민주당/白在鉉),백혜련(더불어민주당/白惠蓮),변재일(더불어민주당/卞在一),서삼석(더불어민주당/徐參錫),서영교(더불어민주당/徐瑛敎),서형수(더불어민주당/徐炯洙),설훈(더불어민주당/薛勳),소병훈(더불어민주당/蘇秉勳),손금주(더불어민주당/孫今柱),손혜원(무소속/孫惠園),송갑석(더불어민주당/宋甲錫),송기헌(더불어민주당/宋基憲),송영길(더불어민주당/宋永吉),송옥주(더불어민주당/宋玉珠),신경민(더불어민주당/辛京珉),신동근(더불어민주당/申東根),신창현(더불어민주당/申昌賢),심기준(더불어민주당/沈基俊),심상정(정의당/沈相정),심재권(더불어민주당/沈載權),안규백(더불어민주당/安圭伯),안민석(더불어민주당/安敏錫),안호영(더불어민주당/安浩永),어기구(더불어민주당/魚基龜),여영국(정의당/余永國),오영훈(더불어민주당/吳怜勳),오제세(더불어민주당/吳濟世),우상호(더불어민주당/禹相虎),우원식(더불어민주당/禹元植),원혜영(더불어민주당/元惠榮),위성곤(더불어민주당/魏聖坤),유동수(더불어민주당/柳東秀),유성엽(무소속/柳成葉),유승희(더불어민주당/兪承希),유은혜(더불어민주당/兪銀惠),윤관석(더불어민주당/尹官石),윤소하(정의당/尹昭夏),윤영일(무소속/尹英壹),윤일규(더불어민주당/尹一逵),윤준호(더불어민주당/尹俊晧),윤호중(더불어민주당/尹昊重),이개호(더불어민주당/李介昊),이규희(더불어민주당/李揆熙),이상민(더불어민주당/李相珉),이상헌(더불어민주당/李相憲),이석현(더불어민주당/李錫玄),이용득(더불어민주당/李龍得),이원욱(더불어민주당/李元旭),이인영(더불어민주당/李仁榮),이재정(더불어민주당/李在汀),이정미(정의당/李貞味),이종걸(더불어민주당/李鍾杰),이철희(더불어민주당/李哲熙),이춘석(더불어민주당/李春錫),이학영(더불어민주당/李學永),이해찬(더불어민주당/李海瓚),이후삼(더불어민주당/李厚三),이훈(더불어민주당/李薰),인재근(더불어민주당/印在謹),임재훈(바른미래당/林哉勳),임종성(더불어민주당/林鍾聲),장병완(무소속/張秉浣),장정숙(바른미래당/張貞淑),전재수(더불어민주당/田載秀),전해철(더불어민주당/全海澈),전현희(더불어민주당/全賢姬),전혜숙(더불어민주당/全惠淑),정동영(민주평화당/鄭東泳),정성호(더불어민주당/鄭成湖),정세균(더불어민주당/丁世均),정은혜(더불어민주당/鄭恩惠),정재호(더불어민주당/鄭在浩),정춘숙(더불어민주당/鄭春淑),제윤경(더불어민주당/諸閏景),조배숙(민주평화당/趙培淑),조승래(더불어민주당/趙承來),조응천(더불어민주당/趙應天),조정식(더불어민주당/趙正湜),주승용(바른미래당/朱昇鎔),진선미(더불어민주당/陳善美),진영(더불어민주당/陳永),채이배(바른미래당/蔡利培),천정배(무소속/千正培),최경환(무소속/崔敬煥),최도자(바른미래당/崔道子),최운열(더불어민주당/崔運烈),최인호(더불어민주당/崔仁昊),최재성(더불어민주당/崔宰誠),추미애(더불어민주당/秋美愛),추혜선(정의당/秋惠仙),표창원(더불어민주당/表蒼園),한정애(더불어민주당/韓貞愛),홍영표(더불어민주당/洪永杓),홍의락(더불어민주당/洪宜洛),홍익표(더불어민주당/洪翼杓),황주홍(민주평화당/黃柱洪),황희(더불어민주당/黃熙),',\n",
       " 'commitee': '',\n",
       " 'vote_result': ' ',\n",
       " 'summury': 'summury_error',\n",
       " 'scraping_date': '2020-01-09 16:05:19',\n",
       " 'date': '2019-12-23'}"
      ]
     },
     "execution_count": 259,
     "metadata": {},
     "output_type": "execute_result"
    }
   ],
   "source": [
    "yield_law('원안가결', begin_date= '2018-01-01',max_page=1)"
   ]
  },
  {
   "cell_type": "code",
   "execution_count": 39,
   "metadata": {
    "scrolled": true
   },
   "outputs": [],
   "source": [
    "from dateutil.parser import parse\n",
    "import re\n",
    "\n",
    "def parse_table(bill_no, bill_id):\n",
    "    request_url = 'http://watch.peoplepower21.org/opages/Lawinfo/_vote_table.php'\n",
    "    url_base = 'http://watch.peoplepower21.org/?mid=LawInfo&bill_no={}'\n",
    "    url = url_base.format(bill_no)\n",
    "\n",
    "    data = {'term_no' :20, 'meetingbill_id': bill_id}\n",
    "\n",
    "    headers = {'Referer': url,\n",
    "               'Accept-Language': 'ko-KR',\n",
    "                'host' : 'watch.peoplepower21.org',\n",
    "                'Origin': 'http://watch.peoplepower21.org',\n",
    "                'Accept-Encoding':'gzip',\n",
    "                'User-agent': 'Mozilla/5.0 (Windows NT 10.0; Win64; x64) AppleWebKit/537.36 (KHTML, like Gecko) Chrome/79.0.3945.88 Safari/537.36'}\n",
    "\n",
    "    response = requests.post(request_url, headers=headers,  data=data)\n",
    "    html = response.content\n",
    "    page = BeautifulSoup(html, 'lxml')\n",
    "\n",
    "    table = page.find_all('tr')\n",
    "    element = [status.text for status in table]\n",
    "    opts = ['찬성', '반대','기권','불참', '출장','청가', '결석']\n",
    "    ele_dic ={}\n",
    "\n",
    "    for opt in opts:\n",
    "        for ele in element:\n",
    "            if opt in ele:\n",
    "                words = re.findall('[\\n]+[가-힣]{3}|[\\n]+[가-힣]{2}', ele)\n",
    "                ele_dic[opt] = [w.replace('\\n', '') for w in words]\n",
    "            else:\n",
    "                continue\n",
    "    return ele_dic\n",
    "\n",
    "def parse_legislate(url):\n",
    "    def parse_title(soup):\n",
    "        title = soup.find('h1', align='center')\n",
    "        if not title:\n",
    "            return 'title error'\n",
    "        return title.text\n",
    "\n",
    "    def parse_commitee(soup):\n",
    "        commitee = soup.find('div', class_='panel-body')\n",
    "        if not commitee:\n",
    "            return ' '\n",
    "        return commitee.find('h4', align= 'center').text[11:]\n",
    "\n",
    "    def parse_initiator(soup):\n",
    "        initiator = soup.find_all('div', class_= 'panel-body')[2]\n",
    "        if not initiator:\n",
    "            return ' '\n",
    "        return re.sub('\\s+', ',', initiator.text)\n",
    "\n",
    "    def parse_vote(soup):\n",
    "        vote = soup.find('span', style= 'font-weight: 600')\n",
    "        if not vote:\n",
    "            return ' '\n",
    "        return vote.text\n",
    "\n",
    "    def parse_summury(soup):\n",
    "        summury = soup.find('div', class_= 'textType02')\n",
    "        if not summury:\n",
    "            return 'summury_error'\n",
    "        return summury.text\n",
    "    \n",
    "    def parse_js_id(soup):\n",
    "        main = soup.find('div' , class_ = 'panel-group')\n",
    "        js_str = main.find_all('script')\n",
    "        if not js_str:\n",
    "            return 'empty js script'\n",
    "        js_id = re.findall('[0-9]{5}', js_str[1].text)\n",
    "        return js_id[0]\n",
    "        \n",
    "    soup = get_soup(url)\n",
    "    \n",
    "    bill_id = url[52:]\n",
    "    bill_no = parse_js_id(soup)\n",
    "    \n",
    "    fist_dic =  {\n",
    "            'url': url,\n",
    "            'title': parse_title(soup),\n",
    "            'initiator': parse_initiator(soup),\n",
    "            'commitee' :parse_commitee(soup),\n",
    "            'vote_result' : parse_vote(soup),\n",
    "            'summury': parse_summury(soup)\n",
    "    }\n",
    "    \n",
    "    if 'empty js script' in bill_no:\n",
    "        return fist_dic\n",
    "    else: \n",
    "        second_dic = parse_table(bill_id, bill_no)\n",
    "        return {**fist_dic , **second_dic}\n"
   ]
  },
  {
   "cell_type": "code",
   "execution_count": 43,
   "metadata": {},
   "outputs": [
    {
     "data": {
      "text/plain": [
       "{'url': 'http://watch.peoplepower21.org/?mid=LawInfo&bill_no=2022645',\n",
       " 'title': '  국무총리ㆍ국무위원 및 정부위원 출석요구의 건(교육ㆍ사회ㆍ문화에 관한 질문)(나경원의원 등 3인 외 260인) ',\n",
       " 'initiator': ',나경원(자유한국당/羅卿瑗),오신환(바른미래당/吳晨煥),이인영(더불어민주당/李仁榮),',\n",
       " 'commitee': '',\n",
       " 'vote_result': ' ',\n",
       " 'summury': 'summury_error'}"
      ]
     },
     "execution_count": 43,
     "metadata": {},
     "output_type": "execute_result"
    }
   ],
   "source": [
    "parse_legislate(links_all[54])"
   ]
  },
  {
   "cell_type": "code",
   "execution_count": 121,
   "metadata": {},
   "outputs": [
    {
     "data": {
      "text/plain": [
       "{'alice': [1, 2, 3],\n",
       " 'bob': 20,\n",
       " 'tony': 15,\n",
       " 'suzy': 30,\n",
       " 'dodo': [1, 3, 5, 7],\n",
       " 'mario': 'pitch'}"
      ]
     },
     "execution_count": 121,
     "metadata": {},
     "output_type": "execute_result"
    }
   ],
   "source": [
    "c"
   ]
  },
  {
   "cell_type": "code",
   "execution_count": 205,
   "metadata": {},
   "outputs": [],
   "source": [
    "bill_no = '2012772'\n",
    "bill_id = '11699'"
   ]
  },
  {
   "cell_type": "code",
   "execution_count": 204,
   "metadata": {},
   "outputs": [],
   "source": []
  },
  {
   "cell_type": "code",
   "execution_count": 203,
   "metadata": {
    "scrolled": true
   },
   "outputs": [],
   "source": [
    "def parse_table(bill_no):\n",
    "    request_url = 'http://watch.peoplepower21.org/opages/Lawinfo/_vote_table.php'\n",
    "    bill_no = '2012772'\n",
    "url_base = 'http://watch.peoplepower21.org/?mid=LawInfo&bill_no={}'\n",
    "url = url_base.format(bill_no)\n",
    "\n",
    "\n",
    "data = {'term_no' :20, 'meetingbill_id': bill_id}\n",
    "\n",
    "headers = {'Referer': url_base,\n",
    "           'Accept-Language': 'ko-KR',\n",
    "            'host' : 'watch.peoplepower21.org',\n",
    "            'Origin': 'http://watch.peoplepower21.org',\n",
    "            'Accept-Encoding':'gzip',\n",
    "            'User-agent': 'Mozilla/5.0 (Windows NT 10.0; Win64; x64) AppleWebKit/537.36 (KHTML, like Gecko) Chrome/79.0.3945.88 Safari/537.36'}\n",
    "\n",
    "response = requests.post(request_url, headers=headers,  data=data)\n",
    "html = response.content\n",
    "page = BeautifulSoup(html, 'lxml')\n",
    "\n",
    "table = page.find_all('tr')\n",
    "element = [status.text for status in table]\n",
    "opts = ['찬성', '반대','기권','불참', '출장','청가', '결석']\n",
    "\n",
    "for opt in opts:\n",
    "    for ele in element:\n",
    "        if opt in ele:\n",
    "            words = re.findall('[\\n]+[가-힣]{3}|[\\n]+[가-힣]{2}', ele)\n",
    "            ele_dic[opt] = [w.replace('\\n', '') for w in words]\n",
    "        else:\n",
    "            continue"
   ]
  }
 ],
 "metadata": {
  "kernelspec": {
   "display_name": "Python 3",
   "language": "python",
   "name": "python3"
  },
  "language_info": {
   "codemirror_mode": {
    "name": "ipython",
    "version": 3
   },
   "file_extension": ".py",
   "mimetype": "text/x-python",
   "name": "python",
   "nbconvert_exporter": "python",
   "pygments_lexer": "ipython3",
   "version": "3.7.3"
  },
  "varInspector": {
   "cols": {
    "lenName": 16,
    "lenType": 16,
    "lenVar": 40
   },
   "kernels_config": {
    "python": {
     "delete_cmd_postfix": "",
     "delete_cmd_prefix": "del ",
     "library": "var_list.py",
     "varRefreshCmd": "print(var_dic_list())"
    },
    "r": {
     "delete_cmd_postfix": ") ",
     "delete_cmd_prefix": "rm(",
     "library": "var_list.r",
     "varRefreshCmd": "cat(var_dic_list()) "
    }
   },
   "oldHeight": 122.4,
   "position": {
    "height": "307.4px",
    "left": "1268px",
    "right": "20px",
    "top": "143px",
    "width": "350px"
   },
   "types_to_exclude": [
    "module",
    "function",
    "builtin_function_or_method",
    "instance",
    "_Feature"
   ],
   "varInspector_section_display": "block",
   "window_display": true
  }
 },
 "nbformat": 4,
 "nbformat_minor": 2
}
