{
 "cells": [
  {
   "cell_type": "code",
   "execution_count": 1,
   "metadata": {
    "ExecuteTime": {
     "end_time": "2021-11-22T04:25:11.446354Z",
     "start_time": "2021-11-22T04:25:11.259133Z"
    }
   },
   "outputs": [],
   "source": [
    "import re\n",
    "import requests\n",
    "from datetime import datetime\n",
    "from bs4 import BeautifulSoup, Tag\n",
    "from time import gmtime, strftime\n",
    "\n",
    "\n",
    "def get_soup(url, headers=None):\n",
    "    \"\"\"\n",
    "    Arguments\n",
    "    ---------\n",
    "    url : str\n",
    "        Web page url\n",
    "    headers : dict\n",
    "        Headers for requests. If None, use Mozilla/5.0 as default user-agent\n",
    "\n",
    "    Returns\n",
    "    -------\n",
    "    soup : bs4.BeautifulSoup\n",
    "        Soup format web page\n",
    "    \"\"\"\n",
    "\n",
    "    if headers is None:\n",
    "        headers = {'User-Agent': 'Mozilla/5.0 (X11; Linux x86_64) AppleWebKit/537.36 (KHTML, like Gecko) Chrome/67.0.3396.99 Safari/537.36'}\n",
    "    r = requests.get(url, headers=headers)\n",
    "    html = r.text\n",
    "    page = BeautifulSoup(html, 'lxml')\n",
    "    return page\n",
    "\n",
    "doublespace_pattern = re.compile('\\s+')\n",
    "lineseparator_pattern = re.compile('\\n+')\n",
    "\n",
    "def normalize_text(text):\n",
    "    text = text.replace('\\t', ' ')\n",
    "    text = text.replace('\\r', ' ')\n",
    "    text = lineseparator_pattern.sub('\\n', text)\n",
    "    text = doublespace_pattern.sub(' ', text)\n",
    "    return text.strip()\n",
    "\n",
    "def get_latest_allnews(section, begin_date, end_date, max_num=10, sleep=1.0):\n",
    "    \"\"\"\n",
    "    Arguments\n",
    "    ---------\n",
    "    begin_page : int\n",
    "        Default is 1\n",
    "    end_page : int\n",
    "        Default is 3\n",
    "    verbose : Boolean\n",
    "        If True, print current status\n",
    "\n",
    "    Returns\n",
    "    -------\n",
    "    links_all : list of str\n",
    "        List of urls\n",
    "    \"\"\"\n",
    "    section = str(section)\n",
    "    for pagenum in range(1, max_num):   \n",
    "        url = \"https://www.defense.gov/Explore/{}/Listing/StartDate/{}/EndDate/{}/?Page={}\".format(section, begin_date, end_date, max_num)\n",
    "        soup = get_soup(url)\n",
    "        urls = [a['article-url'] for a in soup.find_all('story-card')]\n",
    "        \n",
    "        for each_url in urls:\n",
    "            news_json = parse_page(each_url)\n",
    "            print(news_json)"
   ]
  },
  {
   "cell_type": "code",
   "execution_count": null,
   "metadata": {
    "ExecuteTime": {
     "end_time": "2021-11-22T04:25:11.690396Z",
     "start_time": "2021-11-22T04:25:11.508Z"
    }
   },
   "outputs": [],
   "source": [
    "import re\n",
    "from dateutil.parser import parse\n",
    "def now():\n",
    "    \"\"\"\n",
    "    Returns\n",
    "    -------\n",
    "    Current time : str\n",
    "        eg: 2018-11-22 13:35:23\n",
    "    \"\"\"\n",
    "    return strftime(\"%Y-%m-%d %H:%M:%S\", gmtime())\n",
    "def parse_page(url):\n",
    "    \"\"\"\n",
    "    Argument\n",
    "    --------\n",
    "    url : str\n",
    "        Web page url\n",
    "\n",
    "    Returns\n",
    "    -------\n",
    "    json_object : dict\n",
    "        JSON format web page contents\n",
    "        It consists with\n",
    "            title : article title\n",
    "            time : article written time\n",
    "            content : text with line separator \\\\n\n",
    "            url : web page url\n",
    "            scrap_time : scrapped time\n",
    "    \"\"\"\n",
    "\n",
    "    soup = get_soup(url)\n",
    "    \n",
    "    title = soup.find('h1', class_= 'maintitle').text\n",
    "    title = re.sub('\\n', '' , title, 100)\n",
    "    title = re.sub('\\r', '' , title, 100)\n",
    "    phrases = soup.find('div', class_= 'content content-wrap').find_all('p')\n",
    "    content = '\\n'.join([p.text.strip() for p in phrases])\n",
    "    content = re.sub('\\n', '' , content, 10000)\n",
    "    content = re.sub('\\t', '' , content, 10000)\n",
    "    content = re.sub('\\r', '' , content, 10000)\n",
    "    content = re.sub('\\xa0', '' , content, 1000)\n",
    "    time = soup.find('span', class_ = 'date')\n",
    "    date =  parse(time.text[:-50].replace('|', ' ')).strftime(\"%Y-%m-%d\")\n",
    "    \n",
    "    json_object = {\n",
    "        'title' : title,\n",
    "        'date' : date,\n",
    "        'content' : content,\n",
    "        'url' : url,\n",
    "        'source' : \"US Department of Defense\",\n",
    "        'scrap_time': now()}\n",
    "\n",
    "    return json_object"
   ]
  },
  {
   "cell_type": "code",
   "execution_count": 3,
   "metadata": {
    "ExecuteTime": {
     "end_time": "2021-11-22T02:51:35.338754Z",
     "start_time": "2021-11-22T02:51:35.321760Z"
    }
   },
   "outputs": [],
   "source": [
    "url = 'http://www.defense.gov/Explore/News/Article/Article/1955624/8-things-you-may-not-know-about-our-air-defense-on-911/'"
   ]
  },
  {
   "cell_type": "code",
   "execution_count": 4,
   "metadata": {
    "ExecuteTime": {
     "end_time": "2021-11-22T02:51:39.514932Z",
     "start_time": "2021-11-22T02:51:35.639661Z"
    }
   },
   "outputs": [
    {
     "data": {
      "text/plain": [
       "{'title': '            8 Things You May Not Know About Our Air Defense on 9/11        ',\n",
       " 'date': '2021-08-31',\n",
       " 'content': 'It\\'s been 20years since Sept. 11, when terrorists hijacked four commercial airliners and flew them into New York\\'s iconic World Trade Center, the Pentagon and a field in rural western Pennsylvania, killing nearly 3,000 U.S. citizens.Whether the events of that day were etched in your memory forever, or you were too young to understand it at the time, it\\'s a day all Americans know changed the course of our daily lives.Thanks to the Internet, you can easily find accounts of what happened on 9/11 from survivors, first responders, the victims\\' families and officials who investigated what happened. Two New York Air National Guardsmen who were at the Northeast Air Defense Sector (now just the Eastern Air Defense Sector) in rural Rome, New York, give a glimpse into the military\\'s role that day. NEADS was tasked with searching for the missing planes and scrambling fighter jets in response to the attacks.New York Air National Guard Maj. Jeremy Powellwas a 31-year-old tech sergeant taking part in Exercise Vigilant Guardian when 9/11 occurred. He was the first military person to learn about the hijackings, having taken the initial call from the Federal Aviation Administration\\'s Boston center.Master Sgt. Stacia Rountreewas a 23-year-old senior airman working as an identification technician. Vigilant Guardian was her first major NORAD exercise.Like everyone else, Powell and Rountree remember that day vividly.It took some time for NEADS to realize 9/11 was a real-world scenario and not part of the exercise. Once they did, there was even more confusion trying to find the missing planes, which always seemed to be a step ahead of them.\"We were treating all the information we got as real-time, not understanding that it was coming to us late,\"said Rountree, who basically became a liaison between the FAA and the military for the rest of that day.\"We were trying to figure out departure destination, how many people were on board, how big the aircraft actually was, and factoring all of that stuff in. That way the [F-15 and F-16] fighters, when they got airborne, would know that they had the right plane in sight,\"she said.\"I stayed on the phone for 12-14 hours, just calling all the bases and asking how quick the fighters could get armed, get airborne, and if they could go to a certain location,\"Powell said.Just 10 minutes elapsed between the time Powell took the first call to NEADS about the hijackings to when the first plane, American Airlines Flight 11, hit the North Tower – not enough time to get fighters into the air.According to the 9/11 Commission\\'s report, the call from the FAA\\'s Boston center came into NEADS at 8:37 a.m.\"8:46 is when I scrambled the first fighters [from Otis Air National Guard Base, Massachusetts], and then 8:53 they were airborne,\" Powell said.But it was too late to help American 11, which hit the World Trade Center\\'s North Tower at 8:47 a.m.By the time the day was over, Rountree said there were probably 19 or 20 planes that she and the other ID techs had investigating as possible hijackings. Only the initial four – American 11, United Airlines Flight 175, American Airlines Flight 77 and United Airlines Flight 93 – were the real deal.At one point, there were reports that American 11 was still airborne. Air traffic controllers likely confused it with American 77, which was somewhere over Washington, D.C., air-space. Rountree said she tried to contact the FAA\\'s Washington Center to get a position on it, while Langley Air Force Base fighters were trying to get to the capital.\"It was probably only a couple of minutes, but to me, it seemed like a lifetime. Then we got the reports that the plane hit the Pentagon,\" Rountree remembered. \"I was actively trying to find that plane, and I felt that we may have had some time. We didn\\'t.\"The fighters were meant only to shadow potentially hijacked planes, but Rountree said there was discussion of those pilots making the ultimate sacrifice.\"In case their weapons were out, and if we would have had to use force, they were discussing whether or not those guys would have to go kamikaze,\" she said, meaning some pilots were considering risking their own lives by using their planes to stop hijacked jetliners. \"It was scary, when you thought about the possibility of them having to do that.\"While all of the crashes were shocking, Rountree said that, for her, United 93 was the saddest. They had been trying to find the plane on radar and had called the FAA to get an updated position.\"They said, \\'It\\'s down,\\' and we were thinking it landed,\" Rountree remembered. But when they asked for landing confirmation, the info was clarified – it crashed. \"For us, you had that glimmer of hope, and then… .\"The day after 9/11, NEADS was evacuated because there was an unknown plane up at the time, and no one was supposed to be airborne.\"There were fighters coming back from air patrol over NYC … so our commander had them go supersonic over to where we were so they could figure out what it was. They thought it was heading toward us,\" Rountree said.It turned out to be a harmless floatplane, and it was forced to land.\"Back then, the primary focus was that we were looking out at people coming to attack us from the outside,\" Powell said. \"We weren\\'t really focused on the inside.\"\"Nobody thought that somebody would go ahead and utilize planes that were in the U.S. to do something, so our radar coverage was indicative of that,\" Rountree explained. \"Now, our coverage has definitely increased. It\\'s night and day versus then.\"The sector now has new and evolving technology.\"Our computer systems are bigger and better. … You should see all of the radars that are now hooked up. Everything the FAA sees, we see. We are much more actively involved in the identification of all aircraft in the United States,\" Powell said.Before 9/11, Rountree said they couldn\\'t always get in touch with critical personnel at the FAA centers. Now they can.\"We really didn\\'t have to talk to the various Air Traffic Control Center supervisors. Now, we have instant lines with everybody,\" she said.\"A lot of people didn\\'t even realize that we were probably there, or what we even do, which could be a good thing,\" Powell said. \"It reinforces the idea that somebody\\'s always watching you, especially in the sky. The FAA\\'s there – that is their airspace – but the military is, too.\"',\n",
       " 'url': 'http://www.defense.gov/Explore/News/Article/Article/1955624/8-things-you-may-not-know-about-our-air-defense-on-911/',\n",
       " 'source': 'US Department of Defense',\n",
       " 'scrap_time': '2021-11-22 02:51:39'}"
      ]
     },
     "execution_count": 4,
     "metadata": {},
     "output_type": "execute_result"
    }
   ],
   "source": [
    "parse_page(url)"
   ]
  },
  {
   "cell_type": "code",
   "execution_count": 11,
   "metadata": {
    "ExecuteTime": {
     "end_time": "2021-11-22T02:52:28.087157Z",
     "start_time": "2021-11-22T02:52:28.073149Z"
    }
   },
   "outputs": [],
   "source": [
    "url = \"https://www.defense.gov/News/News-Stories/StartDate/2021-09-19/EndDate/2021-10-02/?Page=3\""
   ]
  },
  {
   "cell_type": "code",
   "execution_count": null,
   "metadata": {},
   "outputs": [],
   "source": [
    "https://www.defense.gov/News/News-Stories/StartDate/2021-09-19/EndDate/2021-10-02/?Page=2"
   ]
  },
  {
   "cell_type": "code",
   "execution_count": 45,
   "metadata": {
    "ExecuteTime": {
     "end_time": "2021-10-03T10:53:58.855526Z",
     "start_time": "2021-10-03T10:53:58.832521Z"
    }
   },
   "outputs": [
    {
     "data": {
      "text/plain": [
       "[<a href=\"#skip-target\" id=\"skip-link\">Skip to main content (Press Enter).</a>,\n",
       " <a href=\"https://twitter.com/DeptofDefense\" rel=\"noopener\" target=\"_blank\" title=\"Twitter\"><span class=\"social-icon fa fa-twitter social-link-4\"></span></a>,\n",
       " <a href=\"https://www.facebook.com/DeptofDefense\" rel=\"noopener\" target=\"_blank\" title=\"Facebook\"><span class=\"social-icon fa fa-facebook social-link-1\"></span></a>,\n",
       " <a href=\"https://www.instagram.com/deptofdefense/\" rel=\"noopener\" target=\"_blank\" title=\"Instagram\"><span class=\"social-icon fa fa-instagram social-link-3\"></span></a>,\n",
       " <a href=\"https://www.youtube.com/deptofdefense\" rel=\"noopener\" target=\"_blank\" title=\"YouTube\"><span class=\"social-icon fa fa-youtube social-link-2\"></span></a>,\n",
       " <a class=\"logo\" href=\"http://www.defense.gov/\" target=\"\">\n",
       " <img alt=\"Logo for U.S. Department of Defense\" src=\"/Portals/1/Images/DOD-Icon-Header.png?ver=5sAfFl2--9znca0j3SrX_g%3d%3d\" title=\"U.S. Department of Defense\"/>\n",
       " <span>U.S. Department<span>of</span>Defense</span>\n",
       " </a>,\n",
       " <a href=\"#\"><i class=\"fa fa-chevron-left\"></i>Back</a>,\n",
       " <a href=\"/\">Home</a>,\n",
       " <a href=\"#\">Place Holder</a>,\n",
       " <a aria-expanded=\"false\" href=\"http://www.defense.gov/News/\" tabindex=\"0\" target=\"\">News<span class=\"mobile-arrow\"><i class=\"fa fa-chevron-right\"></i></span><i class=\"fas fa-chevron-down\"></i></a>,\n",
       " <a aria-expanded=\"false\" href=\"http://www.defense.gov/News/Press-Products/\" tabindex=\"0\" target=\"\"><span class=\"main\">Press Products</span></a>,\n",
       " <a href=\"http://www.defense.gov/News/Today-in-DOD/\" tabindex=\"0\" target=\"\"><span class=\"main\">Today in DOD</span></a>,\n",
       " <a href=\"http://www.defense.gov/News/Live-Events/\" tabindex=\"0\" target=\"\"><span class=\"main\">Live Events</span></a>,\n",
       " <a href=\"http://www.defense.gov/News/Releases/\" tabindex=\"0\" target=\"\"><span class=\"main\">Releases</span></a>,\n",
       " <a href=\"http://www.defense.gov/News/Advisories/\" tabindex=\"0\" target=\"\"><span class=\"main\">Advisories</span></a>,\n",
       " <a href=\"http://www.defense.gov/News/Transcripts/\" tabindex=\"0\" target=\"\"><span class=\"main\">Transcripts</span></a>,\n",
       " <a href=\"http://www.defense.gov/News/Speeches/\" tabindex=\"0\" target=\"\"><span class=\"main\">Speeches</span></a>,\n",
       " <a href=\"http://www.defense.gov/News/Publications/\" tabindex=\"0\" target=\"\"><span class=\"main\">Publications</span></a>,\n",
       " <a href=\"http://www.defense.gov/News/Contracts/\" tabindex=\"0\" target=\"\"><span class=\"main\">Contracts</span></a>,\n",
       " <a aria-expanded=\"false\" href=\"http://www.defense.gov/News/\" target=\"\"><span class=\"main\">Newsroom</span></a>,\n",
       " <a href=\"http://www.defense.gov/News/News-Stories/\" tabindex=\"0\" target=\"\"><span class=\"main\">News Stories</span></a>,\n",
       " <a href=\"http://www.defense.gov/News/Feature-Stories/\" tabindex=\"0\" target=\"\"><span class=\"main\">Feature Stories</span></a>,\n",
       " <a href=\"http://www.defense.gov/News/From-the-Services/\" tabindex=\"0\" target=\"\"><span class=\"main\">Stories from the Services</span></a>,\n",
       " <a aria-expanded=\"false\" href=\"http://www.defense.gov/Multimedia/\" target=\"\"><span class=\"main\">Multimedia</span></a>,\n",
       " <a href=\"http://www.defense.gov/Multimedia/Photos/\" tabindex=\"0\" target=\"\"><span class=\"main\">Photos</span></a>,\n",
       " <a href=\"http://www.defense.gov/Multimedia/Videos/\" tabindex=\"0\" target=\"\"><span class=\"main\">Videos</span></a>,\n",
       " <a href=\"http://www.defense.gov/Multimedia/Experience/\" tabindex=\"0\" target=\"\"><span class=\"main\">Interactive Experiences</span></a>,\n",
       " <a aria-expanded=\"false\" href=\"http://www.defense.gov/Spotlights/\" tabindex=\"0\" target=\"\">Spotlights<span class=\"mobile-arrow\"><i class=\"fa fa-chevron-right\"></i></span><i class=\"fas fa-chevron-down\"></i></a>,\n",
       " <a aria-expanded=\"false\" href=\"http://www.defense.gov/Spotlights/\" target=\"\"><span class=\"main\">Trending Issues</span></a>,\n",
       " <a href=\"http://www.defense.gov/Spotlights/Coronavirus-DOD-Response/\" tabindex=\"0\" target=\"\"><span class=\"main\">Coronavirus: DOD Response</span></a>,\n",
       " <a href=\"http://www.defense.gov/Spotlights/National-Hispanic-Heritage-Month/\" tabindex=\"0\" target=\"\"><span class=\"main\">National Hispanic Heritage Month</span></a>,\n",
       " <a href=\"http://www.defense.gov/Spotlights/Suicide-Prevention/\" tabindex=\"0\" target=\"\"><span class=\"main\">Suicide Prevention</span></a>,\n",
       " <a href=\"http://www.defense.gov/Spotlights/Hurricane-Preparedness/\" tabindex=\"0\" target=\"\"><span class=\"main\">Hurricane Preparedness</span></a>,\n",
       " <a href=\"http://www.defense.gov/Spotlights/Focus-on-Indo-Pacific/\" tabindex=\"0\" target=\"\"><span class=\"main\">Focus on Indo-Pacific</span></a>,\n",
       " <a aria-expanded=\"false\" href=\"http://www.defense.gov/Spotlights/\" target=\"\"><span class=\"main\">Topics</span></a>,\n",
       " <a href=\"http://www.defense.gov/Spotlights/Science-and-Technology/\" tabindex=\"0\" target=\"\"><span class=\"main\">Science &amp; Technology</span></a>,\n",
       " <a href=\"http://www.defense.gov/Spotlights/Tackling-the-Climate-Crisis/\" tabindex=\"0\" target=\"\"><span class=\"main\">Tackling the Climate Crisis</span></a>,\n",
       " <a href=\"http://www.defense.gov/Spotlights/Military-Family-Support/\" tabindex=\"0\" target=\"\"><span class=\"main\">Military Family Support</span></a>,\n",
       " <a href=\"http://www.defense.gov/Spotlights/\" tabindex=\"0\" target=\"\"><span class=\"main\">All Spotlights</span></a>,\n",
       " <a aria-expanded=\"false\" href=\"http://www.defense.gov/About/\" tabindex=\"0\" target=\"\">About<span class=\"mobile-arrow\"><i class=\"fa fa-chevron-right\"></i></span><i class=\"fas fa-chevron-down\"></i></a>,\n",
       " <a aria-expanded=\"false\" href=\"http://www.defense.gov/About/Leadership/\" tabindex=\"0\" target=\"\"><span class=\"main\">Leadership</span></a>,\n",
       " <a href=\"http://www.defense.gov/About/Secretary-of-Defense/\" tabindex=\"0\" target=\"\"><span class=\"main\">Secretary of Defense</span></a>,\n",
       " <a href=\"http://www.defense.gov/About/Deputy-Secretary-of-Defense/\" tabindex=\"0\" target=\"\"><span class=\"main\">Deputy Secretary of Defense</span></a>,\n",
       " <a href=\"http://www.defense.gov/About/Chairman-of-the-Joint-Chiefs-of-Staff/\" tabindex=\"0\" target=\"\"><span class=\"main\">Chairman of the Joint Chiefs of Staff</span></a>,\n",
       " <a href=\"http://www.defense.gov/About/Vice-Chairman-of-the-Joint-Chiefs-of-Staff/\" tabindex=\"0\" target=\"\"><span class=\"main\">Vice Chairman of the Joint Chiefs of Staff</span></a>,\n",
       " <a href=\"http://www.defense.gov/About/Office-of-the-Secretary-of-Defense/\" tabindex=\"0\" target=\"\"><span class=\"main\">Office of the Secretary of Defense</span></a>,\n",
       " <a href=\"http://www.defense.gov/About/Biographies/\" tabindex=\"0\" target=\"\"><span class=\"main\">More Leaders</span></a>,\n",
       " <a aria-expanded=\"false\" href=\"http://www.defense.gov/About/\" target=\"\"><span class=\"main\">Components</span></a>,\n",
       " <a href=\"https://www.army.mil/\" tabindex=\"0\" target=\"_blank\"><span class=\"main\">Army</span></a>,\n",
       " <a href=\"https://www.marines.mil/\" tabindex=\"0\" target=\"_blank\"><span class=\"main\">Marine Corps</span></a>,\n",
       " <a href=\"https://www.navy.mil/\" tabindex=\"0\" target=\"_blank\"><span class=\"main\">Navy</span></a>,\n",
       " <a href=\"https://www.af.mil/\" tabindex=\"0\" target=\"_blank\"><span class=\"main\">Air Force</span></a>,\n",
       " <a href=\"https://www.spaceforce.mil/\" tabindex=\"0\" target=\"_blank\"><span class=\"main\">Space Force</span></a>,\n",
       " <a href=\"https://www.uscg.mil/\" tabindex=\"0\" target=\"_blank\"><span class=\"main\">Coast Guard</span></a>,\n",
       " <a href=\"https://www.nationalguard.mil/\" tabindex=\"0\" target=\"_blank\"><span class=\"main\">National Guard</span></a>,\n",
       " <a href=\"http://www.defense.gov/About/Combatant-Commands/\" tabindex=\"0\" target=\"\"><span class=\"main\">Combatant Commands</span></a>,\n",
       " <a class=\"skin-search-go\" href=\"#\">Search</a>,\n",
       " <a href=\"#\"><i class=\"fa fa-chevron-left\"></i>Back</a>,\n",
       " <a href=\"/\">Home</a>,\n",
       " <a href=\"#\">Place Holder</a>,\n",
       " <a aria-expanded=\"false\" href=\"http://www.defense.gov/News/\" tabindex=\"0\" target=\"\">News<span class=\"mobile-arrow\"><i class=\"fa fa-chevron-right\"></i></span><i class=\"fas fa-chevron-down\"></i></a>,\n",
       " <a aria-expanded=\"false\" href=\"http://www.defense.gov/News/Press-Products/\" tabindex=\"0\" target=\"\"><span class=\"main\">Press Products</span></a>,\n",
       " <a href=\"http://www.defense.gov/News/Today-in-DOD/\" tabindex=\"0\" target=\"\"><span class=\"main\">Today in DOD</span></a>,\n",
       " <a href=\"http://www.defense.gov/News/Live-Events/\" tabindex=\"0\" target=\"\"><span class=\"main\">Live Events</span></a>,\n",
       " <a href=\"http://www.defense.gov/News/Releases/\" tabindex=\"0\" target=\"\"><span class=\"main\">Releases</span></a>,\n",
       " <a href=\"http://www.defense.gov/News/Advisories/\" tabindex=\"0\" target=\"\"><span class=\"main\">Advisories</span></a>,\n",
       " <a href=\"http://www.defense.gov/News/Transcripts/\" tabindex=\"0\" target=\"\"><span class=\"main\">Transcripts</span></a>,\n",
       " <a href=\"http://www.defense.gov/News/Speeches/\" tabindex=\"0\" target=\"\"><span class=\"main\">Speeches</span></a>,\n",
       " <a href=\"http://www.defense.gov/News/Publications/\" tabindex=\"0\" target=\"\"><span class=\"main\">Publications</span></a>,\n",
       " <a href=\"http://www.defense.gov/News/Contracts/\" tabindex=\"0\" target=\"\"><span class=\"main\">Contracts</span></a>,\n",
       " <a aria-expanded=\"false\" href=\"http://www.defense.gov/News/\" target=\"\"><span class=\"main\">Newsroom</span></a>,\n",
       " <a href=\"http://www.defense.gov/News/News-Stories/\" tabindex=\"0\" target=\"\"><span class=\"main\">News Stories</span></a>,\n",
       " <a href=\"http://www.defense.gov/News/Feature-Stories/\" tabindex=\"0\" target=\"\"><span class=\"main\">Feature Stories</span></a>,\n",
       " <a href=\"http://www.defense.gov/News/From-the-Services/\" tabindex=\"0\" target=\"\"><span class=\"main\">Stories from the Services</span></a>,\n",
       " <a aria-expanded=\"false\" href=\"http://www.defense.gov/Multimedia/\" target=\"\"><span class=\"main\">Multimedia</span></a>,\n",
       " <a href=\"http://www.defense.gov/Multimedia/Photos/\" tabindex=\"0\" target=\"\"><span class=\"main\">Photos</span></a>,\n",
       " <a href=\"http://www.defense.gov/Multimedia/Videos/\" tabindex=\"0\" target=\"\"><span class=\"main\">Videos</span></a>,\n",
       " <a href=\"http://www.defense.gov/Multimedia/Experience/\" tabindex=\"0\" target=\"\"><span class=\"main\">Interactive Experiences</span></a>,\n",
       " <a aria-expanded=\"false\" href=\"http://www.defense.gov/Spotlights/\" tabindex=\"0\" target=\"\">Spotlights<span class=\"mobile-arrow\"><i class=\"fa fa-chevron-right\"></i></span><i class=\"fas fa-chevron-down\"></i></a>,\n",
       " <a aria-expanded=\"false\" href=\"http://www.defense.gov/Spotlights/\" target=\"\"><span class=\"main\">Trending Issues</span></a>,\n",
       " <a href=\"http://www.defense.gov/Spotlights/Coronavirus-DOD-Response/\" tabindex=\"0\" target=\"\"><span class=\"main\">Coronavirus: DOD Response</span></a>,\n",
       " <a href=\"http://www.defense.gov/Spotlights/National-Hispanic-Heritage-Month/\" tabindex=\"0\" target=\"\"><span class=\"main\">National Hispanic Heritage Month</span></a>,\n",
       " <a href=\"http://www.defense.gov/Spotlights/Suicide-Prevention/\" tabindex=\"0\" target=\"\"><span class=\"main\">Suicide Prevention</span></a>,\n",
       " <a href=\"http://www.defense.gov/Spotlights/Hurricane-Preparedness/\" tabindex=\"0\" target=\"\"><span class=\"main\">Hurricane Preparedness</span></a>,\n",
       " <a href=\"http://www.defense.gov/Spotlights/Focus-on-Indo-Pacific/\" tabindex=\"0\" target=\"\"><span class=\"main\">Focus on Indo-Pacific</span></a>,\n",
       " <a aria-expanded=\"false\" href=\"http://www.defense.gov/Spotlights/\" target=\"\"><span class=\"main\">Topics</span></a>,\n",
       " <a href=\"http://www.defense.gov/Spotlights/Science-and-Technology/\" tabindex=\"0\" target=\"\"><span class=\"main\">Science &amp; Technology</span></a>,\n",
       " <a href=\"http://www.defense.gov/Spotlights/Tackling-the-Climate-Crisis/\" tabindex=\"0\" target=\"\"><span class=\"main\">Tackling the Climate Crisis</span></a>,\n",
       " <a href=\"http://www.defense.gov/Spotlights/Military-Family-Support/\" tabindex=\"0\" target=\"\"><span class=\"main\">Military Family Support</span></a>,\n",
       " <a href=\"http://www.defense.gov/Spotlights/\" tabindex=\"0\" target=\"\"><span class=\"main\">All Spotlights</span></a>,\n",
       " <a aria-expanded=\"false\" href=\"http://www.defense.gov/About/\" tabindex=\"0\" target=\"\">About<span class=\"mobile-arrow\"><i class=\"fa fa-chevron-right\"></i></span><i class=\"fas fa-chevron-down\"></i></a>,\n",
       " <a aria-expanded=\"false\" href=\"http://www.defense.gov/About/Leadership/\" tabindex=\"0\" target=\"\"><span class=\"main\">Leadership</span></a>,\n",
       " <a href=\"http://www.defense.gov/About/Secretary-of-Defense/\" tabindex=\"0\" target=\"\"><span class=\"main\">Secretary of Defense</span></a>,\n",
       " <a href=\"http://www.defense.gov/About/Deputy-Secretary-of-Defense/\" tabindex=\"0\" target=\"\"><span class=\"main\">Deputy Secretary of Defense</span></a>,\n",
       " <a href=\"http://www.defense.gov/About/Chairman-of-the-Joint-Chiefs-of-Staff/\" tabindex=\"0\" target=\"\"><span class=\"main\">Chairman of the Joint Chiefs of Staff</span></a>,\n",
       " <a href=\"http://www.defense.gov/About/Vice-Chairman-of-the-Joint-Chiefs-of-Staff/\" tabindex=\"0\" target=\"\"><span class=\"main\">Vice Chairman of the Joint Chiefs of Staff</span></a>,\n",
       " <a href=\"http://www.defense.gov/About/Office-of-the-Secretary-of-Defense/\" tabindex=\"0\" target=\"\"><span class=\"main\">Office of the Secretary of Defense</span></a>,\n",
       " <a href=\"http://www.defense.gov/About/Biographies/\" tabindex=\"0\" target=\"\"><span class=\"main\">More Leaders</span></a>,\n",
       " <a aria-expanded=\"false\" href=\"http://www.defense.gov/About/\" target=\"\"><span class=\"main\">Components</span></a>,\n",
       " <a href=\"https://www.army.mil/\" tabindex=\"0\" target=\"_blank\"><span class=\"main\">Army</span></a>,\n",
       " <a href=\"https://www.marines.mil/\" tabindex=\"0\" target=\"_blank\"><span class=\"main\">Marine Corps</span></a>,\n",
       " <a href=\"https://www.navy.mil/\" tabindex=\"0\" target=\"_blank\"><span class=\"main\">Navy</span></a>,\n",
       " <a href=\"https://www.af.mil/\" tabindex=\"0\" target=\"_blank\"><span class=\"main\">Air Force</span></a>,\n",
       " <a href=\"https://www.spaceforce.mil/\" tabindex=\"0\" target=\"_blank\"><span class=\"main\">Space Force</span></a>,\n",
       " <a href=\"https://www.uscg.mil/\" tabindex=\"0\" target=\"_blank\"><span class=\"main\">Coast Guard</span></a>,\n",
       " <a href=\"https://www.nationalguard.mil/\" tabindex=\"0\" target=\"_blank\"><span class=\"main\">National Guard</span></a>,\n",
       " <a href=\"http://www.defense.gov/About/Combatant-Commands/\" tabindex=\"0\" target=\"\"><span class=\"main\">Combatant Commands</span></a>,\n",
       " <a aria-expanded=\"false\" href=\"#\" tabindex=\"0\" target=\"\">Legal &amp; Administrative<span class=\"mobile-arrow\"><i class=\"fa fa-chevron-right\"></i></span></a>,\n",
       " <a href=\"/Legal-Administrative/Privacy-Security/ \" title=\"\"><span class=\"text text-link-12\">Privacy &amp; Security</span></a>,\n",
       " <a href=\"/Legal-Administrative/Links-Disclaimer/ \" title=\"\"><span class=\"text text-link-17\">Links Disclaimer</span></a>,\n",
       " <a href=\"http://dodcio.defense.gov/DoDSection508/Std_Stmt.aspx\" rel=\"noopener\" target=\"_blank\" title=\"\"><span class=\"text text-link-13\">Section 508</span></a>,\n",
       " <a href=\"http://dodcio.defense.gov/DoD-Web-Policy/ \" rel=\"noopener\" target=\"_blank\" title=\"\"><span class=\"text text-link-14\">Web Policy</span></a>,\n",
       " <a href=\"http://www.esd.whs.mil/DD/plainlanguage/ \" rel=\"noopener\" target=\"_blank\" title=\"\"><span class=\"text text-link-37\">Plain Writing Act</span></a>,\n",
       " <a href=\"http://www.dodig.mil/ \" rel=\"noopener\" target=\"_blank\" title=\"\"><span class=\"text text-link-38\">DOD IG</span></a>,\n",
       " <a href=\"https://policy.defense.gov/OUSDP-Offices/Reporting-Civilian-Casualties/ \" rel=\"noopener\" target=\"_blank\" title=\"\"><span class=\"text text-link-39\">Reporting Civilian Casualties</span></a>,\n",
       " <a href=\"http://prhome.defense.gov/NoFear/ \" rel=\"noopener\" target=\"_blank\" title=\"\"><span class=\"text text-link-40\">No FEAR Act</span></a>,\n",
       " <a href=\"http://www.dimoc.mil/resources/limitations/ \" rel=\"noopener\" target=\"_blank\" title=\"\"><span class=\"text text-link-41\">Imagery Use</span></a>,\n",
       " <a href=\"https://www.esd.whs.mil/FOID/ \" rel=\"noopener\" target=\"_blank\" title=\"\"><span class=\"text text-link-42\">FOIA</span></a>,\n",
       " <a href=\"http://open.defense.gov/ \" rel=\"noopener\" target=\"_blank\" title=\"\"><span class=\"text text-link-43\">Open GOV</span></a>,\n",
       " <a href=\"https://cmo.defense.gov/Publications/NDBOP.aspx \" rel=\"noopener\" target=\"_blank\" title=\"\"><span class=\"text text-link-44\">Strategic Plan</span></a>,\n",
       " <a href=\"https://www.usa.gov/ \" rel=\"noopener\" target=\"_blank\" title=\"\"><span class=\"text text-link-45\">USA.gov</span></a>,\n",
       " <a href=\"https://business.defense.gov/ \" rel=\"noopener\" target=\"_blank\" title=\"\"><span class=\"text text-link-46\">Small Business Act</span></a>,\n",
       " <a href=\"/site-index/ \" title=\"\"><span class=\"text text-link-47\">Site Map</span></a>,\n",
       " <a href=\"https://twitter.com/DeptofDefense\" rel=\"noopener\" target=\"_blank\" title=\"Twitter\"><span class=\"social-icon fa fa-twitter social-link-4\"></span></a>,\n",
       " <a href=\"https://www.facebook.com/DeptofDefense\" rel=\"noopener\" target=\"_blank\" title=\"Facebook\"><span class=\"social-icon fa fa-facebook social-link-1\"></span></a>,\n",
       " <a href=\"https://www.instagram.com/deptofdefense/\" rel=\"noopener\" target=\"_blank\" title=\"Instagram\"><span class=\"social-icon fa fa-instagram social-link-3\"></span></a>,\n",
       " <a href=\"https://www.youtube.com/deptofdefense\" rel=\"noopener\" target=\"_blank\" title=\"YouTube\"><span class=\"social-icon fa fa-youtube social-link-2\"></span></a>,\n",
       " <a aria-label=\"Skip Target\" class=\"skip\" id=\"skip-target\" name=\"skip-target\" tabindex=\"-1\"></a>,\n",
       " <a name=\"1768\"></a>,\n",
       " <a name=\"3269\"></a>,\n",
       " <a name=\"4540\"></a>,\n",
       " <a href=\"/News/News-Stories\">News Stories</a>,\n",
       " <a href=\"/News/Feature-Stories/\">Feature Stories</a>,\n",
       " <a href=\"/News/From-the-Services/\">Stories From the Services</a>,\n",
       " <a href=\"/News/Press-Products/\">Press Products</a>,\n",
       " <a href=\"/News/Live-events/\">Live Events</a>,\n",
       " <a name=\"2842\"></a>,\n",
       " <a class=\"filter-clear\" href=\"http://www.defense.gov/News/News-Stories/\"><span class=\"fa fa-times-circle\"></span></a>,\n",
       " <a href=\"http://www.defense.gov/News/News-Stories/StartDate/2021-09-19/EndDate/2021-10-02/\"><span class=\"fa fa-chevron-left\"></span></a>,\n",
       " <a href=\"http://www.defense.gov/News/News-Stories/StartDate/2021-09-19/EndDate/2021-10-02/\"><span>1</span></a>,\n",
       " <a href=\"http://www.defense.gov/News/News-Stories/StartDate/2021-09-19/EndDate/2021-10-02/?Page=2\"><span>2</span></a>,\n",
       " <a href=\"http://www.defense.gov/News/News-Stories/StartDate/2021-09-19/EndDate/2021-10-02/?Page=3\"><span>3</span></a>,\n",
       " <a href=\"http://www.defense.gov/News/News-Stories/StartDate/2021-09-19/EndDate/2021-10-02/?Page=3\"><span class=\"fa fa-chevron-right\"></span></a>,\n",
       " <a href=\"http://www.defense.gov/News/News-Stories/StartDate/2021-09-19/EndDate/2021-10-02/\"><span class=\"fa fa-chevron-left\"></span></a>,\n",
       " <a href=\"http://www.defense.gov/News/News-Stories/StartDate/2021-09-19/EndDate/2021-10-02/\"><span>1</span></a>,\n",
       " <a href=\"http://www.defense.gov/News/News-Stories/StartDate/2021-09-19/EndDate/2021-10-02/?Page=2\"><span>2</span></a>,\n",
       " <a href=\"http://www.defense.gov/News/News-Stories/StartDate/2021-09-19/EndDate/2021-10-02/?Page=3\"><span>3</span></a>,\n",
       " <a href=\"http://www.defense.gov/News/News-Stories/StartDate/2021-09-19/EndDate/2021-10-02/?Page=3\"><span class=\"fa fa-chevron-right\"></span></a>,\n",
       " <a name=\"2840\"></a>,\n",
       " <a name=\"4546\"></a>,\n",
       " <a href=\"/News/Press-Products\">Press Products <i class=\"fas fa-chevron-right\"></i></a>,\n",
       " <a class=\"content-type-text\" href=\"/News/Advisories/\"><span>Advisory</span></a>,\n",
       " <a class=\"hide\" href=\"\" target=\"\"></a>,\n",
       " <a href=\"https://www.defense.gov/News/Advisories/Advisory/Article/2797306/navy-to-christen-guided-missile-destroyer-carl-m-levin/\">Navy to Christen Guided-Missile Destroyer Carl M. Levin</a>,\n",
       " <a class=\"content-type-text\" href=\"/News/Contracts/\"><span>Contract</span></a>,\n",
       " <a class=\"hide\" href=\"\" target=\"\"></a>,\n",
       " <a href=\"https://www.defense.gov/News/Contracts/Contract/Article/2796431//\">Contracts for Oct. 1, 2021</a>,\n",
       " <a class=\"content-type-text\" href=\"/News/Releases/\"><span>Release</span></a>,\n",
       " <a class=\"hide\" href=\"\" target=\"\"></a>,\n",
       " <a href=\"https://www.defense.gov/News/Releases/Release/Article/2796608/readout-of-secretary-of-defense-lloyd-j-austin-iiis-phone-call-with-turkish-min/\">Readout of Secretary of Defense Lloyd J. Austin III's Phone Call With Turkish Minister of National Defense Hulusi Akar</a>,\n",
       " <a name=\"4545\"></a>,\n",
       " <a class=\"btn btn-sm btn-primary btn-primary-ghost\" href=\"/Spotlights/Focus-on-Indo-Pacific/\">Indo-Pacific</a>,\n",
       " <a class=\"btn btn-sm btn-primary btn-primary-ghost\" href=\"/Spotlights/Science-and-Technology/\">Science &amp; Technology</a>,\n",
       " <a class=\"btn btn-sm btn-primary btn-primary-ghost\" href=\"/Spotlights/Tackling-the-Climate-Crisis/\">Climate Change</a>,\n",
       " <a class=\"btn btn-sm btn-primary btn-primary-ghost\" href=\"/Spotlights/Nato/\">NATO</a>,\n",
       " <a class=\"btn btn-sm btn-primary btn-primary-ghost\" href=\"/Spotlights/DOD-Space-Strategy/\">Space</a>,\n",
       " <a class=\"btn btn-sm btn-primary btn-primary-ghost\" href=\"/Spotlights/Artificial-Intelligence/\">Artificial Intelligence</a>,\n",
       " <a class=\"btn btn-sm btn-primary btn-primary-ghost\" href=\"/Spotlights/FY2022-Defense-Budget/\">Budget</a>,\n",
       " <a name=\"4523\"></a>,\n",
       " <a class=\"btn btn-primary\" href=\"https://public.govdelivery.com/accounts/usdod/subscriber/new\">Subscribe</a>,\n",
       " <a href=\"https://twitter.com/DeptofDefense\" target=\"_blank\" title=\"Twitter\">\n",
       " <div class=\"icon\"><i class=\"fab fa-twitter\"></i></div>\n",
       " <span>Twitter</span></a>,\n",
       " <a href=\"https://www.facebook.com/DeptofDefense\" target=\"_blank\" title=\"Facebook\">\n",
       " <div class=\"icon\"><i class=\"fab fa-facebook-f\"></i></div>\n",
       " <span>Facebook</span></a>,\n",
       " <a href=\"https://www.flickr.com/photos/39955793@N07/\" target=\"_blank\" title=\"Flickr\">\n",
       " <div class=\"icon\"><i class=\"fab fa-flickr\"></i></div>\n",
       " <span>Flickr</span></a>,\n",
       " <a href=\"https://www.linkedin.com/company/united-states-department-of-defense\" target=\"_blank\" title=\"LinkedIn\">\n",
       " <div class=\"icon\"><i class=\"fab fa-linkedin-in\"></i></div>\n",
       " <span>LinkedIn</span></a>,\n",
       " <a href=\"https://www.instagram.com/deptofdefense/\" target=\"_blank\" title=\"Instagram\">\n",
       " <div class=\"icon\"><i class=\"fab fa-instagram\"></i></div>\n",
       " <span>Instagram</span></a>,\n",
       " <a href=\"https://www.youtube.com/deptofdefense\" target=\"_blank\" title=\"Youtube\">\n",
       " <div class=\"icon\"><i class=\"fab fa-youtube\"></i></div>\n",
       " <span>YouTube</span></a>,\n",
       " <a href=\"/Newsroom/RSS/\" target=\"_blank\" title=\"RSS\">\n",
       " <div class=\"icon\"><i class=\"fas fa-rss\"></i></div>\n",
       " <span>RSS</span></a>,\n",
       " <a href=\"/\" title=\"\"><span class=\"text text-link-18\">Home</span></a>,\n",
       " <a href=\"/News/\" title=\"\"><span class=\"text text-link-20\">News</span></a>,\n",
       " <a href=\"/Spotlights/ \" title=\"\"><span class=\"text text-link-22\">Spotlights</span></a>,\n",
       " <a href=\"/About/\" title=\"\"><span class=\"text text-link-21\">About</span></a>,\n",
       " <a href=\"/Live\" title=\"\"><span class=\"text text-link-23\">Live Events</span></a>,\n",
       " <a href=\"/News/Today-in-DOD/\" title=\"\"><span class=\"text text-link-24\">Today in DOD</span></a>,\n",
       " <a href=\"/News/Contracts/\" title=\"\"><span class=\"text text-link-25\">Contracts</span></a>,\n",
       " <a href=\"/Resources/For-the-Media/\" title=\"\"><span class=\"text text-link-26\">For the Media</span></a>,\n",
       " <a href=\"/Help-Center/#contact\" title=\"\"><span class=\"text text-link-27\">Contact</span></a>,\n",
       " <a href=\"/Resources/ \" title=\"\"><span class=\"text text-link-28\">DOD Resources</span></a>,\n",
       " <a href=\"/help-center\" title=\"\"><span class=\"text text-link-29\">Help Center</span></a>,\n",
       " <a href=\"/Resources/Military-Departments/\" title=\"\"><span class=\"text text-link-30\">DOD / Military Websites</span></a>,\n",
       " <a href=\"/Resources/Insignia/\" title=\"\"><span class=\"text text-link-31\">Insignia</span></a>,\n",
       " <a href=\"/Explore/Spotlight/Coronavirus/ \" title=\"\"><span class=\"text text-link-33\">Coronavirus: DOD Response</span></a>,\n",
       " <a href=\"/Explore/Spotlight/DOD-Expeditionary-Civilian-Workforce/\" title=\"\"><span class=\"text text-link-34\">DOD Expeditionary Civilian Workforce</span></a>,\n",
       " <a href=\"/Explore/Spotlight/Artificial-Intelligence/\" title=\"\"><span class=\"text text-link-48\">Artificial Intelligence</span></a>,\n",
       " <a href=\"/Explore/Spotlight/DOD-Space-Strategy/\" title=\"\"><span class=\"text text-link-36\">DOD Space Strategy</span></a>,\n",
       " <a href=\"/Legal-Administrative/Privacy-Security/ \" title=\"\"><span class=\"text text-link-12\">Privacy &amp; Security</span></a>,\n",
       " <a href=\"/Legal-Administrative/Links-Disclaimer/ \" title=\"\"><span class=\"text text-link-17\">Links Disclaimer</span></a>,\n",
       " <a href=\"http://dodcio.defense.gov/DoDSection508/Std_Stmt.aspx\" rel=\"noopener\" target=\"_blank\" title=\"\"><span class=\"text text-link-13\">Section 508</span></a>,\n",
       " <a href=\"http://dodcio.defense.gov/DoD-Web-Policy/ \" rel=\"noopener\" target=\"_blank\" title=\"\"><span class=\"text text-link-14\">Web Policy</span></a>,\n",
       " <a href=\"http://www.esd.whs.mil/DD/plainlanguage/ \" rel=\"noopener\" target=\"_blank\" title=\"\"><span class=\"text text-link-37\">Plain Writing Act</span></a>,\n",
       " <a href=\"http://www.dodig.mil/ \" rel=\"noopener\" target=\"_blank\" title=\"\"><span class=\"text text-link-38\">DOD IG</span></a>,\n",
       " <a href=\"https://policy.defense.gov/OUSDP-Offices/Reporting-Civilian-Casualties/ \" rel=\"noopener\" target=\"_blank\" title=\"\"><span class=\"text text-link-39\">Reporting Civilian Casualties</span></a>,\n",
       " <a href=\"http://prhome.defense.gov/NoFear/ \" rel=\"noopener\" target=\"_blank\" title=\"\"><span class=\"text text-link-40\">No FEAR Act</span></a>,\n",
       " <a href=\"http://www.dimoc.mil/resources/limitations/ \" rel=\"noopener\" target=\"_blank\" title=\"\"><span class=\"text text-link-41\">Imagery Use</span></a>,\n",
       " <a href=\"https://www.esd.whs.mil/FOID/ \" rel=\"noopener\" target=\"_blank\" title=\"\"><span class=\"text text-link-42\">FOIA</span></a>,\n",
       " <a href=\"http://open.defense.gov/ \" rel=\"noopener\" target=\"_blank\" title=\"\"><span class=\"text text-link-43\">Open GOV</span></a>,\n",
       " <a href=\"https://cmo.defense.gov/Publications/NDBOP.aspx \" rel=\"noopener\" target=\"_blank\" title=\"\"><span class=\"text text-link-44\">Strategic Plan</span></a>,\n",
       " <a href=\"https://www.usa.gov/ \" rel=\"noopener\" target=\"_blank\" title=\"\"><span class=\"text text-link-45\">USA.gov</span></a>,\n",
       " <a href=\"https://business.defense.gov/ \" rel=\"noopener\" target=\"_blank\" title=\"\"><span class=\"text text-link-46\">Small Business Act</span></a>,\n",
       " <a href=\"/site-index/ \" title=\"\"><span class=\"text text-link-47\">Site Map</span></a>,\n",
       " <a href=\"https://twitter.com/DeptofDefense\" rel=\"noopener\" target=\"_blank\" title=\"Twitter\"><span class=\"social-icon fa fa-twitter social-link-5\"></span></a>,\n",
       " <a href=\"https://www.facebook.com/DeptofDefense\" rel=\"noopener\" target=\"_blank\" title=\"Facebook\"><span class=\"social-icon fa fa-facebook social-link-6\"></span></a>,\n",
       " <a href=\"https://www.instagram.com/deptofdefense/\" rel=\"noopener\" target=\"_blank\" title=\"Instagram\"><span class=\"social-icon fa fa-instagram social-link-8\"></span></a>,\n",
       " <a href=\"https://www.youtube.com/deptofdefense\" rel=\"noopener\" target=\"_blank\" title=\"YouTube\"><span class=\"social-icon fa fa-youtube social-link-7\"></span></a>,\n",
       " <a class=\"subscribe-btn btn btn-sm btn-primary\" href=\"https://public.govdelivery.com/accounts/usdod/subscriber/new\" target=\"_blank\">Subscribe</a>]"
      ]
     },
     "execution_count": 45,
     "metadata": {},
     "output_type": "execute_result"
    }
   ],
   "source": [
    "soup.find_all('a')"
   ]
  },
  {
   "cell_type": "code",
   "execution_count": 43,
   "metadata": {
    "ExecuteTime": {
     "end_time": "2021-10-03T10:53:14.668904Z",
     "start_time": "2021-10-03T10:53:14.656916Z"
    }
   },
   "outputs": [
    {
     "data": {
      "text/plain": [
       "<div class=\"alist-inner alist-more-here\">\n",
       "<feature-template :remove-grid=\"true\" :show-all=\"true\" template-mode=\"story\">\n",
       "<listing-with-preview :has-terms=\"true\" :show-image=\"true\" article-alt=\"Deputy Defense Secretary Kathleen H. Hicks stands outside with hand over heart.\" article-id=\"2790466\" article-image-url=\"https://media.defense.gov/2021/Sep/27/2002862648/825/780/0/210730-D-BM568-1176Y.JPG\" article-summary=\"Blue Star Families is a national, nonprofit network of military families from all ranks and services, including the National Guard and Reserves, dedicated to supporting, connecting and empowering military families.\" article-title=\"Hicks Greets Blue Star Families, Veterans, Civilians in Welcome Week\" article-url=\"http://www.defense.gov/News/News-Stories/Article/Article/2790466/hicks-greets-blue-star-families-veterans-civilians-in-welcome-week/\" article-url-or-link=\"http://www.defense.gov/News/News-Stories/Article/Article/2790466/hicks-greets-blue-star-families-veterans-civilians-in-welcome-week/\" article-url-or-link-absolute=\"http://www.defense.gov/News/News-Stories/Article/Article/2790466/hicks-greets-blue-star-families-veterans-civilians-in-welcome-week/\" category=\"\" content-type-name=\"News\" content-type-val=\"1\" image-caption=\"Social media image for the Department of Defense website.\" image-url=\"https://media.defense.gov/2021/Sep/27/2002862648/825/780/0/210730-D-BM568-1176Y.JPG\" item-index=\"1\" open-in-new=\"\" publish-date-ap=\"Sept. 27, 2021\" publish-date-jss=\"2021-09-27T17:23:00\" term-name=\"Defense News\" term-url=\"http://www.defense.gov/Search-Results/Term/2903/defense-news/\">\n",
       "</listing-with-preview>\n",
       "<listing-with-preview :has-terms=\"true\" :show-image=\"true\" article-alt=\"A man walks down stairs from an aircraft.\" article-id=\"2790328\" article-image-url=\"https://media.defense.gov/2021/Sep/27/2002862604/825/780/0/210927-D-TT977-0141.JPG\" article-summary=\"Secretary of Defense Lloyd J. Austin III traveled to Joint Base McGuire-Dix-Lakehurst, New Jersey, to visit the facilities provided for Afghan evacuees at Liberty Village on the base.\" article-title=\"Austin Checks on Facilities for Afghans at New Jersey Base\" article-url=\"http://www.defense.gov/News/News-Stories/Article/Article/2790328/austin-checks-on-facilities-for-afghans-at-new-jersey-base/\" article-url-or-link=\"http://www.defense.gov/News/News-Stories/Article/Article/2790328/austin-checks-on-facilities-for-afghans-at-new-jersey-base/\" article-url-or-link-absolute=\"http://www.defense.gov/News/News-Stories/Article/Article/2790328/austin-checks-on-facilities-for-afghans-at-new-jersey-base/\" category=\"\" content-type-name=\"News\" content-type-val=\"1\" image-caption=\"Social media image for the Department of Defense website.\" image-url=\"https://media.defense.gov/2021/Sep/27/2002862604/825/780/0/210927-D-TT977-0141.JPG\" item-index=\"1\" open-in-new=\"\" publish-date-ap=\"Sept. 27, 2021\" publish-date-jss=\"2021-09-27T16:43:21\" term-name=\"Defense News\" term-url=\"http://www.defense.gov/Search-Results/Term/2903/defense-news/\">\n",
       "</listing-with-preview>\n",
       "<listing-with-preview :has-terms=\"true\" :show-image=\"true\" article-alt=\"People gather around robots.\" article-id=\"2790121\" article-image-url=\"https://media.defense.gov/2021/Sep/27/2002862567/825/780/0/210922-O-D0439-003.JPG\" article-summary=\"The goal of the Defense Advanced Research Projects Agency's Subterranean Challenge was to find breakthrough technologies and capabilities for underground operations.\" article-title=\"DARPA Hosts Subterranean Challenge to Benefit Warfighters\" article-url=\"http://www.defense.gov/News/News-Stories/Article/Article/2790121/darpa-hosts-subterranean-challenge-to-benefit-warfighters/\" article-url-or-link=\"http://www.defense.gov/News/News-Stories/Article/Article/2790121/darpa-hosts-subterranean-challenge-to-benefit-warfighters/\" article-url-or-link-absolute=\"http://www.defense.gov/News/News-Stories/Article/Article/2790121/darpa-hosts-subterranean-challenge-to-benefit-warfighters/\" category=\"\" content-type-name=\"News\" content-type-val=\"1\" image-caption=\"Social media image for the Department of Defense website.\" image-url=\"https://media.defense.gov/2021/Sep/27/2002862567/825/780/0/210922-O-D0439-003.JPG\" item-index=\"1\" open-in-new=\"\" publish-date-ap=\"Sept. 27, 2021\" publish-date-jss=\"2021-09-27T16:25:00\" term-name=\"Armed With Science\" term-url=\"http://www.defense.gov/Search-Results/Term/2586/armed-with-science/\">\n",
       "</listing-with-preview>\n",
       "<listing-with-preview :has-terms=\"true\" :show-image=\"true\" article-alt=\"A rocket launches behind an aircraft.\" article-id=\"2790116\" article-image-url=\"https://media.defense.gov/2021/Sep/27/2002862502/825/780/0/210915-F-PB262-1006C.JPG\" article-summary=\"The Defense Department hopes, within the decade, to have a meshed network of low Earth orbit satellites providing real-time global awareness of missile threats and the ability to respond.\" article-title=\"Global Missile Defense From Space Got More Affordable, DOD Official Says\" article-url=\"http://www.defense.gov/News/News-Stories/Article/Article/2790116/global-missile-defense-from-space-got-more-affordable-dod-official-says/\" article-url-or-link=\"http://www.defense.gov/News/News-Stories/Article/Article/2790116/global-missile-defense-from-space-got-more-affordable-dod-official-says/\" article-url-or-link-absolute=\"http://www.defense.gov/News/News-Stories/Article/Article/2790116/global-missile-defense-from-space-got-more-affordable-dod-official-says/\" category=\"\" content-type-name=\"News\" content-type-val=\"1\" image-caption=\"A 920th Rescue Wing HC-130J Combat King II aircraft sits on the flight line at Patrick Space Force Base, Fla., Sept. 15, 2021, as the Inspiration4 rocket launches in the background. Inspiration4 is the world's first all-civilian mission to orbit, Sept. 15, 2021\" image-url=\"https://media.defense.gov/2021/Sep/27/2002862502/825/780/0/210915-F-PB262-1006C.JPG\" item-index=\"1\" open-in-new=\"\" publish-date-ap=\"Sept. 27, 2021\" publish-date-jss=\"2021-09-27T15:17:00\" term-name=\"Reform\" term-url=\"http://www.defense.gov/Search-Results/Term/2583/reform/\">\n",
       "</listing-with-preview>\n",
       "<listing-with-preview :has-terms=\"true\" :show-image=\"true\" article-alt=\"An aerial view of the Pentagon.\" article-id=\"2788688\" article-image-url=\"https://media.defense.gov/2021/Jun/08/2002737402/825/780/0/210512-D-BM568-1287R.JPG\" article-summary=\"Congress has until Sept. 30 to pass an appropriations bill before government funding lapses, triggering a partial shutdown.\" article-title=\"DOD Will Continue to Defend U.S. if Government Shuts Down\" article-url=\"http://www.defense.gov/News/News-Stories/Article/Article/2788688/dod-will-continue-to-defend-us-if-government-shuts-down/\" article-url-or-link=\"http://www.defense.gov/News/News-Stories/Article/Article/2788688/dod-will-continue-to-defend-us-if-government-shuts-down/\" article-url-or-link-absolute=\"http://www.defense.gov/News/News-Stories/Article/Article/2788688/dod-will-continue-to-defend-us-if-government-shuts-down/\" category=\"\" content-type-name=\"News\" content-type-val=\"1\" image-caption=\"Social media image for the Department of Defense website.\" image-url=\"https://media.defense.gov/2021/Jun/08/2002737402/825/780/0/210512-D-BM568-1287R.JPG\" item-index=\"1\" open-in-new=\"\" publish-date-ap=\"Sept. 24, 2021\" publish-date-jss=\"2021-09-24T17:24:00\" term-name=\"Defense News\" term-url=\"http://www.defense.gov/Search-Results/Term/2903/defense-news/\">\n",
       "</listing-with-preview>\n",
       "<listing-with-preview :has-terms=\"true\" :show-image=\"true\" article-alt=\"An airman hands an ID card to a family member.\" article-id=\"2788316\" article-image-url=\"https://media.defense.gov/2020/Aug/24/2002483199/825/780/0/180405-F-HU835-014C.JPG\" article-summary=\"The Defense Department is asking as many as a half-million ID card holders to go online now and make appointments to renew their IDs — many of which are past the expiration dates printed on them.\" article-title=\"DOD Says It's Time to Renew Extended ID Cards\" article-url=\"http://www.defense.gov/News/News-Stories/Article/Article/2788316/dod-says-its-time-to-renew-extended-id-cards/\" article-url-or-link=\"http://www.defense.gov/News/News-Stories/Article/Article/2788316/dod-says-its-time-to-renew-extended-id-cards/\" article-url-or-link-absolute=\"http://www.defense.gov/News/News-Stories/Article/Article/2788316/dod-says-its-time-to-renew-extended-id-cards/\" category=\"\" content-type-name=\"News\" content-type-val=\"1\" image-caption=\"Social media image for the Department of Defense website.\" image-url=\"https://media.defense.gov/2020/Aug/24/2002483199/825/780/0/180405-F-HU835-014C.JPG\" item-index=\"1\" open-in-new=\"\" publish-date-ap=\"Sept. 24, 2021\" publish-date-jss=\"2021-09-24T14:30:00\" term-name=\"Defense News\" term-url=\"http://www.defense.gov/Search-Results/Term/2903/defense-news/\">\n",
       "</listing-with-preview>\n",
       "<listing-with-preview :has-terms=\"true\" :show-image=\"true\" article-alt=\"A man and a woman walk up some stairs. Military service members stand to each side.\" article-id=\"2787894\" article-image-url=\"https://media.defense.gov/2021/Sep/24/2002861270/825/780/0/210923-D-BN624-0273.JPG\" article-summary=\"Deputy Defense Secretary Kathleen H. Hicks and Benedikt Zimmer, Germany's state secretary of the Federal Ministry of Defense, met at the Pentagon  to reaffirm the U.S.-Germany bilateral relationship.\" article-title=\"Deputy Secretary, German Defense Leader Meet for Talks\" article-url=\"http://www.defense.gov/News/News-Stories/Article/Article/2787894/deputy-secretary-german-defense-leader-meet-for-talks/\" article-url-or-link=\"http://www.defense.gov/News/News-Stories/Article/Article/2787894/deputy-secretary-german-defense-leader-meet-for-talks/\" article-url-or-link-absolute=\"http://www.defense.gov/News/News-Stories/Article/Article/2787894/deputy-secretary-german-defense-leader-meet-for-talks/\" category=\"\" content-type-name=\"News\" content-type-val=\"1\" image-caption=\"Social media image for the Department of Defense website.\" image-url=\"https://media.defense.gov/2021/Sep/24/2002861270/825/780/0/210923-D-BN624-0273.JPG\" item-index=\"1\" open-in-new=\"\" publish-date-ap=\"Sept. 24, 2021\" publish-date-jss=\"2021-09-24T12:24:00\" term-name=\"Partnerships\" term-url=\"http://www.defense.gov/Search-Results/Term/2582/partnerships/\">\n",
       "</listing-with-preview>\n",
       "<listing-with-preview :has-terms=\"true\" :show-image=\"true\" article-alt='Blue tile with white Pentagon logo and words \"U.S. Department of Defense\"' article-id=\"2786745\" article-image-url=\"https://media.defense.gov/2021/Sep/23/2002860769/825/780/0/210923-D-D0439-111.JPG\" article-summary=\"A new Pentagon logo now adorns the Defense.gov website, along with changes to the site navigation to make it easier for readers to find valuable content.\" article-title=\"New Branding Freshens Up DOD Flagship Website\" article-url=\"http://www.defense.gov/News/News-Stories/Article/Article/2786745/new-branding-freshens-up-dod-flagship-website/\" article-url-or-link=\"http://www.defense.gov/News/News-Stories/Article/Article/2786745/new-branding-freshens-up-dod-flagship-website/\" article-url-or-link-absolute=\"http://www.defense.gov/News/News-Stories/Article/Article/2786745/new-branding-freshens-up-dod-flagship-website/\" category=\"\" content-type-name=\"News\" content-type-val=\"1\" image-caption=\"Social media image for the Department of Defense website.\" image-url=\"https://media.defense.gov/2021/Sep/23/2002860769/825/780/0/210923-D-D0439-111.JPG\" item-index=\"1\" open-in-new=\"\" publish-date-ap=\"Sept. 23, 2021\" publish-date-jss=\"2021-09-23T18:26:00\" term-name=\"Defense News\" term-url=\"http://www.defense.gov/Search-Results/Term/2903/defense-news/\">\n",
       "</listing-with-preview>\n",
       "<listing-with-preview :has-terms=\"true\" :show-image=\"true\" article-alt=\"Airmen check the advantages of new aircraft stands.\" article-id=\"2786695\" article-image-url=\"https://media.defense.gov/2021/Sep/23/2002860519/825/780/0/210410-Z-ET407-9611.JPG\" article-summary=\"If Air Force Gen. Jacqueline D. Van Ovost is confirmed as the next U.S. Transportation Command commander, she said she will make sure it continues to provide the nation with the ability to rapidly project and sustain joint combat power.\" article-title=\"Transcom Nominee Calls Command a U.S. Asymmetric Advantage\" article-url=\"http://www.defense.gov/News/News-Stories/Article/Article/2786695/transcom-nominee-calls-command-a-us-asymmetric-advantage/\" article-url-or-link=\"http://www.defense.gov/News/News-Stories/Article/Article/2786695/transcom-nominee-calls-command-a-us-asymmetric-advantage/\" article-url-or-link-absolute=\"http://www.defense.gov/News/News-Stories/Article/Article/2786695/transcom-nominee-calls-command-a-us-asymmetric-advantage/\" category=\"\" content-type-name=\"News\" content-type-val=\"1\" image-caption=\"Social media image for the Department of Defense website.\" image-url=\"https://media.defense.gov/2021/Sep/23/2002860519/825/780/0/210410-Z-ET407-9611.JPG\" item-index=\"1\" open-in-new=\"\" publish-date-ap=\"Sept. 23, 2021\" publish-date-jss=\"2021-09-23T15:11:37\" term-name=\"Defense News\" term-url=\"http://www.defense.gov/Search-Results/Term/2903/defense-news/\">\n",
       "</listing-with-preview>\n",
       "<listing-with-preview :show-image=\"true\" article-alt=\"A service member works on a vehicle.\" article-id=\"2786626\" article-image-url=\"https://media.defense.gov/2021/Sep/23/2002860508/825/780/0/210513-M-TT434-0409.JPG\" article-summary=\"The transfer of procurement responsibility for more than 900,000 items ranging from nuts, bolts and seals began in March 2020 and will be completed one year ahead of schedule.\" article-title=\"DLA's Realignment of Industrial Hardware Procurement to Streamline Support, Yield Savings\" article-url=\"http://www.defense.gov/News/News-Stories/Article/Article/2786626/dlas-realignment-of-industrial-hardware-procurement-to-streamline-support-yield/\" article-url-or-link=\"http://www.defense.gov/News/News-Stories/Article/Article/2786626/dlas-realignment-of-industrial-hardware-procurement-to-streamline-support-yield/\" article-url-or-link-absolute=\"http://www.defense.gov/News/News-Stories/Article/Article/2786626/dlas-realignment-of-industrial-hardware-procurement-to-streamline-support-yield/\" category=\"\" content-type-name=\"News\" content-type-val=\"1\" image-caption=\"Social media image for the Department of Defense website.\" image-url=\"https://media.defense.gov/2021/Sep/23/2002860508/825/780/0/210513-M-TT434-0409.JPG\" item-index=\"1\" open-in-new=\"\" publish-date-ap=\"Sept. 23, 2021\" publish-date-jss=\"2021-09-23T14:00:00\" term-name=\"\" term-url=\"\">\n",
       "</listing-with-preview>\n",
       "</feature-template>\n",
       "</div>"
      ]
     },
     "execution_count": 43,
     "metadata": {},
     "output_type": "execute_result"
    }
   ],
   "source": [
    "soup.find('div', class_='alist-inner alist-more-here')"
   ]
  },
  {
   "cell_type": "code",
   "execution_count": 3,
   "metadata": {
    "ExecuteTime": {
     "end_time": "2021-11-22T04:25:24.883240Z",
     "start_time": "2021-11-22T04:25:24.574331Z"
    }
   },
   "outputs": [],
   "source": [
    "soup = get_soup('https://pann.nate.com/talk/c20048?page=6')"
   ]
  },
  {
   "cell_type": "code",
   "execution_count": 4,
   "metadata": {
    "ExecuteTime": {
     "end_time": "2021-11-22T04:25:25.488252Z",
     "start_time": "2021-11-22T04:25:25.478248Z"
    }
   },
   "outputs": [],
   "source": [
    "sub_url = soup.find_all('listing-with-preview')\n",
    "urls = [a['article-url'] for a in sub_url]"
   ]
  },
  {
   "cell_type": "code",
   "execution_count": 14,
   "metadata": {
    "ExecuteTime": {
     "end_time": "2021-11-22T02:52:58.109627Z",
     "start_time": "2021-11-22T02:52:46.000249Z"
    }
   },
   "outputs": [],
   "source": [
    "get_latest_allnews('News', \"20210901\", \"20210801\", max_num=10, sleep=1.0)"
   ]
  },
  {
   "cell_type": "code",
   "execution_count": 11,
   "metadata": {
    "ExecuteTime": {
     "end_time": "2021-11-22T04:25:42.236909Z",
     "start_time": "2021-11-22T04:25:42.222587Z"
    },
    "scrolled": true
   },
   "outputs": [
    {
     "data": {
      "text/plain": [
       "[]"
      ]
     },
     "execution_count": 11,
     "metadata": {},
     "output_type": "execute_result"
    }
   ],
   "source": [
    "urls"
   ]
  },
  {
   "cell_type": "code",
   "execution_count": 10,
   "metadata": {
    "ExecuteTime": {
     "end_time": "2021-11-22T04:25:41.526773Z",
     "start_time": "2021-11-22T04:25:41.509779Z"
    },
    "scrolled": true
   },
   "outputs": [],
   "source": [
    "urls = [\"https://pann.nate.com\" + a['href'] for a in sub_url]"
   ]
  },
  {
   "cell_type": "code",
   "execution_count": 8,
   "metadata": {
    "ExecuteTime": {
     "end_time": "2021-11-22T04:25:39.062717Z",
     "start_time": "2021-11-22T04:25:39.053721Z"
    }
   },
   "outputs": [],
   "source": [
    "url = 'https://pann.nate.com/talk/c20048?page=6'"
   ]
  },
  {
   "cell_type": "code",
   "execution_count": 9,
   "metadata": {
    "ExecuteTime": {
     "end_time": "2021-11-22T04:25:40.150765Z",
     "start_time": "2021-11-22T04:25:39.805849Z"
    }
   },
   "outputs": [],
   "source": [
    "sub_urls = get_soup(url).find_all('td', class_ = 'subject')"
   ]
  },
  {
   "cell_type": "code",
   "execution_count": 13,
   "metadata": {
    "ExecuteTime": {
     "end_time": "2021-11-22T04:26:04.846785Z",
     "start_time": "2021-11-22T04:26:04.836779Z"
    }
   },
   "outputs": [],
   "source": [
    "def save(json_obj, directory):\n",
    "    date = json_obj.get('date', '')\n",
    "    title = json_obj.get('title', '')\n",
    "    filepath = '{}/{}_{}.json'.format(directory, date, re.sub('[ㄱ-ㅎ]+',\"\", title[10:50]))\n",
    "    with open(filepath, 'w', encoding='utf-8') as fp:\n",
    "        json.dump(json_obj, fp, indent=2, ensure_ascii=False, sort_keys=True, default=str)\n"
   ]
  },
  {
   "cell_type": "code",
   "execution_count": 19,
   "metadata": {
    "ExecuteTime": {
     "end_time": "2021-11-22T04:26:30.346423Z",
     "start_time": "2021-11-22T04:26:30.335432Z"
    }
   },
   "outputs": [
    {
     "data": {
      "text/plain": [
       "['https://pann.nate.com/talk/359731556?page=6',\n",
       " 'https://pann.nate.com/talk/359634932?page=6',\n",
       " 'https://pann.nate.com/talk/c20048/channel/222270',\n",
       " 'https://pann.nate.com/talk/359491583?page=6',\n",
       " 'https://pann.nate.com/talk/359490114?page=6',\n",
       " 'https://pann.nate.com/talk/359487998?page=6',\n",
       " 'https://pann.nate.com/talk/c20048/channel/222145',\n",
       " 'https://pann.nate.com/talk/359366273?page=6',\n",
       " 'https://pann.nate.com/talk/c20048/channel/198577',\n",
       " 'https://pann.nate.com/talk/359327084?page=6',\n",
       " 'https://pann.nate.com/talk/c20048/channel/85574',\n",
       " 'https://pann.nate.com/talk/c20048/channel/4806',\n",
       " 'https://pann.nate.com/talk/c20048/channel/85574',\n",
       " 'https://pann.nate.com/talk/c20048/channel/4806',\n",
       " 'https://pann.nate.com/talk/c20048/channel/198577',\n",
       " 'https://pann.nate.com/talk/c20048/channel/85574',\n",
       " 'https://pann.nate.com/talk/c20048/channel/210948',\n",
       " 'https://pann.nate.com/talk/358821354?page=6',\n",
       " 'https://pann.nate.com/talk/c20048/channel/198577',\n",
       " 'https://pann.nate.com/talk/c20048/channel/206880',\n",
       " 'https://pann.nate.com/talk/358750054?page=6',\n",
       " 'https://pann.nate.com/talk/c20048/channel/177180',\n",
       " 'https://pann.nate.com/talk/358723389?page=6',\n",
       " 'https://pann.nate.com/talk/c20048/channel/206880',\n",
       " 'https://pann.nate.com/talk/c20048/channel/198577',\n",
       " 'https://pann.nate.com/talk/358650280?page=6',\n",
       " 'https://pann.nate.com/talk/358649019?page=6',\n",
       " 'https://pann.nate.com/talk/358644242?page=6',\n",
       " 'https://pann.nate.com/talk/358631141?page=6',\n",
       " 'https://pann.nate.com/talk/358612902?page=6']"
      ]
     },
     "execution_count": 19,
     "metadata": {},
     "output_type": "execute_result"
    }
   ],
   "source": [
    "urls"
   ]
  },
  {
   "cell_type": "code",
   "execution_count": 17,
   "metadata": {
    "ExecuteTime": {
     "end_time": "2021-11-22T04:26:25.900361Z",
     "start_time": "2021-11-22T04:26:25.886359Z"
    }
   },
   "outputs": [],
   "source": [
    "urls = [\"https://pann.nate.com\" + a.find('a')['href'] for a in sub_urls]"
   ]
  },
  {
   "cell_type": "code",
   "execution_count": 24,
   "metadata": {
    "ExecuteTime": {
     "end_time": "2021-11-22T04:27:11.144229Z",
     "start_time": "2021-11-22T04:27:11.135213Z"
    }
   },
   "outputs": [],
   "source": [
    "def parse_page(url):\n",
    "    \"\"\"\n",
    "    Argument\n",
    "    --------\n",
    "    url : str\n",
    "        Web page url\n",
    "\n",
    "    Returns\n",
    "    -------\n",
    "    json_object : dict\n",
    "        JSON format web page contents\n",
    "        It consists with\n",
    "            title : article title\n",
    "            time : article written time\n",
    "            content : text with line separator \\\\n\n",
    "            url : web page url\n",
    "            scrap_time : scrapped time\n",
    "    \"\"\"\n",
    "\n",
    "    soup = get_soup(url)\n",
    "    \n",
    "    title = soup.find('h4').text\n",
    "    title = re.sub('\\n', '' , title, 100)\n",
    "    title = re.sub('\\r', '' , title, 100)\n",
    "    \n",
    "    content = soup.find('div', id = 'contentArea').text\n",
    "    content = re.sub('xa', '' , content, 10000)\n",
    "    content = re.sub('\\t', '' , content, 10000)\n",
    "    content = re.sub('\\r', '' , content, 10000)\n",
    "    content = re.sub('\\xa0ab', '' , content, 1000)\n",
    "    content = re.sub('\\ufeff', '' , content, 1000)\n",
    "\n",
    "    date =  parse(soup.find('span', class_='date').text).strftime(\"%Y-%m-%d\")\n",
    "\n",
    "    json_object = {\n",
    "        'title' : title,\n",
    "        'date' : date,\n",
    "        'content' : content,\n",
    "        'url' : url,\n",
    "        'source' : \"nate\"}\n",
    "\n",
    "    return json_object"
   ]
  },
  {
   "cell_type": "code",
   "execution_count": 25,
   "metadata": {
    "ExecuteTime": {
     "end_time": "2021-11-22T04:27:11.625365Z",
     "start_time": "2021-11-22T04:27:11.622362Z"
    }
   },
   "outputs": [],
   "source": [
    "from dateutil.parser import parse"
   ]
  },
  {
   "cell_type": "code",
   "execution_count": 26,
   "metadata": {
    "ExecuteTime": {
     "end_time": "2021-11-22T04:27:12.363238Z",
     "start_time": "2021-11-22T04:27:12.061506Z"
    }
   },
   "outputs": [
    {
     "data": {
      "text/plain": [
       "{'title': '저는 아빠랍니다~^^',\n",
       " 'date': '2021-05-14',\n",
       " 'content': '\\n저는 이런 자식 없습니다~ \\n아빠보고 엄마라고 부르는 자식이 세상 어디에 있을까요?~^^\\n\\n모두 스팸 조심하세요~\\n ',\n",
       " 'url': 'https://pann.nate.com/talk/359731556?page=6',\n",
       " 'source': 'nate'}"
      ]
     },
     "execution_count": 26,
     "metadata": {},
     "output_type": "execute_result"
    }
   ],
   "source": [
    "parse_page(urls[0])"
   ]
  },
  {
   "cell_type": "code",
   "execution_count": 27,
   "metadata": {
    "ExecuteTime": {
     "end_time": "2021-11-22T04:27:15.996825Z",
     "start_time": "2021-11-22T04:27:15.973826Z"
    }
   },
   "outputs": [],
   "source": [
    "soup.find('div', id = 'contentArea')"
   ]
  },
  {
   "cell_type": "code",
   "execution_count": 28,
   "metadata": {
    "ExecuteTime": {
     "end_time": "2021-11-22T04:27:16.342676Z",
     "start_time": "2021-11-22T04:27:16.319660Z"
    }
   },
   "outputs": [
    {
     "ename": "AttributeError",
     "evalue": "'NoneType' object has no attribute 'text'",
     "output_type": "error",
     "traceback": [
      "\u001b[1;31m---------------------------------------------------------------------------\u001b[0m",
      "\u001b[1;31mAttributeError\u001b[0m                            Traceback (most recent call last)",
      "\u001b[1;32m<ipython-input-28-21870c5faa05>\u001b[0m in \u001b[0;36m<module>\u001b[1;34m\u001b[0m\n\u001b[1;32m----> 1\u001b[1;33m \u001b[0msoup\u001b[0m\u001b[1;33m.\u001b[0m\u001b[0mfind\u001b[0m\u001b[1;33m(\u001b[0m\u001b[1;34m'div'\u001b[0m\u001b[1;33m,\u001b[0m \u001b[0mid\u001b[0m \u001b[1;33m=\u001b[0m \u001b[1;34m'contentArea'\u001b[0m\u001b[1;33m)\u001b[0m\u001b[1;33m.\u001b[0m\u001b[0mtext\u001b[0m\u001b[1;33m\u001b[0m\u001b[1;33m\u001b[0m\u001b[0m\n\u001b[0m",
      "\u001b[1;31mAttributeError\u001b[0m: 'NoneType' object has no attribute 'text'"
     ]
    }
   ],
   "source": [
    "soup.find('div', id = 'contentArea').text"
   ]
  },
  {
   "cell_type": "code",
   "execution_count": 111,
   "metadata": {
    "ExecuteTime": {
     "end_time": "2021-11-22T03:32:52.737996Z",
     "start_time": "2021-11-22T03:32:52.720992Z"
    }
   },
   "outputs": [],
   "source": [
    "content = soup.find('div', id = 'contentArea').text\n",
    "content = re.sub('\\n', '' , content, 10000)\n",
    "content = re.sub('\\t', '' , content, 10000)\n",
    "content = re.sub('\\r', '' , content, 10000)\n",
    "content = re.sub('\\xa0ab', '' , content, 1000)\n",
    "content = re.sub('\\ufeff', '`' , content, 1000)"
   ]
  },
  {
   "cell_type": "code",
   "execution_count": 49,
   "metadata": {
    "ExecuteTime": {
     "end_time": "2021-11-22T04:32:27.744309Z",
     "start_time": "2021-11-22T04:32:27.726292Z"
    }
   },
   "outputs": [],
   "source": [
    "\n",
    "def get_latest_allnews(section, max_num=10, sleep=1.0):\n",
    "    \"\"\"\n",
    "    Arguments\n",
    "    ---------\n",
    "    begin_page : int\n",
    "        Default is 1\n",
    "    end_page : int\n",
    "        Default is 3\n",
    "    verbose : Boolean\n",
    "        If True, print current status\n",
    "\n",
    "    Returns\n",
    "    -------\n",
    "    links_all : list of str\n",
    "        List of urls\n",
    "    \"\"\"\n",
    "    \n",
    "    pattern = re.compile('https://pann.nate.com/talk/c20048/channel/')\n",
    "\n",
    "    def is_matched(url):\n",
    "        if pattern.match(url):\n",
    "            return False\n",
    "        return True\n",
    "    \n",
    "    \n",
    "    section = str(section)\n",
    "    for pagenum in range(1, max_num):   \n",
    "\n",
    "        url = \"https://pann.nate.com/talk/{}?page={}\".format(section, pagenum)\n",
    "        soup = get_soup(url)\n",
    "        sub_url = get_soup(url).find_all('td', class_ = 'subject')\n",
    "        \n",
    "        urls = [\"https://pann.nate.com\" + a.find('a')['href'] for a in sub_url]\n",
    "        urls = [url for url in urls if is_matched(url)]\n",
    "        \n",
    "        for each_url in urls:\n",
    "            print(each_url)\n",
    "            news_json = parse_page(each_url)\n",
    "            print(news_json)\n",
    "            \n",
    "            # yield\n",
    "            return news_json\n",
    "            time.sleep(sleep)\n"
   ]
  },
  {
   "cell_type": "code",
   "execution_count": 53,
   "metadata": {
    "ExecuteTime": {
     "end_time": "2021-11-22T04:36:12.922569Z",
     "start_time": "2021-11-22T04:36:12.911572Z"
    }
   },
   "outputs": [],
   "source": [
    "\n",
    "def get_latest_allnews(section, max_num=10, sleep=1.0):\n",
    "    \"\"\"\n",
    "    Arguments\n",
    "    ---------\n",
    "    begin_page : int\n",
    "        Default is 1\n",
    "    end_page : int\n",
    "        Default is 3\n",
    "    verbose : Boolean\n",
    "        If True, print current status\n",
    "\n",
    "    Returns\n",
    "    -------\n",
    "    links_all : list of str\n",
    "        List of urls\n",
    "    \"\"\"\n",
    "    \n",
    "    pattern = re.compile('https://pann.nate.com/talk/c20048/channel/')\n",
    "\n",
    "    def is_matched(url):\n",
    "        if pattern.match(url):\n",
    "            return False\n",
    "        return True\n",
    "    \n",
    "    \n",
    "    section = str(section)\n",
    "    for pagenum in range(1, max_num):   \n",
    "\n",
    "        url = \"https://pann.nate.com/talk/{}?page={}\".format(section, pagenum)\n",
    "        soup = get_soup(url)\n",
    "        sub_urls = get_soup(url).find_all('td', class_ = 'subject')\n",
    "        \n",
    "        urls = [\"https://pann.nate.com\" + a.find('a')['href'] for a in sub_urls]\n",
    "        urls = [url for url in urls if is_matched(url)]\n",
    "        \n",
    "        for each_url in urls:\n",
    "            print(each_url)\n",
    "            try:\n",
    "                news_json = parse_page(each_url)\n",
    "                print(news_json)\n",
    "            except:\n",
    "                print(\"error2\")\n",
    "                pass\n",
    "            \n",
    "            # yield\n",
    "            return news_json\n",
    "            time.sleep(sleep)\n"
   ]
  },
  {
   "cell_type": "code",
   "execution_count": 55,
   "metadata": {
    "ExecuteTime": {
     "end_time": "2021-11-22T04:36:19.077083Z",
     "start_time": "2021-11-22T04:36:19.070097Z"
    }
   },
   "outputs": [
    {
     "data": {
      "text/plain": [
       "'2021-11-22'"
      ]
     },
     "execution_count": 55,
     "metadata": {},
     "output_type": "execute_result"
    }
   ],
   "source": [
    "temp.get('date', '')"
   ]
  },
  {
   "cell_type": "code",
   "execution_count": 56,
   "metadata": {
    "ExecuteTime": {
     "end_time": "2021-11-22T04:37:13.748588Z",
     "start_time": "2021-11-22T04:37:12.430434Z"
    }
   },
   "outputs": [
    {
     "name": "stdout",
     "output_type": "stream",
     "text": [
      "https://pann.nate.com/talk/363740147?page=1\n",
      "{'title': '이번주별자리운세 보고 가세요 ! 재미로보는 별자리 운세~!', 'date': '2021-11-22', 'content': '\\n\\xa0\\xa0\\xa0\\xa0\\xa0재미로 보는 이번주 별자리 운세에요~!여러분 월요팅하세요!!!출저 : 품격선생 감우품격선생 - 타로,운세,사주,궁합,신점,역학,운세상담,전화상담,꿈해몽,토정비결, (dignitymento.com)\\xa0\\n ', 'url': 'https://pann.nate.com/talk/363740147?page=1', 'source': 'nate'}\n"
     ]
    }
   ],
   "source": [
    "temp = get_latest_allnews(\"c20048\", max_num=10, sleep=1.0)"
   ]
  },
  {
   "cell_type": "code",
   "execution_count": 119,
   "metadata": {
    "ExecuteTime": {
     "end_time": "2021-11-22T03:35:24.407421Z",
     "start_time": "2021-11-22T03:35:24.391433Z"
    }
   },
   "outputs": [
    {
     "data": {
      "text/plain": [
       "'\\n\\ufeff오늘 친구 어머니께서 갑자기 폐에 부종이 있고 염증이 생겨 병원에 입원을 하시게 되었는데요의사가 급한 상황이라고, 당장 내일 수술을 해야한다고 했다네요.. ㅠㅠ근데 코로나덕분에 전체적으로 피가 턱없이 부족한 상황이라환자가 직접 피를 구해와야 하는 상황이라고 합니다 ㅠ혹시나\\xa0ab형이신분들, 시간 되시면김포우리병원 김애자\\xa0님 앞으로\\xa0지정헌혈\\xa0부탁드려요(+)집에 잠자고 있는 헌혈증도 보내주시면 도움이 될거예요대표전화 031-999-1000\\xa0\\xa010099 경기도 김포시 감암로 11 김포우리병원 김애자님\\ufeff\\n '"
      ]
     },
     "execution_count": 119,
     "metadata": {},
     "output_type": "execute_result"
    }
   ],
   "source": [
    "soup.find('div', id = 'contentArea').text"
   ]
  },
  {
   "cell_type": "code",
   "execution_count": 128,
   "metadata": {
    "ExecuteTime": {
     "end_time": "2021-11-22T03:37:10.306689Z",
     "start_time": "2021-11-22T03:37:09.999692Z"
    },
    "scrolled": false
   },
   "outputs": [
    {
     "data": {
      "text/plain": [
       "{'title': 'ab형이신분들 죄송하지만 지정헌혈좀 부탁드려요 ㅠㅠ',\n",
       " 'date': '2021-05-10',\n",
       " 'content': '\\n오늘 친구 어머니께서 갑자기 폐에 부종이 있고 염증이 생겨 병원에 입원을 하시게 되었는데요의사가 급한 상황이라고, 당장 내일 수술을 해야한다고 했다네요.. ㅠㅠ근데 코로나덕분에 전체적으로 피가 턱없이 부족한 상황이라환자가 직접 피를 구해와야 하는 상황이라고 합니다 ㅠ혹시나형이신분들, 시간 되시면김포우리병원 김애자\\xa0님 앞으로\\xa0지정헌혈\\xa0부탁드려요(+)집에 잠자고 있는 헌혈증도 보내주시면 도움이 될거예요대표전화 031-999-1000\\xa0\\xa010099 경기도 김포시 감암로 11 김포우리병원 김애자님\\n ',\n",
       " 'url': 'https://pann.nate.com/talk/359634932?page=6',\n",
       " 'source': 'nate',\n",
       " 'scrap_time': '2021-11-22 03:37:10'}"
      ]
     },
     "execution_count": 128,
     "metadata": {},
     "output_type": "execute_result"
    }
   ],
   "source": [
    "parse_page(b[0])"
   ]
  },
  {
   "cell_type": "code",
   "execution_count": null,
   "metadata": {},
   "outputs": [],
   "source": []
  }
 ],
 "metadata": {
  "hide_input": false,
  "kernelspec": {
   "display_name": "Python 3",
   "language": "python",
   "name": "python3"
  },
  "language_info": {
   "codemirror_mode": {
    "name": "ipython",
    "version": 3
   },
   "file_extension": ".py",
   "mimetype": "text/x-python",
   "name": "python",
   "nbconvert_exporter": "python",
   "pygments_lexer": "ipython3",
   "version": "3.8.8"
  },
  "toc": {
   "base_numbering": 1,
   "nav_menu": {},
   "number_sections": true,
   "sideBar": true,
   "skip_h1_title": false,
   "title_cell": "Table of Contents",
   "title_sidebar": "Contents",
   "toc_cell": false,
   "toc_position": {},
   "toc_section_display": true,
   "toc_window_display": false
  },
  "varInspector": {
   "cols": {
    "lenName": 16,
    "lenType": 16,
    "lenVar": 40
   },
   "kernels_config": {
    "python": {
     "delete_cmd_postfix": "",
     "delete_cmd_prefix": "del ",
     "library": "var_list.py",
     "varRefreshCmd": "print(var_dic_list())"
    },
    "r": {
     "delete_cmd_postfix": ") ",
     "delete_cmd_prefix": "rm(",
     "library": "var_list.r",
     "varRefreshCmd": "cat(var_dic_list()) "
    }
   },
   "oldHeight": 122.545454,
   "position": {
    "height": "40px",
    "left": "1007.45px",
    "right": "20px",
    "top": "139px",
    "width": "250px"
   },
   "types_to_exclude": [
    "module",
    "function",
    "builtin_function_or_method",
    "instance",
    "_Feature"
   ],
   "varInspector_section_display": "none",
   "window_display": true
  }
 },
 "nbformat": 4,
 "nbformat_minor": 2
}
