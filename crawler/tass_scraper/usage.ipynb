{
 "cells": [
  {
   "cell_type": "code",
   "execution_count": 1,
   "metadata": {
    "ExecuteTime": {
     "end_time": "2022-01-09T05:08:39.887139Z",
     "start_time": "2022-01-09T05:08:39.136929Z"
    }
   },
   "outputs": [],
   "source": [
    "import re\n",
    "import requests\n",
    "from datetime import datetime\n",
    "from bs4 import BeautifulSoup, Tag\n",
    "from time import gmtime, strftime\n",
    "from bs4 import BeautifulSoup, NavigableString\n",
    "import pandas as pd\n",
    "def now():\n",
    "    \"\"\"\n",
    "    Returns\n",
    "    -------\n",
    "    Current time : str\n",
    "        eg: 2018-11-22 13:35:23\n",
    "    \"\"\"\n",
    "    return strftime(\"%Y-%m-%d-%W %H:%M:%S\", gmtime())\n",
    "\n",
    "def get_soup(url, headers=None):\n",
    "    \"\"\"\n",
    "    Arguments\n",
    "    ---------\n",
    "    url : str\n",
    "        Web page url\n",
    "    headers : dict\n",
    "        Headers for requests. If None, use Mozilla/5.0 as default user-agent\n",
    "\n",
    "    Returns\n",
    "    -------\n",
    "    soup : bs4.BeautifulSoup\n",
    "        Soup format web page\n",
    "    \"\"\"\n",
    "\n",
    "    if headers is None:\n",
    "        headers = {'User-Agent': 'Mozilla/5.0 (X11; Linux x86_64) AppleWebKit/537.36 (KHTML, like Gecko) Chrome/67.0.3396.99 Safari/537.36'}\n",
    "    r = requests.get(url, headers=headers)\n",
    "    html = r.text\n",
    "    page = BeautifulSoup(html, 'lxml')\n",
    "    return page\n",
    "\n",
    "doublespace_pattern = re.compile('\\s+')\n",
    "lineseparator_pattern = re.compile('\\n+')\n",
    "\n",
    "def normalize_text(text):\n",
    "    text = text.replace('\\t', ' ')\n",
    "    text = text.replace('\\r', ' ')\n",
    "    text = lineseparator_pattern.sub('\\n', text)\n",
    "    text = doublespace_pattern.sub(' ', text)\n",
    "    return text.strip()\n"
   ]
  },
  {
   "cell_type": "code",
   "execution_count": 2,
   "metadata": {
    "ExecuteTime": {
     "end_time": "2022-01-09T05:08:39.917145Z",
     "start_time": "2022-01-09T05:08:39.904143Z"
    },
    "scrolled": true
   },
   "outputs": [],
   "source": [
    "from dateutil.parser import parse\n",
    "def to_string(instance):\n",
    "    final_string = ''\n",
    "    if isinstance(instance, NavigableString):\n",
    "        return instance\n",
    "    for contents in instance.contents:\n",
    "        final_string += to_string(contents)\n",
    "    return final_string"
   ]
  },
  {
   "cell_type": "code",
   "execution_count": 3,
   "metadata": {
    "ExecuteTime": {
     "end_time": "2022-01-09T05:08:39.947152Z",
     "start_time": "2022-01-09T05:08:39.934152Z"
    }
   },
   "outputs": [],
   "source": [
    "\n",
    "## this function need to url from urls. use for\n",
    "\n",
    "\n",
    "def parse_article(url):\n",
    "    def parse_title(soup):\n",
    "        title = soup.find('h1', class_ ='news-header__title').text.replace('\\n\\n', '')\n",
    "        subtitle = soup.find('div', class_ ='news-header__lead').text.replace('\\n\\n', '')\n",
    "        fulltitle = title + '. ' +subtitle\n",
    "        \n",
    "        if not title:\n",
    "            return 'title error'\n",
    "        return title        \n",
    "    \n",
    "    def parse_date(soup):\n",
    "        start = re.search(\"article_publication_date\", soup.text).end() + 3\n",
    "        end = start + 16\n",
    "        time = parse(soup.text[start:end]).strftime(\"%Y-%m-%d\")\n",
    "        if not time:\n",
    "            return 'date error'\n",
    "        return time\n",
    "    \n",
    "    def parse_content(soup):\n",
    "        content = soup.find('div', class_ = 'text-block').text.replace('’s', '`s')\n",
    "        if not content:\n",
    "            return ' '\n",
    "        return normalize_text(content).replace(u'\\xa0', u' ')\n",
    "\n",
    "    def parse_category(soup):\n",
    "        category = url.split('/')[3]\n",
    "        if not category:\n",
    "            return ' '\n",
    "        return category\n",
    "    soup = get_soup(url)\n",
    "\n",
    "    fist_dic =  {\n",
    "            'url': url,\n",
    "            'title': parse_title(soup), \n",
    "            'date': parse_date(soup),\n",
    "            'content' :parse_content(soup),\n",
    "            'category' : parse_category(soup).replace(\" \", \"\"),\n",
    "            'source': \"Tass (Russaia)\",\n",
    "            'scraping_date': now()\n",
    "    }\n",
    "    return fist_dic"
   ]
  },
  {
   "cell_type": "code",
   "execution_count": 7,
   "metadata": {
    "ExecuteTime": {
     "end_time": "2022-01-09T05:47:47.872165Z",
     "start_time": "2022-01-09T05:47:47.854161Z"
    }
   },
   "outputs": [],
   "source": [
    "url = 'https://tass.com/politics/1423895'"
   ]
  },
  {
   "cell_type": "code",
   "execution_count": 8,
   "metadata": {},
   "outputs": [
    {
     "data": {
      "text/plain": [
       "<html><head><meta content=\"noindex, noarchive\" name=\"robots\"/><style>.gorizontal-vertikal {position: absolute;margin: auto;top: 0;right: 0;bottom: 0;left: 0;width: 66px;height: 66px;}</style></head>\n",
       "<body><div class=\"gorizontal-vertikal\"><img src=\"https://static.stormwall.pro/ajax-loader.gif\"/></div>\n",
       "<script>\n",
       "            function fixedEncodeURIComponent(str) {return encodeURIComponent(str).replace(/[!'()*]/g, function (c) { return \"%\" + c.charCodeAt(0).toString(16); });}\n",
       "            function get_jhash(b) {var x = 123456789;var i = 0; var k = 0;for (i = 0; i < 1677696; i++) {x = ((x + b) ^ (x + (x % 3) + (x % 17) + b) ^ i) % 16776960;if (x % 117 == 0) { k = (k + 1) % 1111; }}return k;}\n",
       "            function get_param(store, type, id){\n",
       "                var o = document.cookie.split(';');var p = undefined;for (var i=0; i<o.length; i++){if (o[i].indexOf(store) != -1){var a=o[i].split('=');if (a.length > 1){var q = a[1].split(',');if (q.length > id){p = q[id];}}}}\n",
       "                if (p == undefined){if (type == \"int\"){return 0;}if (type == \"str\"){return \"\";}}if (type == \"int\"){return parseInt(p);}return p+\"\";}\n",
       "            function get_utm_medium(){var mediums = { \"organic\": [\"yandex\", \"google\", \"bing\", \"search.yahoo\", \"yahoo\"], \"referral\": null };var m, a, v, f = 0;var p = document.createElement(\"a\"); p.href = document.referrer;for (m in mediums) {a = mediums[m];if (a == null) { break; }f = 0;for (var i = 0; i < a.length; i++) {v = a[i];if (p.hostname.indexOf(v + '.') == 0 || p.hostname.indexOf('www.' + v + '.') == 0){ f = 1; break; }}if (f === 1) { break; }}return m;}\n",
       "            function mini_hostname(hostname, medium){\n",
       "                if (hostname == undefined || hostname == \"\"){\n",
       "                    return hostname;\n",
       "                }\n",
       "                hostname = hostname.replace(\"www.\", \"\");\n",
       "                if (medium == \"organic\"){\n",
       "                    if (get_param(\"__js_p_\", \"int\", 3) == 1){\n",
       "                        hostname = hostname.split(\".\")[0];\n",
       "                    }\n",
       "                }\n",
       "                return hostname;\n",
       "            }\n",
       "            function construct_utm_uri() {\n",
       "                var p = document.createElement(\"a\");\n",
       "                p.href = document.referrer;\n",
       "                if (p.href == \"\") \n",
       "                { return window.location.href; }\n",
       "                var ref = p.hostname.replace(\"www.\", \"\");\n",
       "                var loc = window.location.hostname.replace(\"www.\", \"\");\n",
       "                if (loc == ref)\n",
       "                { return window.location.href; }\n",
       "                if (window.location.href.indexOf(\"utm_\") != -1 || window.location.href.indexOf(\"gclid=\") != -1 || window.location.href.indexOf(\"yclid=\") != -1)\n",
       "                { return window.location.href; }\n",
       "                var uri = window.location.href;\n",
       "                if (uri.indexOf(\"?\") != -1) {\n",
       "                    uri += \"&\";\n",
       "                } else {\n",
       "                    uri += \"?\";\n",
       "                }\n",
       "                var medium = get_utm_medium();\n",
       "                var hostname = mini_hostname(p.hostname, medium);\n",
       "\n",
       "                uri += \"utm_source=\" + hostname + \"&utm_medium=\" + medium + \"&utm_campaign=\" + hostname + \"&utm_referrer=\" + hostname;\n",
       "                return uri;\n",
       "            }\n",
       "            setTimeout(function () {\n",
       "                var code = get_param(\"__js_p_\", \"int\", 0);\n",
       "                var age = get_param(\"__js_p_\", \"int\", 1);\n",
       "                var sec = get_param(\"__js_p_\", \"int\", 2);\n",
       "                var jhash = get_jhash(code);\n",
       "                document.cookie = \"__jhash_=\" + jhash + \";max-age=\" + age + \"; \" + (sec ? \"SameSite=None;Secure;\" : \"\") + \" Path=/\";\n",
       "                document.cookie = \"__jua_=\" + fixedEncodeURIComponent(navigator.userAgent) + \";max-age=\" + age + \"; \" + (sec ? \"SameSite=None;Secure;\" : \"\") + \" Path=/\";\n",
       "                window.location.href = construct_utm_uri();\n",
       "            }, 1 * 1000);\n",
       "        </script></body></html>"
      ]
     },
     "execution_count": 8,
     "metadata": {},
     "output_type": "execute_result"
    }
   ],
   "source": [
    "get_soup(url)"
   ]
  },
  {
   "cell_type": "code",
   "execution_count": 6,
   "metadata": {
    "ExecuteTime": {
     "end_time": "2022-01-09T05:18:02.317336Z",
     "start_time": "2022-01-09T05:18:02.306317Z"
    }
   },
   "outputs": [
    {
     "data": {
      "text/plain": [
       "datetime.date(1701, 4, 16)"
      ]
     },
     "execution_count": 6,
     "metadata": {},
     "output_type": "execute_result"
    }
   ],
   "source": [
    "import datetime\n",
    "datetime.datetime.strptime('1641701', \"%d%m%Y\").date()"
   ]
  },
  {
   "cell_type": "code",
   "execution_count": 7,
   "metadata": {
    "ExecuteTime": {
     "end_time": "2022-01-09T05:45:10.956928Z",
     "start_time": "2022-01-09T05:45:10.948926Z"
    }
   },
   "outputs": [],
   "source": [
    "\n",
    "def parse_article(url):\n",
    "    def parse_title(soup):\n",
    "        title = soup.find('h1', class_ ='news-header__title').text.replace('\\n\\n', '')\n",
    "        subtitle = soup.find('div', class_ ='news-header__lead').text.replace('\\n\\n', '')\n",
    "        fulltitle = title + '. ' +subtitle\n",
    "        \n",
    "        if not title:\n",
    "            return 'title error'\n",
    "        return title        \n",
    "    \n",
    "    def parse_date(soup):\n",
    "        start = re.search(\"article_publication_date\", soup.text).end() + 3\n",
    "        end = start + 16\n",
    "        time = parse(get_soup(url).find('div', class_='text-block').text[11:21] +\" 2022\")\n",
    "        if not time:\n",
    "            return 'date error'\n",
    "        return time\n",
    "    \n",
    "    def parse_content(soup):\n",
    "        content = soup.find('div', class_ = 'text-block').text.replace('’s', '`s')\n",
    "        if not content:\n",
    "            return ' '\n",
    "        return normalize_text(content).replace(u'\\xa0', u' ')\n",
    "\n",
    "    def parse_category(soup):\n",
    "        category = url.split('/')[3]\n",
    "        if not category:\n",
    "            return ' '\n",
    "        return category\n",
    "    soup = get_soup(url)\n",
    "\n",
    "    fist_dic =  {\n",
    "            'url': url,\n",
    "            'title': parse_title(soup), \n",
    "            'date': parse_date(soup),\n",
    "            'content' :parse_content(soup),\n",
    "            'category' : parse_category(soup).replace(\" \", \"\"),\n",
    "            'source': \"Tass (Russaia)\",\n",
    "            'scraping_date': now()\n",
    "    }\n",
    "    return fist_dic"
   ]
  },
  {
   "cell_type": "code",
   "execution_count": 17,
   "metadata": {
    "ExecuteTime": {
     "end_time": "2022-01-09T05:47:51.450437Z",
     "start_time": "2022-01-09T05:47:50.048853Z"
    }
   },
   "outputs": [],
   "source": [
    "soup = get_soup(url)"
   ]
  },
  {
   "cell_type": "code",
   "execution_count": 18,
   "metadata": {
    "ExecuteTime": {
     "end_time": "2022-01-09T05:47:51.495442Z",
     "start_time": "2022-01-09T05:47:51.481431Z"
    }
   },
   "outputs": [
    {
     "data": {
      "text/plain": [
       "'\\n\\n'"
      ]
     },
     "execution_count": 18,
     "metadata": {},
     "output_type": "execute_result"
    }
   ],
   "source": [
    "soup.text"
   ]
  },
  {
   "cell_type": "code",
   "execution_count": 19,
   "metadata": {
    "ExecuteTime": {
     "end_time": "2022-01-09T05:47:55.308159Z",
     "start_time": "2022-01-09T05:47:55.296153Z"
    }
   },
   "outputs": [
    {
     "ename": "AttributeError",
     "evalue": "'NoneType' object has no attribute 'text'",
     "output_type": "error",
     "traceback": [
      "\u001b[1;31m---------------------------------------------------------------------------\u001b[0m",
      "\u001b[1;31mAttributeError\u001b[0m                            Traceback (most recent call last)",
      "\u001b[1;32m~\\AppData\\Local\\Temp/ipykernel_30148/1265550513.py\u001b[0m in \u001b[0;36m<module>\u001b[1;34m\u001b[0m\n\u001b[1;32m----> 1\u001b[1;33m \u001b[0msoup\u001b[0m\u001b[1;33m.\u001b[0m\u001b[0mfind\u001b[0m\u001b[1;33m(\u001b[0m\u001b[1;34m'h1'\u001b[0m\u001b[1;33m,\u001b[0m \u001b[0mclass_\u001b[0m \u001b[1;33m=\u001b[0m\u001b[1;34m'news-header__title'\u001b[0m\u001b[1;33m)\u001b[0m\u001b[1;33m.\u001b[0m\u001b[0mtext\u001b[0m\u001b[1;33m.\u001b[0m\u001b[0mreplace\u001b[0m\u001b[1;33m(\u001b[0m\u001b[1;34m'\\n\\n'\u001b[0m\u001b[1;33m,\u001b[0m \u001b[1;34m''\u001b[0m\u001b[1;33m)\u001b[0m\u001b[1;33m\u001b[0m\u001b[1;33m\u001b[0m\u001b[0m\n\u001b[0m",
      "\u001b[1;31mAttributeError\u001b[0m: 'NoneType' object has no attribute 'text'"
     ]
    }
   ],
   "source": [
    "soup.find('h1', class_ ='news-header__title').text.replace('\\n\\n', '')"
   ]
  },
  {
   "cell_type": "code",
   "execution_count": 20,
   "metadata": {
    "ExecuteTime": {
     "end_time": "2022-01-09T05:37:28.987784Z",
     "start_time": "2022-01-09T05:37:28.964796Z"
    }
   },
   "outputs": [
    {
     "ename": "AttributeError",
     "evalue": "'NoneType' object has no attribute 'end'",
     "output_type": "error",
     "traceback": [
      "\u001b[1;31m---------------------------------------------------------------------------\u001b[0m",
      "\u001b[1;31mAttributeError\u001b[0m                            Traceback (most recent call last)",
      "\u001b[1;32m~\\AppData\\Local\\Temp/ipykernel_30148/1642000313.py\u001b[0m in \u001b[0;36m<module>\u001b[1;34m\u001b[0m\n\u001b[1;32m----> 1\u001b[1;33m \u001b[0mre\u001b[0m\u001b[1;33m.\u001b[0m\u001b[0msearch\u001b[0m\u001b[1;33m(\u001b[0m\u001b[1;34m\"article_publication_date\"\u001b[0m\u001b[1;33m,\u001b[0m \u001b[0mstr\u001b[0m\u001b[1;33m(\u001b[0m\u001b[0msoup\u001b[0m\u001b[1;33m)\u001b[0m\u001b[1;33m)\u001b[0m\u001b[1;33m.\u001b[0m\u001b[0mend\u001b[0m\u001b[1;33m(\u001b[0m\u001b[1;33m)\u001b[0m \u001b[1;33m+\u001b[0m \u001b[1;36m3\u001b[0m\u001b[1;33m\u001b[0m\u001b[1;33m\u001b[0m\u001b[0m\n\u001b[0m",
      "\u001b[1;31mAttributeError\u001b[0m: 'NoneType' object has no attribute 'end'"
     ]
    }
   ],
   "source": [
    "re.search(\"article_publication_date\", str(soup)).end() + 3"
   ]
  },
  {
   "cell_type": "code",
   "execution_count": 21,
   "metadata": {
    "ExecuteTime": {
     "end_time": "2022-01-09T05:37:49.902205Z",
     "start_time": "2022-01-09T05:37:49.877194Z"
    }
   },
   "outputs": [
    {
     "ename": "AttributeError",
     "evalue": "'NoneType' object has no attribute 'end'",
     "output_type": "error",
     "traceback": [
      "\u001b[1;31m---------------------------------------------------------------------------\u001b[0m",
      "\u001b[1;31mAttributeError\u001b[0m                            Traceback (most recent call last)",
      "\u001b[1;32m~\\AppData\\Local\\Temp/ipykernel_30148/2815478207.py\u001b[0m in \u001b[0;36m<module>\u001b[1;34m\u001b[0m\n\u001b[1;32m----> 1\u001b[1;33m \u001b[0mstart\u001b[0m \u001b[1;33m=\u001b[0m \u001b[0mre\u001b[0m\u001b[1;33m.\u001b[0m\u001b[0msearch\u001b[0m\u001b[1;33m(\u001b[0m\u001b[1;34m\"article_publication_date\"\u001b[0m\u001b[1;33m,\u001b[0m \u001b[0mstr\u001b[0m\u001b[1;33m(\u001b[0m\u001b[0msoup\u001b[0m\u001b[1;33m)\u001b[0m\u001b[1;33m)\u001b[0m\u001b[1;33m.\u001b[0m\u001b[0mend\u001b[0m\u001b[1;33m(\u001b[0m\u001b[1;33m)\u001b[0m \u001b[1;33m+\u001b[0m \u001b[1;36m3\u001b[0m\u001b[1;33m\u001b[0m\u001b[1;33m\u001b[0m\u001b[0m\n\u001b[0m\u001b[0;32m      2\u001b[0m \u001b[0mend\u001b[0m \u001b[1;33m=\u001b[0m \u001b[0mstart\u001b[0m \u001b[1;33m+\u001b[0m \u001b[1;36m16\u001b[0m\u001b[1;33m\u001b[0m\u001b[1;33m\u001b[0m\u001b[0m\n",
      "\u001b[1;31mAttributeError\u001b[0m: 'NoneType' object has no attribute 'end'"
     ]
    }
   ],
   "source": [
    "start = re.search(\"article_publication_date\", str(soup)).end() + 3\n",
    "end = start + 16"
   ]
  },
  {
   "cell_type": "code",
   "execution_count": 22,
   "metadata": {
    "ExecuteTime": {
     "end_time": "2022-01-09T05:38:05.174946Z",
     "start_time": "2022-01-09T05:38:05.159948Z"
    }
   },
   "outputs": [
    {
     "ename": "NameError",
     "evalue": "name 'start' is not defined",
     "output_type": "error",
     "traceback": [
      "\u001b[1;31m---------------------------------------------------------------------------\u001b[0m",
      "\u001b[1;31mNameError\u001b[0m                                 Traceback (most recent call last)",
      "\u001b[1;32m~\\AppData\\Local\\Temp/ipykernel_30148/1823272753.py\u001b[0m in \u001b[0;36m<module>\u001b[1;34m\u001b[0m\n\u001b[1;32m----> 1\u001b[1;33m \u001b[0mparse\u001b[0m\u001b[1;33m(\u001b[0m\u001b[0mstr\u001b[0m\u001b[1;33m(\u001b[0m\u001b[0msoup\u001b[0m\u001b[1;33m)\u001b[0m\u001b[1;33m[\u001b[0m\u001b[0mstart\u001b[0m\u001b[1;33m:\u001b[0m\u001b[0mend\u001b[0m\u001b[1;33m]\u001b[0m\u001b[1;33m)\u001b[0m\u001b[1;33m.\u001b[0m\u001b[0mstrftime\u001b[0m\u001b[1;33m(\u001b[0m\u001b[1;34m\"%Y-%m-%d\"\u001b[0m\u001b[1;33m)\u001b[0m\u001b[1;33m\u001b[0m\u001b[1;33m\u001b[0m\u001b[0m\n\u001b[0m",
      "\u001b[1;31mNameError\u001b[0m: name 'start' is not defined"
     ]
    }
   ],
   "source": [
    "parse(str(soup)[start:end]).strftime(\"%Y-%m-%d\")"
   ]
  },
  {
   "cell_type": "code",
   "execution_count": 23,
   "metadata": {
    "ExecuteTime": {
     "end_time": "2022-01-09T05:27:16.591926Z",
     "start_time": "2022-01-09T05:27:15.229593Z"
    }
   },
   "outputs": [],
   "source": [
    "get_soup(url).find('article_publication_date')"
   ]
  },
  {
   "cell_type": "code",
   "execution_count": 24,
   "metadata": {
    "ExecuteTime": {
     "end_time": "2022-01-09T05:25:52.195880Z",
     "start_time": "2022-01-09T05:25:50.465472Z"
    },
    "scrolled": true
   },
   "outputs": [],
   "source": [
    "get_soup(url).find('div', class_='news-feed-list')"
   ]
  },
  {
   "cell_type": "code",
   "execution_count": null,
   "metadata": {},
   "outputs": [],
   "source": []
  },
  {
   "cell_type": "code",
   "execution_count": 25,
   "metadata": {
    "ExecuteTime": {
     "end_time": "2022-01-09T05:08:55.649398Z",
     "start_time": "2022-01-09T05:08:53.550402Z"
    },
    "scrolled": true
   },
   "outputs": [
    {
     "ename": "AttributeError",
     "evalue": "'NoneType' object has no attribute 'text'",
     "output_type": "error",
     "traceback": [
      "\u001b[1;31m---------------------------------------------------------------------------\u001b[0m",
      "\u001b[1;31mAttributeError\u001b[0m                            Traceback (most recent call last)",
      "\u001b[1;32m~\\AppData\\Local\\Temp/ipykernel_30148/2292105902.py\u001b[0m in \u001b[0;36m<module>\u001b[1;34m\u001b[0m\n\u001b[1;32m----> 1\u001b[1;33m \u001b[0mparse_article\u001b[0m\u001b[1;33m(\u001b[0m\u001b[0murl\u001b[0m\u001b[1;33m)\u001b[0m\u001b[1;33m\u001b[0m\u001b[1;33m\u001b[0m\u001b[0m\n\u001b[0m",
      "\u001b[1;32m~\\AppData\\Local\\Temp/ipykernel_30148/2911403374.py\u001b[0m in \u001b[0;36mparse_article\u001b[1;34m(url)\u001b[0m\n\u001b[0;32m     32\u001b[0m     fist_dic =  {\n\u001b[0;32m     33\u001b[0m             \u001b[1;34m'url'\u001b[0m\u001b[1;33m:\u001b[0m \u001b[0murl\u001b[0m\u001b[1;33m,\u001b[0m\u001b[1;33m\u001b[0m\u001b[1;33m\u001b[0m\u001b[0m\n\u001b[1;32m---> 34\u001b[1;33m             \u001b[1;34m'title'\u001b[0m\u001b[1;33m:\u001b[0m \u001b[0mparse_title\u001b[0m\u001b[1;33m(\u001b[0m\u001b[0msoup\u001b[0m\u001b[1;33m)\u001b[0m\u001b[1;33m,\u001b[0m\u001b[1;33m\u001b[0m\u001b[1;33m\u001b[0m\u001b[0m\n\u001b[0m\u001b[0;32m     35\u001b[0m             \u001b[1;34m'date'\u001b[0m\u001b[1;33m:\u001b[0m \u001b[0mparse_date\u001b[0m\u001b[1;33m(\u001b[0m\u001b[0msoup\u001b[0m\u001b[1;33m)\u001b[0m\u001b[1;33m,\u001b[0m\u001b[1;33m\u001b[0m\u001b[1;33m\u001b[0m\u001b[0m\n\u001b[0;32m     36\u001b[0m             \u001b[1;34m'content'\u001b[0m \u001b[1;33m:\u001b[0m\u001b[0mparse_content\u001b[0m\u001b[1;33m(\u001b[0m\u001b[0msoup\u001b[0m\u001b[1;33m)\u001b[0m\u001b[1;33m,\u001b[0m\u001b[1;33m\u001b[0m\u001b[1;33m\u001b[0m\u001b[0m\n",
      "\u001b[1;32m~\\AppData\\Local\\Temp/ipykernel_30148/2911403374.py\u001b[0m in \u001b[0;36mparse_title\u001b[1;34m(soup)\u001b[0m\n\u001b[0;32m      1\u001b[0m \u001b[1;32mdef\u001b[0m \u001b[0mparse_article\u001b[0m\u001b[1;33m(\u001b[0m\u001b[0murl\u001b[0m\u001b[1;33m)\u001b[0m\u001b[1;33m:\u001b[0m\u001b[1;33m\u001b[0m\u001b[1;33m\u001b[0m\u001b[0m\n\u001b[0;32m      2\u001b[0m     \u001b[1;32mdef\u001b[0m \u001b[0mparse_title\u001b[0m\u001b[1;33m(\u001b[0m\u001b[0msoup\u001b[0m\u001b[1;33m)\u001b[0m\u001b[1;33m:\u001b[0m\u001b[1;33m\u001b[0m\u001b[1;33m\u001b[0m\u001b[0m\n\u001b[1;32m----> 3\u001b[1;33m         \u001b[0mtitle\u001b[0m \u001b[1;33m=\u001b[0m \u001b[0msoup\u001b[0m\u001b[1;33m.\u001b[0m\u001b[0mfind\u001b[0m\u001b[1;33m(\u001b[0m\u001b[1;34m'h1'\u001b[0m\u001b[1;33m,\u001b[0m \u001b[0mclass_\u001b[0m \u001b[1;33m=\u001b[0m\u001b[1;34m'news-header__title'\u001b[0m\u001b[1;33m)\u001b[0m\u001b[1;33m.\u001b[0m\u001b[0mtext\u001b[0m\u001b[1;33m.\u001b[0m\u001b[0mreplace\u001b[0m\u001b[1;33m(\u001b[0m\u001b[1;34m'\\n\\n'\u001b[0m\u001b[1;33m,\u001b[0m \u001b[1;34m''\u001b[0m\u001b[1;33m)\u001b[0m\u001b[1;33m\u001b[0m\u001b[1;33m\u001b[0m\u001b[0m\n\u001b[0m\u001b[0;32m      4\u001b[0m         \u001b[0msubtitle\u001b[0m \u001b[1;33m=\u001b[0m \u001b[0msoup\u001b[0m\u001b[1;33m.\u001b[0m\u001b[0mfind\u001b[0m\u001b[1;33m(\u001b[0m\u001b[1;34m'div'\u001b[0m\u001b[1;33m,\u001b[0m \u001b[0mclass_\u001b[0m \u001b[1;33m=\u001b[0m\u001b[1;34m'news-header__lead'\u001b[0m\u001b[1;33m)\u001b[0m\u001b[1;33m.\u001b[0m\u001b[0mtext\u001b[0m\u001b[1;33m.\u001b[0m\u001b[0mreplace\u001b[0m\u001b[1;33m(\u001b[0m\u001b[1;34m'\\n\\n'\u001b[0m\u001b[1;33m,\u001b[0m \u001b[1;34m''\u001b[0m\u001b[1;33m)\u001b[0m\u001b[1;33m\u001b[0m\u001b[1;33m\u001b[0m\u001b[0m\n\u001b[0;32m      5\u001b[0m         \u001b[0mfulltitle\u001b[0m \u001b[1;33m=\u001b[0m \u001b[0mtitle\u001b[0m \u001b[1;33m+\u001b[0m \u001b[1;34m'. '\u001b[0m \u001b[1;33m+\u001b[0m\u001b[0msubtitle\u001b[0m\u001b[1;33m\u001b[0m\u001b[1;33m\u001b[0m\u001b[0m\n",
      "\u001b[1;31mAttributeError\u001b[0m: 'NoneType' object has no attribute 'text'"
     ]
    }
   ],
   "source": [
    "parse_article(url)"
   ]
  },
  {
   "cell_type": "code",
   "execution_count": 26,
   "metadata": {
    "ExecuteTime": {
     "end_time": "2021-08-30T04:28:56.638489Z",
     "start_time": "2021-08-30T04:28:55.871Z"
    }
   },
   "outputs": [
    {
     "ename": "AttributeError",
     "evalue": "'NoneType' object has no attribute 'text'",
     "output_type": "error",
     "traceback": [
      "\u001b[1;31m---------------------------------------------------------------------------\u001b[0m",
      "\u001b[1;31mAttributeError\u001b[0m                            Traceback (most recent call last)",
      "\u001b[1;32m~\\AppData\\Local\\Temp/ipykernel_30148/3407577873.py\u001b[0m in \u001b[0;36m<module>\u001b[1;34m\u001b[0m\n\u001b[1;32m----> 1\u001b[1;33m \u001b[0mtitle\u001b[0m \u001b[1;33m=\u001b[0m \u001b[0msoup\u001b[0m\u001b[1;33m.\u001b[0m\u001b[0mfind\u001b[0m\u001b[1;33m(\u001b[0m\u001b[1;34m'h1'\u001b[0m\u001b[1;33m,\u001b[0m \u001b[0mclass_\u001b[0m \u001b[1;33m=\u001b[0m\u001b[1;34m'news-header__title'\u001b[0m\u001b[1;33m)\u001b[0m\u001b[1;33m.\u001b[0m\u001b[0mtext\u001b[0m\u001b[1;33m.\u001b[0m\u001b[0mreplace\u001b[0m\u001b[1;33m(\u001b[0m\u001b[1;34m'\\n\\n'\u001b[0m\u001b[1;33m,\u001b[0m \u001b[1;34m''\u001b[0m\u001b[1;33m)\u001b[0m\u001b[1;33m\u001b[0m\u001b[1;33m\u001b[0m\u001b[0m\n\u001b[0m\u001b[0;32m      2\u001b[0m \u001b[0msubtitle\u001b[0m \u001b[1;33m=\u001b[0m \u001b[0msoup\u001b[0m\u001b[1;33m.\u001b[0m\u001b[0mfind\u001b[0m\u001b[1;33m(\u001b[0m\u001b[1;34m'div'\u001b[0m\u001b[1;33m,\u001b[0m \u001b[0mclass_\u001b[0m \u001b[1;33m=\u001b[0m\u001b[1;34m'news-header__lead'\u001b[0m\u001b[1;33m)\u001b[0m\u001b[1;33m.\u001b[0m\u001b[0mtext\u001b[0m\u001b[1;33m.\u001b[0m\u001b[0mreplace\u001b[0m\u001b[1;33m(\u001b[0m\u001b[1;34m'\\n\\n'\u001b[0m\u001b[1;33m,\u001b[0m \u001b[1;34m''\u001b[0m\u001b[1;33m)\u001b[0m\u001b[1;33m\u001b[0m\u001b[1;33m\u001b[0m\u001b[0m\n\u001b[0;32m      3\u001b[0m \u001b[0mfulltitle\u001b[0m \u001b[1;33m=\u001b[0m \u001b[0mtitle\u001b[0m \u001b[1;33m+\u001b[0m \u001b[1;34m'. '\u001b[0m \u001b[1;33m+\u001b[0m\u001b[0msubtitle\u001b[0m\u001b[1;33m\u001b[0m\u001b[1;33m\u001b[0m\u001b[0m\n",
      "\u001b[1;31mAttributeError\u001b[0m: 'NoneType' object has no attribute 'text'"
     ]
    }
   ],
   "source": [
    "title = soup.find('h1', class_ ='news-header__title').text.replace('\\n\\n', '')\n",
    "subtitle = soup.find('div', class_ ='news-header__lead').text.replace('\\n\\n', '')\n",
    "fulltitle = title + '. ' +subtitle"
   ]
  },
  {
   "cell_type": "code",
   "execution_count": 27,
   "metadata": {
    "ExecuteTime": {
     "end_time": "2021-08-30T04:28:56.641489Z",
     "start_time": "2021-08-30T04:28:56.016Z"
    }
   },
   "outputs": [
    {
     "ename": "AttributeError",
     "evalue": "'NoneType' object has no attribute 'end'",
     "output_type": "error",
     "traceback": [
      "\u001b[1;31m---------------------------------------------------------------------------\u001b[0m",
      "\u001b[1;31mAttributeError\u001b[0m                            Traceback (most recent call last)",
      "\u001b[1;32m~\\AppData\\Local\\Temp/ipykernel_30148/2577658825.py\u001b[0m in \u001b[0;36m<module>\u001b[1;34m\u001b[0m\n\u001b[1;32m----> 1\u001b[1;33m \u001b[0mstart\u001b[0m \u001b[1;33m=\u001b[0m \u001b[0mre\u001b[0m\u001b[1;33m.\u001b[0m\u001b[0msearch\u001b[0m\u001b[1;33m(\u001b[0m\u001b[1;34m\"article_publication_date\"\u001b[0m\u001b[1;33m,\u001b[0m \u001b[0msoup\u001b[0m\u001b[1;33m.\u001b[0m\u001b[0mtext\u001b[0m\u001b[1;33m)\u001b[0m\u001b[1;33m.\u001b[0m\u001b[0mend\u001b[0m\u001b[1;33m(\u001b[0m\u001b[1;33m)\u001b[0m \u001b[1;33m+\u001b[0m \u001b[1;36m3\u001b[0m\u001b[1;33m\u001b[0m\u001b[1;33m\u001b[0m\u001b[0m\n\u001b[0m\u001b[0;32m      2\u001b[0m \u001b[0mend\u001b[0m \u001b[1;33m=\u001b[0m \u001b[0mstart\u001b[0m \u001b[1;33m+\u001b[0m \u001b[1;36m16\u001b[0m\u001b[1;33m\u001b[0m\u001b[1;33m\u001b[0m\u001b[0m\n\u001b[0;32m      3\u001b[0m \u001b[0mtime\u001b[0m \u001b[1;33m=\u001b[0m \u001b[0mparse\u001b[0m\u001b[1;33m(\u001b[0m\u001b[0msoup\u001b[0m\u001b[1;33m.\u001b[0m\u001b[0mtext\u001b[0m\u001b[1;33m[\u001b[0m\u001b[0mstart\u001b[0m\u001b[1;33m:\u001b[0m\u001b[0mend\u001b[0m\u001b[1;33m]\u001b[0m\u001b[1;33m)\u001b[0m\u001b[1;33m.\u001b[0m\u001b[0mstrftime\u001b[0m\u001b[1;33m(\u001b[0m\u001b[1;34m\"%Y-%m-%d\"\u001b[0m\u001b[1;33m)\u001b[0m\u001b[1;33m\u001b[0m\u001b[1;33m\u001b[0m\u001b[0m\n",
      "\u001b[1;31mAttributeError\u001b[0m: 'NoneType' object has no attribute 'end'"
     ]
    }
   ],
   "source": [
    "start = re.search(\"article_publication_date\", soup.text).end() + 3\n",
    "end = start + 16\n",
    "time = parse(soup.text[start:end]).strftime(\"%Y-%m-%d\")"
   ]
  },
  {
   "cell_type": "code",
   "execution_count": 28,
   "metadata": {
    "ExecuteTime": {
     "end_time": "2021-08-30T04:28:58.316463Z",
     "start_time": "2021-08-30T04:28:58.299463Z"
    }
   },
   "outputs": [],
   "source": [
    "soup.find('div', alss_='text-block')"
   ]
  },
  {
   "cell_type": "code",
   "execution_count": 6,
   "metadata": {
    "ExecuteTime": {
     "end_time": "2021-08-30T04:28:58.922679Z",
     "start_time": "2021-08-30T04:28:58.906682Z"
    }
   },
   "outputs": [
    {
     "ename": "NameError",
     "evalue": "name 'url' is not defined",
     "output_type": "error",
     "traceback": [
      "\u001b[1;31m---------------------------------------------------------------------------\u001b[0m",
      "\u001b[1;31mNameError\u001b[0m                                 Traceback (most recent call last)",
      "\u001b[1;32m<ipython-input-6-057aff7441e9>\u001b[0m in \u001b[0;36m<module>\u001b[1;34m\u001b[0m\n\u001b[1;32m----> 1\u001b[1;33m \u001b[0murl\u001b[0m\u001b[1;33m.\u001b[0m\u001b[0msplit\u001b[0m\u001b[1;33m(\u001b[0m\u001b[1;34m'/'\u001b[0m\u001b[1;33m)\u001b[0m\u001b[1;33m[\u001b[0m\u001b[1;36m3\u001b[0m\u001b[1;33m]\u001b[0m\u001b[1;33m\u001b[0m\u001b[1;33m\u001b[0m\u001b[0m\n\u001b[0m",
      "\u001b[1;31mNameError\u001b[0m: name 'url' is not defined"
     ]
    }
   ],
   "source": [
    "url.split('/')[3]"
   ]
  },
  {
   "cell_type": "code",
   "execution_count": 7,
   "metadata": {
    "ExecuteTime": {
     "end_time": "2021-08-30T04:28:59.527639Z",
     "start_time": "2021-08-30T04:28:59.515639Z"
    }
   },
   "outputs": [
    {
     "ename": "NameError",
     "evalue": "name 'soup' is not defined",
     "output_type": "error",
     "traceback": [
      "\u001b[1;31m---------------------------------------------------------------------------\u001b[0m",
      "\u001b[1;31mNameError\u001b[0m                                 Traceback (most recent call last)",
      "\u001b[1;32m<ipython-input-7-6651225700da>\u001b[0m in \u001b[0;36m<module>\u001b[1;34m\u001b[0m\n\u001b[1;32m----> 1\u001b[1;33m \u001b[0mcontent\u001b[0m \u001b[1;33m=\u001b[0m \u001b[0msoup\u001b[0m\u001b[1;33m.\u001b[0m\u001b[0mfind\u001b[0m\u001b[1;33m(\u001b[0m\u001b[1;34m'div'\u001b[0m\u001b[1;33m,\u001b[0m \u001b[0mclass_\u001b[0m \u001b[1;33m=\u001b[0m \u001b[1;34m'text-block'\u001b[0m\u001b[1;33m)\u001b[0m\u001b[1;33m.\u001b[0m\u001b[0mtext\u001b[0m\u001b[1;33m.\u001b[0m\u001b[0mreplace\u001b[0m\u001b[1;33m(\u001b[0m\u001b[1;34m'\\n'\u001b[0m\u001b[1;33m,\u001b[0m \u001b[1;34m''\u001b[0m\u001b[1;33m)\u001b[0m\u001b[1;33m.\u001b[0m\u001b[0mreplace\u001b[0m\u001b[1;33m(\u001b[0m\u001b[1;34m'’s'\u001b[0m\u001b[1;33m,\u001b[0m \u001b[1;34m'`s'\u001b[0m\u001b[1;33m)\u001b[0m\u001b[1;33m\u001b[0m\u001b[1;33m\u001b[0m\u001b[0m\n\u001b[0m",
      "\u001b[1;31mNameError\u001b[0m: name 'soup' is not defined"
     ]
    }
   ],
   "source": [
    "content = soup.find('div', class_ = 'text-block').text.replace('\\n', '').replace('’s', '`s')"
   ]
  },
  {
   "cell_type": "code",
   "execution_count": 8,
   "metadata": {
    "ExecuteTime": {
     "end_time": "2021-08-30T04:28:59.921093Z",
     "start_time": "2021-08-30T04:28:59.914100Z"
    }
   },
   "outputs": [
    {
     "ename": "NameError",
     "evalue": "name 'content' is not defined",
     "output_type": "error",
     "traceback": [
      "\u001b[1;31m---------------------------------------------------------------------------\u001b[0m",
      "\u001b[1;31mNameError\u001b[0m                                 Traceback (most recent call last)",
      "\u001b[1;32m<ipython-input-8-7fe70820e08a>\u001b[0m in \u001b[0;36m<module>\u001b[1;34m\u001b[0m\n\u001b[1;32m----> 1\u001b[1;33m \u001b[0mcontent\u001b[0m\u001b[1;33m\u001b[0m\u001b[1;33m\u001b[0m\u001b[0m\n\u001b[0m",
      "\u001b[1;31mNameError\u001b[0m: name 'content' is not defined"
     ]
    }
   ],
   "source": [
    "content"
   ]
  },
  {
   "cell_type": "code",
   "execution_count": 9,
   "metadata": {
    "ExecuteTime": {
     "end_time": "2021-08-30T04:29:00.388554Z",
     "start_time": "2021-08-30T04:29:00.378562Z"
    }
   },
   "outputs": [],
   "source": [
    "\n",
    "def yield_latest_article(begin_date, max_num=10, sleep=0.1):\n",
    "    \"\"\"\n",
    "    Artuments\n",
    "    ---------\n",
    "    begin_date : str\n",
    "        eg. 2018-07-01\n",
    "    end_date :str\n",
    "        eg. 2019-03-31\n",
    "    max_num : int\n",
    "        Maximum number of news to be scraped\n",
    "    sleep : float\n",
    "        Sleep time. Default 1.0 sec\n",
    "\n",
    "    It yields\n",
    "    ---------\n",
    "    news : json object\n",
    "    \"\"\"\n",
    "\n",
    "    # prepare parameters\n",
    "    d_begin = parse(begin_date)\n",
    "    end_page = 100\n",
    "    n_news = 0\n",
    "    outdate = False\n",
    "\n",
    "    for page in range(1331533, 1300000, -1):\n",
    "\n",
    "        # check number of scraped news\n",
    "        if n_news >= max_num or outdate:\n",
    "            break\n",
    "\n",
    "        # get urls\n",
    "        page = str(page)\n",
    "        url = \"https://tass.com/world/{}\".format(page)\n",
    "\n",
    "        try:\n",
    "            news_json = parse_article(url)\n",
    "            print(news_json)\n",
    "            # check date of scraped news\n",
    "\n",
    "        except:\n",
    "            try:\n",
    "                print(url)\n",
    "                if url.split('/')[3] == 'world':\n",
    "                    print('this url is error')\n",
    "            except:\n",
    "                print(\"This url is not available\")"
   ]
  },
  {
   "cell_type": "code",
   "execution_count": null,
   "metadata": {
    "ExecuteTime": {
     "start_time": "2021-08-30T04:29:00.879Z"
    }
   },
   "outputs": [
    {
     "name": "stdout",
     "output_type": "stream",
     "text": [
      "{'url': 'https://tass.com/world/1331533', 'title': 'British PM names conditions for diplomatic recognition of Taliban', 'date': '2021-08-30', 'content': 'LONDON, August 30. /TASS/. British Prime Minister Boris Johnson thinks the diplomatic recognition of the Taliban movement (outlawed in Russia) by the West is possible but the radical movement should fulfill a number of conditions. \"If the new regime in Kabul wants diplomatic recognition, or to unlock the billions that are currently frozen, they will have to ensure safe passage for those who wish to leave the country, to respect the rights of women and girls, to prevent Afghanistan from, again, becoming an incubator for global terror, because that would be disastrous for Afghanistan,\" the PA news agency quoted the prime minister as saying on Sunday. \"Together with our allies in America and Europe and around the world, we will engage with the Taliban not on the basis of what they say but what they do,\" the British prime minister said. On August 15, Taliban fighters swept into Kabul without encountering any resistance, and gained full control over the Afghan capital within a few hours. Afghanistan`s President Ashraf Ghani said he had stepped down to prevent any bloodshed and subsequently fled the country. Vice President Amrullah Saleh announced that, in the absence of the head of state, the constitution empowered him to become the caretaker president and urged the Afghan people to join the resistance against the Taliban. The armed resistance in the country`s Panjshir Province is led by Ahmad Massoud, the son of renowned guerilla commander Ahmad Shah Massoud (1953-2001). At present, Western nations are evacuating their citizens and embassy staff. Last weekend, the UK completed the evacuation of its citizens and many Afghans who assisted them over the past 20 years.', 'category': 'world', 'source': 'Tass (Russaia)', 'scraping_date': '2021-08-30-35 04:29:02'}\n",
      "this url is error\n",
      "this url is error\n",
      "this url is error\n",
      "{'url': 'https://tass.com/world/1331529', 'title': 'Biden, Zelensky to meet on September 1 - White House', 'date': '2021-08-30', 'content': 'WASHINGTON, August 30. /TASS/. The meeting between US and Ukrainian Presidents Joe Biden and Vladimir Zelensky in Washington was moved from August 31 to September 1, according to the US leader`s schedule published by the White House press service on Sunday. It noted that Biden would meet with Zelensky at the White House on Wednesday, According to the document, the visit will confirm the US’ support for Ukraine`s sovereignty and territorial integrity as well as close cooperation of the two countries on energy security. It is stressed that the US supports Zelensky`s efforts on fighting corruption and implementing reforms. Initially, it was anticipated that Biden would receive Zelensky at the White House on August 30. The Ukrainian president stated that he expected a substantive and productive meeting with the American leader. Later, Ukrainian Foreign Minister Dmitry Kuleba reported that the meeting had been moved up from August 30 to August 31 due to an expanded program of the Ukrainian leader`s visit to the US. On Sunday, the RBC-Ukraine agency reported, citing a source, that the meeting had been moved from August 31 to September 1.', 'category': 'world', 'source': 'Tass (Russaia)', 'scraping_date': '2021-08-30-35 04:29:12'}\n",
      "this url is error\n",
      "{'url': 'https://tass.com/world/1331527', 'title': 'Raab to present UK’s priorities at virtual meeting on Afghanistan - diplomatic sources', 'date': '2021-08-30', 'content': 'LONDON, August 30. /TASS/. British Foreign Secretary Dominic Raab will participate in an international video conference on Afghanistan on Monday where he will present UK`s priorities on this track, diplomatic sources told a TASS correspondent on Sunday. The meeting will be held at the initiative of the US with the participation of G7 countries (the UK, Germany, Italy, Canada, the US, France, Japan) as well as Qatar, Turkey and NATO representatives. According to the sources, the British priorities that the diplomat will present include \"preventing Afghanistan becoming a haven for terrorists; responding to the humanitarian plight; safeguarding regional stability; and holding the Taliban to account on human rights.\" \"In particular, he will stress the importance of ensuring the Taliban stand by their commitment to allow safe passage for foreign nationals and Afghans authorized to enter third countries,\" the diplomatic sources said. It is expected that the British top diplomat will also set out some principles of London`s future interaction with the Taliban movement (outlawed in Russia) which should be built \"on a pragmatic basis, responsive to the actions of the Taliban, not just their words, and coordinated across the international community with as broad a coalition as possible,\" the sources said. After the Biden administration had announced the end of Washington`s 20-year-long military operation in Afghanistan and the launch of its troop pullout, the Taliban embarked on an offensive against Afghan government forces. On August 15, Taliban fighters swept into Kabul without encountering any resistance, and gained full control over the Afghan capital within a few hours. Afghanistan`s President Ashraf Ghani said he had stepped down to prevent any bloodshed and subsequently fled the country. Vice President Amrullah Saleh announced that, in the absence of the head of state, the constitution empowered him to become the caretaker president and urged the Afghan people to join the resistance against the Taliban. The armed resistance in the country`s Panjshir Province is led by Ahmad Massoud, the son of renowned guerilla commander Ahmad Shah Massoud (1953-2001). At present, Western nations are evacuating their citizens and embassy staff.', 'category': 'world', 'source': 'Tass (Russaia)', 'scraping_date': '2021-08-30-35 04:29:14'}\n",
      "this url is error\n",
      "this url is error\n",
      "this url is error\n",
      "this url is error\n",
      "this url is error\n",
      "{'url': 'https://tass.com/world/1331521', 'title': 'Nine people killed in US air strike in Kabul - TV', 'date': '2021-08-29', 'content': 'MOSCOW, August 30. /TASS/. Nine people were killed as a result of an airstrike of the US armed forces in Kabul on Sunday, they all were members of one family, the CNN TV channel reported quoting a relative of those killed. According to it, six children were among the casualties with the youngest being two years old. On Sunday, the US forces delivered a drone air strike eliminating a vehicle with explosives in Kabul that the militants of the Islamic State Khorasan (ISIS-K) organization (outlawed in Russia) intended to use in a terror attack. According to the TV channel, two vehicles were destroyed and a residential building was partially demolished as a result of the US drone strike. Earlier, the Afghanistan Times newspaper reported seven casualties.', 'category': 'world', 'source': 'Tass (Russaia)', 'scraping_date': '2021-08-30-35 04:29:23'}\n",
      "this url is error\n",
      "{'url': 'https://tass.com/world/1331519', 'title': 'UK recognizes need for cooperation with Russia, China on Afghanistan - diplomatic sources', 'date': '2021-08-29', 'content': 'LONDON, August 30. /TASS/. The UK thinks that Russia and China may have the opportunity to influence the new government in Kabul and recognizes the necessity of joint work with Moscow and Beijing on the Afghan track, diplomatic sources told a TASS correspondent on Sunday. \"We recognize the need to work with Russia and China given their potential ability to influence the new Afghan government and our collective interests in countering terrorism and narcotics, preventing a refugee crisis and averting further economic collapse,\" the sources said, reiterating the efforts undertaken by the UK at the UN in order to shape a unified position of the UN Security Council (Russia, the UK, China, the US and France) on Afghanistan. As the sources reiterated, UN Secretary General Antonio Guterres intends to hold a meeting with the permanent members of the UN Security Council on Monday on this subject. It should begin around 18:00 (01:00 Moscow time on August 31). Simultaneously, the UK is working with France and the US on convincing their colleagues in the UN Security Council to adopt a resolution that would send a clear message to the Taliban (outlawed in Russia) on standing by their commitment to safe passage for foreign nationals and Afghans with travel authorization from third countries and on preventing Afghanistan from becoming a base for terrorists. According to London, it is also necessary to note the importance of enabling humanitarian access to Afghanistan in order for UN staff to continue their humanitarian work in a safe environment. According to the diplomatic sources, \"the draft resolution has been under negotiation amongst UNSC members over the weekend with the aim of adopting it early this week.\" After the Biden administration had announced the end of Washington`s 20-year-long military operation in Afghanistan and the launch of its troop pullout, the Taliban embarked on an offensive against Afghan government forces. On August 15, Taliban fighters swept into Kabul without encountering any resistance, and gained full control over the Afghan capital within a few hours. Afghanistan`s President Ashraf Ghani said he had stepped down to prevent any bloodshed and subsequently fled the country. At present, Western nations are evacuating their citizens and embassy staff. The Taliban instructed all foreign forces to leave the country by August 31, otherwise their presence will be considered as occupation.', 'category': 'world', 'source': 'Tass (Russaia)', 'scraping_date': '2021-08-30-35 04:29:26'}\n"
     ]
    },
    {
     "name": "stdout",
     "output_type": "stream",
     "text": [
      "this url is error\n",
      "this url is error\n",
      "this url is error\n",
      "this url is error\n",
      "this url is error\n",
      "{'url': 'https://tass.com/world/1331513', 'title': 'Blinken to discuss coordination on Afghanistan with key partners on August 30', 'date': '2021-08-29', 'content': 'WASHINGTON, August 30. /TASS/. US Secretary of State Antony Blinken will discuss the further coordinated actions in Afghanistan with the representatives of NATO, the EU and the colleagues from a number of countries on Monday, August 30, the agency`s press service reported on Sunday. The representatives of Canada, France, Germany, Italy, Japan, the UK, Turkey and Qatar \"will discuss an·aligned·approach for the days and weeks ahead.\" Later on Monday, Blinken intends to deliver remarks on \"the way forward\" with regards to Afghanistan. After the Biden administration had announced the end of Washington`s 20-year-long military operation in Afghanistan and the launch of its troop pullout, the Taliban embarked on an offensive against Afghan government forces. On August 15, Taliban fighters swept into Kabul without encountering any resistance, and gained full control over the Afghan capital within a few hours. Afghanistan`s President Ashraf Ghani said he had stepped down to prevent any bloodshed and subsequently fled the country. Vice President Amrullah Saleh announced that, in the absence of the head of state, the constitution empowered him to become the caretaker president and urged the Afghan people to join the resistance against the Taliban. The armed resistance in the country`s Panjshir Province is led by Ahmad Massoud, the son of renowned guerilla commander Ahmad Shah Massoud (1953-2001). At present, Western nations are evacuating their citizens and embassy staff.', 'category': 'world', 'source': 'Tass (Russaia)', 'scraping_date': '2021-08-30-35 04:29:37'}\n",
      "this url is error\n",
      "this url is error\n",
      "this url is error\n",
      "{'url': 'https://tass.com/world/1331509', 'title': 'Taliban seeking to worsen humanitarian situation in Panjshir - source', 'date': '2021-08-29', 'content': 'CAIRO, August 29. /TASS/. The Taliban movement (outlawed in Russia), which has seized power in Afghanistan, is seeking to aggravate the humanitarian situation in the northern province of Panjshir that is refusing to recognize the Taliban, a source in the region told TASS on Sunday. \"The humanitarian situation in Panjshir is stable so far, but the Taliban are seeking to worsen it. They are blocking access to the state-run electricity supplies system. So far, there is enough electricity here, which is generated thanks to local rivers,\" the source said. Apart from that, according to the source, the Taliban have switched the region off the national telecommunications system and have partially blocked mobile internet. \"Moreover, the Taliban sometimes block roads leading to the province. There are risks that they will block food and fuels supplies, as they did in the [neighboring] Baghlan province,\" he noted. Abdul Hafiz Mansoor, who represents Panjshir at talks with the Taliban, said on Wednesday that the first direct talks between delegations from the National Resistance Front (NRF) and the Taliban radical movement had been held in the city of Charikar (the capital of Parwan Province - TASS). According to Mansoor, the sides agreed to continue peace dialogue in order to avoid armed confrontation. Fahim Dashti, spokesman for the resistance movement, told TASS on Thursday that an agreement on cessation of hostilities with the Taliban was only being negotiated. He said that Panjshir disagrees with the idea of introducing a \"symbolic representation of ethnic groups in the government\" and insists on forming truly inclusive government bodies. After the Biden administration announced the end of its US military operation in Afghanistan and the launch of its troop pullout, the Taliban (outlawed in Russia) embarked on an offensive against Afghan government forces. On August 15, Taliban fighters swept into Kabul without encountering any resistance, and gained full control over the Afghan capital within a few hours. Afghanistan`s President Ashraf Ghani said he had stepped down to prevent any bloodshed and subsequently fled the country. Vice President Amrullah Saleh said that under the constitution, he becomes \"the caretaker president\" in the absence of the president and called for armed resistance against the Taliban. The northern province of Panjshir is the only pocket of resistance to the Taliban. It is led by Ahmad Massoud, a son of Ahmad Shah Massoud (1953-2001), a once influential leader of Afghanistan`s Tajik community who fought against the Taliban back in the 1990s.', 'category': 'world', 'source': 'Tass (Russaia)', 'scraping_date': '2021-08-30-35 04:29:43'}\n",
      "this url is error\n",
      "this url is error\n",
      "this url is error\n",
      "{'url': 'https://tass.com/world/1331505', 'title': 'Macron says dialogue with Taliban does not mean their recognition', 'date': '2021-08-29', 'content': 'PARIS, August 29. /TASS/. Dialogue with the Taliban (outlawed in Russia) does not mean their recognition, French President Emmanuel Macron said on Sunday. \"This dialogue is needed for the evacuation,\" he said in an interview with the TF-1 television channel. \"The Taliban controls Kabul and the territory of Afghanistan, so we must maintain discussions. But it doesn’t mean their recognition. We have set conditions to them.\" According to the French leader, these conditions concern respect to human rights and the \"dignity of Afghan women.\" Macron said on Saturday that France had begun talks with the Taliban on the organization of humanitarian operations and the continuation of evacuation from Afghanistan. After the Biden administration announced the end of its US military operation in Afghanistan and the launch of its troop pullout, the Taliban (outlawed in Russia) embarked on an offensive against Afghan government forces. On August 15, Taliban fighters swept into Kabul without encountering any resistance, and gained full control over the Afghan capital within a few hours. Afghanistan`s President Ashraf Ghani said he had stepped down to prevent any bloodshed and subsequently fled the country. Vice President Amrullah Saleh said that under the constitution, he becomes \"the caretaker president\" in the absence of the president and called for armed resistance against the Taliban. Western nations are in the process of evacuating their citizens and embassy staff.', 'category': 'world', 'source': 'Tass (Russaia)', 'scraping_date': '2021-08-30-35 04:30:09'}\n",
      "this url is error\n",
      "this url is error\n",
      "this url is error\n",
      "this url is error\n",
      "this url is error\n",
      "this url is error\n",
      "this url is error\n",
      "this url is error\n",
      "this url is error\n",
      "this url is error\n",
      "this url is error\n",
      "this url is error\n",
      "this url is error\n",
      "this url is error\n",
      "this url is error\n",
      "this url is error\n",
      "this url is error\n",
      "this url is error\n",
      "this url is error\n",
      "{'url': 'https://tass.com/world/1331485', 'title': 'Taliban promise not to hamper evacuation from Afghanistan - US Department of State', 'date': '2021-08-29', 'content': 'WASHINGTON, August 29. /TASS/. The Taliban (outlawed in Russia) have promised the United States and a number of other countries to allow all foreign citizens and Afghan nationals with travel authorization from foreign states to leave Afghanistan,\" according to a joint statement released by the US Department of State on Sunday. \"We have received assurances from the Taliban that all foreign nationals and any Afghan citizen with travel authorization from our countries will be allowed to proceed in a safe and orderly manner to points of departure and travel outside the country,\" says the statement signed by the representatives of the European Union, NATO, and more than 90 nations, including the United Kingdom, Germany, Israel, Spain, Italy, Canada, the United States, France, and Sweden. According to the statement, these countries will continue \"issuing travel documentation to designated Afghans.\" \"We have the clear expectation of and commitment from the Taliban that they can travel to our respective countries,\" it emphasizes. After the Biden administration announced the end of its US military operation in Afghanistan and the launch of its troop pullout, the Taliban (outlawed in Russia) embarked on an offensive against Afghan government forces. On August 15, Taliban fighters swept into Kabul without encountering any resistance, and gained full control over the Afghan capital within a few hours. Afghanistan`s President Ashraf Ghani said he had stepped down to prevent any bloodshed and subsequently fled the country. Vice President Amrullah Saleh said that under the constitution, he becomes \"the caretaker president\" in the absence of the president and called for armed resistance against the Taliban. The northern province of Panjshir is the only pocket of resistance to the Taliban. It is led by Ahmad Massoud, a son of Ahmad Shah Massoud (1953-2001), a once influential leader of Afghanistan`s Tajik community who fought against the Taliban back in the 1990s. Western nations are in the process of evacuating their citizens and embassy staff.', 'category': 'world', 'source': 'Tass (Russaia)', 'scraping_date': '2021-08-30-35 04:30:41'}\n"
     ]
    },
    {
     "name": "stdout",
     "output_type": "stream",
     "text": [
      "this url is error\n",
      "this url is error\n",
      "this url is error\n",
      "this url is error\n",
      "this url is error\n",
      "{'url': 'https://tass.com/world/1331479', 'title': 'US confirms strike in Kabul targeting ISIS-K car with explosives', 'date': '2021-08-29', 'content': 'WASHINGTON, August 29. /TASS/. The United States has confirmed that its forces delivered a drone strike in Kabul targeting a vehicle with explosives ISIS-K (Islamic State Khorasan, an affiliate of the Islamic State terrorist organization, which is outlawed in Russia) militants planned to use to stage a terror attack in Kabul airport, according to the statement by Bill Urban, US Central Command spokesman, released on Sunday. \"U.S. military forces conducted a self-defense unmanned over-the-horizon airstrike today on a vehicle in Kabul, eliminating an imminent ISIS-K threat to Hamad Karzai International airport,\" the document says. \"We are confident we successfully hit the target.\" According to Urban, \"significant secondary explosions\" that followed the strike at the vehicle \"indicated the presence of a substantial amount of explosive material.\" \"We are assessing the possibilities of civilian casualties, though we have no indications at this time. We remain vigilant for potential future threats,\" the statement says. The Ariana News Afghan television channel reported earlier on Sunday that six people, including four children, were killed in the strike, which destroyed two vehicles and partially ruined a dwelling house. Meanwhile, Al Jazeera said citing a Taliban (outlawed in Russia) spokesman that the terrorist planned to use the car to attack the airport.', 'category': 'world', 'source': 'Tass (Russaia)', 'scraping_date': '2021-08-30-35 04:30:50'}\n",
      "this url is error\n",
      "this url is error\n",
      "this url is error\n",
      "this url is error\n",
      "this url is error\n",
      "this url is error\n",
      "this url is error\n",
      "this url is error\n",
      "this url is error\n",
      "{'url': 'https://tass.com/world/1331469', 'title': 'US claims there were no civilian casualties after strike in Kabul', 'date': '2021-08-29', 'content': 'NEW YORK, August 29. /TASS/. The United States claims that there were no casualties among civilians after Sunday`s US missile strike in Kabul, CNN said citing a Pentagon source. According to the source, the strike was delivered with the use of a drone and targeted a militant of ISIS-K, or Islamic State Khorasan, an affiliate of the Islamic State terrorist organization (outlawed in Russia), who was plotting an attack in Kabul airport. The CNN source said that according to preliminary results there were no casualties among civilians. Meanwhile, the Ariana News Afghan television channel said earlier that six people, including four children, were killed in the missile strike, which destroyed two cars and partially ruined a dwelling house. Al Jazeera reported citing a Taliban (outlawed in Russia) spokesman that the terrorist was planning to use a car to attack the airport and the US strike targeted this car.', 'category': 'world', 'source': 'Tass (Russaia)', 'scraping_date': '2021-08-30-35 04:31:07'}\n",
      "this url is error\n",
      "this url is error\n",
      "this url is error\n",
      "this url is error\n",
      "this url is error\n",
      "this url is error\n",
      "this url is error\n",
      "{'url': 'https://tass.com/world/1331461', 'title': 'US strike in Kabul targets suicide bomber - TV', 'date': '2021-08-29', 'content': 'TASS, August 29. The United States’ missile strike in Kabul targeted a suicide bomber planning to attack the local airport, Al Jazeera said on Sunday, citing a Taliban (outlawed in Russia) spokesman. According to the television channel, the terrorist was planning to use a car, which was the target of the US strike. According to Afghan media, the strike was delivered at a dwelling house. According to preliminary data, six people were killed. The incident occurred in a Kabul neighborhood adjacent to the airport`s runway.', 'category': 'world', 'source': 'Tass (Russaia)', 'scraping_date': '2021-08-30-35 04:31:18'}\n",
      "this url is error\n",
      "this url is error\n",
      "this url is error\n",
      "this url is error\n",
      "this url is error\n",
      "this url is error\n",
      "this url is error\n",
      "{'url': 'https://tass.com/world/1331453', 'title': 'US deliver military strike in Kabul - agency', 'date': '2021-08-29', 'content': 'MOSCOW, August 29. /TASS/. The United States has delivered a military strike in Kabul, Reuters said on Sunday, citing US officials. According to two Reuters sources, the strike targeted suspected militants of ISIS-K, or Islamic State Khorasan, a regional affiliate of the Islamic State terrorist group (outlawed in Russia). No comments have been available from the Pentagon so far. Afghan media reported earlier that a missile strike was delivered at a residential house. At least six people, including four children, were killed in a strike, Ariana News TV reported. According to the television channel, two transport vehicles were destroyed and a dwelling house was partially ruined in the attack. The United States delivered a missile strike in Kabul on Sunday targeting a car of a suicide bomber who was plotting a terror attack in Kabul airport.', 'category': 'world', 'source': 'Tass (Russaia)', 'scraping_date': '2021-08-30-35 04:31:28'}\n",
      "this url is error\n",
      "this url is error\n",
      "this url is error\n",
      "this url is error\n",
      "this url is error\n",
      "{'url': 'https://tass.com/world/1331447', 'title': 'Russia doesn’t consider Ukraine as threat, says defense minister', 'date': '2021-08-29', 'content': 'MOSCOW, August 29. /TASS/. /TASS/. Russia doesn’t consider Ukraine as a threat and thinks that Ukrainians are a brotherly people, Russian Defense Minister Sergei Shoigu said on Sunday. \"I would not speak about Ukraine as a threat. I think that Ukraine and the Ukrainian people is a brotherly nation. They are not just our neighbors, we are a single people. I wouldn’t even dwell on this topic further,\" he said in an interview with the Solovyov Live YouTube channel, episodes of which were shown on the Rossiya-1 television channel. He expressed the hope that the situation in Ukraine would ultimately change and the \"nationalist mayhem\" would be stopped. When asked why he was ignoring the ruling of a Ukrainian court and was skipping hearings, the minister said jokingly: \"My fault, it won’t happen again.\" Ukraine`s Security Service said on July 18 that it has summoned Shoigu to bring charges against him and conduct investigative actions. According to Ukraine`s Glavkov media outlet, the Russian minister was to arrive in Mariupol on July 20. Later, the Ukrainian Security Service said that a case against the Russian minister would be heard in court, despite his nonappearance. According to Ukrainian Security Service spokesman Artyom Dekhtyarenko, Shoigu is suspected of \"setting up paramilitary units, a terrorist organization and conniving at its activities.\".', 'category': 'world', 'source': 'Tass (Russaia)', 'scraping_date': '2021-08-30-35 04:31:37'}\n",
      "this url is error\n",
      "this url is error\n",
      "this url is error\n",
      "this url is error\n",
      "this url is error\n",
      "{'url': 'https://tass.com/world/1331441', 'title': 'Powerful explosion heard in Kabul', 'date': '2021-08-29', 'content': 'CAIRO, August 29. /TASS/. A powerful explosion rocked Kabul on Sunday, the Al Arabiya TV Channel reported, citing eye-witnesses. According to the reports, most likely, the blast occurred near the building of Kabul airport. A powerful explosion that ripped through the Afghan capital on Sunday was triggered by a rocket strike on a residential building, the Ashwaka local news agency reported, citing eye-witnesses. According to the reports, the incident occurred near the building of Kabul airport. Large clouds of smoke are rising over this area at present. There have been no reports about any casualties so far. At least two persons were killed and three more were wounded in a missile strike delivered at a residential house in Kabul, the Ashwaka local news agency reported on Sunday, citing eyewitnesses. According to the agency, a woman and a child were killed in the attack.', 'category': 'world', 'source': 'Tass (Russaia)', 'scraping_date': '2021-08-30-35 04:31:45'}\n",
      "this url is error\n",
      "this url is error\n",
      "this url is error\n",
      "this url is error\n",
      "this url is error\n",
      "this url is error\n",
      "this url is error\n",
      "this url is error\n",
      "this url is error\n",
      "this url is error\n"
     ]
    },
    {
     "name": "stdout",
     "output_type": "stream",
     "text": [
      "this url is error\n",
      "this url is error\n",
      "this url is error\n",
      "this url is error\n",
      "this url is error\n",
      "this url is error\n",
      "this url is error\n",
      "this url is error\n",
      "this url is error\n",
      "this url is error\n",
      "this url is error\n",
      "this url is error\n",
      "this url is error\n",
      "this url is error\n",
      "this url is error\n",
      "this url is error\n",
      "this url is error\n",
      "this url is error\n",
      "this url is error\n",
      "this url is error\n",
      "this url is error\n",
      "this url is error\n",
      "this url is error\n",
      "this url is error\n",
      "this url is error\n",
      "this url is error\n",
      "this url is error\n",
      "this url is error\n",
      "this url is error\n",
      "this url is error\n",
      "this url is error\n",
      "this url is error\n",
      "this url is error\n",
      "this url is error\n",
      "this url is error\n",
      "this url is error\n",
      "this url is error\n",
      "this url is error\n",
      "this url is error\n",
      "this url is error\n",
      "this url is error\n",
      "{'url': 'https://tass.com/world/1331389', 'title': 'Lugansk Republic militia fighter killed in Ukrainian army’s shelling', 'date': '2021-08-29', 'content': \"LUGANSK, August 29. /TASS/. A fighter of the people`s militia of the self-proclaimed Lugansk People`s Republic (LPR) was killed in the Ukrainian armed forces’ bombardment, the news agency LuganskInformCenter reported on Sunday, citing the LPR`s mission to the Joint Center for Ceasefire Control and Coordination. The Ukrainian military breached the ceasefire once in the past twenty-four hours, delivering fire from small arms against the Zolotoye-5 community, the news agency informed. The Contact Group on settling the situation in eastern Ukraine introduced additional measures that have been in effect since July 27, 2020 to control the ceasefire in Donbass. Under the agreement, the conflicting parties in Donbass are prohibited from carrying out offensive, reconnaissance and subversive operations, using any types of aircraft, opening fire or deploying heavy weapons in populated localities. One of the key provisions is the use of disciplinary measures for ceasefire violations. Furthermore, any retaliatory fire in the event of an offensive is allowed only after a commander's direct order. Despite these accords, the situation in Donbass has worsened since late February. Intensive exchanges of gunfire re-ignited on the engagement line, resulting in casualties on both sides. Kiev pins the blame on the Donbass republics for the escalation. In return, the Donbass republics castigated Ukraine`s accusations, pointing to Kiev breaching the July accords as the main cause for the escalation.\", 'category': 'world', 'source': 'Tass (Russaia)', 'scraping_date': '2021-08-30-35 04:33:12'}\n",
      "this url is error\n",
      "this url is error\n",
      "this url is error\n",
      "this url is error\n",
      "this url is error\n",
      "this url is error\n",
      "this url is error\n",
      "{'url': 'https://tass.com/world/1331381', 'title': 'US forces move into final phase of evacuation from Afghanistan', 'date': '2021-08-29', 'content': 'WASHINGTON, August 29. /TASS/. The US Armed Forces have entered the final phase of the operation to evacuate people from Afghanistan, Reuters reported on Saturday citing a source. According to the source, by now about 1,000 people are awaiting evacuation by US military transport planes at the Kabul airport. A Reuters source also noted that crowds in front of the gates to the airport began to dissipate after reports of likely new terrorist attacks. The evacuation of civilians is scheduled to be completed on Sunday, the agency was told. Earlier, US President Joe Biden announced that the US military considered a new terrorist attack on the Kabul airport in the next 24-36 hours very likely. United States forces were dispatched to Kabul airport to evacuate US citizens, foreigners, and refugees from Afghanistan. The US authorities intend to complete the evacuation operation and withdraw forces from Afghanistan on time - by August 31. On August 26, militants of the Islamic State in Khorasan group (an offshoot of the Islamic State terrorist organization banned in Russia) staged a terrorist attack near the Kabul airport, which killed more than 200 people, including 13 US soldiers. The situation in Afghanistan escalated after in April US President Joe Biden announced his decision to end the military operation in the republic. After that, the militants of the radical Taliban movement (outlawed in Russia) increased the pace of the offensive and on August 15 without a fight for several hours established full control over Kabul. Afghan President Ashraf Ghani left the country.', 'category': 'world', 'source': 'Tass (Russaia)', 'scraping_date': '2021-08-30-35 04:33:27'}\n",
      "this url is error\n",
      "{'url': 'https://tass.com/world/1331379', 'title': 'US Armed Forces evacuate around 2,000 people from Afghanistan over past day', 'date': '2021-08-29', 'content': 'MOSCOW, August 29. /TASS/. The US armed forces and their allies on Saturday evacuated about 2,000 people from Kabul, Reuters announced on Sunday citing sources in the White House. The situation in Afghanistan escalated after in April US President Joe Biden announced his decision to end the military operation in the republic. After that, the militants of the radical Taliban movement (outlawed in Russia) increased the pace of the offensive and on August 15 without a fight for several hours established full control over Kabul. Afghan President Ashraf Ghani left the country. Many states are evacuating their citizens and embassy staff. The Taliban ordered all foreign forces to leave Afghanistan by August 31, otherwise their presence, according to representatives of the movement, would be considered a continuation of the occupation. Units of the US Armed Forces were sent to the Kabul airport to ensure the evacuation of US citizens, citizens of US allies and refugees from Afghanistan. The US authorities intend to complete the evacuation operation on time - by August 31.', 'category': 'world', 'source': 'Tass (Russaia)', 'scraping_date': '2021-08-30-35 04:33:30'}\n",
      "this url is error\n",
      "this url is error\n",
      "this url is error\n",
      "this url is error\n",
      "this url is error\n",
      "this url is error\n",
      "this url is error\n",
      "this url is error\n",
      "this url is error\n",
      "this url is error\n",
      "this url is error\n",
      "{'url': 'https://tass.com/world/1331367', 'title': 'Last UK military personnel evacuated from Afghanistan', 'date': '2021-08-28', 'content': 'LONDON, August 29. /TASS/. The last plane with the United Kingdom troops remaining at the Kabul airport took off from Afghanistan, the Ministry of Defense wrote on Twitter. \"The final flight carrying UK Armed Forces personnel has left Kabul. To all those who served so bravely under enormous pressure and horrendous conditions to safely evacuate the most vulnerable of civilians,\" the ministry said. Earlier, UK Ambassador to Afghanistan Laurie Bristow said that since August 13, London has evacuated about 15,000 civilians from Kabul, including Afghans who helped Western forces during a 20-year military operation, and 1,000 members of the Royal Armed Forces. On Friday, UK Defense Secretary Ben Wallace admitted that the authorities would not be able to take everyone they would like out of the country. According to him, between 800 and 1,100 Afghans who helped the UK and 100-150 British nationals will remain in Afghanistan. Some of them, according to Wallace, remain there by choice. Western leaders have previously confirmed that they plan to fully complete the operation to evacuate their citizens from Kabul by August 31. At the same time, according to a joint statement by the leaders of the G7 states, the Taliban (outlawed in Russia) militants should provide an opportunity to leave the country for Afghans who do not want to live under their rule even after August 31, guaranteeing full acceptance of commercial flights at the capital\\'s airport.', 'category': 'world', 'source': 'Tass (Russaia)', 'scraping_date': '2021-08-30-35 04:33:53'}\n",
      "this url is error\n",
      "this url is error\n",
      "this url is error\n",
      "this url is error\n",
      "this url is error\n",
      "this url is error\n",
      "this url is error\n",
      "this url is error\n",
      "this url is error\n",
      "this url is error\n",
      "this url is error\n",
      "this url is error\n",
      "this url is error\n",
      "this url is error\n",
      "this url is error\n",
      "this url is error\n",
      "this url is error\n",
      "{'url': 'https://tass.com/world/1331349', 'title': 'Taliban urge West to retain diplomatic relations with Afghanistan - report', 'date': '2021-08-28', 'content': 'MOSCOW, August 28. /TASS/. The Taliban movement (outlawed in Russia) urge the US, the UK and other Western countries to retain their diplomatic relations with Afghanistan, Reuters reported Saturday citing the movement`s representative. \"We urge the US, the UK and other Western states to retain their diplomatic relations with Afghanistan,\" he said.', 'category': 'world', 'source': 'Tass (Russaia)', 'scraping_date': '2021-08-30-35 04:34:23'}\n"
     ]
    },
    {
     "name": "stdout",
     "output_type": "stream",
     "text": [
      "this url is error\n",
      "{'url': 'https://tass.com/world/1331347', 'title': 'Biden authorizes US forces to strike Daesh targets without White House’s approval - report', 'date': '2021-08-28', 'content': 'MOSCOW, August 28. /TASS/. US President Joe Biden authorized US Armed Forces to strike any targets, related to the ISIS-K terror group (a division of the Daesh terror group, outlawed in Russia) in Afghanistan, Politico reported Saturday citing three US officials. According to the report, the Pentagon can now strike Daesh terrorists without obtaining authorization from the White House. \"If we find more [Daesh targets], we will strike them,\" one source told Politico. According to the source, senior Pentagon officials already had this authority, but Biden reaffirmed them in the instructions for the military Friday. New strikes against Daesh are expected in the upcoming days. Earlier, the US forces already carried out an operation against an ISIS-K terrorist who reportedly was preparing new attacks in Afghanistan. The militant is reported dead. On August 26, two explosions, carried out by Daesh suicide bombers, rocked the Kabul airport, killing over 200, including 13 US servicemen. Joe Biden vowed that the US will find the perpetrators, adding that the Pentagon already prepares plans for new strikes on the terrorists.', 'category': 'world', 'source': 'Tass (Russaia)', 'scraping_date': '2021-08-30-35 04:34:28'}\n",
      "this url is error\n",
      "this url is error\n",
      "this url is error\n",
      "this url is error\n",
      "this url is error\n",
      "this url is error\n",
      "this url is error\n",
      "this url is error\n",
      "this url is error\n",
      "this url is error\n",
      "this url is error\n",
      "this url is error\n",
      "this url is error\n",
      "{'url': 'https://tass.com/world/1331333', 'title': 'US destroys last CIA base in Afghanistan beyond Kabul airport - report', 'date': '2021-08-28', 'content': 'WASHINGTON, August 28. /TASS/. The US forces destroyed the last Central Intelligence Agency (CIA) base in Afghanistan beyond the Kabul Airport, The New York Times reported Saturday. According to the report, the base in question was codenamed the Eagle Base, and it was used to provide counter-terrorism training to Afghan security forces. The US forces destroyed operational documents, computer hard drives and other important equipment in order to prevent it from falling into the Taliban (outlawed in Russia) movement`s hands. The demolition explosion took place several hours after the terror attack in Kabul airport Thursday, the report says, adding that the two events were not connected. A CIA contractor disclosed that the demolition was a difficult task, as the base was designed to make it impossible to get in. On August 26, two explosions carried out by suicide bombers, rocked the Kabul airport. According to the latest reports, about 200 people died in the explosions, including 13 US servicemen.', 'category': 'world', 'source': 'Tass (Russaia)', 'scraping_date': '2021-08-30-35 04:34:48'}\n",
      "this url is error\n",
      "this url is error\n",
      "this url is error\n",
      "{'url': 'https://tass.com/world/1331329', 'title': 'Great Britain finishes evacuation from Afghanistan - British ambassador', 'date': '2021-08-28', 'content': 'LONDON, 28 August. / TASS /. The British administration finished evacuating from Kabul its civilians, military personnel, as well as Afghani nationals who helped London during the multi-year military operation in Afghanistan, on Saturday, said Laurie Bristow, British Ambassador to the Republic According to Bristow, its administration evacuated over 15,000 civilians and 1,000 military personnel from Afghanistan since August 13. \"Since about August 13 we have brought about 15,000 people to safety, and about a 1,000 military, diplomatic, civilian personnel, who worked on Operating Pitting in Kabul. It\\'s time to close this phase of the operation now, but we haven\\'t forgotten the people who still need to leave. We will continue to do everything we can to help them. Nor have we forgotten the brave and decent people of Afghanistan. They deserve to live in peace and security,\" said in a video message from Kabul airport, posted on his Twitter page. On Friday, British Defense Secretary Ben Wallace admitted that the authorities will not be able to take out of the country everyone they would like. According to him, between 800 and 1,100 Afghans who helped the British and 100-150 British nationals will remain in Afghanistan. Some of them, according to Wallace, \"remain of their own free will.\" Evacuation is scheduled to be completed by August 31.', 'category': 'world', 'source': 'Tass (Russaia)', 'scraping_date': '2021-08-30-35 04:34:54'}\n",
      "this url is error\n",
      "{'url': 'https://tass.com/world/1331327', 'title': 'Taliban takes control over certain areas of Kabul Airport - report', 'date': '2021-08-28', 'content': 'TEHRAN, August 28. /TASS/. The Taliban movement (outlawed in Russia) took control over certain zones within the Kabul airport, Pajhwok news agency reported Sunday citing the movement representatives. According to the report, foreign forces left a number of zones inside the airport, and the Taliban took control over them. On August 26, two explosions carried out by suicide bombers, rocked the Kabul airport. According to the latest reports, about 200 people died in the explosions, including 13 US servicemen.', 'category': 'world', 'source': 'Tass (Russaia)', 'scraping_date': '2021-08-30-35 04:34:57'}\n",
      "this url is error\n",
      "this url is error\n",
      "this url is error\n",
      "this url is error\n",
      "this url is error\n",
      "this url is error\n",
      "this url is error\n",
      "this url is error\n",
      "this url is error\n",
      "this url is error\n",
      "this url is error\n",
      "this url is error\n",
      "this url is error\n",
      "this url is error\n",
      "this url is error\n",
      "this url is error\n",
      "this url is error\n",
      "this url is error\n",
      "this url is error\n",
      "this url is error\n",
      "this url is error\n",
      "this url is error\n",
      "this url is error\n",
      "this url is error\n",
      "this url is error\n",
      "this url is error\n",
      "this url is error\n",
      "this url is error\n",
      "this url is error\n",
      "this url is error\n",
      "this url is error\n",
      "this url is error\n",
      "this url is error\n",
      "this url is error\n",
      "this url is error\n",
      "this url is error\n",
      "this url is error\n",
      "this url is error\n",
      "this url is error\n",
      "this url is error\n",
      "this url is error\n",
      "this url is error\n",
      "this url is error\n",
      "this url is error\n",
      "this url is error\n",
      "this url is error\n",
      "this url is error\n",
      "this url is error\n",
      "this url is error\n",
      "this url is error\n",
      "this url is error\n",
      "this url is error\n",
      "this url is error\n",
      "this url is error\n",
      "this url is error\n",
      "this url is error\n",
      "this url is error\n",
      "{'url': 'https://tass.com/world/1331269', 'title': 'US eliminates Islamic State terrorist planner in Afghanistan', 'date': '2021-08-28', 'content': 'WASHINGTON, August 28. /TASS/. The United States military forces conducted a special operation in Afghanistan`s Nangahar province to eliminate an Islamic State (outlawed in Russia) planner of terrorist attacks, the US Central Command announced in a statement. \"US military forces conducted an over-the-horizon counterterrorism operation today against an ISIS-K planner,\" the statement quoted US Central Command Spokesman William Urban as saying. \"The unmanned airstrike occurred in the Nangahar Province of Afghanistan,\" he continued. \"Initial indications are that we killed the target. We know of no civilian casualties.\" On August 26, two blasts rocked an area near Kabul`s airport, where Western nations are evacuating foreign citizens. The terror attack was staged by Islamic State (outlawed in Russia) terrorists. According to the latest reports, at least 170 people, including 13 US troops, were killed. US President Joe Biden said after the attack that the United States would find those responsible for it and was already planning strikes on Islamic State. The Taliban (outlawed in Russia) movement, which has seized power in Afghanistan, condemned the terror attack and also promised to punish those responsible. After the administration of US President Joe Biden had announced the end of Washington`s 20-year-long military operation in Afghanistan and embarked on launching its troop pullout, the Taliban movement (outlawed in Russia) went on an offensive against Afghan government forces. On August 15, Taliban fighters swept into Kabul without encountering any resistance, and gained full control over the Afghan capital within a few hours. Afghanistan`s President Ashraf Ghani said he had stepped down to prevent any bloodshed and subsequently fled the country. Vice President Amrullah Saleh said that under the constitution, he would become \"the caretaker president\" in the absence of the president and called for armed resistance against the Taliban. At present, Western nations are evacuating their citizens and embassy staff.', 'category': 'world', 'source': 'Tass (Russaia)', 'scraping_date': '2021-08-30-35 04:36:49'}\n"
     ]
    },
    {
     "name": "stdout",
     "output_type": "stream",
     "text": [
      "this url is error\n",
      "this url is error\n",
      "this url is error\n",
      "this url is error\n",
      "this url is error\n",
      "this url is error\n",
      "this url is error\n",
      "{'url': 'https://tass.com/world/1331261', 'title': 'France completes its operation on evacuation from Afghanistan', 'date': '2021-08-27', 'content': 'PARIS, August 28. /TASS/. France has completed an operation of evacuating its citizens and Afghani nationals, who cooperated with the country, from the territory of Afghanistan, according to a joint statement issued by the French Foreign Ministry and the Defense Ministry. \"Following a confirmation of the rapid withdrawal of the US forces, which were in charge of providing security at the Kabul Airport, the ensued conditions of security criteria at the airport were no longer adequate and this is why our evacuation operation was completed on Friday, August 27,\" the statement reads. \"The staff of the French Embassy in Kabul arrived in Abu Dhabi and would then head to France,\" according to the statement. On August 26, two blasts rocked an area near Kabul`s airport, where Western nations are evacuating foreign citizens. The terror attack was staged by Islamic State (outlawed in Russia) terrorists. According to the latest reports, at least 170 people, including 13 US troops, were killed. US President Joe Biden said after the attack that the United States would find those responsible for it and was already planning strikes on Islamic State. The Taliban (outlawed in Russia) movement, which has seized power in Afghanistan, condemned the terror attack and also promised to punish those responsible. After the administration of US President Joe Biden had announced the end of Washington`s 20-year-long military operation in Afghanistan and embarked on launching its troop pullout, the Taliban movement (outlawed in Russia) went on an offensive against Afghan government forces. On August 15, Taliban fighters swept into Kabul without encountering any resistance, and gained full control over the Afghan capital within a few hours. Afghanistan`s President Ashraf Ghani said he had stepped down to prevent any bloodshed and subsequently fled the country. Vice President Amrullah Saleh said that under the constitution, he would become \"the caretaker president\" in the absence of the president and called for armed resistance against the Taliban. At present, Western nations are evacuating their citizens and embassy staff.', 'category': 'world', 'source': 'Tass (Russaia)', 'scraping_date': '2021-08-30-35 04:37:03'}\n",
      "this url is error\n",
      "this url is error\n",
      "this url is error\n",
      "this url is error\n",
      "this url is error\n",
      "this url is error\n",
      "this url is error\n",
      "this url is error\n",
      "this url is error\n",
      "this url is error\n",
      "this url is error\n",
      "{'url': 'https://tass.com/world/1331249', 'title': 'Taliban takes control of part of Kabul airport - agency', 'date': '2021-08-27', 'content': 'MOSCOW, August 27. /TASS/. /TASS/. The Taliban (outlawed in Russia) have taken control of parts of Kabul airport, France Presse reported on Friday citing a Taliban representative. No further details were given.', 'category': 'world', 'source': 'Tass (Russaia)', 'scraping_date': '2021-08-30-35 04:37:28'}\n",
      "this url is error\n",
      "{'url': 'https://tass.com/world/1331247', 'title': 'Taliban say received no response to peace proposal from Panjshir resistance', 'date': '2021-08-27', 'content': 'MOSCOW, August 27. /TASS/. The Taliban (outlawed in Russia) have received no response from the Panjshir resistance to its initiative on peaceful settlement through talks, Taliban spokesman Zabihullah Mujahid said on Friday. \"There are only two persons there who want a war. They are [Afghanistan`s Vice President Amrullah Saleh and [resistance leader Ahmad] Massoud. We have no problems with them. We have repeatedly said that we want to settle this issue peacefully, through talks. But we have received no response from them. If they don’t accept our peace proposals in the long run, it will not be a problem for us. We are now able to take Panjshir,\" he said in an interview with the Rossiya-1 television channel. After the Biden administration announced the end of its US military operation in Afghanistan and the launch of its troop pullout, the Taliban (outlawed in Russia) embarked on an offensive against Afghan government forces. On August 15, Taliban fighters swept into Kabul without encountering any resistance, and gained full control over the Afghan capital within a few hours. Afghanistan`s President Ashraf Ghani said he had stepped down to prevent any bloodshed and subsequently fled the country. Vice President Amrullah Saleh said that under the constitution, he becomes \"the caretaker president\" in the absence of the president and called for armed resistance against the Taliban. The northern province of Panjshir is the only pocket of resistance to the Taliban. It is led by Ahmad Massoud, a son of Ahmad Shah Massoud (1953-2001), a once influential leader of Afghanistan`s Tajik community who fought against the Taliban back in the 1990s.', 'category': 'world', 'source': 'Tass (Russaia)', 'scraping_date': '2021-08-30-35 04:37:31'}\n",
      "this url is error\n",
      "this url is error\n",
      "this url is error\n",
      "{'url': 'https://tass.com/world/1331243', 'title': 'US to transfer Kabul airport to ‘Afghan people’ upon departure - Department of State', 'date': '2021-08-27', 'content': 'WASHINGTON, August 27. /TASS/. The United States will transfer the control over Kabul airport to the \"Afghan people\" after its withdrawal from Afghanistan on August 31, US State Department spokesperson Ned Price said on Friday. \"The point is that upon the departure we will transfer the airport back to the Afghan people,\" told a press briefing when asked about the control over the airport in the future. He did not specify however who exactly, according to Washington, are the Afghan people representatives. \"We certainly intend to complete our mission by August 31,\" he added.', 'category': 'world', 'source': 'Tass (Russaia)', 'scraping_date': '2021-08-30-35 04:37:37'}\n",
      "this url is error\n",
      "{'url': 'https://tass.com/world/1331241', 'title': 'Taliban tells Kabul residents to hand over weapons, munitions in one week - TV', 'date': '2021-08-27', 'content': 'TASS, August 27. The Taliban radical movement (outlawed in Russia) has informed the residents of Kabul of the necessity to turn over weapons and ammunition, as well as state-owned vehicles within a week, the 1TV channel reported on Friday. According to the channel, the militants threatened to undertake measures in case of a refusal to hand over the weapons voluntarily. On August 18, Reuters reported similar demands by the Taliban when the representatives of the movement vowed to act openly for the first time. After the Biden administration had announced the end of Washington`s 20-year-long military operation in Afghanistan and the launch of its troop pullout, the Taliban embarked on an offensive against Afghan government forces. On August 15, Taliban fighters swept into Kabul without encountering any resistance, and gained full control over the Afghan capital within a few hours. Afghanistan`s President Ashraf Ghani said he had stepped down to prevent any bloodshed and subsequently fled the country. Vice President Amrullah Saleh announced that, in the absence of the head of state, the constitution empowered him to become the caretaker president and urged the Afghan people to join the resistance against the Taliban. The armed resistance in the country`s Panjshir Province is led by Ahmad Massoud, the son of renowned guerilla commander Ahmad Shah Massoud (1953-2001). At present, Western nations are evacuating their citizens and embassy staff.', 'category': 'world', 'source': 'Tass (Russaia)', 'scraping_date': '2021-08-30-35 04:37:40'}\n",
      "this url is error\n",
      "this url is error\n",
      "this url is error\n",
      "{'url': 'https://tass.com/world/1331237', 'title': 'US, allies not to recognize Taliban so far, White House says', 'date': '2021-08-27', 'content': 'WASHINGTON, August 27. /TASS/. The United States and its allies are not going to recognize any legal status of the Taliban radical movement (outlawed in Russia) in the near future, White House Press Secretary Jen Psaki told journalists at a briefing on Friday. \"I want to be really clear: there\\'s no rush to recognition [of the Taliban] of any sort by the United States or any international partners we have talked to,\" she said.', 'category': 'world', 'source': 'Tass (Russaia)', 'scraping_date': '2021-08-30-35 04:37:47'}\n"
     ]
    },
    {
     "name": "stdout",
     "output_type": "stream",
     "text": [
      "this url is error\n",
      "this url is error\n",
      "this url is error\n",
      "{'url': 'https://tass.com/world/1331233', 'title': 'Taliban asks US to keep diplomatic presence in Afghanistan after troop pullout - media', 'date': '2021-08-27', 'content': 'WASHINGTON, August 27. /TASS/. The Taliban (outlawed in Russia) are asking the United States to preserve its diplomatic presence in Afghanistan after the withdrawal of its troops, the Washington Post reported on Friday citing a source. According to the newspaper, Washington is considering the idea but no final decision has been taken yet. If they do decide to stay on, then the US embassy would resume its operation. The US Department of State said on August 15 that embassy staff had been evacuated to the territory of Kabul airport. The Washington Post suggested that the Taliban`s request stems from their striving for recognition by the world community. Apart from that, according to the newspaper`s sources, the United States is taking part in talks on the future management of Kabul airport, which also involve Turkey, the Taliban and the private sector. US Army units were deployed to Kabul airport to ensure the evacuation of American nationals, citizens of allied countries, and refugees. The US authorities plan to complete the evacuation by August 31.', 'category': 'world', 'source': 'Tass (Russaia)', 'scraping_date': '2021-08-30-35 04:37:53'}\n",
      "this url is error\n",
      "this url is error\n",
      "this url is error\n",
      "this url is error\n",
      "this url is error\n",
      "this url is error\n",
      "this url is error\n",
      "this url is error\n",
      "this url is error\n",
      "this url is error\n",
      "this url is error\n",
      "this url is error\n",
      "this url is error\n",
      "{'url': 'https://tass.com/world/1331219', 'title': 'Death toll from Kabul terror attack up to nearly 200 — newspaper', 'date': '2021-08-27', 'content': 'WASHINGTON, August 27. /TASS/. The death toll from the terror attack near Kabul`s airport has risen to nearly 200, The Wall Street Journal reported on Friday, citing Afghan medics. Earlier, CBS reported at least 170 casualties. Two powerful blasts rocked an area near Kabul`s airport on August 26. The terror attack was staged by Islamic State (outlawed in Russia) terrorists. US President Joe Biden said after the attack that the United States would find those responsible for it and was already planning strikes on Islamic State. The Taliban movement, which has seized power in Afghanistan, condemned the terror attack and also promised to punish those responsible. A Pentagon spokesman said on Friday that there had been one explosion. Earlier, the Pentagon confirmed reports that 13 US soldiers had been killed and 18 more had been wounded in the terror attack.', 'category': 'world', 'source': 'Tass (Russaia)', 'scraping_date': '2021-08-30-35 04:38:27'}\n",
      "this url is error\n",
      "this url is error\n",
      "this url is error\n",
      "this url is error\n",
      "this url is error\n",
      "{'url': 'https://tass.com/world/1331213', 'title': 'US still plans to complete evacuation from Afghanistan by August 31 — Pentagon', 'date': '2021-08-27', 'content': 'WASHINGTON, August 27. /TASS/. The US plans to complete the evacuation from Afghanistan on August 31, despite the recent events in the republic, the Pentagon spokesman john Kirby stated Friday. \"We’re still planning on ending this mission at the end of the month. And as I said the other day, as we get closer and we are getting closer, you’re going to see us begin to make those muscle movements to pull out our troops and some of our equipment as appropriate with any retrograde,\" Kirby said. He added that the US would continue to provide aid to the Afghans, but there will be no US military presence in the republic in the future. \"Though, we will not have a military presence there, the United States government will still want to see what we can do with the international community to make sure that Afghans can have the best of all possible outcomes for their future,\" the spokesman said. Kirby underscored that the Pentagon intends to maintain as many opportunities to ensure security in Kabul as possible for as long as possible. \"What we want to do is preserve as much capability for as long as we can, both in terms of the security footprint, but also in terms of the ability […] to move out evacuees,\" he said. The Pentagon spokesman also said that \"the US military do not rule out more attacks in Kabu and are prepared for that.\" \"We certainly are prepared and would expect future attempts,\" he said. \"We\\'re monitoring these threats, very, very specifically, virtually in real time.\" On August 26, two blasts rocked an area near Kabul`s airport, via which Western nations are evacuating foreign citizens. The terror attack was staged by Islamic State (outlawed in Russia) terrorists. According to the latest reports, at least 170 people, including 13 US troops, were killed. US President Joe Biden said after the attack that the United States would find those responsible for it and was already planning strikes on Islamic State. The Taliban movement, which has seized power in Afghanistan, condemned the terror attack and also promised to punish those responsible.', 'category': 'world', 'source': 'Tass (Russaia)', 'scraping_date': '2021-08-30-35 04:38:36'}\n",
      "this url is error\n",
      "this url is error\n",
      "this url is error\n",
      "this url is error\n",
      "this url is error\n",
      "this url is error\n",
      "this url is error\n",
      "this url is error\n",
      "this url is error\n",
      "this url is error\n",
      "this url is error\n",
      "this url is error\n",
      "this url is error\n",
      "this url is error\n",
      "this url is error\n",
      "this url is error\n",
      "this url is error\n",
      "this url is error\n",
      "this url is error\n",
      "this url is error\n",
      "this url is error\n",
      "this url is error\n",
      "this url is error\n",
      "this url is error\n",
      "this url is error\n",
      "this url is error\n",
      "this url is error\n",
      "this url is error\n",
      "this url is error\n",
      "this url is error\n",
      "this url is error\n",
      "{'url': 'https://tass.com/world/1331181', 'title': 'US evacuated 5,100 Americans from Kabul, General says', 'date': '2021-08-27', 'content': 'WASHINGTON, August 27. /TASS/. In the past 24 hours, US forces evacuated 300 compatriots from Kabul, bringing the total number of evacuated US citizens to 5,100, says US General Hank Taylor. Since late July, the US and its allies have evacuated about 111,000 people from Afghanistan. According to the US General, the US Consulate continues to check and process the information about the people that arrive to the airport, including US citizens, applicants for special immigration visas and vulnerable Afghans. There are still about 5,400 people awaiting their flight from Afghanistan currently in the Kabul airport, General Taylor added.', 'category': 'world', 'source': 'Tass (Russaia)', 'scraping_date': '2021-08-30-35 04:40:05'}\n",
      "this url is error\n",
      "this url is error\n",
      "this url is error\n",
      "this url is error\n",
      "this url is error\n",
      "this url is error\n",
      "this url is error\n",
      "this url is error\n",
      "this url is error\n",
      "this url is error\n",
      "this url is error\n",
      "{'url': 'https://tass.com/world/1331169', 'title': 'UN Security Council condemns terror attacks in Kabul — statement', 'date': '2021-08-27', 'content': 'UNITED NATIONS, August 27. /TASS/. The United Nations Security Council has approved a statement condemning the August 26 terror attacks in Kabul and calling for the perpetrators, organizers and backers of the terrorist attack to be held responsible, according to a statement issued at the UN on Friday. The council members asserted that terrorism in all its forms and manifestations represents one of the more serious threats to international peace and stability. \"Deliberately targeting civilians and personnel assisting in the evacuation of civilians is especially abhorrent and must be condemned,\" said the council, emphasizing the need to hold the perpetrators, organizers, financiers and sponsors accountable. The statement noted that the Islamic State Khorasan (ISIS-K) organization (outlawed in Russia) claimed responsibility for the attacks. The role of the Taliban movement (outlawed in Russia) was not mentioned in the statement. The members of the council also \"reiterated the importance of combating terrorism in Afghanistan to ensure the territory of Afghanistan should not be used to threaten or attack any country, and that no Afghan group or individual should support terrorists operating on the territory of any country.\" They emphasized the necessity for all countries to fight the threats to international peace and security represented by terror attacks using all means possible in accordance with the UN Charter and other obligations, including international humanitarian law, international refugee law and human rights. The statement also underlined the necessity to ensure the security of UN personnel in Afghanistan as well as the diplomatic staff of UN member countries. The UN Security Council \"called on all relevant parties to respect and facilitate the safe evacuation of civilians.\" The document did not touch on political issues, including the recognition of the Taliban government, as well as on the deadlines of evacuation from Afghanistan. On August 26, two powerful blasts triggered by suicide bombers occurred near the building of Kabul airport used by Western countries to evacuate foreign citizens. According to the latest information, 170 people were killed in the terror attack, including 13 US servicemen.', 'category': 'world', 'source': 'Tass (Russaia)', 'scraping_date': '2021-08-30-35 04:40:30'}\n"
     ]
    },
    {
     "name": "stdout",
     "output_type": "stream",
     "text": [
      "this url is error\n",
      "{'url': 'https://tass.com/world/1331167', 'title': 'Poland should think of human rights in migration policy before teaching others — diplomat', 'date': '2021-08-27', 'content': 'MOSCOW, August 27. /TASS/. Before preaching down to others, Warsaw should pay more attention to human rights in its own migration policy, Russian Foreign Ministry Spokeswoman Maria Zakharova wrote on Friday on her Telegram channel. Commenting on the migration crisis at the Polish-Belarusian border, the Russian diplomat noted that \"the reality of the human rights routines of the Polish colleagues\" runs counter to the values Warsaw declares \"theoretically, on paper.\" She recalled that thousands of migrants from \"instability-gripped countries that have fallen victims of the Western geopolitical projects are seeking to reach the European Union,\" including Poland. According to the Russian diplomat, these people have a \"moral right\" to demand humanitarian assistance, since Polish troops were also deployed to Afghanistan, Iraq, and at the Syrian border on the Turkish side. \"One might think that it is a perfect chance to demonstrate the real concern of human rights, to show the entire world how it should be: to organize a modern tent camp for refugees on its territory (but not in words), or, for instance, to test the most advanced, newest methods of inclusive integration in the spirit of the international human rights movement,\" she noted. \"But Poland has chosen another way. It deployed troops, including regular army units, to the border with Belarus, built fences with barbed wire along its section of the border, flings all those who manage \"to infiltrate\" into internment camps, and seeks to push these poor people back to Belarus.\" However, in her words, these measures seem not to be enough for Warsaw, which is currently thinking about how to reform its migration laws to simplify the deportation of migrants and abandon the practice of considering asylum applications from many categories of people. Answering a question if Warsaw has any right to this \"sovereign migration policy,\" Zakharova noted that such a policy \"must be in keeping with Warsaw`s international liabilities\" and \"must not run counter to the moralism Polish officials afford in respect of sovereign states.\" \"Or the other way round: Warsaw lives as it likes and stops teaching anyone how they should live,\" she added.', 'category': 'world', 'source': 'Tass (Russaia)', 'scraping_date': '2021-08-30-35 04:40:33'}\n",
      "this url is error\n",
      "this url is error\n",
      "this url is error\n",
      "this url is error\n",
      "this url is error\n",
      "this url is error\n",
      "this url is error\n",
      "this url is error\n",
      "this url is error\n",
      "this url is error\n",
      "this url is error\n",
      "this url is error\n",
      "this url is error\n",
      "this url is error\n",
      "this url is error\n",
      "this url is error\n",
      "this url is error\n",
      "this url is error\n",
      "this url is error\n",
      "this url is error\n",
      "this url is error\n",
      "{'url': 'https://tass.com/world/1331145', 'title': 'New coronavirus strains currently not dangerous to children, WHO representative says', 'date': '2021-08-27', 'content': 'MOSCOW, August 27. /TASS/. Currently, it is not possible to assert that new coronavirus strains are becoming more dangerous to children, Melita Vujnovic, World Health Organization (WHO) representative in Russia, said. \"At this time, we can’t say that the situation is alarming,\" she told the Russia-24 TV channel in response to a corresponding question. The representative clarified that there are more risks for children to get infected due to the relaxation of previous restrictions. \"If there are any changes, of course, we will inform all countries, all experts. Yes, we see more infected children but it`s not a situation where the virus is specifically targeting children. It is simply spreading to those who haven’t been vaccinated,\" the WHO representative specified.', 'category': 'world', 'source': 'Tass (Russaia)', 'scraping_date': '2021-08-30-35 04:41:16'}\n",
      "this url is error\n",
      "this url is error\n",
      "this url is error\n",
      "this url is error\n",
      "this url is error\n",
      "this url is error\n",
      "this url is error\n"
     ]
    }
   ],
   "source": [
    "yield_latest_article(\"2021-08-01\", 100)"
   ]
  },
  {
   "cell_type": "code",
   "execution_count": 31,
   "metadata": {
    "ExecuteTime": {
     "end_time": "2021-08-30T01:48:41.405626Z",
     "start_time": "2021-08-30T01:48:41.384998Z"
    }
   },
   "outputs": [],
   "source": [
    "soup.find('div', class_ ='news__metadata')"
   ]
  }
 ],
 "metadata": {
  "hide_input": false,
  "kernelspec": {
   "display_name": "Python 3 (ipykernel)",
   "language": "python",
   "name": "python3"
  },
  "language_info": {
   "codemirror_mode": {
    "name": "ipython",
    "version": 3
   },
   "file_extension": ".py",
   "mimetype": "text/x-python",
   "name": "python",
   "nbconvert_exporter": "python",
   "pygments_lexer": "ipython3",
   "version": "3.9.7"
  },
  "toc": {
   "base_numbering": 1,
   "nav_menu": {},
   "number_sections": true,
   "sideBar": true,
   "skip_h1_title": false,
   "title_cell": "Table of Contents",
   "title_sidebar": "Contents",
   "toc_cell": false,
   "toc_position": {},
   "toc_section_display": true,
   "toc_window_display": false
  },
  "varInspector": {
   "cols": {
    "lenName": 16,
    "lenType": 16,
    "lenVar": 40
   },
   "kernels_config": {
    "python": {
     "delete_cmd_postfix": "",
     "delete_cmd_prefix": "del ",
     "library": "var_list.py",
     "varRefreshCmd": "print(var_dic_list())"
    },
    "r": {
     "delete_cmd_postfix": ") ",
     "delete_cmd_prefix": "rm(",
     "library": "var_list.r",
     "varRefreshCmd": "cat(var_dic_list()) "
    }
   },
   "position": {
    "height": "144.854px",
    "left": "1148px",
    "right": "20px",
    "top": "444px",
    "width": "350px"
   },
   "types_to_exclude": [
    "module",
    "function",
    "builtin_function_or_method",
    "instance",
    "_Feature"
   ],
   "window_display": true
  }
 },
 "nbformat": 4,
 "nbformat_minor": 2
}
