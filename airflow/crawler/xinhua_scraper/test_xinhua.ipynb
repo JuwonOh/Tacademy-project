{
 "cells": [
  {
   "cell_type": "code",
   "execution_count": 2,
   "metadata": {
    "ExecuteTime": {
     "end_time": "2021-11-26T02:15:39.961776Z",
     "start_time": "2021-11-26T02:15:39.951789Z"
    }
   },
   "outputs": [],
   "source": [
    "import re\n",
    "import requests\n",
    "from datetime import datetime\n",
    "from bs4 import BeautifulSoup, Tag\n",
    "from time import gmtime, strftime\n",
    "from bs4 import BeautifulSoup, NavigableString\n",
    "import pandas as pd\n",
    "def now():\n",
    "    \"\"\"\n",
    "    Returns\n",
    "    -------\n",
    "    Current time : str\n",
    "        eg: 2018-11-22 13:35:23\n",
    "    \"\"\"\n",
    "    return strftime(\"%Y-%m-%d-%W %H:%M:%S\", gmtime())\n",
    "\n",
    "def get_soup(url, headers=None):\n",
    "    \"\"\"\n",
    "    Arguments\n",
    "    ---------\n",
    "    url : str\n",
    "        Web page url\n",
    "    headers : dict\n",
    "        Headers for requests. If None, use Mozilla/5.0 as default user-agent\n",
    "\n",
    "    Returns\n",
    "    -------\n",
    "    soup : bs4.BeautifulSoup\n",
    "        Soup format web page\n",
    "    \"\"\"\n",
    "\n",
    "    if headers is None:\n",
    "        headers = {'User-Agent': 'Mozilla/5.0 (X11; Linux x86_64) AppleWebKit/537.36 (KHTML, like Gecko) Chrome/67.0.3396.99 Safari/537.36'}\n",
    "    r = requests.get(url, headers=headers)\n",
    "    html = r.text\n",
    "    page = BeautifulSoup(html, 'lxml')\n",
    "    return page\n",
    "\n",
    "doublespace_pattern = re.compile('\\s+')\n",
    "lineseparator_pattern = re.compile('\\n+')\n",
    "\n",
    "def normalize_text(text):\n",
    "    text = text.replace('\\t', ' ')\n",
    "    text = text.replace('\\r', ' ')\n",
    "    text = lineseparator_pattern.sub('\\n', text)\n",
    "    text = doublespace_pattern.sub(' ', text)\n",
    "    return text.strip()\n"
   ]
  },
  {
   "cell_type": "code",
   "execution_count": 3,
   "metadata": {
    "ExecuteTime": {
     "end_time": "2021-11-26T02:15:40.998554Z",
     "start_time": "2021-11-26T02:15:40.985547Z"
    }
   },
   "outputs": [],
   "source": [
    "def to_string(instance):\n",
    "    final_string = ''\n",
    "    if isinstance(instance, NavigableString):\n",
    "        return instance\n",
    "    for contents in instance.contents:\n",
    "        final_string += to_string(contents)\n",
    "    return final_string"
   ]
  },
  {
   "cell_type": "code",
   "execution_count": 4,
   "metadata": {
    "ExecuteTime": {
     "end_time": "2021-11-26T02:15:41.376032Z",
     "start_time": "2021-11-26T02:15:41.370031Z"
    }
   },
   "outputs": [],
   "source": [
    "from dateutil.parser import parse"
   ]
  },
  {
   "cell_type": "code",
   "execution_count": 5,
   "metadata": {
    "ExecuteTime": {
     "end_time": "2021-11-26T02:15:41.842329Z",
     "start_time": "2021-11-26T02:15:41.825305Z"
    }
   },
   "outputs": [],
   "source": [
    "def parse_page(url):\n",
    "    \"\"\"\n",
    "    Argument\n",
    "    --------\n",
    "    url : str\n",
    "        Web page url\n",
    "\n",
    "    Returns\n",
    "    -------\n",
    "    json_object : dict\n",
    "        JSON format web page contents\n",
    "        It consists of\n",
    "            date : publication date of article\n",
    "            title : article title\n",
    "            subtitle : none\n",
    "            content : text \n",
    "            category : World\n",
    "            source : Guardian\n",
    "            url : web page url\n",
    "            scrap_time : scrapped time\n",
    "    \"\"\"\n",
    "    soup = get_soup(url)\n",
    "\n",
    "    content_list = soup.find('div', class_ = 'content').find_all('p')\n",
    "    content = ''\n",
    "    for paragraph in content_list:\n",
    "        content = content + to_string(paragraph) + ' '\n",
    "        content = content.replace(u'\\xa0', u' ').replace('\\n', '').replace('\\'s', '`s')\n",
    "\n",
    "\n",
    "    \n",
    "    title = soup.find('h1')\n",
    "    title = title.text.replace('\\r\\n','')\n",
    "        \n",
    "    time = soup.find('p', class_ = 'time').text\n",
    "    time = parse(time).strftime(\"%Y-%m-%d\")\n",
    "    json_object = {\n",
    "        'date': time,\n",
    "        'title': title,\n",
    "        'time' : time,\n",
    "        'subtitle': '',\n",
    "        'content': content,\n",
    "        'source': 'Xinhua',\n",
    "        'url': url,\n",
    "        'scrap_time': now()\n",
    "        }\n",
    "    return json_object"
   ]
  },
  {
   "cell_type": "code",
   "execution_count": 7,
   "metadata": {
    "ExecuteTime": {
     "end_time": "2021-11-26T02:18:26.514712Z",
     "start_time": "2021-11-26T02:18:26.144022Z"
    }
   },
   "outputs": [
    {
     "data": {
      "text/plain": [
       "<html><body><p>{\"code\":200,\"content\":{\"recommendation\":null,\"keyword\":\"olympic\",\"sortField\":\"0\",\"optionsSearchTypes\":null,\"curPage\":3,\"results\":[{\"code\":null,\"contentId\":\"202202174c218def613b40ba9b0a1e76d7d15cc7_ea5462a0768d4c3b94ddbf661c1932cc\",\"des\":null,\"imgUrl\":null,\"keyword\":null,\"listResult\":null,\"pubtime\":\"2022-02-17 00:47:00\",\"sitename\":\"英文频道\",\"title\":\"China keeps semifinal hope alive in <font color=\"red\">Olympic</font> women's team curling\",\"url\":\"https://english.news.cn/20220217/4c218def613b40ba9b0a1e76d7d15cc7/c.html\"},{\"code\":null,\"contentId\":\"202202174c218def613b40ba9b0a1e76d7d15cc7_a8e397e9d2224c0aa3855cf94e9fda0a\",\"des\":null,\"imgUrl\":null,\"keyword\":null,\"listResult\":null,\"pubtime\":\"2022-02-17 00:47:00\",\"sitename\":\"英文频道\",\"title\":\"China keeps semifinal hope alive in <font color=\"red\">Olympic</font> women's team curling\",\"url\":\"https://english.news.cn/20220217/4c218def613b40ba9b0a1e76d7d15cc7/c.html\"},{\"code\":null,\"contentId\":\"202202174c218def613b40ba9b0a1e76d7d15cc7_761c5f0c175c42cbbcec2ff8486a9e17\",\"des\":null,\"imgUrl\":null,\"keyword\":null,\"listResult\":null,\"pubtime\":\"2022-02-17 00:47:00\",\"sitename\":\"英文频道\",\"title\":\"China keeps semifinal hope alive in <font color=\"red\">Olympic</font> women's team curling\",\"url\":\"https://english.news.cn/20220217/4c218def613b40ba9b0a1e76d7d15cc7/c.html\"},{\"code\":null,\"contentId\":\"202202174c218def613b40ba9b0a1e76d7d15cc7_ca7dcf7001ff4ff2a77a94fb3afd24de\",\"des\":null,\"imgUrl\":null,\"keyword\":null,\"listResult\":null,\"pubtime\":\"2022-02-17 00:47:00\",\"sitename\":\"英文频道\",\"title\":\"China keeps semifinal hope alive in <font color=\"red\">Olympic</font> women's team curling\",\"url\":\"https://english.news.cn/20220217/4c218def613b40ba9b0a1e76d7d15cc7/c.html\"},{\"code\":null,\"contentId\":\"202202165f67cd0db31045e8858233a3afcf09b0_761c5f0c175c42cbbcec2ff8486a9e17\",\"des\":null,\"imgUrl\":null,\"keyword\":null,\"listResult\":null,\"pubtime\":\"2022-02-16 22:30:19\",\"sitename\":\"英文频道\",\"title\":\"Chinese police warn of illegal sales of Beijing <font color=\"red\">Olympic</font> mascot products\",\"url\":\"https://english.news.cn/20220216/5f67cd0db31045e8858233a3afcf09b0/c.html\"},{\"code\":null,\"contentId\":\"20220216be53acdbefee40fcbe81bacf9aed4f87_416e181ad39541beb69a669b6316b3ad\",\"des\":null,\"imgUrl\":null,\"keyword\":null,\"listResult\":null,\"pubtime\":\"2022-02-16 22:06:15\",\"sitename\":\"英文频道\",\"title\":\"(Poster) <font color=\"red\">Olympic</font> Classic Relive: China claimed men's aerials freestyle skiing gold again after 16 years\",\"url\":\"https://english.news.cn/20220216/be53acdbefee40fcbe81bacf9aed4f87/c.html\"},{\"code\":null,\"contentId\":\"202202160e42c02e25d84384a41513104fdf99f9_416e181ad39541beb69a669b6316b3ad\",\"des\":null,\"imgUrl\":null,\"keyword\":null,\"listResult\":null,\"pubtime\":\"2022-02-16 19:34:15\",\"sitename\":\"英文频道\",\"title\":\"Bosnia's <font color=\"red\">Olympic</font> flag bearer becomes internet celebrity\",\"url\":\"https://english.news.cn/20220216/0e42c02e25d84384a41513104fdf99f9/c.html\"},{\"code\":null,\"contentId\":\"202202160e4f583840bc4d259cdb7772f2debc11_b4becb1adc3f42928f40fb2463ad53ec\",\"des\":null,\"imgUrl\":null,\"keyword\":null,\"listResult\":null,\"pubtime\":\"2022-02-16 18:32:52\",\"sitename\":\"英文频道\",\"title\":\"GLOBALink | Malta's bun-eating <font color=\"red\">Olympic</font> snowboarder wins hearts of audiences\",\"url\":\"https://english.news.cn/20220216/0e4f583840bc4d259cdb7772f2debc11/c.html\"},{\"code\":null,\"contentId\":\"202202160e4f583840bc4d259cdb7772f2debc11_416e181ad39541beb69a669b6316b3ad\",\"des\":null,\"imgUrl\":null,\"keyword\":null,\"listResult\":null,\"pubtime\":\"2022-02-16 18:32:52\",\"sitename\":\"英文频道\",\"title\":\"GLOBALink | Malta's bun-eating <font color=\"red\">Olympic</font> snowboarder wins hearts of audiences\",\"url\":\"https://english.news.cn/20220216/0e4f583840bc4d259cdb7772f2debc11/c.html\"},{\"code\":null,\"contentId\":\"2022021650ad978f4bd6430dbf13860c2bda3cbc_416e181ad39541beb69a669b6316b3ad\",\"des\":null,\"imgUrl\":null,\"keyword\":null,\"listResult\":null,\"pubtime\":\"2022-02-16 18:32:47\",\"sitename\":\"英文频道\",\"title\":\"GLOBALink | Malta's bun-eating <font color=\"red\">Olympic</font> snowboarder wins hearts of audiences\",\"url\":\"https://english.news.cn/20220216/50ad978f4bd6430dbf13860c2bda3cbc/c.html\"}],\"pageCount\":321,\"resultCount\":3209}}</p></body></html>"
      ]
     },
     "execution_count": 7,
     "metadata": {},
     "output_type": "execute_result"
    }
   ],
   "source": [
    "get_soup('https://search.news.cn/getNews?sortField=0&searchFields=0&keyword=olympic&curPage=3&lang=en')"
   ]
  },
  {
   "cell_type": "code",
   "execution_count": 8,
   "metadata": {
    "ExecuteTime": {
     "end_time": "2021-11-26T02:16:05.249669Z",
     "start_time": "2021-11-26T02:16:05.049631Z"
    }
   },
   "outputs": [
    {
     "data": {
      "text/plain": [
       "[<a href=\"http://english.news.cn/\" target=\"_blank\">Xinhuanet</a>,\n",
       " <a href=\"http://english.news.cn/\" target=\"_blank\"><img src=\"/font/images/index/logo.png\"/></a>,\n",
       " <a class=\"advanceSearch\" href=\"javascript:;\">Advanced Search</a>,\n",
       " <a class=\"typeBtn selected\" data-type=\"0\" href=\"javascript:;\">Stories</a>,\n",
       " <a class=\"typeBtn\" data-type=\"1\" href=\"javascript:;\">Photos</a>,\n",
       " <a class=\"typeBtn\" data-type=\"2\" href=\"javascript:;\">Videos</a>,\n",
       " <a class=\"advanceSearch\" href=\"javascript:;\" id=\"advanceSearch\">Advanced Search</a>,\n",
       " <a href=\"http://english.news.cn/\" target=\"_blank\">Xinhuanet</a>,\n",
       " <a href=\"javascript:;\" id=\"seniorSubmit\">Enter</a>]"
      ]
     },
     "execution_count": 8,
     "metadata": {},
     "output_type": "execute_result"
    }
   ],
   "source": [
    "get_soup('http://search.news.cn/?lang=en#search/0/OLYMPIC/6/').find_all('a')"
   ]
  },
  {
   "cell_type": "code",
   "execution_count": null,
   "metadata": {},
   "outputs": [],
   "source": []
  },
  {
   "cell_type": "code",
   "execution_count": 9,
   "metadata": {
    "ExecuteTime": {
     "end_time": "2021-11-26T02:06:43.385330Z",
     "start_time": "2021-11-26T02:06:43.369317Z"
    }
   },
   "outputs": [],
   "source": [
    "def yield_latest_article(begin_date, max_num=10, sleep=0.1):\n",
    "    \"\"\"\n",
    "    Artuments\n",
    "    ---------\n",
    "    begin_date : str\n",
    "        eg. 2018-07-01\n",
    "    end_date :str\n",
    "        eg. 2019-03-31\n",
    "    max_num : int\n",
    "        Maximum number of news to be scraped\n",
    "    sleep : float\n",
    "        Sleep time. Default 1.0 sec\n",
    "\n",
    "    It yields\n",
    "    ---------\n",
    "    news : json object\n",
    "    \"\"\"\n",
    "\n",
    "    # prepare parameters\n",
    "    n_news = 0\n",
    "    outdate = False\n",
    "\n",
    "    for page in range(139800541, 130000000, -1):\n",
    "\n",
    "        # check number of scraped news\n",
    "        # get urls\n",
    "        page = str(page)\n",
    "        ymonth = parse(begin_date).strftime(\"%Y-%m/%d\")\n",
    "        url = \"http://www.news.cn/english/{}/c_{}.htm\".format(ymonth, page)\n",
    "\n",
    "        print(url)\n",
    "        try:\n",
    "            news_json = parse_page(url)\n",
    "            return news_json\n",
    "            # check date of scraped news\n",
    "\n",
    "        except:\n",
    "            begin_date = (datetime.strptime(begin_date, \"%Y-%m-%d\") +  timedelta(days=1)).strftime(\"%Y-%m/%d\")\n",
    "            print(afterday)\n",
    "            url = \"http://www.news.cn/english/{}/c_{}.htm\".format(afterday, page)\n",
    "            news_json = parse_page(url)\n",
    "            return news_json"
   ]
  },
  {
   "cell_type": "code",
   "execution_count": 6,
   "metadata": {
    "ExecuteTime": {
     "end_time": "2021-11-26T02:06:52.956292Z",
     "start_time": "2021-11-26T02:06:52.953291Z"
    }
   },
   "outputs": [],
   "source": [
    "begin_date = \"2021-03-11\""
   ]
  },
  {
   "cell_type": "code",
   "execution_count": 7,
   "metadata": {
    "ExecuteTime": {
     "end_time": "2021-11-26T02:06:55.559602Z",
     "start_time": "2021-11-26T02:06:53.488821Z"
    },
    "scrolled": true
   },
   "outputs": [
    {
     "data": {
      "text/plain": [
       "{'date': '2022-02-18',\n",
       " 'title': \"Chinese Wisdom in Xi's Words: Fragrant plum blossoms in bitter cold\",\n",
       " 'time': '2022-02-18',\n",
       " 'subtitle': '',\n",
       " 'content': '   BEIJING, Feb. 18 (Xinhua) -- \"There will be no fragrant plum blossoms without freezing cold weather.\"    Chinese President Xi Jinping has quoted this line from a poem of the Tang Dynasty (618-907) to encourage athletes to train hard to achieve good results in the ongoing Beijing 2022 Winter Olympics.    The Chinese share a particular fondness for plum blossoms because they bloom in the winter when almost all other plants wither in the bitter cold. They admire the flower for its perseverance and tenacity in the face of adversity.    Writers of later generations continued to use the similar metaphor. For instance, a popular couplet paralleled plum blossoms with the blade of swords -- \"good honing gives a sharp edge to a sword; bitter cold adds fragrance to plum blossoms.\"    For most athletes, Beijing 2022 saw their years of dedication and resolute practice bear fruits.    \"To persevere in the sport that I love. That`s what I\\'ve been doing over the past two decades,\" said veteran free skier Xu Mengtao, who bagged the gold in women`s aerials earlier this week. The 31-year-old skier had suffered injuries and missed the top step of the podium in three consecutive Olympic outings before realizing her dream by winning the gold.  â\\x96  ',\n",
       " 'source': 'Xinhua',\n",
       " 'url': 'https://english.news.cn/20220218/abfbbf15cf6e4cf78b1235a3ceb6322b/c.html',\n",
       " 'scrap_time': '2022-02-18-07 04:52:09'}"
      ]
     },
     "execution_count": 7,
     "metadata": {},
     "output_type": "execute_result"
    }
   ],
   "source": [
    "parse_page('https://english.news.cn/20220218/abfbbf15cf6e4cf78b1235a3ceb6322b/c.html')"
   ]
  },
  {
   "cell_type": "code",
   "execution_count": 7,
   "metadata": {
    "ExecuteTime": {
     "end_time": "2021-08-29T21:20:19.257225Z",
     "start_time": "2021-08-29T21:19:56.465382Z"
    }
   },
   "outputs": [
    {
     "name": "stdout",
     "output_type": "stream",
     "text": [
      "http://www.news.cn/english/2021-03/11/c_139800541.htm\n",
      "This url is not available\n",
      "http://www.news.cn/english/2021-03/11/c_139800540.htm\n",
      "This url is not available\n",
      "http://www.news.cn/english/2021-03/11/c_139800539.htm\n",
      "This url is not available\n",
      "http://www.news.cn/english/2021-03/11/c_139800538.htm\n",
      "This url is not available\n",
      "http://www.news.cn/english/2021-03/11/c_139800537.htm\n",
      "This url is not available\n",
      "http://www.news.cn/english/2021-03/11/c_139800536.htm\n",
      "This url is not available\n",
      "http://www.news.cn/english/2021-03/11/c_139800535.htm\n",
      "This url is not available\n",
      "http://www.news.cn/english/2021-03/11/c_139800534.htm\n",
      "This url is not available\n",
      "http://www.news.cn/english/2021-03/11/c_139800533.htm\n",
      "This url is not available\n",
      "http://www.news.cn/english/2021-03/11/c_139800532.htm\n",
      "This url is not available\n",
      "http://www.news.cn/english/2021-03/11/c_139800531.htm\n",
      "This url is not available\n",
      "http://www.news.cn/english/2021-03/11/c_139800530.htm\n",
      "This url is not available\n",
      "http://www.news.cn/english/2021-03/11/c_139800529.htm\n",
      "This url is not available\n",
      "http://www.news.cn/english/2021-03/11/c_139800528.htm\n",
      "This url is not available\n",
      "http://www.news.cn/english/2021-03/11/c_139800527.htm\n",
      "This url is not available\n",
      "http://www.news.cn/english/2021-03/11/c_139800526.htm\n",
      "This url is not available\n",
      "http://www.news.cn/english/2021-03/11/c_139800525.htm\n",
      "This url is not available\n",
      "http://www.news.cn/english/2021-03/11/c_139800524.htm\n",
      "This url is not available\n",
      "http://www.news.cn/english/2021-03/11/c_139800523.htm\n",
      "This url is not available\n",
      "http://www.news.cn/english/2021-03/11/c_139800522.htm\n",
      "This url is not available\n",
      "http://www.news.cn/english/2021-03/11/c_139800521.htm\n",
      "This url is not available\n",
      "http://www.news.cn/english/2021-03/11/c_139800520.htm\n",
      "This url is not available\n",
      "http://www.news.cn/english/2021-03/11/c_139800519.htm\n",
      "This url is not available\n",
      "http://www.news.cn/english/2021-03/11/c_139800518.htm\n",
      "This url is not available\n",
      "http://www.news.cn/english/2021-03/11/c_139800517.htm\n",
      "This url is not available\n",
      "http://www.news.cn/english/2021-03/11/c_139800516.htm\n",
      "This url is not available\n",
      "http://www.news.cn/english/2021-03/11/c_139800515.htm\n",
      "This url is not available\n",
      "http://www.news.cn/english/2021-03/11/c_139800514.htm\n",
      "This url is not available\n",
      "http://www.news.cn/english/2021-03/11/c_139800513.htm\n",
      "This url is not available\n",
      "http://www.news.cn/english/2021-03/11/c_139800512.htm\n",
      "This url is not available\n",
      "http://www.news.cn/english/2021-03/11/c_139800511.htm\n",
      "This url is not available\n",
      "http://www.news.cn/english/2021-03/11/c_139800510.htm\n",
      "This url is not available\n",
      "http://www.news.cn/english/2021-03/11/c_139800509.htm\n",
      "This url is not available\n",
      "http://www.news.cn/english/2021-03/11/c_139800508.htm\n",
      "This url is not available\n",
      "http://www.news.cn/english/2021-03/11/c_139800507.htm\n",
      "This url is not available\n",
      "http://www.news.cn/english/2021-03/11/c_139800506.htm\n",
      "This url is not available\n",
      "http://www.news.cn/english/2021-03/11/c_139800505.htm\n",
      "This url is not available\n",
      "http://www.news.cn/english/2021-03/11/c_139800504.htm\n",
      "This url is not available\n",
      "http://www.news.cn/english/2021-03/11/c_139800503.htm\n",
      "This url is not available\n",
      "http://www.news.cn/english/2021-03/11/c_139800502.htm\n",
      "This url is not available\n",
      "http://www.news.cn/english/2021-03/11/c_139800501.htm\n",
      "This url is not available\n"
     ]
    }
   ],
   "source": [
    "for page in range(139800541, 139800500, -1):\n",
    "    page = str(page)\n",
    "    ymonth = parse(begin_date).strftime(\"%Y-%m/%d\")\n",
    "    url = \"http://www.news.cn/english/{}/c_{}.htm\".format(ymonth, page)\n",
    "\n",
    "    print(url)\n",
    "    try:\n",
    "        news_json = parse_page(url)\n",
    "        print(news_json)\n",
    "        # check date of scraped news\n",
    "\n",
    "    except:\n",
    "        try:\n",
    "            begin_date = (datetime.strptime(begin_date, \"%Y-%m-%d\") +  timedelta(days=1)).strftime(\"%Y-%m/%d\")\n",
    "            url = \"http://www.news.cn/english/{}/c_{}.htm\".format(begin_date, page)\n",
    "            print(url)\n",
    "            news_json = parse_page(url)\n",
    "            print(news_json)\n",
    "        except:\n",
    "            print(\"This url is not available\")"
   ]
  },
  {
   "cell_type": "code",
   "execution_count": 190,
   "metadata": {
    "ExecuteTime": {
     "end_time": "2021-08-29T21:11:36.642831Z",
     "start_time": "2021-08-29T21:11:35.821265Z"
    },
    "scrolled": true
   },
   "outputs": [
    {
     "name": "stdout",
     "output_type": "stream",
     "text": [
      "http://www.news.cn/english/2021-03/11/c_139800541.htm\n"
     ]
    },
    {
     "data": {
      "text/plain": [
       "{'date': '2021-03-11',\n",
       " 'title': 'Xinhua Photos of the Day (March 10) ',\n",
       " 'time': '2021-03-11',\n",
       " 'subtitle': '',\n",
       " 'content': 'BEIJING, March 10 (Xinhua) -- The world in the past 24hrs. A selection of the best daily press photos from Xinhua.  The closing meeting of the fourth session of the 13th National Committee of the Chinese People`s Political Consultative Conference (CPPCC) is held at the Great Hall of the People in Beijing, capital of China, March 10, 2021. Xi Jinping, Li Keqiang, Li Zhanshu, Wang Huning, Zhao Leji, Han Zheng and Wang Qishan attended the closing meeting. Wang Yang presided over the closing meeting and delivered a speech. (Xinhua/Huang Jingwen)  The closing meeting of the fourth session of the 13th National Committee of the Chinese People`s Political Consultative Conference (CPPCC) is held at the Great Hall of the People in Beijing, capital of China, March 10, 2021. (Xinhua/Li Xiang)  The closing meeting of the fourth session of the 13th National Committee of the Chinese People`s Political Consultative Conference (CPPCC) is held at the Great Hall of the People in Beijing, capital of China, March 10, 2021. (Xinhua/Yan Yan)  Hong Xiaochun (L) and his wife Huang Shuping are on the phone with their daughter at the Guilin state-owned forest farm in Shexian County, east China`s Anhui Province, March 9, 2021. In 1991, the couple volunteered to work at the remote forestry station and since then they have worked in harsh condition for 30 years. (Xinhua/Huang Bohan)  Employees pile harvested pineapples at Fengyuan Village in Longgun Township of Wanning City, south China`s Hainan Province, March 10, 2021. (Xinhua/Yang Guanyu)  Photo taken on March 9, 2021 shows migratory birds in the wetland along the Yellow River in Dalad Banner, north China`s Inner Mongolia Autonomous Region. Migratory birds flock to the wetland as the weather gets warmer. (Xinhua/Liu Lei)  Students take PE class at school in Dulongjiang Township of Gongshan Dulong and Nu Autonomous County, southwest China`s Yunnan Province, March 9, 2021. The school has more than 500 students, the vast majority of whom are Dulong ethnic group people. In this modern campus located deep in the canyon, children not only receive high-quality education, but also enjoy many extracurricular activities. (Xinhua/Chen Xinbo)  Driver He Yufei competes in the 2021 Changbai mountain ice and snow rally in Chibei District in northeast China`s Jilin Province, March 9, 2021. The competition will last for three days. (Xinhua/Yan Linyun)  Undated file photo provided by the University of Eastern Finland shows the nasal spray COVID-19 vaccine produced in a bioreactor being further processed in a sterile laminar flow cabinet. Finnish researchers say a nasal spray COVID-19 vaccine based on gene transfer technology can be adapted flexibly to tackle new variants of coronavirus. (University of Eastern Finland/Handout via Xinhua)  A shop assistant puts up signs of booking appointments for shopping in Berlin, Germany, on March 9, 2021. Stores in Berlin were allowed to reopen with hygienic requirements and restrictions on Tuesday. (Photo by Stefan Zeitz/Xinhua)  Protestors are seen outside the Hennepin County courthouse in Minneapolis, Minnesota, the United States, March 9, 2021. Jury selection in the trial of former Minneapolis police officer Derek Chauvin began on Tuesday over African American George Floyd`s death, which sparked nationwide protests and riots for racial justice last year. (Photo by Matthew Mcintosh/Xinhua)â\\x96   ',\n",
       " 'category': '',\n",
       " 'source': 'Xinhua',\n",
       " 'url': 'http://www.news.cn/english/2021-03/11/c_139800541.htm',\n",
       " 'scrap_time': '2021-08-29-34 21:11:36'}"
      ]
     },
     "execution_count": 190,
     "metadata": {},
     "output_type": "execute_result"
    }
   ],
   "source": [
    "yield_latest_article(\"2021-03-11\", max_num=10, sleep=0.1)"
   ]
  },
  {
   "cell_type": "code",
   "execution_count": 8,
   "metadata": {
    "ExecuteTime": {
     "end_time": "2021-08-29T22:30:19.232412Z",
     "start_time": "2021-08-29T22:30:18.930382Z"
    },
    "scrolled": true
   },
   "outputs": [
    {
     "ename": "NameError",
     "evalue": "name 'yield_latest_allnews' is not defined",
     "output_type": "error",
     "traceback": [
      "\u001b[1;31m---------------------------------------------------------------------------\u001b[0m",
      "\u001b[1;31mNameError\u001b[0m                                 Traceback (most recent call last)",
      "\u001b[1;32m<ipython-input-8-3f535e39d564>\u001b[0m in \u001b[0;36m<module>\u001b[1;34m\u001b[0m\n\u001b[1;32m----> 1\u001b[1;33m \u001b[0myield_latest_allnews\u001b[0m\u001b[1;33m(\u001b[0m\u001b[1;34m'the'\u001b[0m\u001b[1;33m,\u001b[0m \u001b[1;34m\"2021-08-01\"\u001b[0m\u001b[1;33m)\u001b[0m\u001b[1;33m\u001b[0m\u001b[1;33m\u001b[0m\u001b[0m\n\u001b[0m",
      "\u001b[1;31mNameError\u001b[0m: name 'yield_latest_allnews' is not defined"
     ]
    }
   ],
   "source": [
    "yield_latest_allnews('the', \"2021-08-01\")"
   ]
  },
  {
   "cell_type": "code",
   "execution_count": 66,
   "metadata": {
    "ExecuteTime": {
     "end_time": "2021-08-29T21:42:29.699528Z",
     "start_time": "2021-08-29T21:42:29.689544Z"
    }
   },
   "outputs": [],
   "source": [
    "d_begin = parse('2021-08-01')"
   ]
  },
  {
   "cell_type": "code",
   "execution_count": 69,
   "metadata": {
    "ExecuteTime": {
     "end_time": "2021-08-29T21:43:33.586407Z",
     "start_time": "2021-08-29T21:43:23.201618Z"
    }
   },
   "outputs": [
    {
     "name": "stdout",
     "output_type": "stream",
     "text": [
      "http://www.xinhuanet.com/english/asiapacific/2021-08/27/c_1310152878.htm\n",
      "{'date': '2021-08-27', 'title': 'China urges Japan not to mislead the next generation ', 'time': '2021-08-27', 'subtitle': '', 'content': 'BEIJING, Aug. 27 (Xinhua) -- China firmly opposes Japan unveiling a defense white paper for children, and has lodged solemn representations with Japan, urging Japan not to mislead the next generation, a foreign ministry spokesperson said on Friday. Japan`s defense ministry on Aug. 16 released a 30-page white paper for elementary and junior high school students on its website, which covers China`s military development, the Diaoyu Islands and the South China Sea issues. Chinese Foreign Ministry spokesperson Zhao Lijian told a press briefing that China already stated its solemn position on Japan`s 2021 defense white paper before, saying China firmly opposes Japan`s unreasonable accusations against China`s regular national defense construction, irresponsible remarks on China`s legitimate maritime activities, and hype about the so-called \"China threat.\" \"It is unconstructive for Japan to highlight external threats to minors and incite confrontation,\" Zhao said. He urged Japan to face up to and reflect on history, learn the lesson from history earnestly, and not mislead its own nationals, especially the next generation. Enditem ', 'source': 'Xinhua', 'url': 'http://www.xinhuanet.com/english/asiapacific/2021-08/27/c_1310152878.htm', 'scrap_time': '2021-08-29-34 21:43:23'}\n",
      "http://www.news.cn/english/2021-08/27/c_1310152878.htm\n",
      "{'date': '2021-08-27', 'title': 'China urges Japan not to mislead the next generation ', 'time': '2021-08-27', 'subtitle': '', 'content': 'BEIJING, Aug. 27 (Xinhua) -- China firmly opposes Japan unveiling a defense white paper for children, and has lodged solemn representations with Japan, urging Japan not to mislead the next generation, a foreign ministry spokesperson said on Friday. Japan`s defense ministry on Aug. 16 released a 30-page white paper for elementary and junior high school students on its website, which covers China`s military development, the Diaoyu Islands and the South China Sea issues. Chinese Foreign Ministry spokesperson Zhao Lijian told a press briefing that China already stated its solemn position on Japan`s 2021 defense white paper before, saying China firmly opposes Japan`s unreasonable accusations against China`s regular national defense construction, irresponsible remarks on China`s legitimate maritime activities, and hype about the so-called \"China threat.\" \"It is unconstructive for Japan to highlight external threats to minors and incite confrontation,\" Zhao said. He urged Japan to face up to and reflect on history, learn the lesson from history earnestly, and not mislead its own nationals, especially the next generation. Enditem ', 'source': 'Xinhua', 'url': 'http://www.news.cn/english/2021-08/27/c_1310152878.htm', 'scrap_time': '2021-08-29-34 21:43:24'}\n",
      "http://www.news.cn/english/2021-08/27/c_1310152664.htm\n",
      "{'date': '2021-08-27', 'title': 'German shares almost unchanged at the start of trading on Friday ', 'time': '2021-08-27', 'subtitle': '', 'content': 'BERLIN, Aug. 27 (Xinhua) -- German shares were almost unchanged at the start of trading on Friday, with the benchmark DAX index losing 14.72 points, or 0.09 percent, opening at 15,778.9 points. The biggest winner among Germany`s 30 largest listed companies was industrial gas producer Linde, increasing by 0.60 percent, followed by plastic specialist Covestro with 0.47 percent and housing company Vonovia at 0.38 percent. Shares of Delivery Hero fell by 1.05 percent. The German online food delivery company was the biggest loser at the start of trading on Friday. Import prices in Germany in July grew by 2.2 percent on the previous month and were even up 15.0 percent year-on-year, the highest year-on-year change in almost forty years, Germany`s Federal Statistical Office (Destatis) announced on Friday. Export prices in July increased by 6.3 percent year on year. Turnover in Germany`s non-financial business economy in July grew by 0.8 percent on the previous month and was up 12.7 percent compared to February 2020, the month before restrictions were imposed because of the coronavirus pandemic, Destatis said. The yield on German ten-year bonds grew 0.0005 percentage points to minus 0.4155 percent and the euro was trading almost unchanged at 1.1757 U.S. dollars, increasing by 0.01 percent on Friday morning. Enditem ', 'source': 'Xinhua', 'url': 'http://www.news.cn/english/2021-08/27/c_1310152664.htm', 'scrap_time': '2021-08-29-34 21:43:25'}\n",
      "http://www.news.cn/english/2021-08/27/c_1310152612.htm\n",
      "{'date': '2021-08-27', 'title': 'China opposes politicizing the origins of COVID-19: New York Consulate General ', 'time': '2021-08-27', 'subtitle': '', 'content': ' A pedestrian wearing a face mask passes in front of Pfizer`s World Headquarters in New York, United States, on Aug. 23, 2021. (Photo by Michael Nagle/Xinhua) \"Some U.S. politicians and media never stop their stigmatizing and politicizing campaign\" but origins tracing is a serious scientific matter, the consulate`s spokesperson said in a Boston Herald editorial Thursday. NEW YORK, Aug. 27 (Xinhua) -- China opposes politicizing efforts to uncover the origins of the coronavirus, the Chinese Consulate General in New York has said. \"Some U.S. politicians and media never stop their stigmatizing and politicizing campaign\" but origins tracing is a serious scientific matter, the consulate`s spokesperson said in a Boston Herald editorial Thursday. The U.S. intelligence community isn\\'t qualified to reach any scientific conclusion tracing the origins of the virus, and its report on the issue will only \"interfere in and undermine the global efforts of origins tracing and cooperation on pandemic response,\" added the spokesperson.  A pedestrian passes a mobile vaccine clinic in the Brooklyn borough of New York, United States, on Aug. 23, 2021. (Photo by Michael Nagle/Xinhua) The joint report on origins tracing done by the World Health Organization and Chinese scientists in early 2021 is authoritative and \"can stand the test of science and history,\" said the spokesperson, adding that \"it must be respected and implemented. Future global origins study should and can only be carried out on this basis,\" the spokesperson said, expressing China`s position to support and willingness to continue to take part in science-based efforts to uncover the origins of the virus. As the pandemic continues to rage, priority remains to enhance solidarity and cooperation, and the Chinese Consulate General in New York will keep promoting anti-pandemic cooperation between China and its consular district, the spokesperson said. Responding to increasing xenophobia against Asians in the United States during the pandemic, the spokesperson said that Asian Americans\\' concerns should not be ignored. Discrimination, bullying, even hatred and attacks against racial minorities have been intensified by the spread of stigmatizing remarks by U.S. politicians to \"blindly blame China and shirk its own responsibilities,\" said the spokesperson.  â\\x96  ', 'source': 'Xinhua', 'url': 'http://www.news.cn/english/2021-08/27/c_1310152612.htm', 'scrap_time': '2021-08-29-34 21:43:27'}\n",
      "http://www.news.cn/english/2021-08/27/c_1310152594.htm\n",
      "{'date': '2021-08-27', 'title': 'China opposes politicizing the origins of COVID-19: New York Consulate General ', 'time': '2021-08-27', 'subtitle': '', 'content': 'NEW YORK, Aug. 26 (Xinhua) -- China opposes politicizing efforts to uncover the origins of the coronavirus, the Chinese Consulate General in New York has said. \"Some U.S. politicians and media never stop their stigmatizing and politicizing campaign\" but origins tracing is a serious scientific matter, the consulate`s spokesperson said in a Boston Herald editorial Thursday. The U.S. intelligence community isn\\'t qualified to reach any scientific conclusion tracing the origins of the virus, and its report on the issue will only \"interfere in and undermine the global efforts of origins tracing and cooperation on pandemic response,\" added the spokesperson. The joint report on origins tracing done by the World Health Organization and Chinese scientists in early 2021 is authoritative and \"can stand the test of science and history,\" said the spokesperson, adding that \"it must be respected and implemented. Future global origins study should and can only be carried out on this basis,\" the spokesperson said, expressing China`s position to support and willingness to continue to take part in science-based efforts to uncover the origins of the virus. As the pandemic continues to rage, priority remains to enhance solidarity and cooperation, and the Chinese Consulate General in New York will keep promoting anti-pandemic cooperation between China and its consular district, the spokesperson said. Responding to increasing xenophobia against Asians in the United States during the pandemic, the spokesperson said that Asian Americans\\' concerns should not be ignored. Discrimination, bullying, even hatred and attacks against racial minorities have been intensified by the spread of stigmatizing remarks by U.S. politicians to \"blindly blame China and shirk its own responsibilities,\" said the spokesperson. Enditem ', 'source': 'Xinhua', 'url': 'http://www.news.cn/english/2021-08/27/c_1310152594.htm', 'scrap_time': '2021-08-29-34 21:43:28'}\n"
     ]
    },
    {
     "name": "stdout",
     "output_type": "stream",
     "text": [
      "http://www.news.cn/english/northamerica/2021-08/27/c_1310152594.htm\n",
      "{'date': '2021-08-27', 'title': 'China opposes politicizing the origins of COVID-19: New York Consulate General ', 'time': '2021-08-27', 'subtitle': '', 'content': 'NEW YORK, Aug. 26 (Xinhua) -- China opposes politicizing efforts to uncover the origins of the coronavirus, the Chinese Consulate General in New York has said. \"Some U.S. politicians and media never stop their stigmatizing and politicizing campaign\" but origins tracing is a serious scientific matter, the consulate`s spokesperson said in a Boston Herald editorial Thursday. The U.S. intelligence community isn\\'t qualified to reach any scientific conclusion tracing the origins of the virus, and its report on the issue will only \"interfere in and undermine the global efforts of origins tracing and cooperation on pandemic response,\" added the spokesperson. The joint report on origins tracing done by the World Health Organization and Chinese scientists in early 2021 is authoritative and \"can stand the test of science and history,\" said the spokesperson, adding that \"it must be respected and implemented. Future global origins study should and can only be carried out on this basis,\" the spokesperson said, expressing China`s position to support and willingness to continue to take part in science-based efforts to uncover the origins of the virus. As the pandemic continues to rage, priority remains to enhance solidarity and cooperation, and the Chinese Consulate General in New York will keep promoting anti-pandemic cooperation between China and its consular district, the spokesperson said. Responding to increasing xenophobia against Asians in the United States during the pandemic, the spokesperson said that Asian Americans\\' concerns should not be ignored. Discrimination, bullying, even hatred and attacks against racial minorities have been intensified by the spread of stigmatizing remarks by U.S. politicians to \"blindly blame China and shirk its own responsibilities,\" said the spokesperson. Enditem ', 'source': 'Xinhua', 'url': 'http://www.news.cn/english/northamerica/2021-08/27/c_1310152594.htm', 'scrap_time': '2021-08-29-34 21:43:29'}\n",
      "http://www.news.cn/english/2021-08/27/c_1310151918.htm\n",
      "{'date': '2021-08-27', 'title': '\"Long COVID\" patients in U.S. wait months for diagnosis, treatment: The Guardian ', 'time': '2021-08-27', 'subtitle': '', 'content': ' Passengers with face masks are seen in a bus in New York City, the United States, Aug. 2, 2021. (Xinhua/Wang Ying) Post-acute sequelae of COVID-19, or long COVID, affects about 10 percent to 30 percent of people infected with the virus. Without a positive test, patients can face medical providers who disregard the possible connection between the symptoms and the virus. LONDON, Aug. 27 (Xinhua) -- Some patients in the United States with a range of debilitating symptoms of COVID-19 but no positive diagnosis have had to wait for months before receiving proper treatments, The Guardian reported Wednesday. Post-acute sequelae of COVID-19, or long COVID, affects about 10 percent to 30 percent of people infected with the virus, said the report, noting that the medical condition can last more than a year and can come with more than 200 possible symptoms, including extreme fatigue, brain fog and shortness of breath, and affect 10 organ systems. For these \"long COVID\" patients, it is probably too late to pick up the initial infection, as antibodies to the coronavirus, which can disappear within a matter of months, may be gone by then, it said. Without a positive test, patients can face medical providers who disregard the possible connection between the symptoms and the virus, said the report, which included distressing recounts from patients who were told the symptoms were \"all in your head.\" Consequently, these patients found themselves were living in a \"medical limbo,\" facing barriers to accessing treatment at long COVID clinics and challenges when it comes to insurance authorizations and disability benefits. Some of these patients spent tens of thousands of dollars on medical expenses because the delayed COVID-19 diagnosis forced them to look for specialists not covered by insurance, the report said.  â\\x96  ', 'source': 'Xinhua', 'url': 'http://www.news.cn/english/2021-08/27/c_1310151918.htm', 'scrap_time': '2021-08-29-34 21:43:30'}\n",
      "http://www.news.cn/english/2021-08/27/c_1310151895.htm\n",
      "{'date': '2021-08-27', 'title': \"Chelsea midfielder Jorginho named UEFA Men's Player of the Year \", 'time': '2021-08-27', 'subtitle': '', 'content': \" Chelsea`s Jorginho (L) celebrates with teammate Timo Werner after scoring the second goal during the Premier League match between Chelsea and Everton at Stamford Bridge in London, Britain, on March 8, 2021. (Xinhua) Chelsea midfielder Jorginho voted UEFA Men`s Player of the Year on Wednesday. LONDON, Aug. 26 (Xinhua) -- Chelsea midfielder Jorginho has been named UEFA Men`s Player of the Year as the Italian won two major trophies in the 2020-21 season. The announcement was made on Wednesday at the UEFA Champions League group stage draw held in Istanbul, Turkey. Jorginho, 29, won the UEFA Champions League with Chelsea before he played an important role in Italy`s winning journey at the Euro 2020 this summer.  Chelsea`s Jorginho celebrates after scoring the second goal during the Premier League match between Chelsea and Everton at Stamford Bridge in London, Britain, on March 8, 2021. (Xinhua) The Italian collected 175 points from the jury composed of coaches and journalists from Europe, beating Belgium midfielder Kevin De Bruyne of Manchester City (167 points) and Chelsea`s French international N'Golo Kante (160 points) to win the award. Thomas Tuchel, Jorginho`s manager in Chelsea was rewarded as UEFA Men`s Coach of the Year. The 47-year-old German led the Blues to defeat Premier League champions Manchester City in the Champions League final. Spanish midfielder Alexia Putellas from Barcelona women`s team was named UEFA Women`s Player of the Year and her club coach Lluis Cortes was voted UEFA Women`s Coach of the Year.â\\x96  \", 'source': 'Xinhua', 'url': 'http://www.news.cn/english/2021-08/27/c_1310151895.htm', 'scrap_time': '2021-08-29-34 21:43:31'}\n",
      "http://www.news.cn/english/europe/2021-08/27/c_1310151763.htm\n",
      "{'date': '2021-08-27', 'title': '\"Long COVID\" patients in U.S. wait months for diagnosis, treatment: The Guardian ', 'time': '2021-08-27', 'subtitle': '', 'content': 'LONDON, Aug. 27 (Xinhua) -- Some patients in the United States with a range of debilitating symptoms of COVID-19 but no positive diagnosis have had to wait for months before receiving proper treatments, The Guardian reported Wednesday. Post-acute sequelae of COVID-19, or long COVID, affects about 10 percent to 30 percent of people infected with the virus, said the report, noting that the medical condition can last more than a year and can come with more than 200 possible symptoms, including extreme fatigue, brain fog and shortness of breath, and affect 10 organ systems. For these \"long COVID\" patients, it is probably too late to pick up the initial infection, as antibodies to the coronavirus, which can disappear within a matter of months, may be gone by then, it said. Without a positive test, patients can face medical providers who disregard the possible connection between the symptoms and the virus, said the report, which included distressing recounts from patients who were told the symptoms were \"all in your head.\" Consequently, these patients found themselves were living in a \"medical limbo,\" facing barriers to accessing treatment at long COVID clinics and challenges when it comes to insurance authorizations and disability benefits. Some of these patients spent tens of thousands of dollars on medical expenses because the delayed COVID-19 diagnosis forced them to look for specialists not covered by insurance, the report said. Enditem ', 'source': 'Xinhua', 'url': 'http://www.news.cn/english/europe/2021-08/27/c_1310151763.htm', 'scrap_time': '2021-08-29-34 21:43:32'}\n"
     ]
    },
    {
     "ename": "KeyboardInterrupt",
     "evalue": "",
     "output_type": "error",
     "traceback": [
      "\u001b[1;31m---------------------------------------------------------------------------\u001b[0m",
      "\u001b[1;31mKeyboardInterrupt\u001b[0m                         Traceback (most recent call last)",
      "\u001b[1;32m<ipython-input-69-c00478ac576f>\u001b[0m in \u001b[0;36m<module>\u001b[1;34m\u001b[0m\n\u001b[0;32m      3\u001b[0m             \u001b[0mnews_json\u001b[0m \u001b[1;33m=\u001b[0m \u001b[0mparse_page\u001b[0m\u001b[1;33m(\u001b[0m\u001b[0murl\u001b[0m\u001b[1;33m)\u001b[0m\u001b[1;33m\u001b[0m\u001b[1;33m\u001b[0m\u001b[0m\n\u001b[0;32m      4\u001b[0m             \u001b[0mprint\u001b[0m\u001b[1;33m(\u001b[0m\u001b[0mnews_json\u001b[0m\u001b[1;33m)\u001b[0m\u001b[1;33m\u001b[0m\u001b[1;33m\u001b[0m\u001b[0m\n\u001b[1;32m----> 5\u001b[1;33m             \u001b[0mtime\u001b[0m\u001b[1;33m.\u001b[0m\u001b[0msleep\u001b[0m\u001b[1;33m(\u001b[0m\u001b[1;36m1\u001b[0m\u001b[1;33m)\u001b[0m\u001b[1;33m\u001b[0m\u001b[1;33m\u001b[0m\u001b[0m\n\u001b[0m\u001b[0;32m      6\u001b[0m             \u001b[0md_news\u001b[0m \u001b[1;33m=\u001b[0m \u001b[0mparse\u001b[0m\u001b[1;33m(\u001b[0m\u001b[0mnews_json\u001b[0m\u001b[1;33m[\u001b[0m\u001b[1;34m'date'\u001b[0m\u001b[1;33m]\u001b[0m\u001b[1;33m)\u001b[0m\u001b[1;33m\u001b[0m\u001b[1;33m\u001b[0m\u001b[0m\n\u001b[0;32m      7\u001b[0m             \u001b[1;32mif\u001b[0m \u001b[0md_begin\u001b[0m \u001b[1;33m>\u001b[0m \u001b[0md_news\u001b[0m\u001b[1;33m:\u001b[0m\u001b[1;33m\u001b[0m\u001b[1;33m\u001b[0m\u001b[0m\n",
      "\u001b[1;31mKeyboardInterrupt\u001b[0m: "
     ]
    }
   ],
   "source": [
    "for url in real_url:\n",
    "            print(url)\n",
    "            news_json = parse_page(url)\n",
    "            print(news_json)\n",
    "            time.sleep(1)\n",
    "            d_news = parse(news_json['date'])\n",
    "            if d_begin > d_news:\n",
    "                outdate = True\n",
    "                print('Stop scrapping. {} news was scrapped'.format(n_news))\n",
    "                print('The oldest news has been created after {}'.format(begin_date))\n",
    "                break"
   ]
  },
  {
   "cell_type": "code",
   "execution_count": 9,
   "metadata": {
    "ExecuteTime": {
     "end_time": "2021-08-29T22:30:23.528618Z",
     "start_time": "2021-08-29T22:30:23.512611Z"
    }
   },
   "outputs": [],
   "source": [
    "import os"
   ]
  },
  {
   "cell_type": "code",
   "execution_count": 10,
   "metadata": {
    "ExecuteTime": {
     "end_time": "2021-08-29T22:30:23.845688Z",
     "start_time": "2021-08-29T22:30:23.835684Z"
    }
   },
   "outputs": [],
   "source": [
    "\n",
    "def save(json_obj, directory):\n",
    "    date = json_obj.get('date', '')\n",
    "    title = json_obj.get('title', '')\n",
    "    filepath = '{}/{}_{}.json'.format(directory, date, re.sub('[^a-zA-Z ]+',\"\", title[:50]))\n",
    "    if not os.path.exists(filepath):\n",
    "        with open(filepath, 'w', encoding='utf-8') as fp:\n",
    "            json.dump(json_obj, fp, indent=2, ensure_ascii=False)\n",
    "            print('scraped {}'.format(json_obj['title'][:10]))\n",
    "    else:\n",
    "        print('this {}'.format(json_obj['title'])+ 'is already scraped')"
   ]
  },
  {
   "cell_type": "code",
   "execution_count": 11,
   "metadata": {
    "ExecuteTime": {
     "end_time": "2021-08-29T22:30:25.136521Z",
     "start_time": "2021-08-29T22:30:25.122398Z"
    }
   },
   "outputs": [],
   "source": [
    " directory = 'C:/Users/13a71/Documents/crawling output/xinhua'"
   ]
  },
  {
   "cell_type": "code",
   "execution_count": 14,
   "metadata": {
    "ExecuteTime": {
     "end_time": "2021-08-29T22:30:28.397385Z",
     "start_time": "2021-08-29T22:30:28.386219Z"
    }
   },
   "outputs": [
    {
     "name": "stdout",
     "output_type": "stream",
     "text": [
      "this The \"incredible\" U.S. intelligence: targeted killings is already scraped\n"
     ]
    }
   ],
   "source": [
    "save(json_obj, directory)"
   ]
  },
  {
   "cell_type": "code",
   "execution_count": 13,
   "metadata": {
    "ExecuteTime": {
     "end_time": "2021-08-29T22:30:27.290498Z",
     "start_time": "2021-08-29T22:30:26.739607Z"
    }
   },
   "outputs": [],
   "source": [
    "json_obj = parse_page('http://www.news.cn/english/2021-08/28/c_1310154451.htm')"
   ]
  },
  {
   "cell_type": "code",
   "execution_count": 23,
   "metadata": {
    "ExecuteTime": {
     "end_time": "2021-08-29T22:34:05.849112Z",
     "start_time": "2021-08-29T22:33:59.824487Z"
    },
    "scrolled": true
   },
   "outputs": [
    {
     "name": "stdout",
     "output_type": "stream",
     "text": [
      "['http://www.news.cn/english/2021-08/29/c_1310155794.htm', 'http://www.news.cn/english/2021-08/29/c_1310155546.htm', 'http://www.news.cn/english/2021-08/29/c_1310155498.htm', 'http://www.news.cn/english/2021-08/29/c_1310155497.htm', 'http://www.news.cn/english/2021-08/29/c_1310155497.htm', 'http://www.news.cn/english/2021-08/29/c_1310155358.htm', 'http://www.news.cn/english/2021-08/29/c_1310155150.htm', 'http://www.news.cn/english/2021-08/29/c_1310154979.htm', 'http://www.news.cn/english/2021-08/29/c_1310154673.htm', 'http://www.news.cn/english/2021-08/28/c_1310154454.htm']\n",
      "{'date': '2021-08-29', 'title': 'GLOBALink | Canadian painter:\"The Dream of Red Chamber\" is my favorite ', 'time': '2021-08-29', 'subtitle': '', 'content': '  NANCHANG, Aug. 29 (Xinhua) -- Brandon Collins-Green, a canadian painter, came to China to study ancient Chinese literature as he is interested in the famous Chinese novel \"The Dream of the Red Chamber\". Check out his story. #GLOBALink  Produced by Xinhua Global Service ', 'source': 'Xinhua', 'url': 'http://www.news.cn/english/2021-08/29/c_1310155794.htm', 'scrap_time': '2021-08-29-34 22:34:00'}\n",
      "{'date': '2021-08-29', 'title': 'Chinese COVID-19 vaccine V-01 enters phase-III clinical trial in the Philippines ', 'time': '2021-08-29', 'subtitle': '', 'content': 'GUANGZHOU, Aug. 29 (Xinhua) -- A recombinant COVID-19 fusion protein vaccine (V-01) developed and manufactured in China has been approved for phase-III clinical trials in the Philippines. The vaccine V-01 was developed by the Institute of Biophysics under the Chinese Academy of Sciences and Livzon Pharmaceutical Group Inc. (LivzonBio) in south China`s Guangdong Province. V-01 is a fusion recombinant protein vaccine with the receptor-binding domain (RBD) as the antigen, which is the most important part of the virus spike protein binding with human cellular ACE2 receptors. The binding process grants the virus access to the host`s cells and leads to infection. The Food and Drug Administration of the Philippines had granted approval for the phase-III clinical trial of the V-01 vaccine to evaluate its safety and efficacy. The trial has started recruiting participants in adults aged 18 and older in the country. The first participant was enrolled on Aug. 25 and inoculated with the first dose. Hu Zhenxiang, vice president of LivzonBio, told Xinhua that the phase-I and phase-II trials of V-01 vaccine had produced satisfactory results. Enditem ', 'source': 'Xinhua', 'url': 'http://www.news.cn/english/2021-08/29/c_1310155546.htm', 'scrap_time': '2021-08-29-34 22:34:01'}\n",
      "{'date': '2021-08-29', 'title': 'GLOBALink| Canadian painter meets China in \"The Dream of Red Chamber\" ', 'time': '2021-08-29', 'subtitle': '', 'content': '  HARBIN, Aug. 29 (Xinhua) -- Brandon Collins-Green, a canadian painter, came to China to study ancient Chinese literature as he is interested in the famous Chinese novel \"The Dream of the Red Chamber\". Check out his story. #GLOBALink Produced by Xinhua Global Service ', 'source': 'Xinhua', 'url': 'http://www.news.cn/english/2021-08/29/c_1310155498.htm', 'scrap_time': '2021-08-29-34 22:34:02'}\n",
      "{'date': '2021-08-29', 'title': 'GLOBALink| Canadian painter meets China in \"The Dream of Red Chamber\" ', 'time': '2021-08-29', 'subtitle': '', 'content': ' Brandon Collins-Green, a canadian painter, came to China to study ancient Chinese literature as he is interested in the famous Chinese novel \"The Dream of the Red Chamber\". Check out his story. #GLOBALink Produced by Xinhua Global Service ', 'source': 'Xinhua', 'url': 'http://www.news.cn/english/2021-08/29/c_1310155497.htm', 'scrap_time': '2021-08-29-34 22:34:02'}\n",
      "{'date': '2021-08-29', 'title': 'GLOBALink| Canadian painter meets China in \"The Dream of Red Chamber\" ', 'time': '2021-08-29', 'subtitle': '', 'content': ' Brandon Collins-Green, a canadian painter, came to China to study ancient Chinese literature as he is interested in the famous Chinese novel \"The Dream of the Red Chamber\". Check out his story. #GLOBALink Produced by Xinhua Global Service ', 'source': 'Xinhua', 'url': 'http://www.news.cn/english/2021-08/29/c_1310155497.htm', 'scrap_time': '2021-08-29-34 22:34:02'}\n",
      "{'date': '2021-08-29', 'title': \"The perfect example of 'Nothing is Impossible' \", 'time': '2021-08-29', 'subtitle': '', 'content': \"    Egyptian table tennis player Ibrahim Hamadtou, the perfect example of 'Nothing is Impossible'    Produced by Xinhua Global Service \", 'source': 'Xinhua', 'url': 'http://www.news.cn/english/2021-08/29/c_1310155358.htm', 'scrap_time': '2021-08-29-34 22:34:03'}\n",
      "{'date': '2021-08-29', 'title': 'Chinese midfielder Zhang vows to seize \"the best opportunity for our generation\" ', 'time': '2021-08-29', 'subtitle': '', 'content': ' Zhang Xizhe celebrates scoring for China during their World Cup qualifying game against Syria in Sharjah, the UAE, June 15, 2021. (Xinhua) Chinese midfielder Zhang Xizhe braces for tougher World Cup qualifying campaign. DOHA, Aug. 28 (Xinhua) -- Chinese international midfielder Zhang Xizhe said Saturday that the upcoming final round of the FIFA World Cup Asian Zone qualifiers is \"the best opportunity for our generation\". \"It`s the best opportunity for our generation to qualify for the World Cup. All of us will go all out in every game,\" the 30-year-old told reporters following a training session in Doha. \"About half of the Chinese team had the experience of playing in the final round of the 2018 World Cup qualifiers, so we understand how things are going and we are more confident,\" he noted. China has been drawn against Japan, Australia, Saudi Arabia, Vietnam and Oman in the final round of Asian qualifying tournament. The top two teams will qualify directly, with the third-place finisher entering play-offs. \"The final round will be harder than the previous rounds as the opponents are stronger, so we need to improve our pace and tempo through daily training,\" said Zhang. China will kick off its final round campaign next Thursday against Australia, who announced a 27-man roster on Saturday, with 26 being overseas-based players including Chinese Super League side Shanghai Port`s Aaron Mooy. \"Many Australian players play in major European Leagues and they play quick football. We are familiar with Mooy. I\\'m sure he will also share his thoughts about our team with his teammates,\" said the Beijing Guoan star. The Chinese team arrived in Doha on Thursday. Zhang said they have overcome the jet lag and is adapting to the hot and humid weather. The former Wolfsburg player also praised the high quality training pitch in Qatar University, which is built for next year`s World Cup finals. \"It`s very flat and the ball moves fast. It`s very helpful for us to improve our training,\" he said. (by Xiao Shiyao)  ', 'source': 'Xinhua', 'url': 'http://www.news.cn/english/2021-08/29/c_1310155150.htm', 'scrap_time': '2021-08-29-34 22:34:04'}\n",
      "{'date': '2021-08-29', 'title': 'Chinese midfielder Zhang vows to seize \"the best opportunity for our generation\" ', 'time': '2021-08-29', 'subtitle': '', 'content': 'DOHA, Aug. 28 (Xinhua) -- Chinese international midfielder Zhang Xizhe said Saturday that the upcoming final round of the FIFA World Cup Asian Zone qualifiers is \"the best opportunity for our generation\". \"It`s the best opportunity for our generation to qualify for the World Cup. All of us will go all out in every game,\" the 30-year-old told reporters following a training session in Doha. \"About half of the Chinese team had the experience of playing in the final round of the 2018 World Cup qualifiers, so we understand how things are going and we are more confident,\" he noted. China has been drawn against Japan, Australia, Saudi Arabia, Vietnam and Oman in the final round of Asian qualifying tournament. The top two teams will qualify directly, with the third-place finisher entering play-offs. \"The final round will be harder than the previous rounds as the opponents are stronger, so we need to improve our pace and tempo through daily training,\" said Zhang. China will kick off its final round campaign next Thursday against Australia, who announced a 27-man roster on Saturday, with 26 being overseas-based players including Chinese Super League side Shanghai Port`s Aaron Mooy. \"Many Australian players play in major European Leagues and they play quick football. We are familiar with Mooy. I\\'m sure he will also share his thoughts about our team with his teammates,\" said the Beijing Guoan star. The Chinese team arrived in Doha on Thursday. Zhang said they have overcome the jet lag and is adapting to the hot and humid weather. The former Wolfsburg player also praised the high quality training pitch in Qatar University, which is built for next year`s World Cup finals. \"It`s very flat and the ball moves fast. It`s very helpful for us to improve our training,\" he said. Enditem ', 'source': 'Xinhua', 'url': 'http://www.news.cn/english/2021-08/29/c_1310154979.htm', 'scrap_time': '2021-08-29-34 22:34:04'}\n"
     ]
    },
    {
     "name": "stdout",
     "output_type": "stream",
     "text": [
      "{'date': '2021-08-29', 'title': 'Firing the Chengni inkstone ', 'time': '2021-08-29', 'subtitle': '', 'content': ' As one of the \"four treasures in the study\" in ancient China, inkstone is so much more than just a container for ink. In this final episode of four, English teacher Mark Dinning from the UK tries his hand at making Chengni inkstone, the only kind made from mudâ\\x96  ', 'source': 'Xinhua', 'url': 'http://www.news.cn/english/2021-08/29/c_1310154673.htm', 'scrap_time': '2021-08-29-34 22:34:05'}\n",
      "{'date': '2021-08-28', 'title': 'The \"incredible\" U.S. intelligence: torture and coverup ', 'time': '2021-08-28', 'subtitle': '', 'content': 'CIA tortures and lies...  ', 'source': 'Xinhua', 'url': 'http://www.news.cn/english/2021-08/28/c_1310154454.htm', 'scrap_time': '2021-08-29-34 22:34:05'}\n"
     ]
    }
   ],
   "source": [
    "yield_latest_allnews(\"the\", '2021-08-01', 2, 1.0)"
   ]
  },
  {
   "cell_type": "code",
   "execution_count": 34,
   "metadata": {
    "ExecuteTime": {
     "end_time": "2021-08-29T22:35:50.272538Z",
     "start_time": "2021-08-29T22:35:50.263522Z"
    }
   },
   "outputs": [],
   "source": [
    "article "
   ]
  },
  {
   "cell_type": "code",
   "execution_count": 33,
   "metadata": {
    "ExecuteTime": {
     "end_time": "2021-08-29T22:35:49.971511Z",
     "start_time": "2021-08-29T22:35:49.128523Z"
    },
    "scrolled": true
   },
   "outputs": [
    {
     "name": "stdout",
     "output_type": "stream",
     "text": [
      "['http://www.news.cn/english/2021-08/29/c_1310155794.htm', 'http://www.news.cn/english/2021-08/29/c_1310155546.htm', 'http://www.news.cn/english/2021-08/29/c_1310155498.htm', 'http://www.news.cn/english/2021-08/29/c_1310155497.htm', 'http://www.news.cn/english/2021-08/29/c_1310155497.htm', 'http://www.news.cn/english/2021-08/29/c_1310155358.htm', 'http://www.news.cn/english/2021-08/29/c_1310155150.htm', 'http://www.news.cn/english/2021-08/29/c_1310154979.htm', 'http://www.news.cn/english/2021-08/29/c_1310154673.htm', 'http://www.news.cn/english/2021-08/28/c_1310154454.htm']\n",
      "{'date': '2021-08-29', 'title': 'GLOBALink | Canadian painter:\"The Dream of Red Chamber\" is my favorite ', 'time': '2021-08-29', 'subtitle': '', 'content': '  NANCHANG, Aug. 29 (Xinhua) -- Brandon Collins-Green, a canadian painter, came to China to study ancient Chinese literature as he is interested in the famous Chinese novel \"The Dream of the Red Chamber\". Check out his story. #GLOBALink  Produced by Xinhua Global Service ', 'source': 'Xinhua', 'url': 'http://www.news.cn/english/2021-08/29/c_1310155794.htm', 'scrap_time': '2021-08-29-34 22:35:49'}\n",
      "{'date': '2021-08-29', 'title': 'Chinese COVID-19 vaccine V-01 enters phase-III clinical trial in the Philippines ', 'time': '2021-08-29', 'subtitle': '', 'content': 'GUANGZHOU, Aug. 29 (Xinhua) -- A recombinant COVID-19 fusion protein vaccine (V-01) developed and manufactured in China has been approved for phase-III clinical trials in the Philippines. The vaccine V-01 was developed by the Institute of Biophysics under the Chinese Academy of Sciences and Livzon Pharmaceutical Group Inc. (LivzonBio) in south China`s Guangdong Province. V-01 is a fusion recombinant protein vaccine with the receptor-binding domain (RBD) as the antigen, which is the most important part of the virus spike protein binding with human cellular ACE2 receptors. The binding process grants the virus access to the host`s cells and leads to infection. The Food and Drug Administration of the Philippines had granted approval for the phase-III clinical trial of the V-01 vaccine to evaluate its safety and efficacy. The trial has started recruiting participants in adults aged 18 and older in the country. The first participant was enrolled on Aug. 25 and inoculated with the first dose. Hu Zhenxiang, vice president of LivzonBio, told Xinhua that the phase-I and phase-II trials of V-01 vaccine had produced satisfactory results. Enditem ', 'source': 'Xinhua', 'url': 'http://www.news.cn/english/2021-08/29/c_1310155546.htm', 'scrap_time': '2021-08-29-34 22:35:49'}\n",
      "{'date': '2021-08-29', 'title': 'GLOBALink| Canadian painter meets China in \"The Dream of Red Chamber\" ', 'time': '2021-08-29', 'subtitle': '', 'content': '  HARBIN, Aug. 29 (Xinhua) -- Brandon Collins-Green, a canadian painter, came to China to study ancient Chinese literature as he is interested in the famous Chinese novel \"The Dream of the Red Chamber\". Check out his story. #GLOBALink Produced by Xinhua Global Service ', 'source': 'Xinhua', 'url': 'http://www.news.cn/english/2021-08/29/c_1310155498.htm', 'scrap_time': '2021-08-29-34 22:35:49'}\n",
      "{'date': '2021-08-29', 'title': 'GLOBALink| Canadian painter meets China in \"The Dream of Red Chamber\" ', 'time': '2021-08-29', 'subtitle': '', 'content': ' Brandon Collins-Green, a canadian painter, came to China to study ancient Chinese literature as he is interested in the famous Chinese novel \"The Dream of the Red Chamber\". Check out his story. #GLOBALink Produced by Xinhua Global Service ', 'source': 'Xinhua', 'url': 'http://www.news.cn/english/2021-08/29/c_1310155497.htm', 'scrap_time': '2021-08-29-34 22:35:49'}\n",
      "{'date': '2021-08-29', 'title': 'GLOBALink| Canadian painter meets China in \"The Dream of Red Chamber\" ', 'time': '2021-08-29', 'subtitle': '', 'content': ' Brandon Collins-Green, a canadian painter, came to China to study ancient Chinese literature as he is interested in the famous Chinese novel \"The Dream of the Red Chamber\". Check out his story. #GLOBALink Produced by Xinhua Global Service ', 'source': 'Xinhua', 'url': 'http://www.news.cn/english/2021-08/29/c_1310155497.htm', 'scrap_time': '2021-08-29-34 22:35:49'}\n",
      "{'date': '2021-08-29', 'title': \"The perfect example of 'Nothing is Impossible' \", 'time': '2021-08-29', 'subtitle': '', 'content': \"    Egyptian table tennis player Ibrahim Hamadtou, the perfect example of 'Nothing is Impossible'    Produced by Xinhua Global Service \", 'source': 'Xinhua', 'url': 'http://www.news.cn/english/2021-08/29/c_1310155358.htm', 'scrap_time': '2021-08-29-34 22:35:49'}\n",
      "{'date': '2021-08-29', 'title': 'Chinese midfielder Zhang vows to seize \"the best opportunity for our generation\" ', 'time': '2021-08-29', 'subtitle': '', 'content': ' Zhang Xizhe celebrates scoring for China during their World Cup qualifying game against Syria in Sharjah, the UAE, June 15, 2021. (Xinhua) Chinese midfielder Zhang Xizhe braces for tougher World Cup qualifying campaign. DOHA, Aug. 28 (Xinhua) -- Chinese international midfielder Zhang Xizhe said Saturday that the upcoming final round of the FIFA World Cup Asian Zone qualifiers is \"the best opportunity for our generation\". \"It`s the best opportunity for our generation to qualify for the World Cup. All of us will go all out in every game,\" the 30-year-old told reporters following a training session in Doha. \"About half of the Chinese team had the experience of playing in the final round of the 2018 World Cup qualifiers, so we understand how things are going and we are more confident,\" he noted. China has been drawn against Japan, Australia, Saudi Arabia, Vietnam and Oman in the final round of Asian qualifying tournament. The top two teams will qualify directly, with the third-place finisher entering play-offs. \"The final round will be harder than the previous rounds as the opponents are stronger, so we need to improve our pace and tempo through daily training,\" said Zhang. China will kick off its final round campaign next Thursday against Australia, who announced a 27-man roster on Saturday, with 26 being overseas-based players including Chinese Super League side Shanghai Port`s Aaron Mooy. \"Many Australian players play in major European Leagues and they play quick football. We are familiar with Mooy. I\\'m sure he will also share his thoughts about our team with his teammates,\" said the Beijing Guoan star. The Chinese team arrived in Doha on Thursday. Zhang said they have overcome the jet lag and is adapting to the hot and humid weather. The former Wolfsburg player also praised the high quality training pitch in Qatar University, which is built for next year`s World Cup finals. \"It`s very flat and the ball moves fast. It`s very helpful for us to improve our training,\" he said. (by Xiao Shiyao)  ', 'source': 'Xinhua', 'url': 'http://www.news.cn/english/2021-08/29/c_1310155150.htm', 'scrap_time': '2021-08-29-34 22:35:49'}\n",
      "{'date': '2021-08-29', 'title': 'Chinese midfielder Zhang vows to seize \"the best opportunity for our generation\" ', 'time': '2021-08-29', 'subtitle': '', 'content': 'DOHA, Aug. 28 (Xinhua) -- Chinese international midfielder Zhang Xizhe said Saturday that the upcoming final round of the FIFA World Cup Asian Zone qualifiers is \"the best opportunity for our generation\". \"It`s the best opportunity for our generation to qualify for the World Cup. All of us will go all out in every game,\" the 30-year-old told reporters following a training session in Doha. \"About half of the Chinese team had the experience of playing in the final round of the 2018 World Cup qualifiers, so we understand how things are going and we are more confident,\" he noted. China has been drawn against Japan, Australia, Saudi Arabia, Vietnam and Oman in the final round of Asian qualifying tournament. The top two teams will qualify directly, with the third-place finisher entering play-offs. \"The final round will be harder than the previous rounds as the opponents are stronger, so we need to improve our pace and tempo through daily training,\" said Zhang. China will kick off its final round campaign next Thursday against Australia, who announced a 27-man roster on Saturday, with 26 being overseas-based players including Chinese Super League side Shanghai Port`s Aaron Mooy. \"Many Australian players play in major European Leagues and they play quick football. We are familiar with Mooy. I\\'m sure he will also share his thoughts about our team with his teammates,\" said the Beijing Guoan star. The Chinese team arrived in Doha on Thursday. Zhang said they have overcome the jet lag and is adapting to the hot and humid weather. The former Wolfsburg player also praised the high quality training pitch in Qatar University, which is built for next year`s World Cup finals. \"It`s very flat and the ball moves fast. It`s very helpful for us to improve our training,\" he said. Enditem ', 'source': 'Xinhua', 'url': 'http://www.news.cn/english/2021-08/29/c_1310154979.htm', 'scrap_time': '2021-08-29-34 22:35:49'}\n",
      "{'date': '2021-08-29', 'title': 'Firing the Chengni inkstone ', 'time': '2021-08-29', 'subtitle': '', 'content': ' As one of the \"four treasures in the study\" in ancient China, inkstone is so much more than just a container for ink. In this final episode of four, English teacher Mark Dinning from the UK tries his hand at making Chengni inkstone, the only kind made from mudâ\\x96  ', 'source': 'Xinhua', 'url': 'http://www.news.cn/english/2021-08/29/c_1310154673.htm', 'scrap_time': '2021-08-29-34 22:35:49'}\n",
      "{'date': '2021-08-28', 'title': 'The \"incredible\" U.S. intelligence: torture and coverup ', 'time': '2021-08-28', 'subtitle': '', 'content': 'CIA tortures and lies...  ', 'source': 'Xinhua', 'url': 'http://www.news.cn/english/2021-08/28/c_1310154454.htm', 'scrap_time': '2021-08-29-34 22:35:49'}\n"
     ]
    }
   ],
   "source": [
    "article = yield_latest_allnews(\"the\", '2021-08-01', 2, 1.0)"
   ]
  },
  {
   "cell_type": "code",
   "execution_count": 8,
   "metadata": {
    "ExecuteTime": {
     "end_time": "2021-11-26T02:09:14.034387Z",
     "start_time": "2021-11-26T02:09:14.016381Z"
    },
    "scrolled": true
   },
   "outputs": [],
   "source": [
    "def yield_latest_allnews(keyword, begin_date, end_page=10, sleep=1.0):\n",
    "    \"\"\"\n",
    "    Artuments\n",
    "    ---------\n",
    "    section : str\n",
    "        eg. \"world, asia, opinion\"\n",
    "    begin_date : str\n",
    "        eg. 2018-01-01\n",
    "    max_num : int\n",
    "        Maximum number of news to be scraped\n",
    "    sleep : float\n",
    "        Sleep time. Default 1.0 sec\n",
    "    It yields\n",
    "    ---------\n",
    "    news : json object\n",
    "    \"\"\"\n",
    "    base_url = 'https://search.news.cn/getNews?sortField=0&searchFields=1&keyword={}&curPage={}&lang=en'\n",
    "\n",
    "    # prepare parameters\n",
    "    d_begin = parse(begin_date)\n",
    "    n_news = 0\n",
    "    outdate = False\n",
    "\n",
    "    for page in range(1, end_page):\n",
    "\n",
    "        # check number of scraped news\n",
    "        if outdate:\n",
    "            break\n",
    "\n",
    "        # get urls\n",
    "        url = base_url.format(keyword, page)\n",
    "        soup = get_soup(url)\n",
    "        \n",
    "        url_list = soup.text.split(',{')\n",
    "        real_url = []\n",
    "        for url in url_list: \n",
    "            end = re.search(\"url\", url).end()+3\n",
    "            real_url.append(url[end:-2])\n",
    "\n",
    "        real_url[-1] = real_url[-1][:-38]\n",
    "        print(real_url)\n",
    "\n",
    "        for url in real_url:\n",
    "            news_json = parse_page(url)\n",
    "            print(news_json)\n",
    "                \n",
    "            d_news = parse(news_json['date'])\n",
    "            if d_begin > d_news:\n",
    "                outdate = True\n",
    "                print('Stop scrapping. {} news was scrapped'.format(n_news))\n",
    "                print('The oldest news has been created after {}'.format(begin_date))\n",
    "                break\n",
    "                # yield\n",
    "                return news_json\n",
    "                n_news += 1"
   ]
  },
  {
   "cell_type": "code",
   "execution_count": 9,
   "metadata": {
    "ExecuteTime": {
     "end_time": "2021-11-26T02:09:16.401870Z",
     "start_time": "2021-11-26T02:09:16.056793Z"
    }
   },
   "outputs": [
    {
     "ename": "NameError",
     "evalue": "name 'soup' is not defined",
     "output_type": "error",
     "traceback": [
      "\u001b[1;31m---------------------------------------------------------------------------\u001b[0m",
      "\u001b[1;31mNameError\u001b[0m                                 Traceback (most recent call last)",
      "\u001b[1;32m<ipython-input-9-b7d63b7ba601>\u001b[0m in \u001b[0;36m<module>\u001b[1;34m\u001b[0m\n\u001b[1;32m----> 1\u001b[1;33m \u001b[0mend\u001b[0m \u001b[1;33m=\u001b[0m \u001b[0mre\u001b[0m\u001b[1;33m.\u001b[0m\u001b[0msearch\u001b[0m\u001b[1;33m(\u001b[0m\u001b[1;34m\"url\"\u001b[0m\u001b[1;33m,\u001b[0m \u001b[0msoup\u001b[0m\u001b[1;33m.\u001b[0m\u001b[0mtext\u001b[0m\u001b[1;33m.\u001b[0m\u001b[0msplit\u001b[0m\u001b[1;33m(\u001b[0m\u001b[1;34m',{'\u001b[0m\u001b[1;33m)\u001b[0m\u001b[1;33m[\u001b[0m\u001b[1;36m0\u001b[0m\u001b[1;33m]\u001b[0m\u001b[1;33m)\u001b[0m\u001b[1;33m.\u001b[0m\u001b[0mend\u001b[0m\u001b[1;33m(\u001b[0m\u001b[1;33m)\u001b[0m\u001b[1;33m+\u001b[0m\u001b[1;36m3\u001b[0m\u001b[1;33m\u001b[0m\u001b[1;33m\u001b[0m\u001b[0m\n\u001b[0m",
      "\u001b[1;31mNameError\u001b[0m: name 'soup' is not defined"
     ]
    }
   ],
   "source": [
    "end = re.search(\"url\", soup.text.split(',{')[0]).end()+3"
   ]
  },
  {
   "cell_type": "code",
   "execution_count": 10,
   "metadata": {
    "ExecuteTime": {
     "end_time": "2021-11-26T02:09:16.552124Z",
     "start_time": "2021-11-26T02:09:16.540120Z"
    },
    "scrolled": false
   },
   "outputs": [
    {
     "ename": "NameError",
     "evalue": "name 'soup' is not defined",
     "output_type": "error",
     "traceback": [
      "\u001b[1;31m---------------------------------------------------------------------------\u001b[0m",
      "\u001b[1;31mNameError\u001b[0m                                 Traceback (most recent call last)",
      "\u001b[1;32m<ipython-input-10-7e99f514805e>\u001b[0m in \u001b[0;36m<module>\u001b[1;34m\u001b[0m\n\u001b[1;32m----> 1\u001b[1;33m \u001b[0msoup\u001b[0m\u001b[1;33m.\u001b[0m\u001b[0mtext\u001b[0m\u001b[1;33m.\u001b[0m\u001b[0msplit\u001b[0m\u001b[1;33m(\u001b[0m\u001b[1;34m',{'\u001b[0m\u001b[1;33m)\u001b[0m\u001b[1;33m[\u001b[0m\u001b[1;36m0\u001b[0m\u001b[1;33m]\u001b[0m\u001b[1;33m[\u001b[0m\u001b[0mend\u001b[0m\u001b[1;33m:\u001b[0m\u001b[1;33m-\u001b[0m\u001b[1;36m2\u001b[0m\u001b[1;33m]\u001b[0m\u001b[1;33m\u001b[0m\u001b[1;33m\u001b[0m\u001b[0m\n\u001b[0m",
      "\u001b[1;31mNameError\u001b[0m: name 'soup' is not defined"
     ]
    }
   ],
   "source": [
    "soup.text.split(',{')[0][end:-2]"
   ]
  },
  {
   "cell_type": "code",
   "execution_count": 109,
   "metadata": {
    "ExecuteTime": {
     "end_time": "2021-08-29T20:26:46.340570Z",
     "start_time": "2021-08-29T20:26:46.331570Z"
    }
   },
   "outputs": [
    {
     "data": {
      "text/plain": [
       "389"
      ]
     },
     "execution_count": 109,
     "metadata": {},
     "output_type": "execute_result"
    }
   ],
   "source": [
    "end"
   ]
  },
  {
   "cell_type": "code",
   "execution_count": 14,
   "metadata": {},
   "outputs": [],
   "source": [
    "\n",
    "def yield_latest_article(section, begin_date, end_date, verbose=True):\n",
    "    \"\"\"\n",
    "    Arguments\n",
    "    ---------\n",
    "    begin & end : datetime.datetime\n",
    "    pagenum : int\n",
    "    verbose : Boolean\n",
    "        If True, print current status\n",
    "\n",
    "    Returns\n",
    "    -------\n",
    "    links_all : list of str\n",
    "        List of urls on the page pagenum\n",
    "    \"\"\"\n",
    "    section =str(section)\n",
    "    base_url = 'https://sputniknews.com/{}/{}/'\n",
    "    old_url = set()\n",
    "\n",
    "    dt_index = pd.date_range(start=begin_date, end=end_date)\n",
    "\n",
    "    for format_date in dt_index:\n",
    "        date = format_date.strftime(\"%Y%m%d\")\n",
    "        url = base_url.format(section, date)\n",
    "        soup = get_soup(url)\n",
    "\n",
    "        sub_urls = soup.find('div', class_ = 'b-plainlist').find_all('a')\n",
    "        daily_url = set(['https://sputniknews.com'+ a['href'] for a in sub_urls])\n",
    "        ## remove duplicate url\n",
    "        links = list(daily_url - old_url)\n",
    "        ## update new urls\n",
    "        old_url = set()\n",
    "        old_url.update(daily_url)\n",
    "\n",
    "        for url in links:\n",
    "            try:\n",
    "                news_json = parse_page(url)           \n",
    "                print(news_json)\n",
    "                time.sleep(sleep)\n",
    "            except:\n",
    "                print(\"this {} is not checked\".format(url))"
   ]
  },
  {
   "cell_type": "code",
   "execution_count": 15,
   "metadata": {
    "scrolled": true
   },
   "outputs": [
    {
     "name": "stdout",
     "output_type": "stream",
     "text": [
      "{'date': '2020-07-19', 'title': 'TikTok Suspends Talks on Opening Headquarters in London, Reports Suggest', 'subtitle': '', 'content': 'MOSCOW (Sputnik) - ByteDance, the parent company of social media giant TikTok has broken off negotiations to open a global headquarters in the United Kingdom over worsening relations between Beijing and London, The Sunday Times reported. The decision to halt negotiations was made against the backdrop of a \"wider geopolitical context\", a source told the newspaper. Chinese media and tech firms have been subject to increasing attacks and restrictions led by the United States. ByteDance had been in talks for several months to launch operations in the UK which could create 3,000 jobs, according to The Sunday Times. ', 'category': 'Business', 'source': 'Sputnik', 'url': 'https://sputniknews.com/business/202007191079927606-tiktok-owner-halts-negotiations-to-open-headquarters-in-london-amid-tensions---reports/'}\n",
      "this https://sputniknews.com/business/202007191079927606-tiktok-owner-halts-negotiations-to-open-headquarters-in-london-amid-tensions---reports/ is not checked\n",
      "{'date': '2020-07-19', 'title': 'Mumbai Police Register FIR Against Two for Rape, Murder Threats to Bollywood Star Rhea Chakraborty', 'subtitle': '', 'content': 'New Delhi (Sputnik): Bollywood actress Rhea Chakraborty was a close friend of actor Sushant Singh Rajput, who allegedly committed suicide last month. Rhea has also been questioned by the Mumbai Police in Rajput’s death case. The late actor was found hanging at his Mumbai residence on 16 June. Mumbai Police have registered a First Information Report (FIR) against two Instagram users for allegedly threatening Bollywood actress Rhea Chakraborty, an official said on Sunday. Chakraborty, who had been receiving messages with rape and murder threats since the death of her close friend and actor Sushant Singh Rajput, approached the cybercrime cell of the Mumbai Police on Thursday with a request to look into the threats that she was sent. Rajput, 34, was found hanging in his Mumbai apartment on 14 June, sending shockwaves across Bollywood. The Mumbai Police said that they have started investigating the case, but no arrest has been made so far. Last month, a statement by Rhea was also recorded by the Mumbai Police in connection with Rajput’s death, which is currently being investigated too. Immediately after the death of Sushant Singh Rajput, the issue of nepotism yet again surfaced in Bollywood, with actors like Kangna Ranaut blaming the constant side-lining and threats to his career as the reasons for his suicide. In a recent TV interview, Ranaut said that the Mumbai Police are not questioning the right people in the case of Sushant Singh Rajput’s death.     ', 'category': 'India', 'source': 'Sputnik', 'url': 'https://sputniknews.com/india/202007191079927681-mumbai-police-register-fir-against-two-for-rape-murder-threats-to-bollywood-star-rhea-chakraborty/'}\n",
      "this https://sputniknews.com/india/202007191079927681-mumbai-police-register-fir-against-two-for-rape-murder-threats-to-bollywood-star-rhea-chakraborty/ is not checked\n",
      "{'date': '2020-07-19', 'title': 'Portland Protesters Break Into Police Association HQ Building, Set it on Fire - Video', 'subtitle': '', 'content': 'Portland, a stronghold for anarchist groups and left-wing activists has been subject to protests and riots since the 25 May death of African American man George Floyd while in police custody, with businesses suffering millions of dollars in losses from destroyed property and shoppers who stayed away, according to media reports. Portland protesters broke into the building of the local Police Association headquarters, setting it on fire late Saturday night, according to police. ✊🏿✊🏿✊🏿✊🏿✊🏿✊🏿✊🏿✊🏿✊🏿✊🏿✊🏿✊🏿✊🏿✊🏿✊🏿✊🏿✊🏿\"Riot declared at Portland Police Association headquarters as people set union office on fire\" https://t.co/iWX3Z5A0qk \\u200bThe fire was put out a short time later, according to a police statement on Twitter. Officers were able to put out the fire inside the PPA office and have restored order in the neighborhood there. Police have declared the gathering a riot and begun working to clear the downtown area.  ', 'category': 'US', 'source': 'Sputnik', 'url': 'https://sputniknews.com/us/202007191079927652-portland-protesters-break-into-police-association-hq-building-setting-it-on-fire-video/'}\n",
      "this https://sputniknews.com/us/202007191079927652-portland-protesters-break-into-police-association-hq-building-setting-it-on-fire-video/ is not checked\n",
      "{'date': '2020-07-19', 'title': 'Two African-American Women Arrested for Smearing BLM Mural Near Trump Tower - Video', 'subtitle': '', 'content': 'The giant inscription painted by activists with the help of New York Mayor Bill de Blasio, his wife Charlene McCray, African-American activist Al Sharpton, and many others has previously been defaced two times by anonymous people. Two African-American women were arrested by police after they defaced a giant \"Black Lives Matter\" mural near Trump Tower in New York City, pouring and smearing black paint on it, according to the NYPD. Footage of the incident shows a woman crawling on the yellow letters and smearing black paint over them while screaming \"re-fund the police\" as officers arrest her. BREAKING: Bevelyn Beatty from At The Well Ministries graffitis #BLM mural in front of Trump Tower. pic.twitter.com/0FA0Rps0oB \\u200b\"They\\'re liars!\", she shouted. \"They say they care about black lives, they\\'re saying to defund the police\". During the arrest, one officer also slipped on the paint and fell, injuring his arm. NYPD officer slips on paint of anti #BLM protester at Trump Tower. pic.twitter.com/2Vunj1TWv9 ', 'category': 'US', 'source': 'Sputnik', 'url': 'https://sputniknews.com/us/202007191079928073-two-african-american-women-arrested-for-smearing-blm-mural-near-trump-tower---video/'}\n",
      "this https://sputniknews.com/us/202007191079928073-two-african-american-women-arrested-for-smearing-blm-mural-near-trump-tower---video/ is not checked\n",
      "{'date': '2020-07-19', 'title': 'UK Hospital in Brighton on Lockdown After Man Stabs Staff Member', 'subtitle': '', 'content': 'According to preliminary reports, the suspect, a 30-year-old man was arrested near the hospital an hour after attacking a male cleaner with a knife. ', 'category': 'UK', 'source': 'Sputnik', 'url': 'https://sputniknews.com/uk/202007191079928212-uk-hospital-in-brighton-put-on-lockdown-after-man-stabs-staff-member/'}\n",
      "this https://sputniknews.com/uk/202007191079928212-uk-hospital-in-brighton-put-on-lockdown-after-man-stabs-staff-member/ is not checked\n",
      "{'date': '2020-07-19', 'title': 'Havoc in Indian Capital as Delhi Sinks Under Water After Heavy Rain - Photo, Video', 'subtitle': '', 'content': 'New Delhi (Sputnik): The Indian Meteorological Department on Friday predicted light to moderate rainfall in Delhi between 17 July and 20 July. According to the department, Delhi has recorded 47.9mm of rain in July, which is less than half of the normal 109.4mm for the month. One person has been reported dead due to drowning along the low-lying Minto Road area in India’s national capital city after heavy rains lashed Delhi on Sunday, causing water logging in various areas.   Same old Story #DelhiRain #MintoBridge pic.twitter.com/0sHH8Hf2ki \\u200bResidents also took to social media reporting high water in various areas of Delhi. A Twitter user posted a video depicting people being evacuated from the roof of a public bus in the nearly submerged area of Minto Bridge. The stranded pasengers were rescued by Delhi Fire Department personnel.  #Delhi: A bus got stuck in a #waterlogged road under Minto Bridge following heavy rainfall in the national capital this morning. Fire Department personnel rescue people on-board a bus. #MintoBridge#DelhiRain #rain pic.twitter.com/e7Mw7Thkau \\u200bYet another video showed a couple of houses being swept away following the heavy early Sunday morning rain.  This is the situation of \"National Capital\" of India.And most importantly, after first rain, there is the entire rainy season coming on the way. Imagine, what will happen to Delhi??Who is responsible? Both Delhi Govt @ArvindKejriwal and @BJP4India who is running MCD for yrs. pic.twitter.com/doYA8uIT9m \\u200bVideos posted on Twitter from other areas like Okhla and Lajpat Nagar also revealed massive flooding.  Waterlogging at Minto bridge following heavy rainfall in New Delhi on Sunday morning. Delhi: A body was found near waterlogged Minto Bridge. @NewIndianXpress @TheMornStandard #delhirain pic.twitter.com/LO3lB2wm5u #WATCH RAIN LASHES IN THE CITY/ WATER LOGGING VISUALS :Okhla DELHI@AAPDelhi @ArvindKejriwal pic.twitter.com/mcUFh3IDZy \\u200bA social media used rued the fact that \"small rain\" has caused such a situation in the Indian capital, which forces one to question whether we are \"really moving ahead\". A small rain and this is what happens in main Lajpat Nagar phase 1, Delhi- The Capital of INDIA. Arises a question are we really moving ahead??#Abpnews #ABP #aajtak #zeenews #NarendraModi #aap #ArvindKejriwal #DelhiRains #delhirain #RepublicTV #NEWS pic.twitter.com/WZzLDtPr2y \\u200b\\u200bA household, meanwhile, also took to Twitter to report a leaking roof after the heavy rainfall.  It is raining so heavily that our ceiling has started to leak 🤭😐#DelhiRains pic.twitter.com/nWujKSlGjL \\u200bThe Delhi wing of India\\'s principal opposition party Congress also took to Twitter to criticise the Municipal Corporation of Delhi, which is governed by the Bharatiya Janata Party.  The Problem of Water Llogging on the Minto Bridge remains in the rains every year, BJP Ruled MCD and Delhi Govt have failed to solve this problem, If this had been taken care of before then this waterlogging problem would have been overcome.#rain #WaterLogging https://t.co/Rx1SL1UDDT ', 'category': 'India', 'source': 'Sputnik', 'url': 'https://sputniknews.com/india/202007191079927122-havoc-in-indian-capital-as-delhi-sinks-under-water-after-heavy-rain---photo-video/'}\n",
      "this https://sputniknews.com/india/202007191079927122-havoc-in-indian-capital-as-delhi-sinks-under-water-after-heavy-rain---photo-video/ is not checked\n"
     ]
    }
   ],
   "source": [
    "yield_latest_article('world', 20200701, 20200715, verbose=True)"
   ]
  },
  {
   "cell_type": "code",
   "execution_count": 16,
   "metadata": {},
   "outputs": [],
   "source": [
    "url = 'https://sputniknews.com/us/202007191079927652-portland-protesters-break-into-police-association-hq-building-setting-it-on-fire-video/'"
   ]
  },
  {
   "cell_type": "code",
   "execution_count": 18,
   "metadata": {},
   "outputs": [],
   "source": [
    "url = 'https://sputniknews.com/india/202007191079927681-mumbai-police-register-fir-against-two-for-rape-murder-threats-to-bollywood-star-rhea-chakraborty/'"
   ]
  },
  {
   "cell_type": "code",
   "execution_count": 20,
   "metadata": {},
   "outputs": [],
   "source": [
    "url = 'https://sputniknews.com/india/202007191079927681-mumbai-police-register-fir-against-two-for-rape-murder-threats-to-bollywood-star-rhea-chakraborty/'"
   ]
  },
  {
   "cell_type": "code",
   "execution_count": 21,
   "metadata": {
    "scrolled": false
   },
   "outputs": [
    {
     "data": {
      "text/plain": [
       "{'date': '2020-07-19',\n",
       " 'title': 'Mumbai Police Register FIR Against Two for Rape, Murder Threats to Bollywood Star Rhea Chakraborty',\n",
       " 'subtitle': '',\n",
       " 'content': 'New Delhi (Sputnik): Bollywood actress Rhea Chakraborty was a close friend of actor Sushant Singh Rajput, who allegedly committed suicide last month. Rhea has also been questioned by the Mumbai Police in Rajput’s death case. The late actor was found hanging at his Mumbai residence on 16 June. Mumbai Police have registered a First Information Report (FIR) against two Instagram users for allegedly threatening Bollywood actress Rhea Chakraborty, an official said on Sunday. Chakraborty, who had been receiving messages with rape and murder threats since the death of her close friend and actor Sushant Singh Rajput, approached the cybercrime cell of the Mumbai Police on Thursday with a request to look into the threats that she was sent. Rajput, 34, was found hanging in his Mumbai apartment on 14 June, sending shockwaves across Bollywood. The Mumbai Police said that they have started investigating the case, but no arrest has been made so far. Last month, a statement by Rhea was also recorded by the Mumbai Police in connection with Rajput’s death, which is currently being investigated too. Immediately after the death of Sushant Singh Rajput, the issue of nepotism yet again surfaced in Bollywood, with actors like Kangna Ranaut blaming the constant side-lining and threats to his career as the reasons for his suicide. In a recent TV interview, Ranaut said that the Mumbai Police are not questioning the right people in the case of Sushant Singh Rajput’s death.     ',\n",
       " 'category': 'India',\n",
       " 'source': 'Sputnik',\n",
       " 'url': 'https://sputniknews.com/india/202007191079927681-mumbai-police-register-fir-against-two-for-rape-murder-threats-to-bollywood-star-rhea-chakraborty/'}"
      ]
     },
     "execution_count": 21,
     "metadata": {},
     "output_type": "execute_result"
    }
   ],
   "source": [
    "parse_page(url)"
   ]
  },
  {
   "cell_type": "code",
   "execution_count": 55,
   "metadata": {},
   "outputs": [],
   "source": [
    "urls = []\n",
    "for a in dt_index:\n",
    "    date = a.strftime(\"%Y%m%d\")\n",
    "    urls.append(url.format(date))"
   ]
  },
  {
   "cell_type": "code",
   "execution_count": 60,
   "metadata": {},
   "outputs": [
    {
     "data": {
      "text/plain": [
       "<!DOCTYPE html SYSTEM \"about:legacy-compat\">\n",
       "<html class=\"responsive\" lang=\"en\"><head><title>Military &amp; Intelligence - News of the Day - 01.07.2019 | Sputnik International</title><meta content=\"IE=edge\" http-equiv=\"X-UA-Compatible\"/><meta content=\"Military &amp; Intelligence - News of the Day - 01.07.2019 | Sputnik International. For more news check our website Sputnik\" name=\"description\"/><meta content=\"News about Military, New Military Technologies, News about Army, News about Air Force, News about Navy, military news now, war news now, russian military news, us military news, military news, military weapons news, us defense news, russian defence news, intelligence news\" name=\"keywords\"/><meta content=\"text/html; charset=utf-8\" http-equiv=\"Content-Type\"/><meta content=\"all\" name=\"robots\"/><meta content=\"telephone=no\" name=\"format-detection\"/>\n",
       "<meta content=\"ahrefs-site-verification_899ad24abeb428773ae480d902877f72151b81b12d4b7293cbfa1c452c76adcd\" name=\"ahrefs-site-verification\"/>\n",
       "<meta content=\"width=device-width, initial-scale=1\" name=\"viewport\"/><meta content=\"on\" name=\"twitter:widgets:csp\"/><meta content=\"799135720145118\" property=\"fb:app_id\"/><meta content=\"357990416180\" property=\"fb:pages\"/><link href=\"https://cdn2.img.sputniknews.com/i/sputnik.png\" rel=\"apple-touch-icon\"/><meta content=\"app-id=969452947\" name=\"apple-itunes-app\"/><meta content=\"app-id=com.sputniknews.sputnik\" name=\"google-play-app\"/><link href=\"/project_data/manifest.json?3\" rel=\"manifest\"/><link href=\"/favicon.ico?1\" rel=\"shortcut icon\" type=\"image/x-icon\"/><link href=\"https://sputniknews.com/military/20190701/\" hreflang=\"en\" rel=\"alternate\"/><link href=\"https://sputniknews.com/military/20190701/\" hreflang=\"en-us\" rel=\"alternate\"/><link href=\"https://sputniknews.com/military/20190701/\" hreflang=\"en-gb\" rel=\"alternate\"/><link href=\"https://sputniknews.com/military/20190701/\" hreflang=\"en-ca\" rel=\"alternate\"/><link href=\"https://sputniknews.com/military/20190701/\" hreflang=\"en-au\" rel=\"alternate\"/><link href=\"https://sputniknews.com/military/20190701/\" hreflang=\"en-nz\" rel=\"alternate\"/><link href=\"https://sputniknews.com/military/20190701/\" hreflang=\"en-za\" rel=\"alternate\"/><link href=\"https://sputniknews.com/military/20190701/\" hreflang=\"en-in\" rel=\"alternate\"/><link href=\"https://sputniknews.com/military/20190701/\" rel=\"canonical\"/><link href=\"https://fonts.googleapis.com/css?family=Open+Sans:400,300,800,700,600&amp;subset=cyrillic-ext,latin&amp;display=swap\" rel=\"stylesheet\"/><link href=\"https://cdn1.img.sputniknews.com/min/css/fonts.int.css?2e4de3847\" rel=\"stylesheet\"/><noscript><link href=\"https://fonts.googleapis.com/css?family=Open+Sans:400,300,800,700,600&amp;subset=cyrillic-ext,latin&amp;display=swap\" rel=\"stylesheet\"/><link href=\"https://cdn1.img.sputniknews.com/min/css/fonts.int.css?2e4de3847\" rel=\"stylesheet\" type=\"text/css\"/></noscript><link href=\"https://cdn1.img.sputniknews.com/min/css/common.int.css?217646eb12\" rel=\"stylesheet\"/><link href=\"https://cdn1.img.sputniknews.com/min/css/responsive.int.css?23cb34d40\" rel=\"stylesheet\"/>\n",
       "<!--[if IE 7]><link rel=\"stylesheet\" href=\"/css/ie7.css\"/><![endif]-->\n",
       "<!--[if IE 8]><link rel=\"stylesheet\" href=\"/css/ie8.css\"/><![endif]-->\n",
       "<link href=\"https://cdn1.img.sputniknews.com/min/css/windows/windows.int.css?24fe64335\" rel=\"stylesheet\"/><link href=\"https://cdn1.img.sputniknews.com/min/css/rubric.int.css?2b5c8daeb\" rel=\"stylesheet\"/><script src=\"https://cdn1.img.sputniknews.com/min/js/libs/jquery.min.js?2547186fd\"></script><script src=\"https://cdn1.img.sputniknews.com/min/js/libs/adriver.core.2.js?2f58bc24a\"></script><script src=\"https://cdn1.img.sputniknews.com/min/js/libs/adfox.asyn.code.ver3-scroll.js?2c08395d2\"></script><script src=\"//yastatic.net/pcode/adfox/loader.js\"></script><script>var _paq = _paq || []; (function() {var stackDomain = window.location.hostname.split('.').reverse();var domain = stackDomain[1] + '.' + stackDomain[0];_paq.push(['setCDNMask', new RegExp('cdn(\\\\w+).img.'+domain)]); _paq.push(['setSiteId', 'sputnik_inter_en']); _paq.push(['trackPageView']); _paq.push(['enableLinkTracking']); var d=document, g=d.createElement('script'), s=d.getElementsByTagName('script')[0]; g.type='text/javascript'; g.defer=true; g.async=true; g.src='//a.ria.ru/js/counter.js'; s.parentNode.insertBefore(g,s); } )(); $(function() { Sputnik = Sputnik || {}; SputnikSNG = false; $.extend(Sputnik, { lang_code: 'eng', www: 'https://sputniknews.com/', comet: { ticket: \"00\", url: \"https://comet.sputniknews.com/polling\", ts: \"0\", objects: [], project: \"sputnik_inter_en\", reduce: \"0\", timeouts: { try2: 1000, try3: 10000, try4: 30000 } }, locale: { readmore: 'Read more' } }); }); window.suggestmeyes_loaded = true;</script><script src=\"https://cdn1.img.sputniknews.com/min/js/plugins/head.js?2aad43842\"></script><script type=\"text/javascript\">\n",
       "                window._taboola = window._taboola || [];\n",
       "                _taboola.push({article:'auto'});\n",
       "                !function (e, f, u, i) {\n",
       "                  if (!document.getElementById(i)){\n",
       "                    e.async = 1;\n",
       "                    e.src = u;\n",
       "                    e.id = i;\n",
       "                    f.parentNode.insertBefore(e, f);\n",
       "                  }\n",
       "                }(document.createElement('script'),\n",
       "                document.getElementsByTagName('script')[0],\n",
       "                '//cdn.taboola.com/libtrc/sputnik-en/loader.js',\n",
       "                'tb_loader_script');\n",
       "                  if(window.performance && typeof window.performance.mark == 'function')\n",
       "                  {window.performance.mark('tbl_ic');}\n",
       "              </script><meta content=\"Military &amp; Intelligence - News of the Day - 01.07.2019 | Sputnik International\" property=\"og:title\"/><meta content=\"https://sputniknews.com/military/20190701/\" property=\"og:url\"/><meta content=\"website\" property=\"og:type\"/><meta content=\"Military &amp; Intelligence - News of the Day - 01.07.2019 | Sputnik International. For more news check our website Sputnik\" property=\"og:description\"/><meta content=\"https://sputniknews.com/i/logo-social.png\" property=\"og:image\"/><meta content=\"770\" property=\"og:image:width\"/><meta content=\"440\" property=\"og:image:height\"/><meta content=\"summary_large_image\" name=\"twitter:card\"/><meta content=\"@SputnikInt\" name=\"twitter:site\"/><meta content=\"https://sputniknews.com/military/20190701/\" name=\"twitter:url\"/><meta content=\"Military &amp; Intelligence - News of the Day - 01.07.2019 | Sputnik International\" name=\"twitter:title\"/><meta content=\"Military &amp; Intelligence - News of the Day - 01.07.2019 | Sputnik International. For more news check our website Sputnik\" name=\"twitter:description\"/><meta content=\"https://sputniknews.com/sharing_snippet/.png?\" name=\"twitter:image\"/><link href=\"/export/rss2/archive/index.xml\" rel=\"alternate\" title=\"RSS\" type=\"application/rss+xml\"/><link href=\"/export/rss2/military/index.xml\" rel=\"alternate\" title=\"RSS\" type=\"application/rss+xml\"/><script async=\"\" src=\"https://securepubads.g.doubleclick.net/tag/js/gpt.js\"></script>\n",
       "<script>\n",
       "  window.googletag = window.googletag || {cmd: []};\n",
       "  googletag.cmd.push(function() {\n",
       "    googletag.defineSlot('/57209224/728x90_sputniknews', [[728, 90], [970, 90]], 'div-gpt-ad-1475831434056-0').addService(googletag.pubads());\n",
       "    googletag.defineSlot('/57209224/300*250_sputniknews_article1', [300, 250], 'div-gpt-ad-1509109064180-0').addService(googletag.pubads());\n",
       "    googletag.defineSlot('/57209224/300*250_sputniknews_article2', [300, 250], 'div-gpt-ad-1509109064180-1').addService(googletag.pubads());\n",
       "    googletag.defineSlot('/57209224/300x600_sputniknews', [300, 600], 'div-gpt-ad-1509364578775-0').addService(googletag.pubads());\n",
       "    googletag.defineSlot('/57209224/300*250_sputniknews_article3', [[320, 50], [300, 250]], 'div-gpt-ad-1509109064180-2').addService(googletag.pubads());\n",
       "    googletag.pubads().enableSingleRequest();\n",
       "    googletag.pubads().collapseEmptyDivs();\n",
       "    googletag.enableServices();\n",
       "  });\n",
       "</script></head><body class=\"site_int lang_eng rubric-archive-page\">\n",
       "<!-- Google Tag Manager -->\n",
       "<noscript><iframe height=\"0\" src=\"//www.googletagmanager.com/ns.html?id=GTM-PNTW78\" style=\"display:none;visibility:hidden\" width=\"0\"></iframe></noscript>\n",
       "<script>(function(w,d,s,l,i){w[l]=w[l]||[];w[l].push({'gtm.start':\n",
       "                new Date().getTime(),event:'gtm.js'});var f=d.getElementsByTagName(s)[0],\n",
       "                j=d.createElement(s),dl=l!='dataLayer'?'&l='+l:'';j.async=true;j.src=\n",
       "                '//www.googletagmanager.com/gtm.js?id='+i+dl;f.parentNode.insertBefore(j,f);\n",
       "                })(window,document,'script','dataLayer','GTM-PNTW78');</script>\n",
       "<!-- End Google Tag Manager -->\n",
       "<!-- Google Tag Manager -->\n",
       "<script>(function(w,d,s,l,i){w[l]=w[l]||[];w[l].push({'gtm.start':\n",
       "                new Date().getTime(),event:'gtm.js'});var f=d.getElementsByTagName(s)[0],\n",
       "                j=d.createElement(s),dl=l!='dataLayer'?'&l='+l:'';j.async=true;j.src=\n",
       "                'https://www.googletagmanager.com/gtm.js?id='+i+dl;f.parentNode.insertBefore(j,f);\n",
       "                })(window,document,'script','dataLayer','GTM-W55XXNG');</script>\n",
       "<!-- End Google Tag Manager -->\n",
       "<!-- Google Tag Manager (noscript) -->\n",
       "<noscript><iframe height=\"0\" src=\"https://www.googletagmanager.com/ns.html?id=GTM-W55XXNG\" style=\"display:none;visibility:hidden\" width=\"0\"></iframe></noscript>\n",
       "<!-- End Google Tag Manager (noscript) -->\n",
       "<a class=\"arrowup\" data-back=\"0\" data-state=\"up\"><i class=\"icon up\"></i></a><div class=\"cookie\" id=\"cookieContainer\"><div class=\"l-wrap\"><div class=\"cookie__wrap\"><div class=\"cookie__description\">\n",
       "<p>To improve the performance of our website, show the most relevant news products and targeted advertising, we collect technical impersonal information about you, including through the tools of our partners. You can find a detailed description of how we use your data in our <a href=\"https://sputniknews.com/docs/about/privacy_policy.html#without-identification\" target=\"_blank\">Privacy Policy</a>. For a detailed description of the technologies, please see the <a href=\"https://sputniknews.com/docs/about/cookie.html\" target=\"_blank\">Cookie and Automatic Logging Policy</a>.</p>\n",
       "<p>By clicking on the \"Accept &amp; Close\" button, you provide your explicit consent to the processing of your data to achieve the above goal.</p>\n",
       "<p>You can withdraw your consent using the method specified in the <a href=\"https://sputniknews.com/docs/about/privacy_policy.html#right-to-withdraw-consent\" target=\"_blank\">Privacy Policy</a>.</p>\n",
       "</div><div class=\"cookie__btn\"><button class=\"cookie__accept\" id=\"cookieAccept\">Accept &amp; Close</button></div></div></div></div><div class=\"page_container m-relative root\"><div class=\"b-sitenav\"><div class=\"l-wrap m-nobgimg\"><ul class=\"b-sitenav__list\"><li class=\"b-sitenav__list-item m-sitenav-current\"><a href=\"/\">Sputnik International</a></li><li class=\"b-sitenav__list-item\"><a class=\"b-sitenav-all__trigger\" href=\"#\">all editions</a></li></ul><div class=\"b-sitenav__time\"><div class=\"b-userpanel\"><span class=\"b-sitenav__userauth auth\"><a class=\"b-sitenav__userauth-login authLoginOpen\">Log in</a><a class=\"b-sitenav__userauth-register authRegisterOpen\">Register</a></span><span class=\"b-sitenav__userpanel userpanel\" style=\"display: none;\"><span class=\"b-sitenav__userpanel-avatar avatar\"></span><a class=\"b-sitenav__userpanel-username username\" href=\"/id/profile/\"></a><a class=\"b-sitenav__userpanel-logout authLogout logout\">Log out</a></span></div><span class=\"m-timezone m-vat\">13:50 GMT</span><span class=\"m-vat\">18 July 2020</span></div><div class=\"b-banner m-banner-3\"><!-- /57209224/728x90_sputniknews main_only-->\n",
       "<div id=\"div-gpt-ad-1475831434056-0\">\n",
       "<script>\n",
       "googletag.cmd.push(function() { googletag.display('div-gpt-ad-1475831434056-0'); var a=0;});\n",
       "</script>\n",
       "</div></div><div class=\"b-navbutton\"><span class=\"top\"></span><span class=\"middle\"></span><span class=\"bottom\"></span></div></div></div><div class=\"b-sitenav-all\" style=\"display: none;\"><div class=\"l-wrap\"><div id=\"sitenavAll\"></div><a class=\"b-sitenav-all__trigger\" href=\"#\"></a></div></div><div class=\"b-mainnav\" id=\"mainnav\"><div class=\"l-wrap\"><ul class=\"b-mainnav__list\"><li class=\"b-mainnav__item\" data-list-id=\"1013170743\"><a href=\"/\">Home</a></li><li class=\"b-mainnav__item\" data-list-id=\"1078032086\"><a data-for=\"#parent-1078032086\" href=\"/world/\">World</a></li><li class=\"b-mainnav__item\" data-list-id=\"1013169953\"><a href=\"/business/\">Business</a></li><li class=\"b-mainnav__item\" data-list-id=\"1013170313\"><a href=\"/analysis/\">Opinion</a></li><li class=\"b-mainnav__item\" data-list-id=\"1013170175\"><a href=\"/science/\">Tech</a></li><li class=\"b-mainnav__item\" data-list-id=\"1057710127\"><a href=\"/viral/\">Viral</a></li><li class=\"b-mainnav__item\" data-list-id=\"1013170787\"><a data-for=\"#parent-1013170787\" href=\"/radio/\">Radio</a></li><li class=\"b-mainnav__item\" data-list-id=\"1013170249\"><a data-for=\"#parent-1013170249\" href=\"/multimedia/\">Multimedia</a></li></ul><span class=\"b-mainnav__control\"></span></div><div class=\"b-mainnav__2level\" id=\"parent-1078032086\"><div class=\"l-wrap\"><ul class=\"b-mainnav__2level-list\"><li><a href=\"/uk/\">UK</a></li><li><a href=\"/us/\">US</a></li><li><a href=\"/india/\">India</a></li><li><a href=\"/europe/\">Europe</a></li><li><a href=\"/russia/\">Russia</a></li><li><a href=\"/middleeast/\">Middle East</a></li><li><a href=\"/latam/\">Latin America</a></li><li><a href=\"/asia/\">Asia &amp; Pacific</a></li><li><a href=\"/africa/\">Africa</a></li></ul></div></div><div class=\"b-mainnav__2level\" id=\"parent-1013170787\"><div class=\"l-wrap\"><ul class=\"b-mainnav__2level-list\"><li><a href=\"/radio_brave_new_world/\">Brave New World</a></li><li><a href=\"/radio_by_any_means/\">By Any Means Necessary</a></li><li><a href=\"/radio_double_down/\">Double Down</a></li><li><a href=\"/radio_loud_and_clear/\">Loud &amp; Clear</a></li><li><a href=\"/radio_the_critical_hour/\">The Critical Hour</a></li><li><a href=\"/radio_fault_lines/\">Fault Lines</a></li><li><a href=\"/radio-shooting-from-the-lip/\">Shooting from the Lip</a></li><li><a href=\"/radio-moats/\">The Mother of All Talk Shows</a></li><li><a href=\"/radio-political-misfits/\">Political Misfits</a></li></ul></div></div><div class=\"b-mainnav__2level\" id=\"parent-1013170249\"><div class=\"l-wrap\"><ul class=\"b-mainnav__2level-list\"><li><a href=\"/cartoons/\">Cartoons</a></li><li><a href=\"/infographics/\">Infographics</a></li><li><a href=\"/video/\">Video</a></li><li><a href=\"/photo/\">Photo</a></li></ul></div></div></div><div class=\"b-header__nav\"><div class=\"l-wrap\"><div class=\"b-header__nav-radio\">Listen Live<span class=\"b-header__nav-radio-play js-openRadio js-popup\" data-locale=\"0\" data-ssl=\"s\" data-url=\"https://nfw.ria.ru/flv/audio.aspx?ID=40881855&amp;type=mp3\"></span></div><div class=\"b-header__nav-social\"><ul><li class=\"b-header__nav-social-item fb\"><a href=\"https://facebook.com/SputnikNews\" target=\"_blank\"></a></li><li class=\"b-header__nav-social-item tw\"><a href=\"https://twitter.com/SputnikInt\" target=\"_blank\"></a></li><li class=\"b-header__nav-social-item ins\"><a href=\"https://instagram.com/sputnik_news\" target=\"_blank\"></a></li><li class=\"b-header__nav-social-item soundcloud\"><a href=\"https://soundcloud.com/radiosputnik\" target=\"_blank\"></a></li><li class=\"b-header__nav-social-item youtube\"><a href=\"https://youtube.com/c/SputnikInternational\" target=\"_blank\"></a></li><li class=\"b-header__nav-social-item rss\"><a href=\"/export/rss2/archive/index.xml\" target=\"_blank\"></a></li><li class=\"b-header__nav-social-item tiktok\"><a href=\"https://vm.tiktok.com/bd27n7/\" target=\"_blank\"></a></li></ul><ul class=\"hello\"></ul></div><div class=\"b-header__nav-search\"><a href=\"/search/\">Search</a><form action=\"/search/\" class=\"b-header__nav-form\"><input autocomplete=\"off\" class=\"b-header__nav-form-text\" name=\"query\" type=\"text\"/><input class=\"b-header__nav-form-submit\" type=\"submit\" value=\"\"/></form></div></div></div><div class=\"widgetcovid19\"><div class=\"l-wrap\"><a class=\"widgetcovid19-link\" href=\"/tags/covid-19/\"><div class=\"widgetcovid19-title\"><div class=\"widgetcovid19-ico\"><svg fill=\"none\" height=\"26\" viewbox=\"0 0 25 26\" width=\"25\" xmlns=\"http://www.w3.org/2000/svg\"><path d=\"M24.983 13.0131C24.9289 12.7386 24.7201 12.5105 24.4533 12.4254C24.086 12.3094 23.7342 12.4641 23.5486 12.7386L22.064 12.4409C21.2714 12.2824 20.676 11.6522 20.5175 10.8635C20.5136 10.8519 20.5136 10.8403 20.5098 10.8287C20.3435 10.0361 20.6374 9.22031 21.3062 8.76023L22.5511 7.90192C22.8334 8.08363 23.2161 8.08363 23.5061 7.82846C23.7149 7.64675 23.8154 7.35291 23.7574 7.07841C23.6414 6.541 23.0731 6.29356 22.6207 6.52167C22.3617 6.65312 22.207 6.90829 22.1877 7.17893L20.7495 7.66608C19.984 7.92512 19.1527 7.67768 18.6192 7.07068C18.6114 7.06294 18.6037 7.05521 18.596 7.04361C18.0586 6.44048 17.9078 5.58604 18.2519 4.85918L18.9014 3.49053C19.2339 3.50599 19.5664 3.31655 19.694 2.94925C19.7868 2.68635 19.7249 2.38091 19.5393 2.176C19.172 1.77005 18.5573 1.83964 18.2751 2.26493C18.1166 2.5085 18.1088 2.8062 18.2287 3.04978L17.2312 4.18645C16.6976 4.79345 15.8509 4.99063 15.0854 4.73546C15.0738 4.73159 15.0622 4.72773 15.0506 4.72386C14.2851 4.47256 13.7284 3.80756 13.6626 3.00338L13.5389 1.49554C13.8366 1.34089 14.0261 1.01226 13.9565 0.633369C13.9062 0.358865 13.6974 0.12689 13.4345 0.0418322C12.9126 -0.128283 12.4138 0.242877 12.3829 0.749356C12.3674 1.03932 12.5105 1.29836 12.7347 1.45301L12.437 2.93765C12.2785 3.73024 11.6483 4.32564 10.8596 4.48415C10.848 4.48802 10.8364 4.48802 10.8248 4.49189C10.0322 4.65814 9.21645 4.3643 8.75636 3.69544L7.89805 2.45051C8.07977 2.16827 8.07977 1.78551 7.82846 1.49554C7.64675 1.28676 7.35291 1.18624 7.07841 1.24424C6.541 1.36022 6.29356 1.92856 6.52167 2.38091C6.65312 2.63995 6.90829 2.7946 7.17893 2.81393L7.66608 4.25218C7.92512 5.0177 7.67768 5.84894 7.07068 6.38248C7.06294 6.39022 7.05521 6.39795 7.04361 6.40568C6.44048 6.94309 5.58604 7.09387 4.85918 6.74978L3.49053 6.10025C3.50599 5.76775 3.31655 5.43525 2.94925 5.30767C2.68635 5.21488 2.38091 5.27674 2.176 5.46232C1.77005 5.82961 1.83964 6.44434 2.26493 6.72658C2.5085 6.8851 2.8062 6.89283 3.04978 6.77297L4.18645 7.77047C4.79345 8.30401 4.99063 9.15072 4.73546 9.91624C4.73159 9.92784 4.72773 9.93943 4.72386 9.95103C4.47256 10.7166 3.80756 11.2733 3.00338 11.339L1.49554 11.4627C1.34089 11.165 1.01226 10.9756 0.633369 11.0452C0.358865 11.0954 0.12689 11.3042 0.0418322 11.5671C-0.128283 12.0891 0.242877 12.5878 0.749356 12.6187C1.03932 12.6342 1.29836 12.4912 1.45301 12.2669L2.93765 12.5646C3.73024 12.7231 4.32564 13.3533 4.48415 14.142C4.48802 14.1536 4.48802 14.1652 4.49189 14.1768C4.65814 14.9694 4.3643 15.7852 3.69544 16.2453L2.45051 17.1036C2.16827 16.9219 1.78551 16.9219 1.49554 17.1732C1.28676 17.3549 1.18624 17.6487 1.24424 17.9232C1.36022 18.4607 1.92856 18.7081 2.38091 18.48C2.63995 18.3485 2.7946 18.0934 2.81393 17.8227L4.25218 17.3356C5.0177 17.0765 5.84894 17.324 6.38248 17.931C6.39022 17.9387 6.39795 17.9464 6.40568 17.958C6.94309 18.5612 7.09387 19.4156 6.74978 20.1425L6.10025 21.5111C5.76775 21.4957 5.43525 21.6851 5.30767 22.0524C5.21488 22.3153 5.27674 22.6207 5.46232 22.8256C5.82961 23.2316 6.44434 23.162 6.72658 22.7367C6.8851 22.4932 6.89283 22.1954 6.77297 21.9519L7.77047 20.8152C8.30401 20.2082 9.15072 20.011 9.91624 20.2662C9.92784 20.2701 9.93943 20.2739 9.95103 20.2778C10.7166 20.5291 11.2733 21.1941 11.339 21.9983L11.4627 23.5061C11.165 23.6608 10.9756 23.9894 11.0452 24.3683C11.0954 24.6428 11.3042 24.8748 11.5671 24.9598C12.0891 25.1299 12.5878 24.7588 12.6187 24.2523C12.6342 23.9623 12.4912 23.7033 12.2669 23.5486L12.5646 22.064C12.7231 21.2714 13.3533 20.676 14.142 20.5175C14.1536 20.5136 14.1652 20.5136 14.1768 20.5098C14.9694 20.3435 15.7852 20.6374 16.2453 21.3062L17.1036 22.5511C16.9219 22.8334 16.9219 23.2161 17.1732 23.5061C17.3549 23.7149 17.6487 23.8154 17.9232 23.7574C18.4607 23.6414 18.7081 23.0731 18.48 22.6207C18.3485 22.3617 18.0934 22.207 17.8227 22.1877L17.3356 20.7495C17.0765 19.984 17.324 19.1527 17.931 18.6192C17.9387 18.6114 17.9464 18.6037 17.958 18.596C18.5612 18.0586 19.4156 17.9078 20.1425 18.2519L21.5111 18.9014C21.4957 19.2339 21.6851 19.5664 22.0524 19.694C22.3153 19.7868 22.6207 19.7249 22.8256 19.5393C23.2316 19.172 23.162 18.5573 22.7367 18.2751C22.4932 18.1166 22.1954 18.1088 21.9519 18.2287L20.8152 17.2312C20.2082 16.6976 20.011 15.8509 20.2662 15.0854C20.2701 15.0738 20.2739 15.0622 20.2778 15.0506C20.5291 14.2851 21.1941 13.7284 21.9983 13.6626L23.5061 13.5389C23.6298 13.7786 23.8734 13.9526 24.1634 13.9681C24.666 14.0029 25.0913 13.5505 24.983 13.0131Z\"></path></svg></div>COVID-19 global data</div><div class=\"widgetcovid19-item\"><div class=\"widgetcovid19-item-descr\">Confirmed cases: </div><div class=\"widgetcovid19-item-value\"> </div></div><div class=\"widgetcovid19-item\"><div class=\"widgetcovid19-item-descr\">Recoveries: </div><div class=\"widgetcovid19-item-value\"> </div></div><div class=\"widgetcovid19-item\"><div class=\"widgetcovid19-item-descr\">Deaths: </div><div class=\"widgetcovid19-item-value\"> </div></div><div class=\"widgetcovid19-more\"></div></a><div class=\"widgetcovid19-copyright\"><a href=\"https://gisanddata.maps.arcgis.com/apps/opsdashboard/index.html#/bda7594740fd40299423467b48e9ecf6\">JHU CSSE</a></div></div></div><script>\n",
       "                (function($) {\n",
       "                    var hash = (~~(Math.random() * 100000)).toString(32);\n",
       "                    $.ajax({\n",
       "                        url: 'https://dc.ria.ru/dcnode/releases/prj-TKgzor/data/data.json?' + hash,\n",
       "                        type: 'GET',\n",
       "                        dataType: 'json'\n",
       "                    }).success(function(data) {\n",
       "                        if (typeof data.slides !== 'undefined') {\n",
       "                            if (typeof data.slides[0].sick !== 'undefined') $('.widgetcovid19 .widgetcovid19-item-value').eq(0).text(parseInt(data.slides[0].sick).toLocaleString());\n",
       "                            if (typeof data.slides[0].healed !== 'undefined') $('.widgetcovid19 .widgetcovid19-item-value').eq(1).text(parseInt(data.slides[0].healed ).toLocaleString());\n",
       "                            if (typeof data.slides[0].dead !== 'undefined') $('.widgetcovid19 .widgetcovid19-item-value').eq(2).text(parseInt(data.slides[0].dead ).toLocaleString());\n",
       "                        }\n",
       "                    });\n",
       "                })(jQuery);\n",
       "            </script><div class=\"b-breakingnews-double active\"><div class=\"l-wrap\"><div class=\"b-breakingnews-double__title\"><div class=\"b-breakingnews-double__pref\"><div class=\"b-breakingnews-double__nav\"><span class=\"b-breakingnews-double__prev\" style=\"display: none;\"></span><span class=\"b-breakingnews-double__next\" style=\"display: none;\"></span></div></div><ul class=\"b-breakingnews-double__list\"><li class=\"b-breakingnews-double__message m-active\" data-list=\"LIVE\"><span>LIVE:</span><a href=\"/europe/202007181079922099-protesters-rally-in-france-against-police-brutality-in-memory-of-adama-traore---video/\">Protesters Rally in France Against Police Brutality in Memory of Adama Traore - Video</a></li></ul></div></div></div><div class=\"l-wrap l-header breakingnews\"><div class=\"b-header\"><a class=\"b-header__logo m-inverse\" href=\"/\"></a></div></div><div class=\"l-main m-oh\"><div class=\"l-wrap m-oh l-wrapper\"><div class=\"l-maincolumn\"><div class=\"b-header__plain\"><span class=\"b-header__plain-title\">Military &amp; Intelligence<a class=\"b-header__plain-rss\" href=\"/export/rss2/military/index.xml\"></a></span></div><div class=\"b-plainlist\"><ul class=\"b-plainlist__list\"><li class=\"b-plainlist__item\" data-next=\"/military/20190701/more.html?id=1076097849&amp;date=20190629T113302\"><div class=\"b-plainlist__img\"><a href=\"/military/201907011076113676-50-iaf-an-32-military-transport-aircrafts-upgrade-waiting-ukraine-kits-indian-defence-ministry/\"><img alt=\"A soldier stands guard as an Indian Air Force AN-32 transport aircraft.\" class=\"\" height=\"450\" src=\"https://cdn1.img.sputniknews.com/img/104352/94/1043529438_726:16:2200:1056_638x450_80_0_0_5f89bc0320b838c3ebb021ead098a192.jpg\" title=\"A soldier stands guard as an Indian Air Force AN-32 transport aircraft.\" width=\"638\"/></a></div><div class=\"b-plainlist__info\"><div class=\"b-plainlist__credentials\"><span class=\"b-plainlist__date\">22:38  GMT 01.07.2019</span></div><h2 class=\"b-plainlist__title\"><a href=\"/military/201907011076113676-50-iaf-an-32-military-transport-aircrafts-upgrade-waiting-ukraine-kits-indian-defence-ministry/\">50 IAF AN-32 Military Transport Aircraft Await Ukraine Kits for Upgrade - Indian Defence Ministry</a></h2><div class=\"b-plainlist__announce\"><a href=\"/military/201907011076113676-50-iaf-an-32-military-transport-aircrafts-upgrade-waiting-ukraine-kits-indian-defence-ministry/\">The Indian Air Force has said it will replace the AN-32 transport aircraft in the future.  However, \"all transport aircraft in IAF cleared for flying are fully airworthy,\" Defence ministry said. In addition to the crash on 3 June this year, only one AN-32 has been lost within the past four years, in July 2016 while flying over the Bay of Bengal.</a></div></div></li><li class=\"b-plainlist__item\" data-next=\"/military/20190701/more.html?id=1076097849&amp;date=20190629T113302\"><div class=\"b-plainlist__img\"><a href=\"/military/201907011076117309-us-academics-generals-unbottle-russia-fears-in-pentagon-white-paper-on-gray-zone-ops/\"><img alt=\"Phone Tower\" class=\"\" height=\"450\" src=\"https://cdn1.img.sputniknews.com/img/102318/56/1023185655_122:0:3025:2048_638x450_80_0_0_340c2f4dcf06a7d8b51a93f36438a192.jpg\" title=\"Phone Tower\" width=\"638\"/></a></div><div class=\"b-plainlist__info\"><div class=\"b-plainlist__credentials\"><span class=\"b-plainlist__date\">20:09  GMT 01.07.2019</span></div><h2 class=\"b-plainlist__title\"><a href=\"/military/201907011076117309-us-academics-generals-unbottle-russia-fears-in-pentagon-white-paper-on-gray-zone-ops/\">US Academics, Generals Unbottle Russia Fears in Pentagon White Paper on ‘Gray Zone’ Ops</a></h2><div class=\"b-plainlist__announce\"><a href=\"/military/201907011076117309-us-academics-generals-unbottle-russia-fears-in-pentagon-white-paper-on-gray-zone-ops/\">A New Pentagon white paper argues the US is falling behind Russia in so-called “gray zone competition,” warning that a “polarized” America has encountered a “narrative problem” that blocks it from countering Russian “political warfare” around the globe.</a></div></div></li><li class=\"b-plainlist__item\" data-next=\"/military/20190701/more.html?id=1076097849&amp;date=20190629T113302\"><div class=\"b-plainlist__img\"><a href=\"/military/201907011076117041-us-navy-considers-destroyer-upgrades-to-counter-new-weapons-from-china-russia/\"><img alt=\"The Republic of Korea destroyers Sejong the Great and Yang Manchun, the Arleigh Burke-class guided-missile destroyers USS Wayne E. Meyer, USS Michael Murphy and USS Stethem, the Ticonderoga-class guided-missile cruiser USS Lake Champlain and the Nimitz-class aircraft carrier USS Carl Vinson transit the western Pacific Ocean on May 3, 2017. Picture taken on May 3, 2017\" class=\"\" height=\"450\" src=\"https://cdn1.img.sputniknews.com/img/105360/17/1053601755_75:513:2385:2141_638x450_80_0_0_1378408d0bd36d6ebf83d8919113df06.jpg\" title=\"The Republic of Korea destroyers Sejong the Great and Yang Manchun, the Arleigh Burke-class guided-missile destroyers USS Wayne E. Meyer, USS Michael Murphy and USS Stethem, the Ticonderoga-class guided-missile cruiser USS Lake Champlain and the Nimitz-class aircraft carrier USS Carl Vinson transit the western Pacific Ocean on May 3, 2017. Picture taken on May 3, 2017\" width=\"638\"/></a></div><div class=\"b-plainlist__info\"><div class=\"b-plainlist__credentials\"><span class=\"b-plainlist__date\">19:00  GMT 01.07.2019</span></div><h2 class=\"b-plainlist__title\"><a href=\"/military/201907011076117041-us-navy-considers-destroyer-upgrades-to-counter-new-weapons-from-china-russia/\">US Navy Considers Destroyer Upgrades to Counter New Weapons From China, Russia</a></h2><div class=\"b-plainlist__announce\"><a href=\"/military/201907011076117041-us-navy-considers-destroyer-upgrades-to-counter-new-weapons-from-china-russia/\">The US Navy is considering upgrading its Arleigh Burke-class destroyers as China and Russia continue to advance their defense technology.\n",
       "</a></div></div></li><li class=\"b-plainlist__item\" data-next=\"/military/20190701/more.html?id=1076097849&amp;date=20190629T113302\"><div class=\"b-plainlist__img\"><a href=\"/military/201907011076116668-china-intercontinental-ballistic-missile-test/\"><img alt=\"File photo, a Chinese Navy nuclear-powered submarine sails during an international fleet review to celebrate the 60th anniversary of the founding of People's Liberation Army Navy\" class=\"\" height=\"450\" src=\"https://cdn1.img.sputniknews.com/img/102386/74/1023867447_82:0:2917:2000_638x450_80_0_0_aa3a979f4f5fe2922e37b7e87b0c63c2.jpg\" title=\"File photo, a Chinese Navy nuclear-powered submarine sails during an international fleet review to celebrate the 60th anniversary of the founding of People's Liberation Army Navy\" width=\"638\"/></a></div><div class=\"b-plainlist__info\"><div class=\"b-plainlist__credentials\"><span class=\"b-plainlist__date\">17:38  GMT 01.07.2019</span></div><h2 class=\"b-plainlist__title\"><a href=\"/military/201907011076116668-china-intercontinental-ballistic-missile-test/\">‘Big Waves’: China Confirms Successful Testing of Its New Submarine-Launched Ballistic Missile</a></h2><div class=\"b-plainlist__announce\"><a href=\"/military/201907011076116668-china-intercontinental-ballistic-missile-test/\">In early June, residents in several provinces in central China claimed that they had spotted a mysterious light moving across the sky, with the People's Liberation Army Rocket Force and Chinese Navy hinting at the time that it could be a secret military test.</a></div></div></li><li class=\"b-plainlist__item\" data-next=\"/military/20190701/more.html?id=1076097849&amp;date=20190629T113302\"><div class=\"b-plainlist__img\"><a href=\"/military/201907011076116063-sweden-graded-ground-to-air-defence-systems/\"><img alt=\"Swedish armoured personnel carriers are seen in Visby harbour, island of Gotland, Sweden, 14 September 2016. Picture taken 14 September 2016.\" class=\"\" height=\"450\" src=\"https://cdn1.img.sputniknews.com/img/105159/94/1051599449_191:0:3500:2333_638x450_80_0_0_81efe1eb4e8596eb41d5064a9e801b67.jpg\" title=\"Swedish armoured personnel carriers are seen in Visby harbour, island of Gotland, Sweden, 14 September 2016. Picture taken 14 September 2016.\" width=\"638\"/></a></div><div class=\"b-plainlist__info\"><div class=\"b-plainlist__credentials\"><span class=\"b-plainlist__date\">16:13  GMT 01.07.2019</span></div><h2 class=\"b-plainlist__title\"><a href=\"/military/201907011076116063-sweden-graded-ground-to-air-defence-systems/\">Sweden to Deploy Upgraded Ground-to-Air Defence Systems to Gotland, Citing Alleged Russian Threat - Reports</a></h2><div class=\"b-plainlist__announce\"><a href=\"/military/201907011076116063-sweden-graded-ground-to-air-defence-systems/\">In May, the Swedish Defence Forum submitted a report to the country's defence minister with a list of propositions dubbed \"the greatest reinforcement since the 1940s\" amid the alleged \"Russian threat\".</a></div></div></li><li class=\"b-plainlist__item\" data-next=\"/military/20190701/more.html?id=1076097849&amp;date=20190629T113302\"><div class=\"b-plainlist__img\"><a href=\"/military/201907011076116306-russian-navy-monitoring-nato-drills/\"><img alt=\"The destroyer USS Donald Cook during the joint Ukrainian-US naval drill Sea Breeze 2015\" class=\"\" height=\"450\" src=\"https://cdn1.img.sputniknews.com/img/102660/06/1026600666_0:7:2883:2040_638x450_80_0_0_aa705c3ce84329f0f17c28217581fd51.jpg\" title=\"The destroyer USS Donald Cook during the joint Ukrainian-US naval drill Sea Breeze 2015\" width=\"638\"/></a></div><div class=\"b-plainlist__info\"><div class=\"b-plainlist__credentials\"><span class=\"b-plainlist__date\">16:09  GMT 01.07.2019</span></div><h2 class=\"b-plainlist__title\"><a href=\"/military/201907011076116306-russian-navy-monitoring-nato-drills/\">Russian Navy Monitoring NATO's Sea Breeze-2019 Naval Drills - Defence Ministry</a></h2><div class=\"b-plainlist__announce\"><a href=\"/military/201907011076116306-russian-navy-monitoring-nato-drills/\">MOSCOW (Sputnik) - The Black Sea Fleet is closely monitoring NATO Sea Breeze-2019 naval drills in the Black Sea region to react to possible emergency situations, the Russian Defence Ministry said Monday.\n",
       "</a></div></div></li><li class=\"b-plainlist__item\" data-next=\"/military/20190701/more.html?id=1076097849&amp;date=20190629T113302\"><div class=\"b-plainlist__img\"><a href=\"/europe/201907011076112308-uk-defence-chief-huawei-leak-government/\"><img alt=\"In this Thursday, Jan. 4, 2018 Picture Britain's Defense Secretary Gavin Williamson holds a news conference in British embassy in Baghdad, Iraq. \" class=\"\" height=\"450\" src=\"https://cdn1.img.sputniknews.com/img/106256/05/1062560526_27:0:4432:3107_638x450_80_0_0_b9feaba089c89dec167d91e24690d0b8.jpg\" title=\"In this Thursday, Jan. 4, 2018 Picture Britain's Defense Secretary Gavin Williamson holds a news conference in British embassy in Baghdad, Iraq. \" width=\"638\"/></a></div><div class=\"b-plainlist__info\"><div class=\"b-plainlist__credentials\"><span class=\"b-plainlist__date\">09:39  GMT 01.07.2019</span></div><h2 class=\"b-plainlist__title\"><a href=\"/europe/201907011076112308-uk-defence-chief-huawei-leak-government/\">Ex-UK Defence Chief, Sacked Over Huawei Leak, Cleared to Return to Gov’t – Reports</a></h2><div class=\"b-plainlist__announce\"><a href=\"/europe/201907011076112308-uk-defence-chief-huawei-leak-government/\">The comeback chances of disgraced Gavin Williamson, who was booted out of Theresa May’s cabinet over a scandal, are said to be up again as his rumoured ally Boris Johnson is ahead in the Conservative Party leadership contest.</a></div></div></li><li class=\"b-plainlist__item\" data-next=\"/military/20190701/more.html?id=1076097849&amp;date=20190629T113302\"><div class=\"b-plainlist__img\"><a href=\"/military/201907011076111113-south-korea-unidentified-object-flying-over-dmz/\"><img alt=\"A North Korean flag flutters in the propaganda village of Gijungdong as seen from a South Korean military check point of the truce village of Panmunjom in the Demilitarized Zone dividing the two Koreas on November 12, 2014\" class=\"\" height=\"450\" src=\"https://cdn1.img.sputniknews.com/img/103292/17/1032921794_213:0:4517:3036_638x450_80_0_0_902493ba2b890ff9bd4b4825f4c83114.jpg\" title=\"A North Korean flag flutters in the propaganda village of Gijungdong as seen from a South Korean military check point of the truce village of Panmunjom in the Demilitarized Zone dividing the two Koreas on November 12, 2014\" width=\"638\"/></a></div><div class=\"b-plainlist__info\"><div class=\"b-plainlist__credentials\"><span class=\"b-plainlist__date\">08:37  GMT 01.07.2019</span></div><h2 class=\"b-plainlist__title\"><a href=\"/military/201907011076111113-south-korea-unidentified-object-flying-over-dmz/\">South Korea Reports 'Unidentified Object' Flying Over DMZ Day After Trump's Visit</a></h2><div class=\"b-plainlist__announce\"><a href=\"/military/201907011076111113-south-korea-unidentified-object-flying-over-dmz/\">Yonhap News Agency has claimed, citing anonymous military officials, that the trace of the flight could have been left by a helicopter, adding that the object flew from north to south across the demarcation line between the two Koreas. The agency also reported that Seoul had launched fighter jets and helicopters in response.</a></div></div></li><li class=\"b-plainlist__item\" data-next=\"/military/20190701/more.html?id=1076097849&amp;date=20190629T113302\"><div class=\"b-plainlist__img\"><a href=\"/military/201907011076110138-norway-f-35-thousands-hours/\"><img alt=\"F-35 jet sits on the tarmac (File)\" class=\"\" height=\"450\" src=\"https://cdn1.img.sputniknews.com/img/107603/42/1076034258_156:0:3059:2048_638x450_80_0_0_a549533261eaecc3bc389ab14c06d824.jpg\" title=\"F-35 jet sits on the tarmac (File)\" width=\"638\"/></a></div><div class=\"b-plainlist__info\"><div class=\"b-plainlist__credentials\"><span class=\"b-plainlist__date\">05:24  GMT 01.07.2019</span></div><h2 class=\"b-plainlist__title\"><a href=\"/military/201907011076110138-norway-f-35-thousands-hours/\">Norway Spends Thousands of Working Hours Trying to Figure Out Total F-35 Cost</a></h2><div class=\"b-plainlist__announce\"><a href=\"/military/201907011076110138-norway-f-35-thousands-hours/\">Some Norwegian politicians believe the uncertainty surrounding the price of the US F-35 fighter jets, the new backbone of the country's air force, is “absurd”.</a></div></div></li><li class=\"b-plainlist__item\" data-next=\"/military/20190701/more.html?id=1076097849&amp;date=20190629T113302\"><div class=\"b-plainlist__img\"><a href=\"/military/201906301076108883-russia-usa-inspections-new-start-treaty/\"><img alt=\"A Boeing B-52 Stratofortress, tail number 58-0171, nicknamed Lil Peach II is seen chopped up per the New START Treaty (Strategic Arms Reduction Treaty) with Russia, at the 309th Aerospace Maintenance and Regeneration Group boneyard at Davis-Monthan Air Force Base in Tucson, Ariz\" class=\"\" height=\"450\" src=\"https://cdn1.img.sputniknews.com/img/102260/38/1022603804_22:0:1977:1379_638x450_80_0_0_416faa2168cbd5812404d48f6121d645.jpg\" title=\"A Boeing B-52 Stratofortress, tail number 58-0171, nicknamed Lil Peach II is seen chopped up per the New START Treaty (Strategic Arms Reduction Treaty) with Russia, at the 309th Aerospace Maintenance and Regeneration Group boneyard at Davis-Monthan Air Force Base in Tucson, Ariz\" width=\"638\"/></a></div><div class=\"b-plainlist__info\"><div class=\"b-plainlist__credentials\"><span class=\"b-plainlist__date\">22:24  GMT 30.06.2019</span></div><h2 class=\"b-plainlist__title\"><a href=\"/military/201906301076108883-russia-usa-inspections-new-start-treaty/\">Russia, US Conducted Mutual Inspections Under New START Treaty Last Week- Russian Military</a></h2><div class=\"b-plainlist__announce\"><a href=\"/military/201906301076108883-russia-usa-inspections-new-start-treaty/\">MOSCOW (Sputnik) - Russia and the United States last week carried out mutual inspections in the framework of the New START nuclear arms control treaty, the Russian Defence Ministry's official newspaper Krasnaya Zvezda reported.</a></div></div></li><li class=\"b-plainlist__item\" data-next=\"/military/20190701/more.html?id=1076097849&amp;date=20190629T113302\"><div class=\"b-plainlist__img\"><a href=\"/military/201906301076107992-germany-cut-military-spending-affront-us/\"><img alt=\"A German Bundeswehr soldier of the 122th Infantry Battalion\" class=\"\" height=\"450\" src=\"https://cdn1.img.sputniknews.com/img/105251/03/1052510376_102:0:3641:2496_638x450_80_0_0_1a1370f6c59ac72fe2cacad386a22b45.jpg\" title=\"A German Bundeswehr soldier of the 122th Infantry Battalion\" width=\"638\"/></a></div><div class=\"b-plainlist__info\"><div class=\"b-plainlist__credentials\"><span class=\"b-plainlist__date\">16:27  GMT 30.06.2019</span></div><h2 class=\"b-plainlist__title\"><a href=\"/military/201906301076107992-germany-cut-military-spending-affront-us/\">Germany Plans to Cut Military Spending in 2020-2023 in Affront to US - Report</a></h2><div class=\"b-plainlist__announce\"><a href=\"/military/201906301076107992-germany-cut-military-spending-affront-us/\">Germany’s defence budget has been an apple of discord in relations between Berlin and Washington as the US president has repeatedly criticised its ally across the Atlantic for missing the NATO target of spending 2% of GDP on the armed forces.</a></div></div></li><li class=\"b-plainlist__item\" data-next=\"/military/20190701/more.html?id=1076097849&amp;date=20190629T113302\"><div class=\"b-plainlist__img\"><a href=\"/military/201906301076107610-betrayal-uk-defence-chiefs-slammed-over-spending-taxpayers-money-on-luxury-hotels/\"><img alt=\" Ministry of Defence Main Building. London, UK\" class=\"\" height=\"450\" src=\"https://cdn1.img.sputniknews.com/img/106363/79/1063637903_129:0:1150:720_638x450_80_0_0_e80a55205b29ded4d3d42c74469a0ec0.jpg\" title=\" Ministry of Defence Main Building. London, UK\" width=\"638\"/></a></div><div class=\"b-plainlist__info\"><div class=\"b-plainlist__credentials\"><span class=\"b-plainlist__date\">14:27  GMT 30.06.2019</span></div><h2 class=\"b-plainlist__title\"><a href=\"/military/201906301076107610-betrayal-uk-defence-chiefs-slammed-over-spending-taxpayers-money-on-luxury-hotels/\">'Betrayal': UK Defence Chiefs Slammed Over Spending Taxpayers' Money on Luxury Hotels</a></h2><div class=\"b-plainlist__announce\"><a href=\"/military/201906301076107610-betrayal-uk-defence-chiefs-slammed-over-spending-taxpayers-money-on-luxury-hotels/\">The British Ministry of Defence reportedly preferred to travel abroad in style, paying thousands of dollars to stay in Dubai, Cyprus, and the US, amid housing problems in the army and fears that the military will slide into a financial black hole, The Mirror reported.</a></div></div></li><li class=\"b-plainlist__item\" data-next=\"/military/20190701/more.html?id=1076097849&amp;date=20190629T113302\"><div class=\"b-plainlist__img\"><a href=\"/military/201906301076107523-russia-starts-producing-s-500-missile-system/\"><img alt=\"Transporters-launchers for S-400 Triumf missile systems at the final rehearsal of the military parade to mark the 73rd anniversary of Victory in the Great Patriotic War\" class=\"\" height=\"450\" src=\"https://cdn1.img.sputniknews.com/img/106750/92/1067509209_145:0:3048:2047_638x450_80_0_0_34bf95c7b04c20408c801abd726a5d19.jpg\" title=\"Transporters-launchers for S-400 Triumf missile systems at the final rehearsal of the military parade to mark the 73rd anniversary of Victory in the Great Patriotic War\" width=\"638\"/></a></div><div class=\"b-plainlist__info\"><div class=\"b-plainlist__credentials\"><span class=\"b-plainlist__date\">13:56  GMT 30.06.2019</span></div><h2 class=\"b-plainlist__title\"><a href=\"/military/201906301076107523-russia-starts-producing-s-500-missile-system/\">Russia Starts Producing S-500 Missile System - Developer</a></h2><div class=\"b-plainlist__announce\"><a href=\"/military/201906301076107523-russia-starts-producing-s-500-missile-system/\">Deputy Prime Minister Yury Borisov has previously said that the S-500 anti-ballistic missile system would be received by the Russian military in the coming years.</a></div></div></li><li class=\"b-plainlist__item\" data-next=\"/military/20190701/more.html?id=1076097849&amp;date=20190629T113302\"><div class=\"b-plainlist__img\"><a href=\"/military/201906301076107312-trump-us-nuclear-weapons/\"><img alt=\"\" class=\"\" height=\"450\" src=\"https://cdn1.img.sputniknews.com/img/107610/72/1076107263_164:0:3068:2048_638x450_80_0_0_68f027e3fddcb00d0a166fd47696390b.jpg\" title=\"\" width=\"638\"/></a></div><div class=\"b-plainlist__info\"><div class=\"b-plainlist__credentials\"><span class=\"b-plainlist__date\">13:14  GMT 30.06.2019</span></div><h2 class=\"b-plainlist__title\"><a href=\"/military/201906301076107312-trump-us-nuclear-weapons/\">Trump Says US Revamping Nuclear Weapons But Hopes Will Never Use Them</a></h2><div class=\"b-plainlist__announce\"><a href=\"/military/201906301076107312-trump-us-nuclear-weapons/\">TOKYO (Sputnik) - US President Donald Trump said Sunday his country was upgrading its nuclear arsenal and making new weapons that it hopefully would never use.</a></div></div></li><li class=\"b-plainlist__item\" data-next=\"/military/20190701/more.html?id=1076097849&amp;date=20190629T113302\"><div class=\"b-plainlist__img\"><a href=\"/military/201906301076103913-russian-aerobatic-teams-perform-stunts-at-army-2019-military-exhibition-video/\"><img alt=\"\" class=\"\" height=\"450\" src=\"https://cdn1.img.sputniknews.com/img/107610/36/1076103683_75:-1:2977:2047_638x450_80_0_0_8740312bf5e69735283941c93ad426d0.jpg\" title=\"\" width=\"638\"/></a></div><div class=\"b-plainlist__info\"><div class=\"b-plainlist__credentials\"><span class=\"b-plainlist__date\">11:34  GMT 30.06.2019</span></div><h2 class=\"b-plainlist__title\"><a href=\"/military/201906301076103913-russian-aerobatic-teams-perform-stunts-at-army-2019-military-exhibition-video/\">Russian Aerobatic Teams Perform Stunts at Army-2019 Military Exhibition (Video)</a></h2><div class=\"b-plainlist__announce\"><a href=\"/military/201906301076103913-russian-aerobatic-teams-perform-stunts-at-army-2019-military-exhibition-video/\">An airshow as part of the International Military-Technical Forum Army-2019 is being held this Sunday with three different teams, the Russian Knights, Swifts, and Golden Eagles.</a></div></div></li><li class=\"b-plainlist__item\" data-next=\"/military/20190701/more.html?id=1076097849&amp;date=20190629T113302\"><div class=\"b-plainlist__img\"><a href=\"/military/201906301076103760-russian-aerobatic-teams-stunts-army-exhibition/\"><img alt=\"\" class=\"\" height=\"450\" src=\"https://cdn1.img.sputniknews.com/img/107610/37/1076103777_266:-1:3169:2048_638x450_80_0_0_643916e20c631b44c04535dc67ccb041.jpg\" title=\"\" width=\"638\"/></a></div><div class=\"b-plainlist__info\"><div class=\"b-plainlist__credentials\"><span class=\"b-plainlist__date\">09:06  GMT 30.06.2019</span></div><h2 class=\"b-plainlist__title\"><a href=\"/military/201906301076103760-russian-aerobatic-teams-stunts-army-exhibition/\">Army-2019 Military Exhibition Concludes in Moscow Region (Video)</a></h2><div class=\"b-plainlist__announce\"><a href=\"/military/201906301076103760-russian-aerobatic-teams-stunts-army-exhibition/\">The Army-2019 military expo concludes in the Moscow Region's Alabino with a closing show featuring real battle simulations using the newest weapons, tanks, and aircraft.</a></div></div></li><li class=\"b-plainlist__item\" data-next=\"/military/20190701/more.html?id=1076097849&amp;date=20190629T113302\"><div class=\"b-plainlist__img\"><a href=\"/asia/201906301076102609-france-patrols-south-china-sea-fury/\"><img alt=\"Chinese structures and an airstrip on the man-made Subi Reef at the Spratly group of islands in the South China Sea are seen from a Philippine Air Force C-130 transport plane of the Philippine Air Force, Friday, April 21, 2017\" class=\"\" height=\"450\" src=\"https://cdn1.img.sputniknews.com/img/106414/75/1064147524_255:0:4687:3126_638x450_80_0_0_2cfb3a3da7746b39b33effaf9e07db18.jpg\" title=\"Chinese structures and an airstrip on the man-made Subi Reef at the Spratly group of islands in the South China Sea are seen from a Philippine Air Force C-130 transport plane of the Philippine Air Force, Friday, April 21, 2017\" width=\"638\"/></a></div><div class=\"b-plainlist__info\"><div class=\"b-plainlist__credentials\"><span class=\"b-plainlist__date\">06:38  GMT 30.06.2019</span></div><h2 class=\"b-plainlist__title\"><a href=\"/asia/201906301076102609-france-patrols-south-china-sea-fury/\">France Vows to Continue Patrols in South China Sea, Risking Provoking Beijing's Fury</a></h2><div class=\"b-plainlist__announce\"><a href=\"/asia/201906301076102609-france-patrols-south-china-sea-fury/\">France and the UK earlier pledged to send their warships to the waters claimed by China, who is said to have ramped up its military presence in the region. Beijing insists that the South China Sea is free and open for navigation, but warns that violating China’s sovereignty will not be tolerated.</a></div></div></li><li class=\"b-plainlist__item\" data-next=\"/military/20190701/more.html?id=1076097849&amp;date=20190629T113302\"><div class=\"b-plainlist__img\"><a href=\"/military/201906291076101262-russian-engineers-create-test-stealth-radar-invisible-to-enemy-aircraft-and-drones/\"><img alt=\"Servicemen at a radar of the missile defense system of Moscow.\" class=\"\" height=\"450\" src=\"https://cdn1.img.sputniknews.com/img/104031/45/1040314528_116:0:3019:2048_638x450_80_0_0_f6375db831b9fc759f9090b4cecdfd3e.jpg\" title=\"Servicemen at a radar of the missile defense system of Moscow.\" width=\"638\"/></a></div><div class=\"b-plainlist__info\"><div class=\"b-plainlist__credentials\"><span class=\"b-plainlist__date\">19:00  GMT 29.06.2019</span></div><h2 class=\"b-plainlist__title\"><a href=\"/military/201906291076101262-russian-engineers-create-test-stealth-radar-invisible-to-enemy-aircraft-and-drones/\">Russian Engineers Create, Test 'Stealth Radar' Invisible to Enemy Aircraft and Drones</a></h2><div class=\"b-plainlist__announce\"><a href=\"/military/201906291076101262-russian-engineers-create-test-stealth-radar-invisible-to-enemy-aircraft-and-drones/\">Until now, one of the traditional problems of military radar installations has been their vulnerability to attack, since the signals they send out in search of enemy aircraft are easily picked up by these same aircraft, betraying the radar's physical location.</a></div></div></li><li class=\"b-plainlist__item\" data-next=\"/military/20190701/more.html?id=1076097849&amp;date=20190629T113302\"><div class=\"b-plainlist__img\"><a href=\"/military/201906291076100905-uk-boasts-of-largest-baltic-naval-deployment-in-over-100-years-as-message-to-russia/\"><img alt=\"A British soldier looks back while walking to the HMS Albion warship of the British Royal Navy at anchor at port of Santander northern Spain, Tuesday, April 20, 2010.\" class=\"\" height=\"450\" src=\"https://cdn1.img.sputniknews.com/img/105866/36/1058663601_138:0:4001:2724_638x450_80_0_0_98bc922bee632a116e3033489bb6dcd6.jpg\" title=\"A British soldier looks back while walking to the HMS Albion warship of the British Royal Navy at anchor at port of Santander northern Spain, Tuesday, April 20, 2010.\" width=\"638\"/></a></div><div class=\"b-plainlist__info\"><div class=\"b-plainlist__credentials\"><span class=\"b-plainlist__date\">18:17  GMT 29.06.2019</span></div><h2 class=\"b-plainlist__title\"><a href=\"/military/201906291076100905-uk-boasts-of-largest-baltic-naval-deployment-in-over-100-years-as-message-to-russia/\">UK Boasts of 'Largest Baltic Naval Deployment in Over 100 Years' as 'Message' to Russia</a></h2><div class=\"b-plainlist__announce\"><a href=\"/military/201906291076100905-uk-boasts-of-largest-baltic-naval-deployment-in-over-100-years-as-message-to-russia/\">The last time Royal Navy vessels engaged in operations of a comparable scale in the Baltic Sea was during 'Operation Red Trek' in 1918-1919, when the UK attempted to eliminate the nascent Soviet republic as part of a wider Allied military intervention against Moscow during the Russian Civil War.</a></div></div></li><li class=\"b-plainlist__item\" data-next=\"/military/20190701/more.html?id=1076097849&amp;date=20190629T113302\"><div class=\"b-plainlist__img\"><a href=\"/military/201906291076097849-russia-turkey-s400-technology-transfer/\"><img alt=\"S-400\" class=\"\" height=\"450\" src=\"https://cdn1.img.sputniknews.com/img/107551/33/1075513306_84:0:2987:2048_638x450_80_0_0_96384dbf6373f0f07b7433ab35451d1f.jpg\" title=\"S-400\" width=\"638\"/></a></div><div class=\"b-plainlist__info\"><div class=\"b-plainlist__credentials\"><span class=\"b-plainlist__date\">11:33  GMT 29.06.2019</span></div><h2 class=\"b-plainlist__title\"><a href=\"/military/201906291076097849-russia-turkey-s400-technology-transfer/\">Russia-Turkey S-400 Contract Envisions Partial Technology Transfer - Kremlin</a></h2><div class=\"b-plainlist__announce\"><a href=\"/military/201906291076097849-russia-turkey-s400-technology-transfer/\">OSAKA (Sputnik) - The contract for delivering Russia's S-400 air defence systems to Turkey envisions partial technology transfer, Kremlin spokesman Dmitry Peskov confirmed on Saturday.</a></div></div></li></ul></div><div class=\"b-more\"><a class=\"b-btn m-more\" data-for=\"b-plainlist\" data-href=\"/military/20190701/more.html?id=1076097849&amp;date=20190629T113302\" href=\"/military/20190701/?id=1076097849&amp;date=20190629T113302\">Get more</a></div></div><div class=\"l-sidebar\"><div class=\"b-block b-tabs b-news m-border\"><h6 class=\"b-block__title\">News</h6><div class=\"b-block__container\"><ul class=\"b-tabs__head\"><li class=\"b-tabs__head-item active\"><a href=\"#latest-tab\">Latest</a></li><li class=\"b-tabs__head-item\"><a href=\"#mostread-tab\">Most Read</a></li></ul><div class=\"b-tabs__content active\" id=\"latest-tab\"><ul><li class=\"b-news__item\"><span class=\"b-news__time\"><span class=\"m-timezone\">13:11  GMT  </span></span><a href=\"/africa/202007181079923453-gulf-of-guinea-pirates-reportedly-take-13-russians-ukrainians-hostage-in-tanker-attack/\">Gulf of Guinea Pirates Reportedly Take 13 Russians, Ukrainians Hostage in Tanker Attack</a></li><li class=\"b-news__item\"><span class=\"b-news__time\"><span class=\"m-timezone\">13:00  GMT  </span></span><a href=\"/world/202007181079923195-Masseuse-chatty-prince-andrew/\">Masseuse From Epstein’s ‘Pedophile Island’ Recalls Conversations With ‘Chatty’ Prince Andrew </a></li><li class=\"b-news__item\"><span class=\"b-news__time\"><span class=\"m-timezone\">12:53  GMT  </span></span><a href=\"/society/202007181079923264-social-distancing-in-style-another-island-worth-millions-of-dollars-sold-amid-hike-in-covid-cases/\">Social Distancing in Style: Another Island Worth Millions of Dollars Sold Amid Hike in COVID Cases</a></li><li class=\"b-news__item\"><span class=\"b-news__time\"><span class=\"m-timezone\">12:53  GMT  </span></span><a href=\"/analysis/202007181079914146-combating-transphobia-main-challenge-before-indias-proposed-inclusion-of-third-gender-in-defence/\">Combating Transphobia Main Challenge Before India's Proposed Inclusion of Third Gender in Defence</a></li><li class=\"b-news__item\"><span class=\"b-news__time\"><span class=\"m-timezone\">12:38  GMT  </span></span><a href=\"/military/202007181079923104-declassified-cia-x-files-reveal-document-ufo-sightings-and-psychics-in-scotland/\">Declassified CIA 'X-Files' Reveal Documented UFO Sightings and Psychics in Scotland</a></li></ul><a class=\"b-news__more\" href=\"/archive/\">All news</a></div><div class=\"b-tabs__content\" id=\"mostread-tab\"><ul><li class=\"b-news__item\"><a href=\"/analysis/202007161079899396-why-the-us-has-no-chance-of-winning-either-a-cold-or-a-hot-war-against-china/\">Why the US Has No Chance of Winning Either a 'Cold' or a 'Hot' War Against China</a></li><li class=\"b-news__item\"><a href=\"/business/202007171079915295-challenge-for-the-suez-canal-iran-on-verge-of-activating-massive-new-russia-india-trade-corridor/\">A Challenge for the Suez Canal? Iran on Verge of Activating Massive New Russia-India Trade Corridor</a></li><li class=\"b-news__item\"><a href=\"/science/202007171079916865-the-african-continent-is-breaking-apart-as-a-new-ocean-is-about-to-flood-over-the-afar-region/\">The African Continent is Breaking Apart as a New Ocean is About to Flood Over the Afar Region</a></li><li class=\"b-news__item\"><a href=\"/middleeast/202007171079910241-eu-official-israel-trying-to-drag-trump-into-war-with-iran-before-november-election/\">EU Official: Israel Trying to Drag Trump Into War With Iran Before November Election</a></li><li class=\"b-news__item\"><a href=\"/us/202007151079893718-millionaire-tech-entrepreneur-reportedly-killed--dismembered-in-new-york/\">Millionaire Tech Entrepreneur Reportedly Killed &amp; Dismembered in New York</a></li></ul><a class=\"b-news__more\" href=\"/archive/\">All news</a></div></div></div><div class=\"b-banner m-banner-5 m-mb20\"><!-- /57209224/300x600_sputniknews -->\n",
       "<div id=\"div-gpt-ad-1509364578775-0\" style=\"height:600px; width:300px;\">\n",
       "<script>\n",
       "googletag.cmd.push(function() { googletag.display('div-gpt-ad-1509364578775-0'); });\n",
       "</script>\n",
       "</div></div><div class=\"taboola-sidebar\"><h6 class=\"b-block__title\">Recommended</h6><div class=\"taboola-sidebar__commercial\"><div id=\"taboola-right-rail-thumbnails\"></div><script type=\"text/javascript\">\n",
       "                                    window._taboola = window._taboola || [];\n",
       "                                    _taboola.push({\n",
       "                                    mode: 'alternating-thumbnails-a',\n",
       "                                    container: 'taboola-right-rail-thumbnails',\n",
       "                                    placement: 'Right Rail Thumbnails',\n",
       "                                    target_type: 'mix'\n",
       "                                    });\n",
       "                                </script></div></div>\n",
       "<div id=\"unit_92159\"><a href=\"https://mixi.media/\" rel=\"nofollow\"> </a></div>\n",
       "<script type=\"text/javascript\">\n",
       "                    (function() {\n",
       "                    var sc = document.createElement('script'); sc.type = 'text/javascript'; sc.async = true;\n",
       "                    sc.src = '//mixi.media/data/js/92159.js'; sc.charset = 'utf-8';\n",
       "                    var s = document.getElementsByTagName('script')[0]; s.parentNode.insertBefore(sc, s);\n",
       "                    }());\n",
       "                </script>\n",
       "<div class=\"b-block b-tabs b-multimedia-light\"><h6 class=\"b-block__title\"><a href=\"/multimedia/\">Multimedia</a></h6><ul class=\"b-tabs__head\"><li class=\"b-tabs__head-item active\"><a href=\"#photo-tab\">Photo</a></li><li class=\"b-tabs__head-item\"><a href=\"#video-tab\">Cartoons</a></li><li class=\"b-tabs__head-item\"><a href=\"#infographics-tab\">Infographics</a></li></ul><div class=\"b-tabs__content active\" id=\"photo-tab\"><a href=\"/photo/202007171079912696-this-week-in-pictures/\"><picture><source class=\"lazyload\" data-srcset=\"https://cdn1.img.sputniknews.com/img/07e4/07/11/1079911013_40:-1:3298:2048_260x0_80_0_1_4c4a81fcbe496aface6a9356d4c0ea12.jpg\" media=\"(min-width: 768px)\"/><source class=\"lazyload\" data-srcset=\"https://cdn1.img.sputniknews.com/img/07e4/07/11/1079911013_40:-1:3298:2048_685x0_80_0_1_6abcfab7b68312fc03379162adfae953.jpg\" media=\"(min-width: 480px)\"/><source class=\"lazyload\" data-srcset=\"https://cdn1.img.sputniknews.com/img/07e4/07/11/1079911013_40:-1:3298:2048_400x0_80_0_1_78d646dda33ddf1e2d9fbef6e65e5845.jpg\" media=\"(min-width: 0px)\"/><img alt=\"\" class=\"lazyload\" data-src=\"https://cdn1.img.sputniknews.com/img/07e4/07/11/1079911013_40:-1:3298:2048_700x440_80_0_0_a96efba657610e33d9819b411d242897.jpg\" height=\"440\" src=\"data:image/svg+xml,%3Csvg%20xmlns='http://www.w3.org/2000/svg'%20width='700'%20height='440'%3E%3C/svg%3E\" title=\"\" width=\"700\"/></picture></a><div class=\"b-multimedia-light__title\"><a href=\"/photo/202007171079912696-this-week-in-pictures/\">This Week in Pictures: 11 - 17 July</a></div></div><div class=\"b-tabs__content\" id=\"video-tab\"><a href=\"/cartoons/202007181079920439-sinking-ship-shakeup/\"><picture><source class=\"lazyload\" data-srcset=\"https://cdn1.img.sputniknews.com/img/07e4/07/11/1079919899_0:0:720:453_260x0_80_0_1_a4a7a7a57f1def8645429d6cd9ead3d0.jpg\" media=\"(min-width: 768px)\"/><source class=\"lazyload\" data-srcset=\"https://cdn1.img.sputniknews.com/img/07e4/07/11/1079919899_0:0:720:453_685x0_80_0_1_78578620d0c12a210f8a3463423eb382.jpg\" media=\"(min-width: 480px)\"/><source class=\"lazyload\" data-srcset=\"https://cdn1.img.sputniknews.com/img/07e4/07/11/1079919899_0:0:720:453_400x0_80_0_1_4eba93ed72df2f49ee606350969dea62.jpg\" media=\"(min-width: 0px)\"/><img alt=\"\" class=\"lazyload\" data-src=\"https://cdn1.img.sputniknews.com/img/07e4/07/11/1079919899_0:0:720:453_700x440_80_0_0_1274c96e50f41a3b1056443aaf9af12e.jpg\" height=\"440\" src=\"data:image/svg+xml,%3Csvg%20xmlns='http://www.w3.org/2000/svg'%20width='700'%20height='440'%3E%3C/svg%3E\" title=\"\" width=\"700\"/></picture></a><div class=\"b-multimedia-light__title\"><a href=\"/cartoons/202007181079920439-sinking-ship-shakeup/\">Sinking Ship Shakeup</a></div></div><div class=\"b-tabs__content\" id=\"infographics-tab\"><a href=\"/infographics/202006221079666311-what-victory-new-poll-unveils-how-much-americans-know-about-wwii/\"><picture><source class=\"lazyload\" data-srcset=\"https://cdn1.img.sputniknews.com/img/107966/58/1079665833_61:-1:761:440_260x0_80_0_1_f8fd486e049f5209c862c9f5ff1264d1.png\" media=\"(min-width: 768px)\"/><source class=\"lazyload\" data-srcset=\"https://cdn1.img.sputniknews.com/img/107966/58/1079665833_61:-1:761:440_685x0_80_0_1_e0553b0b6ccb4e910244a0ea6462f7ca.png\" media=\"(min-width: 480px)\"/><source class=\"lazyload\" data-srcset=\"https://cdn1.img.sputniknews.com/img/107966/58/1079665833_61:-1:761:440_400x0_80_0_1_96de7ba151bbac9cbc4eb0150424a6a4.png\" media=\"(min-width: 0px)\"/><img alt=\"Poll Results\" class=\"lazyload image-pixel\" data-src=\"https://cdn1.img.sputniknews.com/img/107966/58/1079665833_61:-1:761:440_700x440_80_0_0_6d51c6fe7536848a3d3a3f4d01a918ce.png\" height=\"440\" src=\"data:image/svg+xml,%3Csvg%20xmlns='http://www.w3.org/2000/svg'%20width='700'%20height='440'%3E%3C/svg%3E\" title=\"Poll Results\" width=\"700\"/></picture></a><div class=\"b-multimedia-light__title\"><a href=\"/infographics/202006221079666311-what-victory-new-poll-unveils-how-much-americans-know-about-wwii/\">What Victory? New Poll Unveils How Much Americans Know About WWII</a></div></div></div><div class=\"b-banner m-banner-1 m-mb20\"><!--AdFox START-->\n",
       "<!--riaru-->\n",
       "<!--Площадка: sputniknews.com / * / *-->\n",
       "<!--Тип баннера: 300x-->\n",
       "<!--Расположение: 10003_bn3**-(неповторяющийся на главной)-->\n",
       "<div id=\"adfox_1486389722934582\"></div>\n",
       "<script>\n",
       "    window.Ya.adfoxCode.create({\n",
       "        ownerId: 249922,\n",
       "        containerId: 'adfox_1486389722934582',\n",
       "        params: {\n",
       "            pp: 'iuf',\n",
       "            ps: 'ckaf',\n",
       "            p2: 'flng',\n",
       "            puid1: ''\n",
       "        }\n",
       "    });\n",
       "</script>\n",
       "</div><div class=\"b-block b-columnists\"><h6 class=\"b-block__title\">Trending</h6><ul class=\"b-columnists__list\"><li class=\"b-columnists__list-item\"><div class=\"b-columnists__list-img\"><img alt=\"Ghislaine Maxwell speaks at the Arctic Circle Forum in Reykjavik, Iceland October 2013.\" class=\"lazyload\" data-src=\"https://cdn1.img.sputniknews.com/img/07e4/07/0a/1079850762_0:0:1914:1914_60x60_80_0_0_c97e09aa1cc513cc7786dcb6e487f971.jpg\" height=\"60\" src=\"data:image/svg+xml,%3Csvg%20xmlns='http://www.w3.org/2000/svg'%20width='60'%20height='60'%3E%3C/svg%3E\" title=\"Ghislaine Maxwell speaks at the Arctic Circle Forum in Reykjavik, Iceland October 2013.\" width=\"60\"/></div><div class=\"b-columnists__list-text\"><div><a href=\"/us/202007101079850480-us-files-new-indictment-against-epsteins-pimp-ghislaine-maxwell-according-to-court-documents/\">Epstein's 'Pimp' Ghislaine Maxwell Demands to Be Released on Bail as US Files New Indictment</a></div></div></li><li class=\"b-columnists__list-item\"><div class=\"b-columnists__list-img\"><img alt=\"\" class=\"lazyload\" data-src=\"https://cdn1.img.sputniknews.com/img/07e4/07/0d/1079868651_0:0:2049:2049_60x60_80_0_0_c70357e7b65c0da16a17ea54cd4f0428.jpg\" height=\"60\" src=\"data:image/svg+xml,%3Csvg%20xmlns='http://www.w3.org/2000/svg'%20width='60'%20height='60'%3E%3C/svg%3E\" title=\"\" width=\"60\"/></div><div class=\"b-columnists__list-text\"><div><a href=\"/photo/202007131079869216/\">From Rap Stars to Turkey Puppets: Most Unorthodox Presidential Candidates</a></div></div></li><li class=\"b-columnists__list-item\"><div class=\"b-columnists__list-img\"><img alt=\"FILE PHOTO: Democratic U.S. presidential candidate and former Vice President Joe Biden speaks about the Trump administration's handling of the coronavirus pandemic during a campaign event in Wilmington, Delaware, U.S., June 30, 2020\" class=\"lazyload\" data-src=\"https://cdn1.img.sputniknews.com/img/107983/63/1079836366_597:-1:2645:2048_60x60_80_0_0_106123c804454c97431477155193e00a.jpg\" height=\"60\" src=\"data:image/svg+xml,%3Csvg%20xmlns='http://www.w3.org/2000/svg'%20width='60'%20height='60'%3E%3C/svg%3E\" title=\"FILE PHOTO: Democratic U.S. presidential candidate and former Vice President Joe Biden speaks about the Trump administration's handling of the coronavirus pandemic during a campaign event in Wilmington, Delaware, U.S., June 30, 2020\" width=\"60\"/></div><div class=\"b-columnists__list-text\"><div><a href=\"/russia/202007091079836269-biden-my-time-soviet-newspaper-reveals-what-the-democratic-candidate-did-back-in-the-ussr/\">Biden’ My Time: Soviet Newspaper Reveals What the Democratic Candidate Did Back in the USSR</a></div></div></li></ul></div><div class=\"b-block b-vote\"><h3 class=\"b-block__title\">Poll</h3><div class=\"b-article__vote\"><div class=\"b-article__vote-title\">In your opinion, which country has the best approach to the coronavirus?</div><div class=\"b-article__vote-content\" data-vote=\"1078847104\"><div class=\"b-vote-poll m-vote-hidden\"><ul class=\"b-vote__results\"><li class=\"b-vote__results-item\">China<div class=\"b-vote__results-line m-win\"><span class=\"b-vote__results-line-graph\" style=\"width: 35.2%;\"></span>35.2%<span class=\"b-vote__results-line-total\">\n",
       "                \t(9727)\n",
       "            \t</span></div></li><li class=\"b-vote__results-item\">South Korea and Japan<div class=\"b-vote__results-line\"><span class=\"b-vote__results-line-graph\" style=\"width: 18.2%;\"></span>18.2%<span class=\"b-vote__results-line-total\">\n",
       "                \t(5025)\n",
       "            \t</span></div></li><li class=\"b-vote__results-item\">US<div class=\"b-vote__results-line\"><span class=\"b-vote__results-line-graph\" style=\"width: 3.9%;\"></span>3.9%<span class=\"b-vote__results-line-total\">\n",
       "                \t(1089)\n",
       "            \t</span></div></li><li class=\"b-vote__results-item\">Sweden and Denmark<div class=\"b-vote__results-line\"><span class=\"b-vote__results-line-graph\" style=\"width: 15.1%;\"></span>15.1%<span class=\"b-vote__results-line-total\">\n",
       "                \t(4179)\n",
       "            \t</span></div></li><li class=\"b-vote__results-item\">Netherlands and Germany<div class=\"b-vote__results-line\"><span class=\"b-vote__results-line-graph\" style=\"width: 5.4%;\"></span>5.4%<span class=\"b-vote__results-line-total\">\n",
       "                \t(1487)\n",
       "            \t</span></div></li><li class=\"b-vote__results-item\">Brazil<div class=\"b-vote__results-line\"><span class=\"b-vote__results-line-graph\" style=\"width: 1.6%;\"></span>1.6%<span class=\"b-vote__results-line-total\">\n",
       "                \t(440)\n",
       "            \t</span></div></li><li class=\"b-vote__results-item\">Russia<div class=\"b-vote__results-line\"><span class=\"b-vote__results-line-graph\" style=\"width: 13.9%;\"></span>13.9%<span class=\"b-vote__results-line-total\">\n",
       "                \t(3836)\n",
       "            \t</span></div></li><li class=\"b-vote__results-item\">Turkmenistan<div class=\"b-vote__results-line\"><span class=\"b-vote__results-line-graph\" style=\"width: 6.6%;\"></span>6.6%<span class=\"b-vote__results-line-total\">\n",
       "                \t(1816)\n",
       "            \t</span></div></li></ul><div class=\"b-vote__nav\"><span class=\"b-vote__nav-voted\">Voted: <strong>25135</strong></span><div class=\"b-vote__nav-all\"><a href=\"/vote/\">All polls</a></div></div></div><div class=\"b-vote-form\"><form action=\"/services/vote/add/\" class=\"b-vote__form\"><input name=\"article_id\" type=\"hidden\" value=\"1078847104\"/><ul class=\"b-vote__form-list\"><li class=\"b-vote__form-item\"><input id=\"v_1078847094\" name=\"vote_answer_id[]\" type=\"checkbox\" value=\"1078847094\"/><label for=\"v_1078847094\">China</label></li><li class=\"b-vote__form-item\"><input id=\"v_1078847095\" name=\"vote_answer_id[]\" type=\"checkbox\" value=\"1078847095\"/><label for=\"v_1078847095\">South Korea and Japan</label></li><li class=\"b-vote__form-item\"><input id=\"v_1078847096\" name=\"vote_answer_id[]\" type=\"checkbox\" value=\"1078847096\"/><label for=\"v_1078847096\">US</label></li><li class=\"b-vote__form-item\"><input id=\"v_1078847097\" name=\"vote_answer_id[]\" type=\"checkbox\" value=\"1078847097\"/><label for=\"v_1078847097\">Sweden and Denmark</label></li><li class=\"b-vote__form-item\"><input id=\"v_1078847098\" name=\"vote_answer_id[]\" type=\"checkbox\" value=\"1078847098\"/><label for=\"v_1078847098\">Netherlands and Germany</label></li><li class=\"b-vote__form-item\"><input id=\"v_1078847099\" name=\"vote_answer_id[]\" type=\"checkbox\" value=\"1078847099\"/><label for=\"v_1078847099\">Brazil</label></li><li class=\"b-vote__form-item\"><input id=\"v_1078847100\" name=\"vote_answer_id[]\" type=\"checkbox\" value=\"1078847100\"/><label for=\"v_1078847100\">Russia</label></li><li class=\"b-vote__form-item\"><input id=\"v_1078847101\" name=\"vote_answer_id[]\" type=\"checkbox\" value=\"1078847101\"/><label for=\"v_1078847101\">Turkmenistan</label></li></ul><div class=\"b-vote__nav\"><input class=\"b-btn b-vote__nav-submit\" type=\"submit\" value=\"Vote\"/><div class=\"b-vote__nav-all\"><a href=\"/vote/\">All polls</a></div></div></form></div><script>\n",
       "            var storageData = JSON.parse(localStorage.getItem('Vote')) || [];\n",
       "            var voteId = 1078847104;\n",
       "            var votePoll = document.querySelector('.b-article__vote-content[data-vote=\"'+voteId+'\"] .b-vote-poll');\n",
       "            var voteForm = document.querySelector('.b-article__vote-content[data-vote=\"'+voteId+'\"] .b-vote-form');\n",
       "            var showForm = true;\n",
       "\n",
       "            if(storageData.indexOf(voteId.toString()) < 0  && showForm){\n",
       "                var el = document.querySelector('.b-article__vote-content[data-vote=\"'+voteId+'\"] .b-vote-poll');\n",
       "                votePoll.style.display = 'none';\n",
       "                voteForm.style.display = 'block';\n",
       "            }\n",
       "            else{\n",
       "                var el = document.querySelector('.b-article__vote-content[data-vote=\"'+voteId+'\"] .b-vote-form');\n",
       "                voteForm.style.display = 'none';\n",
       "                votePoll.style.display = 'block';\n",
       "            }\n",
       "        </script></div></div></div></div></div></div><footer class=\"footer\"><div class=\"l-wrap m-oh\"><div class=\"m-pl36\"><div class=\"footer__nav m-clear\"><dl><dt><a href=\"/news/\">News</a></dt><dd><a href=\"/\">Home</a><ul></ul><a href=\"/world/\">World</a><ul><li><a href=\"/uk/\">UK</a></li><li><a href=\"/us/\">US</a></li><li><a href=\"/india/\">India</a></li><li><a href=\"/europe/\">Europe</a></li><li><a href=\"/russia/\">Russia</a></li><li><a href=\"/middleeast/\">Middle East</a></li><li><a href=\"/latam/\">Latin America</a></li><li><a href=\"/asia/\">Asia &amp; Pacific</a></li><li><a href=\"/africa/\">Africa</a></li></ul></dd></dl><dl><dt></dt><dd><a href=\"/business/\">Business</a><ul></ul><a href=\"/military/\">Military &amp; Intelligence</a><ul></ul><a href=\"/society/\">Society</a><ul><li><a href=\"/environment/\">Environment</a></li><li><a href=\"/viral/\">Viral</a></li><li><a href=\"/art_living/\">Life</a></li><li><a href=\"/science/\">Tech</a></li></ul><a href=\"/sport/\">Sport</a><ul></ul></dd></dl><dl><dt><a href=\"/\">Analysis &amp; Opinion</a></dt><dd><a href=\"/analysis/\">Opinion</a><ul></ul><a href=\"/columnists/\">Columnists</a><ul></ul><a href=\"/interviews/\">Interviews</a><ul></ul></dd></dl><dl><dt><a href=\"/multimedia/\">Multimedia</a></dt><dd><a href=\"/photo/\">Photo</a><ul></ul><a href=\"/infographics/\">Infographics</a><ul></ul><a href=\"/cartoons/\">Cartoons</a><ul></ul><a href=\"/video/\">Video</a><ul></ul></dd></dl><dl><dt><a href=\"/radio/\">Radio</a></dt><dd><a href=\"/radio_shows/\">Shows</a><ul></ul><a href=\"/in_depth/\">In Depth</a><ul></ul></dd></dl><dl><dt>Sputnik</dt><dd><a href=\"http://sputniknews.com/docs/about/index.html\">About Us</a><ul></ul><a href=\"/agency_news/\">Press Info</a><ul></ul><a href=\"/docs/products/index.html\">Products</a><ul></ul><a href=\"/docs/products/mobile.html\">Apps</a><ul></ul><a href=\"/docs/about/terms_of_use.html\">Terms of Use</a><ul></ul><a href=\"/docs/about/feedback.html\">Contact Us</a><ul></ul><a href=\"/docs/about/cookie.html\">Cookie Policy</a><ul></ul><a href=\"/docs/about/privacy_policy.html\">Privacy Policy</a><ul></ul><a href=\"/docs/about/feedbackprivacy.html\">Privacy Feedback</a><ul></ul></dd></dl></div><div class=\"footer__copyright\">\n",
       "            \n",
       "                © 2020 Sputnik. All rights reserved\n",
       "            \n",
       "        </div></div></div></footer><script src=\"https://cdn2.img.sputniknews.com/min/js/libs/loadjs.js?284f269ce\"></script><script src=\"https://cdn1.img.sputniknews.com/min/js/libs/lazyload.js?28b30c8a0\"></script><script src=\"https://cdn2.img.sputniknews.com/min/js/libs/breakingNews-double.js?29ba0dc05\"></script><script src=\"/project_data/firebase-config.js\"></script><script src=\"https://cdn1.img.sputniknews.com/min/js/firebase/firebase-app.js?278e04a3\"></script><script src=\"https://cdn2.img.sputniknews.com/min/js/firebase/firebase-messaging.js?26a774982\"></script><script src=\"/js/firebase/fbcheck2.js\"></script><script src=\"https://cdn1.img.sputniknews.com/min/js/plugins/jquery.touchcarousel-1.2.min.js?213817f0\"></script><script src=\"https://cdn1.img.sputniknews.com/min/js/plugins/lightslider.min.js?26f12b5cb\"></script><script src=\"https://cdn1.img.sputniknews.com/min/js/plugins/jquery-ui.min.js?2d7e9ed7d\"></script><script src=\"https://cdn1.img.sputniknews.com/min/js/plugins/jquery.ui.touch-punch.min.js?233e1cc86\"></script><script src=\"https://cdn1.img.sputniknews.com/min/js/plugins/jquery.jplayer.js?2c1871e36\"></script><script src=\"https://cdn1.img.sputniknews.com/min/js/plugins/social-likes.min.js?270018225\"></script><script src=\"https://cdn1.img.sputniknews.com/min/js/libs/stickyfill.min.js?23f4a007e\"></script><script>\n",
       "\t\t\tif ( document.querySelectorAll('.video-js').length && !window.videojs ) {\n",
       "\t\t\t\tloadJS(\"https://cdn1.img.sputniknews.com/min/js/libs/video/videoplayer.min.js?27eacabc7\", function() {\n",
       "\t\t\t\t\t\n",
       "\t\t\t\t\timageShare.init();\n",
       "\t\t\t\t});\n",
       "\t\t\t}\n",
       "\t\t</script><script src=\"https://cdn2.img.sputniknews.com/min/js/sputnik.js?2f4c28aa7\"></script><script src=\"https://cdn1.img.sputniknews.com/min/js/plugins/jquery.smartbanner.js?2f3d86a52\"></script><script>\n",
       "                if (typeof lazyloadScript === 'function') {\n",
       "                    lazyloadScript(\".twitter-tweet, .twitter-timeline, #online\", function() {\n",
       "                        window.twttr = (function(d, s, id) {\n",
       "                            var js, fjs = d.getElementsByTagName(s)[0],\n",
       "                                t = window.twttr || {};\n",
       "                            if (d.getElementById(id)) return t;\n",
       "                            js = d.createElement(s);\n",
       "                            js.id = id;\n",
       "                            js.src = \"https://platform.twitter.com/widgets.js\";\n",
       "                            fjs.parentNode.insertBefore(js, fjs);\n",
       "                            t._e = [];\n",
       "                            t.ready = function(f) {\n",
       "                              t._e.push(f);\n",
       "                            };\n",
       "                            return t;\n",
       "                        }(document, \"script\", \"twitter-wjs\"));\n",
       "                    });\n",
       "                }\n",
       "            </script><script async=\"async\" defer=\"\" src=\"https://platform.instagram.com/en_US/embeds.js\"></script><script async=\"async\" defer=\"\" src=\"https://apis.google.com/js/platform.js\">\n",
       "                {lang: 'en', parsetags: 'explicit'}\n",
       "            </script><script>\n",
       "                    window._newsroom = window._newsroom || [];\n",
       "\n",
       "                    !function (e, f, u) {\n",
       "                        e.async = 1;\n",
       "                        e.src = u;\n",
       "                        f.parentNode.insertBefore(e, f);\n",
       "                    }(document.createElement('script'),\n",
       "                            document.getElementsByTagName('script')[0], '//c2.taboola.com/nr/sputnik-en/newsroom.js');\n",
       "                </script><script>var GLOBAL = {}; GLOBAL.csrf_token = ''; GLOBAL.auth = {}; GLOBAL.auth.status = 'error'; GLOBAL.auth.provider = ''; GLOBAL.auth.twitter = '/id/twitter/request/'; GLOBAL.auth.facebook = '/id/facebook/request/'; GLOBAL.auth.vkontakte = '/id/vkontakte/request/'; GLOBAL.auth.google = '/id/google/request/'; GLOBAL.user = {}; GLOBAL.user.id = \"\"; GLOBAL.user.username = \"\"; GLOBAL.user.email = \"\"; GLOBAL.user.picture = \"\"; GLOBAL.user.gdpragreement = \"\"; GLOBAL.locale = {'id' : {'is_id' : '1', 'errors' : {'email' : 'Enter e-mail', 'password' : 'Enter password', 'wrong' : 'Incorrect username or password', 'wronglogin' : 'Incorrect username', 'emptylogin' : 'Username not entered', 'wrongemail' : 'Incorrect e-mail', 'passwordnotsimilar' : 'Passwords do not match', 'wrongcode' : 'Incorrect code', 'send' : 'E-mail sent!', 'notsend' : 'Error! Unable to send e-mail.', 'anothersoc' : 'Another social media account has already been linked to this user profile', 'acclink' : 'Accounts successfully linked!', 'emailexist' : 'A user with this e-mail already exists', 'nickexist' : 'This name is already taken, please choose a different name.', 'emailnotexist' : 'Error! A user with this e-mail does not exist', 'recoveryerror' : 'Password recovery error. Please try again!', 'alreadyactive' : 'The user has already been activated', 'autherror' : 'Login error. Please try again later or contact technical support', 'codeerror' : 'Registration confirmation code generation error. Please try again later or contact technical support', 'global' : 'An error has occurred. Please try again later or contact technical support', 'registeremail' : ' An e-mail has been sent to the address you entered. <br/> To complete your registration, please follow the link in the e-mail message. ', 'linkprofile' : ' This e-mail is already in use! <a class=\"localAccountLinkOpen\">Do you want to link these accounts?</a> ', 'confirm' : ' This account has not been confirmed! <br/> <a class=\"secret-recovery\">Send an e-mail</a> with your information to confirm the account. ', 'block' : ' Your Sputniknews.com account has been suspended.<br/>You can initiate your access recovery by e-mailing <a href=\"mailto:moderator@sputniknews.com\">moderator@sputniknews.com</a>. ', 'del' : ' Your account has been deleted! You can restore your account by following the link in the e-mail sent to you when your account was removed. <br/> <a class=\"user-remind-letter\">Resend the e-mail</a>. '}, 'userpanel' : {'login' : 'Log in', 'logout' : 'Log out', 'register' : 'Register'}, 'links' : {'login' : 'Log in', 'register' : 'Register', 'forgotpassword' : 'Forgot your password?', 'privacy' : 'Privacy Policy'}, 'login' : {'title' : 'Log in', 'email' : 'E-mail:', 'password' : 'Password:', 'remember' : 'Remember me', 'signin' : 'Sign in', 'social' : {'label' : 'Other ways to sign in:', 'anotheruserlink' : 'This account has been linked to a different profile.'}, 'buttons' : {'fb' : 'Log in with Facebook', 'vk' : 'Log in with VK', 'google' : 'Sign in with Google'}}, 'register' : {'title' : 'Register', 'email' : 'E-mail:', 'password' : 'Password:', 'confirm' : 'Confirm password:', 'captcha' : 'Please type the code', 'requirements' : '* All fields are required', 'success' : ' Please confirm your e-mail to continue. Confirmation instructions have been sent to <a class=\"email\"></a> ', 'confirmemail' : 'Please confirm your e-mail to continue.', 'confirm_personal' : ' By checking this box, you provide your explicit consent to the processing of your personal data to create an account on the Sputnik website for posting comments to news. You can find a detailed description of how we use your data in our <a href=\"https://sputniknews.com/docs/about/privacy_policy.html#your-personal-account\" target=\"_blank\">Privacy Policy</a>. </br></br> You can withdraw your consent by using the <a href=\"https://sputniknews.com/docs/about/feedbackprivacy.html\" target=\"_blank\">feedback form</a> or the method specified in the <a href=\"https://sputniknews.com/docs/about/privacy_policy.html#right-to-withdraw-consent\" target=\"_blank\">Privacy Policy</a>. '}, 'deleteaccount' : {'title' : 'Delete account', 'body' : 'Are you sure you want to delete your Sputniknews.com account?', 'success' : 'Your account has been deleted! You can restore your account within 30 days by following the link sent to the e-mail address you entered during registration.', 'action' : 'Delete accounts'}, 'passwordrecovery' : {'title' : 'Password recovery', 'password' : 'Enter new password:', 'confirm' : 'Confirm new password:', 'email' : 'Enter e-mail', 'send' : ' Success! Instructions to recover your password have been sent to <a class=\"email\"></a> ', 'success' : ' Congratulations! Password recovery successful. Please sign in to continue to the website. '}, 'profile' : {'detailstab' : 'My Details', 'settingstab' : 'Profile Settings', 'bloggertab' : 'Blog interface', 'achievementstab' : 'Achievements', 'moderatortab' : 'Moderator panel', 'details' : {'name' : 'Name:', 'screenname' : 'Screen Name:', 'birthdate' : 'Date of birth:', 'gender' : 'Gender:', 'country' : 'Country:', 'male' : 'M', 'female' : 'F', 'about' : 'About me', 'errors' : {'jpeg' : 'You can upload JPG, GIF or PNG images only'}}, 'settings' : {'privacy' : {'title' : 'Privacy Settings', 'hide' : 'Hide from all', 'show' : 'Make available for all', 'view' : 'View my profile'}, 'password' : {'change' : 'Change Password', 'old' : 'Old password', 'newp' : 'New password', 'confirm' : 'Confirm password', 'success' : 'New password has been saved'}, 'social' : {'title' : 'Social Networks', 'fb' : 'Facebook', 'tw' : 'Twitter', 'vk' : 'Vkontakte', 'google' : 'Google'}}, 'sendmessage' : {'errors' : {'empty' : 'Can\\'t send the message', 'notfound' : 'Can\\'t send the message', 'similar' : 'Wrong captcha'}, 'button' : {'send' : 'Send message', 'submit' : 'Send'}, 'title' : 'Send message', 'captcha' : 'Type the code', 'success' : 'Message sent!'}, 'change_email' : {'show' : '1', 'field_title' : 'E-mail:', 'succes' : 'E-mail successfully changed', 'invalid_link' : 'Invalid link, repeat from the start', 'link_expired' : 'Confirmation link expired, repeat from the start', 'exists' : 'This e-mail address already exists', 'incorrect' : 'Incorrect e-mail', 'change' : 'Change e-mail', 'sent' : 'Confirmation link has been sent to your new e-mail address'}, 'sidebar' : {'edit_profile' : 'Edit Profile', 'settings' : 'Settings', 'privacy' : 'Privacy', 'current_rating' : 'Current Rating ', 'total_comments' : 'Total Comments I Left ', 'comments_liked' : 'Comments I Liked ', 'comments_disliked' : 'Comments I Disliked ', 'posts_liked' : 'Posts Liked ', 'posts_disliked' : 'Posts Disliked '}, 'rating' : {'title' : 'Blogger Rating'}, 'blogger' : {'description' : 'Blogs can be published on the Sputnik website (sputniknews.com/blogs) only with the permission of the site’s administrators. Please submit your blog post via the form below and we will review it.', 'add_new_post' : 'Add new post', 'add_new_success' : 'The post has been created', 'form' : {'head' : 'Head', 'lead' : 'Lead', 'post' : 'Post', 'tags' : 'Tags', 'submit' : 'Save and Send', 'myposts' : 'My posts', 'photo' : 'Photo', 'addphoto' : 'Add photo', 'comments' : 'Comments to the editor', 'confirmcopyright' : 'I confirm that I am the copyright holder of the image intended for publication', 'creativecommons' : 'I confirm that this image is in the public domain or has been licensed for use under a Creative Commons license', 'imgsource' : 'Image source'}, 'error' : {'common' : 'Check the fields', 'text_only' : {'title' : 'Headline only', 'lead' : 'Lead only', 'text' : 'Main text only', 'tags' : 'Tags only'}, 'empty' : {'title' : 'Empty headline field', 'lead' : 'Empty lead field', 'text' : 'Empty main text field'}, 'author' : 'Your author ID could not be located. Please contact the site administrators at blogs@sputniknews.com', 'size' : 'You can upload images up to 10Mb in size', 'format' : 'You can only upload images in .JPG, .GIF or .PNG', 'wide' : 'The image should be at least 1000 pixels wide'}}, 'achiev' : {'current_rating' : 'Current rating ', 'position' : 'Position: ', 'success' : 'Thank you! We have received your application and will process it as soon as possible. If you don\\'t get a message from our administrators in 24 hours, please try again.', 'error' : 'Error', 'apply_moderator' : 'Apply to become a moderator', 'apply_blogger' : 'Apply to become a blogger', 'blogs_activity' : 'Blogs activity', 'blogs_liked' : 'I Liked', 'blogs_disliked' : 'I Disliked', 'posts_total' : 'My Total Posts', 'posts_waiting' : 'My Posts Waiting For Approve', 'comments_activity' : 'My Activity', 'comments_liked' : 'Comments I Liked', 'comments_disliked' : 'Comments I Disliked', 'comments_total' : 'Comments I Left', 'comments_likes' : 'My Comments Liked', 'comments_dislikes' : 'My Comments Disliked', 'comments_deleted' : 'My Comments Deleted', 'comments_waiting' : 'My Comments Waiting For Approval'}, 'moderator' : {'prompt' : 'Reason for deleting the comment', 'search' : {'placeholder' : 'Search by author...', 'submit' : 'Search'}}, 'docs' : {'title' : {'become_blogger_or_moderator' : 'How to become a blogger or a moderator', 'blogging_rules' : 'Blogging rules', 'earn_points' : 'How to earn points', 'moderating_rules' : 'Rules for moderating comments'}, 'become_blogger_or_moderator' : ' <h2 class=\"b-title\">How to become a blogger or a moderator</h2> <p>This is your chance to contribute and share your thoughts and opinions on featured news stories from around the globe, by registering on Sputniknews.com. As a registered user, you will receive points for your actions on our website.</p> <p>Once you reach 25,000 points, you can apply for moderator rights. You will be able to moderate discussions and help users remain on civil terms.</p> <p>You can also write your own blog at Sputniknews.com, reaching an audience of thousands of the site’s viewers and social media followers.</p> <p>Blog topics can vary from politics and economy to the latest fashion news highlights. If you become one of our top bloggers, you will also have the chance to be paid for your contributions.</p> <p>Please be warned that the Sputnik administration may refuse to publish your blog if the proposed content does not satisfy our rules and requirements.</p> <p>Register on Sputniknews.com and join the Sputnik team! Good luck.</p> ', 'blogging_rules' : ' <h2 class=\"b-title\">Blogging rules</h2> <p>Blogs can only be published on the Sputnik website (sputniknews.com/blogs) with the permission of the site’s administrators.</p> <p>To publish a blog post, send it to the site administrators for authorization either in the body of an email or as a Microsoft Word attachment.</p> <h3>Basic submission rules</h3> <dl> <dt>The body of the post</dt> <dd> <ul> <li>format and divide the text into paragraphs</dli <li>provide a title (and subheadings, if any)</li> <li>mark the words/phrases to be used as hyperlinks (if any) and provide the links as URLs</li> </ul> </dd> </dl> <dl> <dt>Main image</dt> <dd> <ul> <li>the site administration may use the photos provided by the blog’s author if he/she is the copyright holder, or the photo is in the public domain</li> <li>the site administration may choose the main image at its discretion</li> <li>the photos provided must comply with technical and size requirements (a .JPEG image min. 1000 pixels in width)</li> </ul> </dd> </dl> <dl> <dt>Links and media embeds</dt> <dd> The blogger may suggest the following embeddable media in the text of the post: <ul> <li>links to other articles on the Sputniknews.com website</li> <li>embedded Twitter, Facebook, Instagram posts, or YouTube videos</li> </ul> </dd> <dd>In this case, the blogger should provide the links or post/video URLs and mark the places for proposed embeds.</dd> <dd>The final layout is chosen by the site administration at its discretion.</dd> </dl> <dl> <dt>Content</dt> <dd> The text of the blog must not contain: <ul> <li>offensive language</li> <li>Incitement to hatred or racial, ethnic, gender, religious or social discrimination</li> <li>extremist or terrorist ideas, encouragement of illegal conduct</li> </ul> </dd> </dl> <dl> <dt>Other requirements</dt> <dd>The site administration reserves the right to delete a blog post without notifying the author.</dd> </dl> ', 'earn_points' : ' <h2 class=\"b-title\">How to earn points</h2> <p>Moderator: 15,000 points required <br/>Blogger: 25,000 points required</p> <p>Registration: +100 <br/>Avatar: +20 <br/>Bio: +20 <br/>Posting a comment: +25 <br/>Sharing a link on social media: +100 <br/>Popular comment (10 likes or more): +100</p> <p>Daily visits for a month can earn you 3,520 points: <br/>Daily visits for 2 days: +15 <br/>Daily visits for 3 days: +25 <br/>Daily visits for 4 days: +50 <br/>Daily visits for 5 days: +80 <br/>Daily visits for 6 days: +150 <br/>Daily visits for 7 days (one week): +180 <br/>Daily visits for 8 days: +10 <br/>Daily visits for 9 days: +15 <br/>Daily visits for 10 days: +35 <br/>Daily visits for 11 days: +75 <br/>Daily visits for 12 days: +100 <br/>Daily visits for 13 days: +180 <br/>Daily visits for 14 days (two weeks): +400 <br/>Daily visits for 15 days: +15 <br/>Daily visits for 16 days: +25 <br/>Daily visits for 17 days: +50 <br/>Daily visits for 18 days: +80 <br/>Daily visits for 19 days: +100 <br/>Daily visits for 20 days: +150 <br/>Daily visits for 21 days (three weeks): +570 <br/>Daily visits for 22 days: +10 <br/>Daily visits for 23 days: +15 <br/>Daily visits for 24 days: +35 <br/>Daily visits for 25 days: +75 <br/>Daily visits for 26 days: +100 <br/>Daily visits for 27 days: +180 <br/>Daily visits for 28 days (one month): +800</p> ', 'moderating_rules' : ' <h2 class=\"b-title\">Rules for moderating comments</h2> A moderator can lock/delete content for the following reasons: <ul> <li>offensive language;</li> <li>insults or threats to other users, individuals or organizations;</li> <li>incitement to hatred or racial, ethnic, gender, religious or social discrimination;</li> <li>extremist or terrorist ideas, encouragement of illegal conduct;</li> <li>description or links to violent material or abuse of animals;</li> <li>spam, ads, promotion of third-party products or services, links to viruses or malware;</li> <li>it is part of an action that involves a large number of comments with identical or similar content (flash mobs);</li> <li>large number of meaningless comments (flood or thread crapping);</li> <li>abuse of online ethics, aggressive, derisive or rude content (trolling);</li> <li>no relation to the subject of the commented content;</li> </ul> A moderator should inform the site administration about all cases of inappropriate behavior, such as: <ul> <li>obscene user name</li> <li>posting comments under several names</li> </ul> <p>A moderator should also inform site administration about all disputable cases.</p> '}}, 'registerconfirm' : {'success' : 'Account created successfully!', 'error' : 'Registration confirmation error. Please try again later or contact technical support'}, 'restoreaccount' : {'confirm' : 'Restore your account?', 'error' : 'Error! Unable to restore account.', 'success' : 'Your account has been restored.'}, 'localaccount' : {'exist' : 'I have a Sputniknews.com account', 'notexist' : 'I do not have a Sputniknews.com account', 'title' : 'Registration', 'profile' : 'Do you have a Sputniknews.com account?', 'confirm_personal' : ' I agree to the processing of my personal data for the purpose of creating a personal account on this site using social media plugins, in compliance with the <a href=\"/docs/about/privacy_policy.html\" target=\"_blank\">Privacy Policy</a> ', 'hello' : ' Hello, <strong></strong>! '}, 'confirm' : {'hello' : ' Hello, ', 'desciption' : ' <p>We are committed to protecting your personal information and we have updated our Privacy Policy to comply with the General Data Protection Regulation (GDPR), a new EU regulation that went into effect on May 25, 2018.</p> <p>Please review our <a href=\"/docs/about/privacy_policy.html\" target=\"_blank\">Privacy Policy</a>. It contains details about the types of data we collect, how we use it, and your data protection rights.</p> <p>Since you already shared your personal data with us when you created your personal account, to continue using it, please check the box below:</p> ', 'confirm_personal' : ' I agree to the processing of my personal data for the purpose of creating a personal account on this site, in compliance with the Privacy Policy. ', 'delete' : ' <p>If you do not want us to continue processing your data, please <a class=\"deleteAccount\">click here</a> to delete your account.</p> ', 'feedback' : ' <p>If you have any questions or concerns about our Privacy Policy, please contact us at: <a href=\"mailto:privacy@sputniknews.com\">privacy@sputniknews.com</a>.</p> ', 'btn' : 'Next'}, 'button' : {'ok' : 'Ok', 'yes' : 'Yes', 'no' : 'No', 'next' : 'Next', 'close' : 'Close', 'profile' : 'Go to personal account', 'recover' : 'Restore', 'register' : 'Register'}}, };</script><script src=\"https://cdn2.img.sputniknews.com/min/js/id/message.js?2ee46e4b7\"></script><script src=\"https://cdn2.img.sputniknews.com/min/js/id/modalwindow.js?289b08413\"></script><script src=\"https://cdn2.img.sputniknews.com/min/js/id/windows.js?2bb72a341\"></script><script>\n",
       "            var GLOBAL = GLOBAL || {};\n",
       "\n",
       "            GLOBAL.sock = {};\n",
       "            GLOBAL.sock.server = 'https://cm.ria.ru/chat';\n",
       "            GLOBAL.sock.lang = 'eng';\n",
       "            GLOBAL.sock.project = 'sputnik_inter_en';\n",
       "        </script><script src=\"https://cdn1.img.sputniknews.com/min/js/id/jquery.getAjaxContent-0.9.min.js?2304d1984\"></script><script src=\"https://cdn2.img.sputniknews.com/min/js/id/form.js?22875833\"></script><script src=\"https://cdn1.img.sputniknews.com/min/js/id/socials.auth.js?2e2802afb\"></script><script src=\"https://cdn2.img.sputniknews.com/min/js/id/socials.link.js?2dfebb314\"></script><script src=\"https://cdn1.img.sputniknews.com/min/js/id/auth.action.js?25f85f75c\"></script><script src=\"https://cdn1.img.sputniknews.com/min/js/id/userpanel.js?25348ccd4\"></script><script src=\"https://cdn1.img.sputniknews.com/min/js/id/register.js?2f3107af0\"></script><script src=\"https://cdn2.img.sputniknews.com/min/js/id/secret-recovery.js?2391efe84\"></script><script src=\"https://cdn2.img.sputniknews.com/min/js/id/password-recovery.js?28418903c\"></script><script src=\"https://cdn1.img.sputniknews.com/min/js/id/restore-account.js?2eba3a9f6\"></script><script src=\"https://cdn1.img.sputniknews.com/min/js/id/delete-account.js?211362129\"></script><script src=\"https://cdn1.img.sputniknews.com/min/js/id/local-account.js?285a7c6e0\"></script><script src=\"https://cdn1.img.sputniknews.com/min/js/id/auth.js?2fb9bb93f\"></script><script src=\"https://cdn1.img.sputniknews.com/min/js/libs/sockjs.min.js?2e0c02f7e\"></script><script src=\"https://cdn1.img.sputniknews.com/min/js/libs/socket.js?21e156178\"></script><script src=\"https://cdn2.img.sputniknews.com/min/js/pages/rubric.js?21d0bb1bf\"></script></div><div class=\"modal-window window-register modalWindow\"><a class=\"close modalClose\"></a><header>Register</header><div class=\"body\"><form action=\"/services/id/register/\" method=\"post\"><div class=\"line\"><div class=\"field\"><label for=\"register-login\">E-mail:</label><input id=\"register-login\" name=\"login\" type=\"text\"/></div><div class=\"field\"><label for=\"register-nickname\">Screen Name:</label><input id=\"register-nickname\" name=\"nickName\" type=\"text\"/></div><div class=\"field\"><label for=\"register-password\">Password:</label><input id=\"register-password\" name=\"password\" type=\"password\"/></div><div class=\"field clear-margin\"><label for=\"register-password_confirmation\">Confirm password:</label><input id=\"register-password_confirmation\" name=\"password_confirmation\" type=\"password\"/></div><div class=\"field\"><input name=\"g-recaptcha-response\" type=\"hidden\" value=\"\"/></div><div class=\"links\"><a class=\"auth\">Log in</a><a class=\"rules\" href=\"/docs/about/privacy_policy.html\">Privacy Policy</a></div><div><div class=\"field checkbox\"><input id=\"register-confirm\" name=\"confirm\" type=\"checkbox\"/><label for=\"register-confirm\"><i></i>\n",
       "                \n",
       "                    By checking this box, you provide your explicit consent to the processing of your personal data to create an account on the Sputnik website for posting comments to news. You can find a detailed description of how we use your data in our <a href=\"https://sputniknews.com/docs/about/privacy_policy.html#your-personal-account\" target=\"_blank\">Privacy Policy</a>.\n",
       "                    \n",
       "                    You can withdraw your consent by using the <a href=\"https://sputniknews.com/docs/about/feedbackprivacy.html\" target=\"_blank\">feedback form</a> or the method specified in the <a href=\"https://sputniknews.com/docs/about/privacy_policy.html#right-to-withdraw-consent\" target=\"_blank\">Privacy Policy</a>.\n",
       "                \n",
       "            </label></div></div></div><div class=\"line\"><button>Register</button><label class=\"requirements\">* All fields are required</label></div></form></div><div class=\"error-message\"><label></label></div><div class=\"success\" style=\"display: none;\"><div class=\"message\"><label>\n",
       "                \n",
       "                    Please confirm your e-mail to continue. Confirmation instructions have been sent to <a class=\"email\"></a>\n",
       "</label></div><a class=\"button modalClose\">Ok</a></div></div><div class=\"modal-window window-password-recovery modalWindow\"><a class=\"close modalClose\"></a><header>Password recovery</header><div class=\"body\"><form action=\"/services/id/password_recovery/send_email/\" method=\"post\"><div class=\"line\"><div class=\"field\"><label for=\"passwordRecoveryModalLogin\">Enter e-mail</label><input id=\"passwordRecoveryModalLogin\" name=\"login\" type=\"text\"/></div><div class=\"field\"><label for=\"recovery-captcha\">Please type the code</label><div class=\"captcha\"><input class=\"captcha-input\" id=\"recovery-captcha\" name=\"captcha\" type=\"text\"/><img alt=\"captcha\" class=\"captcha-image\" data-src=\"/services/captcha/\" height=\"35\" src=\"data:image/gif;base64,R0lGODlhAQABAAAAACH5BAEKAAEALAAAAAABAAEAAAICTAEAOw==\" width=\"180\"/><svg class=\"captcha-refresh\" height=\"24\" viewbox=\"0 0 48 48\" width=\"24\" xmlns=\"http://www.w3.org/2000/svg\"><path d=\"M35.3 12.7c-2.89-2.9-6.88-4.7-11.3-4.7-8.84 0-15.98 7.16-15.98 16s7.14 16 15.98 16c7.45 0 13.69-5.1 15.46-12h-4.16c-1.65 4.66-6.07 8-11.3 8-6.63 0-12-5.37-12-12s5.37-12 12-12c3.31 0 6.28 1.38 8.45 3.55l-6.45 6.45h14v-14l-4.7 4.7z\"></path><path d=\"M0 0h48v48h-48z\" fill=\"none\"></path></svg></div></div><button>Restore</button><div class=\"links\"><a class=\"auth\">Log in</a><a class=\"rules\" href=\"/docs/about/privacy_policy.html\">Privacy Policy</a></div></div></form></div><div class=\"error-message\"><label></label></div><div class=\"success\" style=\"display: none;\"><div class=\"message\"><label>\n",
       "                \n",
       "                    Success! Instructions to recover your password have been sent to <a class=\"email\"></a>\n",
       "</label></div><a class=\"button modalClose\">Ok</a></div></div><div class=\"modal-window window-local-account modalWindow\"><a class=\"close modalClose\"></a><header>Registration</header><div class=\"body\"><div class=\"line\">Do you have a Sputniknews.com account?</div><div class=\"line\"><a class=\"button localAccountLinkOpen\">Yes</a><a class=\"button localAccountCreateOpen\">No</a></div></div></div><div class=\"modal-window window-local-account-link modalWindow\"><a class=\"close modalClose\"></a><header>Registration</header><div class=\"body\"><div class=\"user line\"><img alt=\"avatar\" height=\"50\" src=\"https://cdn1.img.sputniknews.com/i/avatar-default.png\" width=\"50\"/><h3>\n",
       "                \n",
       "                    Hello, <strong></strong>!\n",
       "                \n",
       "            </h3></div><form action=\"/services/id/social/link_account/\" method=\"post\"><div class=\"line\"><div class=\"field\"><label for=\"accountLinkEmail\">E-mail:</label><input id=\"accountLinkEmail\" name=\"login\" type=\"text\"/></div><div class=\"field\"><label for=\"accountLinkPassword\">Password:</label><input id=\"accountLinkPassword\" name=\"password\" type=\"password\"/></div><div class=\"field checkbox\"><input id=\"accountLinkRemember\" name=\"remember\" type=\"checkbox\"/><label for=\"accountLinkRemember\"><i></i>Remember me</label></div><div class=\"field\"><button>Sign in</button></div><div class=\"field\"><a class=\"localAccountCreateOpen\">I do not have a Sputniknews.com account</a></div><div class=\"links\"><a class=\"register\">Register</a><a class=\"restore\">Forgot your password?</a><a class=\"rules\" href=\"/docs/about/privacy_policy.html\">Privacy Policy</a></div></div></form><div class=\"success\" style=\"display: none;\"><div class=\"message\"><label></label></div><a class=\"button modalClose\">Ok</a></div></div><div class=\"error-message\"><label></label></div></div><div class=\"modal-window window-local-account-create modalWindow\"><a class=\"close modalClose\"></a><header>Registration</header><div class=\"body\"><div class=\"user line\"><img alt=\"avatar\" height=\"50\" src=\"https://cdn1.img.sputniknews.com/i/avatar-default.png\" width=\"50\"/><h3>\n",
       "                \n",
       "                    Hello, <strong></strong>!\n",
       "                \n",
       "            </h3></div><form action=\"/services/id/social/create_account/\" method=\"post\"><div class=\"line\"><div class=\"field login\"><label>E-mail:</label><input id=\"accountCreateEmail\" name=\"login\" type=\"text\" value=\"\"/></div><div class=\"field nickName\"><label>Screen Name:</label><input id=\"accountCreateNickName\" name=\"nickName\" type=\"text\" value=\"\"/></div><div class=\"field\"><input name=\"user\" type=\"hidden\"/><button>Next</button></div><div class=\"links\"><a class=\"auth\" href=\"/id/\">Log in</a></div><div class=\"field\"><a class=\"localAccountLinkOpen\">I have a Sputniknews.com account</a></div><div class=\"field checkbox\"><input id=\"accountCreateConfirm\" name=\"confirm\" type=\"checkbox\"/><label for=\"accountCreateConfirm\"><i></i>\n",
       "                \n",
       "                    I agree to the processing of my personal data for the purpose of creating a personal account on this site using social media plugins, in compliance with the <a href=\"/docs/about/privacy_policy.html\" target=\"_blank\">Privacy Policy</a>\n",
       "</label></div></div></form><div class=\"success\" style=\"display: none;\"><div class=\"message\"><label></label></div><a class=\"button modalClose\">Ok</a></div></div><div class=\"error-message\"><label></label></div></div><div class=\"modal-window delete-account-window modalWindow\"><a class=\"close modalClose\"></a><header>Delete account</header><div class=\"body\">Are you sure you want to delete your Sputniknews.com account?<div class=\"button-group\"><a class=\"button yes\">Yes</a><a class=\"button modalClose\">No</a></div></div><div class=\"success\">Your account has been deleted! You can restore your account within 30 days by following the link sent to the e-mail address you entered during registration.<div class=\"button-group\"><a class=\"button modalClose\">Close</a></div></div></div><div class=\"modal-window window-account-confirm modalWindow modal-close-logout\"><a class=\"close modalClose\"></a><div class=\"body\"><div class=\"user line\"><span class=\"user__img\"><img alt=\"avatar\" height=\"50\" src=\"https://cdn1.img.sputniknews.com/i/avatar-default.png\" width=\"50\"/></span><h3>\n",
       "                \n",
       "                    Hello,\n",
       "                \n",
       "            <strong class=\"user__name\"></strong>!</h3></div><form action=\"/services/id/profile/update_gdpr/\" method=\"post\"><input id=\"user_id\" name=\"user_id\" type=\"hidden\"/><input id=\"user_token\" name=\"csrf_token\" type=\"hidden\"/><div class=\"field\">\n",
       "<p>We are committed to protecting your personal information and we have updated our Privacy Policy to comply with the General Data Protection Regulation (GDPR), a new EU regulation that went into effect on May 25, 2018.</p>\n",
       "<p>Please review our <a href=\"/docs/about/privacy_policy.html\" target=\"_blank\">Privacy Policy</a>. It contains details about the types of data we collect, how we use it, and your data protection rights.</p>\n",
       "<p>Since you already shared your personal data with us when you created your personal account, to continue using it, please check the box below:</p>\n",
       "</div><div class=\"field checkbox m-bold\"><input id=\"confirmAccount\" name=\"confirm\" type=\"checkbox\"/><label for=\"confirmAccount\"><i></i>\n",
       "                \n",
       "                    I agree to the processing of my personal data for the purpose of creating a personal account on this site, in compliance with the Privacy Policy.\n",
       "                \n",
       "            </label></div><div class=\"field\">\n",
       "<p>If you do not want us to continue processing your data, please <a class=\"deleteAccount\">click here</a> to delete your account.</p>\n",
       "<p>If you have any questions or concerns about our Privacy Policy, please contact us at: <a href=\"mailto:privacy@sputniknews.com\">privacy@sputniknews.com</a>.</p>\n",
       "</div><div class=\"field\"><button class=\"button m-btn\">Next</button></div></form></div></div><div class=\"modal-window window-comment-alert modalWindow\"><a class=\"close modalClose\"></a><div class=\"body\"><div class=\"message\">\n",
       "                    Votre message a été envoyé!\n",
       "                </div></div></div><div class=\"modal-window window-auth modalWindow\"><a class=\"close modalClose\"></a><header>Log in</header><div class=\"body\"><form action=\"/services/id/login/\" method=\"post\"><div class=\"line\"><div class=\"field\"><label for=\"authLogin\">E-mail:</label><input autocomplete=\"email\" id=\"authLogin\" name=\"login\" type=\"text\"/></div><div class=\"field\"><label for=\"authPassword\">Password:</label><input id=\"authPassword\" name=\"password\" type=\"password\"/></div><div class=\"field checkbox\"><input id=\"authRemember\" name=\"remember\" type=\"checkbox\"/><label for=\"authRemember\"><i></i>Remember me</label></div><div class=\"field\"><button>Sign in</button></div><div class=\"links\"><a class=\"register\">Register</a><a class=\"restore\">Forgot your password?</a><a class=\"rules\" href=\"/docs/about/privacy_policy.html\">Privacy Policy</a></div><div class=\"field social\"><label>Other ways to sign in:</label><div class=\"group__buttons\"><div class=\"social__button facebook\" data-social=\"facebook\"><span class=\"social__icon\"><svg color=\"#FFFFFF\" viewbox=\"0 0 216 216\" xmlns=\"http://www.w3.org/2000/svg\"><path d=\"M204.1 0H11.9C5.3 0 0 5.3 0 11.9v192.2c0 6.6 5.3 11.9 11.9 11.9h103.5v-83.6H87.2V99.8h28.1v-24c0-27.9 17-43.1 41.9-43.1 11.9 0 22.2.9 25.2 1.3v29.2h-17.3c-13.5 0-16.2 6.4-16.2 15.9v20.8h32.3l-4.2 32.6h-28V216h55c6.6 0 11.9-5.3 11.9-11.9V11.9C216 5.3 210.7 0 204.1 0z\" fill=\"#FFFFFF\"></path></svg></span><span class=\"social__label\">Log in with Facebook</span></div><div class=\"social__button vkontakte\" data-social=\"vkontakte\"><span class=\"social__label\">Log in with VK</span></div><div class=\"social__button google\" data-social=\"google\"><span class=\"social__icon\"><svg version=\"1.1\" viewbox=\"0 0 48 48\" xmlns=\"http://www.w3.org/2000/svg\"><g><path d=\"M24 9.5c3.54 0 6.71 1.22 9.21 3.6l6.85-6.85C35.9 2.38 30.47 0 24 0 14.62 0 6.51 5.38 2.56 13.22l7.98 6.19C12.43 13.72 17.74 9.5 24 9.5z\" fill=\"#EA4335\"></path><path d=\"M46.98 24.55c0-1.57-.15-3.09-.38-4.55H24v9.02h12.94c-.58 2.96-2.26 5.48-4.78 7.18l7.73 6c4.51-4.18 7.09-10.36 7.09-17.65z\" fill=\"#4285F4\"></path><path d=\"M10.53 28.59c-.48-1.45-.76-2.99-.76-4.59s.27-3.14.76-4.59l-7.98-6.19C.92 16.46 0 20.12 0 24c0 3.88.92 7.54 2.56 10.78l7.97-6.19z\" fill=\"#FBBC05\"></path><path d=\"M24 48c6.48 0 11.93-2.13 15.89-5.81l-7.73-6c-2.15 1.45-4.92 2.3-8.16 2.3-6.26 0-11.57-4.22-13.47-9.91l-7.98 6.19C6.51 42.62 14.62 48 24 48z\" fill=\"#34A853\"></path><path d=\"M0 0h48v48H0z\" fill=\"none\"></path></g></svg></span><span class=\"social__label\">Sign in with Google</span></div></div></div></div></form></div><div class=\"error-message\"><label></label></div></div><div class=\"modal-window window-message modalWindow\"><a class=\"close modalClose\"></a><header class=\"modalWindowHeader\"></header><div class=\"body\"><div class=\"message\"><label></label></div><a class=\"button ok modalClose\">Ok</a></div></div><div class=\"global-fade globalFade\"></div><div class=\"modal-window window-push modalWindow\"><div class=\"push__head\">Sputnik push notifications</div><div class=\"push__body\">\n",
       "<p>Get push notifications from Sputnik International</p>\n",
       "</div><div class=\"push__btn\"><a class=\"button\" href=\"/web_push/subscribe/\">Accept</a><a class=\"button button-default modalClose\">Refuse</a></div></div><script src=\"https://cdn1.img.sputniknews.com/min/js/pages/push.js?23d7375b4\"></script><div id=\"fb-root\"></div><script>\n",
       "                        if (typeof lazyloadScript === 'function') {\n",
       "                            lazyloadScript(\".fb-comments, .fb-page, .fb-share-button, #share .facebook, .social-likes__widget_facebook\", function() {\n",
       "                                (function(d, s, id) {\n",
       "                                  var js, fjs = d.getElementsByTagName(s)[0];\n",
       "                                  if (d.getElementById(id)) return;\n",
       "                                  js = d.createElement(s); js.id = id;\n",
       "                                  js.src = \"//connect.facebook.net/en_US/sdk.js#xfbml=1&appId=799135720145118&version=v2.8\";\n",
       "                                  fjs.parentNode.insertBefore(js, fjs);\n",
       "                                }(document, 'script', 'facebook-jssdk'));\n",
       "                            });\n",
       "                        }\n",
       "                    </script></body></html>"
      ]
     },
     "execution_count": 60,
     "metadata": {},
     "output_type": "execute_result"
    }
   ],
   "source": [
    "get_soup(urls[0])"
   ]
  },
  {
   "cell_type": "code",
   "execution_count": 81,
   "metadata": {},
   "outputs": [],
   "source": [
    "soup = get_soup(urls[0])"
   ]
  },
  {
   "cell_type": "code",
   "execution_count": 82,
   "metadata": {},
   "outputs": [],
   "source": [
    "sub_urls = soup.find('div', class_ = 'b-plainlist').find_all('a')\n",
    "each_urls = [ 'https://sputniknews.com/'+ a['href'] for a in sub_urls]"
   ]
  },
  {
   "cell_type": "code",
   "execution_count": 83,
   "metadata": {
    "scrolled": true
   },
   "outputs": [
    {
     "data": {
      "text/plain": [
       "[]"
      ]
     },
     "execution_count": 83,
     "metadata": {},
     "output_type": "execute_result"
    }
   ],
   "source": [
    "get_soup(urls[0]).find_all('div', clsss_='b-plainlist')"
   ]
  },
  {
   "cell_type": "code",
   "execution_count": 84,
   "metadata": {
    "scrolled": true
   },
   "outputs": [],
   "source": [
    "a= set(each_urls )"
   ]
  },
  {
   "cell_type": "code",
   "execution_count": 85,
   "metadata": {},
   "outputs": [],
   "source": [
    "soup = get_soup(urls[1])\n",
    "sub_urls = soup.find('div', class_ = 'b-plainlist').find_all('a')\n",
    "each_urls = [ 'https://sputniknews.com/'+ a['href'] for a in sub_urls]\n",
    "b= list(set(each_urls ))"
   ]
  },
  {
   "cell_type": "code",
   "execution_count": 89,
   "metadata": {},
   "outputs": [],
   "source": [
    "old_urls = set()"
   ]
  },
  {
   "cell_type": "code",
   "execution_count": 90,
   "metadata": {},
   "outputs": [],
   "source": [
    "old_urls.update(a)"
   ]
  },
  {
   "cell_type": "code",
   "execution_count": 99,
   "metadata": {
    "scrolled": true
   },
   "outputs": [],
   "source": [
    "urls = list(a-b)"
   ]
  },
  {
   "cell_type": "code",
   "execution_count": 117,
   "metadata": {},
   "outputs": [
    {
     "data": {
      "text/plain": [
       "'https://sputniknews.com//military/201906301076103760-russian-aerobatic-teams-stunts-army-exhibition/'"
      ]
     },
     "execution_count": 117,
     "metadata": {},
     "output_type": "execute_result"
    }
   ],
   "source": [
    "urls[0]"
   ]
  },
  {
   "cell_type": "code",
   "execution_count": 118,
   "metadata": {
    "scrolled": true
   },
   "outputs": [
    {
     "ename": "AttributeError",
     "evalue": "'str' object has no attribute 'text'",
     "output_type": "error",
     "traceback": [
      "\u001b[1;31m---------------------------------------------------------------------------\u001b[0m",
      "\u001b[1;31mAttributeError\u001b[0m                            Traceback (most recent call last)",
      "\u001b[1;32m<ipython-input-118-dcbc09bd142f>\u001b[0m in \u001b[0;36m<module>\u001b[1;34m\u001b[0m\n\u001b[1;32m----> 1\u001b[1;33m \u001b[0mparse_page\u001b[0m\u001b[1;33m(\u001b[0m\u001b[0murls\u001b[0m\u001b[1;33m[\u001b[0m\u001b[1;36m0\u001b[0m\u001b[1;33m]\u001b[0m\u001b[1;33m)\u001b[0m\u001b[1;33m\u001b[0m\u001b[1;33m\u001b[0m\u001b[0m\n\u001b[0m",
      "\u001b[1;32m<ipython-input-116-3986dc6dbf2f>\u001b[0m in \u001b[0;36mparse_page\u001b[1;34m(url)\u001b[0m\n\u001b[0;32m     42\u001b[0m     \u001b[0mcontent\u001b[0m \u001b[1;33m=\u001b[0m \u001b[1;34m''\u001b[0m\u001b[1;33m\u001b[0m\u001b[1;33m\u001b[0m\u001b[0m\n\u001b[0;32m     43\u001b[0m     \u001b[1;32mfor\u001b[0m \u001b[0mparagraph\u001b[0m \u001b[1;32min\u001b[0m \u001b[0mcontent_list\u001b[0m\u001b[1;33m:\u001b[0m\u001b[1;33m\u001b[0m\u001b[1;33m\u001b[0m\u001b[0m\n\u001b[1;32m---> 44\u001b[1;33m         \u001b[0mcontent\u001b[0m \u001b[1;33m=\u001b[0m \u001b[0mcontent\u001b[0m\u001b[1;33m.\u001b[0m\u001b[0mtext\u001b[0m \u001b[1;33m+\u001b[0m \u001b[0mto_string\u001b[0m\u001b[1;33m(\u001b[0m\u001b[0mparagraph\u001b[0m\u001b[1;33m)\u001b[0m \u001b[1;33m+\u001b[0m \u001b[1;34m' '\u001b[0m\u001b[1;33m\u001b[0m\u001b[1;33m\u001b[0m\u001b[0m\n\u001b[0m\u001b[0;32m     45\u001b[0m     \u001b[0mcontent\u001b[0m \u001b[1;33m=\u001b[0m \u001b[0mcontent\u001b[0m\u001b[1;33m.\u001b[0m\u001b[0mreplace\u001b[0m\u001b[1;33m(\u001b[0m\u001b[1;34mu'\\xa0'\u001b[0m\u001b[1;33m,\u001b[0m \u001b[1;34mu' '\u001b[0m\u001b[1;33m)\u001b[0m\u001b[1;33m\u001b[0m\u001b[1;33m\u001b[0m\u001b[0m\n\u001b[0;32m     46\u001b[0m \u001b[1;33m\u001b[0m\u001b[0m\n",
      "\u001b[1;31mAttributeError\u001b[0m: 'str' object has no attribute 'text'"
     ]
    }
   ],
   "source": [
    "parse_page(urls[0])"
   ]
  },
  {
   "cell_type": "code",
   "execution_count": 28,
   "metadata": {},
   "outputs": [
    {
     "name": "stdout",
     "output_type": "stream",
     "text": [
      "DatetimeIndex(['2019-07-01', '2019-07-02', '2019-07-03', '2019-07-04',\n",
      "               '2019-07-05', '2019-07-06', '2019-07-07', '2019-07-08',\n",
      "               '2019-07-09', '2019-07-10',\n",
      "               ...\n",
      "               '2020-06-22', '2020-06-23', '2020-06-24', '2020-06-25',\n",
      "               '2020-06-26', '2020-06-27', '2020-06-28', '2020-06-29',\n",
      "               '2020-06-30', '2020-07-01'],\n",
      "              dtype='datetime64[ns]', length=367, freq='D')\n"
     ]
    }
   ],
   "source": [
    "print(dt_index)"
   ]
  },
  {
   "cell_type": "code",
   "execution_count": 26,
   "metadata": {},
   "outputs": [],
   "source": [
    "dt_index = pd.date_range(start= '2019-07-01', end='2020-07-01')"
   ]
  },
  {
   "cell_type": "code",
   "execution_count": 120,
   "metadata": {
    "scrolled": false
   },
   "outputs": [
    {
     "data": {
      "text/plain": [
       "[<p>The Army-2019 military expo concludes in the Moscow Region's Alabino with a closing show featuring real battle simulations using the newest weapons, tanks, and aircraft.</p>,\n",
       " <p>The 5th forum, Army-2019, which showcases modern arms and military equipment, kicked off at Patriot Park in the Moscow Region on Tuesday. The forum will run until Sunday.</p>,\n",
       " <p>The forum is a multifaceted event that apart from the main exposition, includes special projects, such as an international exhibition of high-throughput equipment and technology for re-equipping enterprises in the military-industrial complex, Intellectual Technology Exhibition 2019, and Innovation Club special exhibition.</p>]"
      ]
     },
     "execution_count": 120,
     "metadata": {},
     "output_type": "execute_result"
    }
   ],
   "source": [
    "soup.find('div' , class_ ='b-article').find_all('p')[:-1]"
   ]
  },
  {
   "cell_type": "code",
   "execution_count": 123,
   "metadata": {},
   "outputs": [],
   "source": [
    "content = ''\n",
    "for paragraph in content_list:\n",
    "    content = content + to_string(paragraph) + ' '"
   ]
  },
  {
   "cell_type": "code",
   "execution_count": 124,
   "metadata": {},
   "outputs": [
    {
     "data": {
      "text/plain": [
       "\"The Army-2019 military expo concludes in the Moscow Region's Alabino with a closing show featuring real battle simulations using the newest weapons, tanks, and aircraft. The 5th forum, Army-2019, which showcases modern arms and military equipment, kicked off at Patriot Park in the Moscow Region on Tuesday. The forum will run until Sunday. The forum is a multifaceted event that apart from the main exposition, includes special projects, such as an international exhibition of high-throughput equipment and technology for re-equipping enterprises in the military-industrial complex, Intellectual Technology Exhibition 2019, and Innovation Club special exhibition. \""
      ]
     },
     "execution_count": 124,
     "metadata": {},
     "output_type": "execute_result"
    }
   ],
   "source": [
    "content"
   ]
  }
 ],
 "metadata": {
  "hide_input": false,
  "kernelspec": {
   "display_name": "Python 3 (ipykernel)",
   "language": "python",
   "name": "python3"
  },
  "language_info": {
   "codemirror_mode": {
    "name": "ipython",
    "version": 3
   },
   "file_extension": ".py",
   "mimetype": "text/x-python",
   "name": "python",
   "nbconvert_exporter": "python",
   "pygments_lexer": "ipython3",
   "version": "3.9.7"
  },
  "toc": {
   "base_numbering": 1,
   "nav_menu": {},
   "number_sections": true,
   "sideBar": true,
   "skip_h1_title": false,
   "title_cell": "Table of Contents",
   "title_sidebar": "Contents",
   "toc_cell": false,
   "toc_position": {},
   "toc_section_display": true,
   "toc_window_display": false
  },
  "varInspector": {
   "cols": {
    "lenName": 16,
    "lenType": 16,
    "lenVar": 40
   },
   "kernels_config": {
    "python": {
     "delete_cmd_postfix": "",
     "delete_cmd_prefix": "del ",
     "library": "var_list.py",
     "varRefreshCmd": "print(var_dic_list())"
    },
    "r": {
     "delete_cmd_postfix": ") ",
     "delete_cmd_prefix": "rm(",
     "library": "var_list.r",
     "varRefreshCmd": "cat(var_dic_list()) "
    }
   },
   "position": {
    "height": "144.848px",
    "left": "1083.63px",
    "right": "20px",
    "top": "477.996px",
    "width": "350px"
   },
   "types_to_exclude": [
    "module",
    "function",
    "builtin_function_or_method",
    "instance",
    "_Feature"
   ],
   "window_display": true
  }
 },
 "nbformat": 4,
 "nbformat_minor": 4
}
