{
 "cells": [
  {
   "cell_type": "code",
   "execution_count": 1,
   "metadata": {
    "ExecuteTime": {
     "end_time": "2022-02-04T02:23:58.922920Z",
     "start_time": "2022-02-04T02:23:58.900909Z"
    }
   },
   "outputs": [],
   "source": [
    "#!/usr/bin/env python\n",
    "# -*- coding: utf-8 -*-\n",
    "\n",
    "import pandas as pd\n",
    "from bs4 import BeautifulSoup\n",
    "import requests\n",
    "from datetime import datetime\n",
    "import time\n",
    "import re\n",
    "from progressbar import ProgressBar\n",
    "from dateutil.parser import parse\n",
    "import datetime"
   ]
  },
  {
   "cell_type": "code",
   "execution_count": 2,
   "metadata": {
    "ExecuteTime": {
     "end_time": "2022-02-04T02:23:59.073052Z",
     "start_time": "2022-02-04T02:23:59.067052Z"
    }
   },
   "outputs": [],
   "source": [
    "#Set headers\n",
    "headers = {'User-Agent': 'Mozilla/5.0 (X11; Linux x86_64) AppleWebKit/537.36 (KHTML, like Gecko) Chrome/67.0.3396.99 Safari/537.36'}"
   ]
  },
  {
   "cell_type": "markdown",
   "metadata": {},
   "source": [
    "# download url"
   ]
  },
  {
   "cell_type": "code",
   "execution_count": 5,
   "metadata": {
    "ExecuteTime": {
     "end_time": "2022-02-04T02:31:39.878316Z",
     "start_time": "2022-02-04T02:30:54.334068Z"
    }
   },
   "outputs": [
    {
     "name": "stdout",
     "output_type": "stream",
     "text": [
      "1503882500761956352 2022-03-16 08:55:03 +0900 <nytimes> Some players on the Mets and Yankees may be unable to play in New York when the 2022 MLB season begins next month because of a city vaccination mandate.  https://t.co/hLQHskYYKA\n",
      "1503879982896005123 2022-03-16 08:45:03 +0900 <nytimes> A top Republican in the Ohio Senate race used offensive stereotypes about Asian people in 2013, citing a book that drew allegations of racism.  https://t.co/Hq6mkeMk0f\n",
      "1503876218634051588 2022-03-16 08:30:05 +0900 <nytimes> At least nine House Democrats have said in the last five days that they tested positive for the coronavirus. More than half of those cases emerged after lawmakers attended a party retreat last week in Philadelphia.  https://t.co/NHm8UZe1uM\n",
      "1503873723664941073 2022-03-16 08:20:11 +0900 <nytimes> In 1960, a child’s body was found in Arizona. Using DNA technology, investigators have finally identified her as Sharon Lee Gallegos, age 4.  It is the oldest cold case that the National Center for Missing and Exploited Children has ever helped solve.  https://t.co/IC4QR2Q3X4\n",
      "1503871180863946753 2022-03-16 08:10:04 +0900 <nytimes> Zelensky was making an argument about nationhood — that it is formed not by history or by language, but by memories and personal connections. “Note,” he continued, “that I’m speaking now in Russian, but no one in Russia understands what I’m talking about.”  https://t.co/r21OGYVu7W\n",
      "1503868688671383552 2022-03-16 08:00:10 +0900 <nytimes> A yearslong trail of red flags signaling a Florida man’s escalating hatred toward women was missed by the authorities before a 2018 shooting at a Florida yoga studio that left two dead and five injured, the U.S. Secret Service found in a new report.  https://t.co/XgJoZ67aN1\n",
      "1503864337491972098 2022-03-16 07:42:53 +0900 <nytimes> Why does daylight saving time even exist? It was the railroad companies of the 19th century, intent on policing time, that set us on this course of sleep deprivation.  https://t.co/W75Sgp9LGI\n",
      "1503863629569011717 2022-03-16 07:40:04 +0900 <nytimes> The Ukrainian city of Mykolaiv is being shelled every day. Bodies are piled at the morgue. But residents refuse to succumb.  https://t.co/XfIjEDRnJx  https://t.co/JpoBXN5GXm\n",
      "1503861254808645635 2022-03-16 07:30:38 +0900 <nytimes> The Senate on Tuesday voted to make Daylight Saving Time permanent. The bill, if made law, would take effect in November 2023, freeing Americans from the biannual ritual of changing clocks.  https://t.co/LVF8mmYXk2  https://t.co/8ChOoQtP7o\n",
      "1503857359889780738 2022-03-16 07:15:09 +0900 <nytimes> The soaring melody of Ukraine’s national anthem has been heard from antiwar protests in Moscow to the stages of major concert halls, from NBA arenas to TikTok posts. It is known by a stirring opening line: \"Ukraine’s glory has not perished.\"  https://t.co/ZZwpmotZMO\n",
      "1503854839771586562 2022-03-16 07:05:08 +0900 <nytimes> NATO defense ministers are expected on Wednesday to agree to examine more permanent and larger NATO deployments in countries near Ukraine and Russia. A final decision will be made at the annual NATO summit meeting at the end of June.  https://t.co/DwLttgee1e  https://t.co/h4hYlG5Sp4\n",
      "1503853662099189760 2022-03-16 07:00:27 +0900 <nytimes> Nearly half of Hong Kong’s 7.4 million residents have probably been infected by the coronavirus, according to new research, a striking figure for a city that has taken very strict precautions and until recently had reported only tiny numbers of cases.  https://t.co/vTL1yYswCR\n",
      "1503851317067976707 2022-03-16 06:51:08 +0900 <nytimes> A Ukrainian journalist, Oleksandra Kuvshynova, 24, was also killed outside Kyiv in the attack, according to the network and Ukrainian authorities. She was a local journalist working with the Fox News team and had been traveling in the same vehicle.  https://t.co/O6BIrxDORf\n",
      "1503851041305026571 2022-03-16 06:50:03 +0900 <nytimes> Oil prices dropped Tuesday, falling below $100 a barrel, as China, the world's largest importer, imposed new lockdowns to combat a coronavirus outbreak. The moves caused airline stocks to rally, and shares of oil producers to slide.  https://t.co/OHP2z77pK0\n",
      "1503848544284913665 2022-03-16 06:40:07 +0900 <nytimes> As Russia attacks Ukraine, many Syrians watch with a sense of déjà vu, fearing that the Syrian war may offers lessons to Vladimir Putin on how to act with impunity.  https://t.co/QDpy1KMfqL\n",
      "1503846049160605704 2022-03-16 06:30:12 +0900 <nytimes> With Russia cracking down on free speech since invading Ukraine, some Russian creative professionals have fled the country, to avoid being silenced or arrested. Others have been cut off from Western clients and the tools of their trades.  https://t.co/bty6VQv6AP\n",
      "1503844804756652035 2022-03-16 06:25:16 +0900 <nytimes> Books that shape us can come in many forms. For @heyitsfranklin2 of @nytimesbooks, The Chronicles of Narnia changed his relationship to reading, he told @lachristensen  and writer @alexanderchee.  https://t.co/kiV2Qwkljo  https://t.co/cOr7Esmqjh\n",
      "1503843504371421184 2022-03-16 06:20:06 +0900 <nytimes> Mounting data suggest Johnson &amp; Johnson’s Covid shot prevents infection, hospitalization and death at least as well as Pfizer’s and Moderna’s.  https://t.co/4AmJNn0DyW\n",
      "1503842256201076741 2022-03-16 06:15:08 +0900 <nytimes> Moderna se enfrenta cara a cara con Pfizer-BioNTech por la oportunidad de inmunizar a los niños más pequeños, los únicos estadounidenses que aún no son elegibles para vacunarse.  https://t.co/tMYdNrFnrd\n",
      "1503838487455350791 2022-03-16 06:00:10 +0900 <nytimes> Brother and sister, Dmytro, 10, and Viktoriia, 8, are among the millions who fled Ukraine. Last week, they arrived for their first day of school in Italy, and students greeted them with tiny Ukrainian and Italian flags they made in classrooms a day prior.  https://t.co/2oA7gPH4fF  https://t.co/lUr4lJWzmf\n",
      "[!] No more data! Scraping will stop now.\n",
      "found 0 deleted tweets in this search.\n",
      "[!] No more data! Scraping will stop now.\n",
      "found 0 deleted tweets in this search.\n",
      "1504603508368105480 2022-03-18 08:40:05 +0900 <nytimes> Domenico DeMarco of Di Fara Pizza in Brooklyn has died at 85. “To the untrained eye,” Pete Wells writes, it could appear “that he simply bowed over a circle of raw dough and waited while it assembled itself into a pizza.”  https://t.co/HEbVwdExzM\n",
      "1504598497051435012 2022-03-18 08:20:10 +0900 <nytimes> Researchers are keeping an eye on a highly transmissible subvariant of Omicron known as BA.2. Here’s what we know so far about it.  https://t.co/NMrJA89TxK\n",
      "1504593476201160704 2022-03-18 08:00:13 +0900 <nytimes> Lia Thomas won an NCAA championship in the 500-yard freestyle on Thursday. With her victory, Thomas, who competes for the University of Pennsylvania, became the first openly transgender woman to win an NCAA swimming title.  https://t.co/eRtOM2m1UW\n",
      "1504588429597855750 2022-03-18 07:40:10 +0900 <nytimes> Breaking News: A 13-year-old boy was behind the wheel of a pickup truck that struck a van in Texas on Tuesday night in a collision that killed nine people, including a college golf coach and six of his players, officials said.  https://t.co/kRjyGeAxJQ\n",
      "1504585895747411971 2022-03-18 07:30:06 +0900 <nytimes> A gunman fatally shot two people and wounded two others aboard a public bus in Fort Lauderdale, Florida, on Thursday afternoon, the authorities said.  https://t.co/DOFTrW2iDz\n",
      "1504583385871785985 2022-03-18 07:20:07 +0900 <nytimes> A 15-year-old Louisiana high school student who was captured on video appearing to throw cotton balls at a Black student and whip him several times with a belt was arrested on Tuesday on a hate crime charge, the authorities said.  https://t.co/LFJi3jJUzM\n",
      "1504578386882084871 2022-03-18 07:00:15 +0900 <nytimes> A math professor at Columbia is accusing the university of fiddling with the numbers that go into its No. 2 ranking in the U.S. News &amp; World Report, renewing a debate over whether the rankings are valuable or accurate. Columbia says it stands by its data.  https://t.co/joD5MdWUtJ\n",
      "1504574575329390592 2022-03-18 06:45:07 +0900 <nytimes> After two years of political divisions and a pandemic, many Americans say they're coming together for a common cause: supporting Ukraine.  https://t.co/0JtoVRbDps\n",
      "1504567038609702914 2022-03-18 06:15:10 +0900 <nytimes> The House voted 424-8 on Thursday to strip Russia of its preferential trade status with the U.S., moving to further penalize the country’s economy in response to the invasion of Ukraine.  https://t.co/lq2agew4iC\n",
      "1504565757207842817 2022-03-18 06:10:04 +0900 <nytimes> A bipartisan majority of Ohio Supreme Court justices has rejected, for the third time in barely two months, new maps of state legislative districts that heavily favor the Republican Party — ratcheting up an extraordinary legal standoff.  https://t.co/izZFrq4LPG\n",
      "1504563290801848322 2022-03-18 06:00:16 +0900 <nytimes> \"We cherish the classic cars, but we welcome the future car.\" The rise of electric vehicles is giving designers an opportunity to rethink their approach to cars.  https://t.co/c4Hp1JsYFI\n",
      "1504559470818512913 2022-03-18 05:45:05 +0900 <nytimes> Europa ha pasado dos años en alerta máxima por la pandemia, pero ahora la manifestación de sus miedos y su deseo de defenderse pasó de cubrebocas, vacunas y cuarentenas a búnkeres, pastillas de yodo y alarmas que avisan de ataques aéreos.  https://t.co/rX4kko8DOi\n",
      "1504555702534250497 2022-03-18 05:30:07 +0900 <nytimes> Ralph Terry, the Yankees pitcher who threw two of the most dramatic and decisive pitches in baseball history, each of them ending a World Series but with stunningly different outcomes, died on Wednesday. He was 86.  https://t.co/ZFS5GFCN6e\n",
      "1504553165647228929 2022-03-18 05:20:02 +0900 <nytimes> Thirty-five manufacturers around the world have signed agreements to produce generic versions of Pfizer’s Covid pills and sell them inexpensively in 95 lower-income countries that together are home to more than half the world’s people.  https://t.co/6gWdSGP1Ab\n",
      "1504550660888571908 2022-03-18 05:10:05 +0900 <nytimes> As the war in Ukraine causes an exodus of refugees, countries have embraced them warmly, bringing a welcome that historically denied populations fleeing global conflicts. The contrast was seen this week when Greece was accused of denying Syrian refugees.  https://t.co/8ePmobrFXA\n",
      "1504548166070325248 2022-03-18 05:00:10 +0900 <nytimes> The breadth of her creative ambition has made Rosalía, the Spanish pop singer, one of the most watched, scrutinized and copied young artists in the world. \"I just want to hear something I haven’t heard before,\" she said. \"That’s the intention always.\"  https://t.co/tyk6LDNZsn\n",
      "1504543964052930572 2022-03-18 04:43:28 +0900 <nytimes> Breaking News: Peru’s top court reinstated the pardon of Alberto Fujimori, the former president convicted in 2009 of human rights abuses.  https://t.co/uAhqDSnT6u\n",
      "1504540623440859142 2022-03-18 04:30:12 +0900 <nytimes> The largest federally owned utility in the U.S. plans to invest more than $3.5 billion in new gas-burning electric plants, despite President Biden’s commitment to move away from fossil fuels and eliminate greenhouse gases from the power sector.  https://t.co/Q64RJl72Mo\n",
      "1504538080988041218 2022-03-18 04:20:06 +0900 <nytimes> The official Twitter account for the president of Russia follows 22 others — and one of them is Arnold Schwarzenegger, who in a video posted on Thursday debunked Russian disinformation about the war on Ukraine and urged Putin to end the conflict.  https://t.co/O1kTCsoenr\n",
      "1504535568885157891 2022-03-18 04:10:07 +0900 <nytimes> Starting April 1, fully vaccinated travelers will no longer need to show proof of a recent negative coronavirus test to enter Canada. All air travelers may still be selected at random to take PCR tests upon arrival at airports.  https://t.co/lnu3ep2XQA\n",
      "[!] No more data! Scraping will stop now.\n",
      "found 0 deleted tweets in this search.\n",
      "1504963400559910920 2022-03-19 08:30:10 +0900 <nytimes> At least one person was killed and nearly 500 homes were evacuated in central Texas after a series of wildfires burned more than 45,000 acres of land on Thursday and Friday, according to authorities.  https://t.co/4lTIgTCJRt\n",
      "1504953317805416452 2022-03-19 07:50:06 +0900 <nytimes> Powerful storms moved through Alabama and Florida on Friday, injuring six people, damaging several mobile homes and taking out power lines, the authorities said.  https://t.co/6ZOyLAUmTL\n",
      "1504948279708164106 2022-03-19 07:30:05 +0900 <nytimes> Ukraine’s food supply chain is “falling apart” amid the Russian invasion, and the disruption of food supplies within the country is threatening crucial exports of grain that could undermine global food security, the UN said on Friday.  https://t.co/VltencxZnR  https://t.co/QY9yEvMQR0\n",
      "1504944504981368832 2022-03-19 07:15:05 +0900 <nytimes> Russian forces on Friday struck a warplane repair plant in western Ukraine, about 50 miles from the Polish border, as President Biden warned President Xi Jinping of China not to provide military aid to Russia. Here are the latest updates in Ukraine.  https://t.co/94Z6541ASS\n",
      "1504940755902771201 2022-03-19 07:00:11 +0900 <nytimes> The heavy boom of artillery sounded on the edge of Kyiv. A woman held a piece of shrapnel from a shell that landed in her yard.  Savage artillery exchanges have been unfolding on the city's outskirts, where Russia's advance has been held back for now.  https://t.co/wg1iYtiNAY\n",
      "1504936457747771397 2022-03-19 06:43:06 +0900 <nytimes> An even more transmissible version of the Omicron variant known as BA.2 now accounts for about 30% of new Covid cases in New York City. “Community spread remains low,” said the health commissioner. “Hospitalizations and deaths are stable or decreasing.”  https://t.co/BrVLnvXzun\n",
      "1504933239193935872 2022-03-19 06:30:19 +0900 <nytimes> A judge on Tuesday threw out motions by the attorney general of the District of Columbia to name Mark Zuckerberg, the chief executive of Meta, as a defendant in a privacy lawsuit.  https://t.co/HV1cUzhQ4N\n",
      "1504929658227339271 2022-03-19 06:16:05 +0900 <nytimes> Sergiy Stakhovsky is one of Ukraine's most prominent tennis stars. When Russia invaded, he left a family vacation in Hungary to return home — joining some of the country's most prominent tennis stars taking up arms to defend their country.  https://t.co/p3lmNaEVl2  https://t.co/AQAYqxmG0J\n",
      "1504925725660430338 2022-03-19 06:00:27 +0900 <nytimes> The pandemic is not yet over. But New York’s experience of the last two years will be studied for decades to come. Here are some of the lessons learned so far:  https://t.co/3zS5IkzMyo\n",
      "1504921858042482695 2022-03-19 05:45:05 +0900 <nytimes> A powerful psychiatric body in the U.S. has added a new disorder to its diagnostic manual: prolonged grief. Its inclusion steers clinicians toward specialized treatments, but stokes the debate about pathologizing basic aspects of the human experience.  https://t.co/zJ63Zc2TLO  https://t.co/AKKK4g6OG2\n",
      "1504920127854325762 2022-03-19 05:38:13 +0900 <nytimes> The quarterback Deshaun Watson will be traded from the Houston Texans to the Cleveland Browns, a week after a grand jury declined to bring charges on several sexual misconduct allegations.  https://t.co/bicBEcqlJr\n",
      "1504918110058520578 2022-03-19 05:30:12 +0900 <nytimes> “David clearly loved me too, and he wasn’t afraid to show it, but I couldn’t help worrying about our age difference,” Rosemary Howe Camozzi writes in a Modern Love essay. “He wanted to start a family, and I already had one.”  https://t.co/lMTowaZfhg\n",
      "1504916361356713994 2022-03-19 05:23:15 +0900 <nytimes> The S&amp;P 500 had its best week since November 2020, as oil prices slid and the Federal Reserve provided clarity on interest rates.  https://t.co/MGzKqOHJtC\n",
      "1504914313051582464 2022-03-19 05:15:06 +0900 <nytimes> A combination of rapidly rising home prices and pandemic work-from-home flexibility has prompted some hopeful homeowners to skip the first step — owning a primary home — and go straight to buying a second home in a more affordable location.  https://t.co/jV71Qc4LmB\n",
      "1504913056836763648 2022-03-19 05:10:07 +0900 <nytimes> A few years ago, Nicola Coughlan was working in an optician’s office in Ireland. Now, with “Bridgerton” and “Derry Girls,” she’s starring in two of the most beloved shows on Netflix.  https://t.co/JbhWA6l09y\n",
      "1504910552065351687 2022-03-19 05:00:10 +0900 <nytimes> The U.S. put the world \"on notice\" Friday not to repair or refuel any of the 100 commercial and private aircraft that had breached export controls by flying into Russia. Violators would face stiff punishment, the Commerce Department said.  https://t.co/PeXLqynLBP\n",
      "1504908027249545217 2022-03-19 04:50:08 +0900 <nytimes> Thousands of ballot rejections from this month's primary in Texas could foreshadow future elections in other states that have tightened voting rules. In the state's largest county, Black voters disproportionately had their votes thrown out.  https://t.co/zjYRFt5E2V\n",
      "1504905497949970446 2022-03-19 04:40:05 +0900 <nytimes> A powerful psychiatric body in the U.S. has added a new disorder to its diagnostic manual: prolonged grief. Its inclusion steers clinicians toward specialized treatments, but stokes the debate about pathologizing basic aspects of the human experience.  https://t.co/WgYskuSQnI\n",
      "1504904912299307013 2022-03-19 04:37:45 +0900 <nytimes> Breaking News: In a conversation that lasted about two hours, President Biden warned China’s president, Xi Jinping, of “consequences” for Beijing if it helps Russia in Ukraine, said a U.S. official, offering no specifics.  https://t.co/6BfHQlc2Sd\n",
      "1504903034782031875 2022-03-19 04:30:17 +0900 <nytimes> Amid hollowed out buildings, debris and scattered belongings once housed in a residential building hit by a Russian missile in Kyiv, residents on Friday tried to salvage what they could from an attack. Follow live updates:  https://t.co/utDSZJQbQE  https://t.co/oj9rWbIgo3\n",
      "1504900466865549314 2022-03-19 04:20:05 +0900 <nytimes> Eugene N. Parker, the astrophysicist who predicted the existence of the solar wind, a continuous outpouring of charged particles traveling at a million miles per hour from the sun, has died at 94.  https://t.co/WHocXDs1Ut\n",
      "1504899230430896131 2022-03-19 04:15:10 +0900 <nytimes> Carrying rifles instead of rackets, three of Ukraine's most prominent tennis stars — Sergiy Stakhovsky, Andriy Medvedev and Alexandr Dolgopolov — have taken up arms to defend their country amid Russia’s invasion.  https://t.co/21mo7xIDVn\n",
      "1504897949096202243 2022-03-19 04:10:05 +0900 <nytimes> Despite signs of progress, the sporadic negotiations between Ukraine and Russia haven't indicated to Western officials that the talks have reached a serious stage or even confronted the most difficult issues.  https://t.co/mCU3l2fGd0\n",
      "1504891682604658691 2022-03-19 03:45:11 +0900 <nytimes> Office occupancy in the U.S. has hit a pandemic high, 40%, reached just once before in early December. Many companies are loosening Covid safety rules, leaving anxious workers to navigate masking and social distancing on their own.  https://t.co/wN94UZHAnI\n",
      "1504887873258012684 2022-03-19 03:30:03 +0900 <nytimes> A British ferry company, P&amp;O Ferries, laid off 800 people with immediate effect on Thursday, many of them over video. The abrupt terminations caused widespread service cancellations and drew immediate backlash from government officials and unions.  https://t.co/ZghW4MCCSN\n",
      "1504885378448252936 2022-03-19 03:20:08 +0900 <nytimes> \"This is the Irpin road of life.\"   As fighting intensifies northwest of Kyiv volunteer medics are risking their lives to try to rescue the last remaining residents in Irpin. Our journalists joined them on the three-mile journey.  https://t.co/xqynFn6Qan\n",
      "1504880367148404737 2022-03-19 03:00:13 +0900 <nytimes> If a New Yorker had told you on March 1, 2020, what the next two years held for the city, you would not have believed it.  From the 7 p.m. cheer to the rollout of vaccines and reopening, here’s a look back at what’s happened since then.  https://t.co/BKHoq1nx24\n",
      "1504879068650610691 2022-03-19 02:55:03 +0900 <nytimes> President Vladimir Putin on Friday made his first public appearance since Russian troops invaded Ukraine, addressing a crowd of tens of thousands at Moscow’s largest stadium. There were reports that the government mobilized state-linked workers to attend.  https://t.co/RhncHDuBzF\n",
      "1504876565041233934 2022-03-19 02:45:07 +0900 <nytimes> In Opinion  \"Ever since Asians began arriving in the United States, they have been met with hostility and rejection, often sanctioned by state and federal legislation,\" writes Min Jin Lee. \"The sad part is that so little has changed.\"  https://t.co/YHkTAFg76c\n",
      "1504872807007719435 2022-03-19 02:30:11 +0900 <nytimes> It’s hard to predict whether the FDA will authorize a second booster (or fourth dose) for all adults. Scientists and physicians are sharply divided over vaccine strategies and who should get another booster.  https://t.co/dAWGUubWeF\n",
      "1504869019475755014 2022-03-19 02:15:08 +0900 <nytimes> Dozens of employees, customers and agents of color are accusing State Farm of racial discrimination. A former employee said she was fired after she raised concerns that the insurer was using fraud as a pretext to deny the claims of Black customers.  https://t.co/7RKdpKenOZ\n",
      "1504865248494424101 2022-03-19 02:00:08 +0900 <nytimes> Channing Tatum, Sandra Bullock and Daniel Radcliffe are starring in a new comedy, \"The Lost City.\" In an interview, the trio had a lot to say about the movie (including Brad Pitt's cameo) and their past films like \"Magic Mike\" and \"Harry Potter.\"  https://t.co/viKK8pvhEC  https://t.co/b6JRsbopIU\n",
      "1504861453085458435 2022-03-19 01:45:04 +0900 <nytimes> In Ukraine, the world is watching with horror what is, for Russia, an increasingly standard practice: Its forces conducted similar attacks in Syria, bombing hospitals and other civilian structures as part of an intervention to prop up Syria’s government.  https://t.co/OBhK8t8HnJ\n",
      "1504857726815555584 2022-03-19 01:30:15 +0900 <nytimes> \"Morgue” is seen written on the side of a post office of a Mariupol neighborhood in a video verified by The New York Times. “They store bodies here, which they will have to bury themselves,” a man said in the video.  https://t.co/nWuBsncEU2\n",
      "1504853950662643727 2022-03-19 01:15:15 +0900 <nytimes> Gov. Ron DeSantis of Florida is expected to sign House Bill 1557, which limits what educators can say about gender and sexuality. Opponents call it the “Don’t Say Gay” bill.  Here is a line-by-line reading of the bill’s most consequential language.  https://t.co/fnhyxi6O9l\n",
      "1504850182655160329 2022-03-19 01:00:16 +0900 <nytimes> The war in Ukraine is setting into motion the first global energy crisis of its kind, and nations around the world should respond by reducing their use of oil and gas, the leader of a key international organization warned on Friday.  https://t.co/g5SJ97mk0n\n",
      "1504846417063460916 2022-03-19 00:45:19 +0900 <nytimes> Hong Kong said that more than one million people in the city of 7.5 million had tested positive for the coronavirus, amid a huge surge in deaths. Almost 95% of the city’s deaths have come in the past 30 days, government data show.  https://t.co/dAY9g0hibL\n",
      "1504842606269841455 2022-03-19 00:30:10 +0900 <nytimes> The pandemic is not yet over. But New York’s experience of the last two years will be studied for decades to come. Here are some of the lessons learned so far:  https://t.co/lmdyzd6Xr6  https://t.co/UnZCtWkOOE\n",
      "1504840063397646336 2022-03-19 00:20:04 +0900 <nytimes> Alexander Chekmenev, a Ukrainian photographer, has been documenting his country since the 1990s. For @NYTMag, he took portraits of citizens still in Kyiv, revealing fortitude, desperation and resolve in a city under attack.  https://t.co/kdCcBc0FuC\n",
      "1504838803097272351 2022-03-19 00:15:03 +0900 <nytimes> The format of “American Song Contest,” hosted by Kelly Clarkson and Snoop Dogg, will be familiar to millions of fans of the Eurovision Song Contest.  For those unaware of Eurovision’s intricacies, here’s a primer on the state-vs.-state showdown.  https://t.co/ReEKjaTXxf\n",
      "[!] No more data! Scraping will stop now.\n",
      "found 0 deleted tweets in this search.\n",
      "1505330818813730824 2022-03-20 08:50:09 +0900 <nytimes> Janet MacPherson, a fixture on the shores of Southern California and seemingly anywhere else that good surfing might be found, died on March 5 at her home on Carbon Beach in Malibu. She was 84.  https://t.co/kY4Yc9kFGx\n",
      "1505323260803792897 2022-03-20 08:20:07 +0900 <nytimes> “Russia is heading toward harsher internet censorship akin to China’s Great Firewall to better control its people,” our columnist writes. “The Ukraine crisis has only accelerated a process that started years earlier.” https://t.co/4y1zP4dwnS\n",
      "1505315686415011842 2022-03-20 07:50:01 +0900 <nytimes> A police officer in Kenosha, Wis., has resigned from his position as a school security officer after video circulating on social media showed him restraining a 12-year-old student by putting his knee on her neck.  https://t.co/DfY7RfUsu9\n",
      "1505310668236410887 2022-03-20 07:30:05 +0900 <nytimes> John Clayton, a veteran N.F.L. reporter who was nicknamed the Professor and made a career of detailed insight on teams, football analysis and concise game recaps, died on Friday. He was 67.  https://t.co/2yMIHpQXKv\n",
      "1505308159807832075 2022-03-20 07:20:07 +0900 <nytimes> “I had young soldiers talk to me afterward and hug me and cry.” How a general is helping destigmatize mental health issues by speaking openly about his own.  https://t.co/iIUYGjSeIN\n",
      "1505300610383556611 2022-03-20 06:50:07 +0900 <nytimes> In Opinion \"Trump and Putin, what a pair, shrinking in stature in the eyes of the world. Tiny, tiny Trump and cruel fool Putin,\" Maureen Dowd writes.   https://t.co/yTFX2uJQJV\n",
      "1505293051404734467 2022-03-20 06:20:05 +0900 <nytimes> Although organizers of the trucker protest outside Washington insist that their demonstration is nonpartisan and narrowly focused on Covid restrictions, it is animated by a broad, familiar array of conservative and right-wing issues and grievances.  https://t.co/J7R0vv7TJB\n",
      "1505285490840330247 2022-03-20 05:50:02 +0900 <nytimes> \"The Lost City,\" starring Sandra Bullock, Channing Tatum and Daniel Radcliffe, is one of the movies that Hollywood is looking at to gauge moviegoing. \"You do this all so you can put a film up that feels like it has some escapism to it,\" Bullock said.  https://t.co/NWbgCcRdQd\n",
      "1505282987398737926 2022-03-20 05:40:05 +0900 <nytimes> In Opinion “I’m still committed to coming in every day, trying to push and pull the greatness in and out of them,” one teacher said. “I just still worry. How many of them are going to be prepared for first grade?”  https://t.co/EP8xk4ctM6\n",
      "1505279715317358596 2022-03-20 05:27:05 +0900 <nytimes> Pope Francis on Saturday issued a new constitution to govern the Roman Catholic Church. Among the changes, the 54-page constitution stipulates that baptized lay Catholics, including women, can lead departments traditionally headed by cardinals.  https://t.co/PH8u4NKnCi\n",
      "1505277954959585284 2022-03-20 05:20:05 +0900 <nytimes> Despite Mercer’s best efforts in the first quarter to keep the game close, Connecticut scored with ease with a balanced offensive attack, made easy buckets in transition and used its height advantage to dominate on offense and defense.  https://t.co/4RSKWYCPTb\n",
      "1505273402541719553 2022-03-20 05:02:00 +0900 <nytimes> Louise Little shaped the education of her son Malcolm X as he evolved into a powerful thinker and speaker. But for a long time her story rarely figured into accounts of his life — until now.  https://t.co/UaW8a1ZT3k\n",
      "1505267892702560259 2022-03-20 04:40:06 +0900 <nytimes> Instead of landing the massive long-term deal that was once predicted for him, Carlos Correa agreed to join the rapidly rebuilding Minnesota Twins on a three-year $105.3 million contract.  https://t.co/qS79DcFLMb\n",
      "1505262876365406211 2022-03-20 04:20:10 +0900 <nytimes> Michael Bublé is most famous for reinterpreting other people’s songs, which he does on his new album, \"Higher.\"  “I categorize myself as a soul singer who loves the great American songbook, but loves writing pop songs. It’s a very strange place to live.”  https://t.co/umvFPdNxEM\n",
      "1505258777532116996 2022-03-20 04:03:53 +0900 <nytimes> The first No. 1 seed has fallen: Baylor, the defending champion, was upset by No. 8-seeded North Carolina in overtime.    https://t.co/YSMqq0btso  https://t.co/wfzdQUEIdj\n",
      "1505254984660787206 2022-03-20 03:48:49 +0900 <nytimes> Five southeastern African countries are set to begin vaccination drives against polio after an outbreak was declared in Malawi last month, the World Health Organization has said.  https://t.co/lURUjiZ43j\n",
      "1505250977938645001 2022-03-20 03:32:54 +0900 <nytimes> With scientists and health officials bracing for a potential surge, some are warning that the United States is falling behind on preparations. An aid package in Congress is stalled and funds for more antiviral pills are running dry.  https://t.co/w0QiqNglvy\n",
      "1505247752560721931 2022-03-20 03:20:05 +0900 <nytimes> The jazz club, with its dim lighting and closely packed tables, looms large in our collective imagination. But the music is innovating and thriving in a host of different spaces now.   https://t.co/wAU3VrBCSR\n",
      "1505242724911435786 2022-03-20 03:00:06 +0900 <nytimes> A Ukrainian soldier was rescued on Saturday from the debris of a military facility that was destroyed by Russian rockets in Mykolaiv. More than 40 others were killed. The man was buried in the rubble for 30 hours.    https://t.co/B2sJTLkpZu  https://t.co/Dvq7vPoVZA\n",
      "1505240204550025221 2022-03-20 02:50:05 +0900 <nytimes> More than 420,000 people were forced to flee their homes in Darfur in 2021, up from 54,000 a year earlier. Aid agencies are struggling to raise funds to support those displaced as donors turn their focus to crises in Ethiopia, Afghanistan and now Ukraine.  https://t.co/dvIZ37AfU6\n",
      "[!] No more data! Scraping will stop now.\n",
      "found 0 deleted tweets in this search.\n",
      "[!] No more data! Scraping will stop now.\n",
      "found 0 deleted tweets in this search.\n",
      "[!] No more data! Scraping will stop now.\n",
      "found 0 deleted tweets in this search.\n",
      "1507144073089593345 2022-03-25 08:55:23 +0900 <nytimes> Breaking News: Ginni Thomas, the wife of Supreme Court Justice Clarence Thomas, is said to have repeatedly urged Donald Trump’s chief of staff to try to overturn the 2020 election.  https://t.co/KZwhUlF3xE\n",
      "1507135190107406338 2022-03-25 08:20:05 +0900 <nytimes> Harrowing scenes from videos shared with The New York Times offer a look at life under siege in Mariupol, a Ukrainian city that has been under attack by Russian forces. The city has become a potent emblem of the humanitarian crisis buffeting the country.  https://t.co/3H7SKFMSDP  https://t.co/j9XbXvAIt8\n",
      "1507130161849851915 2022-03-25 08:00:06 +0900 <nytimes> Kids and teens in the U.S. are spending more time than ever using screens and social media, according to new survey results. The increases are most likely a reflection of the difficulties that families endured throughout the pandemic, experts said.  https://t.co/RqwM3KuiHz\n",
      "1507118971207577611 2022-03-25 07:15:38 +0900 <nytimes> The Ukrainians retain control of Mariupol, an important port city, despite a Russian siege. The fighting has hindered the Russian effort to establish a land bridge stretching from Donetsk to Crimea. See more of our maps of the war.  https://t.co/QSgYBOD6if\n",
      "1507118969181769728 2022-03-25 07:15:37 +0900 <nytimes> Russia aims to link up forces in the Donbas with troops from Crimea and south of Kharviv, according to military analysts. Connecting the forces could isolate Ukrainian troops on the front lines there or cause them to retreat.  https://t.co/QSgYBOD6if  https://t.co/oWA96sCop8\n",
      "1507118964169535495 2022-03-25 07:15:36 +0900 <nytimes> Fighting has been fierce in many towns and villages along the front lines of territories in the Donbas region, where Russian-backed separatists took over in 2014. Russia has advanced west in Donetsk toward the region’s border.  https://t.co/QSgYBOD6if  https://t.co/LhPKjqyHSR\n",
      "1507118956712058882 2022-03-25 07:15:34 +0900 <nytimes> Russian forces have made advances in eastern Ukraine, where they aim to isolate large parts of the Ukrainian army. Follow our maps of the war in Ukraine.  https://t.co/QSgYBOD6if\n",
      "1507115064096133122 2022-03-25 07:00:06 +0900 <nytimes> Anna Sevidova was injured when her home was shelled in Ukraine. Now she’s recovering in a hotel turned refugee home in Moldova, facing an uncertain future with her family.  Watch the full video:  https://t.co/FEkUDsG29B  https://t.co/KPPJfiH3T1\n",
      "1507111278615179278 2022-03-25 06:45:04 +0900 <nytimes> Abby Broyles, a Democratic candidate for Congress in Oklahoma, said she has ended her campaign “to focus on myself and my happiness,” weeks after she apologized for verbally abusing children attending a sleepover at a friend’s home.  https://t.co/0i04fh7PWb\n",
      "1507107515342934023 2022-03-25 06:30:07 +0900 <nytimes> On Thursday in Mexico City, the U.S. men's soccer team embark on a set of matches that will determine if they will return to the World Cup for the first time since 2014.  https://t.co/wtRpbEBPaK\n",
      "1507103758823702536 2022-03-25 06:15:11 +0900 <nytimes> New York Times reporters want to answer your questions about climate change.  https://t.co/w6WCaSjRWa  https://t.co/RETyh2xban\n",
      "1507099964090036241 2022-03-25 06:00:06 +0900 <nytimes> The UN General Assembly adopted a resolution on Thursday that blames Russia for creating a dire humanitarian situation by invading Ukraine and demands that Moscow abide by humanitarian laws.  https://t.co/DC3rRgpydM\n",
      "1507096204412432395 2022-03-25 05:45:10 +0900 <nytimes> What is the single best strength-building exercise many of us could be doing right now but probably are not? According to exercise scientists and the latest research, there's one answer: squats.  https://t.co/sLqq3CZqU8\n",
      "1507092434936815621 2022-03-25 05:30:11 +0900 <nytimes> In Afghanistan, U.S. intelligence agencies had predicted government forces could hold on for at least six months after the U.S. withdrawal. In Ukraine, intelligence officials thought the Russian army would take Kyiv in two days. Both estimates were wrong.  https://t.co/ZekM8RtF5X\n",
      "1507088647883042816 2022-03-25 05:15:08 +0900 <nytimes> The Biden administration plans to accept 100,000 Ukrainian refugees into the U.S. But it has also faced criticism over the handling of thousands of Afghan refugees who fled after the Taliban takeover in August.  https://t.co/KeeQkAgy4O\n",
      "1507084901945905170 2022-03-25 05:00:15 +0900 <nytimes> In an interesting year with a duel for the top award and some wide-open races, here are our expert's predictions for the Oscars.  https://t.co/6qDgsrglt6\n",
      "1507081434338668547 2022-03-25 04:46:28 +0900 <nytimes> Read our coverage of this week’s Supreme Court confirmation hearings:  https://t.co/EPU1yiV2dT\n",
      "1507081073074790400 2022-03-25 04:45:02 +0900 <nytimes> A majority of Americans — and 43% of Democrats — said they believe President Biden has not been “tough enough” in his response to Russia for its invasion of Ukraine, according to a recent poll.  https://t.co/qmT8CPRSpK\n",
      "1507077316958113792 2022-03-25 04:30:07 +0900 <nytimes> Ethiopia’s government on Thursday announced what it called a “humanitarian truce” with forces it has been fighting for 17 months in the northern Tigray region, where millions are hungry and food aid has not been delivered since December.  https://t.co/NbOWzSYOdP\n",
      "1507073553983844360 2022-03-25 04:15:09 +0900 <nytimes> Republicans attacked Georgetown Day School by portraying it as the poster child for critical race theory, a term that conservatives have co-opted to challenge efforts to teach children about racism. Students and alumni say they embrace the school's values.  https://t.co/In2aBAF0Fn\n",
      "[!] No more data! Scraping will stop now.\n",
      "found 0 deleted tweets in this search.\n",
      "1507503891570647042 2022-03-26 08:45:10 +0900 <nytimes> In Opinion  \"Justice Thomas has shown himself unwilling or unable to protect what remains of the court’s reputation from the appearance of extreme bias he and his wife have created,\" writes Jesse Wegman, a member of the editorial board.  https://t.co/SdSogA8v30\n",
      "1507500096841297927 2022-03-26 08:30:05 +0900 <nytimes> Valentyna Vereteska fled from Mykolaiv, Ukraine, to Poland with her 11-year-old daughter a month ago. On Friday, she won the women’s race at the Jerusalem Marathon with a time of 2 hours, 45 minutes and 54 seconds.  https://t.co/TiXBBeH2yF  https://t.co/nh6ZLRH9yZ\n",
      "1507487520002617345 2022-03-26 07:40:07 +0900 <nytimes> Amazon workers at a New York facility began voting on unionization today. The company has held hundreds of meetings with workers to discourage them from supporting a union.  https://t.co/W5H8yppYn0\n",
      "1507477454889312266 2022-03-26 07:00:07 +0900 <nytimes> The Supreme Court on Friday restored the U.S. Navy’s ability to consider the vaccination status of 35 of its service members in decisions about where they should be assigned or deployed.  https://t.co/aNyUfY2a5m\n",
      "1507474921601081347 2022-03-26 06:50:03 +0900 <nytimes> The Utah State Legislature voted on Friday to override the governor’s veto and enacted a bill that would bar young transgender athletes from participating in girls’ sports, making the state the 12th in the country to enact such legislation.  https://t.co/FlW3zvwtb8\n",
      "1507472412870426628 2022-03-26 06:40:05 +0900 <nytimes> For Prince William and Catherine, Duchess of Cambridge, it has been a turbulent tour of the Caribbean — one that has dramatized how rapidly Queen Elizabeth II is losing her grip in distant areas where she is still head of state.  https://t.co/6ZDKp5q3e9\n",
      "1507469896052973570 2022-03-26 06:30:05 +0900 <nytimes> While most people who use Botox are women over 40, some have wondered whether starting younger can help stall the signs of aging — before they even start. Here's what experts say.  https://t.co/XpBuJm7xug  https://t.co/iiSW9sAWGg\n",
      "1507467379231526918 2022-03-26 06:20:05 +0900 <nytimes> The NFL quarterback Deshaun Watson on Friday gave his most direct and forceful denial yet of the sexual misconduct accusations against him by two dozen women, speaking at a news conference where he was introduced by his new team, the Cleveland Browns.  https://t.co/yDQMpc0NFw\n",
      "1507464862867156999 2022-03-26 06:10:05 +0900 <nytimes> About 45% of people in Ukraine do not have reliable access to enough food, the UN’s World Food Program said. One-fifth of the population is already getting less food because of the war, it said, and adults are skipping meals so that children can eat.  https://t.co/MJVrgKzFDj\n",
      "1507462406707896320 2022-03-26 06:00:19 +0900 <nytimes> The British Museum announced on Friday it is removing the name of the Sackler family from its walls, becoming the latest major cultural institution to cut ties with the family over its role in the opioid crisis.  https://t.co/3o1mwOYPP2\n",
      "1507458404595683328 2022-03-26 05:44:25 +0900 <nytimes> Update: Ukrainians in Kherson and Ukrainian officials questioned the Pentagon’s assessment. Read the latest.  https://t.co/W9G8wpLDPF\n",
      "1507457319289860100 2022-03-26 05:40:06 +0900 <nytimes> Russian ground forces near Kyiv have stopped trying to take the capital and have shifted to defensive positions as airstrikes continue there, a senior U.S. defense official said Friday, adding that Russia shifted much of its efforts to the Donbas region.  https://t.co/rqXQXUAeB6\n",
      "1507452295595929603 2022-03-26 05:20:09 +0900 <nytimes> MLB’s collective bargaining agreement expired at 11:59 p.m. ET on Dec. 1. So did the jointly negotiated drug testing agreement. Doping experts say the opportunity was there for players to take advantage.  https://t.co/8G0JLYylvE\n",
      "1507447301920460824 2022-03-26 05:00:18 +0900 <nytimes> Cannibalism is common among the millions of modern arthropod species. But how far back does this gruesome mode of dining go? Apparently, some 514 million years ago.  https://t.co/ScbUVfMHf6\n",
      "1507443485175128064 2022-03-26 04:45:08 +0900 <nytimes> Before 2020, Jennifer Sey was an executive at Levi Strauss &amp; Company and a top candidate to be the company’s next leader. Two years later, she was out of a job. Her advocacy for school reopenings during the pandemic made her a pariah at work, she said.  https://t.co/1JaB2RIAq7  https://t.co/kFnrIVi48f\n",
      "1507439709059964931 2022-03-26 04:30:08 +0900 <nytimes> The International Committee of the Red Cross has come under sharp criticism after photos were published showing its leader smiling and shaking hands with Russia’s foreign minister this week amid the war in Ukraine.  https://t.co/RM7YffFvoh\n",
      "1507437181585002513 2022-03-26 04:20:05 +0900 <nytimes> Judge Ketanji Brown Jackson spent two days answering senators’ questions about her Supreme Court nomination. Here’s what you may have missed:  https://t.co/zvgys5k65g\n",
      "1507434178178080771 2022-03-26 04:08:09 +0900 <nytimes> In Opinion  \"She pushed the envelope her entire life,\" Hillary Clinton writes in a guest essay on Madeleine Albright. \"We can honor her memory by heeding her wisdom.\"  https://t.co/6b1jNoqi3M\n",
      "1507433406140850178 2022-03-26 04:05:05 +0900 <nytimes> A judge threw out Maryland’s new congressional map, in the first time this redistricting cycle that Democrats’ maps have been rejected in court.  https://t.co/M2KSdh2M5F\n",
      "1507429815552552963 2022-03-26 03:50:49 +0900 <nytimes> Jens Stoltenberg, NATO’s secretary general, said, “We have a responsibility to ensure that the war does not escalate beyond Ukraine, and become a conflict between NATO and Russia.”   See more of our maps on the war.  https://t.co/DEKHccALen\n",
      "1507429813824413698 2022-03-26 03:50:48 +0900 <nytimes> The new NATO battlegroups in Bulgaria, Hungary, Romania and Slovakia join similar forces in the Baltic countries and Poland — which are also growing in size. A little more than a quarter of all troops under direct NATO command are now in Poland.  https://t.co/DEKHccALen  https://t.co/Yzdi9yPWf6\n",
      "1507429810087333891 2022-03-26 03:50:48 +0900 <nytimes> NATO said it was deploying additional battlegroups to Eastern Europe amid growing concerns over how Russia may respond to the increasing diplomatic and economic penalties it is facing.  Follow our maps of the war in Ukraine.  https://t.co/DEKHccALen\n",
      "1507427117121814540 2022-03-26 03:40:06 +0900 <nytimes> The UN said on Friday that more than 1,000 civilians had died in Ukraine since Russia’s invasion began, many of them in what appear to be indiscriminate bombardments that could constitute war crimes.  https://t.co/VS2GucdDHP\n",
      "1507424630663004162 2022-03-26 03:30:13 +0900 <nytimes> Russia signaled on Friday it may be reducing its war aims, announcing that it would now focus its forces on taking more territory in eastern Ukraine and that the goals of the “first stage of the operation” had been “mainly accomplished.”  https://t.co/51pVZP3TdI\n",
      "1507422082942001161 2022-03-26 03:20:05 +0900 <nytimes> Pandemic-related lockdowns and reprioritized government spending have put the world's public museums under financial pressure. Despite NFTs attracting high sales figures, few institutions have explored this digital asset as a fund-raising mechanism.  https://t.co/33XeWDeWvL\n",
      "1507420838307454978 2022-03-26 03:15:09 +0900 <nytimes> Photographs out of Kharkiv show a large fireball and nearby cars and buildings on fire following a Russian attack. They also show residents fleeing on foot and bicycle, carrying whatever belongings they could grab in the aftermath of the attack.  https://t.co/unAtmLFg8i  https://t.co/ptsnPhILCa\n",
      "1507418300703195156 2022-03-26 03:05:04 +0900 <nytimes> The U.S. said it would help the European Union secure an additional 15 billion cubic meters of liquified natural gas by the year’s end. The EU has rushed to cut its dependence on Russian imports of gas since the war in Ukraine began.  https://t.co/dk11aHXrj1  https://t.co/Ry3Tnhwkjf\n",
      "1507417126763737088 2022-03-26 03:00:24 +0900 <nytimes> “Everything Everywhere All at Once” is multiverse galaxy-brain head trip, but it’s also a bittersweet domestic drama, a marital comedy and a story of immigrant striving, our critic writes.  https://t.co/3niJ4xAJHr\n",
      "1507416290725670913 2022-03-26 02:57:04 +0900 <nytimes> Russian forces no longer have full control of Kherson, the first major Ukrainian city that President Vladimir Putin’s forces managed to capture as part of his invasion, a senior Pentagon official said on Friday.  https://t.co/YDzEQchZnQ\n",
      "1507414784886689792 2022-03-26 02:51:05 +0900 <nytimes> How has Ukraine wiped out so many Russian tanks, and how is Russia managing to destroy entire Ukrainian towns?  Here's what to know about the weapons being used in the war.  https://t.co/QOjtlaDjEA\n",
      "1507406985666433034 2022-03-26 02:20:06 +0900 <nytimes> “I want to show the people the consequences of this war: poor children with shrapnel in their legs, their arms, in their heads. It’s not OK.”  Here's how heart-wrenching glimpses of life in Ukraine have become powerful ammunition in an information war.  https://t.co/ZLHxKzPKZT\n",
      "1507405732303540231 2022-03-26 02:15:07 +0900 <nytimes> It's almost impossible to find water in the new airport. The unfinished access roads need signs. The only transnational flight is from Venezuela. Mexico’s president unveiled the first of long-promised infrastructure projects — possibly a little too soon.  https://t.co/xr5pEhlIH0\n",
      "1507403099346022401 2022-03-26 02:04:39 +0900 <nytimes> @vvchambers Sheila Bridges, known for creating Harlem Toile de Jouy wallpaper, talked to The New York Times about designing her weekend retreat in Hudson, New York, to please the ultimate client: herself.  https://t.co/x9oKxDeAz7\n",
      "1507401989554155524 2022-03-26 02:00:15 +0900 <nytimes> Sheila Bridges’s Harlem Toile de Jouy wallpaper and designs, which depict African Americans in the lush, historical settings that rarely featured them, are getting even more attention. For @vvchambers it fills in the visual gaps of Black tradition.  https://t.co/LHsHDq7qsy\n",
      "1507400678980952073 2022-03-26 01:55:02 +0900 <nytimes> Ukraine’s military said on Friday that Russian forces had secured a partial land corridor from Russia to the Crimean Peninsula, but analysts say there has been little in the way of significant territorial gains elsewhere in Ukraine in recent days.  https://t.co/jtzzzGOZou\n",
      "1507398176927629324 2022-03-26 01:45:06 +0900 <nytimes> The bond market is being hammered by high inflation and the start of interest rate increases by the Federal Reserve and other central banks, absorbing painful losses on a scale last seen in the 1980s.  https://t.co/leSUCpDQH1\n",
      "1507394466461716480 2022-03-26 01:30:21 +0900 <nytimes> There are currently two oral antiviral therapies available to treat Covid-19 in the U.S. Here's how they work, who’s eligible and where to find them.  https://t.co/Yt1qwiikNz\n",
      "1507386892307898375 2022-03-26 01:00:15 +0900 <nytimes> \"The Lost City\" is basically a vehicle for Sandra Bullock to play her most enduring role: Sandra Bullock, your supremely likable BFF, our critic writes.  https://t.co/3BTcMGfG21\n",
      "1507383101198061575 2022-03-26 00:45:11 +0900 <nytimes> Senator Ted Cruz aggressively questioned Judge Ketanji Brown Jackson about antiracism efforts at a school where she serves on the board. But leaders at the private school where Cruz sends his daughters have advocated a similar antiracist stance.  https://t.co/clV4Y8c4jD\n",
      "1507380571860869127 2022-03-26 00:35:08 +0900 <nytimes> President Biden met with members of the 82nd Airborne Division at their barbershop in Rzeszow, Poland, on Friday. The division was deployed from Fort Bragg, North Carolina, in February as part of the increase of American troops in NATO’s eastern flank.  https://t.co/bgsaQRvkKc  https://t.co/ha4rTtzUvT\n",
      "1507374691908005888 2022-03-26 00:11:46 +0900 <nytimes> Breaking News: Justice Clarence Thomas, the Supreme Court’s longest-serving member, who had been hospitalized for the last week after experiencing flulike symptoms, was discharged Friday morning, the Supreme Court said.  https://t.co/lCIzLzxtD7\n",
      "1507371519068057615 2022-03-25 23:59:10 +0900 <nytimes> Senator Joe Manchin said he would vote to confirm Judge Ketanji Brown Jackson to the Supreme Court, unifying Democrats behind her.  https://t.co/4iTNxTSMWn\n",
      "1507369225790406665 2022-03-25 23:50:03 +0900 <nytimes> “Have a nice day, my hero city!”  The mayor of Kherson, which has been held by Russian forces since March 2, said a new Ukrainian flag had been hung on the City Council building after a smaller flag was damaged by Russian forces.  https://t.co/YhARQWl8ox  https://t.co/ZOYY5uqbfk\n",
      "1507364259222724616 2022-03-25 23:30:19 +0900 <nytimes> In Opinion  Le Roy Torres came home from Iraq with a sickness he could neither explain nor shake, Megan Stack writes. “It took years of tests to prove what Mr. Torres suspected: His lungs and brain were damaged from exposure to military burn pits.”  https://t.co/xCjorjPrlB\n",
      "1507360173001789440 2022-03-25 23:14:05 +0900 <nytimes> In Opinion  Many in the West believe that “sanctioning oligarchs can move them to pressure Mr. Putin to change course,” writes Eileen O’Connor, a former journalist and lawyer who worked in Russia and Ukraine, in a guest essay. “That is a miscalculation.”  https://t.co/cQJGIwea6R\n",
      "1507358410118942727 2022-03-25 23:07:04 +0900 <nytimes> A police commander who helped liberate Mariupol in 2014 from Russian-backed forces has offered to give himself up in exchange for the safe passage of children who remain in the besieged city.  https://t.co/TFPrupOVLp  https://t.co/a4I2L5WG4X\n",
      "1507353984905924615 2022-03-25 22:49:29 +0900 <nytimes> Breaking News: Israel will host a historic summit this weekend with top diplomats from the U.S., the UAE, Bahrain and Morocco, in a sign of how quickly Middle Eastern alliances are shifting.  https://t.co/MnLlNa3vvD\n",
      "1507349598611857414 2022-03-25 22:32:04 +0900 <nytimes> The U.S. and EU reached an “agreement in principle” to assure that it is legal to transfer personal data across the Atlantic, officials said.  https://t.co/i2Mm5vuuAo\n",
      "1507345325215862792 2022-03-25 22:15:05 +0900 <nytimes> Newly surfaced security camera footage shows an attack on a line of civilians outside a post office and shopping center in Kharkiv, Ukraine, on Thursday.  https://t.co/GhPb6A96J4\n",
      "1507343068466491400 2022-03-25 22:06:07 +0900 <nytimes> Russian forces have secured a partial land corridor from Russia to the Crimean Peninsula, a key strategic aim of Moscow’s since the war began, Ukraine’s defense ministry said.  https://t.co/zfjiWobKTV\n",
      "1507341568398745605 2022-03-25 22:00:09 +0900 <nytimes> Russian assaults on Slavutych, a city near the Chernobyl nuclear power plant where most of its staff members continue to live, are jeopardizing the workers’ ability to operate and ensure safety at the Russia-controlled plant, a nuclear watchdog said.  https://t.co/TXztpyoI9V\n",
      "1507338022286774298 2022-03-25 21:46:04 +0900 <nytimes> Russian missile strikes on a military facility in the central Ukrainian city of Dnipro on Thursday night destroyed buildings, and casualties were still being assessed, the Ukrainian State Emergency Service and military said.  https://t.co/2lelBfRQIX\n",
      "1507333731903852560 2022-03-25 21:29:01 +0900 <nytimes> The Biden administration wants to send more natural gas to Europe to help it break its dependence on Russian energy. But a lack of import and export infrastructure makes that ambition largely symbolic, at least in the short run.  https://t.co/Avg5nIZ7iQ\n",
      "1507330483906125834 2022-03-25 21:16:06 +0900 <nytimes> An estimated 300 people were killed in Russia’s attack last week on a theater in Mariupol, Ukraine, local officials said.  “There cannot and never will be an explanation for this inhuman cruelty,” the City Council said.  https://t.co/fzLAfp6e6f\n",
      "1507326523061293087 2022-03-25 21:00:22 +0900 <nytimes> Thousands of women and girls in Afghanistan who were in school or had jobs were forced back into their homes when the Taliban took control of the country last year.  What kind of future do they now face? Listen to today’s episode of The Daily.  https://t.co/oLrapBzceg\n",
      "1507323944583548949 2022-03-25 20:50:07 +0900 <nytimes> Finland’s national rail service will stop operating the Allegro train between Helsinki and St. Petersburg to align with sanctions. It was the last direct train service to Europe from Russia.  Follow our updates on the war in Ukraine.  https://t.co/XglIzvGZ93  https://t.co/daPYKQwrQY\n",
      "1507320916526653444 2022-03-25 20:38:05 +0900 <nytimes> In cities and towns occupied by Russian forces, Ukrainian residents have been staging acts of resistance.  In the city of Kherson, which has been held by Russian forces since March 2, a huge Ukrainian flag was unfurled on a municipal building.  https://t.co/02qs4j6E2K\n",
      "1507318929844318210 2022-03-25 20:30:12 +0900 <nytimes> Donald Trump has tried to establish himself as the Republican Party’s kingmaker in the 2022 midterms. But two of his most prominent Senate endorsements have already backfired.  Now May looms as the month that will test his hold on the Republican base.  https://t.co/cVoytM6RWc\n",
      "1507315143646060547 2022-03-25 20:15:09 +0900 <nytimes> As the war in Ukraine grinds on, Poland has become the pivot around which many of the West’s hopes and Russia’s fury turn. The country’s right-wing populist government has been embraced as a linchpin of Western solidarity and security.  https://t.co/Cd16mk3nFP\n",
      "1507313114580148260 2022-03-25 20:07:05 +0900 <nytimes> President Biden announced a deal to help secure more liquefied natural gas for the EU to reduce its dependency on Russian fuel imports.  https://t.co/ZgXJFkdJxM\n",
      "1507311394869415937 2022-03-25 20:00:15 +0900 <nytimes> In Opinion  To Central and Eastern European countries, \"it seems foolhardy to assume Mr. Putin will stop at Ukraine. The danger is pressing and immediate,\" Karolina Wigura and Jaroslaw Kuisz write in a guest essay.  https://t.co/mmDdziZkAb\n",
      "1507307075868712981 2022-03-25 19:43:05 +0900 <nytimes> Food is in short supply. Two men died waiting for fuel on hot days. School exams have been postponed because of a lack of paper.  As an economic crisis upends life across Sri Lanka, protests are rising against a president with a reputation for brutality.  https://t.co/AWWTBuuEyX  https://t.co/wTrSTkssws\n",
      "1507300029987446799 2022-03-25 19:15:06 +0900 <nytimes> Ginni Thomas, the wife of Supreme Court Justice Clarence Thomas, is said to have repeatedly urged Donald Trump’s chief of staff to try to overturn the 2020 election.  https://t.co/wyf85HcvP1\n",
      "1507298774422540291 2022-03-25 19:10:06 +0900 <nytimes> A surge of Covid cases across China, driven by the Omicron variant, is straining hospitals and prompting lockdowns of neighborhoods in Shanghai, where many residents are expressing dismay over China’s zero-tolerance approach to the virus.  https://t.co/9zYdRFBPnU\n",
      "1507296245773221888 2022-03-25 19:00:03 +0900 <nytimes> Representative Jeff Fortenberry, Republican of Nebraska, was convicted on charges that he lied to U.S. authorities about having received an illegal campaign contribution from a foreign citizen. A sentencing hearing is set for June.  https://t.co/MQ81zaWns4\n",
      "1507281146492731448 2022-03-25 18:00:03 +0900 <nytimes> Like a pachinko-parlor owner, the makers of Apple TV+’s “Pachinko” have expertly tweaked their show’s machinery to keep customers in the seats, our TV critic writes.  https://t.co/rfhJq1oCR1\n",
      "1507276861000368149 2022-03-25 17:43:02 +0900 <nytimes> China and the Solomon Islands are close to signing a secret security agreement that could open the door to Chinese troops and naval warships flowing into the Pacific Island nation, according to a leaked document verified by the Australian government.  https://t.co/OT6YaGcZkl\n",
      "1507273640756363275 2022-03-25 17:30:14 +0900 <nytimes> Here's a look at some of the highlights worth watching from late-night TV.  https://t.co/v2TVsKG1Ta\n",
      "1507269844651098115 2022-03-25 17:15:09 +0900 <nytimes> A wide stretch of the Great Barrier Reef has been hit by a sixth mass bleaching event, officials said.  “We’re seeing that coral reefs can’t cope with the current rate of warming and the frequency of climate change,” one coral biologist said.  https://t.co/ImF2ERWzIt\n",
      "1507266071375581184 2022-03-25 17:00:09 +0900 <nytimes> The Los Angeles Angels, a team with Mike Trout and Shohei Ohtani and little recent on-field success, spent the winter dealing with the lockout and a trial over the overdose death of a former player that implicated its former communications director.  https://t.co/eeqzFtJjnm\n",
      "1507262282027483149 2022-03-25 16:45:06 +0900 <nytimes> Ukrainian employees of Leroy Merlin, a chain of home improvement stores, commandeered the company’s Ukraine Instagram page to demand that it “Stop Sales in Russia.”  A branch of the business was destroyed in a Russian strike on a Kyiv mall on Monday.  https://t.co/wiFlnRQEJR\n",
      "1507253468599308318 2022-03-25 16:10:04 +0900 <nytimes> President Biden is heading to Poland to show support for the key NATO member, which has taken in millions displaced by the war in Ukraine.   Follow live updates.  https://t.co/mQMY6PYvus\n",
      "1507250958933315593 2022-03-25 16:00:06 +0900 <nytimes> Chinese officials are ramping up a campaign to force United Nations agencies, governments, companies and even schools to say Taiwan is a part of China, according to a new report.  https://t.co/pqPsI3W8d7\n",
      "1507235884906729488 2022-03-25 15:00:12 +0900 <nytimes> The war in Ukraine, a new Covid wave in China, the crash of the China Eastern Airlines flight.   Follow our weekly Chinese language newsletter from @nytchinese and share your thoughts on the news.  https://t.co/b2s4VzJ1cc\n",
      "1507221874710876162 2022-03-25 14:04:32 +0900 <nytimes> Arizona became the second No. 1 seed to lose in the round of 16 in the NCAA Men's Tournament, falling 72-60 to No. 5-seeded Houston.  https://t.co/FcF2bLkTid\n",
      "1507220760200458268 2022-03-25 14:00:06 +0900 <nytimes> China and the Solomon Islands are close to signing a security agreement that could help the Chinese Navy block shipping routes that played a vital role in World War II, a leaked document has shown.  https://t.co/ODHHg8psam\n",
      "1507205674765365248 2022-03-25 13:00:10 +0900 <nytimes> NATO has activated a special defense task force to deal with the fallout if Russia launches a chemical, biological or nuclear attack. Here’s what that means.  https://t.co/Dot2Hw3KPt\n",
      "1507200622252240898 2022-03-25 12:40:05 +0900 <nytimes> Does anyone still watch the Oscars? Will ratings rebound? Who will win Best Picture? The entertainment reporters @kylebuchanan, @nicsperling and @brooksbarnesNYT discuss what to expect from Sunday's ceremony. Listen to the full conversation:  https://t.co/p2iW791dUF  https://t.co/gaRFtrlaoz\n",
      "1507193071355711495 2022-03-25 12:10:05 +0900 <nytimes> Miami Beach is banning some nighttime alcohol sales in the South Beach neighborhood for three straight nights, an emergency measure that went into effect on Thursday — the same day as a curfew intended to quell any spring break mayhem in the same area.  https://t.co/uYs7hQb9kw\n",
      "1507190565091385350 2022-03-25 12:00:07 +0900 <nytimes> Exactly one month into the Russian invasion of Ukraine, the mood permeating the extraordinary NATO summit meeting was a mix of both fear and opportunity.  https://t.co/8nI0pQCQHP\n",
      "1507185523240091648 2022-03-25 11:40:05 +0900 <nytimes> Thomas Spieker, a former party producer, was charged on Thursday in state court in Manhattan with laundering more than $2.3 million in Bitcoin for criminals around the world from 2018 to 2021.  https://t.co/Lq6XtiJayS\n",
      "1507177965246947328 2022-03-25 11:10:03 +0900 <nytimes> A federal judge on Wednesday ruled in favor of 12 Virginia families who argued that policies making masks optional in classrooms violated the rights of their children, who have health conditions that make them vulnerable to the virus.   https://t.co/8wg2Scs2cS\n",
      "1507175473465499654 2022-03-25 11:00:09 +0900 <nytimes> Owners and executives of some of the wealthiest and most influential sports franchises in the U.S. urged Mayor Eric Adams to allow unvaccinated athletes to play in New York.  https://t.co/5dWRqJctRy\n",
      "1507169170407915537 2022-03-25 10:35:06 +0900 <nytimes> Gonzaga, the No. 1 overall seed in the NCAA men’s tournament, fell short in its bid for a first national title, again. The team was upset by No. 4-seeded Arkansas, 74-68.  https://t.co/LdYK9pJ0bJ\n",
      "1507167917472948232 2022-03-25 10:30:08 +0900 <nytimes> The House committee investigating the Jan. 6 attack on the Capitol said on Thursday that it would consider contempt of Congress charges against two more allies of Donald Trump for refusing to comply with its subpoenas.  https://t.co/wMht8p9YYb\n",
      "1507160386876940290 2022-03-25 10:00:12 +0900 <nytimes> Ukraine’s military has begun a counteroffensive that has altered the central dynamic of the fighting: the question is no longer how far Russian forces have advanced, but whether the Ukrainians are now pushing them back.  https://t.co/uSG3dZyNMO\n",
      "1507150298862784515 2022-03-25 09:20:07 +0900 <nytimes> Startlingly large amounts of methane are leaking from wells and pipelines in New Mexico, according to a new analysis of aerial data, suggesting that the oil and gas industry may be contributing more to climate change than was previously known.  https://t.co/DWAFAdgX85\n",
      "1507144073089593345 2022-03-25 08:55:23 +0900 <nytimes> Breaking News: Ginni Thomas, the wife of Supreme Court Justice Clarence Thomas, is said to have repeatedly urged Donald Trump’s chief of staff to try to overturn the 2020 election.  https://t.co/KZwhUlF3xE\n",
      "1507135190107406338 2022-03-25 08:20:05 +0900 <nytimes> Harrowing scenes from videos shared with The New York Times offer a look at life under siege in Mariupol, a Ukrainian city that has been under attack by Russian forces. The city has become a potent emblem of the humanitarian crisis buffeting the country.  https://t.co/3H7SKFMSDP  https://t.co/j9XbXvAIt8\n",
      "1507130161849851915 2022-03-25 08:00:06 +0900 <nytimes> Kids and teens in the U.S. are spending more time than ever using screens and social media, according to new survey results. The increases are most likely a reflection of the difficulties that families endured throughout the pandemic, experts said.  https://t.co/RqwM3KuiHz\n",
      "1507118971207577611 2022-03-25 07:15:38 +0900 <nytimes> The Ukrainians retain control of Mariupol, an important port city, despite a Russian siege. The fighting has hindered the Russian effort to establish a land bridge stretching from Donetsk to Crimea. See more of our maps of the war.  https://t.co/QSgYBOD6if\n",
      "1507118969181769728 2022-03-25 07:15:37 +0900 <nytimes> Russia aims to link up forces in the Donbas with troops from Crimea and south of Kharviv, according to military analysts. Connecting the forces could isolate Ukrainian troops on the front lines there or cause them to retreat.  https://t.co/QSgYBOD6if  https://t.co/oWA96sCop8\n",
      "1507118964169535495 2022-03-25 07:15:36 +0900 <nytimes> Fighting has been fierce in many towns and villages along the front lines of territories in the Donbas region, where Russian-backed separatists took over in 2014. Russia has advanced west in Donetsk toward the region’s border.  https://t.co/QSgYBOD6if  https://t.co/LhPKjqyHSR\n",
      "1507118956712058882 2022-03-25 07:15:34 +0900 <nytimes> Russian forces have made advances in eastern Ukraine, where they aim to isolate large parts of the Ukrainian army. Follow our maps of the war in Ukraine.  https://t.co/QSgYBOD6if\n",
      "1507115064096133122 2022-03-25 07:00:06 +0900 <nytimes> Anna Sevidova was injured when her home was shelled in Ukraine. Now she’s recovering in a hotel turned refugee home in Moldova, facing an uncertain future with her family.  Watch the full video:  https://t.co/FEkUDsG29B  https://t.co/KPPJfiH3T1\n",
      "1507111278615179278 2022-03-25 06:45:04 +0900 <nytimes> Abby Broyles, a Democratic candidate for Congress in Oklahoma, said she has ended her campaign “to focus on myself and my happiness,” weeks after she apologized for verbally abusing children attending a sleepover at a friend’s home.  https://t.co/0i04fh7PWb\n",
      "1507107515342934023 2022-03-25 06:30:07 +0900 <nytimes> On Thursday in Mexico City, the U.S. men's soccer team embark on a set of matches that will determine if they will return to the World Cup for the first time since 2014.  https://t.co/wtRpbEBPaK\n",
      "1507103758823702536 2022-03-25 06:15:11 +0900 <nytimes> New York Times reporters want to answer your questions about climate change.  https://t.co/w6WCaSjRWa  https://t.co/RETyh2xban\n",
      "1507099964090036241 2022-03-25 06:00:06 +0900 <nytimes> The UN General Assembly adopted a resolution on Thursday that blames Russia for creating a dire humanitarian situation by invading Ukraine and demands that Moscow abide by humanitarian laws.  https://t.co/DC3rRgpydM\n",
      "1507096204412432395 2022-03-25 05:45:10 +0900 <nytimes> What is the single best strength-building exercise many of us could be doing right now but probably are not? According to exercise scientists and the latest research, there's one answer: squats.  https://t.co/sLqq3CZqU8\n",
      "1507092434936815621 2022-03-25 05:30:11 +0900 <nytimes> In Afghanistan, U.S. intelligence agencies had predicted government forces could hold on for at least six months after the U.S. withdrawal. In Ukraine, intelligence officials thought the Russian army would take Kyiv in two days. Both estimates were wrong.  https://t.co/ZekM8RtF5X\n",
      "1507088647883042816 2022-03-25 05:15:08 +0900 <nytimes> The Biden administration plans to accept 100,000 Ukrainian refugees into the U.S. But it has also faced criticism over the handling of thousands of Afghan refugees who fled after the Taliban takeover in August.  https://t.co/KeeQkAgy4O\n",
      "1507084901945905170 2022-03-25 05:00:15 +0900 <nytimes> In an interesting year with a duel for the top award and some wide-open races, here are our expert's predictions for the Oscars.  https://t.co/6qDgsrglt6\n",
      "1507081434338668547 2022-03-25 04:46:28 +0900 <nytimes> Read our coverage of this week’s Supreme Court confirmation hearings:  https://t.co/EPU1yiV2dT\n",
      "1507081073074790400 2022-03-25 04:45:02 +0900 <nytimes> A majority of Americans — and 43% of Democrats — said they believe President Biden has not been “tough enough” in his response to Russia for its invasion of Ukraine, according to a recent poll.  https://t.co/qmT8CPRSpK\n",
      "1507077316958113792 2022-03-25 04:30:07 +0900 <nytimes> Ethiopia’s government on Thursday announced what it called a “humanitarian truce” with forces it has been fighting for 17 months in the northern Tigray region, where millions are hungry and food aid has not been delivered since December.  https://t.co/NbOWzSYOdP\n",
      "1507073553983844360 2022-03-25 04:15:09 +0900 <nytimes> Republicans attacked Georgetown Day School by portraying it as the poster child for critical race theory, a term that conservatives have co-opted to challenge efforts to teach children about racism. Students and alumni say they embrace the school's values.  https://t.co/In2aBAF0Fn\n",
      "1507071018564821004 2022-03-25 04:05:05 +0900 <nytimes> We asked our photographer, @sbmaneyphoto, to reflect on this moment she captured of Judge Ketanji Brown Jackson’s daughter Leila, 17, smiling at her mom on the first day of the hearings: \"I knew how much it revealed in her admiration for her mother as a Black woman.\"  https://t.co/NDeNRSUTaS\n",
      "1507069770050461698 2022-03-25 04:00:07 +0900 <nytimes> Russia has so far achieved almost none of its military objectives, analysts say. But the toll on civilians grows by the hour. Half of Ukraine’s 7.5 million children have been forced from their homes.  Here is a look back at the first month of the war:  https://t.co/TSVrSBqcTr\n",
      "1507065995558629384 2022-03-25 03:45:07 +0900 <nytimes> Stephen Wilhite, the computer programmer who invented the GIF, has died at 74. Also, he said, it's pronounced with a soft 'G.' \"End of story.\"  https://t.co/uOgyp8htFx\n",
      "[!] No more data! Scraping will stop now.\n",
      "found 0 deleted tweets in this search.\n",
      "1507864998785265664 2022-03-27 08:40:05 +0900 <nytimes> Notre Dame led for much of the game. Then Raina Perez, a North Carolina State guard, drove in for a layup.  https://t.co/VfTGwcCmKx\n",
      "1507859960381779970 2022-03-27 08:20:03 +0900 <nytimes> The classic vampire movie “Nosferatu” reaches its centennial this year, a testament to its longevity and ingenuity. But a dispute over intellectual property almost led to all copies of the movie being destroyed before it was ever screened.  https://t.co/gIV99Apc5d\n",
      "1507852404288598020 2022-03-27 07:50:02 +0900 <nytimes> The White House will ask Congress on Monday to pass a new minimum tax that would require American households worth more than $100 million to pay a tax rate of at least 20 percent on their full income.  https://t.co/3ckP3LcXpf\n",
      "1507849895516020736 2022-03-27 07:40:04 +0900 <nytimes> Two former republics of the Soviet Union — Russia and Ukraine — are once again in conflict. Here are some pivotal moments in the years leading up to Russia’s invasion of Ukraine on Feb. 24 — plus a look at their relationship in the 20th century.  https://t.co/DVhjg6DPkv\n",
      "1507844875764514824 2022-03-27 07:20:07 +0900 <nytimes> In Mayor Eric Adams’s first three months in office, New York City has been marred by shootings, hate crimes and a fatal subway shoving in Times Square. Now, the mayor is testing just how much a liberal city is willing to empower its police.  https://t.co/rD3ztQOvHe\n",
      "1507839827550556168 2022-03-27 07:00:03 +0900 <nytimes> Taylor Hawkins had been staying in a hotel in northern Bogotá, where the band had been scheduled to play a show Friday night, according to the attorney general of Colombia.  https://t.co/x9xLGip5dc\n",
      "1507837313434505220 2022-03-27 06:50:04 +0900 <nytimes> In Opinion The war in Ukraine is often portrayed as a battle between autocracy and democracy; the East against the West. One woman's story reveals that, for many families, it can also feel like a civil war.  https://t.co/DChyIhKCqn\n",
      "1507834799209209860 2022-03-27 06:40:05 +0900 <nytimes> \"This show is so connected to who I am — getting into the specificity of what does it mean to be biracial and mixed race,” said Ari Afsar, the lead actress in the new musical \"Bhangin' It.\"  https://t.co/JzWxBhqMjo\n",
      "1507832282635198473 2022-03-27 06:30:05 +0900 <nytimes> Scientists say a period of unusual weather, combined with record-low sea ice, led to the disintegration of the Conger ice shelf. https://t.co/UFDGLHyXa4\n",
      "1507829769009836036 2022-03-27 06:20:05 +0900 <nytimes> Sunday's groundbreaking meeting — the first involving so many Arab, American and Israeli officials on Israeli soil at once — suggests that the relationship between the United States and its Middle East partners is about to enter a new phase.  https://t.co/vtgHmNoiwx\n",
      "1507827055089664006 2022-03-27 06:09:18 +0900 <nytimes> Ready to cast your own vote for the winners? Fill out our interactive Oscars ballot before the show:  https://t.co/GUF0QzEfPO\n",
      "1507826938538254336 2022-03-27 06:08:50 +0900 <nytimes> For the first time in more than a decade, the Oscars have given us 10 best-picture nominees. It’s an eclectic bunch that runs the gamut from space operas to psychological westerns.  Here's how each nominee could win an award:  https://t.co/ZUV2cKTEpk\n",
      "1507826804920356868 2022-03-27 06:08:19 +0900 <nytimes> Read the predictions from our awards season columnist @kylebuchanan on who will take the night's top awards:  https://t.co/2aSR2Bdt39\n",
      "1507826562682531846 2022-03-27 06:07:21 +0900 <nytimes> The Oscars are Sunday night. Need to catch up on the nominees? Here's where to stream \"CODA,\" \"The Power of the Dog,\" \"Belfast\" and all other major contenders:  https://t.co/3750HINn8k\n",
      "1507822216305864704 2022-03-27 05:50:05 +0900 <nytimes> As the war in Ukraine enters its second month, tensions flared in another former Soviet region, where Azerbaijan and Armenia fought in 2020. Azerbaijani troops moved into territory patrolled by Russian peacekeepers, Moscow said Saturday.  https://t.co/Sy49yFXeHm\n",
      "1507821256367869957 2022-03-27 05:46:16 +0900 <nytimes> \"Do not concede,\" Ginni Thomas texted days after the 2020 election to Mark Meadows, the chief of staff to President Donald Trump. \"It takes time for the army who is gathering for his back.\"  https://t.co/x5NAHCkz9y\n",
      "1507811929485631499 2022-03-27 05:09:12 +0900 <nytimes> President Biden concluded his three-day trip to Europe in Warsaw, where he forcefully denounced Russia’s war in Ukraine, describing it as part of a decades-long battle between democracy and autocracy.  https://t.co/6OG06c9BnP  https://t.co/9ZXggmmFft\n",
      "1507809647947833347 2022-03-27 05:00:08 +0900 <nytimes> In Opinion It would be reckless for the government to reduce its efforts to fight the pandemic, writes the editorial board. \"Yet that is exactly what is happening after Congress recently failed to approve $15.6 billion for tests, treatments and vaccines.\"  https://t.co/TWyJ7AtzR2\n",
      "1507807490464960518 2022-03-27 04:51:34 +0900 <nytimes> David Perdue’s sputtering start could hint at a deeper flaw in Donald Trump’s plan to punish Gov. Brian Kemp for refusing to work to overturn Georgia’s 2020 election results: Trump’s grievances may now largely be his alone.  https://t.co/4gzmqjJdI3\n",
      "1507800837967564807 2022-03-27 04:25:08 +0900 <nytimes> As China rose, as America fought and lost its forever wars in Iraq and Afghanistan, as technology networked the world, a Russian enigma took form in the Kremlin. This is how Vladimir Putin, over 22 years, slid from statesman to tyrant:  https://t.co/EBYAvchjW2  https://t.co/yBtWGx9im9\n",
      "1507795796405768196 2022-03-27 04:05:06 +0900 <nytimes> Ukrainian families are taking enormous risks to try to flee Mariupol, traveling through Russian checkpoints — and in some cases land mines — to try to get to safety.  https://t.co/Dg2W4usILo\n",
      "1507792437414178816 2022-03-27 03:51:45 +0900 <nytimes> Notre Dame narrowly lost to North Carolina State University, 63-66, in Saturday's NCAA Tournament Sweet 16. Olivia Miles, a freshman to watch, scored a third of Notre Dame’s points.  https://t.co/OPDfANBeFC\n",
      "1507789488218677250 2022-03-27 03:40:02 +0900 <nytimes> “Every sigh, every time her jaw tightens, every time her eyebrow raises a certain way. Every Black woman speaks that language.” The Ketanji Brown Jackson hearings, through the eyes of Black women.  https://t.co/a6B3AgNenA\n",
      "1507786080636002310 2022-03-27 03:26:29 +0900 <nytimes> Breaking News: In a fiery speech in Warsaw, President Biden delivered a forceful rebuke to Vladimir Putin: “For God’s sake, this man cannot remain in power.”  https://t.co/n9uNI787wV\n",
      "1507778938793340932 2022-03-27 02:58:06 +0900 <nytimes> President Biden offered support for Ukraine in its fight against Russia’s invasion during a speech in Warsaw on Saturday. His speech came amid reports that the Ukrainian city of Lviv, just across the Polish border, was hit by at least two missiles.  https://t.co/haTLm9ciRu  https://t.co/C7A8GiFRFd\n",
      "1507773824170958856 2022-03-27 02:37:47 +0900 <nytimes> “Don’t even think about going on one single inch of NATO territory,” President Biden says to Russia, raising his voice in his most animated moment of his speech in Warsaw.  https://t.co/tPEC1o9ToN\n",
      "1507771895290204171 2022-03-27 02:30:07 +0900 <nytimes> Lviv residents watch as smoke billows from the site of a Russian missile strike on Saturday, about 50 miles from the Polish border.  Follow our live updates:  https://t.co/W2kFovxcdt  https://t.co/5yuy4twXlm\n",
      "1507770724928430085 2022-03-27 02:25:28 +0900 <nytimes> President Biden is speaking in Warsaw, praising the unity of the European alliance and casting the war in Ukraine as a broader struggle between competing global ideologies.   Watch live:  https://t.co/wEtPjGRtCl\n",
      "1507769366821150728 2022-03-27 02:20:04 +0900 <nytimes> In every performance of “Birthday Candles,” Debra Messing has to bake a cake onstage. If you’re wondering whether she’s a baker, let’s just say that when she first tried the recipe, the cake exploded.  https://t.co/YbuQrdW84k\n",
      "1507766841116082178 2022-03-27 02:10:02 +0900 <nytimes> The Biden administration is planning to give Americans age 50 or older the option of a second booster of the Pfizer-BioNTech or Moderna coronavirus vaccine. The FDA could authorize the doses next week.  https://t.co/6MXikN7ofb\n",
      "1507764299091034120 2022-03-27 01:59:56 +0900 <nytimes> Readers are sharing their memories of Taylor Hawkins in the comments:  https://t.co/SbNuMJFTyV\n",
      "1507761663541452806 2022-03-27 01:49:28 +0900 <nytimes> Two missile strikes hit targets on Saturday evening in Lviv, a western Ukrainian city about 50 miles from the Polish border. Smoke was seen rising in the eastern part of the city, above what is believed to be an oil storage facility.  https://t.co/RKhNAsYG14\n",
      "1507755722192392203 2022-03-27 01:25:51 +0900 <nytimes> Taylor Hawkins — the hard-hitting, charismatic drummer for Foo Fighters — has died at 50. In an interview with The Times last year, Hawkins was direct about his hopes for the band's future. \"I want to be the biggest band in the world,\" he said.  https://t.co/mbEAOSxyI0  https://t.co/IhEM8AppbM\n",
      "1507751749507067914 2022-03-27 01:10:04 +0900 <nytimes> Several explosions were heard on Saturday in Lviv, in western Ukraine not far from the Polish border. Smoke was seen rising in the eastern part of the city, above what is believed to be an oil storage facility.  https://t.co/YjCbEago3E\n",
      "1507744212619563009 2022-03-27 00:40:07 +0900 <nytimes> Distant relatives whose ancestors were forced apart by slavery can be reached with a few mouse clicks. And the descendants of people who profited from slavery are digitizing crucial records long buried in attics and basements.  https://t.co/VBGSjfhfNn\n",
      "1507739225784995849 2022-03-27 00:20:18 +0900 <nytimes> A South Dakota hotelier’s Facebook post last week announcing Native Americans would be barred from the business following a shooting in one of the hotel rooms sparked protests, swift condemnation from community leaders and a federal civil rights lawsuit.  https://t.co/9EY6w6vrud\n",
      "1507734620904857602 2022-03-27 00:02:00 +0900 <nytimes> Theaters? Ticket sales? Who cares? Unless something unexpected happens Sunday, a streaming service film will win the Oscar for best picture for the first time. For an industry in turmoil, this would amount to a seismic moment.  https://t.co/SwwbpMlCJU\n",
      "1507729256348012544 2022-03-26 23:40:41 +0900 <nytimes> Global health officials fear that delays in diagnosis and treatment interruptions during the war may allow pathogens to flourish again — with consequences that ripple for years.  https://t.co/X4Ujxa634s\n",
      "1507725240675315716 2022-03-26 23:24:44 +0900 <nytimes> President Biden told Poland's president on Saturday that the United States treated its duty to defend its NATO allies as “a sacred obligation.\"  https://t.co/d5Bh5jC7fF\n",
      "1507719160037531650 2022-03-26 23:00:34 +0900 <nytimes> What have you always wondered about climate change? New York Times reporters want to answer your questions.  https://t.co/hoMaQfzXtv  https://t.co/DAubbnpACc\n",
      "1507716517697404936 2022-03-26 22:50:04 +0900 <nytimes> Rising food prices threaten to crush household and government budgets alike in Mideast countries that had nothing to spare, raising the possibility of the kind of mass popular unrest not seen since the Arab Spring protests a decade ago.  https://t.co/MhgNEwhgyK\n",
      "1507712117562036232 2022-03-26 22:32:35 +0900 <nytimes> Arizona this week became the first state to offer digital copies of driver’s licenses and state-issued ID cards for Apple Wallet. Other states are expected to follow.  https://t.co/nKDUXGaGXK\n",
      "1507699320841195528 2022-03-26 21:41:44 +0900 <nytimes> The Foo Fighters on Friday confirmed the death of Taylor Hawkins, their hard-hitting and charismatic drummer. He was 50.  https://t.co/GxJYYuaX8Z\n",
      "1507688858225455104 2022-03-26 21:00:09 +0900 <nytimes> While most people who use Botox are women over 40, some have wondered whether starting younger can help stall the signs of aging — before they even start. Here's what experts say.  https://t.co/EXIA0WkKvP  https://t.co/GdPSv8KiKi\n",
      "1507673790913953792 2022-03-26 20:00:17 +0900 <nytimes> Voting in the Oscars isn't as simple as picking the movie you like the most, said our columnist @kylebuchanan. Listen to his chat with the entertainment reporters @nicsperling and @brooksbarnesNYT about what to expect at the ceremony on Sunday:  https://t.co/yRfaxVRy5M  https://t.co/h09MvVltC5\n",
      "1507658663888048138 2022-03-26 19:00:11 +0900 <nytimes> A male birth control pill was 99% effective in preventing pregnancy in mice, according to findings from a new study. But experts say that it's unlikely that an oral contraceptive will be widely available for men any time soon.  https://t.co/JScxtRDLQ9\n",
      "1507628462718300163 2022-03-26 17:00:10 +0900 <nytimes> As their cities have come under siege by Russian forces, Ukrainian artists have turned to music for comfort and connection: \"We still have our music, and we still have our hope.\"  https://t.co/8plIFATiMH\n",
      "1507613328448835584 2022-03-26 16:00:02 +0900 <nytimes> Los caminos de acceso al Aeropuerto Felipe Ángeles no se han terminado. El único vuelo internacional es desde Venezuela. El presidente de México inauguró el primero de una serie de proyectos de infraestructura prometidos. Tal vez lo haya hecho muy pronto.  https://t.co/Jsaqt1slFF\n",
      "1507583157272514563 2022-03-26 14:00:08 +0900 <nytimes> Four of the Best Picture Oscar nominees this year are remakes or reboots of earlier films. Academy history can offer clues about how “Nightmare Alley,” “West Side Story,” “CODA” and “Dune” might fare on Sunday.  https://t.co/D3GpRl5UFB\n",
      "1507568037381160963 2022-03-26 13:00:04 +0900 <nytimes> Here are 12 new books recommended by critics and editors at The New York Times.  https://t.co/8HDOducrMr\n",
      "1507563750584369158 2022-03-26 12:43:01 +0900 <nytimes> Taylor Hawkins, the hard-hitting and charismatic drummer for the band Foo Fighters, has died at 50.  https://t.co/Yg6k3ElG9a\n",
      "1507552938461437953 2022-03-26 12:00:04 +0900 <nytimes> For the first time since satellites began observing Antarctica nearly half a century ago, an ice shelf has collapsed on the eastern part of the continent, scientists said.  https://t.co/Gb0iOPcIMF\n",
      "1507547888649478147 2022-03-26 11:40:00 +0900 <nytimes> Update: The Biden administration plans to offer second booster shots to those 50 or older. The FDA could authorize the doses next week.  https://t.co/KjXCT0cgxH\n",
      "1507537823527804930 2022-03-26 11:00:00 +0900 <nytimes> How St. Peter’s became the belle of the March Madness ball. “It’s not just a Cinderella story,” said Senator Robert Menendez, a New Jersey Democrat who graduated from St. Peter’s University. “It’s David versus Goliath.”  https://t.co/IhKutJbMXN\n",
      "1507532964795670531 2022-03-26 10:40:42 +0900 <nytimes> The underdog St. Peter’s beat No. 3-seeded Purdue 67-64 in the NCAA men’s tournament to become the first 15th-seeded team to reach the round of 8.  https://t.co/1x0lmBllts\n",
      "1507522729490141188 2022-03-26 10:00:01 +0900 <nytimes> The Biden administration appears to be coalescing around a plan to offer people 65 and older — and possibly some younger adults — the option of a second booster of the Pfizer-BioNTech or Moderna coronavirus vaccine, in case infections surge again soon.  https://t.co/zNgwa7sKVp\n",
      "1507512685377818635 2022-03-26 09:20:07 +0900 <nytimes> In a pivotal testimony that ended on Friday, a key witness offered an inside account on how Lawrence Ray, according to prosecutors, moved into a dormitory at Sarah Lawrence College in 2010 and spent years manipulating and abusing students he met there.  https://t.co/7wsWvFgS1T\n",
      "1507507665194393613 2022-03-26 09:00:10 +0900 <nytimes> Dagny Carlsson, believed to be the world’s oldest blogger, who documented her life in Sweden and went on to acquire a worldwide fan base, has died at 109. “I’m a proof of the truth in the proverb that you’re never too old to learn,” she wrote.  https://t.co/SvRdNBc5hx\n",
      "1507503891570647042 2022-03-26 08:45:10 +0900 <nytimes> In Opinion  \"Justice Thomas has shown himself unwilling or unable to protect what remains of the court’s reputation from the appearance of extreme bias he and his wife have created,\" writes Jesse Wegman, a member of the editorial board.  https://t.co/SdSogA8v30\n",
      "1507500096841297927 2022-03-26 08:30:05 +0900 <nytimes> Valentyna Vereteska fled from Mykolaiv, Ukraine, to Poland with her 11-year-old daughter a month ago. On Friday, she won the women’s race at the Jerusalem Marathon with a time of 2 hours, 45 minutes and 54 seconds.  https://t.co/TiXBBeH2yF  https://t.co/nh6ZLRH9yZ\n",
      "1507487520002617345 2022-03-26 07:40:07 +0900 <nytimes> Amazon workers at a New York facility began voting on unionization today. The company has held hundreds of meetings with workers to discourage them from supporting a union.  https://t.co/W5H8yppYn0\n",
      "1507477454889312266 2022-03-26 07:00:07 +0900 <nytimes> The Supreme Court on Friday restored the U.S. Navy’s ability to consider the vaccination status of 35 of its service members in decisions about where they should be assigned or deployed.  https://t.co/aNyUfY2a5m\n",
      "1507474921601081347 2022-03-26 06:50:03 +0900 <nytimes> The Utah State Legislature voted on Friday to override the governor’s veto and enacted a bill that would bar young transgender athletes from participating in girls’ sports, making the state the 12th in the country to enact such legislation.  https://t.co/FlW3zvwtb8\n",
      "1507472412870426628 2022-03-26 06:40:05 +0900 <nytimes> For Prince William and Catherine, Duchess of Cambridge, it has been a turbulent tour of the Caribbean — one that has dramatized how rapidly Queen Elizabeth II is losing her grip in distant areas where she is still head of state.  https://t.co/6ZDKp5q3e9\n",
      "1507469896052973570 2022-03-26 06:30:05 +0900 <nytimes> While most people who use Botox are women over 40, some have wondered whether starting younger can help stall the signs of aging — before they even start. Here's what experts say.  https://t.co/XpBuJm7xug  https://t.co/iiSW9sAWGg\n",
      "1507467379231526918 2022-03-26 06:20:05 +0900 <nytimes> The NFL quarterback Deshaun Watson on Friday gave his most direct and forceful denial yet of the sexual misconduct accusations against him by two dozen women, speaking at a news conference where he was introduced by his new team, the Cleveland Browns.  https://t.co/yDQMpc0NFw\n",
      "1507464862867156999 2022-03-26 06:10:05 +0900 <nytimes> About 45% of people in Ukraine do not have reliable access to enough food, the UN’s World Food Program said. One-fifth of the population is already getting less food because of the war, it said, and adults are skipping meals so that children can eat.  https://t.co/MJVrgKzFDj\n",
      "1507462406707896320 2022-03-26 06:00:19 +0900 <nytimes> The British Museum announced on Friday it is removing the name of the Sackler family from its walls, becoming the latest major cultural institution to cut ties with the family over its role in the opioid crisis.  https://t.co/3o1mwOYPP2\n",
      "1507458404595683328 2022-03-26 05:44:25 +0900 <nytimes> Update: Ukrainians in Kherson and Ukrainian officials questioned the Pentagon’s assessment. Read the latest.  https://t.co/W9G8wpLDPF\n",
      "1507457319289860100 2022-03-26 05:40:06 +0900 <nytimes> Russian ground forces near Kyiv have stopped trying to take the capital and have shifted to defensive positions as airstrikes continue there, a senior U.S. defense official said Friday, adding that Russia shifted much of its efforts to the Donbas region.  https://t.co/rqXQXUAeB6\n",
      "1507452295595929603 2022-03-26 05:20:09 +0900 <nytimes> MLB’s collective bargaining agreement expired at 11:59 p.m. ET on Dec. 1. So did the jointly negotiated drug testing agreement. Doping experts say the opportunity was there for players to take advantage.  https://t.co/8G0JLYylvE\n",
      "1507447301920460824 2022-03-26 05:00:18 +0900 <nytimes> Cannibalism is common among the millions of modern arthropod species. But how far back does this gruesome mode of dining go? Apparently, some 514 million years ago.  https://t.co/ScbUVfMHf6\n",
      "1507443485175128064 2022-03-26 04:45:08 +0900 <nytimes> Before 2020, Jennifer Sey was an executive at Levi Strauss &amp; Company and a top candidate to be the company’s next leader. Two years later, she was out of a job. Her advocacy for school reopenings during the pandemic made her a pariah at work, she said.  https://t.co/1JaB2RIAq7  https://t.co/kFnrIVi48f\n",
      "1507439709059964931 2022-03-26 04:30:08 +0900 <nytimes> The International Committee of the Red Cross has come under sharp criticism after photos were published showing its leader smiling and shaking hands with Russia’s foreign minister this week amid the war in Ukraine.  https://t.co/RM7YffFvoh\n",
      "1507437181585002513 2022-03-26 04:20:05 +0900 <nytimes> Judge Ketanji Brown Jackson spent two days answering senators’ questions about her Supreme Court nomination. Here’s what you may have missed:  https://t.co/zvgys5k65g\n",
      "1507434178178080771 2022-03-26 04:08:09 +0900 <nytimes> In Opinion  \"She pushed the envelope her entire life,\" Hillary Clinton writes in a guest essay on Madeleine Albright. \"We can honor her memory by heeding her wisdom.\"  https://t.co/6b1jNoqi3M\n",
      "1507433406140850178 2022-03-26 04:05:05 +0900 <nytimes> A judge threw out Maryland’s new congressional map, in the first time this redistricting cycle that Democrats’ maps have been rejected in court.  https://t.co/M2KSdh2M5F\n",
      "1507429815552552963 2022-03-26 03:50:49 +0900 <nytimes> Jens Stoltenberg, NATO’s secretary general, said, “We have a responsibility to ensure that the war does not escalate beyond Ukraine, and become a conflict between NATO and Russia.”   See more of our maps on the war.  https://t.co/DEKHccALen\n",
      "1507429813824413698 2022-03-26 03:50:48 +0900 <nytimes> The new NATO battlegroups in Bulgaria, Hungary, Romania and Slovakia join similar forces in the Baltic countries and Poland — which are also growing in size. A little more than a quarter of all troops under direct NATO command are now in Poland.  https://t.co/DEKHccALen  https://t.co/Yzdi9yPWf6\n",
      "1507429810087333891 2022-03-26 03:50:48 +0900 <nytimes> NATO said it was deploying additional battlegroups to Eastern Europe amid growing concerns over how Russia may respond to the increasing diplomatic and economic penalties it is facing.  Follow our maps of the war in Ukraine.  https://t.co/DEKHccALen\n",
      "1507427117121814540 2022-03-26 03:40:06 +0900 <nytimes> The UN said on Friday that more than 1,000 civilians had died in Ukraine since Russia’s invasion began, many of them in what appear to be indiscriminate bombardments that could constitute war crimes.  https://t.co/VS2GucdDHP\n",
      "1507424630663004162 2022-03-26 03:30:13 +0900 <nytimes> Russia signaled on Friday it may be reducing its war aims, announcing that it would now focus its forces on taking more territory in eastern Ukraine and that the goals of the “first stage of the operation” had been “mainly accomplished.”  https://t.co/51pVZP3TdI\n",
      "1507422082942001161 2022-03-26 03:20:05 +0900 <nytimes> Pandemic-related lockdowns and reprioritized government spending have put the world's public museums under financial pressure. Despite NFTs attracting high sales figures, few institutions have explored this digital asset as a fund-raising mechanism.  https://t.co/33XeWDeWvL\n",
      "1507420838307454978 2022-03-26 03:15:09 +0900 <nytimes> Photographs out of Kharkiv show a large fireball and nearby cars and buildings on fire following a Russian attack. They also show residents fleeing on foot and bicycle, carrying whatever belongings they could grab in the aftermath of the attack.  https://t.co/unAtmLFg8i  https://t.co/ptsnPhILCa\n",
      "1507418300703195156 2022-03-26 03:05:04 +0900 <nytimes> The U.S. said it would help the European Union secure an additional 15 billion cubic meters of liquified natural gas by the year’s end. The EU has rushed to cut its dependence on Russian imports of gas since the war in Ukraine began.  https://t.co/dk11aHXrj1  https://t.co/Ry3Tnhwkjf\n",
      "1507417126763737088 2022-03-26 03:00:24 +0900 <nytimes> “Everything Everywhere All at Once” is multiverse galaxy-brain head trip, but it’s also a bittersweet domestic drama, a marital comedy and a story of immigrant striving, our critic writes.  https://t.co/3niJ4xAJHr\n",
      "1507416290725670913 2022-03-26 02:57:04 +0900 <nytimes> Russian forces no longer have full control of Kherson, the first major Ukrainian city that President Vladimir Putin’s forces managed to capture as part of his invasion, a senior Pentagon official said on Friday.  https://t.co/YDzEQchZnQ\n",
      "1507414784886689792 2022-03-26 02:51:05 +0900 <nytimes> How has Ukraine wiped out so many Russian tanks, and how is Russia managing to destroy entire Ukrainian towns?  Here's what to know about the weapons being used in the war.  https://t.co/QOjtlaDjEA\n",
      "1507406985666433034 2022-03-26 02:20:06 +0900 <nytimes> “I want to show the people the consequences of this war: poor children with shrapnel in their legs, their arms, in their heads. It’s not OK.”  Here's how heart-wrenching glimpses of life in Ukraine have become powerful ammunition in an information war.  https://t.co/ZLHxKzPKZT\n",
      "1507405732303540231 2022-03-26 02:15:07 +0900 <nytimes> It's almost impossible to find water in the new airport. The unfinished access roads need signs. The only transnational flight is from Venezuela. Mexico’s president unveiled the first of long-promised infrastructure projects — possibly a little too soon.  https://t.co/xr5pEhlIH0\n",
      "1507403099346022401 2022-03-26 02:04:39 +0900 <nytimes> @vvchambers Sheila Bridges, known for creating Harlem Toile de Jouy wallpaper, talked to The New York Times about designing her weekend retreat in Hudson, New York, to please the ultimate client: herself.  https://t.co/x9oKxDeAz7\n",
      "1507401989554155524 2022-03-26 02:00:15 +0900 <nytimes> Sheila Bridges’s Harlem Toile de Jouy wallpaper and designs, which depict African Americans in the lush, historical settings that rarely featured them, are getting even more attention. For @vvchambers it fills in the visual gaps of Black tradition.  https://t.co/LHsHDq7qsy\n",
      "1507400678980952073 2022-03-26 01:55:02 +0900 <nytimes> Ukraine’s military said on Friday that Russian forces had secured a partial land corridor from Russia to the Crimean Peninsula, but analysts say there has been little in the way of significant territorial gains elsewhere in Ukraine in recent days.  https://t.co/jtzzzGOZou\n",
      "1507398176927629324 2022-03-26 01:45:06 +0900 <nytimes> The bond market is being hammered by high inflation and the start of interest rate increases by the Federal Reserve and other central banks, absorbing painful losses on a scale last seen in the 1980s.  https://t.co/leSUCpDQH1\n",
      "1507394466461716480 2022-03-26 01:30:21 +0900 <nytimes> There are currently two oral antiviral therapies available to treat Covid-19 in the U.S. Here's how they work, who’s eligible and where to find them.  https://t.co/Yt1qwiikNz\n",
      "1507386892307898375 2022-03-26 01:00:15 +0900 <nytimes> \"The Lost City\" is basically a vehicle for Sandra Bullock to play her most enduring role: Sandra Bullock, your supremely likable BFF, our critic writes.  https://t.co/3BTcMGfG21\n",
      "1507383101198061575 2022-03-26 00:45:11 +0900 <nytimes> Senator Ted Cruz aggressively questioned Judge Ketanji Brown Jackson about antiracism efforts at a school where she serves on the board. But leaders at the private school where Cruz sends his daughters have advocated a similar antiracist stance.  https://t.co/clV4Y8c4jD\n",
      "1507380571860869127 2022-03-26 00:35:08 +0900 <nytimes> President Biden met with members of the 82nd Airborne Division at their barbershop in Rzeszow, Poland, on Friday. The division was deployed from Fort Bragg, North Carolina, in February as part of the increase of American troops in NATO’s eastern flank.  https://t.co/bgsaQRvkKc  https://t.co/ha4rTtzUvT\n",
      "1507374691908005888 2022-03-26 00:11:46 +0900 <nytimes> Breaking News: Justice Clarence Thomas, the Supreme Court’s longest-serving member, who had been hospitalized for the last week after experiencing flulike symptoms, was discharged Friday morning, the Supreme Court said.  https://t.co/lCIzLzxtD7\n",
      "1507371519068057615 2022-03-25 23:59:10 +0900 <nytimes> Senator Joe Manchin said he would vote to confirm Judge Ketanji Brown Jackson to the Supreme Court, unifying Democrats behind her.  https://t.co/4iTNxTSMWn\n",
      "1507369225790406665 2022-03-25 23:50:03 +0900 <nytimes> “Have a nice day, my hero city!”  The mayor of Kherson, which has been held by Russian forces since March 2, said a new Ukrainian flag had been hung on the City Council building after a smaller flag was damaged by Russian forces.  https://t.co/YhARQWl8ox  https://t.co/ZOYY5uqbfk\n",
      "1507364259222724616 2022-03-25 23:30:19 +0900 <nytimes> In Opinion  Le Roy Torres came home from Iraq with a sickness he could neither explain nor shake, Megan Stack writes. “It took years of tests to prove what Mr. Torres suspected: His lungs and brain were damaged from exposure to military burn pits.”  https://t.co/xCjorjPrlB\n",
      "1507360173001789440 2022-03-25 23:14:05 +0900 <nytimes> In Opinion  Many in the West believe that “sanctioning oligarchs can move them to pressure Mr. Putin to change course,” writes Eileen O’Connor, a former journalist and lawyer who worked in Russia and Ukraine, in a guest essay. “That is a miscalculation.”  https://t.co/cQJGIwea6R\n",
      "1507358410118942727 2022-03-25 23:07:04 +0900 <nytimes> A police commander who helped liberate Mariupol in 2014 from Russian-backed forces has offered to give himself up in exchange for the safe passage of children who remain in the besieged city.  https://t.co/TFPrupOVLp  https://t.co/a4I2L5WG4X\n",
      "1507353984905924615 2022-03-25 22:49:29 +0900 <nytimes> Breaking News: Israel will host a historic summit this weekend with top diplomats from the U.S., the UAE, Bahrain and Morocco, in a sign of how quickly Middle Eastern alliances are shifting.  https://t.co/MnLlNa3vvD\n",
      "1507349598611857414 2022-03-25 22:32:04 +0900 <nytimes> The U.S. and EU reached an “agreement in principle” to assure that it is legal to transfer personal data across the Atlantic, officials said.  https://t.co/i2Mm5vuuAo\n",
      "1507345325215862792 2022-03-25 22:15:05 +0900 <nytimes> Newly surfaced security camera footage shows an attack on a line of civilians outside a post office and shopping center in Kharkiv, Ukraine, on Thursday.  https://t.co/GhPb6A96J4\n",
      "1507343068466491400 2022-03-25 22:06:07 +0900 <nytimes> Russian forces have secured a partial land corridor from Russia to the Crimean Peninsula, a key strategic aim of Moscow’s since the war began, Ukraine’s defense ministry said.  https://t.co/zfjiWobKTV\n",
      "1507341568398745605 2022-03-25 22:00:09 +0900 <nytimes> Russian assaults on Slavutych, a city near the Chernobyl nuclear power plant where most of its staff members continue to live, are jeopardizing the workers’ ability to operate and ensure safety at the Russia-controlled plant, a nuclear watchdog said.  https://t.co/TXztpyoI9V\n",
      "1507338022286774298 2022-03-25 21:46:04 +0900 <nytimes> Russian missile strikes on a military facility in the central Ukrainian city of Dnipro on Thursday night destroyed buildings, and casualties were still being assessed, the Ukrainian State Emergency Service and military said.  https://t.co/2lelBfRQIX\n",
      "1507333731903852560 2022-03-25 21:29:01 +0900 <nytimes> The Biden administration wants to send more natural gas to Europe to help it break its dependence on Russian energy. But a lack of import and export infrastructure makes that ambition largely symbolic, at least in the short run.  https://t.co/Avg5nIZ7iQ\n",
      "1507330483906125834 2022-03-25 21:16:06 +0900 <nytimes> An estimated 300 people were killed in Russia’s attack last week on a theater in Mariupol, Ukraine, local officials said.  “There cannot and never will be an explanation for this inhuman cruelty,” the City Council said.  https://t.co/fzLAfp6e6f\n",
      "1507326523061293087 2022-03-25 21:00:22 +0900 <nytimes> Thousands of women and girls in Afghanistan who were in school or had jobs were forced back into their homes when the Taliban took control of the country last year.  What kind of future do they now face? Listen to today’s episode of The Daily.  https://t.co/oLrapBzceg\n",
      "1507323944583548949 2022-03-25 20:50:07 +0900 <nytimes> Finland’s national rail service will stop operating the Allegro train between Helsinki and St. Petersburg to align with sanctions. It was the last direct train service to Europe from Russia.  Follow our updates on the war in Ukraine.  https://t.co/XglIzvGZ93  https://t.co/daPYKQwrQY\n",
      "1507320916526653444 2022-03-25 20:38:05 +0900 <nytimes> In cities and towns occupied by Russian forces, Ukrainian residents have been staging acts of resistance.  In the city of Kherson, which has been held by Russian forces since March 2, a huge Ukrainian flag was unfurled on a municipal building.  https://t.co/02qs4j6E2K\n",
      "1507318929844318210 2022-03-25 20:30:12 +0900 <nytimes> Donald Trump has tried to establish himself as the Republican Party’s kingmaker in the 2022 midterms. But two of his most prominent Senate endorsements have already backfired.  Now May looms as the month that will test his hold on the Republican base.  https://t.co/cVoytM6RWc\n",
      "1507315143646060547 2022-03-25 20:15:09 +0900 <nytimes> As the war in Ukraine grinds on, Poland has become the pivot around which many of the West’s hopes and Russia’s fury turn. The country’s right-wing populist government has been embraced as a linchpin of Western solidarity and security.  https://t.co/Cd16mk3nFP\n",
      "1507313114580148260 2022-03-25 20:07:05 +0900 <nytimes> President Biden announced a deal to help secure more liquefied natural gas for the EU to reduce its dependency on Russian fuel imports.  https://t.co/ZgXJFkdJxM\n",
      "1507311394869415937 2022-03-25 20:00:15 +0900 <nytimes> In Opinion  To Central and Eastern European countries, \"it seems foolhardy to assume Mr. Putin will stop at Ukraine. The danger is pressing and immediate,\" Karolina Wigura and Jaroslaw Kuisz write in a guest essay.  https://t.co/mmDdziZkAb\n",
      "1507307075868712981 2022-03-25 19:43:05 +0900 <nytimes> Food is in short supply. Two men died waiting for fuel on hot days. School exams have been postponed because of a lack of paper.  As an economic crisis upends life across Sri Lanka, protests are rising against a president with a reputation for brutality.  https://t.co/AWWTBuuEyX  https://t.co/wTrSTkssws\n",
      "1507300029987446799 2022-03-25 19:15:06 +0900 <nytimes> Ginni Thomas, the wife of Supreme Court Justice Clarence Thomas, is said to have repeatedly urged Donald Trump’s chief of staff to try to overturn the 2020 election.  https://t.co/wyf85HcvP1\n",
      "1507298774422540291 2022-03-25 19:10:06 +0900 <nytimes> A surge of Covid cases across China, driven by the Omicron variant, is straining hospitals and prompting lockdowns of neighborhoods in Shanghai, where many residents are expressing dismay over China’s zero-tolerance approach to the virus.  https://t.co/9zYdRFBPnU\n",
      "1507296245773221888 2022-03-25 19:00:03 +0900 <nytimes> Representative Jeff Fortenberry, Republican of Nebraska, was convicted on charges that he lied to U.S. authorities about having received an illegal campaign contribution from a foreign citizen. A sentencing hearing is set for June.  https://t.co/MQ81zaWns4\n",
      "1507281146492731448 2022-03-25 18:00:03 +0900 <nytimes> Like a pachinko-parlor owner, the makers of Apple TV+’s “Pachinko” have expertly tweaked their show’s machinery to keep customers in the seats, our TV critic writes.  https://t.co/rfhJq1oCR1\n",
      "1507276861000368149 2022-03-25 17:43:02 +0900 <nytimes> China and the Solomon Islands are close to signing a secret security agreement that could open the door to Chinese troops and naval warships flowing into the Pacific Island nation, according to a leaked document verified by the Australian government.  https://t.co/OT6YaGcZkl\n",
      "1507273640756363275 2022-03-25 17:30:14 +0900 <nytimes> Here's a look at some of the highlights worth watching from late-night TV.  https://t.co/v2TVsKG1Ta\n",
      "1507269844651098115 2022-03-25 17:15:09 +0900 <nytimes> A wide stretch of the Great Barrier Reef has been hit by a sixth mass bleaching event, officials said.  “We’re seeing that coral reefs can’t cope with the current rate of warming and the frequency of climate change,” one coral biologist said.  https://t.co/ImF2ERWzIt\n",
      "1507266071375581184 2022-03-25 17:00:09 +0900 <nytimes> The Los Angeles Angels, a team with Mike Trout and Shohei Ohtani and little recent on-field success, spent the winter dealing with the lockout and a trial over the overdose death of a former player that implicated its former communications director.  https://t.co/eeqzFtJjnm\n",
      "1507262282027483149 2022-03-25 16:45:06 +0900 <nytimes> Ukrainian employees of Leroy Merlin, a chain of home improvement stores, commandeered the company’s Ukraine Instagram page to demand that it “Stop Sales in Russia.”  A branch of the business was destroyed in a Russian strike on a Kyiv mall on Monday.  https://t.co/wiFlnRQEJR\n",
      "1507253468599308318 2022-03-25 16:10:04 +0900 <nytimes> President Biden is heading to Poland to show support for the key NATO member, which has taken in millions displaced by the war in Ukraine.   Follow live updates.  https://t.co/mQMY6PYvus\n",
      "1507250958933315593 2022-03-25 16:00:06 +0900 <nytimes> Chinese officials are ramping up a campaign to force United Nations agencies, governments, companies and even schools to say Taiwan is a part of China, according to a new report.  https://t.co/pqPsI3W8d7\n",
      "1507235884906729488 2022-03-25 15:00:12 +0900 <nytimes> The war in Ukraine, a new Covid wave in China, the crash of the China Eastern Airlines flight.   Follow our weekly Chinese language newsletter from @nytchinese and share your thoughts on the news.  https://t.co/b2s4VzJ1cc\n",
      "1507221874710876162 2022-03-25 14:04:32 +0900 <nytimes> Arizona became the second No. 1 seed to lose in the round of 16 in the NCAA Men's Tournament, falling 72-60 to No. 5-seeded Houston.  https://t.co/FcF2bLkTid\n",
      "1507220760200458268 2022-03-25 14:00:06 +0900 <nytimes> China and the Solomon Islands are close to signing a security agreement that could help the Chinese Navy block shipping routes that played a vital role in World War II, a leaked document has shown.  https://t.co/ODHHg8psam\n",
      "1507205674765365248 2022-03-25 13:00:10 +0900 <nytimes> NATO has activated a special defense task force to deal with the fallout if Russia launches a chemical, biological or nuclear attack. Here’s what that means.  https://t.co/Dot2Hw3KPt\n",
      "1507200622252240898 2022-03-25 12:40:05 +0900 <nytimes> Does anyone still watch the Oscars? Will ratings rebound? Who will win Best Picture? The entertainment reporters @kylebuchanan, @nicsperling and @brooksbarnesNYT discuss what to expect from Sunday's ceremony. Listen to the full conversation:  https://t.co/p2iW791dUF  https://t.co/gaRFtrlaoz\n",
      "1507193071355711495 2022-03-25 12:10:05 +0900 <nytimes> Miami Beach is banning some nighttime alcohol sales in the South Beach neighborhood for three straight nights, an emergency measure that went into effect on Thursday — the same day as a curfew intended to quell any spring break mayhem in the same area.  https://t.co/uYs7hQb9kw\n",
      "1507190565091385350 2022-03-25 12:00:07 +0900 <nytimes> Exactly one month into the Russian invasion of Ukraine, the mood permeating the extraordinary NATO summit meeting was a mix of both fear and opportunity.  https://t.co/8nI0pQCQHP\n",
      "[!] No more data! Scraping will stop now.\n",
      "found 0 deleted tweets in this search.\n",
      "1508954658219466757 2022-03-30 08:50:00 +0900 <nytimes> President Biden on Tuesday signed a bill making lynching a federal crime, ending more than 100 years of failed efforts by the federal government to specifically outlaw the act.  https://t.co/PKzVYNDXFj\n",
      "1508952230220779520 2022-03-30 08:40:21 +0900 <nytimes> In 1976, a school bus carrying 26 children in Chowchilla, California, was ambushed by three kidnappers. The children and the driver managed to escape after they were held for 16 hours. Now, the last of the imprisoned abductors has been granted parole.  https://t.co/iVJ3wsxQ44\n",
      "1508947148121026560 2022-03-30 08:20:09 +0900 <nytimes> Fighters of the Ukrainian Odin Unit, foreign volunteers among them, took cover in Irpin on Tuesday. Shortly after completing the initial phase of their training, volunteers in Kyiv were doused with holy water by a priest.  Follow live updates:  https://t.co/6mU6hFNaev  https://t.co/tmzLIUeV6a\n",
      "1508942105334407174 2022-03-30 08:00:07 +0900 <nytimes> Ukrainian soldiers have essentially retaken, for now, the town of Irpin, the scene of fierce fighting in recent weeks. Its success shows the steep challenges Russia faces in trying to capture Ukraine’s capital.  https://t.co/MgxSAqtG0g\n",
      "1508938343400321034 2022-03-30 07:45:10 +0900 <nytimes> The U.S. is preparing new sanctions targeting the supply chains of Russia's military industrial sector as it seeks to erode Moscow's ability to attack Ukraine, the deputy Treasury secretary said Tuesday.  https://t.co/tjWzKvL87s\n",
      "1508934555599880196 2022-03-30 07:30:07 +0900 <nytimes> Breaking News: President Biden on Tuesday signed a bill making lynching a federal crime, ending more than 100 years of failed efforts by the federal government to specifically outlaw the act.  https://t.co/PKzVYNDXFj\n",
      "1508930788406013959 2022-03-30 07:15:09 +0900 <nytimes> Americans are more worried about inflation than at any point since 1985, according to a new Gallup poll. Concern was divided along political lines: 79% of Republicans said they are seriously worried about inflation, the poll found, versus 35% of Democrats.  https://t.co/vUOCsP8Wsv\n",
      "1508929512993656836 2022-03-30 07:10:05 +0900 <nytimes> Using a smartphone attached to a remote controller for a drone, a fighter in the Ukrainian forces conducted surveillance over Irpin, outside Kyiv. The fighters used the drone to spot Russian ambushes.  Follow live updates:  https://t.co/dBfqJVZHxg  https://t.co/O6DCxjQwHk\n",
      "1508927063893450755 2022-03-30 07:00:21 +0900 <nytimes> Ukrainian officials said numerous cases of rape and sexual violence have occurred in the country since Russia’s invasion began. \"What we are hearing by word of mouth, from acquaintances of survivors in the country, is horrific,\" a Ukrainian lawyer said.  https://t.co/3ydkjxDMKB\n",
      "1508923220870766598 2022-03-30 06:45:04 +0900 <nytimes> In unusually blunt language, the Pentagon press secretary said that the U.S. and its European allies should not be “fooling” themselves by accepting recent claims from Russia that it is reducing attacks in Ukraine.  https://t.co/qCs1SmRuWA\n",
      "1508919492835000338 2022-03-30 06:30:16 +0900 <nytimes> The fact that the negotiations between Ukraine and Russia had become more serious was reflected in the setting, the Istanbul palace where President Recep Tayyip Erdogan — who has maintained ties with both Moscow and Kyiv — holds major government events.  https://t.co/VkSyE4QYjl\n",
      "1508916939476934656 2022-03-30 06:20:07 +0900 <nytimes> At 10:27 p.m. Eastern on Sunday, Will Smith slapped Chris Rock after the comedian delivered a joke at the Oscars about Smith’s wife, Jada Pinkett Smith. Nearly 17.4 million viewers tuned in after the slap, up from 16.8 million shortly before it.  https://t.co/3AqP3Uiv1L\n",
      "1508914431048224772 2022-03-30 06:10:09 +0900 <nytimes> The highly contagious Omicron subvariant known as BA.2, which led to a surge of coronavirus cases in Europe, is now the dominant version of the virus in new U.S. cases, according to the CDC.  https://t.co/5u8bvHawGZ\n",
      "1508911952252309509 2022-03-30 06:00:18 +0900 <nytimes> In Opinion  \"This is not a defense of Will Smith, who does not need me to defend him,\" Roxane Gay writes. \"Instead, this is a defense of thin skin. It is a defense of boundaries and being human and enforcing one’s limits.\"  https://t.co/YppWwfZblc\n",
      "1508908183884120074 2022-03-30 05:45:19 +0900 <nytimes> Ukraine’s counterattacks have come as major Russian offensives have mostly stalled, with Russian troops largely regrouping and trying to consolidate territory taken in the opening weeks of the invasion. See more of the ongoing battle for Ukraine.  https://t.co/YOevSwZYpw\n",
      "1508908181866618884 2022-03-30 05:45:19 +0900 <nytimes> Farther to the east, the towns of Trostianets and Boromlia have also been recaptured, according to officials. The two towns are just south of Sumy, a city currently surrounded by Russian forces.  https://t.co/YOevSwZYpw  https://t.co/KMQ3zIKBLW\n",
      "1508908175734751232 2022-03-30 05:45:17 +0900 <nytimes> Officials also said the towns of Lukianivka and Rudnytske, both east of Kyiv, had been recaptured after several days of counterattacks.  https://t.co/YOevSx0wf4  https://t.co/nMnN1fejG7\n",
      "1508908169979961347 2022-03-30 05:45:16 +0900 <nytimes> The mayor of Irpin said on Monday that Ukraine had liberated the town from Russian forces, but reports indicate that Ukraine’s hold there was tenuous. Maintaining control of Irpin is important for Ukraine’s army to keep its hold on Kyiv.  https://t.co/YOevSwZYpw  https://t.co/d9eUwCxG6W\n",
      "1508907880019369987 2022-03-30 05:44:07 +0900 <nytimes> Ukraine reported making some gains in the northeast, waging counterattacks that pushed back Russian forces and enabled the Ukrainians to recapture several towns near the front lines. The New York Times is mapping the war.  https://t.co/YOevSwZYpw\n",
      "1508904388647133184 2022-03-30 05:30:14 +0900 <nytimes> Black Americans have not been sufficiently included in long Covid trials and treatment programs, experts warn. “The pandemic isn’t over, it isn’t over for anyone,” a researcher said. “But the reality is, it’s certainly not over in Black America.”  https://t.co/FLPttlpKoF\n",
      "1508900636963844103 2022-03-30 05:15:20 +0900 <nytimes> Watching Will Smith \"up there on Sunday, burying his behavior in the Williamses’ story, I’m not sure he was entirely back in his body,\" writes our critic. \"I’ve never experienced a victory that feels this much like defeat. I suspect he knew this, too.\"  https://t.co/2usdL897fW\n",
      "1508896819891347465 2022-03-30 05:00:10 +0900 <nytimes> The NFL changed a rule to ensure that both teams would possess the ball at least once in overtime of postseason games. The measure comes months after Kansas City won a playoff game against Buffalo, which were not given a chance to score in overtime.  https://t.co/FyeclCgYyh\n",
      "1508893040135618573 2022-03-30 04:45:09 +0900 <nytimes> In Opinion    \"There are no heroes in this story,\" writes Roxane Gay in a roundtable discussion with Charles M. Blow, Lulu Garcia-Navarro and Esau McCaulley about Will Smith hitting Chris Rock at the Oscars.  https://t.co/uRw7w4fkse\n",
      "1508885462944989194 2022-03-30 04:15:02 +0900 <nytimes> The BA.2 variant, sometimes called “stealth Omicron,” appears to be more transmissible than the original version of Omicron. But the subvariant doesn’t seem to lead to different symptoms, an epidemiologist said.  https://t.co/jyj5m2VpK2\n",
      "1508882940675117056 2022-03-30 04:05:01 +0900 <nytimes> British authorities detained a 192-foot-long Russian superyacht worth about $50 million. The Phi is the first such vessel to be detained in British waters in what the government said was a warning to President Vladimir Putin and his associates.  https://t.co/puMqwurWZK\n",
      "1508877910215733256 2022-03-30 03:45:02 +0900 <nytimes> Ukrainian officials said numerous cases of rape and sexual violence have occurred in the country since Russia’s invasion began. \"What we are hearing by word of mouth, from acquaintances of survivors in the country, is horrific,\" a Ukrainian lawyer said.  https://t.co/JTxxpT0WwQ  https://t.co/rFLo0oFBs1\n",
      "1508873345944768518 2022-03-30 03:26:53 +0900 <nytimes> Breaking News: A gunman killed at least four people in an ultra-Orthodox neighborhood near Tel Aviv. The shooting was the fifth attack in less than two weeks, and heightened fears of violence over the next month, when Ramadan, Passover and Easter converge.  https://t.co/7J1Txzgqa2\n",
      "1508869118262398987 2022-03-30 03:10:05 +0900 <nytimes> Several people were killed and at least a dozen were injured after a blinding snow squall on Monday led to a fiery pileup of at least 50 vehicles on a Pennsylvania interstate, the authorities said.  https://t.co/OSuH3sr0Px  https://t.co/Moh4URP0Dg\n",
      "1508866637763690501 2022-03-30 03:00:14 +0900 <nytimes> A jump in private air travel has led to a crunch for space to park jets.  https://t.co/M4kqJiZ4RB\n",
      "1508862018446626822 2022-03-30 02:41:53 +0900 <nytimes> As J.J. faces an uncertain future, no one has been held responsible. “What would it have been like if they hadn’t been so negligent?” his mother, Selena Wiley, said of the rental company. “They took who I had away.”   Read our full investigation.  https://t.co/dxVsEjzcGS\n",
      "1508862016856936449 2022-03-30 02:41:52 +0900 <nytimes> Lead poisoning is a scourge in many of the country’s poorer ZIP codes, and minority children are especially affected, given that they are more likely to live in older rental homes that are poorly maintained by landlords.  https://t.co/dxVsEjzcGS  https://t.co/mO2p75gQHK\n",
      "1508862013128286211 2022-03-30 02:41:51 +0900 <nytimes> J.J. cannot put on pants by himself, is easily distracted and hard to console. His teeth ache from lead-related decay, and the iron supplements he takes cause stomach pain.  https://t.co/dxVsEjzcGS  https://t.co/oh3FGfeG43\n",
      "1508862008439021571 2022-03-30 02:41:50 +0900 <nytimes> One of those 500,000 children is J.J., who lived in an older rental in South Bend, Indiana. The property manager assured his mother it was safe. But when J.J. was 2, a doctor discovered he had lead poisoning. Now 5, he doesn't communicate nearly as well as his 3-year-old sister.  https://t.co/hvEhfl1TvR\n",
      "1508862005230325765 2022-03-30 02:41:50 +0900 <nytimes> Lead is known to cause irreversible damage to a child’s brain and nervous system, affecting intelligence, behavior and the ability to learn.  https://t.co/dxVsEjzcGS  https://t.co/dxcBCFqVCu\n",
      "1508862001543585793 2022-03-30 02:41:49 +0900 <nytimes> Lead poisoning is a major public health threat in the U.S., with 3.3 million children living in hazardous homes. Those poisoned today have less recourse than ever, as the insurance and real estate industries have worked to shield themselves from liability.  https://t.co/dxVsEjzcGS  https://t.co/QTw6micFo8\n",
      "1508859047210065923 2022-03-30 02:30:04 +0900 <nytimes> The FDA on Tuesday authorized second booster shots of the Pfizer and Moderna vaccines for everyone 50 and older and some immunocompromised people. Here’s what scientists know about who needs the doses, and when.  https://t.co/LYp4sVH7hk\n",
      "1508855266200231941 2022-03-30 02:15:03 +0900 <nytimes> Russian forces used hunger as a weapon of war in a monthlong siege of Mariupol, Ukraine. “No roof, no food and no water,” survivors texted relatives who escaped.  https://t.co/AU0akoB1zA\n",
      "1508854005971275776 2022-03-30 02:10:02 +0900 <nytimes> Bloating, that unpleasant feeling of pressure in the stomach, affects an estimated one in five adults. But understanding why it happens — and treating it — can be a challenge.  https://t.co/oWoudHlvaA\n",
      "1508851537124151297 2022-03-30 02:00:14 +0900 <nytimes> Prince Andrew’s conspicuous public appearance with his mother, Queen Elizabeth, at a memorial service for Prince Philip on Tuesday sent an unmistakable message of support by the queen for her disgraced son.  https://t.co/Hn6mfPlbHu\n",
      "1508846492764844032 2022-03-30 01:40:11 +0900 <nytimes> Russian forces detained the head of the education department in the occupied southern Ukrainian city of Melitopol, the mayor there said on Monday, after the department and teachers pushed back against orders to overhaul the curriculum.  https://t.co/qDL5YU8aUd\n",
      "1508843994389880853 2022-03-30 01:30:15 +0900 <nytimes> Volunteers with the Kyiv Territorial Defense Forces were doused with holy water by a priest shortly after completing the initial phase of their training.  https://t.co/Dqi8NxylvO  https://t.co/c6mqhGeY7h\n",
      "1508840185114640387 2022-03-30 01:15:07 +0900 <nytimes> \"My body did not fit into any narrative of order, proportion, plan,\" Chloe Cooper Jones, who was born without a sacrum, writes in @NYTmag of her visit to the Galleria Borghese in Rome. \"What was my lineage and where was it celebrated?\"  https://t.co/IhN7joTwU0\n",
      "1508836429874741251 2022-03-30 01:00:12 +0900 <nytimes> In Opinion  “What matters here is that we have, in Ginni Thomas, a very high-profile Republican activist who holds, and acts on, fringe, conspiratorial beliefs,” Jamelle Bouie writes. “And she is not alone.”  https://t.co/GniwcysaVm\n",
      "1508831378309357570 2022-03-30 00:40:07 +0900 <nytimes> Job openings in the U.S. remained near record levels in February, at about 11.3 million, and the number of workers who chose to leave their jobs increased, the Labor Department said on Tuesday.  https://t.co/WZn9B1KVnb\n",
      "1508828874204983296 2022-03-30 00:30:10 +0900 <nytimes> Hundreds of workers at the publishing giant Condé Nast, which owns titles like Vogue, Vanity Fair, Bon Appétit and GQ, announced on Tuesday that they had formed a companywide union. It will cover more than 500 employees.  https://t.co/E6QJEGtobL\n",
      "1508825080876392448 2022-03-30 00:15:06 +0900 <nytimes> Fighting continued in Ukraine on Tuesday, even as progress was reported in peace talks. A Russian attack destroyed much of a regional government building in Mykolaiv, leaving at least 11 people trapped in the ruins, according to the governor, Vitaly Kim.  https://t.co/2p78nQs525\n",
      "1508819296834801675 2022-03-29 23:52:07 +0900 <nytimes> Breaking News: The FDA authorized second booster shots of the Pfizer and Moderna vaccines for everyone 50 and older and some immunocompromised people.  https://t.co/NAeLMwDRR0\n",
      "1508814007901302790 2022-03-29 23:31:06 +0900 <nytimes> Oil prices dropped, with the key U.S. benchmark dropping below $100 a barrel, and stock prices jumped as talks between Russia and Ukraine showed signs of progress.  Even after the recent pullback, oil prices are up more than 7% since the invasion began.  https://t.co/7nPVAHw6Ch\n",
      "1508809984942948366 2022-03-29 23:15:07 +0900 <nytimes> Several people were killed and at least a dozen were injured after a snow squall on Monday led to a pileup on a Pennsylvania interstate, the authorities said. The chain reaction involved at least 50 vehicles, including several tractor-trailers.  https://t.co/k1W2LpAk6J\n",
      "1508806281234157584 2022-03-29 23:00:24 +0900 <nytimes> Students applying to MIT in 2022 will have to submit SAT or ACT exam scores, the university announced on Monday, nearly two years after suspending the requirement because the pandemic had disrupted testing for many applicants.  https://t.co/OcTK7zIZzN\n",
      "1508798653758070794 2022-03-29 22:30:05 +0900 <nytimes> Burmese pythons are causing wildlife populations to plummet in Florida, but the bobcat might be able to help.  Scientists have evidence of a bobcat devouring python eggs, giving hope that the state’s native species are responding to the invasive predator.  https://t.co/oT1kZOkkEU  https://t.co/67nTQAqZbn\n",
      "1508797395265536019 2022-03-29 22:25:05 +0900 <nytimes> Roman Abramovich, a behind-the-scenes power broker in Russia, was at peace talks in Turkey, footage from the event shows. His appearance comes a day after reports that he and several other negotiators had been victims of a potential poisoning.  https://t.co/rGRoXdFUsh  https://t.co/nCxzp7b7L7\n",
      "1508791123334111232 2022-03-29 22:00:10 +0900 <nytimes> Hillsong was the leading edge of cool Christianity, a quickly growing network whose services were attended by Justin Bieber and Kevin Durant.  Now, the church’s U.S. presence is in collapse amid a series of crises, including the resignation of its leader.  https://t.co/KMg2L1XWQV\n",
      "1508789091252555791 2022-03-29 21:52:05 +0900 <nytimes> A wildfire near Fort Hood, a military base in Texas, continues to grow but poses no threat to lives, homes or infrastructure, officials said.  The Crittenberg Complex, which consists of three fires, has burned more than 33,000 acres as of late Monday.  https://t.co/XVhkU0f7DJ\n",
      "1508787068037701637 2022-03-29 21:44:03 +0900 <nytimes> The head of the UN’s nuclear agency arrived in Ukraine for talks on the safety of the country’s nuclear facilities, which have been targets for Russian forces. The visit could lay the groundwork for sending experts into the country to protect nuclear sites. https://t.co/6LEAzpSDFH\n",
      "1508783805049548810 2022-03-29 21:31:05 +0900 <nytimes> A Russian strike on a government building in Mykolaiv, Ukraine, destroyed a large portion of the building and left at least 11 people trapped in the rubble, according to the region’s governor.  The attack came after people arrived for work, he said.  https://t.co/p4RdkkhuCZ  https://t.co/b6LGV4T5p2\n",
      "1508783371685617665 2022-03-29 21:29:22 +0900 <nytimes> Breaking News: Russia said it would reduce military activity near Ukraine’s capital, Kyiv, as diplomats from both countries discussed a possible cease-fire.  Follow our updates.  https://t.co/XzeEVbqCzy\n",
      "1508779785404788739 2022-03-29 21:15:07 +0900 <nytimes> Shanghai has begun a staggered lockdown. Businesses and public transit are closed, and the vast majority of people will be confined to their homes as mass Covid testing is carried out.     The Chinese city's 26 million residents are scrambling to prepare.  https://t.co/77Mq28Ve7X\n",
      "1508776012531830784 2022-03-29 21:00:07 +0900 <nytimes> Ukrainian and Russian officials discussed a potential cease-fire in negotiations hosted in Turkey by President Recep Tayyip Erdogan. Envoys are expected to brief reporters on the talks, the first held in person in weeks.  Follow updates.  https://t.co/xNbVyRu2tC\n",
      "1508772486099488771 2022-03-29 20:46:06 +0900 <nytimes> Russia’s invasion of Ukraine is reshaping budgets in countries across Europe. Military spending, essentials like agriculture and energy, and humanitarian assistance have all taken priority, as nations prepare for threats thought to have been long buried.  https://t.co/XkjNT5o4ma\n",
      "1508768951265894406 2022-03-29 20:32:04 +0900 <nytimes> Federal prosecutors and congressional investigators are documenting how a tweet by President Donald Trump before the Jan 6. Capitol riot — which ended with, “Be there, will be wild!” — served as a powerful catalyst, particularly for far-right militants.  https://t.co/NvjylaOypb\n",
      "1508765179965759496 2022-03-29 20:17:05 +0900 <nytimes> Senator Joe Manchin has helped a West Virginia power plant that is the sole customer of his private coal business, including by blocking ambitious climate action.  How entwined is he with the coal industry? Listen to today’s episode of The Daily.  https://t.co/ZJDoIJgwMQ\n",
      "1508760915277230084 2022-03-29 20:00:08 +0900 <nytimes> News Analysis: Russia’s brutal attacks on Grozny nearly 30 years ago were “the first time we saw Vladimir Putin develop his game plan to reassert Russian dominion,” Carlotta Gall writes. “There was much in the experience that echoes in Ukraine today.”  https://t.co/deMsLD4iEv\n",
      "1508753605465190400 2022-03-29 19:31:05 +0900 <nytimes> Amid a devastating economic crisis in Afghanistan that has left millions hungry, many are going to drastic lengths to survive.  Some are turning to mining, which has become more deadly since the Taliban seized power and previous safety measures vanished.  https://t.co/4fSnYaNbMB  https://t.co/kkVdqBIn5a\n",
      "1508745839442894848 2022-03-29 19:00:13 +0900 <nytimes> President Biden leaned toward the political center with a budget that addressed the main attack lines that Republicans are using against him in the run-up to the midterm congressional elections.  https://t.co/E9uS4TzD2g\n",
      "1508737990767558660 2022-03-29 18:29:02 +0900 <nytimes> Britain’s libel laws, despite reform efforts in the past decade, have remained accommodating for Russian oligarchs. For a group of libel lawyers, protecting the reputation of Russia’s wealthy by suing, or threatening to sue, the media is a lucrative niche.  https://t.co/NKDQmzVlgV\n",
      "1508734721039159303 2022-03-29 18:16:03 +0900 <nytimes> The Solomon Islands has drafted a security agreement with China, the island nation’s leader confirmed after it was leaked. In a fiery speech, he criticized as “insulting” concerns from Australia and New Zealand that the pact could destabilize the region.  https://t.co/zvoKjYzQgl\n",
      "1508730752804044802 2022-03-29 18:00:16 +0900 <nytimes> Here's a look at some of the highlights worth watching from late-night TV.  https://t.co/FKi4LuqYog\n",
      "1508729274018283523 2022-03-29 17:54:24 +0900 <nytimes> Breaking News: The London police levied 20 fines on people accused of breaking Covid lockdown rules at 10 Downing Street but did not specify who was penalized. The fines revive a politically dangerous scandal for Prime Minister Boris Johnson.  https://t.co/ejcnTQAlCk\n",
      "1508715633151725569 2022-03-29 17:00:12 +0900 <nytimes> Here's where you can stream this year's Oscar winners — including \"CODA,\" \"Dune\" and \"The Power of the Dog.\"  https://t.co/qc2c5sr7Te\n",
      "1508707789832609792 2022-03-29 16:29:02 +0900 <nytimes> Jada Pinkett Smith ha sido franca sobre su alopecia. Esto es lo que hay que saber sobre la condición que le ocasiona pérdida del cabello.  https://t.co/i7p2UJVHOQ\n",
      "1508700525679816707 2022-03-29 16:00:10 +0900 <nytimes> Ukraine’s telephone and internet company, Ukrtelecom, suffered a cyberattack, the country's State Special Communications Service reported. The agency said Russian forces were responsible.  https://t.co/1WRcJduBAV\n",
      "1508692952071258112 2022-03-29 15:30:04 +0900 <nytimes> Will Smith se disculpó con Chris Rock el lunes por abofetearlo en la entrega de los Oscar del domingo. \"Me pasé de la raya y me equivoqué,\" escribió en Instagram la noche del lunes. \"Me avergüenzo y mis acciones no reflejan el hombre que quiero ser.\"  https://t.co/m7xCwiWTsq\n",
      "1508685415720620037 2022-03-29 15:00:07 +0900 <nytimes> Season 2 of \"Bridgerton\" follows the Sharma family's move between England and India during British colonial rule. The show challenges \"a long-held presumption that those circulating in social circles in Britain were historically white,\" one expert said.  https://t.co/MtdqhOBfog\n",
      "1508670308244684801 2022-03-29 14:00:05 +0900 <nytimes> Rumble, backed by Donald Trump, Peter Thiel and other prominent conservatives, wants to help build a “new internet” independent from Silicon Valley’s titans. The platform already has a larger reach than other top destinations for conservative content.  https://t.co/ibRYM7XOZ1\n",
      "1508665262933004290 2022-03-29 13:40:02 +0900 <nytimes> The NFL announced plans at its annual meeting this week to increase diverse hiring practices after the former Miami Dolphins head coach Brian Flores in February accused the league and its teams of discriminating against him and other Black coaches.  https://t.co/25IlL0bxoH\n",
      "1508655245970362368 2022-03-29 13:00:14 +0900 <nytimes> Fifty years after he founded the company, Frederick Smith announced on Monday that he would be stepping down as FedEx’s chief executive in June. Raj Subramaniam, the current president and chief operating officer, will succeed him.  https://t.co/k4B3w7Jij3\n",
      "1508650160095649793 2022-03-29 12:40:02 +0900 <nytimes> The Supreme Court agreed on Monday to hear a challenge to a California law that seeks to address cruelty to animals by requiring pork sold in the state to come from breeding pigs housed in spaces that allow them to move around freely.   https://t.co/YJgpOstfrD\n",
      "1508647677562601477 2022-03-29 12:30:10 +0900 <nytimes> Louisville beat Michigan in the NCAA women's tournament to clinch the last spot in the Final Four, joining South Carolina, Stanford and UConn.  https://t.co/p5YMScVrk7\n",
      "1508642616203751426 2022-03-29 12:10:03 +0900 <nytimes> Uber is said to be close to completing an agreement with a San Francisco partner to allow Uber passengers in the city to call a taxi through the Uber app, in a deal similar to the one recently announced in New York City.  https://t.co/Cka7Yfx0uA\n",
      "1508640123033948168 2022-03-29 12:00:09 +0900 <nytimes> The Dutch brewer Heineken and its Danish rival Carlsberg said on Monday that they were getting out of Russia, moves that highlighted the pressure on multinational firms to go beyond pausing operations in the country.  https://t.co/KgNEDZ5nrd\n",
      "1508635068830523392 2022-03-29 11:40:04 +0900 <nytimes> Burmese pythons are devouring wildlife in Florida, but one hungry and brave bobcat turned a nest full of python eggs into a buffet.  https://t.co/H5rpB6zMmG\n",
      "1508630048223510532 2022-03-29 11:20:07 +0900 <nytimes> Students applying to MIT in 2022 will have to submit SAT or ACT exam scores, the university announced on Monday, nearly two years after suspending the requirement because the pandemic had disrupted testing for many applicants.  https://t.co/zVwdj93m3f\n",
      "1508625005449519107 2022-03-29 11:00:04 +0900 <nytimes> Fewer than 800 coronavirus deaths are being reported each day in the U.S., the lowest daily average since before the Omicron variant took hold late last fall. The last time the rate was this low was in mid-August, according to a New York Times database.  https://t.co/RZcTvFwKnZ\n",
      "1508623163533447173 2022-03-29 10:52:45 +0900 <nytimes> UConn advanced in the NCAA women’s tournament to its 14th straight Final Four, beating No. 1-seeded North Carolina State in double overtime.  https://t.co/cjec21iYUA\n",
      "1508619972100173829 2022-03-29 10:40:04 +0900 <nytimes> Ukrainians on Monday reported that they had pushed back invading Russian forces in fierce fighting around Kyiv and in northeastern Ukraine. Another round of talks between the two sides is set to begin in Istanbul on Tuesday.  https://t.co/XdU75L3rSD\n",
      "1508614949161119750 2022-03-29 10:20:07 +0900 <nytimes> White House budgets are always largely symbolic documents. But without details about many of President Biden’s top priorities, the budget this year is unusually unhelpful in even understanding the administration’s budgetary goals.  https://t.co/RtXmMnlXQp\n",
      "1508609914771496962 2022-03-29 10:00:06 +0900 <nytimes> President Biden stood by his remarks that Vladimir Putin “cannot remain in power,” but said he was expressing outrage, not a policy change.  https://t.co/H99nO2lts6  https://t.co/uHqA8Y2PlN\n",
      "1508604872752603141 2022-03-29 09:40:04 +0900 <nytimes> Black political leaders support Gov. Kathy Hochul of New York, but there are signs of a lack of fervor and lingering support for Andrew Cuomo among Black voters, a key voting bloc.  https://t.co/jjXPs6Gwsk\n",
      "1508597077210771457 2022-03-29 09:09:06 +0900 <nytimes> Here's where you can stream this year's Oscar winners — including \"CODA,\" \"Dune\" and \"The Power of the Dog.\"  https://t.co/xCW2VVQgeg\n",
      "1508594301953056781 2022-03-29 08:58:04 +0900 <nytimes> Will Smith apologized to Chris Rock on Monday for slapping him during Sunday night’s Oscars telecast.  “I was out of line and I was wrong,” he wrote on Instagram Monday evening. “I am embarrassed and my actions were not indicative of the man I want to be.”  https://t.co/8LnSDWJgLb\n",
      "1508589775481098242 2022-03-29 08:40:05 +0900 <nytimes> As Georgia Republicans rush to pass a second round of voting and election rules, a bipartisan group of election officials is fighting back.  https://t.co/I8scHViGHy\n",
      "1508584748058390528 2022-03-29 08:20:06 +0900 <nytimes> Do the Oscars hold movies in contempt? Whatever you make of the slap, the telecast as a whole was a frustrating night of television that seemed based on a misunderstanding of what makes films great, our critics write.  https://t.co/h0RF4VxvG1\n",
      "1508579745147019272 2022-03-29 08:00:13 +0900 <nytimes> After an eventful Oscars, this year’s Vanity Fair party had something of the air of a celebrity campfire circle.  “In 20 years of coming, this is the most fun I’ve ever had,” Adrien Brody, the Oscar-winning actor, said.  https://t.co/duwbaWVpUI\n",
      "1508575969937874948 2022-03-29 07:45:13 +0900 <nytimes> President Biden’s budget proposal would increase the FDA’s budget by nearly 34% compared with the current fiscal year, with much of the $2.1 billion increase aimed at preparing for another pandemic.  https://t.co/tMavvlcyJZ\n",
      "1508572145764474881 2022-03-29 07:30:02 +0900 <nytimes> Jada Pinkett Smith has been candid about her alopecia. Here’s what to know about the hair loss condition.  https://t.co/olHRf9X2D5\n",
      "1508568410904539146 2022-03-29 07:15:11 +0900 <nytimes> The White House requested $88.3 billion in discretionary funding for the Education Department, a 21% increase from what was enacted in 2021, to bolster investments in high-poverty schools and improve the recruitment and retention of educators.  https://t.co/I3OkPRXoZl\n",
      "1508564663021314052 2022-03-29 07:00:18 +0900 <nytimes> Some true crime fans have taken their fascination with cold cases a step further: They’re funding police searches of DNA databases.  https://t.co/SM92WwcMXl\n",
      "1508560854320566274 2022-03-29 06:45:10 +0900 <nytimes> Discussion of digital assets is mostly absent from the Biden administration’s 2023 budget, despite a recent executive order directing financial regulatory agencies — led by the Treasury Department — to study the promises and perils of cryptocurrencies.  https://t.co/you31nDZLT\n",
      "1508557082395561996 2022-03-29 06:30:10 +0900 <nytimes> In Opinion  \"Sometimes the people who challenge American foreign policy are noble. Sometimes they’re loathsome. Either way, calling them traitors is almost always wrong,\" writes Peter Beinart, a journalist and commentator, in a guest essay.  https://t.co/A6PrdtA0M1\n",
      "1508553275477565447 2022-03-29 06:15:03 +0900 <nytimes> Women and people of color are more likely to have their symptoms dismissed by medical providers, studies show. Some patients are speaking out about their experiences, using the term \"medical gaslighting.\"  https://t.co/7THEuDYLl6\n",
      "1508549562314670086 2022-03-29 06:00:17 +0900 <nytimes> President Biden’s budget proposal looks to beef up the Treasury Department’s ability to enforce sanctions and repel cyberattacks as tensions continue to rise between the U.S. and Russia following its invasion of Ukraine.  https://t.co/UBmgtuHXAn\n",
      "1508545751810551816 2022-03-29 05:45:09 +0900 <nytimes> Ukraine’s army has pushed Russian forces from Irpin, one of the largest and most contested towns in the battle for the suburbs surrounding Kyiv, the mayor said Monday, in what would be a significant victory for Ukraine if its soldiers retain control.  https://t.co/B6A6tJ8AQ3\n",
      "1508542027075620874 2022-03-29 05:30:21 +0900 <nytimes> A Russian missile strike on Sunday in Ukraine near the Polish border raised concerns about whether Russia might attack NATO territory. Historically, invading powers have been hesitant to target countries that provide adversaries with lethal support.  https://t.co/YgxmN3tRIP\n",
      "1508540709690818565 2022-03-29 05:25:07 +0900 <nytimes> At least 50 vehicles were involved in a fiery pileup on a Pennsylvania interstate on Monday morning, including several tractor-trailers, after a blinding snow squall passed about 50 miles northeast of Harrisburg, the authorities said.  https://t.co/JT80m5iFbu\n",
      "1508539456239906826 2022-03-29 05:20:08 +0900 <nytimes> A potential conflict is brewing between union dockworkers and their employers at some of the most critical ports on earth, threatening to make floating traffic jams worse, aggravate shortages and send already high prices soaring.  https://t.co/dq7vq0bfMF\n",
      "1508536924394467341 2022-03-29 05:10:04 +0900 <nytimes> Disney condemned the anti-LGBTQ bill Florida Gov. Ron DeSantis signed into law on Monday, saying in a statement that its “goal as a company is for this law to be repealed by the legislature or struck down by the courts.”  https://t.co/jnD2xyBy5r\n",
      "1508534456633724932 2022-03-29 05:00:16 +0900 <nytimes> The Supreme Court agreed on Monday to decide whether Andy Warhol violated the copyright law by drawing on a photograph for a series of images of the musician Prince. The case will test the scope of the fair use defense to copyright infringement.  https://t.co/5GytaSPX7H\n",
      "1508534316153856009 2022-03-29 04:59:42 +0900 <nytimes> Breaking News: The Academy Awards condemned Will Smith for slapping Chris Rock during the Oscars, and said it was starting a formal review.  https://t.co/6aScKYoGan\n",
      "1508532646858694669 2022-03-29 04:53:04 +0900 <nytimes> Breaking News: President Biden stood by his comment that Vladimir Putin “cannot remain in power,” but said he was expressing moral outrage, not a policy change.  https://t.co/bZbBh1HV0n\n",
      "1508526902759329807 2022-03-29 04:30:15 +0900 <nytimes> Constant elevator breakdowns in a luxury 59-story New York City tower have turned life upside down and even trapped residents with mobility issues inside their apartments.  https://t.co/pg6vSl4L78  https://t.co/ztgPdcfcUo\n",
      "1508523080083255299 2022-03-29 04:15:03 +0900 <nytimes> The Jan. 6 committee is likely to seek an interview with Ginni Thomas, the wife of Justice Clarence Thomas, after the public disclosure of text messages documenting her support for President Donald Trump’s efforts to overturn the election.  https://t.co/7UWuuqWxEs\n",
      "1508519311333380101 2022-03-29 04:00:05 +0900 <nytimes> Gov. Ron DeSantis of Florida signed legislation on Monday that prohibits classroom instruction and discussion about sexual orientation and gender identity in some elementary school grades, a law that opponents have called \"Don’t Say Gay.\"  https://t.co/z5tyqQy3JM\n",
      "1508515521465094146 2022-03-29 03:45:01 +0900 <nytimes> President Biden glossed over much of his own domestic legislative agenda when he laid out his budget priorities on Monday, relegating his Build Back Better plan to a single line and leaving out a price tag for its major components.  https://t.co/y6M5oSE7Mo\n",
      "1508511773091053578 2022-03-29 03:30:08 +0900 <nytimes> Ukrainian families are taking huge risks to try to flee Mariupol, traveling through Russian checkpoints — and, in some cases, land mines — to try to reach safety. Watch the full video:  https://t.co/QBBgubKC3f  https://t.co/3MG2LNl8yp\n",
      "1508509264834437122 2022-03-29 03:20:10 +0900 <nytimes> More people tuned in to the Academy Awards on Sunday night than last year, which was the least-watched Oscars broadcast ever. But viewership remained low amid disruptions to television- and movie-watching habits.  https://t.co/kwldmlfQOC\n",
      "1508507987702386691 2022-03-29 03:15:05 +0900 <nytimes> The New York Times Visual Investigations team analyzed dozens of battlefield radio transmissions between Russian forces during an invasion of the Ukrainian town of Makariv. They reveal an army struggling with logistical problems and communication failures.  https://t.co/Nc56Kfs3Bg  https://t.co/179uKkT3Mt\n",
      "1508504254633451524 2022-03-29 03:00:15 +0900 <nytimes> Constant elevator breakdowns in a luxury 59-story New York City tower have turned life upside down and even trapped residents with mobility issues inside their apartments.  https://t.co/R6KMpDr5w1\n",
      "1508500471526436867 2022-03-29 02:45:13 +0900 <nytimes> The White House unveiled on Monday a significant proposed shift in the way the Indian Health Service was funded as part of its 2023 budget, proposing the health care agency move from discretionary to mandatory funding.  https://t.co/mtTCkXOkRM\n",
      "1508496685130997772 2022-03-29 02:30:10 +0900 <nytimes> The Pentagon is sending six Navy attack planes and 240 troops to Germany, the latest Biden administration effort to warn President Vladimir Putin of Russia of the consequences he would face should he strike a NATO country.  https://t.co/ddeJGgjw0C\n",
      "1508494160298491909 2022-03-29 02:20:08 +0900 <nytimes> President Biden’s budget includes billions in funding that would aim to rebuild roads and bridges across the country. It also calls for increases to modernize the nation's ports and public transit systems and improve efficiency at airports.  https://t.co/shIJ7tBt2C\n",
      "1508491628725555207 2022-03-29 02:10:05 +0900 <nytimes> President Biden on Monday proposed raising taxes on the wealthiest Americans and corporations, outlining several initiatives in his 2023 budget aimed at closing loopholes that allow the rich to lower their tax bills.  https://t.co/5MKJuHGx6Z\n",
      "1508489170280497163 2022-03-29 02:00:19 +0900 <nytimes> Una generación de jóvenes en TikTok tiene un mensaje para quienes piensan que es demasiado tarde para tomar acción climática: siéntese viejo catastrofista.  https://t.co/C1MADIJpJN\n",
      "1508486587360886788 2022-03-29 01:50:03 +0900 <nytimes> With Democrats facing the prospect of a disappointing midterm elections, President Biden's budget tacks toward what he called a \"bipartisan unity agenda.\" It bolsters defense and law enforcement spending and tackles inflation and deficit reduction.  https://t.co/tokpNdr7Lk\n",
      "1508484092999962635 2022-03-29 01:40:08 +0900 <nytimes> President Biden on Monday prioritized fighting inflation in his budget proposal. But there isn't much the White House can do quickly to slow price hikes, which have been running at the fastest pace in 40 years, since that is the Federal Reserve's job.  https://t.co/S5s3n6RUfl\n",
      "1508482879772413952 2022-03-29 01:35:19 +0900 <nytimes> Breaking News: Donald Trump most likely committed felonies in trying to overturn the 2020 election, a judge wrote in a civil case related to Jan. 6 documents: \"The illegality of the plan was obvious.\"  https://t.co/zDCwIqyfpB\n",
      "1508481575964585988 2022-03-29 01:30:08 +0900 <nytimes> Heineken is pulling out of Russia, the Dutch brewer said Monday, a move that highlights the pressure multinational firms are facing to go beyond pausing operations in the country. It follows the actions of its rival Carlsberg.  https://t.co/nzSSUfNZre\n",
      "1508479042994978826 2022-03-29 01:20:04 +0900 <nytimes> The Oscars moment that dominated the night has divided Hollywood.  https://t.co/VG0aFZkvSv\n",
      "1508476529214435334 2022-03-29 01:10:05 +0900 <nytimes> New York State officials have reached a deal to use $850 million in public funds to help the Buffalo Bills build a new $1.4 billion stadium adjacent to its current home. It would be largest taxpayer contribution ever for a pro football facility.  https://t.co/9lgbrzKqod\n",
      "1508474010232926215 2022-03-29 01:00:04 +0900 <nytimes> Fighting raged across Ukraine on Monday as the war entered its fifth week, with Ukrainian forces appearing to make gains in the northeast. Russia continued its assault against the city of Mariupol, which was desperately trying to fend off a takeover.  https://t.co/OUGeXgj47d\n",
      "1508471490571907073 2022-03-29 00:50:04 +0900 <nytimes> Back in December, Will Smith talked to @NYTMag about playing Richard Williams, growing as an actor and standing up for family.  https://t.co/SuY3D7UltS\n",
      "1508470235774726144 2022-03-29 00:45:04 +0900 <nytimes> As he struggles to advance his climate goals, President Biden's budget includes $11.8 billion for the Environmental Protection Agency to address issues like climate change and environmental justice, a 29% increase from the 2021 fiscal year.  https://t.co/zwSu88Xoe2\n",
      "1508466492681166850 2022-03-29 00:30:12 +0900 <nytimes> Milestone wins, a maskless red carpet and a slap seen around the world.  Here are the best and worst moments from the Oscars on Sunday.  https://t.co/tAKbwWnl4H\n",
      "1508464013608431617 2022-03-29 00:20:21 +0900 <nytimes> Breaking News: President Biden proposed a $5.8 trillion budget that increases military and police spending and raises taxes on the rich. While it's simply a request to Congress, the budget is a snapshot of the priorities priorities. Follow live updates.  https://t.co/IbHM81Ooun\n",
      "1508462711616778245 2022-03-29 00:15:10 +0900 <nytimes> The Governors Ball is the first stop on the final night of award season, where on Sunday the Oscar nominees could finally breathe — and gossip about the slap seen around the world.  https://t.co/MZyoawWKaf\n",
      "1508458940085985283 2022-03-29 00:00:11 +0900 <nytimes> The worst of Omicron may be over for South Korea, with authorities declaring that the current wave has passed its peak. The number of cases is still soaring, but the death rate hasn't increased, mainly because of the success of the vaccination program.  https://t.co/UNmraghtaF\n",
      "1508451392066830350 2022-03-28 23:30:12 +0900 <nytimes> In Opinion  “The Republicans badgering Judge Jackson aren’t asking a single question about the explosive revelations regarding Ginni Thomas,” Maureen Dowd writes. “Did the justice know what his wife was doing? Was he OK with it?”  https://t.co/OBQBp6BzFv\n",
      "1508447583970152451 2022-03-28 23:15:04 +0900 <nytimes> The success of “Drive My Car,” which won the #Oscar for best international feature, marked the slow-burn return of Japanese filmmakers to international acclaim. But its portrayal of Japan has led to a cooler reception at home.  https://t.co/j1gVxtgsWA\n",
      "1508443834740584455 2022-03-28 23:00:10 +0900 <nytimes> Pope Francis held his first Vatican meeting with Indigenous groups from Canada who are seeking his apology over the church’s involvement in schools that abused Indigenous children for over 100 years.  https://t.co/E5YTVlT4Uw\n",
      "1508440054850592777 2022-03-28 22:45:09 +0900 <nytimes> In Opinion  “How much more transmissible SARS-CoV-2 can become is an open question, but there are limits,” write Sarah Cobey, Jesse Bloom and Tyler Starr, who study virus evolution, in a guest essay. “Even evolution is constrained.”  https://t.co/qOmT2OVae1\n",
      "1508436322238832648 2022-03-28 22:30:19 +0900 <nytimes> “I’m fine with opinion: conservative opinion, liberal opinion,” Chris Wallace said about his decision to leave Fox News. “But when people start to question the truth — Who won the 2020 election? Was Jan. 6 an insurrection? — I found that unsustainable.”  https://t.co/660UaHi6nu\n",
      "1508432489068609547 2022-03-28 22:15:05 +0900 <nytimes> Ukrainian troops regained control of the eastern town of Trostianets, a local official said, potentially marking a breakthrough for Ukraine's counteroffensive. The country's military also retook several other towns, including two near Kharkiv, it said.  https://t.co/0TFBPFGnOM\n",
      "1508429223773585409 2022-03-28 22:02:06 +0900 <nytimes> The mayor of the Ukrainian city of Mariupol accused the Russian military of committing genocide in the besieged city.  “The task was to wipe the city off the face of the earth along with its inhabitants,” he said. “This is genocide.”  https://t.co/JJdgHLY2FW\n",
      "1508426198652788740 2022-03-28 21:50:05 +0900 <nytimes> The summit of top diplomats from Israel and Arab states on Monday will “break down barriers” not only among the leaders of nations, but also among their societies and citizens, U.S. Secretary of State Antony Blinken said after joining the summit.  https://t.co/O74tJM6snB  https://t.co/JU6FetOpVS\n",
      "1508424688153903110 2022-03-28 21:44:05 +0900 <nytimes> The #Oscars, trying to prove it could be lively and culturally relevant, had a freewheeling, irreverent tone from the start. By the ceremony’s end, it was certainly a night for the Hollywood ages.  https://t.co/r7uAa8lxRF\n",
      "1508420906250649609 2022-03-28 21:29:03 +0900 <nytimes> The #Oscars on Sunday will likely be remembered for one moment: Will Smith slapping Chris Rock. But the night also featured milestone wins and surprise performances.  Here are some of the ceremony's highs and lows, according to our journalists.  https://t.co/o6psHUJEOn\n",
      "1508416124463034372 2022-03-28 21:10:03 +0900 <nytimes> Troy Kotsur became the first deaf man in academy history to win an Oscar for acting. Voters honored his heartstring-tugging supporting performance in “CODA” as a fisherman struggling to relate to his hearing daughter.  https://t.co/TaH41VWvJH  https://t.co/fwWcIhTRJ3\n",
      "1508414880579211277 2022-03-28 21:05:07 +0900 <nytimes> A two-day nationwide strike in India, involving both public and private sector workers, has disrupted transport and other services across the country. Workers are protesting the government’s economic policies, including a privatization plan.  https://t.co/pcpmhvEGGL\n",
      "1508406113221459974 2022-03-28 20:30:16 +0900 <nytimes> After President Volodymyr Zelensky’s call for protests against Russia’s invasion of Ukraine, crowds gathered across Europe and the U.S. on Sunday.  Oksana Markarova, Ukraine’s ambassador to the U.S., spoke in Washington outside the Lincoln Memorial.  https://t.co/deLeQMMKYS  https://t.co/qozsIhcFPb\n",
      "1508403555178328066 2022-03-28 20:20:06 +0900 <nytimes> Iryna Baramidze is one of the about four million Ukrainians who have fled the country since Russia’s invasion began.  The Daily followed Iryna over three weeks as she searched for refuge. Listen to today’s episode.  https://t.co/mYaozxaJDX\n",
      "1508398513251659781 2022-03-28 20:00:04 +0900 <nytimes> President Biden’s 2023 budget will call for additional military spending, funding for child care and climate resilience, and new taxes on the wealthiest Americans.  The budget, which is a nonbinding request to Congress, will be released on Monday.  https://t.co/PkMRobzMdo\n",
      "1508390978738180100 2022-03-28 19:30:08 +0900 <nytimes> President Volodymyr Zelensky of Ukraine spoke with prominent members of the Russian media in a remarkable interview. The Kremlin told Russian media outlets “of the necessity to refrain from publishing” it.  Journalists outside Russia ran it anyway.  https://t.co/f1neEtnP8M\n",
      "1508383465451966472 2022-03-28 19:00:17 +0900 <nytimes> Will Smith hit Chris Rock at the #Oscars after the comedian joked about Smith’s wife, Jada Pinkett Smith, seemingly referencing her cropped hair.  Pinkett Smith has spoken openly about her alopecia diagnosis and her decision to cut her hair short.  https://t.co/guo1WNaK6g\n",
      "1508379382859149318 2022-03-28 18:44:03 +0900 <nytimes> As Israel and four Arab states meet at a summit, the sentiment uniting them is that the U.S., their most powerful ally, is failing to take their worries seriously.  The sense of U.S. neglect has grown more acute amid the fallout from the war in Ukraine.  https://t.co/kWC9mnpUGX\n",
      "1508375354594848771 2022-03-28 18:28:03 +0900 <nytimes> Nokia said this month that it would stop its sales in Russia and denounced the invasion of Ukraine. But for more than five years, the company has played a key role in enabling Russia’s cyberspying, documents obtained by The New York Times show.  https://t.co/PfhgDLRdaN\n",
      "1508368318650105868 2022-03-28 18:00:05 +0900 <nytimes> After Will Smith hit Chris Rock at the #Oscars, the LAPD said it was aware of an incident involving “one individual slapping another.” The person involved had “declined to file a police report,” the police said.  https://t.co/ytJ5vD2x2N\n",
      "1508360777819955203 2022-03-28 17:30:08 +0900 <nytimes> Will Smith hit Chris Rock in the face at the #Oscars after the comedian made a joke about his wife. He then went on to win best actor for \"King Richard.\"  Rock's joke seemed to be about Jada Pinkett Smith's hair — Pinkett Smith has said she has alopecia.  https://t.co/9zwEsFULGx  https://t.co/hOFAyoEszd\n",
      "1508345905795284995 2022-03-28 16:31:02 +0900 <nytimes> Israel is hosting four Arab foreign ministers and the U.S. secretary of state, Antony Blinken, in a groundbreaking summit.  Prime Minister Naftali Bennett of Israel tested positive for Covid and will work from home, his office said. Follow live updates.  https://t.co/jzDNvFjMJx\n",
      "1508338153094008836 2022-03-28 16:00:13 +0900 <nytimes> Will Smith slapped Chris Rock in the face. Then he won an Oscar. Then “CODA” won best picture, making history.  Here are some of the key moments from last night's #Oscars.  https://t.co/2ELerZIfMv\n",
      "1508334071235162112 2022-03-28 15:44:00 +0900 <nytimes> Ukrainian officials said that they are worried that Russia may try to split the country between regions it controls and those it does not, as Germany and Korea were after World War II.  Follow live updates.  https://t.co/kDp7mwuv60\n",
      "1508323025162317826 2022-03-28 15:00:07 +0900 <nytimes> South Korea’s president-elect, Yoon Suk-yeol, announced plans to move both the presidential office and the Defense Ministry.    The ministry was caught off guard by the decision, which comes at a time when North Korea is rapidly escalating tensions.   https://t.co/NpThkRjsEd\n",
      "1508307950099738636 2022-03-28 14:00:12 +0900 <nytimes> The unusually brazen attack in Hadera, a city on the Mediterranean coast, came as four Arab foreign ministers arrived for an unprecedented summit that shows Israel’s growing role in the Middle East.  https://t.co/yuUcemzoSv\n",
      "1508296591064674307 2022-03-28 13:15:04 +0900 <nytimes> \"The theme of the 2022 Oscars was 'Movie Lovers Unite.' For Chris Rock and Will Smith, the reunion was more dramatic — and painful — than the academy could have planned or wanted,\" our TV critic @poniewozik writes.  https://t.co/FgPZHWaMHz\n",
      "1508293430933614593 2022-03-28 13:02:31 +0900 <nytimes> In his #Oscars acceptance speech, Will Smith said Denzel Washington had told him, \"At your highest moment, be careful. That’s when the devil comes for you.\"   Smith won best actor for \"King Richard\" just minutes after hitting Chris Rock on stage.  https://t.co/LSj5c5UPt2\n",
      "1508292831676411909 2022-03-28 13:00:08 +0900 <nytimes> After months of dreary weather and bare branches, it’s finally cherry blossom season in New York City. Here’s an overview of what kind of cherry blossoms you can find in New York City, when they’ll be in bloom and where you can find them.  https://t.co/tEdQNJzick\n",
      "1508290310534799367 2022-03-28 12:50:07 +0900 <nytimes> “CODA” became the first streaming-service movie to win best picture at the #Oscars.  Here is the complete list of winners:  https://t.co/Qn1R3rwA8l  https://t.co/Q6cYfSJSBD\n",
      "1508287105855807490 2022-03-28 12:37:23 +0900 <nytimes> Breaking News: “CODA” made history on Sunday night, becoming the first film distributed by a streaming service to win best picture.  https://t.co/S4W243kWwq\n",
      "1508285862706036740 2022-03-28 12:32:26 +0900 <nytimes> Breaking News: Jessica Chastain won the #Oscar for best actress for “The Eyes of Tammy Faye.”  https://t.co/z39erZOq3K  https://t.co/2NvNHxO910\n",
      "1508285259707736065 2022-03-28 12:30:03 +0900 <nytimes> “For God’s sake, this man cannot remain in power,” President Biden said of President Vladimir Putin of Russia, a comment that White House officials said was not included in his prepared speech.  Top administration officials walked back Biden’s remarks.  https://t.co/whmrLsyGRj\n",
      "1508283195258961921 2022-03-28 12:21:50 +0900 <nytimes> Breaking News: Will Smith won best actor at the #Oscars for \"King Richard.\"  In his tearful acceptance speech, he apologized to the academy and to his fellow nominees after hitting Chris Rock on stage. \"Love will make you do crazy things,\" he said.  https://t.co/zU3mcDBplr  https://t.co/zbPX9kuL6H\n",
      "1508281511535128582 2022-03-28 12:15:09 +0900 <nytimes> The House committee investigating the Capitol riot issued a report on Peter Navarro and Dan Scavino Jr.’s roles in efforts to overturn Donald Trump’s 2020 election loss. It laid out reasons to charge them with criminal contempt of Congress.  https://t.co/EgEDRwxxwG\n",
      "1508280831521009667 2022-03-28 12:12:27 +0900 <nytimes> Will Smith hit Chris Rock after the comic made a joke about Smith’s wife, Jada Pinkett Smith, in an apparently unscripted moment that stunned viewers and audience members alike.  https://t.co/gyR4KE1yAE  https://t.co/iTK2OBLu2W\n",
      "1508279492703309833 2022-03-28 12:07:08 +0900 <nytimes> Breaking News: Jane Campion clinched the best director Oscar for her psychological western “The Power of the Dog.” It is the first time that #Oscar has gone to women in back-to-back years, after Chloé Zhao won last year for “Nomadland.”  https://t.co/hmTCkYbqPL  https://t.co/gxVOv6oypN\n",
      "1508278310782091265 2022-03-28 12:02:26 +0900 <nytimes> Billie Eilish and her brother Finneas won the #Oscar for best song for “No Time to Die” from the latest Bond movie.   Follow live updates:  https://t.co/bAFyFMW1pA\n",
      "1508277739996000261 2022-03-28 12:00:10 +0900 <nytimes> President Volodymyr Zelensky of Ukraine spoke with prominent members of the Russian media in a remarkable interview. The Kremlin told Russian media outlets “of the necessity to refrain from publishing” it.  Journalists outside Russia ran it anyway.  https://t.co/mA9Ggdsa5K\n",
      "1508272686518132737 2022-03-28 11:40:05 +0900 <nytimes> El Salvador declared a state of emergency as gangs went on a killing spree on Saturday, randomly shooting anyone in sight.  At least 62 people were killed, marking the country's bloodiest day on record since the end of its civil war 30 years ago.  https://t.co/tJtqxqPRrX\n",
      "1508272244425953281 2022-03-28 11:38:20 +0900 <nytimes> \"Chris Rock was presenting the documentary Oscar and made a joke about Jada Pinkett Smith's amazing, tight haircut and it looked like Will Smith walked up and punched him, or tried to, and then berated Rock from his seat,\" our reporter writes.  https://t.co/DhpQmjYp5g\n",
      "1508270528343248896 2022-03-28 11:31:30 +0900 <nytimes> \"For a moment it looked like Will Smith and Chris Rock’s exchange was a comical bit. But even with the sound cut out entirely, Smith’s anger was evident.\"  Our reporters are providing live updates from the #Oscars:  https://t.co/WoMkkAwIeH\n",
      "1508267644247588869 2022-03-28 11:20:03 +0900 <nytimes> \"We Don’t Talk About Bruno\" — from “Encanto,” which won best animated feature film — was performed during the telecast even though it isn’t up for an Oscar. Megan Thee Stallion showed up for a surprise verse partway through the song.  https://t.co/u9GenQHjA8\n",
      "1508266400183373824 2022-03-28 11:15:06 +0900 <nytimes> Some behind the scenes from the #Oscars red carpet.  Watch live on  https://t.co/v7HGkb4EqZ. See what the stars wore in our slideshow:  https://t.co/nRYfQ20y89  https://t.co/z4dCpVjAbw\n",
      "1508262613519679491 2022-03-28 11:00:03 +0900 <nytimes> Mila Kunis, an actress of Ukrainian origin, used her time on the #Oscars telecast to call for support for Ukraine. \"One cannot help but be in awe of those who find strength to keep fighting through unimaginable darkness,\" she said.  https://t.co/0EjyL3G7Hu\n",
      "1508259099896684549 2022-03-28 10:46:06 +0900 <nytimes> “Drive My Car,” Ryusuke Hamaguchi’s critically lauded Japanese drama, won the #Oscar for best international feature, adding a big prize to what has already been an impressive awards season run.  https://t.co/MZWltDC434\n",
      "1508258771679817732 2022-03-28 10:44:47 +0900 <nytimes> Here's the full list of #Oscar winners so far:  https://t.co/wzw6lHdsGv\n",
      "1508256581888225283 2022-03-28 10:36:05 +0900 <nytimes> \"I was so used to failure that I didn’t realize I would surpass even my own expectations,\" Troy Kotsur said in February after becoming the first deaf man to get an acting Oscar nomination for \"CODA.\"   And now he's won.  https://t.co/RYxmwRC2vg\n",
      "1508255099931566084 2022-03-28 10:30:12 +0900 <nytimes> “Encanto,” directed by Jared Bush and Byron Howard, won the Oscar for best animated feature. The movie's music has become a family favorite, as its soundtrack topped the Billboard 200 chart for nine weeks.  https://t.co/Ee50lYAc0Z\n",
      "1508254550830063616 2022-03-28 10:28:01 +0900 <nytimes> Breaking News: Troy Kotsur won the #Oscar for best supporting actor for \"CODA.\" He became the first deaf man to win an acting Oscar.  https://t.co/fpe7qysEha  https://t.co/baEBpLjjE4\n",
      "1508251319269793795 2022-03-28 10:15:11 +0900 <nytimes> After several years without a single host, the #Oscars got going Sunday night with three of them: The actresses Regina Hall, Amy Schumer and Wanda Sykes.  Here’s what they said in the opening monologue.  https://t.co/3jek6657kn\n",
      "1508248984896294925 2022-03-28 10:05:54 +0900 <nytimes> “Encanto” won the #Oscar for best animated feature.  The movie — or at least its music — has become a fan and family favorite in recent months, as its soundtrack topped the Billboard 200 chart for nine weeks.  https://t.co/0pWLgFvqbZ\n",
      "1508247530341126152 2022-03-28 10:00:07 +0900 <nytimes> The Oscars are recognizing 60 years of James Bond movies at an interesting time. The 007 producers haven’t said who they are planning to cast next now that Daniel Craig has left the role. News reports have come up with a host of potential stars.  https://t.co/AFx6221PQD\n",
      "1508245803449602057 2022-03-28 09:53:16 +0900 <nytimes> “Dune” has so far won #Oscars for editing, score, sound, production design, cinematography and visual effects.   Denis Villeneuve and his sound team explained how far they went to achieve its aural experience.  https://t.co/1V8aMhB4OT\n",
      "1508242485339955200 2022-03-28 09:40:04 +0900 <nytimes> His work helped pave the way for the high-performance electronics displays that are so common today in digital cameras, mobile phones, solar panels and televisions.  https://t.co/nsrdprD7gm\n",
      "1508242387411378177 2022-03-28 09:39:41 +0900 <nytimes> Regina Hall, one of the #Oscar hosts, did an extended bit combining being single and having the most eligible bachelors come backstage to do a Covid test with her.  Follow live updates:  https://t.co/ley55QbQYz  https://t.co/6QPuGEaDGG\n",
      "1508241473409626115 2022-03-28 09:36:03 +0900 <nytimes> Ariana DeBose won the #Oscar for best supporting actress for “West Side Story.” It is her first Academy Award. The outcome was expected but historic as the 31-year old becomes only the second Latina to nab an acting Oscar.  https://t.co/Pi16B2n0q1  https://t.co/4tJYliSKFr\n",
      "1508239986918838276 2022-03-28 09:30:09 +0900 <nytimes> Here are some behind-the-scenes red carpet moments at the 94th Academy Awards.  Watch live on  https://t.co/v7HGkb4EqZ. Follow live updates from our reporters:  https://t.co/TxnA3uvMJ1  https://t.co/SynDK0BVya\n",
      "1508238776249765890 2022-03-28 09:25:20 +0900 <nytimes> Breaking News: Ariana DeBose won best supporting actress for her role in Steven Spielberg’s adaptation of “West Side Story.” The 31-year-old actress becomes only the second Latina to nab an acting Oscar.  https://t.co/CUYslNMSjx\n",
      "1508235281354350602 2022-03-28 09:11:27 +0900 <nytimes> Breaking News: The New York Times film “The Queen of Basketball” won best documentary short subject, The Times’s first #Oscar. Watch it here:  https://t.co/fb6VlRELFb\n",
      "1508233679990104072 2022-03-28 09:05:05 +0900 <nytimes> Rachel Zegler made it to the #Oscars after all. Fans on social media protested when she shared that she had not received an invitation to the ceremony despite her starring role in Steven Spielberg’s “West Side Story,” which received seven nominations.  https://t.co/LJ0zk6gdn8\n",
      "[!] No more data! Scraping will stop now.\n",
      "found 0 deleted tweets in this search.\n",
      "1509314539577384962 2022-03-31 08:40:02 +0900 <nytimes> Although U.S. health officials say they are hopeful the Omicron subvariant BA.2 won’t cause another major surge, there are variables that could make a new wave more damaging. Here are seven steps to lower your risk.  https://t.co/lHD4c3ceLb\n",
      "1509309525320519681 2022-03-31 08:20:07 +0900 <nytimes> The U.S. and Europe want to buy less Russian energy. Would that mean more solar and wind? Higher prices? @patcohennyt discusses with @ckrausss, @fbirol of @iea and @dlgoldwyn. DM questions to @nytimesevents.  https://t.co/hTFHc2x8dk\n",
      "1509304504340123654 2022-03-31 08:00:10 +0900 <nytimes> People who grow up in gridlike cities like New York seem to struggle to navigate as easily as those who come from rural areas or intricate cities, researchers reported. The findings one day may lead to better tests for early dementia.  https://t.co/Eqg5idfCdu  https://t.co/sB3nS8drZz\n",
      "1509301852399185922 2022-03-31 07:49:37 +0900 <nytimes> Breaking News: Will Smith refused to leave the Oscars after he slapped Chris Rock, the academy said, adding that it had initiated disciplinary proceedings.  https://t.co/hjgLV16PPb\n",
      "1509299459796221953 2022-03-31 07:40:07 +0900 <nytimes> The punchline to Charo’s career is that, no matter how hard people try to peg her as “a stupid cuchi-cuchi,” as she put it, she is a virtuosic flamenco and classical guitarist with a singular talent. It's time, our critic writes, to take her seriously.  https://t.co/CZZPwqSLzZ  https://t.co/OWr3sN4Yc8\n",
      "1509294421891764229 2022-03-31 07:20:06 +0900 <nytimes> In “Station Eleven,” Emily St. John Mandel explored the aftermath of a pandemic. In “Sea of Tranquility,”  she offers one of her finest novels and one of her most satisfying forays into the arena of speculative fiction yet, Laird Hunt writes.  https://t.co/RcYSX1jRLT\n",
      "1509289407936929799 2022-03-31 07:00:10 +0900 <nytimes> Bruce Willis will step away from his decades-long movie career after being diagnosed with aphasia. Here’s what we know about the disorder, which can make it difficult or impossible to express or comprehend language.  https://t.co/ZSrozHTo9I\n",
      "1509286859599486985 2022-03-31 06:50:03 +0900 <nytimes> K-pop star Luna will be making her Broadway debut this fall as the lead of “KPOP,” a high-energy multimedia show about Korean pop phenomena.  https://t.co/dMM6T8fzVr\n",
      "1509284369034358784 2022-03-31 06:40:09 +0900 <nytimes> Ivermectin failed as a Covid treatment, a large clinical trial found. The drug surged in popularity despite no strong evidence that it worked.  https://t.co/AwfQkXCLkv  https://t.co/i5oMpW0rR4\n",
      "1509281837075603461 2022-03-31 06:30:05 +0900 <nytimes> Russian forces are moving away from Ukraine’s capital, Kyiv, and the nearby town of Chernihiv, a senior Ukrainian official said Wednesday, with some relocating to the eastern provinces of Kharkiv and Donetsk.  https://t.co/uQMxXTkahs\n",
      "1509279313421500416 2022-03-31 06:20:04 +0900 <nytimes> After Russia annexed Crimea, Spirit of America sent medical kits to the Ukrainian military and helped U.S. programs fight Russian propaganda. Now, the nonprofit is focused on sending basic, nonlethal military supplies into Ukraine quickly.  https://t.co/dOs2wZxQuS\n",
      "1509276796507803651 2022-03-31 06:10:03 +0900 <nytimes> Intense strikes continued overnight Wednesday on the northern Ukrainian city of Chernihiv, the region’s governor said, hours after Russia vowed to sharply reduce its combat in that area and around the capital, Kyiv.  https://t.co/t5mKkTqcCu  https://t.co/FGskg5gQKz\n",
      "1509275585209589769 2022-03-31 06:05:15 +0900 <nytimes> Breaking News: Ivermectin failed as a Covid treatment, a large clinical trial found. The drug surged in popularity despite no strong evidence that it worked.  https://t.co/mvTqgZ5DR8\n",
      "1509266768954638346 2022-03-31 05:30:13 +0900 <nytimes> While many in the West, including President Biden, view Vladimir Putin as a war criminal, he is popular in nations like Serbia that feel resentment and grievance against the West.  https://t.co/DbCb69PT0E\n",
      "1509264228468805634 2022-03-31 05:20:07 +0900 <nytimes> Dozens of medical workers and patients have been killed in more than 80 attacks since Russia invaded Ukraine, the WHO said at a news conference on Wednesday.  https://t.co/DZjEkZaUvH\n",
      "1509261686003404808 2022-03-31 05:10:01 +0900 <nytimes> Verizon blamed \"bad actors\" on Wednesday for thousands of spam text messages received by its customers. The company said it was working with federal law enforcement to try to identify the source, but said it didn't appear Russian hackers were to blame.  https://t.co/BdwPUUuq24\n",
      "1509256661743153176 2022-03-31 04:50:03 +0900 <nytimes> As Russia pledges to scale back operations in Ukraine’s capital, Kyiv, soldiers from the 112th Brigade of Ukraine’s Territorial Defense Forces are still preparing for the worst. Our cameras went inside their makeshift base.  Watch the full video:  https://t.co/CvV29EZwIQ  https://t.co/bFd8tfVZ0u\n",
      "1509254171270258709 2022-03-31 04:40:09 +0900 <nytimes> Officials from OPEC and Russia are likely to do little more than announce their usual modest monthly production increases when they meet on Thursday, leading to questions about how much oil the group really does have in the tank.  https://t.co/CeMFmweO5T\n",
      "1509251630692290561 2022-03-31 04:30:03 +0900 <nytimes> A Minnesota woman must pay back $120,000 that she raised online in honor of Philando Castile after she was accused of failing to use the money for what she claimed it would support: paying off students’ lunch debt.  https://t.co/cZtMMeT9PL\n",
      "1509247054043881485 2022-03-31 04:11:52 +0900 <nytimes> Breaking News: President Vladimir Putin’s advisers misinformed him about the Russian military’s struggles in Ukraine, according to U.S. intelligence.  https://t.co/P0CO1ykPJC\n",
      "1509244091430846470 2022-03-31 04:00:06 +0900 <nytimes> The House Democrats’ main political action committee is spending nearly $102 million to reserve advertising spots in dozens of media markets, from Bangor, Maine, to San Diego, staking out a broad battlefield for the coming midterm elections.  https://t.co/gedkQRVspu\n",
      "1509241579063726088 2022-03-31 03:50:07 +0900 <nytimes> As Americans shed masks, local and state officials are scaling back public health efforts to address Covid. But some experts question the move, as a more transmissible version of the Omicron variant, known as BA.2, spreads through Europe, Asia and the U.S.  https://t.co/vEIO11oPVS  https://t.co/re5HBsnvvy\n",
      "1509239052930850824 2022-03-31 03:40:05 +0900 <nytimes> Bruce Willis will step away from acting after being diagnosed with aphasia, a disorder that affects a person’s ability to understand or express speech, his ex-wife, Demi Moore, said.  https://t.co/YeGFeWfR3q  https://t.co/BFPEtCFXg7\n",
      "1509237040453459973 2022-03-31 03:32:05 +0900 <nytimes> Breaking News: The U.S. plans to lift a pandemic-era order that has restricted immigration at the nation’s land borders, people familiar with the plan said.  https://t.co/YKjXxHC6Q6\n",
      "1509236561593909259 2022-03-31 03:30:11 +0900 <nytimes> Canada’s former top military commander pleaded guilty to obstruction of justice on Wednesday in connection with a military police investigation into allegations that he engaged in sexual misconduct while leading the country’s military.  https://t.co/Sx9tjF0C3z\n",
      "1509231509319864326 2022-03-31 03:10:06 +0900 <nytimes> In a journey that would fit into a Pixar movie script, a flamingo that fled a Kansas zoo in 2005 has been spotted — in South Texas. No. 492, estimated to be about 20 years old, had faced long odds for survival when it escaped.  https://t.co/zXXwZsUzej\n",
      "1509229027231416329 2022-03-31 03:00:14 +0900 <nytimes> LGBTQ romance novels have been around for decades, but they were almost entirely self-published or put out by small niche presses and often shelved separately from other romances in stores. Now, they are coming from the biggest publishers in the industry.  https://t.co/C5aiGjBynO  https://t.co/eTu36xXaaB\n",
      "1509227478878933000 2022-03-31 02:54:05 +0900 <nytimes> Breaking News: Bruce Willis will step away from acting after being diagnosed with aphasia, a disorder that affects a person’s ability to understand or express speech, his ex-wife, Demi Moore, said.  https://t.co/G48ibMU5ZV\n",
      "1509226472057319425 2022-03-31 02:50:05 +0900 <nytimes> A line of strong thunderstorms damaged buildings and disrupted power service across northwestern Arkansas on Wednesday and was expected to continue to race across the South, bringing gusty winds and possible tornadoes.  https://t.co/lAmsD4mKn9\n",
      "1509223973170597897 2022-03-31 02:40:09 +0900 <nytimes> President Biden is using a speech at the White House to step up the pressure on Congress to approve billions of dollars in emergency coronavirus relief aid. He will receive a second booster shot against Covid after his remarks.   Watch live:  https://t.co/cTpsKngT1Z\n",
      "1509221489958084611 2022-03-31 02:30:17 +0900 <nytimes> Many companies are replacing the plastic rings used in six-packs of beer and soda with alternative materials in a bid to cut plastic waste. While the change can be a step toward sustainability, some experts say more plastic needs to be recycled and remade.  https://t.co/ceQFrwU4em  https://t.co/9IWxG83xfW\n",
      "1509218941276672011 2022-03-31 02:20:10 +0900 <nytimes> Civilians in Ukraine are trying to protect the country’s memorials and monuments. On Wednesday, volunteers worked to shield a statue of Princess Olga of Kyiv, a regent of Kievan Rus, a medieval empire founded by Vikings in the ninth century.  https://t.co/SSnme6ErYg  https://t.co/4kIikZhjbL\n",
      "1509216515412967425 2022-03-31 02:10:31 +0900 <nytimes> President Biden will receive a Pfizer shot as his second booster on Wednesday after making remarks, scheduled for 1:30 p.m. Eastern, about the status of the fight against the coronavirus, in which he is expected to highlight a new website.  https://t.co/j5txg9bfeQ\n",
      "1509213924457123845 2022-03-31 02:00:14 +0900 <nytimes> Russia’s lead negotiator said on Wednesday that peace talks with Ukraine appeared to be on the verge of a breakthrough, even as other officials voiced skepticism — mixed messages that underscored the lack of clarity over Putin’s goals in the invasion.  https://t.co/9nNEJ5pLY9\n",
      "1509211625961795584 2022-03-31 01:51:06 +0900 <nytimes> President Volodymyr Zelensky said on Twitter that he and President Biden spoke for an hour on Wednesday. He said they “talked about specific defensive support, a new package of enhanced sanctions, macro-financial and humanitarian aid.”  Live updates:  https://t.co/trjQLCUp5S\n",
      "1509210175084929028 2022-03-31 01:45:20 +0900 <nytimes> Many states and cities are closing coronavirus testing and vaccination sites. But experts worry that a new uptick in cases may loom.  https://t.co/j8qvCei8o9\n",
      "1509206334952116235 2022-03-31 01:30:04 +0900 <nytimes> Female patients and people of color are more likely to have their symptoms dismissed by medical providers, studies show. New York Times readers shared their experiences with what many refer to as \"medical gaslighting.\" Read more:  https://t.co/TwJPrC0k0s  https://t.co/7o2g0yHgRQ\n",
      "1509202560376320005 2022-03-31 01:15:04 +0900 <nytimes> Six people were killed and two dozen others were injured in an 80-vehicle pileup on an Interstate highway in Pennsylvania this week that began when a snow squall blinded drivers, the authorities said on Wednesday.  https://t.co/Kb9PYCnGIF\n",
      "1509198830192971791 2022-03-31 01:00:15 +0900 <nytimes> Ukrainians fleeing war remain vulnerable when arriving in Germany, the authorities in Berlin have warned, saying that thieves have been targeting the refugees — mostly women and children — at Berlin’s main train station and bus depot.  https://t.co/MnsXgvqbNS\n",
      "1509195025011380228 2022-03-31 00:45:08 +0900 <nytimes> After two years of the pandemic upending life, some employers are trying to restore an old status quo. Some worry that people aren’t prepared for the emotional transition awaiting a work force already on edge.  https://t.co/dBs7tuDsbS\n",
      "1509191281599291395 2022-03-31 00:30:15 +0900 <nytimes> \"The white shows got to just be white, but a lot of the shows with people of color were about the color of the people and not about stories of the people.\"   Quinta Brunson talks to @NYTmag about her breakout sitcom, \"Abbott Elementary.\"  https://t.co/GXy7IwJ8mx\n",
      "1509187471065632779 2022-03-31 00:15:07 +0900 <nytimes> New satellite imagery shows hundreds of people lining up outside a supermarket in the southern Ukrainian city of Mariupol on Tuesday. The city has been under siege for weeks and is suffering from severe food and water shortages.  https://t.co/uGEOuuy7E1  https://t.co/Sj3qoyuaNJ\n",
      "1509183688109613063 2022-03-31 00:00:05 +0900 <nytimes> The latest in Ukraine: Continuing attacks signaled that Russia was in no hurry to end its war despite claims that it would de-escalate after peace talks on Tuesday. At least two million children have now fled.  Live updates:  https://t.co/cUmYnOcNeU  https://t.co/1ZaSdP8Oyn\n",
      "1509179927760883721 2022-03-30 23:45:08 +0900 <nytimes> Mark Vande Hei, a NASA astronaut, returned to Earth with two Russian counterparts, landing in Kazakhstan. The men return from the International Space Station, where collaboration between the U.S. and Russia continues despite the invasion of Ukraine.  https://t.co/hSoPgsT0Tw\n",
      "1509175635641606146 2022-03-30 23:28:05 +0900 <nytimes> The Saudi-led coalition fighting Houthi rebels in Yemen began a unilateral cease-fire, saying it hoped to pave the way toward ending a seven-year war that has caused a humanitarian crisis. But further progress toward an end to the conflict is uncertain.  https://t.co/MpoGEF8dPO\n",
      "1509171615283793924 2022-03-30 23:12:06 +0900 <nytimes> New satellite images show hundreds of people lining up outside a supermarket in the Ukrainian city of Mariupol, which has been under siege by Russian forces for weeks and is suffering from severe food and water shortages.  https://t.co/JMzNkNhim8\n",
      "1509170099034501128 2022-03-30 23:06:05 +0900 <nytimes> Many companies are replacing the plastic rings used in six-packs of beer and soda with alternative materials in a bid to cut plastic waste. While the change can be a step toward sustainability, some experts say more plastic needs to be recycled and remade.  https://t.co/FCuwtkIecj\n",
      "1509168706152243205 2022-03-30 23:00:33 +0900 <nytimes> Debido a lagunas legales y a un mosaico de investigaciones convincentes, empresas como Nushama en Nueva York están escribiendo sobre la marcha las reglas de los tratamientos de bienestar con psicodélicos.  https://t.co/ncYfNhzkVG\n",
      "1509164813578125313 2022-03-30 22:45:05 +0900 <nytimes> Workers at Britain’s only operable fracking site were set to start sealing it off this month. But Russia’s invasion of Ukraine, and the resulting disruption to energy markets, has given it a potential reprieve, reigniting debates over shale gas extraction.  https://t.co/lOtC54jOAZ\n",
      "1509162303048097792 2022-03-30 22:35:06 +0900 <nytimes> Germany began preparing for eventual shortages of natural gas, amid concerns that Russia could cut off supplies unless payments are made in rubles.  The government activated the first step of a plan that could, eventually, lead to rationing of natural gas.  https://t.co/g6ngkXR8He\n",
      "1509160798085656577 2022-03-30 22:29:07 +0900 <nytimes> In Opinion  “The conventional wisdom is that Vladimir Putin catastrophically miscalculated,” Bret Stephens writes of the war in Ukraine. “But what if the conventional wisdom is wrong? What if the West is only playing into Putin’s hands once again?”  https://t.co/eyDFeYTv9Q\n",
      "1509157323910139908 2022-03-30 22:15:19 +0900 <nytimes> Fleeing Myanmar’s brutal military junta, thousands of young city dwellers have taken up arms to fight for democracy. At a rainforest camp, one new militia is facing near-daily battles.  “We believe in freedom,” said a midwife who joined the resistance.  https://t.co/S7ngQNjavs  https://t.co/wUWwoZvoPL\n",
      "1509154504041762817 2022-03-30 22:04:07 +0900 <nytimes> Two top British judges are stepping down from their roles on Hong Kong’s highest court because the administration of the territory had “departed from values of political freedom and freedom of expression,” the president of Britain’s Supreme Court said.  https://t.co/ke2M87kECL\n",
      "1509153539947474952 2022-03-30 22:00:17 +0900 <nytimes> As some international visitors return to New York, a main driver of the city’s prepandemic tourism boom is missing: big spenders from China, who are stilled barred from traveling abroad.  https://t.co/MGhu1iiw69\n",
      "1509149971148378121 2022-03-30 21:46:06 +0900 <nytimes> The UN set up a commission of inquiry to investigate international crimes, including possible war crimes and crimes against humanity in the context of Russia’s “aggression against Ukraine.”  Follow our updates on Ukraine.  https://t.co/s2r176Wvqt\n",
      "1509145997007634438 2022-03-30 21:30:18 +0900 <nytimes> In the late 1970s, Jack Dongarra helped to create code and concepts that allowed software to keep pace with the hardware inside the world’s most powerful machines.  Now, at 71, he was awarded the Turing Award, often called the Nobel Prize of computing.  https://t.co/18vn5s2GZu\n",
      "1509140393077710859 2022-03-30 21:08:02 +0900 <nytimes> Breaking News: Senator Susan Collins of Maine plans to vote to confirm Judge Ketanji Brown Jackson to the Supreme Court, the first Republican to back her.  https://t.co/c2Ih1mEZqP\n",
      "1509139647082942474 2022-03-30 21:05:04 +0900 <nytimes> A mural celebrating a Muslim commander who led Indian troops against the British army was sold at auction. In India, his legacy is complicated, with the governing party, which has embraced Hindu nationalist rhetoric, downplaying his achievements.  https://t.co/3u1x3mf7OA\n",
      "1509138427048075268 2022-03-30 21:00:14 +0900 <nytimes> Intense strikes continued overnight Wednesday on the Ukrainian city of Chernihiv, the region’s governor said, hours after Russia vowed to sharply reduce its combat in that area and around the capital, Kyiv.  https://t.co/iQ2cwmpWgg\n",
      "1509137422344466443 2022-03-30 20:56:14 +0900 <nytimes> The U.S. and Europe want the world to rely less on oil from Russia, one of the biggest producers. But it won't be easy. Hear @patcohennyt discuss with @ckrausss, @fbirol of the @iea and @dlgoldwyn, a former U.S. official. DM questions to @nytimesevents.  https://t.co/Ni7PztShHF\n",
      "1509134627910426632 2022-03-30 20:45:08 +0900 <nytimes> The four members of a French family who were found dead at the bottom of an apartment building in Switzerland last week appear to have jumped off a balcony, “one after the other,” the Swiss police said.  https://t.co/pdwD2c9mac\n",
      "1509131341232807940 2022-03-30 20:32:04 +0900 <nytimes> Meta, which owns Facebook and Instagram, has repeatedly changed its rules on what it will allow users to post on the war in Ukraine. The shifts have caused confusion among moderators who patrol the sites for gore, hate speech and incitements to violence.  https://t.co/GtiUSslCVJ\n",
      "1509127063906697224 2022-03-30 20:15:04 +0900 <nytimes> Supreme Court Justice Clarence Thomas and his wife, Ginni Thomas, have battled for years to make the U.S. more conservative.  How did they come to be at the heart of the conservative movement? Listen to today’s episode of The Daily.  https://t.co/0kFegccHkb\n",
      "1509123285333729283 2022-03-30 20:00:04 +0900 <nytimes> Valentin Silvestrov, Ukraine’s best-known living composer, fled to Germany as Russia’s attacks on Ukraine intensified. Now he has become a musical spokesman for his country, as his subtle, consoling music is played around the world.  https://t.co/abi4JPGZqc\n",
      "1509111976693227525 2022-03-30 19:15:07 +0900 <nytimes> President Biden on Tuesday signed a bill making lynching a federal crime, ending more than 100 years of failed efforts by the federal government to specifically outlaw the act.  https://t.co/8OlhpCiLCn\n",
      "1509109956477431812 2022-03-30 19:07:06 +0900 <nytimes> News Analysis: “As international outrage over Russia’s invasion of Ukraine boiled over, foreign ministers and envoys filed in to New Delhi, hoping to pull India off the fence and into clearer condemnation of Russia, its longtime ally,” @MujMash writes.  https://t.co/CNhRsClKQk\n",
      "1509106092101574657 2022-03-30 18:51:44 +0900 <nytimes> The first signs of major progress in the Russia-Ukraine peace talks came on Tuesday, but there was no hint of an imminent end to the war, with Russia seeming determined to take more territory and officials predicting further weeks of negotiation.  https://t.co/Lgx1z6skm3\n",
      "1509100661115437063 2022-03-30 18:30:10 +0900 <nytimes> Roman Abramovich, the sanctioned Russian oligarch who has played a quiet role at Ukraine-Russia talks, appears to be trying to present himself as a trusted conduit between Kyiv and Moscow. Critics say he is grandstanding in a bid to save his empire.  https://t.co/DPaM8rw3Mc\n",
      "1509097119721959426 2022-03-30 18:16:05 +0900 <nytimes> Israel security forces bolstered their presence across the country and the occupied territories on Wednesday, the morning after a Palestinian gunman killed five people in the fifth attack in less than two weeks.  https://t.co/RgNU8WzYgN\n",
      "1509093133279236099 2022-03-30 18:00:15 +0900 <nytimes> News Analysis: Progress in peace talks “doesn’t mean that Russia is ready for serious discussions on ending the war,” @StevenErlanger writes. “That would require a better outcome for President Vladimir V. Putin of Russia to sell at home as a victory.”  https://t.co/K8gclYjG4D\n",
      "1509089059397939200 2022-03-30 17:44:03 +0900 <nytimes> As Russia pledges to scale back operations in Kyiv, soldiers from the 112th Brigade of Ukraine’s Territorial Defense are still preparing for the worst. Our cameras went inside their makeshift base.  https://t.co/eU5e12tnn5\n",
      "1509085554809487360 2022-03-30 17:30:08 +0900 <nytimes> Hong Kong is scrambling to import more coffins as it struggles to handle the surge in Covid deaths during the latest wave of the pandemic. The number of bodies at public mortuaries has risen “exponentially,” Carrie Lam, the city's chief executive, said.  https://t.co/MrKXGSlcJb\n",
      "1509083027766456322 2022-03-30 17:20:05 +0900 <nytimes> Belgium, the Netherlands, Ireland and the Czech Republic announced that they were expelling a total of 43 Russian envoys, in what the Dutch authorities said was a coordinated effort to counter Russian espionage.  https://t.co/OxAcREs9Tk\n",
      "1509081769672421377 2022-03-30 17:15:05 +0900 <nytimes> The head of the UN’s food agency warned that the war in Ukraine was creating a crisis affecting local agriculture and global food supplies “beyond anything we’ve seen since World War II.”  It is “a catastrophe on top of a catastrophe,” he said.  https://t.co/KGMa8pIhju\n",
      "1509078491408523269 2022-03-30 17:02:04 +0900 <nytimes> Here’s a look at some of the highlights worth watching from late-night TV.  https://t.co/dAvU0vEKxX\n",
      "1509070457135419399 2022-03-30 16:30:08 +0900 <nytimes> \"Qatayef are this ritual that brings everyone in the community together.\"  What really sets qatayef apart from other desserts is the fact that they are a treat usually reserved for Ramadan, which begins this week, and are a sign the holy month has arrived.  https://t.co/hqITFfyAYU\n",
      "1509055351290740736 2022-03-30 15:30:07 +0900 <nytimes> Aquí hay una guía de las armas y tácticas bélicas empleadas en el terreno tanto por Rusia como por Ucrania.  https://t.co/KGBMjRMQne\n",
      "1509040255923625988 2022-03-30 14:30:08 +0900 <nytimes> Burnt out vehicles sit in a compound, as Ukrainian fighters of the Odin Unit advance forward, retaking, for now, the town of Irpin. The success of Ukraine’s forces shows the steep challenges Russia faces in trying to capture Kyiv, the capital.  https://t.co/U6WTG10u2E  https://t.co/SNIQ32Fod3\n",
      "1509032681992040448 2022-03-30 14:00:02 +0900 <nytimes> The FDA on Tuesday authorized second booster shots of the Pfizer-BioNTech and Moderna coronavirus vaccines for older Americans and those with certain immune deficiencies.  https://t.co/pVWHmlLhwI\n",
      "1509025157364465667 2022-03-30 13:30:08 +0900 <nytimes> The race to replace Representative Don Young of Alaska, who died last week, promises to be a Yukon adventure. It’s also a fascinating political experiment in the making.  https://t.co/jITQvzJReA\n",
      "1509017617423609856 2022-03-30 13:00:10 +0900 <nytimes> “While I am grateful for an ever-deepening pool of queer love stories, watching them in adulthood does not sate the deep thirst for direct experience I felt in my youth.” Listen to the Modern Love Podcast.  https://t.co/2QY15ruKdz\n",
      "1509013817119944709 2022-03-30 12:45:04 +0900 <nytimes> Joan Joyce was widely considered the most dominant player in the history of women’s fast-pitch softball. Her feats — including striking out Ted Williams — were legend. She has died at age 81.  https://t.co/Tu1ULxkst0\n",
      "1509010048927899651 2022-03-30 12:30:06 +0900 <nytimes> El universo cripto es muchas cosas y con frecuencia está terriblemente mal explicado. Estamos aquí para aclarar las cosas.  https://t.co/uIv4uTOQGw\n",
      "1509006277078401027 2022-03-30 12:15:07 +0900 <nytimes> Schools are already using artificial intelligence to assist students with autism and dyslexia and address accessibility for those who are blind or deaf — with more in the research phase.  https://t.co/KkXPTeb1yF\n",
      "1509002543669596167 2022-03-30 12:00:16 +0900 <nytimes> Crossings at the southwest U.S. border have been peaking again, and American officials are bracing for those numbers to rise much higher if the Biden administration decides to lift a public health order that has limited immigration during the pandemic.  https://t.co/9dUDliI87H\n",
      "1508998718518878212 2022-03-30 11:45:04 +0900 <nytimes> Many people started small businesses out of their homes in New York City public housing. A new report says the city needs more to support them, at a time when jobs lost to the pandemic may take years to return.  https://t.co/jFPUuePEIk\n",
      "1508994945553772545 2022-03-30 11:30:05 +0900 <nytimes> As Russia pledges to scale back operations in Kyiv, soldiers from the 112th Brigade of Ukraine’s Territorial Defense are still preparing for the worst. Our cameras went inside their makeshift base.  https://t.co/PFW1GrtebN\n",
      "1508992431282401289 2022-03-30 11:20:05 +0900 <nytimes> An eruption of gunfire in a crowd of roughly 1,500 people at the Hood-Nic festival in Dumas, Arkansas, on March 19 resulted in the largest mass shooting in the U.S. this year, leaving one man dead and 26 other people wounded, including five children.  https://t.co/2l64ubWZ6n\n",
      "1508989915102695424 2022-03-30 11:10:06 +0900 <nytimes> A ruling declared Donald Trump “likely” committed felonies related to his efforts to overturn the results of the 2020 election. But that may not mean he will be prosecuted. Here’s why.  https://t.co/aQNUgQo0rE\n",
      "1508987418699083785 2022-03-30 11:00:10 +0900 <nytimes> Republicans are pressing to increase their dominance on congressional maps. In Florida, Gov. Ron DeSantis vetoed a map drawn by his fellow Republicans in the Legislature. In Ohio, Republicans closed in on a GOP-friendly map for the midterm elections.  https://t.co/y4jJbAON5q\n",
      "1508984868948041729 2022-03-30 10:50:02 +0900 <nytimes> Gov. Kathy Hochul has proposed in her budget to alter New York State's bail laws so as to expand judicial discretion and increase the number of crimes eligible for bail. The issue has consumed political conversation. Here is a look at some key questions.  https://t.co/O7roRxUSGF\n",
      "1508982357306621953 2022-03-30 10:40:04 +0900 <nytimes> The prevalence of pro-Russia Twitter accounts claiming to be from Indian users indicates that India’s social media landscape has become an important destination in the effort to influence public opinion of the war in Ukraine.  https://t.co/yDnqpLUc3a  https://t.co/kuYBe3zfWh\n",
      "1508979845128232967 2022-03-30 10:30:05 +0900 <nytimes> In Opinion  \"Over the last two years, the U.S. has made extraordinary progress in the fight against Covid-19,\" write Vivek Murthy and David Kessler. \"That progress is now threatened by Congress's failure to fund the continuing Covid-19 response effort.\"  https://t.co/2Vilr9qSj5\n",
      "1508977326146695170 2022-03-30 10:20:04 +0900 <nytimes> Only a small number of Russian forces have pulled back from positions near Kyiv and Moscow may be only “repositioning” its troops before launching renewed attacks in Ukraine, the Pentagon warned on Tuesday.  https://t.co/ao2OiZrlBk  https://t.co/YVQX3g5Oif\n",
      "1508974808012402688 2022-03-30 10:10:04 +0900 <nytimes> The U.S. and Russia still cooperate in space: A NASA astronaut is returning to Earth in a Russian spacecraft.  https://t.co/ykhdt8zqkY\n",
      "1508972341103013897 2022-03-30 10:00:16 +0900 <nytimes> Russian forces used hunger as a weapon of war in a monthlong siege of Mariupol, Ukraine. “No roof, no food and no water,” survivors texted relatives who escaped.  https://t.co/xrm1Ys5pI2  https://t.co/cfnCjcu7Cp\n",
      "1508968516288147457 2022-03-30 09:45:04 +0900 <nytimes> New details from White House documents provided to the House panel investigating the Capitol attack on Jan. 6, 2021, show a 7-hour gap in records of calls made by Donald Trump on the day of the riot.  https://t.co/hXWt9y3Wf9\n",
      "1508964773530062850 2022-03-30 09:30:11 +0900 <nytimes> Oregon will no longer require terminally ill people seeking to end their lives with doctor-prescribed lethal drugs to be residents of the state, according to the settlement of a federal lawsuit that had claimed the requirement was unconstitutional.  https://t.co/lAqL1QqZfP\n",
      "1508961134589657097 2022-03-30 09:15:44 +0900 <nytimes> \"The source of Sunday night’s disruption is the winner of 10 individual Nickelodeon Kid’s Choice Awards,\" our critic writes about Will Smith. \"And the shock was its disturbance of the Oscars routine, a routine that both Smith and Rock were familiar with.\"  https://t.co/TvzlIkPnm0  https://t.co/feuodTtwcf\n",
      "1508957241558380550 2022-03-30 09:00:16 +0900 <nytimes> Even if Russia honors its promise to ease the bombardment of the Ukrainian city of Chernihiv, on the northern outskirts of Kyiv, it will be too late for thousands of residents who risked the vicious siege to leave.  https://t.co/9eqhM3DnDJ\n",
      "1508954658219466757 2022-03-30 08:50:00 +0900 <nytimes> President Biden on Tuesday signed a bill making lynching a federal crime, ending more than 100 years of failed efforts by the federal government to specifically outlaw the act.  https://t.co/PKzVYNDXFj\n",
      "1508952230220779520 2022-03-30 08:40:21 +0900 <nytimes> In 1976, a school bus carrying 26 children in Chowchilla, California, was ambushed by three kidnappers. The children and the driver managed to escape after they were held for 16 hours. Now, the last of the imprisoned abductors has been granted parole.  https://t.co/iVJ3wsxQ44\n",
      "1508947148121026560 2022-03-30 08:20:09 +0900 <nytimes> Fighters of the Ukrainian Odin Unit, foreign volunteers among them, took cover in Irpin on Tuesday. Shortly after completing the initial phase of their training, volunteers in Kyiv were doused with holy water by a priest.  Follow live updates:  https://t.co/6mU6hFNaev  https://t.co/tmzLIUeV6a\n",
      "1508942105334407174 2022-03-30 08:00:07 +0900 <nytimes> Ukrainian soldiers have essentially retaken, for now, the town of Irpin, the scene of fierce fighting in recent weeks. Its success shows the steep challenges Russia faces in trying to capture Ukraine’s capital.  https://t.co/MgxSAqtG0g\n",
      "1508938343400321034 2022-03-30 07:45:10 +0900 <nytimes> The U.S. is preparing new sanctions targeting the supply chains of Russia's military industrial sector as it seeks to erode Moscow's ability to attack Ukraine, the deputy Treasury secretary said Tuesday.  https://t.co/tjWzKvL87s\n",
      "1508934555599880196 2022-03-30 07:30:07 +0900 <nytimes> Breaking News: President Biden on Tuesday signed a bill making lynching a federal crime, ending more than 100 years of failed efforts by the federal government to specifically outlaw the act.  https://t.co/PKzVYNDXFj\n",
      "1508930788406013959 2022-03-30 07:15:09 +0900 <nytimes> Americans are more worried about inflation than at any point since 1985, according to a new Gallup poll. Concern was divided along political lines: 79% of Republicans said they are seriously worried about inflation, the poll found, versus 35% of Democrats.  https://t.co/vUOCsP8Wsv\n",
      "1508929512993656836 2022-03-30 07:10:05 +0900 <nytimes> Using a smartphone attached to a remote controller for a drone, a fighter in the Ukrainian forces conducted surveillance over Irpin, outside Kyiv. The fighters used the drone to spot Russian ambushes.  Follow live updates:  https://t.co/dBfqJVZHxg  https://t.co/O6DCxjQwHk\n",
      "1508927063893450755 2022-03-30 07:00:21 +0900 <nytimes> Ukrainian officials said numerous cases of rape and sexual violence have occurred in the country since Russia’s invasion began. \"What we are hearing by word of mouth, from acquaintances of survivors in the country, is horrific,\" a Ukrainian lawyer said.  https://t.co/3ydkjxDMKB\n",
      "1508923220870766598 2022-03-30 06:45:04 +0900 <nytimes> In unusually blunt language, the Pentagon press secretary said that the U.S. and its European allies should not be “fooling” themselves by accepting recent claims from Russia that it is reducing attacks in Ukraine.  https://t.co/qCs1SmRuWA\n",
      "1508919492835000338 2022-03-30 06:30:16 +0900 <nytimes> The fact that the negotiations between Ukraine and Russia had become more serious was reflected in the setting, the Istanbul palace where President Recep Tayyip Erdogan — who has maintained ties with both Moscow and Kyiv — holds major government events.  https://t.co/VkSyE4QYjl\n",
      "1508916939476934656 2022-03-30 06:20:07 +0900 <nytimes> At 10:27 p.m. Eastern on Sunday, Will Smith slapped Chris Rock after the comedian delivered a joke at the Oscars about Smith’s wife, Jada Pinkett Smith. Nearly 17.4 million viewers tuned in after the slap, up from 16.8 million shortly before it.  https://t.co/3AqP3Uiv1L\n",
      "1508914431048224772 2022-03-30 06:10:09 +0900 <nytimes> The highly contagious Omicron subvariant known as BA.2, which led to a surge of coronavirus cases in Europe, is now the dominant version of the virus in new U.S. cases, according to the CDC.  https://t.co/5u8bvHawGZ\n",
      "1508911952252309509 2022-03-30 06:00:18 +0900 <nytimes> In Opinion  \"This is not a defense of Will Smith, who does not need me to defend him,\" Roxane Gay writes. \"Instead, this is a defense of thin skin. It is a defense of boundaries and being human and enforcing one’s limits.\"  https://t.co/YppWwfZblc\n",
      "1508908183884120074 2022-03-30 05:45:19 +0900 <nytimes> Ukraine’s counterattacks have come as major Russian offensives have mostly stalled, with Russian troops largely regrouping and trying to consolidate territory taken in the opening weeks of the invasion. See more of the ongoing battle for Ukraine.  https://t.co/YOevSwZYpw\n",
      "1508908181866618884 2022-03-30 05:45:19 +0900 <nytimes> Farther to the east, the towns of Trostianets and Boromlia have also been recaptured, according to officials. The two towns are just south of Sumy, a city currently surrounded by Russian forces.  https://t.co/YOevSwZYpw  https://t.co/KMQ3zIKBLW\n",
      "1508908175734751232 2022-03-30 05:45:17 +0900 <nytimes> Officials also said the towns of Lukianivka and Rudnytske, both east of Kyiv, had been recaptured after several days of counterattacks.  https://t.co/YOevSx0wf4  https://t.co/nMnN1fejG7\n",
      "1508908169979961347 2022-03-30 05:45:16 +0900 <nytimes> The mayor of Irpin said on Monday that Ukraine had liberated the town from Russian forces, but reports indicate that Ukraine’s hold there was tenuous. Maintaining control of Irpin is important for Ukraine’s army to keep its hold on Kyiv.  https://t.co/YOevSwZYpw  https://t.co/d9eUwCxG6W\n",
      "1508907880019369987 2022-03-30 05:44:07 +0900 <nytimes> Ukraine reported making some gains in the northeast, waging counterattacks that pushed back Russian forces and enabled the Ukrainians to recapture several towns near the front lines. The New York Times is mapping the war.  https://t.co/YOevSwZYpw\n",
      "1508904388647133184 2022-03-30 05:30:14 +0900 <nytimes> Black Americans have not been sufficiently included in long Covid trials and treatment programs, experts warn. “The pandemic isn’t over, it isn’t over for anyone,” a researcher said. “But the reality is, it’s certainly not over in Black America.”  https://t.co/FLPttlpKoF\n",
      "1508900636963844103 2022-03-30 05:15:20 +0900 <nytimes> Watching Will Smith \"up there on Sunday, burying his behavior in the Williamses’ story, I’m not sure he was entirely back in his body,\" writes our critic. \"I’ve never experienced a victory that feels this much like defeat. I suspect he knew this, too.\"  https://t.co/2usdL897fW\n",
      "1508896819891347465 2022-03-30 05:00:10 +0900 <nytimes> The NFL changed a rule to ensure that both teams would possess the ball at least once in overtime of postseason games. The measure comes months after Kansas City won a playoff game against Buffalo, which were not given a chance to score in overtime.  https://t.co/FyeclCgYyh\n",
      "1508893040135618573 2022-03-30 04:45:09 +0900 <nytimes> In Opinion    \"There are no heroes in this story,\" writes Roxane Gay in a roundtable discussion with Charles M. Blow, Lulu Garcia-Navarro and Esau McCaulley about Will Smith hitting Chris Rock at the Oscars.  https://t.co/uRw7w4fkse\n",
      "1508885462944989194 2022-03-30 04:15:02 +0900 <nytimes> The BA.2 variant, sometimes called “stealth Omicron,” appears to be more transmissible than the original version of Omicron. But the subvariant doesn’t seem to lead to different symptoms, an epidemiologist said.  https://t.co/jyj5m2VpK2\n",
      "1508882940675117056 2022-03-30 04:05:01 +0900 <nytimes> British authorities detained a 192-foot-long Russian superyacht worth about $50 million. The Phi is the first such vessel to be detained in British waters in what the government said was a warning to President Vladimir Putin and his associates.  https://t.co/puMqwurWZK\n",
      "1508877910215733256 2022-03-30 03:45:02 +0900 <nytimes> Ukrainian officials said numerous cases of rape and sexual violence have occurred in the country since Russia’s invasion began. \"What we are hearing by word of mouth, from acquaintances of survivors in the country, is horrific,\" a Ukrainian lawyer said.  https://t.co/JTxxpT0WwQ  https://t.co/rFLo0oFBs1\n",
      "1508873345944768518 2022-03-30 03:26:53 +0900 <nytimes> Breaking News: A gunman killed at least four people in an ultra-Orthodox neighborhood near Tel Aviv. The shooting was the fifth attack in less than two weeks, and heightened fears of violence over the next month, when Ramadan, Passover and Easter converge.  https://t.co/7J1Txzgqa2\n",
      "1508869118262398987 2022-03-30 03:10:05 +0900 <nytimes> Several people were killed and at least a dozen were injured after a blinding snow squall on Monday led to a fiery pileup of at least 50 vehicles on a Pennsylvania interstate, the authorities said.  https://t.co/OSuH3sr0Px  https://t.co/Moh4URP0Dg\n",
      "1508866637763690501 2022-03-30 03:00:14 +0900 <nytimes> A jump in private air travel has led to a crunch for space to park jets.  https://t.co/M4kqJiZ4RB\n",
      "1508862018446626822 2022-03-30 02:41:53 +0900 <nytimes> As J.J. faces an uncertain future, no one has been held responsible. “What would it have been like if they hadn’t been so negligent?” his mother, Selena Wiley, said of the rental company. “They took who I had away.”   Read our full investigation.  https://t.co/dxVsEjzcGS\n",
      "1508862016856936449 2022-03-30 02:41:52 +0900 <nytimes> Lead poisoning is a scourge in many of the country’s poorer ZIP codes, and minority children are especially affected, given that they are more likely to live in older rental homes that are poorly maintained by landlords.  https://t.co/dxVsEjzcGS  https://t.co/mO2p75gQHK\n",
      "1508862013128286211 2022-03-30 02:41:51 +0900 <nytimes> J.J. cannot put on pants by himself, is easily distracted and hard to console. His teeth ache from lead-related decay, and the iron supplements he takes cause stomach pain.  https://t.co/dxVsEjzcGS  https://t.co/oh3FGfeG43\n",
      "1508862008439021571 2022-03-30 02:41:50 +0900 <nytimes> One of those 500,000 children is J.J., who lived in an older rental in South Bend, Indiana. The property manager assured his mother it was safe. But when J.J. was 2, a doctor discovered he had lead poisoning. Now 5, he doesn't communicate nearly as well as his 3-year-old sister.  https://t.co/hvEhfl1TvR\n",
      "1508862005230325765 2022-03-30 02:41:50 +0900 <nytimes> Lead is known to cause irreversible damage to a child’s brain and nervous system, affecting intelligence, behavior and the ability to learn.  https://t.co/dxVsEjzcGS  https://t.co/dxcBCFqVCu\n",
      "1508862001543585793 2022-03-30 02:41:49 +0900 <nytimes> Lead poisoning is a major public health threat in the U.S., with 3.3 million children living in hazardous homes. Those poisoned today have less recourse than ever, as the insurance and real estate industries have worked to shield themselves from liability.  https://t.co/dxVsEjzcGS  https://t.co/QTw6micFo8\n",
      "1508859047210065923 2022-03-30 02:30:04 +0900 <nytimes> The FDA on Tuesday authorized second booster shots of the Pfizer and Moderna vaccines for everyone 50 and older and some immunocompromised people. Here’s what scientists know about who needs the doses, and when.  https://t.co/LYp4sVH7hk\n",
      "1508855266200231941 2022-03-30 02:15:03 +0900 <nytimes> Russian forces used hunger as a weapon of war in a monthlong siege of Mariupol, Ukraine. “No roof, no food and no water,” survivors texted relatives who escaped.  https://t.co/AU0akoB1zA\n",
      "1508854005971275776 2022-03-30 02:10:02 +0900 <nytimes> Bloating, that unpleasant feeling of pressure in the stomach, affects an estimated one in five adults. But understanding why it happens — and treating it — can be a challenge.  https://t.co/oWoudHlvaA\n",
      "1508851537124151297 2022-03-30 02:00:14 +0900 <nytimes> Prince Andrew’s conspicuous public appearance with his mother, Queen Elizabeth, at a memorial service for Prince Philip on Tuesday sent an unmistakable message of support by the queen for her disgraced son.  https://t.co/Hn6mfPlbHu\n",
      "1508846492764844032 2022-03-30 01:40:11 +0900 <nytimes> Russian forces detained the head of the education department in the occupied southern Ukrainian city of Melitopol, the mayor there said on Monday, after the department and teachers pushed back against orders to overhaul the curriculum.  https://t.co/qDL5YU8aUd\n",
      "1508843994389880853 2022-03-30 01:30:15 +0900 <nytimes> Volunteers with the Kyiv Territorial Defense Forces were doused with holy water by a priest shortly after completing the initial phase of their training.  https://t.co/Dqi8NxylvO  https://t.co/c6mqhGeY7h\n",
      "1508840185114640387 2022-03-30 01:15:07 +0900 <nytimes> \"My body did not fit into any narrative of order, proportion, plan,\" Chloe Cooper Jones, who was born without a sacrum, writes in @NYTmag of her visit to the Galleria Borghese in Rome. \"What was my lineage and where was it celebrated?\"  https://t.co/IhN7joTwU0\n",
      "1508836429874741251 2022-03-30 01:00:12 +0900 <nytimes> In Opinion  “What matters here is that we have, in Ginni Thomas, a very high-profile Republican activist who holds, and acts on, fringe, conspiratorial beliefs,” Jamelle Bouie writes. “And she is not alone.”  https://t.co/GniwcysaVm\n",
      "1508831378309357570 2022-03-30 00:40:07 +0900 <nytimes> Job openings in the U.S. remained near record levels in February, at about 11.3 million, and the number of workers who chose to leave their jobs increased, the Labor Department said on Tuesday.  https://t.co/WZn9B1KVnb\n",
      "1508828874204983296 2022-03-30 00:30:10 +0900 <nytimes> Hundreds of workers at the publishing giant Condé Nast, which owns titles like Vogue, Vanity Fair, Bon Appétit and GQ, announced on Tuesday that they had formed a companywide union. It will cover more than 500 employees.  https://t.co/E6QJEGtobL\n",
      "1508825080876392448 2022-03-30 00:15:06 +0900 <nytimes> Fighting continued in Ukraine on Tuesday, even as progress was reported in peace talks. A Russian attack destroyed much of a regional government building in Mykolaiv, leaving at least 11 people trapped in the ruins, according to the governor, Vitaly Kim.  https://t.co/2p78nQs525\n",
      "1508819296834801675 2022-03-29 23:52:07 +0900 <nytimes> Breaking News: The FDA authorized second booster shots of the Pfizer and Moderna vaccines for everyone 50 and older and some immunocompromised people.  https://t.co/NAeLMwDRR0\n",
      "1508814007901302790 2022-03-29 23:31:06 +0900 <nytimes> Oil prices dropped, with the key U.S. benchmark dropping below $100 a barrel, and stock prices jumped as talks between Russia and Ukraine showed signs of progress.  Even after the recent pullback, oil prices are up more than 7% since the invasion began.  https://t.co/7nPVAHw6Ch\n",
      "1508809984942948366 2022-03-29 23:15:07 +0900 <nytimes> Several people were killed and at least a dozen were injured after a snow squall on Monday led to a pileup on a Pennsylvania interstate, the authorities said. The chain reaction involved at least 50 vehicles, including several tractor-trailers.  https://t.co/k1W2LpAk6J\n",
      "1508806281234157584 2022-03-29 23:00:24 +0900 <nytimes> Students applying to MIT in 2022 will have to submit SAT or ACT exam scores, the university announced on Monday, nearly two years after suspending the requirement because the pandemic had disrupted testing for many applicants.  https://t.co/OcTK7zIZzN\n",
      "1508798653758070794 2022-03-29 22:30:05 +0900 <nytimes> Burmese pythons are causing wildlife populations to plummet in Florida, but the bobcat might be able to help.  Scientists have evidence of a bobcat devouring python eggs, giving hope that the state’s native species are responding to the invasive predator.  https://t.co/oT1kZOkkEU  https://t.co/67nTQAqZbn\n",
      "1508797395265536019 2022-03-29 22:25:05 +0900 <nytimes> Roman Abramovich, a behind-the-scenes power broker in Russia, was at peace talks in Turkey, footage from the event shows. His appearance comes a day after reports that he and several other negotiators had been victims of a potential poisoning.  https://t.co/rGRoXdFUsh  https://t.co/nCxzp7b7L7\n",
      "1508791123334111232 2022-03-29 22:00:10 +0900 <nytimes> Hillsong was the leading edge of cool Christianity, a quickly growing network whose services were attended by Justin Bieber and Kevin Durant.  Now, the church’s U.S. presence is in collapse amid a series of crises, including the resignation of its leader.  https://t.co/KMg2L1XWQV\n",
      "1508789091252555791 2022-03-29 21:52:05 +0900 <nytimes> A wildfire near Fort Hood, a military base in Texas, continues to grow but poses no threat to lives, homes or infrastructure, officials said.  The Crittenberg Complex, which consists of three fires, has burned more than 33,000 acres as of late Monday.  https://t.co/XVhkU0f7DJ\n",
      "1508787068037701637 2022-03-29 21:44:03 +0900 <nytimes> The head of the UN’s nuclear agency arrived in Ukraine for talks on the safety of the country’s nuclear facilities, which have been targets for Russian forces. The visit could lay the groundwork for sending experts into the country to protect nuclear sites. https://t.co/6LEAzpSDFH\n",
      "1508783805049548810 2022-03-29 21:31:05 +0900 <nytimes> A Russian strike on a government building in Mykolaiv, Ukraine, destroyed a large portion of the building and left at least 11 people trapped in the rubble, according to the region’s governor.  The attack came after people arrived for work, he said.  https://t.co/p4RdkkhuCZ  https://t.co/b6LGV4T5p2\n",
      "1508783371685617665 2022-03-29 21:29:22 +0900 <nytimes> Breaking News: Russia said it would reduce military activity near Ukraine’s capital, Kyiv, as diplomats from both countries discussed a possible cease-fire.  Follow our updates.  https://t.co/XzeEVbqCzy\n",
      "1508779785404788739 2022-03-29 21:15:07 +0900 <nytimes> Shanghai has begun a staggered lockdown. Businesses and public transit are closed, and the vast majority of people will be confined to their homes as mass Covid testing is carried out.     The Chinese city's 26 million residents are scrambling to prepare.  https://t.co/77Mq28Ve7X\n",
      "1508776012531830784 2022-03-29 21:00:07 +0900 <nytimes> Ukrainian and Russian officials discussed a potential cease-fire in negotiations hosted in Turkey by President Recep Tayyip Erdogan. Envoys are expected to brief reporters on the talks, the first held in person in weeks.  Follow updates.  https://t.co/xNbVyRu2tC\n",
      "1508772486099488771 2022-03-29 20:46:06 +0900 <nytimes> Russia’s invasion of Ukraine is reshaping budgets in countries across Europe. Military spending, essentials like agriculture and energy, and humanitarian assistance have all taken priority, as nations prepare for threats thought to have been long buried.  https://t.co/XkjNT5o4ma\n",
      "1508768951265894406 2022-03-29 20:32:04 +0900 <nytimes> Federal prosecutors and congressional investigators are documenting how a tweet by President Donald Trump before the Jan 6. Capitol riot — which ended with, “Be there, will be wild!” — served as a powerful catalyst, particularly for far-right militants.  https://t.co/NvjylaOypb\n",
      "1508765179965759496 2022-03-29 20:17:05 +0900 <nytimes> Senator Joe Manchin has helped a West Virginia power plant that is the sole customer of his private coal business, including by blocking ambitious climate action.  How entwined is he with the coal industry? Listen to today’s episode of The Daily.  https://t.co/ZJDoIJgwMQ\n",
      "1508760915277230084 2022-03-29 20:00:08 +0900 <nytimes> News Analysis: Russia’s brutal attacks on Grozny nearly 30 years ago were “the first time we saw Vladimir Putin develop his game plan to reassert Russian dominion,” Carlotta Gall writes. “There was much in the experience that echoes in Ukraine today.”  https://t.co/deMsLD4iEv\n",
      "1508753605465190400 2022-03-29 19:31:05 +0900 <nytimes> Amid a devastating economic crisis in Afghanistan that has left millions hungry, many are going to drastic lengths to survive.  Some are turning to mining, which has become more deadly since the Taliban seized power and previous safety measures vanished.  https://t.co/4fSnYaNbMB  https://t.co/kkVdqBIn5a\n",
      "1508745839442894848 2022-03-29 19:00:13 +0900 <nytimes> President Biden leaned toward the political center with a budget that addressed the main attack lines that Republicans are using against him in the run-up to the midterm congressional elections.  https://t.co/E9uS4TzD2g\n",
      "1508737990767558660 2022-03-29 18:29:02 +0900 <nytimes> Britain’s libel laws, despite reform efforts in the past decade, have remained accommodating for Russian oligarchs. For a group of libel lawyers, protecting the reputation of Russia’s wealthy by suing, or threatening to sue, the media is a lucrative niche.  https://t.co/NKDQmzVlgV\n",
      "1508734721039159303 2022-03-29 18:16:03 +0900 <nytimes> The Solomon Islands has drafted a security agreement with China, the island nation’s leader confirmed after it was leaked. In a fiery speech, he criticized as “insulting” concerns from Australia and New Zealand that the pact could destabilize the region.  https://t.co/zvoKjYzQgl\n",
      "1508730752804044802 2022-03-29 18:00:16 +0900 <nytimes> Here's a look at some of the highlights worth watching from late-night TV.  https://t.co/FKi4LuqYog\n",
      "1508729274018283523 2022-03-29 17:54:24 +0900 <nytimes> Breaking News: The London police levied 20 fines on people accused of breaking Covid lockdown rules at 10 Downing Street but did not specify who was penalized. The fines revive a politically dangerous scandal for Prime Minister Boris Johnson.  https://t.co/ejcnTQAlCk\n",
      "1508715633151725569 2022-03-29 17:00:12 +0900 <nytimes> Here's where you can stream this year's Oscar winners — including \"CODA,\" \"Dune\" and \"The Power of the Dog.\"  https://t.co/qc2c5sr7Te\n",
      "1508707789832609792 2022-03-29 16:29:02 +0900 <nytimes> Jada Pinkett Smith ha sido franca sobre su alopecia. Esto es lo que hay que saber sobre la condición que le ocasiona pérdida del cabello.  https://t.co/i7p2UJVHOQ\n",
      "1508700525679816707 2022-03-29 16:00:10 +0900 <nytimes> Ukraine’s telephone and internet company, Ukrtelecom, suffered a cyberattack, the country's State Special Communications Service reported. The agency said Russian forces were responsible.  https://t.co/1WRcJduBAV\n",
      "1508692952071258112 2022-03-29 15:30:04 +0900 <nytimes> Will Smith se disculpó con Chris Rock el lunes por abofetearlo en la entrega de los Oscar del domingo. \"Me pasé de la raya y me equivoqué,\" escribió en Instagram la noche del lunes. \"Me avergüenzo y mis acciones no reflejan el hombre que quiero ser.\"  https://t.co/m7xCwiWTsq\n",
      "1508685415720620037 2022-03-29 15:00:07 +0900 <nytimes> Season 2 of \"Bridgerton\" follows the Sharma family's move between England and India during British colonial rule. The show challenges \"a long-held presumption that those circulating in social circles in Britain were historically white,\" one expert said.  https://t.co/MtdqhOBfog\n",
      "1508670308244684801 2022-03-29 14:00:05 +0900 <nytimes> Rumble, backed by Donald Trump, Peter Thiel and other prominent conservatives, wants to help build a “new internet” independent from Silicon Valley’s titans. The platform already has a larger reach than other top destinations for conservative content.  https://t.co/ibRYM7XOZ1\n",
      "1508665262933004290 2022-03-29 13:40:02 +0900 <nytimes> The NFL announced plans at its annual meeting this week to increase diverse hiring practices after the former Miami Dolphins head coach Brian Flores in February accused the league and its teams of discriminating against him and other Black coaches.  https://t.co/25IlL0bxoH\n",
      "1508655245970362368 2022-03-29 13:00:14 +0900 <nytimes> Fifty years after he founded the company, Frederick Smith announced on Monday that he would be stepping down as FedEx’s chief executive in June. Raj Subramaniam, the current president and chief operating officer, will succeed him.  https://t.co/k4B3w7Jij3\n",
      "1508650160095649793 2022-03-29 12:40:02 +0900 <nytimes> The Supreme Court agreed on Monday to hear a challenge to a California law that seeks to address cruelty to animals by requiring pork sold in the state to come from breeding pigs housed in spaces that allow them to move around freely.   https://t.co/YJgpOstfrD\n",
      "1508647677562601477 2022-03-29 12:30:10 +0900 <nytimes> Louisville beat Michigan in the NCAA women's tournament to clinch the last spot in the Final Four, joining South Carolina, Stanford and UConn.  https://t.co/p5YMScVrk7\n",
      "1508642616203751426 2022-03-29 12:10:03 +0900 <nytimes> Uber is said to be close to completing an agreement with a San Francisco partner to allow Uber passengers in the city to call a taxi through the Uber app, in a deal similar to the one recently announced in New York City.  https://t.co/Cka7Yfx0uA\n",
      "1508640123033948168 2022-03-29 12:00:09 +0900 <nytimes> The Dutch brewer Heineken and its Danish rival Carlsberg said on Monday that they were getting out of Russia, moves that highlighted the pressure on multinational firms to go beyond pausing operations in the country.  https://t.co/KgNEDZ5nrd\n",
      "1508635068830523392 2022-03-29 11:40:04 +0900 <nytimes> Burmese pythons are devouring wildlife in Florida, but one hungry and brave bobcat turned a nest full of python eggs into a buffet.  https://t.co/H5rpB6zMmG\n",
      "1508630048223510532 2022-03-29 11:20:07 +0900 <nytimes> Students applying to MIT in 2022 will have to submit SAT or ACT exam scores, the university announced on Monday, nearly two years after suspending the requirement because the pandemic had disrupted testing for many applicants.  https://t.co/zVwdj93m3f\n",
      "1508625005449519107 2022-03-29 11:00:04 +0900 <nytimes> Fewer than 800 coronavirus deaths are being reported each day in the U.S., the lowest daily average since before the Omicron variant took hold late last fall. The last time the rate was this low was in mid-August, according to a New York Times database.  https://t.co/RZcTvFwKnZ\n",
      "1508623163533447173 2022-03-29 10:52:45 +0900 <nytimes> UConn advanced in the NCAA women’s tournament to its 14th straight Final Four, beating No. 1-seeded North Carolina State in double overtime.  https://t.co/cjec21iYUA\n",
      "1508619972100173829 2022-03-29 10:40:04 +0900 <nytimes> Ukrainians on Monday reported that they had pushed back invading Russian forces in fierce fighting around Kyiv and in northeastern Ukraine. Another round of talks between the two sides is set to begin in Istanbul on Tuesday.  https://t.co/XdU75L3rSD\n",
      "1508614949161119750 2022-03-29 10:20:07 +0900 <nytimes> White House budgets are always largely symbolic documents. But without details about many of President Biden’s top priorities, the budget this year is unusually unhelpful in even understanding the administration’s budgetary goals.  https://t.co/RtXmMnlXQp\n",
      "1508609914771496962 2022-03-29 10:00:06 +0900 <nytimes> President Biden stood by his remarks that Vladimir Putin “cannot remain in power,” but said he was expressing outrage, not a policy change.  https://t.co/H99nO2lts6  https://t.co/uHqA8Y2PlN\n",
      "1508604872752603141 2022-03-29 09:40:04 +0900 <nytimes> Black political leaders support Gov. Kathy Hochul of New York, but there are signs of a lack of fervor and lingering support for Andrew Cuomo among Black voters, a key voting bloc.  https://t.co/jjXPs6Gwsk\n",
      "1508597077210771457 2022-03-29 09:09:06 +0900 <nytimes> Here's where you can stream this year's Oscar winners — including \"CODA,\" \"Dune\" and \"The Power of the Dog.\"  https://t.co/xCW2VVQgeg\n",
      "[!] No more data! Scraping will stop now.\n",
      "found 0 deleted tweets in this search.\n",
      "1509676943255429122 2022-04-01 08:40:06 +0900 <nytimes> Each team in the NCAA men’s basketball Final Four — North Carolina, Duke, Kansas and Villanova — uses a shade of blue as a primary color. But don’t you dare say those blues are all the same.  https://t.co/ueMUNNqPco\n",
      "1509666897947762689 2022-04-01 08:00:11 +0900 <nytimes> The police said five fetuses had been removed from a home in Washington that, according to an anti-abortion group, belonged to an activist who was charged with blocking access to an abortion clinic in October 2020.  https://t.co/lOt9yv88lY\n",
      "1509655578209132551 2022-04-01 07:15:12 +0900 <nytimes> Over a four-decade career, Paul Herman was perhaps most renowned for his role on \"The Sopranos\" as Peter Gaeta, known as Beansie, the owner of pizza parlors who gets in trouble with a mobster. He died on Tuesday, his 76th birthday.  https://t.co/v4wGG0qNj8\n",
      "1509651817084465152 2022-04-01 07:00:15 +0900 <nytimes> Hundreds of Syrian fighters are en route to join Russian forces in Ukraine, effectively returning the favor to Moscow for helping President Bashar al-Assad crush rebels in an 11-year civil war, according to two people monitoring the flow of mercenaries.  https://t.co/dCG4UKWiBt\n",
      "1509648035458002959 2022-04-01 06:45:14 +0900 <nytimes> Ben McKenzie, an actor best known for his role in “The O.C.,” is an outspoken critic of cryptocurrency. He said his newfound passion has left friends “supportive but confused.” His wife, the actress Morena Baccarin, is “just tired of me talking about it.”  https://t.co/qiraGma1Iw\n",
      "1509645472859934726 2022-04-01 06:35:03 +0900 <nytimes> Senator Lindsey Graham voted last year to confirm Judge Ketanji Brown Jackson to an influential appeals court. Now he calls her an “activist judge” and said Thursday that he planned to vote against her confirmation to the Supreme Court.  https://t.co/4w7RPsTV3A\n",
      "1509644249800794122 2022-04-01 06:30:11 +0900 <nytimes> Ukraine’s GDP is likely to contract by 20% this year and Russia’s by 10% as a result of the war, the European Bank for Reconstruction and Development said on Thursday, in its first forecast since Russia’s invasion began on Feb. 24.  https://t.co/BqK7BO6IFa\n",
      "1509640467356471301 2022-04-01 06:15:09 +0900 <nytimes> At least 148 children have been killed during shelling and air raids in Ukraine, the country’s defense ministry said Thursday on Twitter. The ministry also said that more than 10 million people have fled their homes and 15 airports have been destroyed.  https://t.co/C2H56sitIY\n",
      "1509636705590075401 2022-04-01 06:00:12 +0900 <nytimes> Inflation in the U.S. continued to run at the fastest pace since 1982 in February, new data released on Thursday showed. Prices, as measured by the Personal Consumption Expenditures Index, rose by 6.4% in the year through February.  https://t.co/9I3FnUrx0h\n",
      "1509632917085069322 2022-04-01 05:45:09 +0900 <nytimes> In the early days of the pandemic, while others were baking sourdough bread and learning how to knit, Annie Rauwerda started her own project: sharing bizarre and surprising snippets from Wikipedia.  https://t.co/oMjLSRjUoE\n",
      "1509629151296249861 2022-04-01 05:30:11 +0900 <nytimes> In Opinion  \"I’m still aghast. Still astonished. Still absorbing what Ginni Thomas said in those text messages to Mark Meadows, President Donald Trump’s chief of staff, as she urged him to overturn the 2020 election,\" writes Frank Bruni.  https://t.co/XQMuBm2my2\n",
      "1509625362833186823 2022-04-01 05:15:08 +0900 <nytimes> Ukrainian officials said their country was ready to declare itself permanently neutral. Negotiators are willing to discuss Russian territorial claims — but only if it gets security guarantees from a group of other countries. Here's what that means.  https://t.co/VFMEziKD1j\n",
      "1509621624332599297 2022-04-01 05:00:17 +0900 <nytimes> A resident of Irpin, a heavily damaged suburb of the Ukrainian capital, Kyiv, evacuated with her dogs on Thursday. The number of Ukrainian refugees has surpassed four million — half of them children.  Follow live updates:  https://t.co/StEJJ29yWq  https://t.co/UBWauTIo8S\n",
      "1509617801962692610 2022-04-01 04:45:05 +0900 <nytimes> A team from the International Red Cross was preparing on Thursday to try to enter the besieged port city of Mariupol, Ukraine. Its attempts to enter the city earlier in March were abandoned as fighting resumed around the roads it planned to use.  https://t.co/uoYdFihYTH\n",
      "1509615273657376769 2022-04-01 04:35:03 +0900 <nytimes> Shealah Craighead is \"a very talented photographer and this was really all of her hard work,” said Stephanie Grisham, who was a White House press secretary for Donald Trump. “I just keep thinking: What a shame that he is actually now profiting off of it.\"  https://t.co/g3pCNPiOKT  https://t.co/6PIPwELbYY\n",
      "1509614072475832324 2022-04-01 04:30:16 +0900 <nytimes> European leaders on Thursday rejected Vladimir Putin’s demand that all natural gas imported from Russia must be paid for in rubles starting Friday — or risk having the supplies shut off.  https://t.co/vM1j2PxYef\n",
      "1509610278891098136 2022-04-01 04:15:12 +0900 <nytimes> Ukrainian soldiers continued to help evacuate people and animals from the Kyiv suburb of Irpin. The town has seen heavy fighting since the early days of the war, although Ukrainian forces claim to have regained control of it.  https://t.co/TNFZ5dYyX5  https://t.co/dOoM9nmv5i\n",
      "1509609692536143874 2022-04-01 04:12:52 +0900 <nytimes> Intelligence has shown that Russia is repositioning, not withdrawing, its troops around the area of Kyiv, Ukraine’s capital, NATO’s secretary-general, Jens Stoltenberg, said.  https://t.co/xTpoX0HlUG  https://t.co/HNkmJbUwpT\n",
      "1509608987506839573 2022-04-01 04:10:04 +0900 <nytimes> The former chief White House photographer made plans to publish a book of Trump photos. The former president asked her for a cut of her book advance payment and asked her to wait until he published his own book, former associates said.  https://t.co/sdvuRKhCsx  https://t.co/97tUABrY3L\n",
      "1509606865809940488 2022-04-01 04:01:38 +0900 <nytimes> Breaking News: Parts of Florida’s election law are unconstitutional and racially motivated, a federal judge ruled, placing the state under a 10-year order to receive clearance before changing its voting laws again. The decision is certain to be appealed.  https://t.co/iZELlKQuQz\n",
      "1509606530399838215 2022-04-01 04:00:18 +0900 <nytimes> Russian forces declared they were leaving the Chernobyl nuclear power plant and the nearby city of Slavutych, according to a statement Thursday from Ukraine’s state run-energy company. The account supports a report from the Pentagon.  Follow our updates:  https://t.co/3XPrd3ph1y\n",
      "1509602696944402432 2022-04-01 03:45:04 +0900 <nytimes> The EU and German regulators carried out unannounced inspections at several companies involved in the supply, transmission and storage of natural gas, on suspicion of violating EU competition regulations, the authorities said on Thursday.  https://t.co/nXUPoxF2Fp\n",
      "1509600710798856193 2022-04-01 03:37:11 +0900 <nytimes> The New York Public Library waived late fees last October. This book, recently returned, was last checked out in 1965.  https://t.co/myDCFAy6Iy  https://t.co/W4xnetT1qD\n",
      "1509598931197571080 2022-04-01 03:30:06 +0900 <nytimes> William Burns, the director of the CIA, tested positive for the coronavirus on Thursday and has mild symptoms. He met with President Biden a day earlier, according to CIA statement, but they practiced social distancing and Burns was wearing an N95 mask.  https://t.co/Jjiho7hcQr\n",
      "1509596920561512460 2022-04-01 03:22:07 +0900 <nytimes> Across Europe, schoolchildren are full of tough questions about the war in Ukraine. At one school in England, teachers are scrambling for answers.  https://t.co/O0zgy6vXxY  https://t.co/DPMdkgSfUY\n",
      "1509595168126742538 2022-04-01 03:15:09 +0900 <nytimes> Twenty-one Republican state attorneys general filed a lawsuit against the Biden administration to block the federal mask mandate on public transportation. “Every U.S. citizen should have the right to fly unmasked,” Gov. Ron DeSantis of Florida said.  https://t.co/UTZdQzDPop\n",
      "1509587638969319424 2022-04-01 02:45:14 +0900 <nytimes> His small business is in Mississippi. The factories that make his products are in China. This is the story of a shipping container that tried to traverse those 8,000 miles with the global supply chain consumed by trouble.  https://t.co/0q59ImYMlf\n",
      "1509583889341288448 2022-04-01 02:30:20 +0900 <nytimes> Aunque las autoridades sanitarias de Estados Unidos esperan que la subvariante BA.2 de ómicron no origine otro gran brote, hay factores que podrían causar que una nueva ola sea más dañina. Aquí presentamos siete medidas para disminuir el riesgo.  https://t.co/TUCHD1Gkce\n",
      "1509580053025370123 2022-04-01 02:15:05 +0900 <nytimes> Russian troops, plagued by low morale and weapons shortages, have refused to carry out orders and accidentally shot down their own aircraft, Jeremy Fleming, the director of Britain’s electronic surveillance agency, said.  https://t.co/AqDNjpvcVt  https://t.co/MZc6tvgFPU\n",
      "1509576441436020748 2022-04-01 02:00:44 +0900 <nytimes> At least two people were killed and two others were injured when a severe storm destroyed homes and toppled trees in the Florida Panhandle early Thursday, officials said.  https://t.co/yzbS5dP3tc\n",
      "1509572641656655872 2022-04-01 01:45:38 +0900 <nytimes> Mari Oliver claimed in a federal lawsuit that she was harassed for opting out of reciting the Pledge of Allegiance as a high school student in Texas. Now 21, she will receive a $90,000 settlement paid by the Texas Association of School Boards.  https://t.co/yFor4moEXY\n",
      "1509568817269293061 2022-04-01 01:30:27 +0900 <nytimes> North Korea's latest missile launch violated UN resolutions and the country's self-imposed moratorium, but it also demonstrated significant technological advances.  https://t.co/DaTDgAPVIx  https://t.co/HFrK34uk82\n",
      "1509564957741957121 2022-04-01 01:15:06 +0900 <nytimes> The World Cup draw is Friday in Qatar, even though the full field won't yet be complete. While we won't know all the teams, we do know quite a bit about how the tournament will play out. Here’s a primer.  https://t.co/L0kGemPT7u\n",
      "1509563684154130441 2022-04-01 01:10:03 +0900 <nytimes> The White House confirmed a plan to release up to 180 million barrels of oil from the strategic reserve, hoping to drive energy prices down.  https://t.co/dnuDx7ehoP\n",
      "1509561481594998792 2022-04-01 01:01:18 +0900 <nytimes> Want to ask our speakers a question? Here's what you need to know.  https://t.co/XigFiOg65B\n",
      "1509561476297768960 2022-04-01 01:01:16 +0900 <nytimes> Here are the details:  https://t.co/3IemA0sl5d\n",
      "1509561469322633218 2022-04-01 01:01:15 +0900 <nytimes> Join us now: @PatcohenNYT will discuss how the Russian invasion will change oil and gas production and prices, with @LizAldermanNYT, @fbirol of the @IEA and @Dlgoldwyn. DM your questions to @nytimesevents.  https://t.co/hTFHc2x8dk\n",
      "1509555052284895240 2022-04-01 00:35:45 +0900 <nytimes> Want to ask our speakers a question? Here's what you need to know:  https://t.co/4xBVxtjfqN\n",
      "1509555047444754438 2022-04-01 00:35:44 +0900 <nytimes> Here are the details:  https://t.co/978yGVNnCW\n",
      "1509555041488752646 2022-04-01 00:35:42 +0900 <nytimes> Join us today: @patcohennyt will discuss how the Russian invasion will change oil and gas production and prices, with @LizAldermanNYT, @fbirol of the @IEA and @Dlgoldwyn. DM your questions to @nytimesevents.  https://t.co/hTFHc2x8dk\n",
      "1509553630717882377 2022-04-01 00:30:06 +0900 <nytimes> The Treasury Department on Thursday leveled new sanctions on Russian technology companies and illicit procurement networks that the country is using to evade current sanctions, expanding the Biden administration’s effort to cripple Russia's economy.  https://t.co/IrVv5qakFZ\n",
      "1509546120254562312 2022-04-01 00:00:15 +0900 <nytimes> Americans who don't conform to traditional gender roles will soon be able to denote their gender with an \"X\" on passports. The measure is part of a plan the White House announced on Thursday intended to make federal forms of identification more inclusive.  https://t.co/Schd7lsYvw\n",
      "1509541052188958721 2022-03-31 23:40:07 +0900 <nytimes> Meditation won’t solve all your problems, but it can help you approach each day with more clarity and purpose. Here are seven guided exercises that may help calm your mind, transport you to a happier place and leave you feeling energized.  https://t.co/slsIOfY4DV\n",
      "1509538590644133895 2022-03-31 23:30:20 +0900 <nytimes> Daddy Yankee ayudó llevar el reguetón a un nivel global. Pero, ¿es momento de que el músico de 43 años descanse en sus laureles? https://t.co/KtzCcRuHe1\n",
      "1509532240358875140 2022-03-31 23:05:06 +0900 <nytimes> “Russia is big enough, why does he want more land?” “Why are most crazy people men?” “Would you stay and fight for your country?”  Across Europe, schoolchildren are full of tough questions about the war in Ukraine, leaving teachers scrambling for answers.  https://t.co/e0k960BqSK\n",
      "1509531028070682707 2022-03-31 23:00:17 +0900 <nytimes> In Opinion  “Six months before an election he’s on course to lose, Mr. Bolsonaro is in a rush to use his power,” Vanessa Barbara writes. “And he seems intent on bringing death and devastation to the world.”  https://t.co/PXPkH5WChn\n",
      "1509528465006948354 2022-03-31 22:50:06 +0900 <nytimes> “Moon Knight,” a new Disney+ series starring Oscar Isaac and Ethan Hawke, follows a troubled, crime-fighting caped crusader.  Here’s what to know about the vigilante who is one of Marvel Comics’s most unusual creations.  https://t.co/nZxOpuqeXz\n",
      "1509527219533750272 2022-03-31 22:45:09 +0900 <nytimes> OPEC and its allies, including Russia, decided to stick with their previously agreed plan of modest monthly increases to oil output. The decision comes amid warnings of a major supply crunch that could have serious implications for the global economy.  https://t.co/ZOIKDYtNrR\n",
      "1509525945786552320 2022-03-31 22:40:05 +0900 <nytimes> Explicamos el diagnóstico de la condición de Bruce Willis: ¿Qué es la afasia? ¿Qué la causa? ¿Se puede prevenir?  https://t.co/O4jhYJK9ux\n",
      "1509523458262282242 2022-03-31 22:30:12 +0900 <nytimes> Rep. Madison Cawthorn’s youthful brashness once appealed to the conservative older voters of far-west North Carolina. Now the pro-Trump congressman’s bid for a second term is in jeopardy after a series of incendiary statements and personal foibles.  https://t.co/bbPugYnnhI  https://t.co/vhK7GCrhk1\n",
      "1509522185177739264 2022-03-31 22:25:09 +0900 <nytimes> Oil prices continued to fall after reports that President Biden is considering a plan to release up to 180 million barrels of oil, a move to counteract the effects on the oil market from Russia’s invasion of Ukraine.  https://t.co/uXL2NLb6DA\n",
      "1509519648831770634 2022-03-31 22:15:04 +0900 <nytimes> Myanmar’s brutal military junta, which seized power 14 months ago, is detaining 10,000 political prisoners, a rights organization said. Many detainees have been tortured and are being held in deplorable conditions, according to the group.  https://t.co/WDyWPLfO5h\n",
      "1509518652592340997 2022-03-31 22:11:06 +0900 <nytimes> Kenya’s top court rejected a bid by the country’s president to amend the Constitution. It was a major blow to a plan that could have cemented his ability to shape the country’s political future ahead of an election that will decide his successor.  https://t.co/bzlAAwZIaU\n",
      "1509515890894819341 2022-03-31 22:00:08 +0900 <nytimes> In Opinion  “I am tired of judging the Covid choices of strangers — people whose experiences I do not know,” says Miranda Featherstone, a writer and social worker, in a guest essay.  https://t.co/wWF5G43OcU\n",
      "1509512102117007373 2022-03-31 21:45:05 +0900 <nytimes> A humanitarian corridor for the residents of the besieged Ukrainian city of Mariupol could begin on Friday, the International Red Cross said, after Russia’s Defense Ministry announced a cease-fire to allow people to leave to the west.  https://t.co/dAXBalkhWy\n",
      "1509508072032645127 2022-03-31 21:29:04 +0900 <nytimes> The Kremlin dismissed U.S. intelligence showing that President Vladimir Putin has been misinformed about his military’s struggles in Ukraine, and warned that such a “complete misunderstanding” of the situation in Moscow could have “bad consequences.”  https://t.co/64ScxShPAw\n",
      "1509504579016265729 2022-03-31 21:15:11 +0900 <nytimes> Prime Minister Viktor Orban, in power for over a decade, has changed voting rules and legalized “voter tourism” ahead of Hungary’s election on Sunday. The populist leader, a hero to many U.S. conservatives, is facing an unexpectedly organized opposition.  https://t.co/zxg6VeaOAo  https://t.co/zhYv1l8Nio\n",
      "1509500806076276739 2022-03-31 21:00:11 +0900 <nytimes> Gerrymandered political districts have previously favored Republicans. But after the recent redrawing of zones, the U.S. congressional map is more evenly split.  How did things change? Listen to today’s episode of The Daily.  https://t.co/A48wuLJg9o\n",
      "1509493266680582149 2022-03-31 20:30:14 +0900 <nytimes> North Korea’s claim that it conducted its most powerful intercontinental ballistic missile test​ last week might have been a ruse involving an older missile disguised as a new one, South Korea said.  https://t.co/a9HcwcFVXc\n",
      "1509485742480932878 2022-03-31 20:00:20 +0900 <nytimes> Chris Rock used a sold-out comedy show in Boston to make his first public comments about the incident since Will Smith slapped him at the Academy Awards. “I’m still kind of processing what happened,” Rock said, briefly addressing the topic.  https://t.co/eI96pR6pPx\n",
      "1509478361701273602 2022-03-31 19:31:00 +0900 <nytimes> As the war in Ukraine grinds on, Ukrainians have been shaken by reports of saboteurs in the country who sow confusion and possibly alert the enemy to potential targets. Civilians who were already living in fear are seeing spies everywhere.  https://t.co/ra4m93C05T\n",
      "1509470611436879875 2022-03-31 19:00:13 +0900 <nytimes> Bruce Willis will step away from his decades-long movie career after being diagnosed with aphasia. Here’s what we know about the disorder, which can make it difficult or impossible to express or comprehend language.  https://t.co/wWL9uo5ecm\n",
      "1509463273548173317 2022-03-31 18:31:03 +0900 <nytimes> An Australian journalist who worked for China’s global TV network stood trial behind closed doors on Thursday. The Chinese authorities accused Cheng Lei, who was detained in 2020, of divulging state secrets but offered no specifics.  https://t.co/vSNxNThWLf\n",
      "1509455513993596936 2022-03-31 18:00:13 +0900 <nytimes> In Opinion  \"The Republican line of attack showed why it’s not easy for judges to act with proportionality when they hand down sentences that are within their discretion,\" writes Emily Bazelon, a staff writer for The New York Times Magazine.  https://t.co/ZMiJLXGkBE\n",
      "1509455509111414786 2022-03-31 18:00:12 +0900 <nytimes> The Covid surge in Hong Kong, and the aid sent from mainland China, has exposed the divide between the city and the rest of the country. Some in Hong Kong have criticized Beijing’s measures, while people on the mainland have seen such attitudes as selfish.  https://t.co/o3QJAZtNg0\n",
      "1509451449662644226 2022-03-31 17:44:04 +0900 <nytimes> Ivermectin failed as a Covid treatment, a large clinical trial found. The drug surged in popularity despite no strong evidence that it worked.  https://t.co/KmpIGlN8pK\n",
      "1509444166643769347 2022-03-31 17:15:08 +0900 <nytimes> Here’s a look at some of the highlights worth watching from late-night TV.  https://t.co/B159oegfv1\n",
      "1509440408060899330 2022-03-31 17:00:11 +0900 <nytimes> The punchline to Charo’s career is that, no matter how hard people try to peg her as “a stupid cuchi-cuchi,” as she put it, she is a virtuosic flamenco and classical guitarist with a singular talent. It's time, our critic writes, to take her seriously.  https://t.co/rVzRaOdMkJ  https://t.co/wCu5HIwCcG\n",
      "1509436847243542529 2022-03-31 16:46:03 +0900 <nytimes> A small U.S. Navy plane crashed on Wednesday evening along Virginia’s Eastern Shore, killing one crew member and injuring two others, the authorities said.  https://t.co/nTdhH1ayfz\n",
      "1509434341688061953 2022-03-31 16:36:05 +0900 <nytimes> There is no electricity or running water in Huliaipole, a town along the front lines in eastern Ukraine — just darkness and silence. Those in the town listen to the shelling, which begins before midnight, wondering: Where will the next one land?  https://t.co/kmYFkWxhyV  https://t.co/Bv8kNev4xj\n",
      "1509419240478154761 2022-03-31 15:36:05 +0900 <nytimes> No hay nada como la sensación de poder que proviene de hacer una dominada o ‘pull-up’. Pero hay quienes tienen la impresión equivocada de que son imposibles para ciertos tipos de cuerpo. La realidad es otra.  https://t.co/QIz5Jof4J4\n",
      "1509410234279899137 2022-03-31 15:00:17 +0900 <nytimes> The Abuja-Kaduna train line in Nigeria was once considered a safe route to connect the country's capital to a regional hub. A deadly attack by gunmen on Monday, which killed at least eight passengers and injured 26 others, has shattered that perception.  https://t.co/PXSRHxix6d\n",
      "1509400108043014144 2022-03-31 14:20:03 +0900 <nytimes> Christopher Alexander, 85, championed indigenous structures and sought a formula for coziness, becoming a fierce anti-modernist, counterculture hero to many, like software designers and Prince Charles. He died on March 17.  https://t.co/MJR4crONt7\n",
      "1509395117005807617 2022-03-31 14:00:13 +0900 <nytimes> People who grow up in gridlike cities like New York seem to struggle to navigate as easily as those who come from rural areas or intricate cities, researchers reported. The findings one day may lead to better tests for early dementia.  https://t.co/JU2q6oA7la\n",
      "1509387540087943173 2022-03-31 13:30:07 +0900 <nytimes> Female patients and people of color are more likely to have their symptoms dismissed by medical providers, studies show. New York Times readers shared their experiences with what many refer to as \"medical gaslighting.\" Read more:  https://t.co/pRYtpDlLvv  https://t.co/nnOANgJDZZ\n",
      "1509382488921157632 2022-03-31 13:10:02 +0900 <nytimes> Is “CODA,” the best picture Oscar winner, a breakthrough for deaf people or a frustrating look at deafness from the hearing point of view? Both, say some deaf critics of the film.  https://t.co/niwkSrY3Bj\n",
      "1509377472109944836 2022-03-31 12:50:06 +0900 <nytimes> The CDC ended on Wednesday the tiered system that it has used for two years to publicly rate the pandemic risk of taking a cruise.  https://t.co/AwEJFIv4WV\n",
      "1509374952306315269 2022-03-31 12:40:06 +0900 <nytimes> The punchline to Charo’s career is that, no matter how hard people try to peg her as “a stupid cuchi-cuchi,” as she put it, she is a virtuosic flamenco and classical guitarist with a singular talent. It's time, our critic writes, to take her seriously.  https://t.co/zn8YM2av4c\n",
      "1509372468854677514 2022-03-31 12:30:14 +0900 <nytimes> In Opinion  After Tommy Munsdwell Canady released \"I’m Out Here,\" a SWAT team stormed his home with a \"no knock\" search warrant, writes Jaeah Lee, a contributing writer at @nytmag. \"He was charged with first-degree intentional homicide and armed robbery.\"  https://t.co/Nm0QpZkHp7\n",
      "1509367646059479046 2022-03-31 12:11:04 +0900 <nytimes> The U.S. men’s soccer team is back in the World Cup after failing to qualify for the last tournament and revitalizing the program.  https://t.co/E1SnpwsuM4\n",
      "1509364892532416519 2022-03-31 12:00:07 +0900 <nytimes> Chris Rock used a sold-out comedy show in Boston to make his first public comments about the incident since Will Smith slapped him at the Academy Awards. “I’m still kind of processing what happened,” Rock said, briefly addressing the topic.  https://t.co/OwTOdAolEK\n",
      "1509359850404421638 2022-03-31 11:40:05 +0900 <nytimes> Astronomers announced on Wednesday the discovery of the farthest and oldest star ever seen. Its light twinkled some 900 million years after the Big Bang, astronomers say. That means the light from the star traveled 12.9 billion light-years to reach Earth.  https://t.co/AOKgHAYd4F\n",
      "1509357335801737221 2022-03-31 11:30:06 +0900 <nytimes> Not only have the Russian forces struggled with low morale and weapons shortages, but they have also accidentally shot down their own aircraft and have refused to carry out orders, one of Britain’s spy chiefs said in a speech on Thursday in Australia.  https://t.co/52EPHeMH2f\n",
      "1509354822503481346 2022-03-31 11:20:06 +0900 <nytimes> State lawmakers are weighing whether to fast-track a move to allow three new casinos in the New York City area, as part of this year’s budget negotiations, sparking a creative ferment among real estate developers and casino operators.  https://t.co/XsEZk0qQNK\n",
      "1509349800642330626 2022-03-31 11:00:09 +0900 <nytimes> A Connecticut judge, exasperated by Alex Jones’s “bad faith” failure to sit for a deposition in a lawsuit brought by the families of Sandy Hook shooting victims, ruled on Wednesday that he would be subject to escalating daily fines for future delays.  https://t.co/7hwu44kcgX\n",
      "1509347273435717694 2022-03-31 10:50:06 +0900 <nytimes> Breaking News: As gas prices rise, President Biden is said to be considering releasing a million barrels of oil a day from U.S. reserves, for up to 180 days.  https://t.co/bsImaibsOP\n",
      "1509344748150136839 2022-03-31 10:40:04 +0900 <nytimes> Federal prosecutors are said to have substantially widened their Jan. 6 investigation to examine the possible culpability of a broad range of figures involved in Donald Trump’s efforts to overturn the results of the 2020 election.  https://t.co/NBYXzwBwKS\n",
      "1509342271841480704 2022-03-31 10:30:14 +0900 <nytimes> Nine people who blocked access to an abortion clinic in Washington in October 2020 have been charged with federal civil rights offenses, prosecutors said on Wednesday.  https://t.co/FhIsLKlLLN\n",
      "1509337192329580550 2022-03-31 10:10:03 +0900 <nytimes> At least seven people were injured, two critically, when a tornado touched down in northwestern Arkansas early Wednesday morning, damaging buildings, knocking out power and displacing residents, officials said.  https://t.co/23uot1Lk2s  https://t.co/VzU1VbfxrT\n",
      "1509334701722456070 2022-03-31 10:00:09 +0900 <nytimes> Anna Netrebeko, the Russian soprano, sought to distance herself from President Vladimir Putin on Wednesday, saying they had only met a few times. After Russia invaded Ukraine, her international career fell apart because of her past support of Putin.  https://t.co/Tz4FFBJKBS\n",
      "1509329659116363783 2022-03-31 09:40:07 +0900 <nytimes> New York City cleared 239 homeless encampments in 12 days, Mayor Eric Adams said. But only five people at those sites agreed to go to shelters, a sign that most of them may remain outdoors and many were likely to rebuild their makeshift camps.  https://t.co/zgYnC0av1F\n",
      "1509327130148192260 2022-03-31 09:30:04 +0900 <nytimes> John Kirby, the Pentagon spokesman, said the Defense Department believed that President Vladimir Putin of Russia had not been given an accurate account of his army’s failures in Ukraine.  https://t.co/0sW6fHyk0S  https://t.co/wkD7UHEbf2\n",
      "1509322090817761283 2022-03-31 09:10:02 +0900 <nytimes> The Republican-controlled legislature in Kentucky passed sweeping legislation this week that would make abortion illegal after 15 weeks of pregnancy and grant no exemptions in cases of rape or incest.  https://t.co/JFPbezxOn4\n",
      "1509319620456497159 2022-03-31 09:00:13 +0900 <nytimes> The Academy of Motion Picture Arts and Sciences said Wednesday that Will Smith was asked to leave the Oscars ceremony after slapping Chris Rock, and said that it was initiating disciplinary proceedings.  https://t.co/5wh9Ywgbn2  https://t.co/vAdkXXZaRp\n",
      "1509314539577384962 2022-03-31 08:40:02 +0900 <nytimes> Although U.S. health officials say they are hopeful the Omicron subvariant BA.2 won’t cause another major surge, there are variables that could make a new wave more damaging. Here are seven steps to lower your risk.  https://t.co/lHD4c3ceLb\n",
      "1509309525320519681 2022-03-31 08:20:07 +0900 <nytimes> The U.S. and Europe want to buy less Russian energy. Would that mean more solar and wind? Higher prices? @patcohennyt discusses with @ckrausss, @fbirol of @iea and @dlgoldwyn. DM questions to @nytimesevents.  https://t.co/hTFHc2x8dk\n",
      "1509304504340123654 2022-03-31 08:00:10 +0900 <nytimes> People who grow up in gridlike cities like New York seem to struggle to navigate as easily as those who come from rural areas or intricate cities, researchers reported. The findings one day may lead to better tests for early dementia.  https://t.co/Eqg5idfCdu  https://t.co/sB3nS8drZz\n",
      "1509301852399185922 2022-03-31 07:49:37 +0900 <nytimes> Breaking News: Will Smith refused to leave the Oscars after he slapped Chris Rock, the academy said, adding that it had initiated disciplinary proceedings.  https://t.co/hjgLV16PPb\n",
      "1509299459796221953 2022-03-31 07:40:07 +0900 <nytimes> The punchline to Charo’s career is that, no matter how hard people try to peg her as “a stupid cuchi-cuchi,” as she put it, she is a virtuosic flamenco and classical guitarist with a singular talent. It's time, our critic writes, to take her seriously.  https://t.co/CZZPwqSLzZ  https://t.co/OWr3sN4Yc8\n",
      "1509294421891764229 2022-03-31 07:20:06 +0900 <nytimes> In “Station Eleven,” Emily St. John Mandel explored the aftermath of a pandemic. In “Sea of Tranquility,”  she offers one of her finest novels and one of her most satisfying forays into the arena of speculative fiction yet, Laird Hunt writes.  https://t.co/RcYSX1jRLT\n",
      "1509289407936929799 2022-03-31 07:00:10 +0900 <nytimes> Bruce Willis will step away from his decades-long movie career after being diagnosed with aphasia. Here’s what we know about the disorder, which can make it difficult or impossible to express or comprehend language.  https://t.co/ZSrozHTo9I\n",
      "1509286859599486985 2022-03-31 06:50:03 +0900 <nytimes> K-pop star Luna will be making her Broadway debut this fall as the lead of “KPOP,” a high-energy multimedia show about Korean pop phenomena.  https://t.co/dMM6T8fzVr\n",
      "1509284369034358784 2022-03-31 06:40:09 +0900 <nytimes> Ivermectin failed as a Covid treatment, a large clinical trial found. The drug surged in popularity despite no strong evidence that it worked.  https://t.co/AwfQkXCLkv  https://t.co/i5oMpW0rR4\n",
      "1509281837075603461 2022-03-31 06:30:05 +0900 <nytimes> Russian forces are moving away from Ukraine’s capital, Kyiv, and the nearby town of Chernihiv, a senior Ukrainian official said Wednesday, with some relocating to the eastern provinces of Kharkiv and Donetsk.  https://t.co/uQMxXTkahs\n",
      "1509279313421500416 2022-03-31 06:20:04 +0900 <nytimes> After Russia annexed Crimea, Spirit of America sent medical kits to the Ukrainian military and helped U.S. programs fight Russian propaganda. Now, the nonprofit is focused on sending basic, nonlethal military supplies into Ukraine quickly.  https://t.co/dOs2wZxQuS\n",
      "1509276796507803651 2022-03-31 06:10:03 +0900 <nytimes> Intense strikes continued overnight Wednesday on the northern Ukrainian city of Chernihiv, the region’s governor said, hours after Russia vowed to sharply reduce its combat in that area and around the capital, Kyiv.  https://t.co/t5mKkTqcCu  https://t.co/FGskg5gQKz\n",
      "1509275585209589769 2022-03-31 06:05:15 +0900 <nytimes> Breaking News: Ivermectin failed as a Covid treatment, a large clinical trial found. The drug surged in popularity despite no strong evidence that it worked.  https://t.co/mvTqgZ5DR8\n",
      "1509266768954638346 2022-03-31 05:30:13 +0900 <nytimes> While many in the West, including President Biden, view Vladimir Putin as a war criminal, he is popular in nations like Serbia that feel resentment and grievance against the West.  https://t.co/DbCb69PT0E\n",
      "1509264228468805634 2022-03-31 05:20:07 +0900 <nytimes> Dozens of medical workers and patients have been killed in more than 80 attacks since Russia invaded Ukraine, the WHO said at a news conference on Wednesday.  https://t.co/DZjEkZaUvH\n",
      "1509261686003404808 2022-03-31 05:10:01 +0900 <nytimes> Verizon blamed \"bad actors\" on Wednesday for thousands of spam text messages received by its customers. The company said it was working with federal law enforcement to try to identify the source, but said it didn't appear Russian hackers were to blame.  https://t.co/BdwPUUuq24\n",
      "1509256661743153176 2022-03-31 04:50:03 +0900 <nytimes> As Russia pledges to scale back operations in Ukraine’s capital, Kyiv, soldiers from the 112th Brigade of Ukraine’s Territorial Defense Forces are still preparing for the worst. Our cameras went inside their makeshift base.  Watch the full video:  https://t.co/CvV29EZwIQ  https://t.co/bFd8tfVZ0u\n",
      "1509254171270258709 2022-03-31 04:40:09 +0900 <nytimes> Officials from OPEC and Russia are likely to do little more than announce their usual modest monthly production increases when they meet on Thursday, leading to questions about how much oil the group really does have in the tank.  https://t.co/CeMFmweO5T\n",
      "1509251630692290561 2022-03-31 04:30:03 +0900 <nytimes> A Minnesota woman must pay back $120,000 that she raised online in honor of Philando Castile after she was accused of failing to use the money for what she claimed it would support: paying off students’ lunch debt.  https://t.co/cZtMMeT9PL\n",
      "1509247054043881485 2022-03-31 04:11:52 +0900 <nytimes> Breaking News: President Vladimir Putin’s advisers misinformed him about the Russian military’s struggles in Ukraine, according to U.S. intelligence.  https://t.co/P0CO1ykPJC\n",
      "1509244091430846470 2022-03-31 04:00:06 +0900 <nytimes> The House Democrats’ main political action committee is spending nearly $102 million to reserve advertising spots in dozens of media markets, from Bangor, Maine, to San Diego, staking out a broad battlefield for the coming midterm elections.  https://t.co/gedkQRVspu\n",
      "1509241579063726088 2022-03-31 03:50:07 +0900 <nytimes> As Americans shed masks, local and state officials are scaling back public health efforts to address Covid. But some experts question the move, as a more transmissible version of the Omicron variant, known as BA.2, spreads through Europe, Asia and the U.S.  https://t.co/vEIO11oPVS  https://t.co/re5HBsnvvy\n",
      "1509239052930850824 2022-03-31 03:40:05 +0900 <nytimes> Bruce Willis will step away from acting after being diagnosed with aphasia, a disorder that affects a person’s ability to understand or express speech, his ex-wife, Demi Moore, said.  https://t.co/YeGFeWfR3q  https://t.co/BFPEtCFXg7\n",
      "1509237040453459973 2022-03-31 03:32:05 +0900 <nytimes> Breaking News: The U.S. plans to lift a pandemic-era order that has restricted immigration at the nation’s land borders, people familiar with the plan said.  https://t.co/YKjXxHC6Q6\n",
      "1509236561593909259 2022-03-31 03:30:11 +0900 <nytimes> Canada’s former top military commander pleaded guilty to obstruction of justice on Wednesday in connection with a military police investigation into allegations that he engaged in sexual misconduct while leading the country’s military.  https://t.co/Sx9tjF0C3z\n",
      "1509231509319864326 2022-03-31 03:10:06 +0900 <nytimes> In a journey that would fit into a Pixar movie script, a flamingo that fled a Kansas zoo in 2005 has been spotted — in South Texas. No. 492, estimated to be about 20 years old, had faced long odds for survival when it escaped.  https://t.co/zXXwZsUzej\n",
      "1509229027231416329 2022-03-31 03:00:14 +0900 <nytimes> LGBTQ romance novels have been around for decades, but they were almost entirely self-published or put out by small niche presses and often shelved separately from other romances in stores. Now, they are coming from the biggest publishers in the industry.  https://t.co/C5aiGjBynO  https://t.co/eTu36xXaaB\n",
      "1509227478878933000 2022-03-31 02:54:05 +0900 <nytimes> Breaking News: Bruce Willis will step away from acting after being diagnosed with aphasia, a disorder that affects a person’s ability to understand or express speech, his ex-wife, Demi Moore, said.  https://t.co/G48ibMU5ZV\n",
      "1509226472057319425 2022-03-31 02:50:05 +0900 <nytimes> A line of strong thunderstorms damaged buildings and disrupted power service across northwestern Arkansas on Wednesday and was expected to continue to race across the South, bringing gusty winds and possible tornadoes.  https://t.co/lAmsD4mKn9\n",
      "1509223973170597897 2022-03-31 02:40:09 +0900 <nytimes> President Biden is using a speech at the White House to step up the pressure on Congress to approve billions of dollars in emergency coronavirus relief aid. He will receive a second booster shot against Covid after his remarks.   Watch live:  https://t.co/cTpsKngT1Z\n",
      "1509221489958084611 2022-03-31 02:30:17 +0900 <nytimes> Many companies are replacing the plastic rings used in six-packs of beer and soda with alternative materials in a bid to cut plastic waste. While the change can be a step toward sustainability, some experts say more plastic needs to be recycled and remade.  https://t.co/ceQFrwU4em  https://t.co/9IWxG83xfW\n",
      "1509218941276672011 2022-03-31 02:20:10 +0900 <nytimes> Civilians in Ukraine are trying to protect the country’s memorials and monuments. On Wednesday, volunteers worked to shield a statue of Princess Olga of Kyiv, a regent of Kievan Rus, a medieval empire founded by Vikings in the ninth century.  https://t.co/SSnme6ErYg  https://t.co/4kIikZhjbL\n",
      "1509216515412967425 2022-03-31 02:10:31 +0900 <nytimes> President Biden will receive a Pfizer shot as his second booster on Wednesday after making remarks, scheduled for 1:30 p.m. Eastern, about the status of the fight against the coronavirus, in which he is expected to highlight a new website.  https://t.co/j5txg9bfeQ\n",
      "1509213924457123845 2022-03-31 02:00:14 +0900 <nytimes> Russia’s lead negotiator said on Wednesday that peace talks with Ukraine appeared to be on the verge of a breakthrough, even as other officials voiced skepticism — mixed messages that underscored the lack of clarity over Putin’s goals in the invasion.  https://t.co/9nNEJ5pLY9\n",
      "1509211625961795584 2022-03-31 01:51:06 +0900 <nytimes> President Volodymyr Zelensky said on Twitter that he and President Biden spoke for an hour on Wednesday. He said they “talked about specific defensive support, a new package of enhanced sanctions, macro-financial and humanitarian aid.”  Live updates:  https://t.co/trjQLCUp5S\n",
      "1509210175084929028 2022-03-31 01:45:20 +0900 <nytimes> Many states and cities are closing coronavirus testing and vaccination sites. But experts worry that a new uptick in cases may loom.  https://t.co/j8qvCei8o9\n",
      "1509206334952116235 2022-03-31 01:30:04 +0900 <nytimes> Female patients and people of color are more likely to have their symptoms dismissed by medical providers, studies show. New York Times readers shared their experiences with what many refer to as \"medical gaslighting.\" Read more:  https://t.co/TwJPrC0k0s  https://t.co/7o2g0yHgRQ\n",
      "1509202560376320005 2022-03-31 01:15:04 +0900 <nytimes> Six people were killed and two dozen others were injured in an 80-vehicle pileup on an Interstate highway in Pennsylvania this week that began when a snow squall blinded drivers, the authorities said on Wednesday.  https://t.co/Kb9PYCnGIF\n",
      "1509198830192971791 2022-03-31 01:00:15 +0900 <nytimes> Ukrainians fleeing war remain vulnerable when arriving in Germany, the authorities in Berlin have warned, saying that thieves have been targeting the refugees — mostly women and children — at Berlin’s main train station and bus depot.  https://t.co/MnsXgvqbNS\n",
      "1509195025011380228 2022-03-31 00:45:08 +0900 <nytimes> After two years of the pandemic upending life, some employers are trying to restore an old status quo. Some worry that people aren’t prepared for the emotional transition awaiting a work force already on edge.  https://t.co/dBs7tuDsbS\n",
      "1509191281599291395 2022-03-31 00:30:15 +0900 <nytimes> \"The white shows got to just be white, but a lot of the shows with people of color were about the color of the people and not about stories of the people.\"   Quinta Brunson talks to @NYTmag about her breakout sitcom, \"Abbott Elementary.\"  https://t.co/GXy7IwJ8mx\n",
      "1509187471065632779 2022-03-31 00:15:07 +0900 <nytimes> New satellite imagery shows hundreds of people lining up outside a supermarket in the southern Ukrainian city of Mariupol on Tuesday. The city has been under siege for weeks and is suffering from severe food and water shortages.  https://t.co/uGEOuuy7E1  https://t.co/Sj3qoyuaNJ\n",
      "1509183688109613063 2022-03-31 00:00:05 +0900 <nytimes> The latest in Ukraine: Continuing attacks signaled that Russia was in no hurry to end its war despite claims that it would de-escalate after peace talks on Tuesday. At least two million children have now fled.  Live updates:  https://t.co/cUmYnOcNeU  https://t.co/1ZaSdP8Oyn\n",
      "1509179927760883721 2022-03-30 23:45:08 +0900 <nytimes> Mark Vande Hei, a NASA astronaut, returned to Earth with two Russian counterparts, landing in Kazakhstan. The men return from the International Space Station, where collaboration between the U.S. and Russia continues despite the invasion of Ukraine.  https://t.co/hSoPgsT0Tw\n",
      "1509175635641606146 2022-03-30 23:28:05 +0900 <nytimes> The Saudi-led coalition fighting Houthi rebels in Yemen began a unilateral cease-fire, saying it hoped to pave the way toward ending a seven-year war that has caused a humanitarian crisis. But further progress toward an end to the conflict is uncertain.  https://t.co/MpoGEF8dPO\n",
      "1509171615283793924 2022-03-30 23:12:06 +0900 <nytimes> New satellite images show hundreds of people lining up outside a supermarket in the Ukrainian city of Mariupol, which has been under siege by Russian forces for weeks and is suffering from severe food and water shortages.  https://t.co/JMzNkNhim8\n",
      "1509170099034501128 2022-03-30 23:06:05 +0900 <nytimes> Many companies are replacing the plastic rings used in six-packs of beer and soda with alternative materials in a bid to cut plastic waste. While the change can be a step toward sustainability, some experts say more plastic needs to be recycled and remade.  https://t.co/FCuwtkIecj\n",
      "1509168706152243205 2022-03-30 23:00:33 +0900 <nytimes> Debido a lagunas legales y a un mosaico de investigaciones convincentes, empresas como Nushama en Nueva York están escribiendo sobre la marcha las reglas de los tratamientos de bienestar con psicodélicos.  https://t.co/ncYfNhzkVG\n",
      "1509164813578125313 2022-03-30 22:45:05 +0900 <nytimes> Workers at Britain’s only operable fracking site were set to start sealing it off this month. But Russia’s invasion of Ukraine, and the resulting disruption to energy markets, has given it a potential reprieve, reigniting debates over shale gas extraction.  https://t.co/lOtC54jOAZ\n",
      "1509162303048097792 2022-03-30 22:35:06 +0900 <nytimes> Germany began preparing for eventual shortages of natural gas, amid concerns that Russia could cut off supplies unless payments are made in rubles.  The government activated the first step of a plan that could, eventually, lead to rationing of natural gas.  https://t.co/g6ngkXR8He\n",
      "1509160798085656577 2022-03-30 22:29:07 +0900 <nytimes> In Opinion  “The conventional wisdom is that Vladimir Putin catastrophically miscalculated,” Bret Stephens writes of the war in Ukraine. “But what if the conventional wisdom is wrong? What if the West is only playing into Putin’s hands once again?”  https://t.co/eyDFeYTv9Q\n",
      "1509157323910139908 2022-03-30 22:15:19 +0900 <nytimes> Fleeing Myanmar’s brutal military junta, thousands of young city dwellers have taken up arms to fight for democracy. At a rainforest camp, one new militia is facing near-daily battles.  “We believe in freedom,” said a midwife who joined the resistance.  https://t.co/S7ngQNjavs  https://t.co/wUWwoZvoPL\n",
      "1509154504041762817 2022-03-30 22:04:07 +0900 <nytimes> Two top British judges are stepping down from their roles on Hong Kong’s highest court because the administration of the territory had “departed from values of political freedom and freedom of expression,” the president of Britain’s Supreme Court said.  https://t.co/ke2M87kECL\n",
      "1509153539947474952 2022-03-30 22:00:17 +0900 <nytimes> As some international visitors return to New York, a main driver of the city’s prepandemic tourism boom is missing: big spenders from China, who are stilled barred from traveling abroad.  https://t.co/MGhu1iiw69\n",
      "1509149971148378121 2022-03-30 21:46:06 +0900 <nytimes> The UN set up a commission of inquiry to investigate international crimes, including possible war crimes and crimes against humanity in the context of Russia’s “aggression against Ukraine.”  Follow our updates on Ukraine.  https://t.co/s2r176Wvqt\n",
      "1509145997007634438 2022-03-30 21:30:18 +0900 <nytimes> In the late 1970s, Jack Dongarra helped to create code and concepts that allowed software to keep pace with the hardware inside the world’s most powerful machines.  Now, at 71, he was awarded the Turing Award, often called the Nobel Prize of computing.  https://t.co/18vn5s2GZu\n",
      "1509140393077710859 2022-03-30 21:08:02 +0900 <nytimes> Breaking News: Senator Susan Collins of Maine plans to vote to confirm Judge Ketanji Brown Jackson to the Supreme Court, the first Republican to back her.  https://t.co/c2Ih1mEZqP\n",
      "1509139647082942474 2022-03-30 21:05:04 +0900 <nytimes> A mural celebrating a Muslim commander who led Indian troops against the British army was sold at auction. In India, his legacy is complicated, with the governing party, which has embraced Hindu nationalist rhetoric, downplaying his achievements.  https://t.co/3u1x3mf7OA\n",
      "1509138427048075268 2022-03-30 21:00:14 +0900 <nytimes> Intense strikes continued overnight Wednesday on the Ukrainian city of Chernihiv, the region’s governor said, hours after Russia vowed to sharply reduce its combat in that area and around the capital, Kyiv.  https://t.co/iQ2cwmpWgg\n",
      "1509137422344466443 2022-03-30 20:56:14 +0900 <nytimes> The U.S. and Europe want the world to rely less on oil from Russia, one of the biggest producers. But it won't be easy. Hear @patcohennyt discuss with @ckrausss, @fbirol of the @iea and @dlgoldwyn, a former U.S. official. DM questions to @nytimesevents.  https://t.co/Ni7PztShHF\n",
      "1509134627910426632 2022-03-30 20:45:08 +0900 <nytimes> The four members of a French family who were found dead at the bottom of an apartment building in Switzerland last week appear to have jumped off a balcony, “one after the other,” the Swiss police said.  https://t.co/pdwD2c9mac\n",
      "1509131341232807940 2022-03-30 20:32:04 +0900 <nytimes> Meta, which owns Facebook and Instagram, has repeatedly changed its rules on what it will allow users to post on the war in Ukraine. The shifts have caused confusion among moderators who patrol the sites for gore, hate speech and incitements to violence.  https://t.co/GtiUSslCVJ\n",
      "1509127063906697224 2022-03-30 20:15:04 +0900 <nytimes> Supreme Court Justice Clarence Thomas and his wife, Ginni Thomas, have battled for years to make the U.S. more conservative.  How did they come to be at the heart of the conservative movement? Listen to today’s episode of The Daily.  https://t.co/0kFegccHkb\n",
      "1509123285333729283 2022-03-30 20:00:04 +0900 <nytimes> Valentin Silvestrov, Ukraine’s best-known living composer, fled to Germany as Russia’s attacks on Ukraine intensified. Now he has become a musical spokesman for his country, as his subtle, consoling music is played around the world.  https://t.co/abi4JPGZqc\n",
      "1509111976693227525 2022-03-30 19:15:07 +0900 <nytimes> President Biden on Tuesday signed a bill making lynching a federal crime, ending more than 100 years of failed efforts by the federal government to specifically outlaw the act.  https://t.co/8OlhpCiLCn\n",
      "1509109956477431812 2022-03-30 19:07:06 +0900 <nytimes> News Analysis: “As international outrage over Russia’s invasion of Ukraine boiled over, foreign ministers and envoys filed in to New Delhi, hoping to pull India off the fence and into clearer condemnation of Russia, its longtime ally,” @MujMash writes.  https://t.co/CNhRsClKQk\n",
      "1509106092101574657 2022-03-30 18:51:44 +0900 <nytimes> The first signs of major progress in the Russia-Ukraine peace talks came on Tuesday, but there was no hint of an imminent end to the war, with Russia seeming determined to take more territory and officials predicting further weeks of negotiation.  https://t.co/Lgx1z6skm3\n",
      "1509100661115437063 2022-03-30 18:30:10 +0900 <nytimes> Roman Abramovich, the sanctioned Russian oligarch who has played a quiet role at Ukraine-Russia talks, appears to be trying to present himself as a trusted conduit between Kyiv and Moscow. Critics say he is grandstanding in a bid to save his empire.  https://t.co/DPaM8rw3Mc\n",
      "1509097119721959426 2022-03-30 18:16:05 +0900 <nytimes> Israel security forces bolstered their presence across the country and the occupied territories on Wednesday, the morning after a Palestinian gunman killed five people in the fifth attack in less than two weeks.  https://t.co/RgNU8WzYgN\n",
      "1509093133279236099 2022-03-30 18:00:15 +0900 <nytimes> News Analysis: Progress in peace talks “doesn’t mean that Russia is ready for serious discussions on ending the war,” @StevenErlanger writes. “That would require a better outcome for President Vladimir V. Putin of Russia to sell at home as a victory.”  https://t.co/K8gclYjG4D\n",
      "1509089059397939200 2022-03-30 17:44:03 +0900 <nytimes> As Russia pledges to scale back operations in Kyiv, soldiers from the 112th Brigade of Ukraine’s Territorial Defense are still preparing for the worst. Our cameras went inside their makeshift base.  https://t.co/eU5e12tnn5\n",
      "1509085554809487360 2022-03-30 17:30:08 +0900 <nytimes> Hong Kong is scrambling to import more coffins as it struggles to handle the surge in Covid deaths during the latest wave of the pandemic. The number of bodies at public mortuaries has risen “exponentially,” Carrie Lam, the city's chief executive, said.  https://t.co/MrKXGSlcJb\n",
      "1509083027766456322 2022-03-30 17:20:05 +0900 <nytimes> Belgium, the Netherlands, Ireland and the Czech Republic announced that they were expelling a total of 43 Russian envoys, in what the Dutch authorities said was a coordinated effort to counter Russian espionage.  https://t.co/OxAcREs9Tk\n",
      "1509081769672421377 2022-03-30 17:15:05 +0900 <nytimes> The head of the UN’s food agency warned that the war in Ukraine was creating a crisis affecting local agriculture and global food supplies “beyond anything we’ve seen since World War II.”  It is “a catastrophe on top of a catastrophe,” he said.  https://t.co/KGMa8pIhju\n",
      "1509078491408523269 2022-03-30 17:02:04 +0900 <nytimes> Here’s a look at some of the highlights worth watching from late-night TV.  https://t.co/dAvU0vEKxX\n",
      "1509070457135419399 2022-03-30 16:30:08 +0900 <nytimes> \"Qatayef are this ritual that brings everyone in the community together.\"  What really sets qatayef apart from other desserts is the fact that they are a treat usually reserved for Ramadan, which begins this week, and are a sign the holy month has arrived.  https://t.co/hqITFfyAYU\n",
      "1509055351290740736 2022-03-30 15:30:07 +0900 <nytimes> Aquí hay una guía de las armas y tácticas bélicas empleadas en el terreno tanto por Rusia como por Ucrania.  https://t.co/KGBMjRMQne\n",
      "1509040255923625988 2022-03-30 14:30:08 +0900 <nytimes> Burnt out vehicles sit in a compound, as Ukrainian fighters of the Odin Unit advance forward, retaking, for now, the town of Irpin. The success of Ukraine’s forces shows the steep challenges Russia faces in trying to capture Kyiv, the capital.  https://t.co/U6WTG10u2E  https://t.co/SNIQ32Fod3\n",
      "1509032681992040448 2022-03-30 14:00:02 +0900 <nytimes> The FDA on Tuesday authorized second booster shots of the Pfizer-BioNTech and Moderna coronavirus vaccines for older Americans and those with certain immune deficiencies.  https://t.co/pVWHmlLhwI\n",
      "1509025157364465667 2022-03-30 13:30:08 +0900 <nytimes> The race to replace Representative Don Young of Alaska, who died last week, promises to be a Yukon adventure. It’s also a fascinating political experiment in the making.  https://t.co/jITQvzJReA\n",
      "1509017617423609856 2022-03-30 13:00:10 +0900 <nytimes> “While I am grateful for an ever-deepening pool of queer love stories, watching them in adulthood does not sate the deep thirst for direct experience I felt in my youth.” Listen to the Modern Love Podcast.  https://t.co/2QY15ruKdz\n",
      "1509013817119944709 2022-03-30 12:45:04 +0900 <nytimes> Joan Joyce was widely considered the most dominant player in the history of women’s fast-pitch softball. Her feats — including striking out Ted Williams — were legend. She has died at age 81.  https://t.co/Tu1ULxkst0\n",
      "1509010048927899651 2022-03-30 12:30:06 +0900 <nytimes> El universo cripto es muchas cosas y con frecuencia está terriblemente mal explicado. Estamos aquí para aclarar las cosas.  https://t.co/uIv4uTOQGw\n",
      "1509006277078401027 2022-03-30 12:15:07 +0900 <nytimes> Schools are already using artificial intelligence to assist students with autism and dyslexia and address accessibility for those who are blind or deaf — with more in the research phase.  https://t.co/KkXPTeb1yF\n",
      "1509002543669596167 2022-03-30 12:00:16 +0900 <nytimes> Crossings at the southwest U.S. border have been peaking again, and American officials are bracing for those numbers to rise much higher if the Biden administration decides to lift a public health order that has limited immigration during the pandemic.  https://t.co/9dUDliI87H\n",
      "1508998718518878212 2022-03-30 11:45:04 +0900 <nytimes> Many people started small businesses out of their homes in New York City public housing. A new report says the city needs more to support them, at a time when jobs lost to the pandemic may take years to return.  https://t.co/jFPUuePEIk\n",
      "1508994945553772545 2022-03-30 11:30:05 +0900 <nytimes> As Russia pledges to scale back operations in Kyiv, soldiers from the 112th Brigade of Ukraine’s Territorial Defense are still preparing for the worst. Our cameras went inside their makeshift base.  https://t.co/PFW1GrtebN\n",
      "1508992431282401289 2022-03-30 11:20:05 +0900 <nytimes> An eruption of gunfire in a crowd of roughly 1,500 people at the Hood-Nic festival in Dumas, Arkansas, on March 19 resulted in the largest mass shooting in the U.S. this year, leaving one man dead and 26 other people wounded, including five children.  https://t.co/2l64ubWZ6n\n",
      "1508989915102695424 2022-03-30 11:10:06 +0900 <nytimes> A ruling declared Donald Trump “likely” committed felonies related to his efforts to overturn the results of the 2020 election. But that may not mean he will be prosecuted. Here’s why.  https://t.co/aQNUgQo0rE\n",
      "1508987418699083785 2022-03-30 11:00:10 +0900 <nytimes> Republicans are pressing to increase their dominance on congressional maps. In Florida, Gov. Ron DeSantis vetoed a map drawn by his fellow Republicans in the Legislature. In Ohio, Republicans closed in on a GOP-friendly map for the midterm elections.  https://t.co/y4jJbAON5q\n",
      "1508984868948041729 2022-03-30 10:50:02 +0900 <nytimes> Gov. Kathy Hochul has proposed in her budget to alter New York State's bail laws so as to expand judicial discretion and increase the number of crimes eligible for bail. The issue has consumed political conversation. Here is a look at some key questions.  https://t.co/O7roRxUSGF\n",
      "1508982357306621953 2022-03-30 10:40:04 +0900 <nytimes> The prevalence of pro-Russia Twitter accounts claiming to be from Indian users indicates that India’s social media landscape has become an important destination in the effort to influence public opinion of the war in Ukraine.  https://t.co/yDnqpLUc3a  https://t.co/kuYBe3zfWh\n",
      "1508979845128232967 2022-03-30 10:30:05 +0900 <nytimes> In Opinion  \"Over the last two years, the U.S. has made extraordinary progress in the fight against Covid-19,\" write Vivek Murthy and David Kessler. \"That progress is now threatened by Congress's failure to fund the continuing Covid-19 response effort.\"  https://t.co/2Vilr9qSj5\n",
      "1508977326146695170 2022-03-30 10:20:04 +0900 <nytimes> Only a small number of Russian forces have pulled back from positions near Kyiv and Moscow may be only “repositioning” its troops before launching renewed attacks in Ukraine, the Pentagon warned on Tuesday.  https://t.co/ao2OiZrlBk  https://t.co/YVQX3g5Oif\n",
      "1508974808012402688 2022-03-30 10:10:04 +0900 <nytimes> The U.S. and Russia still cooperate in space: A NASA astronaut is returning to Earth in a Russian spacecraft.  https://t.co/ykhdt8zqkY\n",
      "1508972341103013897 2022-03-30 10:00:16 +0900 <nytimes> Russian forces used hunger as a weapon of war in a monthlong siege of Mariupol, Ukraine. “No roof, no food and no water,” survivors texted relatives who escaped.  https://t.co/xrm1Ys5pI2  https://t.co/cfnCjcu7Cp\n",
      "1508968516288147457 2022-03-30 09:45:04 +0900 <nytimes> New details from White House documents provided to the House panel investigating the Capitol attack on Jan. 6, 2021, show a 7-hour gap in records of calls made by Donald Trump on the day of the riot.  https://t.co/hXWt9y3Wf9\n",
      "1508964773530062850 2022-03-30 09:30:11 +0900 <nytimes> Oregon will no longer require terminally ill people seeking to end their lives with doctor-prescribed lethal drugs to be residents of the state, according to the settlement of a federal lawsuit that had claimed the requirement was unconstitutional.  https://t.co/lAqL1QqZfP\n",
      "1508961134589657097 2022-03-30 09:15:44 +0900 <nytimes> \"The source of Sunday night’s disruption is the winner of 10 individual Nickelodeon Kid’s Choice Awards,\" our critic writes about Will Smith. \"And the shock was its disturbance of the Oscars routine, a routine that both Smith and Rock were familiar with.\"  https://t.co/TvzlIkPnm0  https://t.co/feuodTtwcf\n",
      "1508957241558380550 2022-03-30 09:00:16 +0900 <nytimes> Even if Russia honors its promise to ease the bombardment of the Ukrainian city of Chernihiv, on the northern outskirts of Kyiv, it will be too late for thousands of residents who risked the vicious siege to leave.  https://t.co/9eqhM3DnDJ\n",
      "[!] No more data! Scraping will stop now.\n",
      "found 0 deleted tweets in this search.\n",
      "1510041836399874048 2022-04-02 08:50:03 +0900 <nytimes> \"Americans are back to work,\" President Biden said on Friday after the country's jobs report for March showed strong gains in hiring. He also highlighted the rise in wages and acknowledged concerns about inflation.  https://t.co/hCtiStuo5y  https://t.co/7Lmhjq3R9O\n",
      "1510035581212016656 2022-04-02 08:25:12 +0900 <nytimes> Breaking News: Will Smith, who slapped the comedian Chris Rock at the Oscars, said he was resigning from the Academy of Motion Picture Arts and Sciences.  https://t.co/wovv3Oo3FZ  https://t.co/DID2mo6VAo\n",
      "1510029255140331530 2022-04-02 08:00:04 +0900 <nytimes> Ukraine’s army claims to be in control of dozens of towns to the west and east of Kyiv where some of the most intense fighting of the war has happened. If the stated gains hold up, it would mark the largest shift in fighting around the capital in weeks.  https://t.co/D70MfQ1Ft1\n",
      "1510024233048489985 2022-04-02 07:40:06 +0900 <nytimes> Standing outside the Brooklyn office where Amazon unionization ballots were tallied, Christian Smalls, a former employee who started organizing workers before he was fired, popped a bottle of champagne: “To the first Amazon union in American history.\"  https://t.co/flfFQyzM69  https://t.co/nc8oA211Ct\n",
      "1510018444971888643 2022-04-02 07:17:06 +0900 <nytimes> Breaking News: A judge denied Ghislaine Maxwell a new trial. She had requested one because a juror failed to disclose his history of being sexually abused.  https://t.co/h7IZLRkXNF\n",
      "1510014240853303298 2022-04-02 07:00:24 +0900 <nytimes> Russia's invasion of Ukraine has pushed Europe, after years of hesitation, to reduce its dependence on Russian oil and gas, @LizAldermanNYT said. Listen to the whole conversation with @PatcohenNYT, @fbirol and @Dlgoldwyn.  https://t.co/lLRw83NtYV  https://t.co/MdGcqw5dGR\n",
      "1510010397285404673 2022-04-02 06:45:08 +0900 <nytimes> Hope Solo, a two-time Olympic gold medalist and former star goalkeeper for the U.S. soccer team, was arrested on Thursday in North Carolina and charged with impaired driving, resisting arrest and misdemeanor child abuse, the police said.  https://t.co/vvJxl7QYNb\n",
      "1510007873153216513 2022-04-02 06:35:06 +0900 <nytimes> Two low-flying Ukrainian helicopters crossed into Russian territory early Friday and fired on an oil depot in the city of Belgorod, a regional governor said — the first time Russia has reported a Ukrainian airstrike on its territory since the war began.  https://t.co/LRzAFogyxd  https://t.co/eoMatzd91w\n",
      "1510006645828562951 2022-04-02 06:30:13 +0900 <nytimes> Nancy Milford, the biographer of women who helped light up the Jazz Age — Zelda Fitzgerald, the “original flapper” and wife of F. Scott Fitzgerald, and the poet Edna St. Vincent Millay — died on Tuesday. She was 84.  https://t.co/EgHhpJA3mY\n",
      "1510002829364191234 2022-04-02 06:15:03 +0900 <nytimes> The Russian soprano Anna Netrebko, one of opera’s biggest stars, is being called a traitor in her home country after she tried to distance herself from Putin's war in Ukraine. She previously lost work in the West over her ties to the Russian president.  https://t.co/jGIjKY2Cp5\n",
      "1509999097427730435 2022-04-02 06:00:13 +0900 <nytimes> Amazon workers voted to unionize in a New York warehouse, in one of the biggest wins for organized labor in a generation.  In 2020, we interviewed Christian Smalls, who was fired by Amazon after protesting safety conditions and now is the union’s leader.  https://t.co/vCod2WY6lU\n",
      "1509995294670344200 2022-04-02 05:45:07 +0900 <nytimes> Student loan borrowers are supposed to resume payments next month for the first time in more than two years — but virtually no one involved in the collection process thinks that will happen, even though no extension has been announced.  https://t.co/jHZ98Xn5Cj\n",
      "1509991499395702792 2022-04-02 05:30:02 +0900 <nytimes> A former Yale School of Medicine administrator pleaded guilty this week to defrauding the university of $40 million over a decade by purchasing and reselling computer equipment to pay for luxury vehicles, real estate and vacations.  https://t.co/mYLjwEXZ3A\n",
      "1509987753576046596 2022-04-02 05:15:09 +0900 <nytimes> Turkey moved another step closer to transferring the trial for the murder of the Saudi dissident journalist Jamal Khashoggi to Saudi Arabia, effectively ending a case that rights groups hoped could offer a measure of justice.  https://t.co/yfDhll5N6O\n",
      "1509984004132548611 2022-04-02 05:00:15 +0900 <nytimes> The Canadian singer-songwriter Joni Mitchell will make a rare televised appearance at the Grammys on Sunday night. She has kept a very low public profile since she had an aneurysm in 2015, and spent subsequent years in gradual recovery.  https://t.co/BSBn6VyLiE\n",
      "1509980182718951425 2022-04-02 04:45:04 +0900 <nytimes> Polls and interviews show many Russians now accept President Putin’s assertion that their country is under siege from the West and had no choice but to attack. The war’s opponents are leaving the country or keeping quiet.  https://t.co/B8E5kqKRZm\n",
      "1509977173964333056 2022-04-02 04:33:06 +0900 <nytimes> New York leaders blew past a midnight deadline on Thursday to reach agreement on a new state budget. Here’s a quick look at where negotiations lie on some outstanding issues, from more money for child care to takeout alcohol.  https://t.co/oxtzPXifNr\n",
      "1509973905305448452 2022-04-02 04:20:07 +0900 <nytimes> The U.S. learned its World Cup schedule at the tournament's draw on Friday. The Americans' match will be  on the first day, Nov. 21, against the winner of a June European playoff: either Scotland, Wales or Ukraine.  https://t.co/uw2RKW4oie\n",
      "1509971757205270531 2022-04-02 04:11:35 +0900 <nytimes> Breaking News: New York City will seek to keep its school mask mandate for children under 5 amid a rise in cases involving the BA.2 Omicron subvariant.  https://t.co/m4N9qsThaJ\n",
      "1509968926360363029 2022-04-02 04:00:20 +0900 <nytimes> With gasoline prices surging after the Russian invasion of Ukraine and images receding of last summer’s climate disasters, Republicans and oil companies are newly emboldened in calling for more drilling, imperiling President Biden's climate ambitions.  https://t.co/y6Fu7Le8Gl\n",
      "1509965094989754368 2022-04-02 03:45:07 +0900 <nytimes> Friday’s World Cup draw assigned groups to the 29 teams that have qualified for the tournament in Qatar in November. But three playoff spots — including one in the group with England, Iran and the U.S. — won’t be determined until June.  https://t.co/WGjNnqsRVE\n",
      "1509961318421479428 2022-04-02 03:30:06 +0900 <nytimes> A 12-year-old boy was arrested on murder and weapons charges in the fatal shooting of a 12-year-old classmate at their South Carolina middle school on Thursday.  https://t.co/yaGhkB8Lr2\n",
      "1509956290805653506 2022-04-02 03:10:08 +0900 <nytimes> At 26, Sammy Basso is believed to be the oldest person with Progeria, an exceedingly rare and fatal disease that afflicts only about one in 18 million people. And now he’s researching it, hoping to find a treatment and the secrets of aging.  https://t.co/1eRGoNgg7x  https://t.co/2gsbjtXcVk\n",
      "1509952622895190018 2022-04-02 02:55:33 +0900 <nytimes> A planned large-scale evacuation of civilians from Mariupol facilitated by the Red Cross failed on Friday, dashing hopes of easing the humanitarian crisis in the city, which has been besieged by Russian forces for weeks.  https://t.co/LdoeH61vIz\n",
      "1509951320727461893 2022-04-02 02:50:23 +0900 <nytimes> The CDC announced on Friday that it would lift an emergency public health order that had restricted immigration at U.S. land borders since the beginning of the pandemic. Republicans immediately condemned the decision.  https://t.co/4SWkQ9W1fP\n",
      "1509946218998382602 2022-04-02 02:30:06 +0900 <nytimes> \"Putin is not the force he used to be\": Britain’s defense minister said that Russia’s army was \"exhausted\" and that its reputation \"has been trashed\" because of President Vladimir Putin's decision to invade Ukraine.  https://t.co/tGsXhkj8al  https://t.co/r6orvRlsQB\n",
      "1509943724259876869 2022-04-02 02:20:11 +0900 <nytimes> The U.S. soccer team will face England, a formidable rival, in Qatar in November. Follow the World Cup draw with our live analysis.  https://t.co/3A0WzSHVlA\n",
      "1509942452605669377 2022-04-02 02:15:08 +0900 <nytimes> President Biden is out of money to pay for basic means of protecting people during the pandemic, including vaccines. Republicans have refused to sign off on new spending, stating that state surpluses should be repurposed for urgent national priorities.  https://t.co/Jjr4hHcCYE\n",
      "1509938663861460999 2022-04-02 02:00:05 +0900 <nytimes> The House passed legislation on Friday to decriminalize marijuana at the federal level. Three Republicans joined Democrats to pass the measure, but it is unlikely to secure 60 votes to pass the Senate.  https://t.co/0Udgyibh7x  https://t.co/0tJqrtGaUc\n",
      "1509938403718139906 2022-04-02 01:59:03 +0900 <nytimes> The Staten Island warehouse, known as JFK8, was the subject of a New York Times investigation last year, which found that it was emblematic of the stresses in Amazon’s employment model. Read the full story here.  https://t.co/fz8IyvYtXf\n",
      "1509934899612033052 2022-04-02 01:45:07 +0900 <nytimes> The war in Ukraine has driven up the cost of food across East Africa, which is facing what could be its worst drought in four decades. Malnourished children are filling hospitals and many families are walking long distances to find help.  https://t.co/Z5cshQkLAy\n",
      "1509933257604964357 2022-04-02 01:38:36 +0900 <nytimes> Breaking News: Amazon workers voted to unionize at a massive New York warehouse, in a stunning win for a campaign targeting the second-largest employer in the U.S. and one of the biggest victories for organized labor in a generation.  https://t.co/Jy5WDa21j4\n",
      "1509929357770436608 2022-04-02 01:23:06 +0900 <nytimes> The U.S. Fish and Wildlife Service informed some hunters last month that it would allow the import of six elephant trophies into the U.S. from Zimbabwe. The African elephant carcasses will be the first allowed into the country in five years.  https://t.co/2uIinfDrbe\n",
      "1509928598010044424 2022-04-02 01:20:05 +0900 <nytimes> Jen Psaki, the White House press secretary, is in advanced talks to join MSNBC after she leaves the Biden administration, according to two people familiar with the negotiations. She could leave the White House as soon as next month, one of the people said.  https://t.co/GqmGB1iWmM\n",
      "1509926084950867969 2022-04-02 01:10:06 +0900 <nytimes> Fake videos of the war in Ukraine are popping up across the internet. The New York Times Visual Investigations team has a rigorous process for confirming (or disputing) the authenticity of videos and images. This is how they verify content.  https://t.co/xVIOm04jN6\n",
      "1509923567097556994 2022-04-02 01:00:06 +0900 <nytimes> Two low-flying Ukrainian helicopters crossed into Russian territory early Friday and fired on an oil depot in the city of Belgorod, a regional governor said — the first time Russia has reported a Ukrainian airstrike on its territory since the war began.  https://t.co/LA8CKJBFA1  https://t.co/5qEArPIFkh\n",
      "1509921035633713160 2022-04-02 00:50:02 +0900 <nytimes> A small avalanche on a desolate Russian mountain, harming no one and quickly erased by the wind, does not usually make news. Unless it happens close to where nine Russian hikers died more than 60 years ago, in a mystery that has confounded investigators.  https://t.co/vSLmlsbGUB\n",
      "1509918544141725703 2022-04-02 00:40:08 +0900 <nytimes> A 12-year-old boy sitting in a parked car in Brooklyn was fatally shot on Thursday night after his family stopped to eat, the police said. The boy was hit multiple times and was pronounced dead at the scene.  https://t.co/Na5NproDbu\n",
      "1509917265210363912 2022-04-02 00:35:03 +0900 <nytimes> In a speech in Doha on Thursday ahead of the World Cup draw, the head of Norway’s soccer federation, Lise Klaveness, expressed concerns about Qatar’s human rights record and criticized FIFA for a lack of leadership on important issues.  https://t.co/8ftt4sAbYm  https://t.co/CSWdEDkwLY\n",
      "1509912246595596293 2022-04-02 00:15:07 +0900 <nytimes> With gasoline prices surging after the Russian invasion of Ukraine and images receding of last summer’s climate disasters, Republicans and oil companies are newly emboldened in calling for more drilling, imperiling President Biden's climate ambitions.  https://t.co/yD0YCTqBTK  https://t.co/bygyTFRf7P\n",
      "1509908463626850311 2022-04-02 00:00:05 +0900 <nytimes> The planned effort to evacuate civilians from Mariupol remained \"extremely complex,\" the Red Cross warned on Friday, despite indications from an adviser to the mayor’s office that some buses had begun taking people out of the city.  https://t.co/IEbbANKuKk\n",
      "1509904699994038274 2022-04-01 23:45:07 +0900 <nytimes> Testimony about an alleged plot to kidnap Michigan's governor, one of the highest-profile domestic terrorism cases in recent memory, provided a glimpse into increasingly violent discourse among some on the far right. Closing arguments are expected Friday.  https://t.co/ed6GiALyIn\n",
      "1509900932359860239 2022-04-01 23:30:09 +0900 <nytimes> In Opinion  The U.S. and NATO “should be less deferential to Mr. Putin’s attempt to wield the threat of nuclear weapons,” say Steven Simon and Jonathan Stevenson, who teach and write about history and politics, in a guest essay.  https://t.co/5jDhKat1oA\n",
      "1509893395917025286 2022-04-01 23:00:12 +0900 <nytimes> Inflation in the 19 countries that use the euro hit 7.5% last month as Russia’s invasion of Ukraine pushes up food and energy prices. Energy costs jumped nearly 45% in March from a year ago.  https://t.co/vdewPRJpq4\n",
      "1509885555412279299 2022-04-01 22:29:03 +0900 <nytimes> In Opinion  A Disney executive producer’s recorded remarks defending the company’s queer friendliness have “blown up on the right,” Michelle Goldberg writes. The renascent moral panic “combines elements of QAnon with old tropes about gay predators.”  https://t.co/oghEsXNodg\n",
      "1509883313544179714 2022-04-01 22:20:08 +0900 <nytimes> A Covid outbreak is ravaging a hospital in Shanghai for older adults, pointing to an unfolding health care crisis in China’s largest city.  People have died on each of the past three days at the facility, two workers said in an interview.  https://t.co/Q6Si0ia83F\n",
      "1509878282216513542 2022-04-01 22:00:09 +0900 <nytimes> The World Cup draw — part gala, part pep rally, part math seminar — will take place Friday at noon, Eastern time, in Qatar. Here's a look at how it works.  https://t.co/ZjGdOaVYYk\n",
      "1509872452674936837 2022-04-01 21:36:59 +0900 <nytimes> Breaking News: The U.S. hiring spree continued in March, with employers adding 431,000 jobs, another sign of the economy’s resilience amid uncertainty. The unemployment rate was 3.6%, down from 3.8% a month earlier.  https://t.co/01QmNXaJsz\n",
      "1509870464491048960 2022-04-01 21:29:05 +0900 <nytimes> President Vladimir Putin of Russia is “a man in a cage he built himself” because of his decision to invade Ukraine, and he has damaged both his own nation and its army, Britain’s defense minister said.  https://t.co/TgAbXgnw2U\n",
      "1509865715708448790 2022-04-01 21:10:13 +0900 <nytimes> Will Packer, the lead producer of the Oscars telecast, said he urged the Academy leadership not to “physically remove” Will Smith after he slapped Chris Rock and was asked to leave.  Packer believed Rock didn’t want to “make a bad situation worse,” he said. https://t.co/cAszGKcGV3\n",
      "1509864177304809476 2022-04-01 21:04:06 +0900 <nytimes> Edith Kanaka‘ole, a native Hawaiian hula teacher who celebrated and preserved ancient traditions and language, will appear on the U.S. quarter next year.  She is among five notable women whose faces will be pressed on the coins.  https://t.co/gefa0M8BRN\n",
      "1509863169941987335 2022-04-01 21:00:06 +0900 <nytimes> Russia has mounted a brutal siege on Mariupol, Ukraine, framing it as the key to a war of liberation. In reality, it’s a campaign against a city that is critical to Russia’s strategy.  What is happening in Mariupol? Listen to today’s episode of The Daily.  https://t.co/AAzgQVvdCN\n",
      "1509860638918680582 2022-04-01 20:50:02 +0900 <nytimes> Evacuations have begun in the besieged city of Mariupol, according to an adviser to the mayor’s office, after Russia agreed to open a humanitarian corridor there.  Follow our updates on Ukraine.  https://t.co/n4xVPP13KH\n",
      "1509855670782283779 2022-04-01 20:30:18 +0900 <nytimes> Two Ukrainian helicopters crossed into Russian territory and fired on an oil depot in the city of Belgorod, injuring two people, a regional governor said. It is the first Ukrainian airstrike Russia has reported on its territory since the start of the war.  https://t.co/ZMPpOhC3OL  https://t.co/XjNMQCiXmi\n",
      "1509853035635388425 2022-04-01 20:19:50 +0900 <nytimes> Breaking News: Pope Francis apologized for the Roman Catholic Church’s role in a system of Canadian schools that abused Indigenous children for 100 years. He also promised to visit Canada as part of a process of healing and reconciliation.  https://t.co/OjDnsLycH6\n",
      "1509852093439426565 2022-04-01 20:16:05 +0900 <nytimes> The U.S. Navy will name a new ship after the late Supreme Court Justice Ruth Bader Ginsburg.  The ship will join a class of vessels named after those who have fought for civil and human rights, including Harvey Milk, Robert F. Kennedy and Sojourner Truth.  https://t.co/T1RDtIUw7w\n",
      "1509848328682590208 2022-04-01 20:01:07 +0900 <nytimes> The UN’s nuclear watchdog is looking into reports that some Russian soldiers who left the shuttered Chernobyl nuclear plant have radiation poisoning. They pulled out on Thursday, five weeks after seizing it, Ukraine’s state-run energy company said.  https://t.co/OZOqLSSogV\n",
      "1509844546242424838 2022-04-01 19:46:06 +0900 <nytimes> The EU is holding its first summit with China in two years, with tensions high over Beijing’s support for Russia’s war in Ukraine, its record on human rights and its trade boycott of Lithuania for hosting a representative office of Taiwan.  https://t.co/j2YH1ecvkG\n",
      "1509840001089085441 2022-04-01 19:28:02 +0900 <nytimes> A 12-year-old boy sitting in a parked car in Brooklyn was fatally shot on Thursday night after his family stopped to eat, the police said. The boy was hit multiple times and was pronounced dead at the scene.  https://t.co/4M9dIAWuPK\n",
      "1509836742228070401 2022-04-01 19:15:05 +0900 <nytimes> People cheered, honked their horns and set off fireworks as the land border between Malaysia and Singapore fully reopened for the first time since the pandemic began, local news media reported.  https://t.co/GUqrZ5gqga\n",
      "1509833005300396032 2022-04-01 19:00:14 +0900 <nytimes> A law keeps personal census data secret for 72 years. The 1950 census goes public on Friday, a bonanza for historians and the merely curious.  https://t.co/NCuAbTXaOj\n",
      "1509825676391727118 2022-04-01 18:31:07 +0900 <nytimes> China’s unforgiving Covid control measures and the potential fallout from its support for Russia have prompted “increasingly anxious questions about the country’s path,” our columnist @LiYuan6 writes.  https://t.co/jcfwV2cgUC\n",
      "1509821651382419473 2022-04-01 18:15:07 +0900 <nytimes> When anti-vaccination protesters finally cleared out of New Zealand’s Parliament grounds after three weeks, they left behind a surprise: cannabis seeds.  “We are weeding out the weed,” the speaker of Parliament said after the plants began to grow.  https://t.co/gtmUIVjti1\n",
      "1509817943231807513 2022-04-01 18:00:23 +0900 <nytimes> The police said five fetuses had been removed from a home in Washington that, according to an anti-abortion group, belonged to an activist who was charged with blocking access to an abortion clinic in October 2020.  https://t.co/gVKeMWeDXJ\n",
      "1509815358152228881 2022-04-01 17:50:07 +0900 <nytimes> Patrick Demarchelier, a French fashion photographer and the personal portraitist of Princess Diana, died on Thursday at 78. He was most famous for his work with Vogue and Harper's Bazaar.  https://t.co/dS2mBWsvQN\n",
      "1509809543349518350 2022-04-01 17:27:00 +0900 <nytimes> Here’s a look at some of the highlights worth watching from late-night TV.  https://t.co/anZrlId1c7\n",
      "1509806785863036928 2022-04-01 17:16:03 +0900 <nytimes> Hundreds of Syrian fighters are en route to join Russian forces in Ukraine, effectively returning the favor to Moscow for helping President Bashar al-Assad crush rebels in an 11-year civil war, according to two people monitoring the flow of mercenaries.  https://t.co/zGViylkE3v\n",
      "1509802800066269184 2022-04-01 17:00:12 +0900 <nytimes> Unmarried mothers and other women who were considered unwanted in Ireland were incarcerated to work without pay in compounds called Magdalene laundries. The last surviving one, in Dublin, will be preserved as a memorial, the government said.  https://t.co/Aq3QNzO4vt\n",
      "1509799241937723398 2022-04-01 16:46:04 +0900 <nytimes> Two Ukrainian helicopters crossed into Russian territory and fired on an oil depot in the city of Belgorod, injuring two people, a regional governor said. It is the first Ukrainian airstrike Russia has reported on its territory since the start of the war.  https://t.co/4prgyfysgf\n",
      "1509787682465009682 2022-04-01 16:00:08 +0900 <nytimes> An owl that lived six million years ago in China offers clues into the evolutionary forces that transformed this bird — and other species — into the equivalent of a morning person.   https://t.co/lsGuyfn7UL\n",
      "1509772574753968147 2022-04-01 15:00:06 +0900 <nytimes> Jared Leto bares his teeth in “Morbius,” playing a neo-vampire who walks by day and tries to keep his monstrous thirst at bay in the latest Marvel adaptation.  https://t.co/q9as5HXKog\n",
      "1509757479491711005 2022-04-01 14:00:07 +0900 <nytimes> In the early days of the pandemic, while others were baking sourdough bread and learning how to knit, Annie Rauwerda started her own project: sharing bizarre and surprising snippets from Wikipedia.  https://t.co/SJd0cUXPcV\n",
      "1509742366101487622 2022-04-01 13:00:04 +0900 <nytimes> Several psychedelic drugs are touted as effective treatments for drug and alcohol abuse, but one is emerging as the most effective.  https://t.co/Zfju6T3wul\n",
      "1509737320597102600 2022-04-01 12:40:01 +0900 <nytimes> Prime Minister Imran Khan of Pakistan refused to resign in a defiant speech on Thursday, doubling down on his allegations of a foreign conspiracy against him and deepening a political crisis that has embroiled the country for weeks.  https://t.co/tpLB5Gqxfv\n",
      "1509734846221926404 2022-04-01 12:30:11 +0900 <nytimes> Ukrainian officials said the country had dispatched a convoy of 45 buses on Thursday to evacuate people trapped in Mariupol after Russia agreed to a cease-fire. Hours later, a deputy prime minister said that the convoy had been stopped by Russian forces.  https://t.co/amFlrovsao\n",
      "1509727310710284296 2022-04-01 12:00:14 +0900 <nytimes> Russia is running its military campaign against Ukraine out of Moscow, with no central war commander on the ground to call the shots, according to American officials who have studied the five-week-old war.  https://t.co/SPNJJZsCh2\n",
      "1509722228912447492 2022-04-01 11:40:03 +0900 <nytimes> The Biden administration has introduced  https://t.co/cduwKDmd2D, meant to help Americans who are infected with the virus find the treatment they need quickly and at no cost. This new phase aims to help the U.S. transition to “living with the virus.”    https://t.co/Y98NWBrHiK\n",
      "1509712169058897924 2022-04-01 11:00:04 +0900 <nytimes> A bill to limit the cost of insulin to $35 a month for most Americans who depend on it passed the House on Thursday. To become law, the bill will need to attract at least 10 Republican votes in the Senate to overcome a filibuster.  https://t.co/E0FkuiRN6P\n",
      "1509707138863616005 2022-04-01 10:40:05 +0900 <nytimes> Gov. Doug Ducey of Arizona signed legislation requiring voters to prove their citizenship in order to vote in a presidential election, swiftly drawing a legal challenge from voting rights activists.  https://t.co/BjwdgMyPNW\n",
      "1509699580316860417 2022-04-01 10:10:03 +0900 <nytimes> Few big residential projects in New York City have been built without a lucrative tax break, known as 421a, which now costs the city $1.77 billion in lost tax revenue every year. But the future of the program, which is set to expire in June, is tenuous.  https://t.co/x8GZhCndMk\n",
      "1509694552986300421 2022-04-01 09:50:04 +0900 <nytimes> A law keeps personal census data secret for 72 years. The 1950 census goes public on Friday, a bonanza for historians and the merely curious.  https://t.co/rLCkybleho\n",
      "1509687016732123140 2022-04-01 09:20:08 +0900 <nytimes> President Biden announced on Thursday that the U.S. would release up to 180 million barrels of oil from a strategic reserve to counteract the economic impact of Russia’s invasion of Ukraine.  https://t.co/86ha1QTWVn  https://t.co/ZDxwm36APQ\n",
      "1509681995525328901 2022-04-01 09:00:10 +0900 <nytimes> A Republican judge declared New York’s legislative maps were unconstitutional, citing “bias” by Democrats who redrew them. Democrats vowed to appeal.  https://t.co/VcK0n7Ds73\n",
      "1509676943255429122 2022-04-01 08:40:06 +0900 <nytimes> Each team in the NCAA men’s basketball Final Four — North Carolina, Duke, Kansas and Villanova — uses a shade of blue as a primary color. But don’t you dare say those blues are all the same.  https://t.co/ueMUNNqPco\n",
      "1509666897947762689 2022-04-01 08:00:11 +0900 <nytimes> The police said five fetuses had been removed from a home in Washington that, according to an anti-abortion group, belonged to an activist who was charged with blocking access to an abortion clinic in October 2020.  https://t.co/lOt9yv88lY\n",
      "1509655578209132551 2022-04-01 07:15:12 +0900 <nytimes> Over a four-decade career, Paul Herman was perhaps most renowned for his role on \"The Sopranos\" as Peter Gaeta, known as Beansie, the owner of pizza parlors who gets in trouble with a mobster. He died on Tuesday, his 76th birthday.  https://t.co/v4wGG0qNj8\n",
      "1509651817084465152 2022-04-01 07:00:15 +0900 <nytimes> Hundreds of Syrian fighters are en route to join Russian forces in Ukraine, effectively returning the favor to Moscow for helping President Bashar al-Assad crush rebels in an 11-year civil war, according to two people monitoring the flow of mercenaries.  https://t.co/dCG4UKWiBt\n",
      "1509648035458002959 2022-04-01 06:45:14 +0900 <nytimes> Ben McKenzie, an actor best known for his role in “The O.C.,” is an outspoken critic of cryptocurrency. He said his newfound passion has left friends “supportive but confused.” His wife, the actress Morena Baccarin, is “just tired of me talking about it.”  https://t.co/qiraGma1Iw\n",
      "1509645472859934726 2022-04-01 06:35:03 +0900 <nytimes> Senator Lindsey Graham voted last year to confirm Judge Ketanji Brown Jackson to an influential appeals court. Now he calls her an “activist judge” and said Thursday that he planned to vote against her confirmation to the Supreme Court.  https://t.co/4w7RPsTV3A\n",
      "1509644249800794122 2022-04-01 06:30:11 +0900 <nytimes> Ukraine’s GDP is likely to contract by 20% this year and Russia’s by 10% as a result of the war, the European Bank for Reconstruction and Development said on Thursday, in its first forecast since Russia’s invasion began on Feb. 24.  https://t.co/BqK7BO6IFa\n",
      "1509640467356471301 2022-04-01 06:15:09 +0900 <nytimes> At least 148 children have been killed during shelling and air raids in Ukraine, the country’s defense ministry said Thursday on Twitter. The ministry also said that more than 10 million people have fled their homes and 15 airports have been destroyed.  https://t.co/C2H56sitIY\n",
      "1509636705590075401 2022-04-01 06:00:12 +0900 <nytimes> Inflation in the U.S. continued to run at the fastest pace since 1982 in February, new data released on Thursday showed. Prices, as measured by the Personal Consumption Expenditures Index, rose by 6.4% in the year through February.  https://t.co/9I3FnUrx0h\n",
      "1509632917085069322 2022-04-01 05:45:09 +0900 <nytimes> In the early days of the pandemic, while others were baking sourdough bread and learning how to knit, Annie Rauwerda started her own project: sharing bizarre and surprising snippets from Wikipedia.  https://t.co/oMjLSRjUoE\n",
      "1509629151296249861 2022-04-01 05:30:11 +0900 <nytimes> In Opinion  \"I’m still aghast. Still astonished. Still absorbing what Ginni Thomas said in those text messages to Mark Meadows, President Donald Trump’s chief of staff, as she urged him to overturn the 2020 election,\" writes Frank Bruni.  https://t.co/XQMuBm2my2\n",
      "1509625362833186823 2022-04-01 05:15:08 +0900 <nytimes> Ukrainian officials said their country was ready to declare itself permanently neutral. Negotiators are willing to discuss Russian territorial claims — but only if it gets security guarantees from a group of other countries. Here's what that means.  https://t.co/VFMEziKD1j\n",
      "1509621624332599297 2022-04-01 05:00:17 +0900 <nytimes> A resident of Irpin, a heavily damaged suburb of the Ukrainian capital, Kyiv, evacuated with her dogs on Thursday. The number of Ukrainian refugees has surpassed four million — half of them children.  Follow live updates:  https://t.co/StEJJ29yWq  https://t.co/UBWauTIo8S\n",
      "1509617801962692610 2022-04-01 04:45:05 +0900 <nytimes> A team from the International Red Cross was preparing on Thursday to try to enter the besieged port city of Mariupol, Ukraine. Its attempts to enter the city earlier in March were abandoned as fighting resumed around the roads it planned to use.  https://t.co/uoYdFihYTH\n",
      "1509615273657376769 2022-04-01 04:35:03 +0900 <nytimes> Shealah Craighead is \"a very talented photographer and this was really all of her hard work,” said Stephanie Grisham, who was a White House press secretary for Donald Trump. “I just keep thinking: What a shame that he is actually now profiting off of it.\"  https://t.co/g3pCNPiOKT  https://t.co/6PIPwELbYY\n",
      "1509614072475832324 2022-04-01 04:30:16 +0900 <nytimes> European leaders on Thursday rejected Vladimir Putin’s demand that all natural gas imported from Russia must be paid for in rubles starting Friday — or risk having the supplies shut off.  https://t.co/vM1j2PxYef\n",
      "1509610278891098136 2022-04-01 04:15:12 +0900 <nytimes> Ukrainian soldiers continued to help evacuate people and animals from the Kyiv suburb of Irpin. The town has seen heavy fighting since the early days of the war, although Ukrainian forces claim to have regained control of it.  https://t.co/TNFZ5dYyX5  https://t.co/dOoM9nmv5i\n",
      "1509609692536143874 2022-04-01 04:12:52 +0900 <nytimes> Intelligence has shown that Russia is repositioning, not withdrawing, its troops around the area of Kyiv, Ukraine’s capital, NATO’s secretary-general, Jens Stoltenberg, said.  https://t.co/xTpoX0HlUG  https://t.co/HNkmJbUwpT\n",
      "1509608987506839573 2022-04-01 04:10:04 +0900 <nytimes> The former chief White House photographer made plans to publish a book of Trump photos. The former president asked her for a cut of her book advance payment and asked her to wait until he published his own book, former associates said.  https://t.co/sdvuRKhCsx  https://t.co/97tUABrY3L\n",
      "1509606865809940488 2022-04-01 04:01:38 +0900 <nytimes> Breaking News: Parts of Florida’s election law are unconstitutional and racially motivated, a federal judge ruled, placing the state under a 10-year order to receive clearance before changing its voting laws again. The decision is certain to be appealed.  https://t.co/iZELlKQuQz\n",
      "1509606530399838215 2022-04-01 04:00:18 +0900 <nytimes> Russian forces declared they were leaving the Chernobyl nuclear power plant and the nearby city of Slavutych, according to a statement Thursday from Ukraine’s state run-energy company. The account supports a report from the Pentagon.  Follow our updates:  https://t.co/3XPrd3ph1y\n",
      "1509602696944402432 2022-04-01 03:45:04 +0900 <nytimes> The EU and German regulators carried out unannounced inspections at several companies involved in the supply, transmission and storage of natural gas, on suspicion of violating EU competition regulations, the authorities said on Thursday.  https://t.co/nXUPoxF2Fp\n",
      "1509600710798856193 2022-04-01 03:37:11 +0900 <nytimes> The New York Public Library waived late fees last October. This book, recently returned, was last checked out in 1965.  https://t.co/myDCFAy6Iy  https://t.co/W4xnetT1qD\n",
      "1509598931197571080 2022-04-01 03:30:06 +0900 <nytimes> William Burns, the director of the CIA, tested positive for the coronavirus on Thursday and has mild symptoms. He met with President Biden a day earlier, according to CIA statement, but they practiced social distancing and Burns was wearing an N95 mask.  https://t.co/Jjiho7hcQr\n",
      "1509596920561512460 2022-04-01 03:22:07 +0900 <nytimes> Across Europe, schoolchildren are full of tough questions about the war in Ukraine. At one school in England, teachers are scrambling for answers.  https://t.co/O0zgy6vXxY  https://t.co/DPMdkgSfUY\n",
      "1509595168126742538 2022-04-01 03:15:09 +0900 <nytimes> Twenty-one Republican state attorneys general filed a lawsuit against the Biden administration to block the federal mask mandate on public transportation. “Every U.S. citizen should have the right to fly unmasked,” Gov. Ron DeSantis of Florida said.  https://t.co/UTZdQzDPop\n",
      "1509587638969319424 2022-04-01 02:45:14 +0900 <nytimes> His small business is in Mississippi. The factories that make his products are in China. This is the story of a shipping container that tried to traverse those 8,000 miles with the global supply chain consumed by trouble.  https://t.co/0q59ImYMlf\n",
      "1509583889341288448 2022-04-01 02:30:20 +0900 <nytimes> Aunque las autoridades sanitarias de Estados Unidos esperan que la subvariante BA.2 de ómicron no origine otro gran brote, hay factores que podrían causar que una nueva ola sea más dañina. Aquí presentamos siete medidas para disminuir el riesgo.  https://t.co/TUCHD1Gkce\n",
      "1509580053025370123 2022-04-01 02:15:05 +0900 <nytimes> Russian troops, plagued by low morale and weapons shortages, have refused to carry out orders and accidentally shot down their own aircraft, Jeremy Fleming, the director of Britain’s electronic surveillance agency, said.  https://t.co/AqDNjpvcVt  https://t.co/MZc6tvgFPU\n",
      "1509576441436020748 2022-04-01 02:00:44 +0900 <nytimes> At least two people were killed and two others were injured when a severe storm destroyed homes and toppled trees in the Florida Panhandle early Thursday, officials said.  https://t.co/yzbS5dP3tc\n",
      "1509572641656655872 2022-04-01 01:45:38 +0900 <nytimes> Mari Oliver claimed in a federal lawsuit that she was harassed for opting out of reciting the Pledge of Allegiance as a high school student in Texas. Now 21, she will receive a $90,000 settlement paid by the Texas Association of School Boards.  https://t.co/yFor4moEXY\n",
      "1509568817269293061 2022-04-01 01:30:27 +0900 <nytimes> North Korea's latest missile launch violated UN resolutions and the country's self-imposed moratorium, but it also demonstrated significant technological advances.  https://t.co/DaTDgAPVIx  https://t.co/HFrK34uk82\n",
      "1509564957741957121 2022-04-01 01:15:06 +0900 <nytimes> The World Cup draw is Friday in Qatar, even though the full field won't yet be complete. While we won't know all the teams, we do know quite a bit about how the tournament will play out. Here’s a primer.  https://t.co/L0kGemPT7u\n",
      "1509563684154130441 2022-04-01 01:10:03 +0900 <nytimes> The White House confirmed a plan to release up to 180 million barrels of oil from the strategic reserve, hoping to drive energy prices down.  https://t.co/dnuDx7ehoP\n",
      "1509561481594998792 2022-04-01 01:01:18 +0900 <nytimes> Want to ask our speakers a question? Here's what you need to know.  https://t.co/XigFiOg65B\n",
      "1509561476297768960 2022-04-01 01:01:16 +0900 <nytimes> Here are the details:  https://t.co/3IemA0sl5d\n",
      "1509561469322633218 2022-04-01 01:01:15 +0900 <nytimes> Join us now: @PatcohenNYT will discuss how the Russian invasion will change oil and gas production and prices, with @LizAldermanNYT, @fbirol of the @IEA and @Dlgoldwyn. DM your questions to @nytimesevents.  https://t.co/hTFHc2x8dk\n",
      "1509555052284895240 2022-04-01 00:35:45 +0900 <nytimes> Want to ask our speakers a question? Here's what you need to know:  https://t.co/4xBVxtjfqN\n",
      "1509555047444754438 2022-04-01 00:35:44 +0900 <nytimes> Here are the details:  https://t.co/978yGVNnCW\n",
      "1509555041488752646 2022-04-01 00:35:42 +0900 <nytimes> Join us today: @patcohennyt will discuss how the Russian invasion will change oil and gas production and prices, with @LizAldermanNYT, @fbirol of the @IEA and @Dlgoldwyn. DM your questions to @nytimesevents.  https://t.co/hTFHc2x8dk\n",
      "1509553630717882377 2022-04-01 00:30:06 +0900 <nytimes> The Treasury Department on Thursday leveled new sanctions on Russian technology companies and illicit procurement networks that the country is using to evade current sanctions, expanding the Biden administration’s effort to cripple Russia's economy.  https://t.co/IrVv5qakFZ\n",
      "1509546120254562312 2022-04-01 00:00:15 +0900 <nytimes> Americans who don't conform to traditional gender roles will soon be able to denote their gender with an \"X\" on passports. The measure is part of a plan the White House announced on Thursday intended to make federal forms of identification more inclusive.  https://t.co/Schd7lsYvw\n",
      "1509541052188958721 2022-03-31 23:40:07 +0900 <nytimes> Meditation won’t solve all your problems, but it can help you approach each day with more clarity and purpose. Here are seven guided exercises that may help calm your mind, transport you to a happier place and leave you feeling energized.  https://t.co/slsIOfY4DV\n",
      "1509538590644133895 2022-03-31 23:30:20 +0900 <nytimes> Daddy Yankee ayudó llevar el reguetón a un nivel global. Pero, ¿es momento de que el músico de 43 años descanse en sus laureles? https://t.co/KtzCcRuHe1\n",
      "1509532240358875140 2022-03-31 23:05:06 +0900 <nytimes> “Russia is big enough, why does he want more land?” “Why are most crazy people men?” “Would you stay and fight for your country?”  Across Europe, schoolchildren are full of tough questions about the war in Ukraine, leaving teachers scrambling for answers.  https://t.co/e0k960BqSK\n",
      "1509531028070682707 2022-03-31 23:00:17 +0900 <nytimes> In Opinion  “Six months before an election he’s on course to lose, Mr. Bolsonaro is in a rush to use his power,” Vanessa Barbara writes. “And he seems intent on bringing death and devastation to the world.”  https://t.co/PXPkH5WChn\n",
      "1509528465006948354 2022-03-31 22:50:06 +0900 <nytimes> “Moon Knight,” a new Disney+ series starring Oscar Isaac and Ethan Hawke, follows a troubled, crime-fighting caped crusader.  Here’s what to know about the vigilante who is one of Marvel Comics’s most unusual creations.  https://t.co/nZxOpuqeXz\n",
      "1509527219533750272 2022-03-31 22:45:09 +0900 <nytimes> OPEC and its allies, including Russia, decided to stick with their previously agreed plan of modest monthly increases to oil output. The decision comes amid warnings of a major supply crunch that could have serious implications for the global economy.  https://t.co/ZOIKDYtNrR\n",
      "1509525945786552320 2022-03-31 22:40:05 +0900 <nytimes> Explicamos el diagnóstico de la condición de Bruce Willis: ¿Qué es la afasia? ¿Qué la causa? ¿Se puede prevenir?  https://t.co/O4jhYJK9ux\n",
      "1509523458262282242 2022-03-31 22:30:12 +0900 <nytimes> Rep. Madison Cawthorn’s youthful brashness once appealed to the conservative older voters of far-west North Carolina. Now the pro-Trump congressman’s bid for a second term is in jeopardy after a series of incendiary statements and personal foibles.  https://t.co/bbPugYnnhI  https://t.co/vhK7GCrhk1\n",
      "1509522185177739264 2022-03-31 22:25:09 +0900 <nytimes> Oil prices continued to fall after reports that President Biden is considering a plan to release up to 180 million barrels of oil, a move to counteract the effects on the oil market from Russia’s invasion of Ukraine.  https://t.co/uXL2NLb6DA\n",
      "1509519648831770634 2022-03-31 22:15:04 +0900 <nytimes> Myanmar’s brutal military junta, which seized power 14 months ago, is detaining 10,000 political prisoners, a rights organization said. Many detainees have been tortured and are being held in deplorable conditions, according to the group.  https://t.co/WDyWPLfO5h\n",
      "1509518652592340997 2022-03-31 22:11:06 +0900 <nytimes> Kenya’s top court rejected a bid by the country’s president to amend the Constitution. It was a major blow to a plan that could have cemented his ability to shape the country’s political future ahead of an election that will decide his successor.  https://t.co/bzlAAwZIaU\n",
      "1509515890894819341 2022-03-31 22:00:08 +0900 <nytimes> In Opinion  “I am tired of judging the Covid choices of strangers — people whose experiences I do not know,” says Miranda Featherstone, a writer and social worker, in a guest essay.  https://t.co/wWF5G43OcU\n",
      "1509512102117007373 2022-03-31 21:45:05 +0900 <nytimes> A humanitarian corridor for the residents of the besieged Ukrainian city of Mariupol could begin on Friday, the International Red Cross said, after Russia’s Defense Ministry announced a cease-fire to allow people to leave to the west.  https://t.co/dAXBalkhWy\n",
      "1509508072032645127 2022-03-31 21:29:04 +0900 <nytimes> The Kremlin dismissed U.S. intelligence showing that President Vladimir Putin has been misinformed about his military’s struggles in Ukraine, and warned that such a “complete misunderstanding” of the situation in Moscow could have “bad consequences.”  https://t.co/64ScxShPAw\n",
      "1509504579016265729 2022-03-31 21:15:11 +0900 <nytimes> Prime Minister Viktor Orban, in power for over a decade, has changed voting rules and legalized “voter tourism” ahead of Hungary’s election on Sunday. The populist leader, a hero to many U.S. conservatives, is facing an unexpectedly organized opposition.  https://t.co/zxg6VeaOAo  https://t.co/zhYv1l8Nio\n",
      "1509500806076276739 2022-03-31 21:00:11 +0900 <nytimes> Gerrymandered political districts have previously favored Republicans. But after the recent redrawing of zones, the U.S. congressional map is more evenly split.  How did things change? Listen to today’s episode of The Daily.  https://t.co/A48wuLJg9o\n",
      "1509493266680582149 2022-03-31 20:30:14 +0900 <nytimes> North Korea’s claim that it conducted its most powerful intercontinental ballistic missile test​ last week might have been a ruse involving an older missile disguised as a new one, South Korea said.  https://t.co/a9HcwcFVXc\n",
      "1509485742480932878 2022-03-31 20:00:20 +0900 <nytimes> Chris Rock used a sold-out comedy show in Boston to make his first public comments about the incident since Will Smith slapped him at the Academy Awards. “I’m still kind of processing what happened,” Rock said, briefly addressing the topic.  https://t.co/eI96pR6pPx\n",
      "1509478361701273602 2022-03-31 19:31:00 +0900 <nytimes> As the war in Ukraine grinds on, Ukrainians have been shaken by reports of saboteurs in the country who sow confusion and possibly alert the enemy to potential targets. Civilians who were already living in fear are seeing spies everywhere.  https://t.co/ra4m93C05T\n",
      "1509470611436879875 2022-03-31 19:00:13 +0900 <nytimes> Bruce Willis will step away from his decades-long movie career after being diagnosed with aphasia. Here’s what we know about the disorder, which can make it difficult or impossible to express or comprehend language.  https://t.co/wWL9uo5ecm\n",
      "1509463273548173317 2022-03-31 18:31:03 +0900 <nytimes> An Australian journalist who worked for China’s global TV network stood trial behind closed doors on Thursday. The Chinese authorities accused Cheng Lei, who was detained in 2020, of divulging state secrets but offered no specifics.  https://t.co/vSNxNThWLf\n",
      "1509455513993596936 2022-03-31 18:00:13 +0900 <nytimes> In Opinion  \"The Republican line of attack showed why it’s not easy for judges to act with proportionality when they hand down sentences that are within their discretion,\" writes Emily Bazelon, a staff writer for The New York Times Magazine.  https://t.co/ZMiJLXGkBE\n",
      "1509455509111414786 2022-03-31 18:00:12 +0900 <nytimes> The Covid surge in Hong Kong, and the aid sent from mainland China, has exposed the divide between the city and the rest of the country. Some in Hong Kong have criticized Beijing’s measures, while people on the mainland have seen such attitudes as selfish.  https://t.co/o3QJAZtNg0\n",
      "1509451449662644226 2022-03-31 17:44:04 +0900 <nytimes> Ivermectin failed as a Covid treatment, a large clinical trial found. The drug surged in popularity despite no strong evidence that it worked.  https://t.co/KmpIGlN8pK\n",
      "1509444166643769347 2022-03-31 17:15:08 +0900 <nytimes> Here’s a look at some of the highlights worth watching from late-night TV.  https://t.co/B159oegfv1\n",
      "1509440408060899330 2022-03-31 17:00:11 +0900 <nytimes> The punchline to Charo’s career is that, no matter how hard people try to peg her as “a stupid cuchi-cuchi,” as she put it, she is a virtuosic flamenco and classical guitarist with a singular talent. It's time, our critic writes, to take her seriously.  https://t.co/rVzRaOdMkJ  https://t.co/wCu5HIwCcG\n",
      "1509436847243542529 2022-03-31 16:46:03 +0900 <nytimes> A small U.S. Navy plane crashed on Wednesday evening along Virginia’s Eastern Shore, killing one crew member and injuring two others, the authorities said.  https://t.co/nTdhH1ayfz\n",
      "1509434341688061953 2022-03-31 16:36:05 +0900 <nytimes> There is no electricity or running water in Huliaipole, a town along the front lines in eastern Ukraine — just darkness and silence. Those in the town listen to the shelling, which begins before midnight, wondering: Where will the next one land?  https://t.co/kmYFkWxhyV  https://t.co/Bv8kNev4xj\n",
      "1509419240478154761 2022-03-31 15:36:05 +0900 <nytimes> No hay nada como la sensación de poder que proviene de hacer una dominada o ‘pull-up’. Pero hay quienes tienen la impresión equivocada de que son imposibles para ciertos tipos de cuerpo. La realidad es otra.  https://t.co/QIz5Jof4J4\n",
      "1509410234279899137 2022-03-31 15:00:17 +0900 <nytimes> The Abuja-Kaduna train line in Nigeria was once considered a safe route to connect the country's capital to a regional hub. A deadly attack by gunmen on Monday, which killed at least eight passengers and injured 26 others, has shattered that perception.  https://t.co/PXSRHxix6d\n",
      "1509400108043014144 2022-03-31 14:20:03 +0900 <nytimes> Christopher Alexander, 85, championed indigenous structures and sought a formula for coziness, becoming a fierce anti-modernist, counterculture hero to many, like software designers and Prince Charles. He died on March 17.  https://t.co/MJR4crONt7\n",
      "1509395117005807617 2022-03-31 14:00:13 +0900 <nytimes> People who grow up in gridlike cities like New York seem to struggle to navigate as easily as those who come from rural areas or intricate cities, researchers reported. The findings one day may lead to better tests for early dementia.  https://t.co/JU2q6oA7la\n",
      "1509387540087943173 2022-03-31 13:30:07 +0900 <nytimes> Female patients and people of color are more likely to have their symptoms dismissed by medical providers, studies show. New York Times readers shared their experiences with what many refer to as \"medical gaslighting.\" Read more:  https://t.co/pRYtpDlLvv  https://t.co/nnOANgJDZZ\n",
      "1509382488921157632 2022-03-31 13:10:02 +0900 <nytimes> Is “CODA,” the best picture Oscar winner, a breakthrough for deaf people or a frustrating look at deafness from the hearing point of view? Both, say some deaf critics of the film.  https://t.co/niwkSrY3Bj\n",
      "1509377472109944836 2022-03-31 12:50:06 +0900 <nytimes> The CDC ended on Wednesday the tiered system that it has used for two years to publicly rate the pandemic risk of taking a cruise.  https://t.co/AwEJFIv4WV\n",
      "1509374952306315269 2022-03-31 12:40:06 +0900 <nytimes> The punchline to Charo’s career is that, no matter how hard people try to peg her as “a stupid cuchi-cuchi,” as she put it, she is a virtuosic flamenco and classical guitarist with a singular talent. It's time, our critic writes, to take her seriously.  https://t.co/zn8YM2av4c\n",
      "1509372468854677514 2022-03-31 12:30:14 +0900 <nytimes> In Opinion  After Tommy Munsdwell Canady released \"I’m Out Here,\" a SWAT team stormed his home with a \"no knock\" search warrant, writes Jaeah Lee, a contributing writer at @nytmag. \"He was charged with first-degree intentional homicide and armed robbery.\"  https://t.co/Nm0QpZkHp7\n",
      "1509367646059479046 2022-03-31 12:11:04 +0900 <nytimes> The U.S. men’s soccer team is back in the World Cup after failing to qualify for the last tournament and revitalizing the program.  https://t.co/E1SnpwsuM4\n",
      "1509364892532416519 2022-03-31 12:00:07 +0900 <nytimes> Chris Rock used a sold-out comedy show in Boston to make his first public comments about the incident since Will Smith slapped him at the Academy Awards. “I’m still kind of processing what happened,” Rock said, briefly addressing the topic.  https://t.co/OwTOdAolEK\n",
      "1509359850404421638 2022-03-31 11:40:05 +0900 <nytimes> Astronomers announced on Wednesday the discovery of the farthest and oldest star ever seen. Its light twinkled some 900 million years after the Big Bang, astronomers say. That means the light from the star traveled 12.9 billion light-years to reach Earth.  https://t.co/AOKgHAYd4F\n",
      "1509357335801737221 2022-03-31 11:30:06 +0900 <nytimes> Not only have the Russian forces struggled with low morale and weapons shortages, but they have also accidentally shot down their own aircraft and have refused to carry out orders, one of Britain’s spy chiefs said in a speech on Thursday in Australia.  https://t.co/52EPHeMH2f\n",
      "1509354822503481346 2022-03-31 11:20:06 +0900 <nytimes> State lawmakers are weighing whether to fast-track a move to allow three new casinos in the New York City area, as part of this year’s budget negotiations, sparking a creative ferment among real estate developers and casino operators.  https://t.co/XsEZk0qQNK\n",
      "1509349800642330626 2022-03-31 11:00:09 +0900 <nytimes> A Connecticut judge, exasperated by Alex Jones’s “bad faith” failure to sit for a deposition in a lawsuit brought by the families of Sandy Hook shooting victims, ruled on Wednesday that he would be subject to escalating daily fines for future delays.  https://t.co/7hwu44kcgX\n",
      "1509347273435717694 2022-03-31 10:50:06 +0900 <nytimes> Breaking News: As gas prices rise, President Biden is said to be considering releasing a million barrels of oil a day from U.S. reserves, for up to 180 days.  https://t.co/bsImaibsOP\n",
      "1509344748150136839 2022-03-31 10:40:04 +0900 <nytimes> Federal prosecutors are said to have substantially widened their Jan. 6 investigation to examine the possible culpability of a broad range of figures involved in Donald Trump’s efforts to overturn the results of the 2020 election.  https://t.co/NBYXzwBwKS\n",
      "1509342271841480704 2022-03-31 10:30:14 +0900 <nytimes> Nine people who blocked access to an abortion clinic in Washington in October 2020 have been charged with federal civil rights offenses, prosecutors said on Wednesday.  https://t.co/FhIsLKlLLN\n",
      "1509337192329580550 2022-03-31 10:10:03 +0900 <nytimes> At least seven people were injured, two critically, when a tornado touched down in northwestern Arkansas early Wednesday morning, damaging buildings, knocking out power and displacing residents, officials said.  https://t.co/23uot1Lk2s  https://t.co/VzU1VbfxrT\n",
      "1509334701722456070 2022-03-31 10:00:09 +0900 <nytimes> Anna Netrebeko, the Russian soprano, sought to distance herself from President Vladimir Putin on Wednesday, saying they had only met a few times. After Russia invaded Ukraine, her international career fell apart because of her past support of Putin.  https://t.co/Tz4FFBJKBS\n",
      "1509329659116363783 2022-03-31 09:40:07 +0900 <nytimes> New York City cleared 239 homeless encampments in 12 days, Mayor Eric Adams said. But only five people at those sites agreed to go to shelters, a sign that most of them may remain outdoors and many were likely to rebuild their makeshift camps.  https://t.co/zgYnC0av1F\n",
      "1509327130148192260 2022-03-31 09:30:04 +0900 <nytimes> John Kirby, the Pentagon spokesman, said the Defense Department believed that President Vladimir Putin of Russia had not been given an accurate account of his army’s failures in Ukraine.  https://t.co/0sW6fHyk0S  https://t.co/wkD7UHEbf2\n",
      "1509322090817761283 2022-03-31 09:10:02 +0900 <nytimes> The Republican-controlled legislature in Kentucky passed sweeping legislation this week that would make abortion illegal after 15 weeks of pregnancy and grant no exemptions in cases of rape or incest.  https://t.co/JFPbezxOn4\n",
      "1509319620456497159 2022-03-31 09:00:13 +0900 <nytimes> The Academy of Motion Picture Arts and Sciences said Wednesday that Will Smith was asked to leave the Oscars ceremony after slapping Chris Rock, and said that it was initiating disciplinary proceedings.  https://t.co/5wh9Ywgbn2  https://t.co/vAdkXXZaRp\n",
      "[!] No more data! Scraping will stop now.\n",
      "found 0 deleted tweets in this search.\n",
      "1510195393337909250 2022-04-02 19:00:14 +0900 <nytimes> In Sunday’s presidential runoff, Costa Rican voters will decide between a candidate found to have sexually harassed junior employees at the World Bank and a former president once accused of political corruption.  https://t.co/YxDTa1rS4r\n",
      "1510180269411741698 2022-04-02 18:00:08 +0900 <nytimes> Polls and interviews show many Russians now accept President Putin’s assertion that their country is under siege from the West and had no choice but to attack. The war’s opponents are leaving the country or keeping quiet.  https://t.co/ACsLJA9hXw\n",
      "1510165193690697728 2022-04-02 17:00:14 +0900 <nytimes> The war in Ukraine has highlighted the risks of U.S. dependence on Russia for the fuel needed for nuclear energy, creating new challenges for the industry.  https://t.co/SzF8YJSkvW\n",
      "1510150058292957185 2022-04-02 16:00:05 +0900 <nytimes> The Russian soprano Anna Netrebko, one of opera’s biggest stars, is being called a traitor in her home country after she tried to distance herself from Putin's war in Ukraine. She previously lost work in the West over her ties to the Russian president.  https://t.co/BmYGve7y7o\n",
      "1510134990121623554 2022-04-02 15:00:13 +0900 <nytimes> The lead-up to the Grammy Awards has involved controversy over a last-minute ballot change, Covid-19 cases, a nominee’s death and, of course, The Slap. But producers say the show will be ready.  https://t.co/EGyAJL2A1D\n",
      "1510119865482457090 2022-04-02 14:00:07 +0900 <nytimes> Global warming is greatly increasing the risk that heavy rainfall will follow extreme wildfires in the American West, a new study has found, highlighting the need for better preparations for hazards like mudslides and flash floods.  https://t.co/kg83GSf4dv\n",
      "1510105245631848449 2022-04-02 13:02:01 +0900 <nytimes> In a new special, the stand-up comic Jerrod Carmichael reveals that he is gay and has been lying about it for years. Stylishly directed by Bo Burnham, the special, “Rothaniel,” grapples with the roots of his silence — and the price of breaking it.  https://t.co/xBWIKQDHWy\n",
      "1510102744023154690 2022-04-02 12:52:05 +0900 <nytimes> UConn defeated the reigning champion Stanford in the NCAA women’s Final Four, and will play South Carolina in Sunday’s title game.  https://t.co/Z55LqkOovd\n",
      "1510099725323808770 2022-04-02 12:40:05 +0900 <nytimes> Every Friday, our pop critics weigh in on the week’s most notable new songs and videos.   \"In 'As It Was,' Harry Styles latches on to the kind of peppy electro-pop that the Weeknd updated from groups like a-ha,\" writes @JonPareles.  https://t.co/P6KjAAivIS\n",
      "1510097202403856384 2022-04-02 12:30:03 +0900 <nytimes> The Pentagon provided Congress with details of $300 million in security assistance it will be providing to Ukraine, according to a statement from the Defense Department emailed to reporters Friday night.  https://t.co/uz2MUFRJXL\n",
      "1510092177350742026 2022-04-02 12:10:05 +0900 <nytimes> The Yale University Art Gallery has surrendered 13 items from its collection to investigators who say they believe the artifacts from South Asia were looted.  https://t.co/pxOotL0pUv\n",
      "1510089666162266114 2022-04-02 12:00:07 +0900 <nytimes> Western diplomats and independent military analysts say the Russian pullback from Kyiv is real, a sign that Moscow’s initial strategy has failed in the face of grave planning failures, logistical problems and fierce and effective Ukrainian resistance.  https://t.co/RDQAQ892pd\n",
      "1510084632922013696 2022-04-02 11:40:07 +0900 <nytimes> Here are 10 new books recommended by critics and editors at The New York Times.  https://t.co/tOa4HDne4D\n",
      "1510082126305189893 2022-04-02 11:30:09 +0900 <nytimes> Former Gov. Andrew Cuomo sued New York’s ethics commission on Friday, contending that its efforts to force him to turn over the proceeds of a $5.1 million book deal were a violation of his constitutional rights.  https://t.co/JsEfGa6x18\n",
      "1510074576306331654 2022-04-02 11:00:09 +0900 <nytimes> It’s hard to say with certainty that cannabis will increase desire or improve sex, but anecdotal evidence suggests that the right dose can make a woman’s orgasms more satisfying and increase sex drive.  https://t.co/BDCSAmeEtL\n",
      "1510067009551278085 2022-04-02 10:30:05 +0900 <nytimes> Breaking News: The Biden administration will work with allies to transfer Soviet-made tanks to bolster Ukrainian defenses, the first time the U.S. has done so.  https://t.co/TxAH9vuIsk\n",
      "1510062721450053633 2022-04-02 10:13:03 +0900 <nytimes> South Carolina, the top-ranked women’s basketball team in the U.S., will get a shot at a national championship after beating Louisville, 72-59.  https://t.co/iXPuNmUVOc\n",
      "1510059518750769154 2022-04-02 10:00:19 +0900 <nytimes> In Opinion  Every Republican who votes against confirming Judge Ketanji Brown Jackson’s Supreme Court nomination “will be complicit in the abuse that the Republican members of the Judiciary Committee heaped on her,” Linda Greenhouse writes.  https://t.co/wbMLKRkDry\n",
      "1510054433060798466 2022-04-02 09:40:06 +0900 <nytimes> The English singer and composer Tom Rosenthal has released an April Fools’ Day song every year since 2018. This year, the joke is that he partnered “with Wordle” to release a song that contains only five-letter words.  https://t.co/ueadwJrPAn\n",
      "1510050662498902017 2022-04-02 09:25:07 +0900 <nytimes> Sarah Palin is joining the crowded race for Alaska’s lone congressional seat, which was left vacant by the unexpected death of Don Young.  https://t.co/lIWXXZbNca\n",
      "1510044388965113862 2022-04-02 09:00:12 +0900 <nytimes> At 26, Sammy Basso is believed to be the oldest person with Progeria, an exceedingly rare and fatal disease that afflicts only about one in 18 million people. And now he’s researching it, hoping to find a treatment and the secrets of aging.  https://t.co/W7jdD0UGnh\n",
      "1510041836399874048 2022-04-02 08:50:03 +0900 <nytimes> \"Americans are back to work,\" President Biden said on Friday after the country's jobs report for March showed strong gains in hiring. He also highlighted the rise in wages and acknowledged concerns about inflation.  https://t.co/hCtiStuo5y  https://t.co/7Lmhjq3R9O\n",
      "1510035581212016656 2022-04-02 08:25:12 +0900 <nytimes> Breaking News: Will Smith, who slapped the comedian Chris Rock at the Oscars, said he was resigning from the Academy of Motion Picture Arts and Sciences.  https://t.co/wovv3Oo3FZ  https://t.co/DID2mo6VAo\n",
      "1510029255140331530 2022-04-02 08:00:04 +0900 <nytimes> Ukraine’s army claims to be in control of dozens of towns to the west and east of Kyiv where some of the most intense fighting of the war has happened. If the stated gains hold up, it would mark the largest shift in fighting around the capital in weeks.  https://t.co/D70MfQ1Ft1\n",
      "1510024233048489985 2022-04-02 07:40:06 +0900 <nytimes> Standing outside the Brooklyn office where Amazon unionization ballots were tallied, Christian Smalls, a former employee who started organizing workers before he was fired, popped a bottle of champagne: “To the first Amazon union in American history.\"  https://t.co/flfFQyzM69  https://t.co/nc8oA211Ct\n",
      "1510018444971888643 2022-04-02 07:17:06 +0900 <nytimes> Breaking News: A judge denied Ghislaine Maxwell a new trial. She had requested one because a juror failed to disclose his history of being sexually abused.  https://t.co/h7IZLRkXNF\n",
      "1510014240853303298 2022-04-02 07:00:24 +0900 <nytimes> Russia's invasion of Ukraine has pushed Europe, after years of hesitation, to reduce its dependence on Russian oil and gas, @LizAldermanNYT said. Listen to the whole conversation with @PatcohenNYT, @fbirol and @Dlgoldwyn.  https://t.co/lLRw83NtYV  https://t.co/MdGcqw5dGR\n",
      "1510010397285404673 2022-04-02 06:45:08 +0900 <nytimes> Hope Solo, a two-time Olympic gold medalist and former star goalkeeper for the U.S. soccer team, was arrested on Thursday in North Carolina and charged with impaired driving, resisting arrest and misdemeanor child abuse, the police said.  https://t.co/vvJxl7QYNb\n",
      "1510007873153216513 2022-04-02 06:35:06 +0900 <nytimes> Two low-flying Ukrainian helicopters crossed into Russian territory early Friday and fired on an oil depot in the city of Belgorod, a regional governor said — the first time Russia has reported a Ukrainian airstrike on its territory since the war began.  https://t.co/LRzAFogyxd  https://t.co/eoMatzd91w\n",
      "1510006645828562951 2022-04-02 06:30:13 +0900 <nytimes> Nancy Milford, the biographer of women who helped light up the Jazz Age — Zelda Fitzgerald, the “original flapper” and wife of F. Scott Fitzgerald, and the poet Edna St. Vincent Millay — died on Tuesday. She was 84.  https://t.co/EgHhpJA3mY\n",
      "1510002829364191234 2022-04-02 06:15:03 +0900 <nytimes> The Russian soprano Anna Netrebko, one of opera’s biggest stars, is being called a traitor in her home country after she tried to distance herself from Putin's war in Ukraine. She previously lost work in the West over her ties to the Russian president.  https://t.co/jGIjKY2Cp5\n",
      "1509999097427730435 2022-04-02 06:00:13 +0900 <nytimes> Amazon workers voted to unionize in a New York warehouse, in one of the biggest wins for organized labor in a generation.  In 2020, we interviewed Christian Smalls, who was fired by Amazon after protesting safety conditions and now is the union’s leader.  https://t.co/vCod2WY6lU\n",
      "1509995294670344200 2022-04-02 05:45:07 +0900 <nytimes> Student loan borrowers are supposed to resume payments next month for the first time in more than two years — but virtually no one involved in the collection process thinks that will happen, even though no extension has been announced.  https://t.co/jHZ98Xn5Cj\n",
      "1509991499395702792 2022-04-02 05:30:02 +0900 <nytimes> A former Yale School of Medicine administrator pleaded guilty this week to defrauding the university of $40 million over a decade by purchasing and reselling computer equipment to pay for luxury vehicles, real estate and vacations.  https://t.co/mYLjwEXZ3A\n",
      "1509987753576046596 2022-04-02 05:15:09 +0900 <nytimes> Turkey moved another step closer to transferring the trial for the murder of the Saudi dissident journalist Jamal Khashoggi to Saudi Arabia, effectively ending a case that rights groups hoped could offer a measure of justice.  https://t.co/yfDhll5N6O\n",
      "1509984004132548611 2022-04-02 05:00:15 +0900 <nytimes> The Canadian singer-songwriter Joni Mitchell will make a rare televised appearance at the Grammys on Sunday night. She has kept a very low public profile since she had an aneurysm in 2015, and spent subsequent years in gradual recovery.  https://t.co/BSBn6VyLiE\n",
      "1509980182718951425 2022-04-02 04:45:04 +0900 <nytimes> Polls and interviews show many Russians now accept President Putin’s assertion that their country is under siege from the West and had no choice but to attack. The war’s opponents are leaving the country or keeping quiet.  https://t.co/B8E5kqKRZm\n",
      "1509977173964333056 2022-04-02 04:33:06 +0900 <nytimes> New York leaders blew past a midnight deadline on Thursday to reach agreement on a new state budget. Here’s a quick look at where negotiations lie on some outstanding issues, from more money for child care to takeout alcohol.  https://t.co/oxtzPXifNr\n",
      "1509973905305448452 2022-04-02 04:20:07 +0900 <nytimes> The U.S. learned its World Cup schedule at the tournament's draw on Friday. The Americans' match will be  on the first day, Nov. 21, against the winner of a June European playoff: either Scotland, Wales or Ukraine.  https://t.co/uw2RKW4oie\n",
      "1509971757205270531 2022-04-02 04:11:35 +0900 <nytimes> Breaking News: New York City will seek to keep its school mask mandate for children under 5 amid a rise in cases involving the BA.2 Omicron subvariant.  https://t.co/m4N9qsThaJ\n",
      "1509968926360363029 2022-04-02 04:00:20 +0900 <nytimes> With gasoline prices surging after the Russian invasion of Ukraine and images receding of last summer’s climate disasters, Republicans and oil companies are newly emboldened in calling for more drilling, imperiling President Biden's climate ambitions.  https://t.co/y6Fu7Le8Gl\n",
      "1509965094989754368 2022-04-02 03:45:07 +0900 <nytimes> Friday’s World Cup draw assigned groups to the 29 teams that have qualified for the tournament in Qatar in November. But three playoff spots — including one in the group with England, Iran and the U.S. — won’t be determined until June.  https://t.co/WGjNnqsRVE\n",
      "1509961318421479428 2022-04-02 03:30:06 +0900 <nytimes> A 12-year-old boy was arrested on murder and weapons charges in the fatal shooting of a 12-year-old classmate at their South Carolina middle school on Thursday.  https://t.co/yaGhkB8Lr2\n",
      "1509956290805653506 2022-04-02 03:10:08 +0900 <nytimes> At 26, Sammy Basso is believed to be the oldest person with Progeria, an exceedingly rare and fatal disease that afflicts only about one in 18 million people. And now he’s researching it, hoping to find a treatment and the secrets of aging.  https://t.co/1eRGoNgg7x  https://t.co/2gsbjtXcVk\n",
      "1509952622895190018 2022-04-02 02:55:33 +0900 <nytimes> A planned large-scale evacuation of civilians from Mariupol facilitated by the Red Cross failed on Friday, dashing hopes of easing the humanitarian crisis in the city, which has been besieged by Russian forces for weeks.  https://t.co/LdoeH61vIz\n",
      "1509951320727461893 2022-04-02 02:50:23 +0900 <nytimes> The CDC announced on Friday that it would lift an emergency public health order that had restricted immigration at U.S. land borders since the beginning of the pandemic. Republicans immediately condemned the decision.  https://t.co/4SWkQ9W1fP\n",
      "1509946218998382602 2022-04-02 02:30:06 +0900 <nytimes> \"Putin is not the force he used to be\": Britain’s defense minister said that Russia’s army was \"exhausted\" and that its reputation \"has been trashed\" because of President Vladimir Putin's decision to invade Ukraine.  https://t.co/tGsXhkj8al  https://t.co/r6orvRlsQB\n",
      "1509943724259876869 2022-04-02 02:20:11 +0900 <nytimes> The U.S. soccer team will face England, a formidable rival, in Qatar in November. Follow the World Cup draw with our live analysis.  https://t.co/3A0WzSHVlA\n",
      "1509942452605669377 2022-04-02 02:15:08 +0900 <nytimes> President Biden is out of money to pay for basic means of protecting people during the pandemic, including vaccines. Republicans have refused to sign off on new spending, stating that state surpluses should be repurposed for urgent national priorities.  https://t.co/Jjr4hHcCYE\n",
      "1509938663861460999 2022-04-02 02:00:05 +0900 <nytimes> The House passed legislation on Friday to decriminalize marijuana at the federal level. Three Republicans joined Democrats to pass the measure, but it is unlikely to secure 60 votes to pass the Senate.  https://t.co/0Udgyibh7x  https://t.co/0tJqrtGaUc\n",
      "1509938403718139906 2022-04-02 01:59:03 +0900 <nytimes> The Staten Island warehouse, known as JFK8, was the subject of a New York Times investigation last year, which found that it was emblematic of the stresses in Amazon’s employment model. Read the full story here.  https://t.co/fz8IyvYtXf\n",
      "1509934899612033052 2022-04-02 01:45:07 +0900 <nytimes> The war in Ukraine has driven up the cost of food across East Africa, which is facing what could be its worst drought in four decades. Malnourished children are filling hospitals and many families are walking long distances to find help.  https://t.co/Z5cshQkLAy\n",
      "1509933257604964357 2022-04-02 01:38:36 +0900 <nytimes> Breaking News: Amazon workers voted to unionize at a massive New York warehouse, in a stunning win for a campaign targeting the second-largest employer in the U.S. and one of the biggest victories for organized labor in a generation.  https://t.co/Jy5WDa21j4\n",
      "1509929357770436608 2022-04-02 01:23:06 +0900 <nytimes> The U.S. Fish and Wildlife Service informed some hunters last month that it would allow the import of six elephant trophies into the U.S. from Zimbabwe. The African elephant carcasses will be the first allowed into the country in five years.  https://t.co/2uIinfDrbe\n",
      "1509928598010044424 2022-04-02 01:20:05 +0900 <nytimes> Jen Psaki, the White House press secretary, is in advanced talks to join MSNBC after she leaves the Biden administration, according to two people familiar with the negotiations. She could leave the White House as soon as next month, one of the people said.  https://t.co/GqmGB1iWmM\n",
      "1509926084950867969 2022-04-02 01:10:06 +0900 <nytimes> Fake videos of the war in Ukraine are popping up across the internet. The New York Times Visual Investigations team has a rigorous process for confirming (or disputing) the authenticity of videos and images. This is how they verify content.  https://t.co/xVIOm04jN6\n",
      "1509923567097556994 2022-04-02 01:00:06 +0900 <nytimes> Two low-flying Ukrainian helicopters crossed into Russian territory early Friday and fired on an oil depot in the city of Belgorod, a regional governor said — the first time Russia has reported a Ukrainian airstrike on its territory since the war began.  https://t.co/LA8CKJBFA1  https://t.co/5qEArPIFkh\n",
      "1509921035633713160 2022-04-02 00:50:02 +0900 <nytimes> A small avalanche on a desolate Russian mountain, harming no one and quickly erased by the wind, does not usually make news. Unless it happens close to where nine Russian hikers died more than 60 years ago, in a mystery that has confounded investigators.  https://t.co/vSLmlsbGUB\n",
      "1509918544141725703 2022-04-02 00:40:08 +0900 <nytimes> A 12-year-old boy sitting in a parked car in Brooklyn was fatally shot on Thursday night after his family stopped to eat, the police said. The boy was hit multiple times and was pronounced dead at the scene.  https://t.co/Na5NproDbu\n",
      "1509917265210363912 2022-04-02 00:35:03 +0900 <nytimes> In a speech in Doha on Thursday ahead of the World Cup draw, the head of Norway’s soccer federation, Lise Klaveness, expressed concerns about Qatar’s human rights record and criticized FIFA for a lack of leadership on important issues.  https://t.co/8ftt4sAbYm  https://t.co/CSWdEDkwLY\n",
      "1509912246595596293 2022-04-02 00:15:07 +0900 <nytimes> With gasoline prices surging after the Russian invasion of Ukraine and images receding of last summer’s climate disasters, Republicans and oil companies are newly emboldened in calling for more drilling, imperiling President Biden's climate ambitions.  https://t.co/yD0YCTqBTK  https://t.co/bygyTFRf7P\n",
      "1509908463626850311 2022-04-02 00:00:05 +0900 <nytimes> The planned effort to evacuate civilians from Mariupol remained \"extremely complex,\" the Red Cross warned on Friday, despite indications from an adviser to the mayor’s office that some buses had begun taking people out of the city.  https://t.co/IEbbANKuKk\n",
      "1509904699994038274 2022-04-01 23:45:07 +0900 <nytimes> Testimony about an alleged plot to kidnap Michigan's governor, one of the highest-profile domestic terrorism cases in recent memory, provided a glimpse into increasingly violent discourse among some on the far right. Closing arguments are expected Friday.  https://t.co/ed6GiALyIn\n",
      "1509900932359860239 2022-04-01 23:30:09 +0900 <nytimes> In Opinion  The U.S. and NATO “should be less deferential to Mr. Putin’s attempt to wield the threat of nuclear weapons,” say Steven Simon and Jonathan Stevenson, who teach and write about history and politics, in a guest essay.  https://t.co/5jDhKat1oA\n",
      "1509893395917025286 2022-04-01 23:00:12 +0900 <nytimes> Inflation in the 19 countries that use the euro hit 7.5% last month as Russia’s invasion of Ukraine pushes up food and energy prices. Energy costs jumped nearly 45% in March from a year ago.  https://t.co/vdewPRJpq4\n",
      "1509885555412279299 2022-04-01 22:29:03 +0900 <nytimes> In Opinion  A Disney executive producer’s recorded remarks defending the company’s queer friendliness have “blown up on the right,” Michelle Goldberg writes. The renascent moral panic “combines elements of QAnon with old tropes about gay predators.”  https://t.co/oghEsXNodg\n",
      "1509883313544179714 2022-04-01 22:20:08 +0900 <nytimes> A Covid outbreak is ravaging a hospital in Shanghai for older adults, pointing to an unfolding health care crisis in China’s largest city.  People have died on each of the past three days at the facility, two workers said in an interview.  https://t.co/Q6Si0ia83F\n",
      "1509878282216513542 2022-04-01 22:00:09 +0900 <nytimes> The World Cup draw — part gala, part pep rally, part math seminar — will take place Friday at noon, Eastern time, in Qatar. Here's a look at how it works.  https://t.co/ZjGdOaVYYk\n",
      "1509872452674936837 2022-04-01 21:36:59 +0900 <nytimes> Breaking News: The U.S. hiring spree continued in March, with employers adding 431,000 jobs, another sign of the economy’s resilience amid uncertainty. The unemployment rate was 3.6%, down from 3.8% a month earlier.  https://t.co/01QmNXaJsz\n",
      "1509870464491048960 2022-04-01 21:29:05 +0900 <nytimes> President Vladimir Putin of Russia is “a man in a cage he built himself” because of his decision to invade Ukraine, and he has damaged both his own nation and its army, Britain’s defense minister said.  https://t.co/TgAbXgnw2U\n",
      "1509865715708448790 2022-04-01 21:10:13 +0900 <nytimes> Will Packer, the lead producer of the Oscars telecast, said he urged the Academy leadership not to “physically remove” Will Smith after he slapped Chris Rock and was asked to leave.  Packer believed Rock didn’t want to “make a bad situation worse,” he said. https://t.co/cAszGKcGV3\n",
      "1509864177304809476 2022-04-01 21:04:06 +0900 <nytimes> Edith Kanaka‘ole, a native Hawaiian hula teacher who celebrated and preserved ancient traditions and language, will appear on the U.S. quarter next year.  She is among five notable women whose faces will be pressed on the coins.  https://t.co/gefa0M8BRN\n",
      "1509863169941987335 2022-04-01 21:00:06 +0900 <nytimes> Russia has mounted a brutal siege on Mariupol, Ukraine, framing it as the key to a war of liberation. In reality, it’s a campaign against a city that is critical to Russia’s strategy.  What is happening in Mariupol? Listen to today’s episode of The Daily.  https://t.co/AAzgQVvdCN\n",
      "1509860638918680582 2022-04-01 20:50:02 +0900 <nytimes> Evacuations have begun in the besieged city of Mariupol, according to an adviser to the mayor’s office, after Russia agreed to open a humanitarian corridor there.  Follow our updates on Ukraine.  https://t.co/n4xVPP13KH\n",
      "1509855670782283779 2022-04-01 20:30:18 +0900 <nytimes> Two Ukrainian helicopters crossed into Russian territory and fired on an oil depot in the city of Belgorod, injuring two people, a regional governor said. It is the first Ukrainian airstrike Russia has reported on its territory since the start of the war.  https://t.co/ZMPpOhC3OL  https://t.co/XjNMQCiXmi\n",
      "1509853035635388425 2022-04-01 20:19:50 +0900 <nytimes> Breaking News: Pope Francis apologized for the Roman Catholic Church’s role in a system of Canadian schools that abused Indigenous children for 100 years. He also promised to visit Canada as part of a process of healing and reconciliation.  https://t.co/OjDnsLycH6\n",
      "1509852093439426565 2022-04-01 20:16:05 +0900 <nytimes> The U.S. Navy will name a new ship after the late Supreme Court Justice Ruth Bader Ginsburg.  The ship will join a class of vessels named after those who have fought for civil and human rights, including Harvey Milk, Robert F. Kennedy and Sojourner Truth.  https://t.co/T1RDtIUw7w\n",
      "1509848328682590208 2022-04-01 20:01:07 +0900 <nytimes> The UN’s nuclear watchdog is looking into reports that some Russian soldiers who left the shuttered Chernobyl nuclear plant have radiation poisoning. They pulled out on Thursday, five weeks after seizing it, Ukraine’s state-run energy company said.  https://t.co/OZOqLSSogV\n",
      "1509844546242424838 2022-04-01 19:46:06 +0900 <nytimes> The EU is holding its first summit with China in two years, with tensions high over Beijing’s support for Russia’s war in Ukraine, its record on human rights and its trade boycott of Lithuania for hosting a representative office of Taiwan.  https://t.co/j2YH1ecvkG\n",
      "1509840001089085441 2022-04-01 19:28:02 +0900 <nytimes> A 12-year-old boy sitting in a parked car in Brooklyn was fatally shot on Thursday night after his family stopped to eat, the police said. The boy was hit multiple times and was pronounced dead at the scene.  https://t.co/4M9dIAWuPK\n",
      "1509836742228070401 2022-04-01 19:15:05 +0900 <nytimes> People cheered, honked their horns and set off fireworks as the land border between Malaysia and Singapore fully reopened for the first time since the pandemic began, local news media reported.  https://t.co/GUqrZ5gqga\n",
      "1509833005300396032 2022-04-01 19:00:14 +0900 <nytimes> A law keeps personal census data secret for 72 years. The 1950 census goes public on Friday, a bonanza for historians and the merely curious.  https://t.co/NCuAbTXaOj\n",
      "1509825676391727118 2022-04-01 18:31:07 +0900 <nytimes> China’s unforgiving Covid control measures and the potential fallout from its support for Russia have prompted “increasingly anxious questions about the country’s path,” our columnist @LiYuan6 writes.  https://t.co/jcfwV2cgUC\n",
      "1509821651382419473 2022-04-01 18:15:07 +0900 <nytimes> When anti-vaccination protesters finally cleared out of New Zealand’s Parliament grounds after three weeks, they left behind a surprise: cannabis seeds.  “We are weeding out the weed,” the speaker of Parliament said after the plants began to grow.  https://t.co/gtmUIVjti1\n",
      "1509817943231807513 2022-04-01 18:00:23 +0900 <nytimes> The police said five fetuses had been removed from a home in Washington that, according to an anti-abortion group, belonged to an activist who was charged with blocking access to an abortion clinic in October 2020.  https://t.co/gVKeMWeDXJ\n",
      "1509815358152228881 2022-04-01 17:50:07 +0900 <nytimes> Patrick Demarchelier, a French fashion photographer and the personal portraitist of Princess Diana, died on Thursday at 78. He was most famous for his work with Vogue and Harper's Bazaar.  https://t.co/dS2mBWsvQN\n",
      "1509809543349518350 2022-04-01 17:27:00 +0900 <nytimes> Here’s a look at some of the highlights worth watching from late-night TV.  https://t.co/anZrlId1c7\n",
      "1509806785863036928 2022-04-01 17:16:03 +0900 <nytimes> Hundreds of Syrian fighters are en route to join Russian forces in Ukraine, effectively returning the favor to Moscow for helping President Bashar al-Assad crush rebels in an 11-year civil war, according to two people monitoring the flow of mercenaries.  https://t.co/zGViylkE3v\n",
      "1509802800066269184 2022-04-01 17:00:12 +0900 <nytimes> Unmarried mothers and other women who were considered unwanted in Ireland were incarcerated to work without pay in compounds called Magdalene laundries. The last surviving one, in Dublin, will be preserved as a memorial, the government said.  https://t.co/Aq3QNzO4vt\n",
      "1509799241937723398 2022-04-01 16:46:04 +0900 <nytimes> Two Ukrainian helicopters crossed into Russian territory and fired on an oil depot in the city of Belgorod, injuring two people, a regional governor said. It is the first Ukrainian airstrike Russia has reported on its territory since the start of the war.  https://t.co/4prgyfysgf\n",
      "1509787682465009682 2022-04-01 16:00:08 +0900 <nytimes> An owl that lived six million years ago in China offers clues into the evolutionary forces that transformed this bird — and other species — into the equivalent of a morning person.   https://t.co/lsGuyfn7UL\n",
      "1509772574753968147 2022-04-01 15:00:06 +0900 <nytimes> Jared Leto bares his teeth in “Morbius,” playing a neo-vampire who walks by day and tries to keep his monstrous thirst at bay in the latest Marvel adaptation.  https://t.co/q9as5HXKog\n",
      "1509757479491711005 2022-04-01 14:00:07 +0900 <nytimes> In the early days of the pandemic, while others were baking sourdough bread and learning how to knit, Annie Rauwerda started her own project: sharing bizarre and surprising snippets from Wikipedia.  https://t.co/SJd0cUXPcV\n",
      "1509742366101487622 2022-04-01 13:00:04 +0900 <nytimes> Several psychedelic drugs are touted as effective treatments for drug and alcohol abuse, but one is emerging as the most effective.  https://t.co/Zfju6T3wul\n",
      "1509737320597102600 2022-04-01 12:40:01 +0900 <nytimes> Prime Minister Imran Khan of Pakistan refused to resign in a defiant speech on Thursday, doubling down on his allegations of a foreign conspiracy against him and deepening a political crisis that has embroiled the country for weeks.  https://t.co/tpLB5Gqxfv\n",
      "1509734846221926404 2022-04-01 12:30:11 +0900 <nytimes> Ukrainian officials said the country had dispatched a convoy of 45 buses on Thursday to evacuate people trapped in Mariupol after Russia agreed to a cease-fire. Hours later, a deputy prime minister said that the convoy had been stopped by Russian forces.  https://t.co/amFlrovsao\n",
      "1509727310710284296 2022-04-01 12:00:14 +0900 <nytimes> Russia is running its military campaign against Ukraine out of Moscow, with no central war commander on the ground to call the shots, according to American officials who have studied the five-week-old war.  https://t.co/SPNJJZsCh2\n",
      "1509722228912447492 2022-04-01 11:40:03 +0900 <nytimes> The Biden administration has introduced  https://t.co/cduwKDmd2D, meant to help Americans who are infected with the virus find the treatment they need quickly and at no cost. This new phase aims to help the U.S. transition to “living with the virus.”    https://t.co/Y98NWBrHiK\n",
      "1509712169058897924 2022-04-01 11:00:04 +0900 <nytimes> A bill to limit the cost of insulin to $35 a month for most Americans who depend on it passed the House on Thursday. To become law, the bill will need to attract at least 10 Republican votes in the Senate to overcome a filibuster.  https://t.co/E0FkuiRN6P\n",
      "1509707138863616005 2022-04-01 10:40:05 +0900 <nytimes> Gov. Doug Ducey of Arizona signed legislation requiring voters to prove their citizenship in order to vote in a presidential election, swiftly drawing a legal challenge from voting rights activists.  https://t.co/BjwdgMyPNW\n",
      "1509699580316860417 2022-04-01 10:10:03 +0900 <nytimes> Few big residential projects in New York City have been built without a lucrative tax break, known as 421a, which now costs the city $1.77 billion in lost tax revenue every year. But the future of the program, which is set to expire in June, is tenuous.  https://t.co/x8GZhCndMk\n",
      "1509694552986300421 2022-04-01 09:50:04 +0900 <nytimes> A law keeps personal census data secret for 72 years. The 1950 census goes public on Friday, a bonanza for historians and the merely curious.  https://t.co/rLCkybleho\n",
      "1509687016732123140 2022-04-01 09:20:08 +0900 <nytimes> President Biden announced on Thursday that the U.S. would release up to 180 million barrels of oil from a strategic reserve to counteract the economic impact of Russia’s invasion of Ukraine.  https://t.co/86ha1QTWVn  https://t.co/ZDxwm36APQ\n",
      "1509681995525328901 2022-04-01 09:00:10 +0900 <nytimes> A Republican judge declared New York’s legislative maps were unconstitutional, citing “bias” by Democrats who redrew them. Democrats vowed to appeal.  https://t.co/VcK0n7Ds73\n",
      "[!] No more data! Scraping will stop now.\n",
      "found 0 deleted tweets in this search.\n"
     ]
    }
   ],
   "source": [
    "import twint\n",
    "import nest_asyncio\n",
    "config = twint.Config()\n",
    "\n",
    "d_begin = \"2022-03-12\"\n",
    "d_end = \"2022-04-02\"\n",
    "daily_datarange = pd.date_range(start=d_begin,\n",
    "                                end=d_end ,\n",
    "                                freq='b')\n",
    "\n",
    "nest_asyncio.apply()\n",
    "tweet_ids = []\n",
    "tweet_urls  = []\n",
    "\n",
    "for start_i in range(0, len(daily_datarange), 1):\n",
    "    c = twint.Config()\n",
    "    c.Username = \"nytimes\"   \n",
    "    c.Pandas = True\n",
    "    \n",
    "    c.Since = str(daily_datarange[start_i].strftime(\"%Y-%m-%d\"))\n",
    "    c.Until = str((daily_datarange[start_i] + datetime.timedelta(days=2)).strftime(\"%Y-%m-%d\"))\n",
    "    c.Store_csv = True\n",
    "    c.Custom_csv = [\"id\", \"user_id\", \"username\", \"tweet\"]\n",
    "    c.Output = (\"C:/Users/13a71/Dropbox/github/crawler/tweeter crawler/twint/nyt/{}.csv\".format(c.Since))\n",
    "    c.Filter_retweets = True\n",
    "    # Run\n",
    "    twint.run.Search(c)\n",
    "    \n",
    "    \n",
    "    tweet_urls.extend([str(tweet.urls) for tweet in tweet_ids])\n"
   ]
  },
  {
   "cell_type": "markdown",
   "metadata": {},
   "source": [
    "# load url\n",
    "- 지금은 url을 별도 폴더에 r에서 받아와서 불러오고 있다.\n",
    "- 차후 수정"
   ]
  },
  {
   "cell_type": "code",
   "execution_count": 7,
   "metadata": {
    "ExecuteTime": {
     "end_time": "2022-02-04T02:42:24.181859Z",
     "start_time": "2022-02-04T02:42:23.330621Z"
    },
    "scrolled": true
   },
   "outputs": [],
   "source": [
    "searchlist = pd.read_excel('~/documents/nyt_raw_tweet0402.xlsx').urls"
   ]
  },
  {
   "cell_type": "code",
   "execution_count": 8,
   "metadata": {
    "ExecuteTime": {
     "end_time": "2022-02-04T02:42:24.586852Z",
     "start_time": "2022-02-04T02:42:24.566834Z"
    }
   },
   "outputs": [],
   "source": [
    "#Open/reset progressbar and dataframes\n",
    "pbar = ProgressBar()\n",
    "\n",
    "#Create dataframe for storing article contents\n",
    "content_df = pd.DataFrame(columns=['date', 'title','category', 'author', 'content', 'url'])\n",
    "\n",
    "#Create dataframe for errorlist\n",
    "error_df = pd.DataFrame(columns=['url'])\n",
    "\n",
    "#Set headers\n",
    "headers = {'User-Agent': 'Mozilla/5.0 (X11; Linux x86_64) AppleWebKit/537.36 (KHTML, like Gecko) Chrome/67.0.3396.99 Safari/537.36'}"
   ]
  },
  {
   "cell_type": "code",
   "execution_count": 9,
   "metadata": {
    "ExecuteTime": {
     "end_time": "2022-02-04T02:42:26.556980Z",
     "start_time": "2022-02-04T02:42:25.277176Z"
    },
    "scrolled": false
   },
   "outputs": [],
   "source": [
    "import re\n",
    "import requests\n",
    "from datetime import datetime\n",
    "from bs4 import BeautifulSoup, Tag\n",
    "from nltk.tokenize import sent_tokenize\n",
    "from time import gmtime, strftime\n",
    "\n",
    "def now():\n",
    "    \"\"\"\n",
    "    Returns\n",
    "    -------\n",
    "    Current time : str\n",
    "        eg: 2018-11-22 13:35:23\n",
    "    \"\"\"\n",
    "    return strftime(\"%Y-%m-%d-%W %H:%M:%S\", gmtime())\n",
    "\n",
    "def get_soup(url, headers=None):\n",
    "    \"\"\"\n",
    "    Arguments\n",
    "    ---------\n",
    "    url : str\n",
    "        Web page url\n",
    "    headers : dict\n",
    "        Headers for requests. If None, use Mozilla/5.0 as default user-agent\n",
    "\n",
    "    Returns\n",
    "    -------\n",
    "    soup : bs4.BeautifulSoup\n",
    "        Soup format web page\n",
    "    \"\"\"\n",
    "\n",
    "    if headers is None:\n",
    "        headers = {'User-Agent': 'Mozilla/5.0 (X11; Linux x86_64) AppleWebKit/537.36 (KHTML, like Gecko) Chrome/67.0.3396.99 Safari/537.36'}\n",
    "    r = requests.get(url, headers=headers)\n",
    "    html = r.text\n",
    "    page = BeautifulSoup(html, 'lxml')\n",
    "    return page\n",
    "\n",
    "doublespace_pattern = re.compile('\\s+')\n",
    "lineseparator_pattern = re.compile('\\n+')\n",
    "\n",
    "def normalize_text(text):\n",
    "    text = text.replace('\\t', ' ')\n",
    "    text = text.replace('\\r', ' ')\n",
    "    text = lineseparator_pattern.sub('\\n', text)\n",
    "    text = doublespace_pattern.sub(' ', text)\n",
    "    text = ' '.join(sent_tokenize(text))\n",
    "    return text.strip()\n"
   ]
  },
  {
   "cell_type": "code",
   "execution_count": 10,
   "metadata": {
    "ExecuteTime": {
     "end_time": "2022-02-04T02:42:26.661982Z",
     "start_time": "2022-02-04T02:42:26.588985Z"
    },
    "scrolled": true
   },
   "outputs": [],
   "source": [
    "def parse_article(input_url):\n",
    "    soup = get_soup(input_url)\n",
    "        \n",
    "    # get url in soup\n",
    "    try:\n",
    "        links_all= soup.find_all('link')\n",
    "        links = [url['href'] for url in links_all if \"nytimes\" in url['href']]\n",
    "        link = links[0]\n",
    "    except:\n",
    "        link = ''\n",
    "            \n",
    "    #Get Kicker (catergory)\n",
    "    try:\n",
    "        kicker = soup.find('span', class_='kicker-label').text\n",
    "    except:\n",
    "        try:\n",
    "            kicker = link.split('/')[-2]\n",
    "        except:\n",
    "            print('No Kicker' + input_url)\n",
    "            kicker = \"\"\n",
    "\n",
    "    #Get the title\n",
    "    try:\n",
    "        title = soup.select('h1')[0].text\n",
    "        #print(title)\n",
    "    except:\n",
    "        title =''\n",
    "\n",
    "        #Try to get the subtitle[24:34]\n",
    "\n",
    "        #Get date and strip\n",
    "    try:\n",
    "        date = soup.find('time')['datetime'][:10]\n",
    "    except:\n",
    "        try:\n",
    "            raw_date = link[24:34]\n",
    "            date = datetime.strptime(raw_date, \"%Y/%m/%d\")\n",
    "        except:\n",
    "            try:\n",
    "                date = url[24:34]  \n",
    "            except:\n",
    "                print('No date'  + input_url)\n",
    "                date = \"\"\n",
    "\n",
    "    #Get author\n",
    "    try:\n",
    "        author = soup.select('p[itemprop^=author]')[0].text\n",
    "    except:\n",
    "        author =  ''\n",
    "\n",
    "    #Get body text and strip advertisement\n",
    "    try:\n",
    "        content = ''\n",
    "        body = content.join(p.text.replace(\",\", \"\") for p in soup.find_all('p')[2:-1])\n",
    "    except:\n",
    "        body = \"\"\n",
    "        #print (body)\n",
    "        \n",
    "    json_object = {\n",
    "        'date': date,\n",
    "        'title': title,\n",
    "        'subtitle': '',\n",
    "        'content': body,\n",
    "        'source': 'New York Times',\n",
    "        'url': input_url,\n",
    "        'category' : kicker\n",
    "        }\n",
    "    return json_object"
   ]
  },
  {
   "cell_type": "code",
   "execution_count": 11,
   "metadata": {
    "ExecuteTime": {
     "end_time": "2022-02-04T03:14:38.738162Z",
     "start_time": "2022-02-04T02:42:28.178907Z"
    },
    "scrolled": true
   },
   "outputs": [
    {
     "name": "stderr",
     "output_type": "stream",
     "text": [
      "  0% |                                                                        |\r"
     ]
    },
    {
     "name": "stdout",
     "output_type": "stream",
     "text": [
      "scraped Fatal Texa\n",
      "scraped 6 Injured \n",
      "scraped Russia Tar\n",
      "scraped Russia Tar\n",
      "scraped Kyiv’s Sub\n",
      "scraped The Omicro\n",
      "scraped A judge th\n",
      "scraped What Happe\n"
     ]
    },
    {
     "name": "stderr",
     "output_type": "stream",
     "text": [
      "  1% |                                                                        |\r"
     ]
    },
    {
     "name": "stdout",
     "output_type": "stream",
     "text": [
      "scraped What New Y\n",
      "scraped How Long S\n",
      "scraped Deshaun Wa\n",
      "scraped On (Not) W\n",
      "scraped Stocks not\n",
      "scraped When Your \n",
      "scraped The Secret\n",
      "scraped U.S. warns\n",
      "scraped Mail Ballo\n"
     ]
    },
    {
     "name": "stderr",
     "output_type": "stream",
     "text": [
      "  2% |#                                                                       |\r"
     ]
    },
    {
     "name": "stdout",
     "output_type": "stream",
     "text": [
      "scraped How Long S\n",
      "scraped What Happe\n",
      "scraped What Happe\n",
      "scraped Eugene N. \n",
      "scraped What Happe\n",
      "scraped As diploma\n",
      "scraped As Offices\n",
      "scraped With Zero \n",
      "scraped What Happe\n"
     ]
    },
    {
     "name": "stderr",
     "output_type": "stream",
     "text": [
      "  3% |##                                                                      |\r"
     ]
    },
    {
     "name": "stdout",
     "output_type": "stream",
     "text": [
      "scraped Two Years \n",
      "scraped What Happe\n",
      "scraped Asian Amer\n",
      "scraped Who Should\n",
      "scraped Where Stat\n",
      "scraped A ‘Lost Ci\n",
      "scraped Russia’s B\n",
      "scraped What Happe\n",
      "scraped Opponents \n"
     ]
    },
    {
     "name": "stderr",
     "output_type": "stream",
     "text": [
      "  4% |###                                                                     |\r"
     ]
    },
    {
     "name": "stdout",
     "output_type": "stream",
     "text": [
      "scraped Nations Sh\n",
      "scraped Hong Kong \n",
      "scraped What New Y\n",
      "scraped Citizens o\n",
      "scraped ‘American \n",
      "scraped Janet MacP\n",
      "scraped China’s In\n",
      "scraped School Vid\n",
      "scraped John Clayt\n"
     ]
    },
    {
     "name": "stderr",
     "output_type": "stream",
     "text": [
      "  5% |###                                                                     |\r"
     ]
    },
    {
     "name": "stdout",
     "output_type": "stream",
     "text": [
      "scraped A General \n",
      "scraped While Puti\n",
      "scraped Trucker Pr\n",
      "scraped A ‘Lost Ci\n",
      "scraped ‘I Still J\n",
      "scraped In a New C\n",
      "scraped N.C.A.A. W\n",
      "scraped Overlooked\n",
      "scraped In a Twist\n"
     ]
    },
    {
     "name": "stderr",
     "output_type": "stream",
     "text": [
      "  6% |####                                                                    |\r"
     ]
    },
    {
     "name": "stdout",
     "output_type": "stream",
     "text": [
      "scraped Michael Bu\n",
      "scraped Men’s N.C.\n",
      "scraped Five Afric\n",
      "scraped Another Co\n",
      "this url is error\n",
      "scraped Deadly Str\n",
      "scraped ‘They Keep\n",
      "scraped What Happe\n",
      "scraped Man Posing\n"
     ]
    },
    {
     "name": "stderr",
     "output_type": "stream",
     "text": [
      "  7% |#####                                                                   |\r"
     ]
    },
    {
     "name": "stdout",
     "output_type": "stream",
     "text": [
      "this url is error\n",
      "scraped Michelle Y\n",
      "scraped What Happe\n",
      "scraped The New Yo\n",
      "scraped The Battle\n",
      "scraped Ukrainians\n",
      "scraped Undergroun\n",
      "scraped In Art and\n",
      "scraped Confusion \n"
     ]
    },
    {
     "name": "stderr",
     "output_type": "stream",
     "text": [
      "  8% |######                                                                  |\r"
     ]
    },
    {
     "name": "stdout",
     "output_type": "stream",
     "text": [
      "scraped Ukraine Re\n",
      "scraped Maps: Trac\n",
      "scraped Citizens o\n",
      "scraped Citizens o\n",
      "scraped Putin Isn’\n",
      "scraped Russia’s a\n",
      "scraped What Happe\n",
      "scraped Jen Psaki,\n",
      "scraped 6 Oklahoma\n"
     ]
    },
    {
     "name": "stderr",
     "output_type": "stream",
     "text": [
      "  9% |#######                                                                 |\r"
     ]
    },
    {
     "name": "stdout",
     "output_type": "stream",
     "text": [
      "scraped What Happe\n",
      "scraped Day 2 High\n",
      "scraped Day 2 High\n",
      "scraped Venezuelan\n",
      "scraped Disney Emp\n",
      "scraped Utah Gover\n",
      "scraped MacKenzie \n",
      "scraped How Emily \n",
      "scraped ‘OK Doomer\n"
     ]
    },
    {
     "name": "stderr",
     "output_type": "stream",
     "text": [
      " 10% |#######                                                                 |\r"
     ]
    },
    {
     "name": "stdout",
     "output_type": "stream",
     "text": [
      "scraped A Starbuck\n",
      "scraped What Happe\n",
      "scraped TotalEnerg\n",
      "scraped Coronaviru\n",
      "scraped The Unseen\n",
      "scraped No Survivo\n",
      "scraped Here’s the\n",
      "scraped Day 2 High\n",
      "scraped Kanye West\n"
     ]
    },
    {
     "name": "stderr",
     "output_type": "stream",
     "text": [
      " 12% |########                                                                |\r"
     ]
    },
    {
     "name": "stdout",
     "output_type": "stream",
     "text": [
      "scraped Ginni Thom\n",
      "scraped Counteroff\n",
      "scraped Kids as Yo\n",
      "scraped Maps: Trac\n",
      "scraped ‘Is There \n",
      "scraped U.S. House\n",
      "scraped U.S. Ties \n",
      "scraped What Quest\n",
      "scraped The U.N. G\n"
     ]
    },
    {
     "name": "stderr",
     "output_type": "stream",
     "text": [
      " 13% |#########                                                               |\r"
     ]
    },
    {
     "name": "stdout",
     "output_type": "stream",
     "text": [
      "scraped The Power \n",
      "scraped Why the U.\n",
      "scraped Counteroff\n",
      "scraped Oscars 202\n",
      "scraped Ketanji Br\n",
      "scraped Most Ameri\n",
      "scraped Ethiopia D\n",
      "scraped Caught in \n",
      "scraped How One Mo\n"
     ]
    },
    {
     "name": "stderr",
     "output_type": "stream",
     "text": [
      " 14% |##########                                                              |\r"
     ]
    },
    {
     "name": "stdout",
     "output_type": "stream",
     "text": [
      "scraped Stephen Wi\n",
      "scraped Biden Admi\n",
      "scraped QAnon Chee\n",
      "scraped Counteroff\n",
      "scraped Counteroff\n",
      "scraped He Was a P\n",
      "scraped Here’s How\n",
      "scraped Is America\n",
      "scraped Counteroff\n"
     ]
    },
    {
     "name": "stderr",
     "output_type": "stream",
     "text": [
      " 15% |###########                                                             |\r"
     ]
    },
    {
     "name": "stdout",
     "output_type": "stream",
     "text": [
      "scraped Counteroff\n",
      "scraped Basketball\n",
      "scraped The U.S. l\n",
      "scraped What We Kn\n",
      "scraped Oscars Rew\n",
      "scraped Students P\n",
      "scraped A Second T\n",
      "scraped Counteroff\n",
      "scraped What We Kn\n"
     ]
    },
    {
     "name": "stderr",
     "output_type": "stream",
     "text": [
      " 16% |###########                                                             |\r"
     ]
    },
    {
     "name": "stdout",
     "output_type": "stream",
     "text": [
      "scraped Covid News\n",
      "scraped NATO boost\n",
      "scraped Belarusian\n",
      "scraped What We Kn\n",
      "scraped Uber Partn\n",
      "scraped A C.D.C. a\n",
      "scraped Maps: Trac\n",
      "scraped 4 Die Afte\n",
      "scraped Thanks to \n"
     ]
    },
    {
     "name": "stderr",
     "output_type": "stream",
     "text": [
      " 17% |############                                                            |\r"
     ]
    },
    {
     "name": "stdout",
     "output_type": "stream",
     "text": [
      "scraped Counteroff\n",
      "this url is error\n",
      "scraped Biden Admi\n",
      "scraped Russian cr\n",
      "scraped 12 Teenage\n",
      "scraped Counteroff\n",
      "scraped Zelensky c\n",
      "scraped Ukraine Pu\n",
      "this url is error\n"
     ]
    },
    {
     "name": "stderr",
     "output_type": "stream",
     "text": [
      " 18% |#############                                                           |\r"
     ]
    },
    {
     "name": "stdout",
     "output_type": "stream",
     "text": [
      "scraped Ukrainian \n",
      "scraped Brittney G\n",
      "scraped Ginni and \n",
      "scraped Ukrainian \n",
      "scraped Mandatory \n",
      "scraped Supreme Co\n",
      "scraped Utah Legis\n",
      "scraped Gaffes and\n",
      "scraped Will Getti\n"
     ]
    },
    {
     "name": "stderr",
     "output_type": "stream",
     "text": [
      " 19% |##############                                                          |\r"
     ]
    },
    {
     "name": "stdout",
     "output_type": "stream",
     "text": [
      "scraped Deshaun Wa\n",
      "scraped Russia Say\n",
      "scraped British Mu\n",
      "scraped Russia Say\n",
      "scraped Russia Say\n",
      "scraped ‘The Gains\n",
      "scraped Trilobite \n",
      "scraped She Was a \n",
      "scraped Russia Say\n"
     ]
    },
    {
     "name": "stderr",
     "output_type": "stream",
     "text": [
      " 20% |##############                                                          |\r"
     ]
    },
    {
     "name": "stdout",
     "output_type": "stream",
     "text": [
      "scraped Takeaways \n",
      "scraped Hillary Cl\n",
      "scraped Judge Thro\n",
      "scraped Maps: Trac\n",
      "scraped Russia Say\n",
      "scraped Russia Say\n",
      "scraped Museums Ar\n",
      "scraped Russia Say\n",
      "scraped Russia Say\n"
     ]
    },
    {
     "name": "stderr",
     "output_type": "stream",
     "text": [
      " 21% |###############                                                         |\r"
     ]
    },
    {
     "name": "stdout",
     "output_type": "stream",
     "text": [
      "scraped ‘Everythin\n",
      "scraped Russia Say\n",
      "scraped Making Sen\n",
      "scraped ‘Like a We\n",
      "scraped A New Inte\n",
      "scraped Hay House:\n",
      "scraped The Wallpa\n",
      "scraped Russia Say\n",
      "scraped Bad Tiding\n"
     ]
    },
    {
     "name": "stderr",
     "output_type": "stream",
     "text": [
      " 22% |################                                                        |\r"
     ]
    },
    {
     "name": "stdout",
     "output_type": "stream",
     "text": [
      "scraped New Antivi\n",
      "scraped ‘The Lost \n",
      "scraped Ted Cruz’s\n",
      "scraped Russia Say\n",
      "scraped Justice Cl\n",
      "scraped Manchin Ba\n",
      "scraped Russia Say\n",
      "scraped The Monste\n",
      "scraped Putin Care\n"
     ]
    },
    {
     "name": "stderr",
     "output_type": "stream",
     "text": [
      " 24% |#################                                                       |\r"
     ]
    },
    {
     "name": "stdout",
     "output_type": "stream",
     "text": [
      "scraped Russia Say\n",
      "scraped Israel to \n",
      "scraped U.S. and E\n",
      "scraped Russia Say\n",
      "scraped Russia Say\n",
      "scraped Russia Say\n",
      "scraped Russia Say\n",
      "scraped Why the U.\n",
      "scraped About 300 \n"
     ]
    },
    {
     "name": "stderr",
     "output_type": "stream",
     "text": [
      " 25% |##################                                                      |\r"
     ]
    },
    {
     "name": "stdout",
     "output_type": "stream",
     "text": [
      "scraped ‘The Dream\n",
      "scraped Russia Say\n",
      "scraped Russia Say\n",
      "scraped How the 20\n",
      "scraped Long on Eu\n",
      "scraped Russia Say\n",
      "scraped America Th\n",
      "scraped Sri Lanka \n",
      "scraped Ginni Thom\n"
     ]
    },
    {
     "name": "stderr",
     "output_type": "stream",
     "text": [
      " 26% |##################                                                      |\r"
     ]
    },
    {
     "name": "stdout",
     "output_type": "stream",
     "text": [
      "scraped Covid Upda\n",
      "scraped Nebraska C\n",
      "scraped ‘Pachinko’\n",
      "scraped China and \n",
      "scraped Jimmy Kimm\n",
      "scraped ‘Can’t Cop\n",
      "scraped After a Ha\n",
      "scraped One of Eur\n",
      "scraped Russia Say\n"
     ]
    },
    {
     "name": "stderr",
     "output_type": "stream",
     "text": [
      " 27% |###################                                                     |\r"
     ]
    },
    {
     "name": "stdout",
     "output_type": "stream",
     "text": [
      "scraped China’s Pu\n",
      "scraped 如何在一个坏消息不断\n",
      "scraped N.C.A.A. M\n",
      "scraped China and \n",
      "scraped Counteroff\n",
      "No Kickerhttps://nyti.ms/36INlgW\n",
      "scraped JavaScript\n",
      "scraped Miami Beac\n",
      "scraped In Putin’s\n",
      "scraped Ex-Party P\n"
     ]
    },
    {
     "name": "stderr",
     "output_type": "stream",
     "text": [
      " 28% |####################                                                    |\r"
     ]
    },
    {
     "name": "stdout",
     "output_type": "stream",
     "text": [
      "scraped A Virginia\n",
      "scraped Inside New\n",
      "scraped N.C.A.A. M\n",
      "scraped Jan. 6 Pan\n",
      "scraped Ukraine Tr\n",
      "scraped Methane Le\n",
      "scraped Even Trees\n",
      "scraped With U.S. \n",
      "scraped Counteroff\n"
     ]
    },
    {
     "name": "stderr",
     "output_type": "stream",
     "text": [
      " 29% |#####################                                                   |\r"
     ]
    },
    {
     "name": "stdout",
     "output_type": "stream",
     "text": [
      "scraped A Bomb Cra\n",
      "scraped Mandatory \n",
      "scraped Trump Is G\n",
      "scraped Counteroff\n",
      "scraped ‘A Frighte\n",
      "scraped ‘A Frighte\n",
      "scraped ‘A Frighte\n",
      "scraped China East\n",
      "scraped Booker tel\n"
     ]
    },
    {
     "name": "stderr",
     "output_type": "stream",
     "text": [
      " 30% |######################                                                  |\r"
     ]
    },
    {
     "name": "stdout",
     "output_type": "stream",
     "text": [
      "scraped What We Kn\n",
      "scraped Counteroff\n",
      "scraped What We Kn\n",
      "scraped The W.H.O.\n",
      "scraped What We Kn\n",
      "scraped Fed Up Wit\n",
      "scraped Counteroff\n",
      "scraped In Reversa\n",
      "scraped What’s in \n"
     ]
    },
    {
     "name": "stderr",
     "output_type": "stream",
     "text": [
      " 31% |######################                                                  |\r"
     ]
    },
    {
     "name": "stdout",
     "output_type": "stream",
     "text": [
      "scraped Counteroff\n",
      "scraped What We Kn\n",
      "scraped Late Night\n",
      "scraped With U.S. \n",
      "scraped What We Kn\n",
      "scraped I’m the Pr\n",
      "scraped Another ‘O\n",
      "scraped Divorce Is\n",
      "scraped With U.S. \n"
     ]
    },
    {
     "name": "stderr",
     "output_type": "stream",
     "text": [
      " 32% |#######################                                                 |\r"
     ]
    },
    {
     "name": "stdout",
     "output_type": "stream",
     "text": [
      "scraped Counteroff\n",
      "scraped Brittney G\n",
      "scraped Coronaviru\n",
      "scraped Ucrania le\n",
      "scraped The Biden \n",
      "scraped Cities Los\n",
      "scraped $12 Billio\n",
      "scraped Covid Upda\n",
      "scraped Moderna to\n"
     ]
    },
    {
     "name": "stderr",
     "output_type": "stream",
     "text": [
      " 33% |########################                                                |\r"
     ]
    },
    {
     "name": "stdout",
     "output_type": "stream",
     "text": [
      "scraped What Happe\n",
      "scraped China Find\n",
      "scraped Airlines a\n",
      "scraped Brothers, \n",
      "scraped Madeleine \n",
      "scraped What Happe\n",
      "scraped Read the F\n",
      "scraped U.S. Makes\n",
      "scraped N.C.A.A. W\n"
     ]
    },
    {
     "name": "stderr",
     "output_type": "stream",
     "text": [
      " 34% |#########################                                               |\r"
     ]
    },
    {
     "name": "stdout",
     "output_type": "stream",
     "text": [
      "scraped 100 Years \n",
      "scraped Biden to I\n",
      "scraped A history \n",
      "scraped As Adams T\n",
      "scraped Taylor Haw\n",
      "scraped Tanya’s Si\n",
      "scraped Bhangra Is\n",
      "scraped In a First\n",
      "scraped Israel Sum\n"
     ]
    },
    {
     "name": "stderr",
     "output_type": "stream",
     "text": [
      " 36% |#########################                                               |\r"
     ]
    },
    {
     "name": "stdout",
     "output_type": "stream",
     "text": [
      "scraped 2022 Oscar\n",
      "scraped Here’s How\n",
      "scraped Oscars 202\n",
      "scraped Where to S\n",
      "scraped Here’s Wha\n",
      "scraped Texts Show\n",
      "scraped Biden deno\n",
      "scraped Pretending\n",
      "scraped In Georgia\n"
     ]
    },
    {
     "name": "stderr",
     "output_type": "stream",
     "text": [
      " 37% |##########################                                              |\r"
     ]
    },
    {
     "name": "stdout",
     "output_type": "stream",
     "text": [
      "scraped The Making\n",
      "scraped A Desperat\n",
      "scraped Olivia Mil\n",
      "scraped How Black \n",
      "scraped Here’s Wha\n",
      "scraped Here’s Wha\n",
      "scraped Here’s Wha\n",
      "scraped Here’s Wha\n",
      "scraped Here’s Wha\n"
     ]
    },
    {
     "name": "stderr",
     "output_type": "stream",
     "text": [
      " 38% |###########################                                             |\r"
     ]
    },
    {
     "name": "stdout",
     "output_type": "stream",
     "text": [
      "scraped Debra Mess\n",
      "scraped Biden Admi\n",
      "scraped Taylor Haw\n",
      "scraped Here’s Wha\n",
      "scraped Taylor Haw\n",
      "scraped Here’s Wha\n",
      "scraped Descendant\n",
      "scraped Hotelier’s\n",
      "scraped Streaming \n"
     ]
    },
    {
     "name": "stderr",
     "output_type": "stream",
     "text": [
      " 39% |############################                                            |\r"
     ]
    },
    {
     "name": "stdout",
     "output_type": "stream",
     "text": [
      "scraped Public Hea\n",
      "scraped Here’s Wha\n",
      "scraped What Quest\n",
      "scraped Mideast Fe\n",
      "scraped Arizona Of\n",
      "scraped Taylor Haw\n",
      "scraped Will Getti\n",
      "No Kickerhttps://nyti.ms/3Ld07mK\n",
      "scraped JavaScript\n",
      "scraped Despite En\n"
     ]
    },
    {
     "name": "stderr",
     "output_type": "stream",
     "text": [
      " 40% |#############################                                           |\r"
     ]
    },
    {
     "name": "stdout",
     "output_type": "stream",
     "text": [
      "scraped Ukrainians\n",
      "scraped El Aeropue\n",
      "scraped Four Best \n",
      "scraped 12 New Boo\n",
      "scraped Taylor Haw\n",
      "scraped In a First\n",
      "scraped Biden Admi\n",
      "scraped How St. Pe\n",
      "scraped N.C.A.A. M\n"
     ]
    },
    {
     "name": "stderr",
     "output_type": "stream",
     "text": [
      " 41% |#############################                                           |\r"
     ]
    },
    {
     "name": "stdout",
     "output_type": "stream",
     "text": [
      "scraped Biden Admi\n",
      "scraped Sarah Lawr\n",
      "scraped Dagny Carl\n",
      "scraped Biden Sign\n",
      "scraped California\n",
      "scraped Here’s Wha\n",
      "scraped In Kyiv Su\n",
      "scraped The U.S. a\n",
      "scraped Americans,\n"
     ]
    },
    {
     "name": "stderr",
     "output_type": "stream",
     "text": [
      " 42% |##############################                                          |\r"
     ]
    },
    {
     "name": "stdout",
     "output_type": "stream",
     "text": [
      "scraped Here’s Wha\n",
      "scraped Reports of\n",
      "scraped Here’s Wha\n",
      "scraped Hopes for \n",
      "scraped Oscars aud\n",
      "scraped The BA.2 s\n",
      "scraped Jada Pinke\n",
      "scraped Maps: Trac\n",
      "scraped Experts wa\n"
     ]
    },
    {
     "name": "stderr",
     "output_type": "stream",
     "text": [
      " 43% |###############################                                         |\r"
     ]
    },
    {
     "name": "stdout",
     "output_type": "stream",
     "text": [
      "scraped The Slap W\n",
      "scraped N.F.L. to \n",
      "scraped Four Opini\n",
      "scraped What Are t\n",
      "scraped Britain de\n",
      "scraped Reports of\n",
      "scraped Palestinia\n",
      "scraped Snow Squal\n",
      "scraped More Priva\n"
     ]
    },
    {
     "name": "stderr",
     "output_type": "stream",
     "text": [
      " 44% |################################                                        |\r"
     ]
    },
    {
     "name": "stdout",
     "output_type": "stream",
     "text": [
      "scraped How 2 Indu\n",
      "scraped Should You\n",
      "scraped How Russia\n",
      "scraped Why Am I B\n",
      "scraped Prince And\n",
      "scraped Here’s Wha\n",
      "scraped Here’s Wha\n",
      "scraped Contemplat\n",
      "scraped Ginni Thom\n"
     ]
    },
    {
     "name": "stderr",
     "output_type": "stream",
     "text": [
      " 45% |#################################                                       |\r"
     ]
    },
    {
     "name": "stdout",
     "output_type": "stream",
     "text": [
      "scraped More worke\n",
      "scraped Condé Nast\n",
      "scraped Here’s Wha\n",
      "scraped Covid News\n",
      "scraped The U.S. a\n",
      "scraped Snow Squal\n",
      "scraped M.I.T. Wil\n",
      "scraped Bobcats Wi\n",
      "scraped Here’s Wha\n"
     ]
    },
    {
     "name": "stderr",
     "output_type": "stream",
     "text": [
      " 47% |#################################                                       |\r"
     ]
    },
    {
     "name": "stdout",
     "output_type": "stream",
     "text": [
      "scraped Hillsong, \n",
      "scraped Texas Wild\n",
      "scraped Here’s Wha\n",
      "scraped Here’s Wha\n",
      "scraped Here’s Wha\n",
      "scraped Shanghai’s\n",
      "scraped Here’s Wha\n",
      "scraped The War Is\n",
      "scraped New Focus \n"
     ]
    },
    {
     "name": "stderr",
     "output_type": "stream",
     "text": [
      " 48% |##################################                                      |\r"
     ]
    },
    {
     "name": "stdout",
     "output_type": "stream",
     "text": [
      "scraped Senator Jo\n",
      "scraped A Brutal R\n",
      "scraped Desperate \n",
      "scraped With a Cen\n",
      "scraped Do Russian\n",
      "scraped Solomon Is\n",
      "scraped Late Night\n",
      "scraped London Pol\n",
      "scraped Where to S\n"
     ]
    },
    {
     "name": "stderr",
     "output_type": "stream",
     "text": [
      " 49% |###################################                                     |\r"
     ]
    },
    {
     "name": "stdout",
     "output_type": "stream",
     "text": [
      "scraped Lo que hay\n",
      "scraped Here’s Wha\n",
      "scraped Will Smith\n",
      "scraped How ‘Bridg\n",
      "scraped Rumble, th\n",
      "scraped Brian Flor\n",
      "scraped FedEx’s fo\n",
      "scraped Supreme Co\n",
      "scraped Louisville\n"
     ]
    },
    {
     "name": "stderr",
     "output_type": "stream",
     "text": [
      " 50% |####################################                                    |\r"
     ]
    },
    {
     "name": "stdout",
     "output_type": "stream",
     "text": [
      "scraped Uber Close\n",
      "scraped Here’s Wha\n",
      "scraped Bobcats Wi\n",
      "scraped M.I.T. Wil\n",
      "scraped Coronaviru\n",
      "scraped For UConn,\n",
      "scraped Ukraine Cl\n",
      "scraped Missing Fr\n",
      "scraped Here’s Wha\n"
     ]
    },
    {
     "name": "stderr",
     "output_type": "stream",
     "text": [
      " 51% |#####################################                                   |\r"
     ]
    },
    {
     "name": "stdout",
     "output_type": "stream",
     "text": [
      "scraped Will Black\n",
      "scraped Where to S\n",
      "scraped Will Smith\n",
      "scraped Local Elec\n",
      "scraped Does the A\n",
      "scraped Will Smith\n",
      "scraped The F.D.A.\n",
      "scraped What Is Al\n",
      "scraped Budget Hig\n"
     ]
    },
    {
     "name": "stderr",
     "output_type": "stream",
     "text": [
      " 52% |#####################################                                   |\r"
     ]
    },
    {
     "name": "stdout",
     "output_type": "stream",
     "text": [
      "scraped The True C\n",
      "scraped Budget Hig\n",
      "scraped The Friend\n",
      "scraped Women Are \n",
      "scraped Budget Hig\n",
      "scraped Here’s Wha\n",
      "scraped Would Puti\n",
      "scraped Snow Squal\n",
      "scraped New Supply\n"
     ]
    },
    {
     "name": "stderr",
     "output_type": "stream",
     "text": [
      " 53% |######################################                                  |\r"
     ]
    },
    {
     "name": "stdout",
     "output_type": "stream",
     "text": [
      "scraped Disney say\n",
      "scraped Supreme Co\n",
      "scraped Will Smith\n",
      "scraped Here’s Wha\n",
      "scraped ‘High-Rise\n",
      "scraped Jan. 6 Pan\n",
      "scraped DeSantis S\n",
      "scraped Budget Hig\n",
      "scraped A Desperat\n"
     ]
    },
    {
     "name": "stderr",
     "output_type": "stream",
     "text": [
      " 54% |#######################################                                 |\r"
     ]
    },
    {
     "name": "stdout",
     "output_type": "stream",
     "text": [
      "scraped 94th Acade\n",
      "scraped Under Fire\n",
      "scraped ‘High-Rise\n",
      "scraped Administra\n",
      "scraped Here’s Wha\n",
      "scraped Budget Hig\n",
      "scraped Biden prop\n",
      "scraped ‘Siéntese,\n",
      "scraped With a cen\n"
     ]
    },
    {
     "name": "stderr",
     "output_type": "stream",
     "text": [
      " 55% |########################################                                |\r"
     ]
    },
    {
     "name": "stdout",
     "output_type": "stream",
     "text": [
      "scraped The budget\n",
      "scraped Federal Ju\n",
      "scraped Heineken a\n",
      "scraped Will Smith\n",
      "scraped Buffalo Bi\n",
      "scraped Here’s Wha\n",
      "scraped Will Smith\n",
      "scraped Budget Hig\n",
      "scraped The Best a\n"
     ]
    },
    {
     "name": "stderr",
     "output_type": "stream",
     "text": [
      " 56% |########################################                                |\r"
     ]
    },
    {
     "name": "stdout",
     "output_type": "stream",
     "text": [
      "scraped Biden’s $5\n",
      "scraped Inside the\n",
      "scraped Covid News\n",
      "scraped Real Justi\n",
      "scraped ‘Drive My \n",
      "scraped Pope Meets\n",
      "scraped We Study V\n",
      "scraped Chris Wall\n",
      "scraped Here’s Wha\n"
     ]
    },
    {
     "name": "stderr",
     "output_type": "stream",
     "text": [
      " 57% |#########################################                               |\r"
     ]
    },
    {
     "name": "stdout",
     "output_type": "stream",
     "text": [
      "scraped Here’s Wha\n",
      "scraped Israel, U.\n",
      "scraped Onstage Sl\n",
      "scraped The Best a\n",
      "scraped Troy Kotsu\n",
      "scraped General St\n",
      "scraped Here’s Wha\n",
      "this url is error\n",
      "scraped Biden Aims\n"
     ]
    },
    {
     "name": "stderr",
     "output_type": "stream",
     "text": [
      " 59% |##########################################                              |\r"
     ]
    },
    {
     "name": "stdout",
     "output_type": "stream",
     "text": [
      "scraped Zelensky G\n",
      "scraped Will Smith\n",
      "scraped Israel, U.\n",
      "scraped When Nokia\n",
      "scraped Will Smith\n",
      "scraped Will Smith\n",
      "scraped Israel, U.\n",
      "scraped Onstage Sl\n",
      "scraped Here’s Wha\n"
     ]
    },
    {
     "name": "stderr",
     "output_type": "stream",
     "text": [
      " 60% |###########################################                             |\r"
     ]
    },
    {
     "name": "stdout",
     "output_type": "stream",
     "text": [
      "scraped Relocation\n",
      "scraped Arab Gunme\n",
      "scraped An Onstage\n",
      "scraped Big Moment\n",
      "scraped Where to E\n",
      "scraped 2022 Oscar\n",
      "scraped Big Moment\n",
      "scraped Big Moment\n",
      "scraped After Bide\n"
     ]
    },
    {
     "name": "stderr",
     "output_type": "stream",
     "text": [
      " 61% |############################################                            |\r"
     ]
    },
    {
     "name": "stdout",
     "output_type": "stream",
     "text": [
      "scraped Big Moment\n",
      "scraped Jan. 6 Pan\n",
      "scraped Will Smith\n",
      "scraped Big Moment\n",
      "scraped Big Moment\n",
      "scraped Zelensky G\n",
      "scraped Explosion \n",
      "scraped Big Moment\n",
      "scraped Big Moment\n"
     ]
    },
    {
     "name": "stderr",
     "output_type": "stream",
     "text": [
      " 62% |############################################                            |\r"
     ]
    },
    {
     "name": "stdout",
     "output_type": "stream",
     "text": [
      "scraped Big Moment\n",
      "this url is error\n",
      "scraped Big Moment\n",
      "scraped Big Moment\n",
      "scraped 2022 Oscar\n",
      "scraped ‘CODA’ Sta\n",
      "scraped How the ‘E\n",
      "scraped Big Moment\n",
      "scraped Return of \n"
     ]
    },
    {
     "name": "stderr",
     "output_type": "stream",
     "text": [
      " 63% |#############################################                           |\r"
     ]
    },
    {
     "name": "stdout",
     "output_type": "stream",
     "text": [
      "scraped Big Moment\n",
      "scraped Big Moment\n",
      "scraped The Secret\n",
      "scraped Martin Pop\n",
      "scraped Big Moment\n",
      "scraped Ariana DeB\n",
      "this url is error\n",
      "scraped Ariana DeB\n",
      "scraped \n",
      "         \n"
     ]
    },
    {
     "name": "stderr",
     "output_type": "stream",
     "text": [
      " 64% |##############################################                          |\r"
     ]
    },
    {
     "name": "stdout",
     "output_type": "stream",
     "text": [
      "scraped Big Moment\n",
      "scraped A New Wave\n",
      "No Kickerhttps://twitter.com/i/spaces/1djGXPANlNdGZ?s=20\n",
      "this url is error\n",
      "scraped Keep Getti\n",
      "scraped Will Smith\n",
      "scraped The Brilli\n",
      "scraped A Dazzling\n",
      "scraped How Aphasi\n",
      "scraped K-Pop Star\n"
     ]
    },
    {
     "name": "stderr",
     "output_type": "stream",
     "text": [
      " 65% |###############################################                         |\r"
     ]
    },
    {
     "name": "stdout",
     "output_type": "stream",
     "text": [
      "scraped Ivermectin\n",
      "scraped What Happe\n",
      "scraped After Russ\n",
      "scraped What Happe\n",
      "scraped Ivermectin\n",
      "scraped Bound by a\n",
      "scraped What Happe\n",
      "scraped Spam Texts\n",
      "scraped The Fighte\n"
     ]
    },
    {
     "name": "stderr",
     "output_type": "stream",
     "text": [
      " 66% |################################################                        |\r"
     ]
    },
    {
     "name": "stdout",
     "output_type": "stream",
     "text": [
      "scraped OPEC and R\n",
      "scraped Minnesota \n",
      "scraped U.S. intel\n",
      "scraped A Democrat\n",
      "scraped States Clo\n",
      "scraped Bruce Will\n",
      "scraped Covid News\n",
      "scraped Ex-Chief o\n",
      "scraped Flamingo N\n"
     ]
    },
    {
     "name": "stderr",
     "output_type": "stream",
     "text": [
      " 67% |################################################                        |\r"
     ]
    },
    {
     "name": "stdout",
     "output_type": "stream",
     "text": [
      "scraped ‘I Just Wa\n",
      "scraped Bruce Will\n",
      "scraped Tornado in\n",
      "scraped Covid News\n",
      "scraped Soda and B\n",
      "scraped What Happe\n",
      "scraped Biden gets\n",
      "scraped A Russian \n",
      "scraped What Happe\n"
     ]
    },
    {
     "name": "stderr",
     "output_type": "stream",
     "text": [
      " 68% |#################################################                       |\r"
     ]
    },
    {
     "name": "stdout",
     "output_type": "stream",
     "text": [
      "scraped States Clo\n",
      "scraped Women Are \n",
      "scraped 80-Car Pil\n",
      "scraped German aut\n",
      "scraped Everyone I\n",
      "scraped Quinta Bru\n",
      "scraped A new sate\n",
      "scraped What Happe\n",
      "scraped On the Spa\n"
     ]
    },
    {
     "name": "stderr",
     "output_type": "stream",
     "text": [
      " 69% |##################################################                      |\r"
     ]
    },
    {
     "name": "stdout",
     "output_type": "stream",
     "text": [
      "scraped Warring Pa\n",
      "scraped A new sate\n",
      "scraped Soda and B\n",
      "scraped ¿Tratamien\n",
      "scraped How the Uk\n",
      "scraped After Germ\n",
      "scraped What if Pu\n",
      "scraped Driven Fro\n",
      "scraped Two U.K. J\n"
     ]
    },
    {
     "name": "stderr",
     "output_type": "stream",
     "text": [
      " 71% |###################################################                     |\r"
     ]
    },
    {
     "name": "stdout",
     "output_type": "stream",
     "text": [
      "scraped Internatio\n",
      "scraped What Happe\n",
      "scraped Turing Awa\n",
      "scraped Collins to\n",
      "scraped A Mural Li\n",
      "scraped What Happe\n",
      "No Kickerhttps://twitter.com/i/spaces/1djGXPANlNdGZ\n",
      "this url is error\n",
      "scraped Family’s B\n",
      "scraped How War in\n"
     ]
    },
    {
     "name": "stderr",
     "output_type": "stream",
     "text": [
      " 72% |###################################################                     |\r"
     ]
    },
    {
     "name": "stdout",
     "output_type": "stream",
     "text": [
      "scraped The Politi\n",
      "scraped Ukraine’s \n",
      "scraped Biden Sign\n",
      "scraped Putin’s Wa\n",
      "scraped Peace Talk\n",
      "scraped Sanctioned\n",
      "scraped In Life, T\n",
      "scraped Peace Talk\n",
      "scraped The Fighte\n"
     ]
    },
    {
     "name": "stderr",
     "output_type": "stream",
     "text": [
      " 73% |####################################################                    |\r"
     ]
    },
    {
     "name": "stdout",
     "output_type": "stream",
     "text": [
      "scraped Covid News\n",
      "scraped Here’s Wha\n",
      "scraped Here’s Wha\n",
      "scraped Late Night\n",
      "scraped The Desser\n",
      "scraped Estas son \n",
      "scraped In Kyiv Su\n",
      "scraped F.D.A. All\n",
      "scraped The Wildes\n"
     ]
    },
    {
     "name": "stderr",
     "output_type": "stream",
     "text": [
      " 74% |#####################################################                   |\r"
     ]
    },
    {
     "name": "stdout",
     "output_type": "stream",
     "text": [
      "scraped Modern Lov\n",
      "scraped Joan Joyce\n",
      "scraped La guía cr\n",
      "scraped How Robots\n",
      "scraped Homeland S\n",
      "scraped Entreprene\n",
      "scraped The Fighte\n",
      "scraped After Mass\n",
      "scraped Why a Ruli\n"
     ]
    },
    {
     "name": "stderr",
     "output_type": "stream",
     "text": [
      " 75% |######################################################                  |\r"
     ]
    },
    {
     "name": "stdout",
     "output_type": "stream",
     "text": [
      "scraped G.O.P. Pre\n",
      "scraped New York’s\n",
      "scraped Pro-Russia\n",
      "scraped America Is\n",
      "scraped Here’s Wha\n",
      "scraped A NASA ast\n",
      "scraped How Russia\n",
      "scraped Call Logs \n",
      "scraped Oregon End\n"
     ]
    },
    {
     "name": "stderr",
     "output_type": "stream",
     "text": [
      " 76% |#######################################################                 |\r"
     ]
    },
    {
     "name": "stdout",
     "output_type": "stream",
     "text": [
      "scraped The Slap W\n",
      "scraped A Vow to E\n",
      "scraped The Men’s \n",
      "scraped 5 Fetuses \n",
      "scraped Paul Herma\n",
      "scraped Syrian Mer\n",
      "scraped Ben McKenz\n",
      "scraped Graham, On\n",
      "scraped A European\n"
     ]
    },
    {
     "name": "stderr",
     "output_type": "stream",
     "text": [
      " 77% |#######################################################                 |\r"
     ]
    },
    {
     "name": "stdout",
     "output_type": "stream",
     "text": [
      "scraped What Happe\n",
      "scraped The Fed’s \n",
      "scraped Want to Se\n",
      "scraped The Hyperb\n",
      "scraped Ukraine ha\n",
      "scraped What Happe\n",
      "scraped What Happe\n",
      "scraped She Took t\n",
      "scraped European l\n"
     ]
    },
    {
     "name": "stderr",
     "output_type": "stream",
     "text": [
      " 78% |########################################################                |\r"
     ]
    },
    {
     "name": "stdout",
     "output_type": "stream",
     "text": [
      "scraped What Happe\n",
      "scraped NATO sees \n",
      "scraped She Took t\n",
      "scraped Judge Rule\n",
      "scraped What Happe\n",
      "scraped Regulators\n",
      "scraped The Librar\n",
      "scraped The head o\n",
      "scraped In Europea\n"
     ]
    },
    {
     "name": "stderr",
     "output_type": "stream",
     "text": [
      " 79% |#########################################################               |\r"
     ]
    },
    {
     "name": "stdout",
     "output_type": "stream",
     "text": [
      "scraped Twenty-one\n",
      "scraped This Is Wh\n",
      "scraped Una nueva \n",
      "scraped What Happe\n",
      "scraped Powerful S\n",
      "this url is error\n",
      "scraped North Kore\n",
      "scraped Your World\n",
      "scraped Biden will\n"
     ]
    },
    {
     "name": "stderr",
     "output_type": "stream",
     "text": [
      " 80% |##########################################################              |\r"
     ]
    },
    {
     "name": "stdout",
     "output_type": "stream",
     "text": [
      "scraped The U.S. i\n",
      "scraped State Dept\n",
      "scraped Meditation\n",
      "scraped ‘Legendadd\n",
      "scraped In Europea\n",
      "scraped Bolsonaro \n",
      "scraped Curious Ab\n",
      "scraped OPEC and R\n",
      "scraped ¿Qué es la\n"
     ]
    },
    {
     "name": "stderr",
     "output_type": "stream",
     "text": [
      " 82% |###########################################################             |\r"
     ]
    },
    {
     "name": "stdout",
     "output_type": "stream",
     "text": [
      "scraped House Repu\n",
      "scraped Wall Stree\n",
      "scraped Myanmar Ju\n",
      "scraped Kenya’s Su\n",
      "scraped I’m Tired \n",
      "scraped What Happe\n",
      "scraped Moscow cal\n",
      "scraped In Hungary\n",
      "this url is error\n"
     ]
    },
    {
     "name": "stderr",
     "output_type": "stream",
     "text": [
      " 83% |###########################################################             |\r"
     ]
    },
    {
     "name": "stdout",
     "output_type": "stream",
     "text": [
      "scraped North Kore\n",
      "scraped Will Smith\n",
      "scraped A Nation o\n",
      "scraped How Aphasi\n",
      "scraped Australian\n",
      "scraped What Messa\n",
      "scraped In Hong Ko\n",
      "scraped Ivermectin\n",
      "scraped Stephen Co\n"
     ]
    },
    {
     "name": "stderr",
     "output_type": "stream",
     "text": [
      " 84% |############################################################            |\r"
     ]
    },
    {
     "name": "stdout",
     "output_type": "stream",
     "text": [
      "scraped The Brilli\n",
      "scraped Navy Plane\n",
      "scraped ‘Like Livi\n",
      "scraped Cómo domin\n",
      "scraped A Safe Rou\n",
      "scraped Christophe\n",
      "scraped Keep Getti\n",
      "scraped Women Are \n",
      "scraped Representa\n"
     ]
    },
    {
     "name": "stderr",
     "output_type": "stream",
     "text": [
      " 85% |#############################################################           |\r"
     ]
    },
    {
     "name": "stdout",
     "output_type": "stream",
     "text": [
      "scraped The C.D.C.\n",
      "scraped The Brilli\n",
      "scraped This Rap S\n",
      "scraped U.S. Seals\n",
      "scraped Will Smith\n",
      "scraped Hubble Spa\n",
      "scraped What Happe\n",
      "scraped A Casino A\n",
      "scraped Testify or\n"
     ]
    },
    {
     "name": "stderr",
     "output_type": "stream",
     "text": [
      " 86% |##############################################################          |\r"
     ]
    },
    {
     "name": "stdout",
     "output_type": "stream",
     "text": [
      "scraped Biden Plan\n",
      "scraped Justice De\n",
      "scraped 9 Who Bloc\n",
      "scraped Tornado in\n",
      "scraped Anna Netre\n",
      "scraped New York C\n",
      "scraped U.S. intel\n",
      "scraped Kentucky P\n",
      "scraped Will Smith\n"
     ]
    },
    {
     "name": "stderr",
     "output_type": "stream",
     "text": [
      " 87% |##############################################################          |\r"
     ]
    },
    {
     "name": "stdout",
     "output_type": "stream",
     "text": [
      "scraped March Jobs\n",
      "scraped Will Smith\n",
      "scraped Maps: Trac\n",
      "scraped Amazon Wor\n",
      "scraped Juror’s Er\n",
      "No Kickerhttps://nyti.ms/3NJ2OhW\n",
      "scraped JavaScript\n",
      "scraped Hope Solo,\n",
      "scraped What Happe\n",
      "scraped Nancy Milf\n"
     ]
    },
    {
     "name": "stderr",
     "output_type": "stream",
     "text": [
      " 88% |###############################################################         |\r"
     ]
    },
    {
     "name": "stdout",
     "output_type": "stream",
     "text": [
      "scraped Netrebko L\n",
      "scraped ‘We Didn’t\n",
      "scraped More natio\n",
      "scraped Former Yal\n",
      "scraped Turkey Mov\n",
      "scraped Joni Mitch\n",
      "scraped Shaken at \n",
      "scraped New York B\n",
      "scraped The U.S. m\n"
     ]
    },
    {
     "name": "stderr",
     "output_type": "stream",
     "text": [
      " 89% |################################################################        |\r"
     ]
    },
    {
     "name": "stdout",
     "output_type": "stream",
     "text": [
      "scraped Covid Live\n",
      "scraped As Gas Pri\n",
      "scraped A European\n",
      "scraped Boy Fatall\n",
      "scraped Living Wit\n",
      "scraped Red Cross \n",
      "scraped Covid Live\n",
      "scraped Ukraine Li\n",
      "scraped World Cup \n"
     ]
    },
    {
     "name": "stderr",
     "output_type": "stream",
     "text": [
      " 90% |#################################################################       |\r"
     ]
    },
    {
     "name": "stdout",
     "output_type": "stream",
     "text": [
      "scraped As Biden P\n",
      "scraped House Vote\n",
      "scraped The Amazon\n",
      "scraped War in Ukr\n",
      "scraped Amazon Wor\n",
      "scraped U.S. Allow\n",
      "scraped Jen Psaki \n",
      "scraped Verifying \n",
      "scraped What Happe\n"
     ]
    },
    {
     "name": "stderr",
     "output_type": "stream",
     "text": [
      " 91% |##################################################################      |\r"
     ]
    },
    {
     "name": "stdout",
     "output_type": "stream",
     "text": [
      "scraped Researcher\n",
      "scraped Boy, 12, I\n",
      "scraped World Cup \n",
      "scraped As Gas Pri\n",
      "scraped Ukraine Li\n",
      "scraped Jurors Beg\n",
      "scraped Why Putin \n",
      "scraped Energy pri\n",
      "scraped The Right’\n"
     ]
    },
    {
     "name": "stderr",
     "output_type": "stream",
     "text": [
      " 92% |##################################################################      |\r"
     ]
    },
    {
     "name": "stdout",
     "output_type": "stream",
     "text": [
      "scraped Outbreak a\n",
      "scraped World Cup \n",
      "scraped March Jobs\n",
      "scraped What Happe\n",
      "scraped Will Smith\n",
      "scraped Native Haw\n",
      "this url is error\n",
      "scraped What Happe\n",
      "scraped What Happe\n"
     ]
    },
    {
     "name": "stderr",
     "output_type": "stream",
     "text": [
      " 94% |###################################################################     |\r"
     ]
    },
    {
     "name": "stdout",
     "output_type": "stream",
     "text": [
      "scraped ‘I Feel Sh\n",
      "scraped U.S. Navy \n",
      "scraped A nuclear \n",
      "scraped Ukraine Li\n",
      "scraped Boy, 12, I\n",
      "scraped Covid Upda\n",
      "scraped Seven Deca\n",
      "scraped Covid, Rus\n",
      "scraped After the \n"
     ]
    },
    {
     "name": "stderr",
     "output_type": "stream",
     "text": [
      " 95% |####################################################################    |\r"
     ]
    },
    {
     "name": "stdout",
     "output_type": "stream",
     "text": [
      "scraped 5 Fetuses \n",
      "scraped Patrick De\n",
      "scraped Late Night\n",
      "scraped Syrian Mer\n",
      "scraped Ireland’s \n",
      "scraped Ukraine Li\n",
      "scraped Fossil Hol\n",
      "scraped ‘Morbius’ \n",
      "scraped Want to Se\n"
     ]
    },
    {
     "name": "stderr",
     "output_type": "stream",
     "text": [
      " 96% |#####################################################################   |\r"
     ]
    },
    {
     "name": "stdout",
     "output_type": "stream",
     "text": [
      "scraped The Next B\n",
      "scraped Imran Khan\n",
      "scraped What Happe\n",
      "scraped Russia’s W\n",
      "this url is error\n",
      "scraped House Pass\n",
      "scraped Arizona Pa\n",
      "scraped Will Endin\n",
      "scraped Seven Deca\n"
     ]
    },
    {
     "name": "stderr",
     "output_type": "stream",
     "text": [
      " 97% |######################################################################  |\r"
     ]
    },
    {
     "name": "stdout",
     "output_type": "stream",
     "text": [
      "scraped Biden will\n",
      "scraped Judge Toss\n",
      "scraped Shaken at \n",
      "scraped Russia’s A\n",
      "scraped Netrebko L\n",
      "scraped The Grammy\n",
      "scraped Fires, The\n",
      "scraped Jerrod Car\n",
      "scraped With Defen\n"
     ]
    },
    {
     "name": "stderr",
     "output_type": "stream",
     "text": [
      " 98% |######################################################################  |\r"
     ]
    },
    {
     "name": "stdout",
     "output_type": "stream",
     "text": [
      "scraped Harry Styl\n",
      "scraped Ukraine Li\n",
      "scraped Yale Museu\n",
      "scraped What Happe\n",
      "scraped 10 New Boo\n",
      "scraped Cuomo Sues\n",
      "scraped Cannabis f\n",
      "scraped U.S. Will \n",
      "scraped South Caro\n"
     ]
    },
    {
     "name": "stderr",
     "output_type": "stream",
     "text": [
      " 99% |####################################################################### |\r"
     ]
    },
    {
     "name": "stdout",
     "output_type": "stream",
     "text": [
      "scraped How Low Wi\n",
      "scraped This Man’s\n",
      "scraped Sarah Pali\n",
      "scraped Living Wit\n"
     ]
    },
    {
     "name": "stderr",
     "output_type": "stream",
     "text": [
      "100% |########################################################################|\r"
     ]
    },
    {
     "name": "stdout",
     "output_type": "stream",
     "text": [
      "scraped He Was Dem\n"
     ]
    },
    {
     "name": "stderr",
     "output_type": "stream",
     "text": [
      "\n"
     ]
    }
   ],
   "source": [
    "import json \n",
    "\n",
    "def save(json_obj, directory):\n",
    "    date = json_obj.get('date', '')\n",
    "    title = json_obj.get('title', '')\n",
    "    filepath = '{}/{}_{}.json'.format(directory, date, re.sub('[^a-zA-Z ]+',\"\", title[:50]))\n",
    "    with open(filepath, 'w', encoding='utf-8') as fp:\n",
    "        json.dump(json_obj, fp, indent=2, ensure_ascii=False)\n",
    "        print('scraped {}'.format(json_obj['title'][:10]))\n",
    "        \n",
    "## CNN SCRAPER\n",
    "directory = 'C:/Users/13a71/Documents/crawling output/nyt'\n",
    "    \n",
    "    \n",
    "for url in pbar(searchlist):\n",
    "    url = url[2:-2]\n",
    "    try:\n",
    "        article = parse_article(url)\n",
    "        save(article, directory)\n",
    "    except:\n",
    "        print('this url is error')"
   ]
  },
  {
   "cell_type": "code",
   "execution_count": 12,
   "metadata": {
    "ExecuteTime": {
     "end_time": "2021-11-26T01:21:35.801601Z",
     "start_time": "2021-11-26T01:21:35.787598Z"
    },
    "scrolled": true
   },
   "outputs": [
    {
     "data": {
      "text/html": [
       "<div>\n",
       "<style scoped>\n",
       "    .dataframe tbody tr th:only-of-type {\n",
       "        vertical-align: middle;\n",
       "    }\n",
       "\n",
       "    .dataframe tbody tr th {\n",
       "        vertical-align: top;\n",
       "    }\n",
       "\n",
       "    .dataframe thead th {\n",
       "        text-align: right;\n",
       "    }\n",
       "</style>\n",
       "<table border=\"1\" class=\"dataframe\">\n",
       "  <thead>\n",
       "    <tr style=\"text-align: right;\">\n",
       "      <th></th>\n",
       "      <th>date</th>\n",
       "      <th>title</th>\n",
       "      <th>category</th>\n",
       "      <th>author</th>\n",
       "      <th>content</th>\n",
       "      <th>url</th>\n",
       "    </tr>\n",
       "  </thead>\n",
       "  <tbody>\n",
       "  </tbody>\n",
       "</table>\n",
       "</div>"
      ],
      "text/plain": [
       "Empty DataFrame\n",
       "Columns: [date, title, category, author, content, url]\n",
       "Index: []"
      ]
     },
     "execution_count": 12,
     "metadata": {},
     "output_type": "execute_result"
    }
   ],
   "source": [
    "content_df"
   ]
  },
  {
   "cell_type": "code",
   "execution_count": null,
   "metadata": {
    "ExecuteTime": {
     "end_time": "2021-11-12T04:19:56.454574Z",
     "start_time": "2021-11-12T04:19:55.656675Z"
    },
    "scrolled": true
   },
   "outputs": [],
   "source": [
    "content_df1 = content_df.loc[content_df[\"date\"] >= \"2020-10-12\"].reset_index(drop=True)\n",
    "content_df1 = content_df1.loc[content_df1[\"date\"] <= \"2021-11-13\"].reset_index(drop=True)"
   ]
  },
  {
   "cell_type": "code",
   "execution_count": null,
   "metadata": {
    "ExecuteTime": {
     "end_time": "2021-11-12T04:19:56.604580Z",
     "start_time": "2021-11-12T04:19:56.591577Z"
    }
   },
   "outputs": [],
   "source": [
    "content_df"
   ]
  },
  {
   "cell_type": "code",
   "execution_count": null,
   "metadata": {
    "ExecuteTime": {
     "end_time": "2021-11-12T04:19:59.503601Z",
     "start_time": "2021-11-12T04:19:59.486584Z"
    },
    "scrolled": false
   },
   "outputs": [],
   "source": [
    "content_df1"
   ]
  },
  {
   "cell_type": "code",
   "execution_count": 13,
   "metadata": {
    "ExecuteTime": {
     "end_time": "2021-11-12T04:20:19.823774Z",
     "start_time": "2021-11-12T04:20:19.787766Z"
    },
    "scrolled": true
   },
   "outputs": [],
   "source": [
    "content_df.dropna(subset = [\"date\"], inplace=True)"
   ]
  },
  {
   "cell_type": "code",
   "execution_count": 14,
   "metadata": {
    "ExecuteTime": {
     "end_time": "2021-11-12T04:20:20.621339Z",
     "start_time": "2021-11-12T04:20:20.608338Z"
    },
    "scrolled": true
   },
   "outputs": [],
   "source": [
    "content_df = content_df.drop_duplicates(subset='title')"
   ]
  },
  {
   "cell_type": "code",
   "execution_count": 15,
   "metadata": {
    "ExecuteTime": {
     "end_time": "2021-11-12T04:20:25.385897Z",
     "start_time": "2021-11-12T04:20:23.409665Z"
    }
   },
   "outputs": [],
   "source": [
    "content_df.to_excel('nytimes_20220402.xlsx')\n"
   ]
  },
  {
   "cell_type": "markdown",
   "metadata": {},
   "source": [
    "## temp aggregate old"
   ]
  },
  {
   "cell_type": "code",
   "execution_count": null,
   "metadata": {},
   "outputs": [],
   "source": [
    "nyt_old = nyt_old[['date', 'title', 'category', 'author', 'content', 'url']]"
   ]
  },
  {
   "cell_type": "code",
   "execution_count": null,
   "metadata": {
    "ExecuteTime": {
     "end_time": "2021-09-20T00:01:58.192462Z",
     "start_time": "2021-09-20T00:01:58.178468Z"
    }
   },
   "outputs": [],
   "source": [
    "content_df"
   ]
  },
  {
   "cell_type": "code",
   "execution_count": null,
   "metadata": {
    "ExecuteTime": {
     "end_time": "2021-09-20T00:01:38.400034Z",
     "start_time": "2021-09-20T00:01:38.390074Z"
    }
   },
   "outputs": [],
   "source": [
    "nyt = pd.concat([nyt, content_df])"
   ]
  },
  {
   "cell_type": "code",
   "execution_count": null,
   "metadata": {
    "ExecuteTime": {
     "end_time": "2021-07-09T17:16:00.532992Z",
     "start_time": "2021-07-09T17:15:57.050Z"
    }
   },
   "outputs": [],
   "source": [
    "content_df = nyt"
   ]
  },
  {
   "cell_type": "code",
   "execution_count": null,
   "metadata": {
    "ExecuteTime": {
     "end_time": "2021-09-20T00:01:54.215614Z",
     "start_time": "2021-09-20T00:01:54.205618Z"
    }
   },
   "outputs": [],
   "source": [
    "content_df = nyt.drop_duplicates(subset='url')"
   ]
  },
  {
   "cell_type": "code",
   "execution_count": null,
   "metadata": {
    "ExecuteTime": {
     "end_time": "2021-07-10T01:06:15.949851Z",
     "start_time": "2021-07-10T01:06:15.341105Z"
    },
    "scrolled": true
   },
   "outputs": [],
   "source": [
    "content_df['date'].unique()"
   ]
  },
  {
   "cell_type": "code",
   "execution_count": null,
   "metadata": {
    "ExecuteTime": {
     "end_time": "2021-06-24T15:54:06.867188Z",
     "start_time": "2021-06-24T15:54:06.852036Z"
    }
   },
   "outputs": [],
   "source": [
    "content_df['date'][0]"
   ]
  },
  {
   "cell_type": "code",
   "execution_count": null,
   "metadata": {
    "scrolled": true
   },
   "outputs": [],
   "source": [
    "[parse(str(raw_date)).strftime(\"%Y-%m-%d\") for raw_date in content_df['date']]"
   ]
  },
  {
   "cell_type": "code",
   "execution_count": null,
   "metadata": {
    "ExecuteTime": {
     "end_time": "2021-09-20T00:03:07.481671Z",
     "start_time": "2021-09-20T00:03:07.467670Z"
    }
   },
   "outputs": [],
   "source": [
    "\n",
    "content_df.to_excel('nyt_new.xlsx')\n",
    "error_df.to_excel('nyt_peace_errors.xlsx')nytimes1"
   ]
  },
  {
   "cell_type": "code",
   "execution_count": null,
   "metadata": {
    "ExecuteTime": {
     "end_time": "2021-09-20T00:00:43.874839Z",
     "start_time": "2021-09-20T00:00:43.159739Z"
    }
   },
   "outputs": [],
   "source": [
    "nyt = pd.read_excel('C:/Users/13a71/Dropbox/github/crawler/tweeter crawler/nytimes1.xlsx')"
   ]
  },
  {
   "cell_type": "code",
   "execution_count": null,
   "metadata": {
    "scrolled": true
   },
   "outputs": [],
   "source": [
    "nyt = pd.concat([nyt, content_df])"
   ]
  },
  {
   "cell_type": "code",
   "execution_count": null,
   "metadata": {
    "scrolled": false
   },
   "outputs": [],
   "source": [
    "from collections import Counter\n",
    "from time import sleep, gmtime, strftime\n",
    "content_df['date'] = content_df['date'].strftime(\"%Y-%m-%d\")\n",
    "Counter(content_df['date']).most_common()"
   ]
  }
 ],
 "metadata": {
  "hide_input": false,
  "kernelspec": {
   "display_name": "Python 3 (ipykernel)",
   "language": "python",
   "name": "python3"
  },
  "language_info": {
   "codemirror_mode": {
    "name": "ipython",
    "version": 3
   },
   "file_extension": ".py",
   "mimetype": "text/x-python",
   "name": "python",
   "nbconvert_exporter": "python",
   "pygments_lexer": "ipython3",
   "version": "3.9.7"
  },
  "toc": {
   "base_numbering": 1,
   "nav_menu": {},
   "number_sections": true,
   "sideBar": true,
   "skip_h1_title": false,
   "title_cell": "Table of Contents",
   "title_sidebar": "Contents",
   "toc_cell": false,
   "toc_position": {},
   "toc_section_display": true,
   "toc_window_display": false
  },
  "varInspector": {
   "cols": {
    "lenName": 16,
    "lenType": 16,
    "lenVar": 40
   },
   "kernels_config": {
    "python": {
     "delete_cmd_postfix": "",
     "delete_cmd_prefix": "del ",
     "library": "var_list.py",
     "varRefreshCmd": "print(var_dic_list())"
    },
    "r": {
     "delete_cmd_postfix": ") ",
     "delete_cmd_prefix": "rm(",
     "library": "var_list.r",
     "varRefreshCmd": "cat(var_dic_list()) "
    }
   },
   "position": {
    "height": "290.384px",
    "left": "1549px",
    "right": "20px",
    "top": "38.9886px",
    "width": "350px"
   },
   "types_to_exclude": [
    "module",
    "function",
    "builtin_function_or_method",
    "instance",
    "_Feature"
   ],
   "window_display": false
  }
 },
 "nbformat": 4,
 "nbformat_minor": 2
}
