{
 "cells": [
  {
   "cell_type": "code",
   "execution_count": 1,
   "metadata": {
    "scrolled": true
   },
   "outputs": [
    {
     "name": "stdout",
     "output_type": "stream",
     "text": [
      "40 urls for all news\n",
      "40 urls for all news\n"
     ]
    }
   ],
   "source": [
    "import time\n",
    "import DoS_scraper\n",
    "from DoS_scraper import get_press_urls\n",
    "from DoS_scraper import get_briefing_urls\n",
    "\n",
    "DoS_press_urls = get_press_urls(begin_page=0, end_page=3, verbose=True)                \n",
    "print('%d urls for all news' % len(DoS_press_urls))\n",
    "\n",
    "\n",
    "DoS_breief_urls = get_briefing_urls(begin_page=0, end_page=3, verbose=True)                \n",
    "print('%d urls for all news' % len(DoS_breief_urls))\n"
   ]
  },
  {
   "cell_type": "code",
   "execution_count": 2,
   "metadata": {
    "scrolled": true
   },
   "outputs": [
    {
     "name": "stdout",
     "output_type": "stream",
     "text": [
      "title : U.S.-Mexico Joint Declaration ..\n",
      "date : 2019-06-07 ..\n",
      "content : \n",
      "The United States and Mexico met this week to address the shared challenges of irregular migration, ..\n",
      "url : https://www.state.gov/u-s-mexico-joint-declaration/ ..\n",
      "scrap_time : 2019-06-08-22 09:52:08 ..\n",
      "\n",
      "\n",
      "title : Conclusion of Negotiations with Mexico ..\n",
      "date : 2019-06-07 ..\n",
      "content : \n",
      "We would like to thank Mexican Foreign Minister Marcelo Ebrard for his hard work to negotiate a set ..\n",
      "url : https://www.state.gov/conclusion-of-negotiations-with-mexico/ ..\n",
      "scrap_time : 2019-06-08-22 09:52:08 ..\n",
      "\n",
      "\n",
      "title : Secretary Pompeo To Deliver Remarks at India Ideas Summit ..\n",
      "date : 2019-06-07 ..\n",
      "content : \n",
      "Secretary of State Michael R. Pompeo will deliver the keynote address on “The U.S. and India: An Ec ..\n",
      "url : https://www.state.gov/secretary-pompeo-to-deliver-remarks-at-india-ideas-summit/ ..\n",
      "scrap_time : 2019-06-08-22 09:52:08 ..\n",
      "\n",
      "\n",
      "title : The United States Supports Extension of Validity for Venezuelan Passports ..\n",
      "date : 2019-06-07 ..\n",
      "content : \n",
      "Today, the National Assembly published a decree signed by Interim President Juan Guaido on May 21,  ..\n",
      "url : https://www.state.gov/the-united-states-supports-extension-of-validity-for-venezuelan-passports/ ..\n",
      "scrap_time : 2019-06-08-22 09:52:08 ..\n",
      "\n",
      "\n",
      "title : Joint Statement on the Inaugural U.S.-Iceland Economic Dialogue ..\n",
      "date : 2019-06-07 ..\n",
      "content : \n",
      "The following statement was released by the Governments of the United States of America and Iceland ..\n",
      "url : https://www.state.gov/joint-statement-on-the-inaugural-u-s-iceland-economic-dialogue/ ..\n",
      "scrap_time : 2019-06-08-22 09:52:08 ..\n",
      "\n",
      "\n",
      "title : Department Press Briefing – May 30, 2019 ..\n",
      "date : 2019-05-30 ..\n",
      "content : \n",
      "\n",
      "\n",
      "\n",
      "\n",
      "\n",
      "\n",
      "\n",
      "\n",
      "\n",
      "1:12 p.m. EDT\n",
      "MS ORTAGUS: Good afternoon, everybody. So this is going to be a little bit s ..\n",
      "url : https://www.state.gov/briefings/department-press-briefing-may-30-2019/ ..\n",
      "scrap_time : 2019-06-08-22 09:52:09 ..\n",
      "\n",
      "\n",
      "title : Department Press Briefing – May 29, 2019 ..\n",
      "date : 2019-05-29 ..\n",
      "content : \n",
      "\n",
      "\n",
      "\n",
      "\n",
      "\n",
      "\n",
      "\n",
      "\n",
      "\n",
      " \n",
      "2:10 p.m. EDT\n",
      "MS ORTAGUS:  Okay. Good afternoon.\n",
      "QUESTION: Hello.\n",
      "MS ORTAGUS: I’ve got a ..\n",
      "url : https://www.state.gov/briefings/department-press-briefing-may-29-2019/ ..\n",
      "scrap_time : 2019-06-08-22 09:52:10 ..\n",
      "\n",
      "\n",
      "title : Department Press Briefing – May 28, 2019 ..\n",
      "date : 2019-05-28 ..\n",
      "content : \n",
      "1:53 p.m. EDT\n",
      "MS ORTAGUS: Okay, I’ve got three things to start off today for all of you, so we’ll g ..\n",
      "url : https://www.state.gov/briefings/department-press-briefing-may-28-2019/ ..\n",
      "scrap_time : 2019-06-08-22 09:52:11 ..\n",
      "\n",
      "\n",
      "title : Department Press Briefing – April 11, 2019 ..\n",
      "date : 2019-04-11 ..\n",
      "content : \n",
      "\n",
      "\n",
      "\n",
      "\n",
      "\n",
      "\n",
      "\n",
      "\n",
      "\n",
      "2:46p.m. EDT\n",
      "MR PALLADINO: Earlier today, Secretary of State Mike Pompeo had the honor of  ..\n",
      "url : https://www.state.gov/briefings/department-press-briefing-april-11-2019/ ..\n",
      "scrap_time : 2019-06-08-22 09:52:12 ..\n",
      "\n",
      "\n",
      "title : Department Press Briefing – April 2, 2019 ..\n",
      "date : 2019-04-02 ..\n",
      "content : \n",
      "\n",
      "\n",
      "\n",
      "\n",
      "\n",
      "\n",
      "\n",
      "\n",
      "\n",
      "2:51 p.m. EDT\n",
      "MR PALLADINO: Good afternoon. Sorry for the slightly later than expected sta ..\n",
      "url : https://www.state.gov/briefings/department-press-briefing-april-2-2019/ ..\n",
      "scrap_time : 2019-06-08-22 09:52:13 ..\n",
      "\n",
      "\n"
     ]
    }
   ],
   "source": [
    "from DoS_scraper import get_soup\n",
    "from DoS_scraper import parse_page\n",
    "\n",
    "def pprint(json_object):\n",
    "    for k, v in json_object.items():\n",
    "        print('{} : {} ..'.format(k, str(v)[:100]))\n",
    "    print('\\n')\n",
    "\n",
    "SLEEP = 0.5\n",
    "\n",
    "for url in DoS_press_urls[:5]:\n",
    "    json_object = parse_page(url)\n",
    "    pprint(json_object)\n",
    "\n",
    "for url in DoS_breief_urls[:5]:\n",
    "    json_object = parse_page(url)\n",
    "    pprint(json_object)"
   ]
  },
  {
   "cell_type": "code",
   "execution_count": 3,
   "metadata": {},
   "outputs": [
    {
     "name": "stdout",
     "output_type": "stream",
     "text": [
      "[1 / 10] (2019-06-07) U.S.-Mexico Joint Declaration\n",
      "[2 / 10] (2019-06-07) Conclusion of Negotiations with Mexico\n",
      "[3 / 10] (2019-06-07) Secretary Pompeo To Deliver Remarks at India Ideas Summit\n",
      "[4 / 10] (2019-06-07) The United States Supports Extension of Validity for Venezuelan Passports\n",
      "[5 / 10] (2019-06-07) Joint Statement on the Inaugural U.S.-Iceland Economic Dialogue\n",
      "[6 / 10] (2019-06-07) Designations Targeting Iran’s Largest Petrochemical Company for Support to Iran’s Islamic Revolutionary Guard Corps (IRGC)\n",
      "[7 / 10] (2019-06-07) Under Secretary of State for Arms Control and International Security Andrea L. Thompson Travels to Prague\n",
      "[8 / 10] (2019-06-06) Under Secretary Hale’s Call With Minister of State for Foreign Affairs Anwar Gargash of the United Arab Emirates\n",
      "[9 / 10] (2019-06-06) Deputy Secretary Sullivan’s Meeting With Greek Defense Minister Apostolakis\n",
      "[10 / 10] (2019-06-06) Joint Statement on U.S.-Greenland MOU and Hyperspectral Survey\n"
     ]
    }
   ],
   "source": [
    "from DoS_scraper import yield_latest_press\n",
    "\n",
    "begin_date = '2018-12-01'\n",
    "max_num = 10\n",
    "sleep = 1.0\n",
    "\n",
    "for i, json_obj in enumerate(yield_latest_press(begin_date, max_num, sleep)):\n",
    "    title = json_obj['title']\n",
    "    time = json_obj['date']\n",
    "    print('[{} / {}] ({}) {}'.format(i+1, max_num, time, title))\n"
   ]
  },
  {
   "cell_type": "code",
   "execution_count": 5,
   "metadata": {},
   "outputs": [
    {
     "name": "stdout",
     "output_type": "stream",
     "text": [
      "[1 / 10] (2019-05-30) Department Press Briefing – May 30, 2019\n",
      "[2 / 10] (2019-05-29) Department Press Briefing – May 29, 2019\n",
      "[3 / 10] (2019-05-28) Department Press Briefing – May 28, 2019\n",
      "[4 / 10] (2019-04-11) Department Press Briefing – April 11, 2019\n",
      "[5 / 10] (2019-04-02) Department Press Briefing – April 2, 2019\n",
      "[6 / 10] (2019-03-28) Department Press Briefing – March 28, 2019\n",
      "[7 / 10] (2019-03-26) Department Press Briefing – March 26, 2019\n",
      "[8 / 10] (2019-03-14) Department Press Briefing – March 14, 2019\n",
      "[9 / 10] (2019-03-12) Department Press Briefing – March 12, 2019\n",
      "[10 / 10] (2019-03-07) Department Press Briefing – March 7, 2019\n"
     ]
    }
   ],
   "source": [
    "\n",
    "from DoS_scraper import yield_latest_briefing\n",
    "\n",
    "begin_date = '2018-12-01'\n",
    "max_num = 10\n",
    "sleep = 1.0\n",
    "\n",
    "for i, json_obj in enumerate(yield_latest_briefing(begin_date, max_num, sleep)):\n",
    "    title = json_obj['title']\n",
    "    time = json_obj['date']\n",
    "    print('[{} / {}] ({}) {}'.format(i+1, max_num, time, title))\n",
    "    "
   ]
  }
 ],
 "metadata": {
  "kernelspec": {
   "display_name": "Python 3",
   "language": "python",
   "name": "python3"
  },
  "language_info": {
   "codemirror_mode": {
    "name": "ipython",
    "version": 3
   },
   "file_extension": ".py",
   "mimetype": "text/x-python",
   "name": "python",
   "nbconvert_exporter": "python",
   "pygments_lexer": "ipython3",
   "version": "3.7.1"
  },
  "varInspector": {
   "cols": {
    "lenName": 16,
    "lenType": 16,
    "lenVar": 40
   },
   "kernels_config": {
    "python": {
     "delete_cmd_postfix": "",
     "delete_cmd_prefix": "del ",
     "library": "var_list.py",
     "varRefreshCmd": "print(var_dic_list())"
    },
    "r": {
     "delete_cmd_postfix": ") ",
     "delete_cmd_prefix": "rm(",
     "library": "var_list.r",
     "varRefreshCmd": "cat(var_dic_list()) "
    }
   },
   "oldHeight": 122.545454,
   "position": {
    "height": "144px",
    "left": "1021.45px",
    "right": "20px",
    "top": "89px",
    "width": "249px"
   },
   "types_to_exclude": [
    "module",
    "function",
    "builtin_function_or_method",
    "instance",
    "_Feature"
   ],
   "varInspector_section_display": "block",
   "window_display": true
  }
 },
 "nbformat": 4,
 "nbformat_minor": 2
}
